{
  "cells": [
    {
      "cell_type": "markdown",
      "metadata": {
        "id": "JEvTpK2o6BH6"
      },
      "source": [
        "# Set Up\n",
        "- Download the ECG dataset hosted on kaggle. **This step requires a Kaggle API token.**\n",
        "- Clone the project repository to access the experiment models"
      ]
    },
    {
      "cell_type": "code",
      "source": [
        "!pip install -q kaggle\n",
        "!pip install lime\n",
        "!pip install torchviz"
      ],
      "metadata": {
        "colab": {
          "base_uri": "https://localhost:8080/"
        },
        "outputId": "109f223f-4727-4aec-85b8-344b8495f7d9",
        "id": "1JOqgs0FeJHD"
      },
      "execution_count": 1,
      "outputs": [
        {
          "output_type": "stream",
          "name": "stdout",
          "text": [
            "Collecting lime\n",
            "  Downloading lime-0.2.0.1.tar.gz (275 kB)\n",
            "\u001b[?25l     \u001b[90m━━━━━━━━━━━━━━━━━━━━━━━━━━━━━━━━━━━━━━━━\u001b[0m \u001b[32m0.0/275.7 kB\u001b[0m \u001b[31m?\u001b[0m eta \u001b[36m-:--:--\u001b[0m\r\u001b[2K     \u001b[91m━━━━━━━━━━━━━━━━━━━━━━━━━━━━\u001b[0m\u001b[90m╺\u001b[0m\u001b[90m━━━━━━━━━━━\u001b[0m \u001b[32m194.6/275.7 kB\u001b[0m \u001b[31m6.0 MB/s\u001b[0m eta \u001b[36m0:00:01\u001b[0m\r\u001b[2K     \u001b[90m━━━━━━━━━━━━━━━━━━━━━━━━━━━━━━━━━━━━━━━━\u001b[0m \u001b[32m275.7/275.7 kB\u001b[0m \u001b[31m5.9 MB/s\u001b[0m eta \u001b[36m0:00:00\u001b[0m\n",
            "\u001b[?25h  Preparing metadata (setup.py) ... \u001b[?25l\u001b[?25hdone\n",
            "Requirement already satisfied: matplotlib in /usr/local/lib/python3.10/dist-packages (from lime) (3.7.1)\n",
            "Requirement already satisfied: numpy in /usr/local/lib/python3.10/dist-packages (from lime) (1.23.5)\n",
            "Requirement already satisfied: scipy in /usr/local/lib/python3.10/dist-packages (from lime) (1.11.4)\n",
            "Requirement already satisfied: tqdm in /usr/local/lib/python3.10/dist-packages (from lime) (4.66.1)\n",
            "Requirement already satisfied: scikit-learn>=0.18 in /usr/local/lib/python3.10/dist-packages (from lime) (1.2.2)\n",
            "Requirement already satisfied: scikit-image>=0.12 in /usr/local/lib/python3.10/dist-packages (from lime) (0.19.3)\n",
            "Requirement already satisfied: networkx>=2.2 in /usr/local/lib/python3.10/dist-packages (from scikit-image>=0.12->lime) (3.2.1)\n",
            "Requirement already satisfied: pillow!=7.1.0,!=7.1.1,!=8.3.0,>=6.1.0 in /usr/local/lib/python3.10/dist-packages (from scikit-image>=0.12->lime) (9.4.0)\n",
            "Requirement already satisfied: imageio>=2.4.1 in /usr/local/lib/python3.10/dist-packages (from scikit-image>=0.12->lime) (2.31.6)\n",
            "Requirement already satisfied: tifffile>=2019.7.26 in /usr/local/lib/python3.10/dist-packages (from scikit-image>=0.12->lime) (2023.9.26)\n",
            "Requirement already satisfied: PyWavelets>=1.1.1 in /usr/local/lib/python3.10/dist-packages (from scikit-image>=0.12->lime) (1.5.0)\n",
            "Requirement already satisfied: packaging>=20.0 in /usr/local/lib/python3.10/dist-packages (from scikit-image>=0.12->lime) (23.2)\n",
            "Requirement already satisfied: joblib>=1.1.1 in /usr/local/lib/python3.10/dist-packages (from scikit-learn>=0.18->lime) (1.3.2)\n",
            "Requirement already satisfied: threadpoolctl>=2.0.0 in /usr/local/lib/python3.10/dist-packages (from scikit-learn>=0.18->lime) (3.2.0)\n",
            "Requirement already satisfied: contourpy>=1.0.1 in /usr/local/lib/python3.10/dist-packages (from matplotlib->lime) (1.2.0)\n",
            "Requirement already satisfied: cycler>=0.10 in /usr/local/lib/python3.10/dist-packages (from matplotlib->lime) (0.12.1)\n",
            "Requirement already satisfied: fonttools>=4.22.0 in /usr/local/lib/python3.10/dist-packages (from matplotlib->lime) (4.45.1)\n",
            "Requirement already satisfied: kiwisolver>=1.0.1 in /usr/local/lib/python3.10/dist-packages (from matplotlib->lime) (1.4.5)\n",
            "Requirement already satisfied: pyparsing>=2.3.1 in /usr/local/lib/python3.10/dist-packages (from matplotlib->lime) (3.1.1)\n",
            "Requirement already satisfied: python-dateutil>=2.7 in /usr/local/lib/python3.10/dist-packages (from matplotlib->lime) (2.8.2)\n",
            "Requirement already satisfied: six>=1.5 in /usr/local/lib/python3.10/dist-packages (from python-dateutil>=2.7->matplotlib->lime) (1.16.0)\n",
            "Building wheels for collected packages: lime\n",
            "  Building wheel for lime (setup.py) ... \u001b[?25l\u001b[?25hdone\n",
            "  Created wheel for lime: filename=lime-0.2.0.1-py3-none-any.whl size=283835 sha256=f99e77a18021889acfcebe78f0b513618d77545332aeb17a6b2d01bafdf882c3\n",
            "  Stored in directory: /root/.cache/pip/wheels/fd/a2/af/9ac0a1a85a27f314a06b39e1f492bee1547d52549a4606ed89\n",
            "Successfully built lime\n",
            "Installing collected packages: lime\n",
            "Successfully installed lime-0.2.0.1\n",
            "Collecting torchviz\n",
            "  Downloading torchviz-0.0.2.tar.gz (4.9 kB)\n",
            "  Preparing metadata (setup.py) ... \u001b[?25l\u001b[?25hdone\n",
            "Requirement already satisfied: torch in /usr/local/lib/python3.10/dist-packages (from torchviz) (2.1.0+cu118)\n",
            "Requirement already satisfied: graphviz in /usr/local/lib/python3.10/dist-packages (from torchviz) (0.20.1)\n",
            "Requirement already satisfied: filelock in /usr/local/lib/python3.10/dist-packages (from torch->torchviz) (3.13.1)\n",
            "Requirement already satisfied: typing-extensions in /usr/local/lib/python3.10/dist-packages (from torch->torchviz) (4.5.0)\n",
            "Requirement already satisfied: sympy in /usr/local/lib/python3.10/dist-packages (from torch->torchviz) (1.12)\n",
            "Requirement already satisfied: networkx in /usr/local/lib/python3.10/dist-packages (from torch->torchviz) (3.2.1)\n",
            "Requirement already satisfied: jinja2 in /usr/local/lib/python3.10/dist-packages (from torch->torchviz) (3.1.2)\n",
            "Requirement already satisfied: fsspec in /usr/local/lib/python3.10/dist-packages (from torch->torchviz) (2023.6.0)\n",
            "Requirement already satisfied: triton==2.1.0 in /usr/local/lib/python3.10/dist-packages (from torch->torchviz) (2.1.0)\n",
            "Requirement already satisfied: MarkupSafe>=2.0 in /usr/local/lib/python3.10/dist-packages (from jinja2->torch->torchviz) (2.1.3)\n",
            "Requirement already satisfied: mpmath>=0.19 in /usr/local/lib/python3.10/dist-packages (from sympy->torch->torchviz) (1.3.0)\n",
            "Building wheels for collected packages: torchviz\n",
            "  Building wheel for torchviz (setup.py) ... \u001b[?25l\u001b[?25hdone\n",
            "  Created wheel for torchviz: filename=torchviz-0.0.2-py3-none-any.whl size=4131 sha256=c47ce63b489335cf455d2646f74889a3b475f24d96a771f2486287971785706a\n",
            "  Stored in directory: /root/.cache/pip/wheels/4c/97/88/a02973217949e0db0c9f4346d154085f4725f99c4f15a87094\n",
            "Successfully built torchviz\n",
            "Installing collected packages: torchviz\n",
            "Successfully installed torchviz-0.0.2\n"
          ]
        }
      ]
    },
    {
      "cell_type": "code",
      "execution_count": 2,
      "metadata": {
        "colab": {
          "base_uri": "https://localhost:8080/",
          "height": 92
        },
        "id": "DwW7WKWWtJhI",
        "outputId": "93b3f5b7-259c-4214-be99-1617501da5a8"
      },
      "outputs": [
        {
          "output_type": "display_data",
          "data": {
            "text/plain": [
              "<IPython.core.display.HTML object>"
            ],
            "text/html": [
              "\n",
              "     <input type=\"file\" id=\"files-5276810f-dd88-4015-9eda-98a5e729e1ef\" name=\"files[]\" multiple disabled\n",
              "        style=\"border:none\" />\n",
              "     <output id=\"result-5276810f-dd88-4015-9eda-98a5e729e1ef\">\n",
              "      Upload widget is only available when the cell has been executed in the\n",
              "      current browser session. Please rerun this cell to enable.\n",
              "      </output>\n",
              "      <script>// Copyright 2017 Google LLC\n",
              "//\n",
              "// Licensed under the Apache License, Version 2.0 (the \"License\");\n",
              "// you may not use this file except in compliance with the License.\n",
              "// You may obtain a copy of the License at\n",
              "//\n",
              "//      http://www.apache.org/licenses/LICENSE-2.0\n",
              "//\n",
              "// Unless required by applicable law or agreed to in writing, software\n",
              "// distributed under the License is distributed on an \"AS IS\" BASIS,\n",
              "// WITHOUT WARRANTIES OR CONDITIONS OF ANY KIND, either express or implied.\n",
              "// See the License for the specific language governing permissions and\n",
              "// limitations under the License.\n",
              "\n",
              "/**\n",
              " * @fileoverview Helpers for google.colab Python module.\n",
              " */\n",
              "(function(scope) {\n",
              "function span(text, styleAttributes = {}) {\n",
              "  const element = document.createElement('span');\n",
              "  element.textContent = text;\n",
              "  for (const key of Object.keys(styleAttributes)) {\n",
              "    element.style[key] = styleAttributes[key];\n",
              "  }\n",
              "  return element;\n",
              "}\n",
              "\n",
              "// Max number of bytes which will be uploaded at a time.\n",
              "const MAX_PAYLOAD_SIZE = 100 * 1024;\n",
              "\n",
              "function _uploadFiles(inputId, outputId) {\n",
              "  const steps = uploadFilesStep(inputId, outputId);\n",
              "  const outputElement = document.getElementById(outputId);\n",
              "  // Cache steps on the outputElement to make it available for the next call\n",
              "  // to uploadFilesContinue from Python.\n",
              "  outputElement.steps = steps;\n",
              "\n",
              "  return _uploadFilesContinue(outputId);\n",
              "}\n",
              "\n",
              "// This is roughly an async generator (not supported in the browser yet),\n",
              "// where there are multiple asynchronous steps and the Python side is going\n",
              "// to poll for completion of each step.\n",
              "// This uses a Promise to block the python side on completion of each step,\n",
              "// then passes the result of the previous step as the input to the next step.\n",
              "function _uploadFilesContinue(outputId) {\n",
              "  const outputElement = document.getElementById(outputId);\n",
              "  const steps = outputElement.steps;\n",
              "\n",
              "  const next = steps.next(outputElement.lastPromiseValue);\n",
              "  return Promise.resolve(next.value.promise).then((value) => {\n",
              "    // Cache the last promise value to make it available to the next\n",
              "    // step of the generator.\n",
              "    outputElement.lastPromiseValue = value;\n",
              "    return next.value.response;\n",
              "  });\n",
              "}\n",
              "\n",
              "/**\n",
              " * Generator function which is called between each async step of the upload\n",
              " * process.\n",
              " * @param {string} inputId Element ID of the input file picker element.\n",
              " * @param {string} outputId Element ID of the output display.\n",
              " * @return {!Iterable<!Object>} Iterable of next steps.\n",
              " */\n",
              "function* uploadFilesStep(inputId, outputId) {\n",
              "  const inputElement = document.getElementById(inputId);\n",
              "  inputElement.disabled = false;\n",
              "\n",
              "  const outputElement = document.getElementById(outputId);\n",
              "  outputElement.innerHTML = '';\n",
              "\n",
              "  const pickedPromise = new Promise((resolve) => {\n",
              "    inputElement.addEventListener('change', (e) => {\n",
              "      resolve(e.target.files);\n",
              "    });\n",
              "  });\n",
              "\n",
              "  const cancel = document.createElement('button');\n",
              "  inputElement.parentElement.appendChild(cancel);\n",
              "  cancel.textContent = 'Cancel upload';\n",
              "  const cancelPromise = new Promise((resolve) => {\n",
              "    cancel.onclick = () => {\n",
              "      resolve(null);\n",
              "    };\n",
              "  });\n",
              "\n",
              "  // Wait for the user to pick the files.\n",
              "  const files = yield {\n",
              "    promise: Promise.race([pickedPromise, cancelPromise]),\n",
              "    response: {\n",
              "      action: 'starting',\n",
              "    }\n",
              "  };\n",
              "\n",
              "  cancel.remove();\n",
              "\n",
              "  // Disable the input element since further picks are not allowed.\n",
              "  inputElement.disabled = true;\n",
              "\n",
              "  if (!files) {\n",
              "    return {\n",
              "      response: {\n",
              "        action: 'complete',\n",
              "      }\n",
              "    };\n",
              "  }\n",
              "\n",
              "  for (const file of files) {\n",
              "    const li = document.createElement('li');\n",
              "    li.append(span(file.name, {fontWeight: 'bold'}));\n",
              "    li.append(span(\n",
              "        `(${file.type || 'n/a'}) - ${file.size} bytes, ` +\n",
              "        `last modified: ${\n",
              "            file.lastModifiedDate ? file.lastModifiedDate.toLocaleDateString() :\n",
              "                                    'n/a'} - `));\n",
              "    const percent = span('0% done');\n",
              "    li.appendChild(percent);\n",
              "\n",
              "    outputElement.appendChild(li);\n",
              "\n",
              "    const fileDataPromise = new Promise((resolve) => {\n",
              "      const reader = new FileReader();\n",
              "      reader.onload = (e) => {\n",
              "        resolve(e.target.result);\n",
              "      };\n",
              "      reader.readAsArrayBuffer(file);\n",
              "    });\n",
              "    // Wait for the data to be ready.\n",
              "    let fileData = yield {\n",
              "      promise: fileDataPromise,\n",
              "      response: {\n",
              "        action: 'continue',\n",
              "      }\n",
              "    };\n",
              "\n",
              "    // Use a chunked sending to avoid message size limits. See b/62115660.\n",
              "    let position = 0;\n",
              "    do {\n",
              "      const length = Math.min(fileData.byteLength - position, MAX_PAYLOAD_SIZE);\n",
              "      const chunk = new Uint8Array(fileData, position, length);\n",
              "      position += length;\n",
              "\n",
              "      const base64 = btoa(String.fromCharCode.apply(null, chunk));\n",
              "      yield {\n",
              "        response: {\n",
              "          action: 'append',\n",
              "          file: file.name,\n",
              "          data: base64,\n",
              "        },\n",
              "      };\n",
              "\n",
              "      let percentDone = fileData.byteLength === 0 ?\n",
              "          100 :\n",
              "          Math.round((position / fileData.byteLength) * 100);\n",
              "      percent.textContent = `${percentDone}% done`;\n",
              "\n",
              "    } while (position < fileData.byteLength);\n",
              "  }\n",
              "\n",
              "  // All done.\n",
              "  yield {\n",
              "    response: {\n",
              "      action: 'complete',\n",
              "    }\n",
              "  };\n",
              "}\n",
              "\n",
              "scope.google = scope.google || {};\n",
              "scope.google.colab = scope.google.colab || {};\n",
              "scope.google.colab._files = {\n",
              "  _uploadFiles,\n",
              "  _uploadFilesContinue,\n",
              "};\n",
              "})(self);\n",
              "</script> "
            ]
          },
          "metadata": {}
        },
        {
          "output_type": "stream",
          "name": "stdout",
          "text": [
            "Saving kaggle.json to kaggle.json\n",
            "-rw-r--r-- 1 root root 67 Dec  8 23:41 kaggle.json\n"
          ]
        }
      ],
      "source": [
        "from google.colab import files\n",
        "\n",
        "uploaded = files.upload()\n",
        "\n",
        "# make sure there is a kaggle.json file\n",
        "!ls -lha kaggle.json\n",
        "\n",
        "# install the Kaggle API token\n",
        "!mkdir -p ~/.kaggle\n",
        "!cp kaggle.json ~/.kaggle/\n",
        "!chmod 600 ~/.kaggle/kaggle.json"
      ]
    },
    {
      "cell_type": "code",
      "execution_count": 3,
      "metadata": {
        "colab": {
          "base_uri": "https://localhost:8080/"
        },
        "id": "jlWuDgwUuLsz",
        "outputId": "c16f2474-a68b-4228-8220-2fcf787e460d"
      },
      "outputs": [
        {
          "output_type": "stream",
          "name": "stdout",
          "text": [
            "Downloading heartbeat.zip to /content\n",
            " 99% 98.0M/98.8M [00:03<00:00, 42.6MB/s]\n",
            "100% 98.8M/98.8M [00:03<00:00, 32.3MB/s]\n",
            "Cloning into 'tsc_attention'...\n",
            "remote: Enumerating objects: 386, done.\u001b[K\n",
            "remote: Counting objects: 100% (183/183), done.\u001b[K\n",
            "remote: Compressing objects: 100% (114/114), done.\u001b[K\n",
            "remote: Total 386 (delta 92), reused 106 (delta 39), pack-reused 203\u001b[K\n",
            "Receiving objects: 100% (386/386), 39.61 MiB | 10.25 MiB/s, done.\n",
            "Resolving deltas: 100% (203/203), done.\n"
          ]
        }
      ],
      "source": [
        "# download and unzip the ECG dataset hosted on kaggle\n",
        "!kaggle datasets download -d shayanfazeli/heartbeat\n",
        "!unzip -q heartbeat.zip\n",
        "\n",
        "# clone the project github repository\n",
        "!git clone https://github.com/distributedgarden/tsc_attention.git"
      ]
    },
    {
      "cell_type": "markdown",
      "metadata": {
        "id": "CQcNjrlX3sMh"
      },
      "source": [
        "# OSCNN Experiment\n",
        "### Description\n",
        "Use Stratified K-Fold Cross Validation to evaluate the OSCNN model on the ECG dataset."
      ]
    },
    {
      "cell_type": "code",
      "execution_count": 4,
      "metadata": {
        "colab": {
          "base_uri": "https://localhost:8080/"
        },
        "id": "M3VZ0VQNvWmr",
        "outputId": "43401030-f1b8-4aab-8848-e0d7e4a88f70"
      },
      "outputs": [
        {
          "output_type": "stream",
          "name": "stdout",
          "text": [
            "/content/tsc_attention\n",
            "/content\n"
          ]
        }
      ],
      "source": [
        "import logging\n",
        "import lime\n",
        "import lime.lime_tabular\n",
        "import matplotlib.pyplot as plt\n",
        "import numpy as np\n",
        "import pandas as pd\n",
        "import seaborn as sns\n",
        "import torch\n",
        "import torch.nn as nn\n",
        "import torch.nn.functional as F\n",
        "import torch.optim as optim\n",
        "\n",
        "from sklearn.model_selection import train_test_split, KFold, StratifiedKFold\n",
        "from sklearn.preprocessing import StandardScaler\n",
        "from sklearn.metrics import accuracy_score, precision_score, recall_score, f1_score, roc_curve, auc\n",
        "from torch.autograd import Variable\n",
        "from torch.utils.data import DataLoader, TensorDataset\n",
        "from torchviz import make_dot\n",
        "from IPython.core.display import HTML\n",
        "from itertools import cycle\n",
        "from functools import partial\n",
        "\n",
        "\n",
        "%cd tsc_attention\n",
        "from src.models.os_cnn import OSCNN\n",
        "from src.models.attention_os_cnn import AttentionOSCNN\n",
        "from src.utils import (\n",
        "    evaluate,\n",
        "    plot_metrics,\n",
        "    plot_incorrect_predictions,\n",
        "    visualize_model_graph,\n",
        "    sample,\n",
        "    batch_predict,\n",
        "    explain_instance,\n",
        "    roc_plot,\n",
        "    generate_saliency_map,\n",
        "    saliency_maps,\n",
        "    overlay_saliency_maps,\n",
        ")\n",
        "%cd ..\n",
        "\n"
      ]
    },
    {
      "cell_type": "code",
      "source": [
        "logging.root.handlers = []\n",
        "\n",
        "logging.basicConfig(\n",
        "    level=logging.INFO,\n",
        "    format=\"%(asctime)s - %(name)s - %(levelname)s - %(message)s\"\n",
        ")\n",
        "\n",
        "logging.info(\"Test\")"
      ],
      "metadata": {
        "colab": {
          "base_uri": "https://localhost:8080/"
        },
        "id": "Xh-UecC_cH7t",
        "outputId": "8eab4021-6e13-4628-bc15-115ec23075be"
      },
      "execution_count": 5,
      "outputs": [
        {
          "output_type": "stream",
          "name": "stderr",
          "text": [
            "2023-12-08 23:41:57,989 - root - INFO - Test\n"
          ]
        }
      ]
    },
    {
      "cell_type": "code",
      "source": [
        "device = torch.device(\"cuda\" if torch.cuda.is_available() else \"cpu\")"
      ],
      "metadata": {
        "id": "wqpV9QVCE2-e"
      },
      "execution_count": 6,
      "outputs": []
    },
    {
      "cell_type": "code",
      "execution_count": 7,
      "metadata": {
        "colab": {
          "base_uri": "https://localhost:8080/"
        },
        "id": "GCmYXE8euY8s",
        "outputId": "4ac7df23-771e-4d5a-ac4d-f519a481f927"
      },
      "outputs": [
        {
          "output_type": "stream",
          "name": "stdout",
          "text": [
            "87554\n",
            "21892\n",
            "187\n",
            "[0.96011394 0.86324787 0.46153846 0.1965812  0.0940171  0.12535612\n",
            " 0.0997151  0.08831909 0.07407407 0.08262108 0.07407407 0.06267806\n",
            " 0.06552707 0.06552707 0.06267806 0.07692308 0.07122507 0.08262108\n",
            " 0.09116809 0.09686609 0.08262108 0.08262108 0.09116809 0.10541311\n",
            " 0.12250713 0.14814815 0.18233618 0.19373219 0.21367522 0.20797721\n",
            " 0.22222222 0.25356126 0.27065527 0.28774929 0.28490028 0.29344729\n",
            " 0.25641027 0.24786325 0.18803419 0.14529915 0.10826211 0.08262108\n",
            " 0.07977208 0.07407407 0.01424501 0.01139601 0.06267806 0.05128205\n",
            " 0.05698006 0.04843305 0.02849003 0.03133903 0.07692308 0.02564103\n",
            " 0.02849003 0.03703704 0.0940171  0.08547009 0.03988604 0.05982906\n",
            " 0.07407407 0.07977208 0.09116809 0.0997151  0.10826211 0.08831909\n",
            " 0.09116809 0.06552707 0.08547009 0.08831909 0.07692308 0.08262108\n",
            " 0.09686609 0.0997151  0.13390313 0.1025641  0.03988604 0.06552707\n",
            " 0.07407407 0.08262108 0.08547009 0.05698006 0.04558405 0.1025641\n",
            " 0.03988604 0.01139601 0.01709402 0.03133903 0.00569801 0.00854701\n",
            " 0.03133903 0.05128205 0.05698006 0.08831909 0.06552707 0.01139601\n",
            " 0.05698006 0.03988604 0.03988604 0.02564103 0.002849   0.01994302\n",
            " 0.02564103 0.01139601 0.02849003 0.01994302 0.02279202 0.03418804\n",
            " 0.01424501 0.05128205 0.06837607 0.13960114 0.28774929 0.52706552\n",
            " 0.77777779 1.         0.8888889  0.49287748 0.19088319 0.08831909\n",
            " 0.06267806 0.03418804 0.         0.03418804 0.01709402 0.002849\n",
            " 0.         0.04843305 0.04843305 0.05413105 0.04273504 0.05413105\n",
            " 0.05982906 0.06267806 0.07122507 0.07692308 0.0997151  0.\n",
            " 0.         0.         0.         0.         0.         0.\n",
            " 0.         0.         0.         0.         0.         0.\n",
            " 0.         0.         0.         0.         0.         0.\n",
            " 0.         0.         0.         0.         0.         0.\n",
            " 0.         0.         0.         0.         0.         0.\n",
            " 0.         0.         0.         0.         0.         0.\n",
            " 0.         0.         0.         0.         0.         0.\n",
            " 0.         0.         0.         0.         0.         0.\n",
            " 0.        ]\n"
          ]
        }
      ],
      "source": [
        "# load data\n",
        "train_df = pd.read_csv(\"mitbih_train.csv\", header=None)\n",
        "test_df = pd.read_csv(\"mitbih_test.csv\", header=None)\n",
        "\n",
        "# last column is the label\n",
        "X_train = train_df.iloc[:, :-1].values\n",
        "y_train = train_df.iloc[:, -1].values\n",
        "X_test = test_df.iloc[:, :-1].values\n",
        "y_test = test_df.iloc[:, -1].values\n",
        "\n",
        "print(len(train_df))\n",
        "print(len(test_df))\n",
        "print(len(X_train[1]))\n",
        "print(X_train[1])"
      ]
    },
    {
      "cell_type": "code",
      "execution_count": 8,
      "metadata": {
        "id": "t_1ulp5cvQUl"
      },
      "outputs": [],
      "source": [
        "# normalize the ECG signals\n",
        "scaler = StandardScaler()\n",
        "X_train = scaler.fit_transform(X_train)\n",
        "X_test = scaler.transform(X_test)\n",
        "\n",
        "# concatenate the data\n",
        "X = np.concatenate([X_train, X_test], axis=0)\n",
        "y = np.concatenate([y_train, y_test], axis=0)\n",
        "\n",
        "# convert to tensors\n",
        "X_tensor = torch.tensor(X).float().unsqueeze(2)  # adding channel dimension\n",
        "y_tensor = torch.tensor(y).long()\n",
        "\n",
        "# create a single dataset\n",
        "dataset = TensorDataset(X_tensor, y_tensor)\n",
        "dataset_y = np.array(dataset.tensors[1])"
      ]
    },
    {
      "cell_type": "code",
      "execution_count": 9,
      "metadata": {
        "id": "x8z97nGCgP4F"
      },
      "outputs": [],
      "source": [
        "# cross-validation parameters\n",
        "num_epochs = 10\n",
        "k_folds = 10\n",
        "#kfold = KFold(n_splits=k_folds, shuffle=True)\n",
        "kfold = StratifiedKFold(n_splits=k_folds, shuffle=True, random_state=42)\n",
        "batch_size = 32"
      ]
    },
    {
      "cell_type": "code",
      "execution_count": 10,
      "metadata": {
        "colab": {
          "base_uri": "https://localhost:8080/"
        },
        "id": "O1NKhOGT3_CZ",
        "outputId": "e954a796-7030-4352-8c1f-52172b0e8a5d"
      },
      "outputs": [
        {
          "metadata": {
            "tags": null
          },
          "name": "stdout",
          "output_type": "stream",
          "text": [
            "FOLD 0\n",
            "--------------------------------\n",
            "OSCNN(\n",
            "  (conv1): Conv1d(1, 128, kernel_size=(8,), stride=(1,), padding=same)\n",
            "  (bn1): BatchNorm1d(128, eps=1e-05, momentum=0.1, affine=True, track_running_stats=True)\n",
            "  (conv2): Conv1d(128, 256, kernel_size=(5,), stride=(1,), padding=same)\n",
            "  (bn2): BatchNorm1d(256, eps=1e-05, momentum=0.1, affine=True, track_running_stats=True)\n",
            "  (conv3): Conv1d(256, 128, kernel_size=(3,), stride=(1,), padding=same)\n",
            "  (bn3): BatchNorm1d(128, eps=1e-05, momentum=0.1, affine=True, track_running_stats=True)\n",
            "  (avg_pool): AdaptiveAvgPool1d(output_size=1)\n",
            "  (fc): Linear(in_features=128, out_features=5, bias=True)\n",
            ")\n"
          ]
        },
        {
          "metadata": {
            "tags": null
          },
          "name": "stderr",
          "output_type": "stream",
          "text": [
            "/usr/local/lib/python3.10/dist-packages/torch/nn/modules/conv.py:306: UserWarning: Using padding='same' with even kernel lengths and odd dilation may require a zero-padded copy of the input be created (Triggered internally at ../aten/src/ATen/native/Convolution.cpp:1008.)\n",
            "  return F.conv1d(input, weight, bias, self.stride,\n"
          ]
        },
        {
          "metadata": {
            "tags": null
          },
          "name": "stdout",
          "output_type": "stream",
          "text": [
            "Epoch [1/10], Step [100/3079], Loss: 0.3790\n",
            "Epoch [1/10], Step [200/3079], Loss: 0.4412\n",
            "Epoch [1/10], Step [300/3079], Loss: 0.5075\n",
            "Epoch [1/10], Step [400/3079], Loss: 0.1970\n",
            "Epoch [1/10], Step [500/3079], Loss: 0.1952\n",
            "Epoch [1/10], Step [600/3079], Loss: 0.5000\n",
            "Epoch [1/10], Step [700/3079], Loss: 0.2418\n",
            "Epoch [1/10], Step [800/3079], Loss: 0.1325\n",
            "Epoch [1/10], Step [900/3079], Loss: 0.2764\n",
            "Epoch [1/10], Step [1000/3079], Loss: 0.3537\n",
            "Epoch [1/10], Step [1100/3079], Loss: 0.2111\n",
            "Epoch [1/10], Step [1200/3079], Loss: 0.1597\n",
            "Epoch [1/10], Step [1300/3079], Loss: 0.1539\n",
            "Epoch [1/10], Step [1400/3079], Loss: 0.2269\n",
            "Epoch [1/10], Step [1500/3079], Loss: 0.1344\n",
            "Epoch [1/10], Step [1600/3079], Loss: 0.2807\n",
            "Epoch [1/10], Step [1700/3079], Loss: 0.4278\n",
            "Epoch [1/10], Step [1800/3079], Loss: 0.1947\n",
            "Epoch [1/10], Step [1900/3079], Loss: 0.2207\n",
            "Epoch [1/10], Step [2000/3079], Loss: 0.6988\n",
            "Epoch [1/10], Step [2100/3079], Loss: 0.1581\n",
            "Epoch [1/10], Step [2200/3079], Loss: 0.2083\n",
            "Epoch [1/10], Step [2300/3079], Loss: 0.1159\n",
            "Epoch [1/10], Step [2400/3079], Loss: 0.2528\n",
            "Epoch [1/10], Step [2500/3079], Loss: 0.1873\n",
            "Epoch [1/10], Step [2600/3079], Loss: 0.1999\n",
            "Epoch [1/10], Step [2700/3079], Loss: 0.0554\n",
            "Epoch [1/10], Step [2800/3079], Loss: 0.0469\n",
            "Epoch [1/10], Step [2900/3079], Loss: 0.1045\n",
            "Epoch [1/10], Step [3000/3079], Loss: 0.3845\n"
          ]
        },
        {
          "metadata": {
            "tags": null
          },
          "name": "stderr",
          "output_type": "stream",
          "text": [
            "2023-12-08 23:42:28,766 - root - INFO - Accuracy: 95.41%\n",
            "2023-12-08 23:42:28,767 - root - INFO - Precision: 0.9530\n",
            "2023-12-08 23:42:28,768 - root - INFO - Recall: 0.9541\n",
            "2023-12-08 23:42:28,769 - root - INFO - F1 Score: 0.9491\n"
          ]
        },
        {
          "metadata": {
            "tags": null
          },
          "name": "stdout",
          "output_type": "stream",
          "text": [
            "Epoch [2/10], Step [100/3079], Loss: 0.0419\n",
            "Epoch [2/10], Step [200/3079], Loss: 0.0618\n",
            "Epoch [2/10], Step [300/3079], Loss: 0.2458\n",
            "Epoch [2/10], Step [400/3079], Loss: 0.2560\n",
            "Epoch [2/10], Step [500/3079], Loss: 0.1973\n",
            "Epoch [2/10], Step [600/3079], Loss: 0.0869\n",
            "Epoch [2/10], Step [700/3079], Loss: 0.1537\n",
            "Epoch [2/10], Step [800/3079], Loss: 0.0533\n",
            "Epoch [2/10], Step [900/3079], Loss: 0.0452\n",
            "Epoch [2/10], Step [1000/3079], Loss: 0.0597\n",
            "Epoch [2/10], Step [1100/3079], Loss: 0.0673\n",
            "Epoch [2/10], Step [1200/3079], Loss: 0.1143\n",
            "Epoch [2/10], Step [1300/3079], Loss: 0.1778\n",
            "Epoch [2/10], Step [1400/3079], Loss: 0.2442\n",
            "Epoch [2/10], Step [1500/3079], Loss: 0.1999\n",
            "Epoch [2/10], Step [1600/3079], Loss: 0.0355\n",
            "Epoch [2/10], Step [1700/3079], Loss: 0.0394\n",
            "Epoch [2/10], Step [1800/3079], Loss: 0.0372\n",
            "Epoch [2/10], Step [1900/3079], Loss: 0.0824\n",
            "Epoch [2/10], Step [2000/3079], Loss: 0.1097\n",
            "Epoch [2/10], Step [2100/3079], Loss: 0.1092\n",
            "Epoch [2/10], Step [2200/3079], Loss: 0.0353\n",
            "Epoch [2/10], Step [2300/3079], Loss: 0.1794\n",
            "Epoch [2/10], Step [2400/3079], Loss: 0.5567\n",
            "Epoch [2/10], Step [2500/3079], Loss: 0.1406\n",
            "Epoch [2/10], Step [2600/3079], Loss: 0.0692\n",
            "Epoch [2/10], Step [2700/3079], Loss: 0.0266\n",
            "Epoch [2/10], Step [2800/3079], Loss: 0.0918\n",
            "Epoch [2/10], Step [2900/3079], Loss: 0.0488\n",
            "Epoch [2/10], Step [3000/3079], Loss: 0.0180\n"
          ]
        },
        {
          "metadata": {
            "tags": null
          },
          "name": "stderr",
          "output_type": "stream",
          "text": [
            "2023-12-08 23:42:40,290 - root - INFO - Accuracy: 96.49%\n",
            "2023-12-08 23:42:40,291 - root - INFO - Precision: 0.9654\n",
            "2023-12-08 23:42:40,292 - root - INFO - Recall: 0.9649\n",
            "2023-12-08 23:42:40,294 - root - INFO - F1 Score: 0.9609\n"
          ]
        },
        {
          "metadata": {
            "tags": null
          },
          "name": "stdout",
          "output_type": "stream",
          "text": [
            "Epoch [3/10], Step [100/3079], Loss: 0.0949\n",
            "Epoch [3/10], Step [200/3079], Loss: 0.1969\n",
            "Epoch [3/10], Step [300/3079], Loss: 0.0305\n",
            "Epoch [3/10], Step [400/3079], Loss: 0.1608\n",
            "Epoch [3/10], Step [500/3079], Loss: 0.2819\n",
            "Epoch [3/10], Step [600/3079], Loss: 0.1225\n",
            "Epoch [3/10], Step [700/3079], Loss: 0.2906\n",
            "Epoch [3/10], Step [800/3079], Loss: 0.1336\n",
            "Epoch [3/10], Step [900/3079], Loss: 0.0846\n",
            "Epoch [3/10], Step [1000/3079], Loss: 0.0183\n",
            "Epoch [3/10], Step [1100/3079], Loss: 0.0622\n",
            "Epoch [3/10], Step [1200/3079], Loss: 0.0957\n",
            "Epoch [3/10], Step [1300/3079], Loss: 0.1530\n",
            "Epoch [3/10], Step [1400/3079], Loss: 0.1294\n",
            "Epoch [3/10], Step [1500/3079], Loss: 0.2530\n",
            "Epoch [3/10], Step [1600/3079], Loss: 0.1364\n",
            "Epoch [3/10], Step [1700/3079], Loss: 0.3157\n",
            "Epoch [3/10], Step [1800/3079], Loss: 0.0427\n",
            "Epoch [3/10], Step [1900/3079], Loss: 0.0472\n",
            "Epoch [3/10], Step [2000/3079], Loss: 0.1065\n",
            "Epoch [3/10], Step [2100/3079], Loss: 0.2045\n",
            "Epoch [3/10], Step [2200/3079], Loss: 0.0167\n",
            "Epoch [3/10], Step [2300/3079], Loss: 0.0307\n",
            "Epoch [3/10], Step [2400/3079], Loss: 0.0125\n",
            "Epoch [3/10], Step [2500/3079], Loss: 0.2306\n",
            "Epoch [3/10], Step [2600/3079], Loss: 0.0249\n",
            "Epoch [3/10], Step [2700/3079], Loss: 0.2199\n",
            "Epoch [3/10], Step [2800/3079], Loss: 0.1368\n",
            "Epoch [3/10], Step [2900/3079], Loss: 0.1235\n",
            "Epoch [3/10], Step [3000/3079], Loss: 0.3038\n"
          ]
        },
        {
          "metadata": {
            "tags": null
          },
          "name": "stderr",
          "output_type": "stream",
          "text": [
            "2023-12-08 23:42:51,773 - root - INFO - Accuracy: 97.33%\n",
            "2023-12-08 23:42:51,774 - root - INFO - Precision: 0.9723\n",
            "2023-12-08 23:42:51,775 - root - INFO - Recall: 0.9733\n",
            "2023-12-08 23:42:51,776 - root - INFO - F1 Score: 0.9717\n"
          ]
        },
        {
          "metadata": {
            "tags": null
          },
          "name": "stdout",
          "output_type": "stream",
          "text": [
            "Epoch [4/10], Step [100/3079], Loss: 0.0925\n",
            "Epoch [4/10], Step [200/3079], Loss: 0.0899\n",
            "Epoch [4/10], Step [300/3079], Loss: 0.0295\n",
            "Epoch [4/10], Step [400/3079], Loss: 0.2512\n",
            "Epoch [4/10], Step [500/3079], Loss: 0.7574\n",
            "Epoch [4/10], Step [600/3079], Loss: 0.3384\n",
            "Epoch [4/10], Step [700/3079], Loss: 0.0321\n",
            "Epoch [4/10], Step [800/3079], Loss: 0.0207\n",
            "Epoch [4/10], Step [900/3079], Loss: 0.0310\n",
            "Epoch [4/10], Step [1000/3079], Loss: 0.0868\n",
            "Epoch [4/10], Step [1100/3079], Loss: 0.0220\n",
            "Epoch [4/10], Step [1200/3079], Loss: 0.1119\n",
            "Epoch [4/10], Step [1300/3079], Loss: 0.2245\n",
            "Epoch [4/10], Step [1400/3079], Loss: 0.0121\n",
            "Epoch [4/10], Step [1500/3079], Loss: 0.1526\n",
            "Epoch [4/10], Step [1600/3079], Loss: 0.0521\n",
            "Epoch [4/10], Step [1700/3079], Loss: 0.0594\n",
            "Epoch [4/10], Step [1800/3079], Loss: 0.1086\n",
            "Epoch [4/10], Step [1900/3079], Loss: 0.2266\n",
            "Epoch [4/10], Step [2000/3079], Loss: 0.0910\n",
            "Epoch [4/10], Step [2100/3079], Loss: 0.0296\n",
            "Epoch [4/10], Step [2200/3079], Loss: 0.1228\n",
            "Epoch [4/10], Step [2300/3079], Loss: 0.0474\n",
            "Epoch [4/10], Step [2400/3079], Loss: 0.1715\n",
            "Epoch [4/10], Step [2500/3079], Loss: 0.0143\n",
            "Epoch [4/10], Step [2600/3079], Loss: 0.4042\n",
            "Epoch [4/10], Step [2700/3079], Loss: 0.1311\n",
            "Epoch [4/10], Step [2800/3079], Loss: 0.0505\n",
            "Epoch [4/10], Step [2900/3079], Loss: 0.2056\n",
            "Epoch [4/10], Step [3000/3079], Loss: 0.1764\n"
          ]
        },
        {
          "metadata": {
            "tags": null
          },
          "name": "stderr",
          "output_type": "stream",
          "text": [
            "2023-12-08 23:43:03,325 - root - INFO - Accuracy: 97.35%\n",
            "2023-12-08 23:43:03,326 - root - INFO - Precision: 0.9730\n",
            "2023-12-08 23:43:03,327 - root - INFO - Recall: 0.9735\n",
            "2023-12-08 23:43:03,328 - root - INFO - F1 Score: 0.9724\n"
          ]
        },
        {
          "metadata": {
            "tags": null
          },
          "name": "stdout",
          "output_type": "stream",
          "text": [
            "Epoch [5/10], Step [100/3079], Loss: 0.1266\n",
            "Epoch [5/10], Step [200/3079], Loss: 0.0533\n",
            "Epoch [5/10], Step [300/3079], Loss: 0.0301\n",
            "Epoch [5/10], Step [400/3079], Loss: 0.0407\n",
            "Epoch [5/10], Step [500/3079], Loss: 0.0495\n",
            "Epoch [5/10], Step [600/3079], Loss: 0.2173\n",
            "Epoch [5/10], Step [700/3079], Loss: 0.0572\n",
            "Epoch [5/10], Step [800/3079], Loss: 0.1911\n",
            "Epoch [5/10], Step [900/3079], Loss: 0.1190\n",
            "Epoch [5/10], Step [1000/3079], Loss: 0.0232\n",
            "Epoch [5/10], Step [1100/3079], Loss: 0.1534\n",
            "Epoch [5/10], Step [1200/3079], Loss: 0.3017\n",
            "Epoch [5/10], Step [1300/3079], Loss: 0.2061\n",
            "Epoch [5/10], Step [1400/3079], Loss: 0.0185\n",
            "Epoch [5/10], Step [1500/3079], Loss: 0.1872\n",
            "Epoch [5/10], Step [1600/3079], Loss: 0.0486\n",
            "Epoch [5/10], Step [1700/3079], Loss: 0.1578\n",
            "Epoch [5/10], Step [1800/3079], Loss: 0.1250\n",
            "Epoch [5/10], Step [1900/3079], Loss: 0.1060\n",
            "Epoch [5/10], Step [2000/3079], Loss: 0.3986\n",
            "Epoch [5/10], Step [2100/3079], Loss: 0.0313\n",
            "Epoch [5/10], Step [2200/3079], Loss: 0.0703\n",
            "Epoch [5/10], Step [2300/3079], Loss: 0.0980\n",
            "Epoch [5/10], Step [2400/3079], Loss: 0.0235\n",
            "Epoch [5/10], Step [2500/3079], Loss: 0.0616\n",
            "Epoch [5/10], Step [2600/3079], Loss: 0.0170\n",
            "Epoch [5/10], Step [2700/3079], Loss: 0.0090\n",
            "Epoch [5/10], Step [2800/3079], Loss: 0.0039\n",
            "Epoch [5/10], Step [2900/3079], Loss: 0.0884\n",
            "Epoch [5/10], Step [3000/3079], Loss: 0.0201\n"
          ]
        },
        {
          "metadata": {
            "tags": null
          },
          "name": "stderr",
          "output_type": "stream",
          "text": [
            "2023-12-08 23:43:14,837 - root - INFO - Accuracy: 97.14%\n",
            "2023-12-08 23:43:14,838 - root - INFO - Precision: 0.9713\n",
            "2023-12-08 23:43:14,839 - root - INFO - Recall: 0.9714\n",
            "2023-12-08 23:43:14,842 - root - INFO - F1 Score: 0.9706\n"
          ]
        },
        {
          "metadata": {
            "tags": null
          },
          "name": "stdout",
          "output_type": "stream",
          "text": [
            "Epoch [6/10], Step [100/3079], Loss: 0.0347\n",
            "Epoch [6/10], Step [200/3079], Loss: 0.0481\n",
            "Epoch [6/10], Step [300/3079], Loss: 0.2288\n",
            "Epoch [6/10], Step [400/3079], Loss: 0.0150\n",
            "Epoch [6/10], Step [500/3079], Loss: 0.0529\n",
            "Epoch [6/10], Step [600/3079], Loss: 0.0071\n",
            "Epoch [6/10], Step [700/3079], Loss: 0.0461\n",
            "Epoch [6/10], Step [800/3079], Loss: 0.1787\n",
            "Epoch [6/10], Step [900/3079], Loss: 0.0113\n",
            "Epoch [6/10], Step [1000/3079], Loss: 0.1005\n",
            "Epoch [6/10], Step [1100/3079], Loss: 0.2709\n",
            "Epoch [6/10], Step [1200/3079], Loss: 0.0237\n",
            "Epoch [6/10], Step [1300/3079], Loss: 0.2786\n",
            "Epoch [6/10], Step [1400/3079], Loss: 0.0267\n",
            "Epoch [6/10], Step [1500/3079], Loss: 0.0721\n",
            "Epoch [6/10], Step [1600/3079], Loss: 0.1139\n",
            "Epoch [6/10], Step [1700/3079], Loss: 0.0182\n",
            "Epoch [6/10], Step [1800/3079], Loss: 0.0120\n",
            "Epoch [6/10], Step [1900/3079], Loss: 0.0321\n",
            "Epoch [6/10], Step [2000/3079], Loss: 0.0326\n",
            "Epoch [6/10], Step [2100/3079], Loss: 0.0059\n",
            "Epoch [6/10], Step [2200/3079], Loss: 0.0337\n",
            "Epoch [6/10], Step [2300/3079], Loss: 0.1134\n",
            "Epoch [6/10], Step [2400/3079], Loss: 0.1576\n",
            "Epoch [6/10], Step [2500/3079], Loss: 0.3581\n",
            "Epoch [6/10], Step [2600/3079], Loss: 0.1642\n",
            "Epoch [6/10], Step [2700/3079], Loss: 0.0435\n",
            "Epoch [6/10], Step [2800/3079], Loss: 0.0286\n",
            "Epoch [6/10], Step [2900/3079], Loss: 0.0339\n",
            "Epoch [6/10], Step [3000/3079], Loss: 0.3575\n"
          ]
        },
        {
          "metadata": {
            "tags": null
          },
          "name": "stderr",
          "output_type": "stream",
          "text": [
            "2023-12-08 23:43:26,275 - root - INFO - Accuracy: 97.73%\n",
            "2023-12-08 23:43:26,276 - root - INFO - Precision: 0.9768\n",
            "2023-12-08 23:43:26,278 - root - INFO - Recall: 0.9773\n",
            "2023-12-08 23:43:26,279 - root - INFO - F1 Score: 0.9761\n"
          ]
        },
        {
          "metadata": {
            "tags": null
          },
          "name": "stdout",
          "output_type": "stream",
          "text": [
            "Epoch [7/10], Step [100/3079], Loss: 0.0410\n",
            "Epoch [7/10], Step [200/3079], Loss: 0.0940\n",
            "Epoch [7/10], Step [300/3079], Loss: 0.0434\n",
            "Epoch [7/10], Step [400/3079], Loss: 0.0754\n",
            "Epoch [7/10], Step [500/3079], Loss: 0.0549\n",
            "Epoch [7/10], Step [600/3079], Loss: 0.1315\n",
            "Epoch [7/10], Step [700/3079], Loss: 0.0142\n",
            "Epoch [7/10], Step [800/3079], Loss: 0.1335\n",
            "Epoch [7/10], Step [900/3079], Loss: 0.2019\n",
            "Epoch [7/10], Step [1000/3079], Loss: 0.1588\n",
            "Epoch [7/10], Step [1100/3079], Loss: 0.0449\n",
            "Epoch [7/10], Step [1200/3079], Loss: 0.1603\n",
            "Epoch [7/10], Step [1300/3079], Loss: 0.0831\n",
            "Epoch [7/10], Step [1400/3079], Loss: 0.0704\n",
            "Epoch [7/10], Step [1500/3079], Loss: 0.0438\n",
            "Epoch [7/10], Step [1600/3079], Loss: 0.0443\n",
            "Epoch [7/10], Step [1700/3079], Loss: 0.0347\n",
            "Epoch [7/10], Step [1800/3079], Loss: 0.0084\n",
            "Epoch [7/10], Step [1900/3079], Loss: 0.0109\n",
            "Epoch [7/10], Step [2000/3079], Loss: 0.0137\n",
            "Epoch [7/10], Step [2100/3079], Loss: 0.2674\n",
            "Epoch [7/10], Step [2200/3079], Loss: 0.1677\n",
            "Epoch [7/10], Step [2300/3079], Loss: 0.0111\n",
            "Epoch [7/10], Step [2400/3079], Loss: 0.0299\n",
            "Epoch [7/10], Step [2500/3079], Loss: 0.3015\n",
            "Epoch [7/10], Step [2600/3079], Loss: 0.1037\n",
            "Epoch [7/10], Step [2700/3079], Loss: 0.0182\n",
            "Epoch [7/10], Step [2800/3079], Loss: 0.0265\n",
            "Epoch [7/10], Step [2900/3079], Loss: 0.0117\n",
            "Epoch [7/10], Step [3000/3079], Loss: 0.0901\n"
          ]
        },
        {
          "metadata": {
            "tags": null
          },
          "name": "stderr",
          "output_type": "stream",
          "text": [
            "2023-12-08 23:43:37,704 - root - INFO - Accuracy: 97.55%\n",
            "2023-12-08 23:43:37,705 - root - INFO - Precision: 0.9752\n",
            "2023-12-08 23:43:37,706 - root - INFO - Recall: 0.9755\n",
            "2023-12-08 23:43:37,707 - root - INFO - F1 Score: 0.9737\n"
          ]
        },
        {
          "metadata": {
            "tags": null
          },
          "name": "stdout",
          "output_type": "stream",
          "text": [
            "Epoch [8/10], Step [100/3079], Loss: 0.0123\n",
            "Epoch [8/10], Step [200/3079], Loss: 0.0700\n",
            "Epoch [8/10], Step [300/3079], Loss: 0.1271\n",
            "Epoch [8/10], Step [400/3079], Loss: 0.1494\n",
            "Epoch [8/10], Step [500/3079], Loss: 0.0985\n",
            "Epoch [8/10], Step [600/3079], Loss: 0.2826\n",
            "Epoch [8/10], Step [700/3079], Loss: 0.1221\n",
            "Epoch [8/10], Step [800/3079], Loss: 0.0819\n",
            "Epoch [8/10], Step [900/3079], Loss: 0.0146\n",
            "Epoch [8/10], Step [1000/3079], Loss: 0.0190\n",
            "Epoch [8/10], Step [1100/3079], Loss: 0.0595\n",
            "Epoch [8/10], Step [1200/3079], Loss: 0.0307\n",
            "Epoch [8/10], Step [1300/3079], Loss: 0.2012\n",
            "Epoch [8/10], Step [1400/3079], Loss: 0.0197\n",
            "Epoch [8/10], Step [1500/3079], Loss: 0.1204\n",
            "Epoch [8/10], Step [1600/3079], Loss: 0.1304\n",
            "Epoch [8/10], Step [1700/3079], Loss: 0.1625\n",
            "Epoch [8/10], Step [1800/3079], Loss: 0.0108\n",
            "Epoch [8/10], Step [1900/3079], Loss: 0.0297\n",
            "Epoch [8/10], Step [2000/3079], Loss: 0.0159\n",
            "Epoch [8/10], Step [2100/3079], Loss: 0.0147\n",
            "Epoch [8/10], Step [2200/3079], Loss: 0.1350\n",
            "Epoch [8/10], Step [2300/3079], Loss: 0.4333\n",
            "Epoch [8/10], Step [2400/3079], Loss: 0.0146\n",
            "Epoch [8/10], Step [2500/3079], Loss: 0.0164\n",
            "Epoch [8/10], Step [2600/3079], Loss: 0.0105\n",
            "Epoch [8/10], Step [2700/3079], Loss: 0.1311\n",
            "Epoch [8/10], Step [2800/3079], Loss: 0.2441\n",
            "Epoch [8/10], Step [2900/3079], Loss: 0.0326\n",
            "Epoch [8/10], Step [3000/3079], Loss: 0.1364\n"
          ]
        },
        {
          "metadata": {
            "tags": null
          },
          "name": "stderr",
          "output_type": "stream",
          "text": [
            "2023-12-08 23:43:49,292 - root - INFO - Accuracy: 97.68%\n",
            "2023-12-08 23:43:49,294 - root - INFO - Precision: 0.9761\n",
            "2023-12-08 23:43:49,294 - root - INFO - Recall: 0.9768\n",
            "2023-12-08 23:43:49,295 - root - INFO - F1 Score: 0.9756\n"
          ]
        },
        {
          "metadata": {
            "tags": null
          },
          "name": "stdout",
          "output_type": "stream",
          "text": [
            "Epoch [9/10], Step [100/3079], Loss: 0.1440\n",
            "Epoch [9/10], Step [200/3079], Loss: 0.1606\n",
            "Epoch [9/10], Step [300/3079], Loss: 0.0495\n",
            "Epoch [9/10], Step [400/3079], Loss: 0.1491\n",
            "Epoch [9/10], Step [500/3079], Loss: 0.0270\n",
            "Epoch [9/10], Step [600/3079], Loss: 0.1351\n",
            "Epoch [9/10], Step [700/3079], Loss: 0.0907\n",
            "Epoch [9/10], Step [800/3079], Loss: 0.0199\n",
            "Epoch [9/10], Step [900/3079], Loss: 0.0610\n",
            "Epoch [9/10], Step [1000/3079], Loss: 0.1310\n",
            "Epoch [9/10], Step [1100/3079], Loss: 0.1176\n",
            "Epoch [9/10], Step [1200/3079], Loss: 0.1873\n",
            "Epoch [9/10], Step [1300/3079], Loss: 0.0179\n",
            "Epoch [9/10], Step [1400/3079], Loss: 0.2670\n",
            "Epoch [9/10], Step [1500/3079], Loss: 0.0270\n",
            "Epoch [9/10], Step [1600/3079], Loss: 0.0237\n",
            "Epoch [9/10], Step [1700/3079], Loss: 0.0204\n",
            "Epoch [9/10], Step [1800/3079], Loss: 0.0123\n",
            "Epoch [9/10], Step [1900/3079], Loss: 0.0177\n",
            "Epoch [9/10], Step [2000/3079], Loss: 0.0142\n",
            "Epoch [9/10], Step [2100/3079], Loss: 0.0254\n",
            "Epoch [9/10], Step [2200/3079], Loss: 0.0494\n",
            "Epoch [9/10], Step [2300/3079], Loss: 0.1189\n",
            "Epoch [9/10], Step [2400/3079], Loss: 0.0598\n",
            "Epoch [9/10], Step [2500/3079], Loss: 0.1610\n",
            "Epoch [9/10], Step [2600/3079], Loss: 0.0094\n",
            "Epoch [9/10], Step [2700/3079], Loss: 0.0189\n",
            "Epoch [9/10], Step [2800/3079], Loss: 0.1454\n",
            "Epoch [9/10], Step [2900/3079], Loss: 0.0719\n",
            "Epoch [9/10], Step [3000/3079], Loss: 0.1684\n"
          ]
        },
        {
          "metadata": {
            "tags": null
          },
          "name": "stderr",
          "output_type": "stream",
          "text": [
            "2023-12-08 23:44:00,875 - root - INFO - Accuracy: 98.12%\n",
            "2023-12-08 23:44:00,876 - root - INFO - Precision: 0.9806\n",
            "2023-12-08 23:44:00,877 - root - INFO - Recall: 0.9812\n",
            "2023-12-08 23:44:00,878 - root - INFO - F1 Score: 0.9802\n"
          ]
        },
        {
          "metadata": {
            "tags": null
          },
          "name": "stdout",
          "output_type": "stream",
          "text": [
            "Epoch [10/10], Step [100/3079], Loss: 0.0953\n",
            "Epoch [10/10], Step [200/3079], Loss: 0.0490\n",
            "Epoch [10/10], Step [300/3079], Loss: 0.1192\n",
            "Epoch [10/10], Step [400/3079], Loss: 0.0194\n",
            "Epoch [10/10], Step [500/3079], Loss: 0.0939\n",
            "Epoch [10/10], Step [600/3079], Loss: 0.0344\n",
            "Epoch [10/10], Step [700/3079], Loss: 0.0750\n",
            "Epoch [10/10], Step [800/3079], Loss: 0.0490\n",
            "Epoch [10/10], Step [900/3079], Loss: 0.2180\n",
            "Epoch [10/10], Step [1000/3079], Loss: 0.2843\n",
            "Epoch [10/10], Step [1100/3079], Loss: 0.2576\n",
            "Epoch [10/10], Step [1200/3079], Loss: 0.0549\n",
            "Epoch [10/10], Step [1300/3079], Loss: 0.2154\n",
            "Epoch [10/10], Step [1400/3079], Loss: 0.0478\n",
            "Epoch [10/10], Step [1500/3079], Loss: 0.0980\n",
            "Epoch [10/10], Step [1600/3079], Loss: 0.1001\n",
            "Epoch [10/10], Step [1700/3079], Loss: 0.0989\n",
            "Epoch [10/10], Step [1800/3079], Loss: 0.1423\n",
            "Epoch [10/10], Step [1900/3079], Loss: 0.0137\n",
            "Epoch [10/10], Step [2000/3079], Loss: 0.0204\n",
            "Epoch [10/10], Step [2100/3079], Loss: 0.0831\n",
            "Epoch [10/10], Step [2200/3079], Loss: 0.0805\n",
            "Epoch [10/10], Step [2300/3079], Loss: 0.0542\n",
            "Epoch [10/10], Step [2400/3079], Loss: 0.0956\n",
            "Epoch [10/10], Step [2500/3079], Loss: 0.0655\n",
            "Epoch [10/10], Step [2600/3079], Loss: 0.0242\n",
            "Epoch [10/10], Step [2700/3079], Loss: 0.2878\n",
            "Epoch [10/10], Step [2800/3079], Loss: 0.0400\n",
            "Epoch [10/10], Step [2900/3079], Loss: 0.0521\n",
            "Epoch [10/10], Step [3000/3079], Loss: 0.1068\n"
          ]
        },
        {
          "metadata": {
            "tags": null
          },
          "name": "stderr",
          "output_type": "stream",
          "text": [
            "2023-12-08 23:44:12,349 - root - INFO - Accuracy: 97.63%\n",
            "2023-12-08 23:44:12,350 - root - INFO - Precision: 0.9760\n",
            "2023-12-08 23:44:12,351 - root - INFO - Recall: 0.9763\n",
            "2023-12-08 23:44:12,352 - root - INFO - F1 Score: 0.9749\n"
          ]
        },
        {
          "metadata": {
            "tags": null
          },
          "name": "stdout",
          "output_type": "stream",
          "text": [
            "FOLD 1\n",
            "--------------------------------\n",
            "OSCNN(\n",
            "  (conv1): Conv1d(1, 128, kernel_size=(8,), stride=(1,), padding=same)\n",
            "  (bn1): BatchNorm1d(128, eps=1e-05, momentum=0.1, affine=True, track_running_stats=True)\n",
            "  (conv2): Conv1d(128, 256, kernel_size=(5,), stride=(1,), padding=same)\n",
            "  (bn2): BatchNorm1d(256, eps=1e-05, momentum=0.1, affine=True, track_running_stats=True)\n",
            "  (conv3): Conv1d(256, 128, kernel_size=(3,), stride=(1,), padding=same)\n",
            "  (bn3): BatchNorm1d(128, eps=1e-05, momentum=0.1, affine=True, track_running_stats=True)\n",
            "  (avg_pool): AdaptiveAvgPool1d(output_size=1)\n",
            "  (fc): Linear(in_features=128, out_features=5, bias=True)\n",
            ")\n",
            "Epoch [1/10], Step [100/3079], Loss: 0.7915\n",
            "Epoch [1/10], Step [200/3079], Loss: 0.3777\n",
            "Epoch [1/10], Step [300/3079], Loss: 0.4496\n",
            "Epoch [1/10], Step [400/3079], Loss: 0.1763\n",
            "Epoch [1/10], Step [500/3079], Loss: 0.2065\n",
            "Epoch [1/10], Step [600/3079], Loss: 0.2819\n",
            "Epoch [1/10], Step [700/3079], Loss: 0.1695\n",
            "Epoch [1/10], Step [800/3079], Loss: 0.4360\n",
            "Epoch [1/10], Step [900/3079], Loss: 0.6001\n",
            "Epoch [1/10], Step [1000/3079], Loss: 0.3756\n",
            "Epoch [1/10], Step [1100/3079], Loss: 0.0615\n",
            "Epoch [1/10], Step [1200/3079], Loss: 0.4229\n",
            "Epoch [1/10], Step [1300/3079], Loss: 0.1293\n",
            "Epoch [1/10], Step [1400/3079], Loss: 0.0554\n",
            "Epoch [1/10], Step [1500/3079], Loss: 0.1608\n",
            "Epoch [1/10], Step [1600/3079], Loss: 0.2811\n",
            "Epoch [1/10], Step [1700/3079], Loss: 0.1948\n",
            "Epoch [1/10], Step [1800/3079], Loss: 0.3009\n",
            "Epoch [1/10], Step [1900/3079], Loss: 0.4103\n",
            "Epoch [1/10], Step [2000/3079], Loss: 0.0572\n",
            "Epoch [1/10], Step [2100/3079], Loss: 0.0995\n",
            "Epoch [1/10], Step [2200/3079], Loss: 0.2731\n",
            "Epoch [1/10], Step [2300/3079], Loss: 0.3172\n",
            "Epoch [1/10], Step [2400/3079], Loss: 0.1327\n",
            "Epoch [1/10], Step [2500/3079], Loss: 0.2176\n",
            "Epoch [1/10], Step [2600/3079], Loss: 0.1881\n",
            "Epoch [1/10], Step [2700/3079], Loss: 0.0600\n",
            "Epoch [1/10], Step [2800/3079], Loss: 0.1554\n",
            "Epoch [1/10], Step [2900/3079], Loss: 0.0676\n",
            "Epoch [1/10], Step [3000/3079], Loss: 0.0805\n"
          ]
        },
        {
          "metadata": {
            "tags": null
          },
          "name": "stderr",
          "output_type": "stream",
          "text": [
            "2023-12-08 23:44:23,683 - root - INFO - Accuracy: 96.13%\n",
            "2023-12-08 23:44:23,685 - root - INFO - Precision: 0.9609\n",
            "2023-12-08 23:44:23,685 - root - INFO - Recall: 0.9613\n",
            "2023-12-08 23:44:23,686 - root - INFO - F1 Score: 0.9577\n"
          ]
        },
        {
          "metadata": {
            "tags": null
          },
          "name": "stdout",
          "output_type": "stream",
          "text": [
            "Epoch [2/10], Step [100/3079], Loss: 0.0665\n",
            "Epoch [2/10], Step [200/3079], Loss: 0.1555\n",
            "Epoch [2/10], Step [300/3079], Loss: 0.1657\n",
            "Epoch [2/10], Step [400/3079], Loss: 0.2244\n",
            "Epoch [2/10], Step [500/3079], Loss: 0.0459\n",
            "Epoch [2/10], Step [600/3079], Loss: 0.2417\n",
            "Epoch [2/10], Step [700/3079], Loss: 0.0507\n",
            "Epoch [2/10], Step [800/3079], Loss: 0.3498\n",
            "Epoch [2/10], Step [900/3079], Loss: 0.0491\n",
            "Epoch [2/10], Step [1000/3079], Loss: 0.1722\n",
            "Epoch [2/10], Step [1100/3079], Loss: 0.2951\n",
            "Epoch [2/10], Step [1200/3079], Loss: 0.1576\n",
            "Epoch [2/10], Step [1300/3079], Loss: 0.0447\n",
            "Epoch [2/10], Step [1400/3079], Loss: 0.0372\n",
            "Epoch [2/10], Step [1500/3079], Loss: 0.2149\n",
            "Epoch [2/10], Step [1600/3079], Loss: 0.1737\n",
            "Epoch [2/10], Step [1700/3079], Loss: 0.2589\n",
            "Epoch [2/10], Step [1800/3079], Loss: 0.0598\n",
            "Epoch [2/10], Step [1900/3079], Loss: 0.2514\n",
            "Epoch [2/10], Step [2000/3079], Loss: 0.0439\n",
            "Epoch [2/10], Step [2100/3079], Loss: 0.0478\n",
            "Epoch [2/10], Step [2200/3079], Loss: 0.2336\n",
            "Epoch [2/10], Step [2300/3079], Loss: 0.1756\n",
            "Epoch [2/10], Step [2400/3079], Loss: 0.0165\n",
            "Epoch [2/10], Step [2500/3079], Loss: 0.1783\n",
            "Epoch [2/10], Step [2600/3079], Loss: 0.0686\n",
            "Epoch [2/10], Step [2700/3079], Loss: 0.0698\n",
            "Epoch [2/10], Step [2800/3079], Loss: 0.2039\n",
            "Epoch [2/10], Step [2900/3079], Loss: 0.0295\n",
            "Epoch [2/10], Step [3000/3079], Loss: 0.0412\n"
          ]
        },
        {
          "metadata": {
            "tags": null
          },
          "name": "stderr",
          "output_type": "stream",
          "text": [
            "2023-12-08 23:44:35,198 - root - INFO - Accuracy: 96.63%\n",
            "2023-12-08 23:44:35,199 - root - INFO - Precision: 0.9658\n",
            "2023-12-08 23:44:35,199 - root - INFO - Recall: 0.9663\n",
            "2023-12-08 23:44:35,200 - root - INFO - F1 Score: 0.9643\n"
          ]
        },
        {
          "metadata": {
            "tags": null
          },
          "name": "stdout",
          "output_type": "stream",
          "text": [
            "Epoch [3/10], Step [100/3079], Loss: 0.2167\n",
            "Epoch [3/10], Step [200/3079], Loss: 0.1416\n",
            "Epoch [3/10], Step [300/3079], Loss: 0.3117\n",
            "Epoch [3/10], Step [400/3079], Loss: 0.0340\n",
            "Epoch [3/10], Step [500/3079], Loss: 0.1913\n",
            "Epoch [3/10], Step [600/3079], Loss: 0.1750\n",
            "Epoch [3/10], Step [700/3079], Loss: 0.1668\n",
            "Epoch [3/10], Step [800/3079], Loss: 0.1704\n",
            "Epoch [3/10], Step [900/3079], Loss: 0.1252\n",
            "Epoch [3/10], Step [1000/3079], Loss: 0.0972\n",
            "Epoch [3/10], Step [1100/3079], Loss: 0.1098\n",
            "Epoch [3/10], Step [1200/3079], Loss: 0.3100\n",
            "Epoch [3/10], Step [1300/3079], Loss: 0.0591\n",
            "Epoch [3/10], Step [1400/3079], Loss: 0.1518\n",
            "Epoch [3/10], Step [1500/3079], Loss: 0.0193\n",
            "Epoch [3/10], Step [1600/3079], Loss: 0.2882\n",
            "Epoch [3/10], Step [1700/3079], Loss: 0.0189\n",
            "Epoch [3/10], Step [1800/3079], Loss: 0.1463\n",
            "Epoch [3/10], Step [1900/3079], Loss: 0.1137\n",
            "Epoch [3/10], Step [2000/3079], Loss: 0.0155\n",
            "Epoch [3/10], Step [2100/3079], Loss: 0.0604\n",
            "Epoch [3/10], Step [2200/3079], Loss: 0.0208\n",
            "Epoch [3/10], Step [2300/3079], Loss: 0.2635\n",
            "Epoch [3/10], Step [2400/3079], Loss: 0.0990\n",
            "Epoch [3/10], Step [2500/3079], Loss: 0.0851\n",
            "Epoch [3/10], Step [2600/3079], Loss: 0.2298\n",
            "Epoch [3/10], Step [2700/3079], Loss: 0.0170\n",
            "Epoch [3/10], Step [2800/3079], Loss: 0.0111\n",
            "Epoch [3/10], Step [2900/3079], Loss: 0.2186\n",
            "Epoch [3/10], Step [3000/3079], Loss: 0.0640\n"
          ]
        },
        {
          "metadata": {
            "tags": null
          },
          "name": "stderr",
          "output_type": "stream",
          "text": [
            "2023-12-08 23:44:46,605 - root - INFO - Accuracy: 96.92%\n",
            "2023-12-08 23:44:46,606 - root - INFO - Precision: 0.9683\n",
            "2023-12-08 23:44:46,607 - root - INFO - Recall: 0.9692\n",
            "2023-12-08 23:44:46,609 - root - INFO - F1 Score: 0.9666\n"
          ]
        },
        {
          "metadata": {
            "tags": null
          },
          "name": "stdout",
          "output_type": "stream",
          "text": [
            "Epoch [4/10], Step [100/3079], Loss: 0.0183\n",
            "Epoch [4/10], Step [200/3079], Loss: 0.0738\n",
            "Epoch [4/10], Step [300/3079], Loss: 0.0405\n",
            "Epoch [4/10], Step [400/3079], Loss: 0.1513\n",
            "Epoch [4/10], Step [500/3079], Loss: 0.1482\n",
            "Epoch [4/10], Step [600/3079], Loss: 0.0484\n",
            "Epoch [4/10], Step [700/3079], Loss: 0.0247\n",
            "Epoch [4/10], Step [800/3079], Loss: 0.0410\n",
            "Epoch [4/10], Step [900/3079], Loss: 0.1514\n",
            "Epoch [4/10], Step [1000/3079], Loss: 0.3137\n",
            "Epoch [4/10], Step [1100/3079], Loss: 0.0160\n",
            "Epoch [4/10], Step [1200/3079], Loss: 0.0498\n",
            "Epoch [4/10], Step [1300/3079], Loss: 0.0618\n",
            "Epoch [4/10], Step [1400/3079], Loss: 0.2802\n",
            "Epoch [4/10], Step [1500/3079], Loss: 0.1648\n",
            "Epoch [4/10], Step [1600/3079], Loss: 0.2304\n",
            "Epoch [4/10], Step [1700/3079], Loss: 0.0373\n",
            "Epoch [4/10], Step [1800/3079], Loss: 0.1317\n",
            "Epoch [4/10], Step [1900/3079], Loss: 0.1986\n",
            "Epoch [4/10], Step [2000/3079], Loss: 0.0709\n",
            "Epoch [4/10], Step [2100/3079], Loss: 0.1288\n",
            "Epoch [4/10], Step [2200/3079], Loss: 0.0566\n",
            "Epoch [4/10], Step [2300/3079], Loss: 0.0281\n",
            "Epoch [4/10], Step [2400/3079], Loss: 0.1238\n",
            "Epoch [4/10], Step [2500/3079], Loss: 0.1220\n",
            "Epoch [4/10], Step [2600/3079], Loss: 0.1391\n",
            "Epoch [4/10], Step [2700/3079], Loss: 0.0880\n",
            "Epoch [4/10], Step [2800/3079], Loss: 0.0335\n",
            "Epoch [4/10], Step [2900/3079], Loss: 0.0172\n",
            "Epoch [4/10], Step [3000/3079], Loss: 0.0946\n"
          ]
        },
        {
          "metadata": {
            "tags": null
          },
          "name": "stderr",
          "output_type": "stream",
          "text": [
            "2023-12-08 23:44:58,205 - root - INFO - Accuracy: 97.41%\n",
            "2023-12-08 23:44:58,206 - root - INFO - Precision: 0.9731\n",
            "2023-12-08 23:44:58,207 - root - INFO - Recall: 0.9741\n",
            "2023-12-08 23:44:58,208 - root - INFO - F1 Score: 0.9732\n"
          ]
        },
        {
          "metadata": {
            "tags": null
          },
          "name": "stdout",
          "output_type": "stream",
          "text": [
            "Epoch [5/10], Step [100/3079], Loss: 0.0313\n",
            "Epoch [5/10], Step [200/3079], Loss: 0.0813\n",
            "Epoch [5/10], Step [300/3079], Loss: 0.0309\n",
            "Epoch [5/10], Step [400/3079], Loss: 0.7289\n",
            "Epoch [5/10], Step [500/3079], Loss: 0.1365\n",
            "Epoch [5/10], Step [600/3079], Loss: 0.2166\n",
            "Epoch [5/10], Step [700/3079], Loss: 0.0544\n",
            "Epoch [5/10], Step [800/3079], Loss: 0.0383\n",
            "Epoch [5/10], Step [900/3079], Loss: 0.2222\n",
            "Epoch [5/10], Step [1000/3079], Loss: 0.0867\n",
            "Epoch [5/10], Step [1100/3079], Loss: 0.0474\n",
            "Epoch [5/10], Step [1200/3079], Loss: 0.2053\n",
            "Epoch [5/10], Step [1300/3079], Loss: 0.0600\n",
            "Epoch [5/10], Step [1400/3079], Loss: 0.3610\n",
            "Epoch [5/10], Step [1500/3079], Loss: 0.0631\n",
            "Epoch [5/10], Step [1600/3079], Loss: 0.0159\n",
            "Epoch [5/10], Step [1700/3079], Loss: 0.1562\n",
            "Epoch [5/10], Step [1800/3079], Loss: 0.0250\n",
            "Epoch [5/10], Step [1900/3079], Loss: 0.3750\n",
            "Epoch [5/10], Step [2000/3079], Loss: 0.0809\n",
            "Epoch [5/10], Step [2100/3079], Loss: 0.1383\n",
            "Epoch [5/10], Step [2200/3079], Loss: 0.0555\n",
            "Epoch [5/10], Step [2300/3079], Loss: 0.0466\n",
            "Epoch [5/10], Step [2400/3079], Loss: 0.0306\n",
            "Epoch [5/10], Step [2500/3079], Loss: 0.1279\n",
            "Epoch [5/10], Step [2600/3079], Loss: 0.0495\n",
            "Epoch [5/10], Step [2700/3079], Loss: 0.0209\n",
            "Epoch [5/10], Step [2800/3079], Loss: 0.0407\n",
            "Epoch [5/10], Step [2900/3079], Loss: 0.0216\n",
            "Epoch [5/10], Step [3000/3079], Loss: 0.2803\n"
          ]
        },
        {
          "metadata": {
            "tags": null
          },
          "name": "stderr",
          "output_type": "stream",
          "text": [
            "2023-12-08 23:45:09,718 - root - INFO - Accuracy: 97.54%\n",
            "2023-12-08 23:45:09,719 - root - INFO - Precision: 0.9748\n",
            "2023-12-08 23:45:09,720 - root - INFO - Recall: 0.9754\n",
            "2023-12-08 23:45:09,721 - root - INFO - F1 Score: 0.9742\n"
          ]
        },
        {
          "metadata": {
            "tags": null
          },
          "name": "stdout",
          "output_type": "stream",
          "text": [
            "Epoch [6/10], Step [100/3079], Loss: 0.0352\n",
            "Epoch [6/10], Step [200/3079], Loss: 0.0716\n",
            "Epoch [6/10], Step [300/3079], Loss: 0.0044\n",
            "Epoch [6/10], Step [400/3079], Loss: 0.0121\n",
            "Epoch [6/10], Step [500/3079], Loss: 0.0276\n",
            "Epoch [6/10], Step [600/3079], Loss: 0.0161\n",
            "Epoch [6/10], Step [700/3079], Loss: 0.4010\n",
            "Epoch [6/10], Step [800/3079], Loss: 0.0616\n",
            "Epoch [6/10], Step [900/3079], Loss: 0.0125\n",
            "Epoch [6/10], Step [1000/3079], Loss: 0.1392\n",
            "Epoch [6/10], Step [1100/3079], Loss: 0.3606\n",
            "Epoch [6/10], Step [1200/3079], Loss: 0.0207\n",
            "Epoch [6/10], Step [1300/3079], Loss: 0.1440\n",
            "Epoch [6/10], Step [1400/3079], Loss: 0.0433\n",
            "Epoch [6/10], Step [1500/3079], Loss: 0.0780\n",
            "Epoch [6/10], Step [1600/3079], Loss: 0.0823\n",
            "Epoch [6/10], Step [1700/3079], Loss: 0.1001\n",
            "Epoch [6/10], Step [1800/3079], Loss: 0.0759\n",
            "Epoch [6/10], Step [1900/3079], Loss: 0.0187\n",
            "Epoch [6/10], Step [2000/3079], Loss: 0.1413\n",
            "Epoch [6/10], Step [2100/3079], Loss: 0.0981\n",
            "Epoch [6/10], Step [2200/3079], Loss: 0.2629\n",
            "Epoch [6/10], Step [2300/3079], Loss: 0.0357\n",
            "Epoch [6/10], Step [2400/3079], Loss: 0.1816\n",
            "Epoch [6/10], Step [2500/3079], Loss: 0.0271\n",
            "Epoch [6/10], Step [2600/3079], Loss: 0.0176\n",
            "Epoch [6/10], Step [2700/3079], Loss: 0.0462\n",
            "Epoch [6/10], Step [2800/3079], Loss: 0.2240\n",
            "Epoch [6/10], Step [2900/3079], Loss: 0.0884\n",
            "Epoch [6/10], Step [3000/3079], Loss: 0.0356\n"
          ]
        },
        {
          "metadata": {
            "tags": null
          },
          "name": "stderr",
          "output_type": "stream",
          "text": [
            "2023-12-08 23:45:21,189 - root - INFO - Accuracy: 97.30%\n",
            "2023-12-08 23:45:21,190 - root - INFO - Precision: 0.9724\n",
            "2023-12-08 23:45:21,191 - root - INFO - Recall: 0.9730\n",
            "2023-12-08 23:45:21,192 - root - INFO - F1 Score: 0.9708\n"
          ]
        },
        {
          "metadata": {
            "tags": null
          },
          "name": "stdout",
          "output_type": "stream",
          "text": [
            "Epoch [7/10], Step [100/3079], Loss: 0.0745\n",
            "Epoch [7/10], Step [200/3079], Loss: 0.0248\n",
            "Epoch [7/10], Step [300/3079], Loss: 0.0220\n",
            "Epoch [7/10], Step [400/3079], Loss: 0.3094\n",
            "Epoch [7/10], Step [500/3079], Loss: 0.0253\n",
            "Epoch [7/10], Step [600/3079], Loss: 0.1162\n",
            "Epoch [7/10], Step [700/3079], Loss: 0.0383\n",
            "Epoch [7/10], Step [800/3079], Loss: 0.0186\n",
            "Epoch [7/10], Step [900/3079], Loss: 0.0234\n",
            "Epoch [7/10], Step [1000/3079], Loss: 0.0107\n",
            "Epoch [7/10], Step [1100/3079], Loss: 0.0257\n",
            "Epoch [7/10], Step [1200/3079], Loss: 0.0778\n",
            "Epoch [7/10], Step [1300/3079], Loss: 0.0432\n",
            "Epoch [7/10], Step [1400/3079], Loss: 0.2056\n",
            "Epoch [7/10], Step [1500/3079], Loss: 0.3385\n",
            "Epoch [7/10], Step [1600/3079], Loss: 0.0511\n",
            "Epoch [7/10], Step [1700/3079], Loss: 0.2409\n",
            "Epoch [7/10], Step [1800/3079], Loss: 0.0611\n",
            "Epoch [7/10], Step [1900/3079], Loss: 0.0548\n",
            "Epoch [7/10], Step [2000/3079], Loss: 0.0681\n",
            "Epoch [7/10], Step [2100/3079], Loss: 0.0229\n",
            "Epoch [7/10], Step [2200/3079], Loss: 0.3628\n",
            "Epoch [7/10], Step [2300/3079], Loss: 0.1791\n",
            "Epoch [7/10], Step [2400/3079], Loss: 0.0610\n",
            "Epoch [7/10], Step [2500/3079], Loss: 0.0217\n",
            "Epoch [7/10], Step [2600/3079], Loss: 0.0333\n",
            "Epoch [7/10], Step [2700/3079], Loss: 0.0264\n",
            "Epoch [7/10], Step [2800/3079], Loss: 0.1099\n",
            "Epoch [7/10], Step [2900/3079], Loss: 0.0499\n",
            "Epoch [7/10], Step [3000/3079], Loss: 0.2523\n"
          ]
        },
        {
          "metadata": {
            "tags": null
          },
          "name": "stderr",
          "output_type": "stream",
          "text": [
            "2023-12-08 23:45:32,670 - root - INFO - Accuracy: 97.22%\n",
            "2023-12-08 23:45:32,671 - root - INFO - Precision: 0.9722\n",
            "2023-12-08 23:45:32,672 - root - INFO - Recall: 0.9722\n",
            "2023-12-08 23:45:32,673 - root - INFO - F1 Score: 0.9705\n"
          ]
        },
        {
          "metadata": {
            "tags": null
          },
          "name": "stdout",
          "output_type": "stream",
          "text": [
            "Epoch [8/10], Step [100/3079], Loss: 0.0947\n",
            "Epoch [8/10], Step [200/3079], Loss: 0.0357\n",
            "Epoch [8/10], Step [300/3079], Loss: 0.0311\n",
            "Epoch [8/10], Step [400/3079], Loss: 0.1300\n",
            "Epoch [8/10], Step [500/3079], Loss: 0.0087\n",
            "Epoch [8/10], Step [600/3079], Loss: 0.0212\n",
            "Epoch [8/10], Step [700/3079], Loss: 0.0274\n",
            "Epoch [8/10], Step [800/3079], Loss: 0.0134\n",
            "Epoch [8/10], Step [900/3079], Loss: 0.1758\n",
            "Epoch [8/10], Step [1000/3079], Loss: 0.1451\n",
            "Epoch [8/10], Step [1100/3079], Loss: 0.0092\n",
            "Epoch [8/10], Step [1200/3079], Loss: 0.0452\n",
            "Epoch [8/10], Step [1300/3079], Loss: 0.3354\n",
            "Epoch [8/10], Step [1400/3079], Loss: 0.0368\n",
            "Epoch [8/10], Step [1500/3079], Loss: 0.0465\n",
            "Epoch [8/10], Step [1600/3079], Loss: 0.0253\n",
            "Epoch [8/10], Step [1700/3079], Loss: 0.1318\n",
            "Epoch [8/10], Step [1800/3079], Loss: 0.1724\n",
            "Epoch [8/10], Step [1900/3079], Loss: 0.0089\n",
            "Epoch [8/10], Step [2000/3079], Loss: 0.0221\n",
            "Epoch [8/10], Step [2100/3079], Loss: 0.1174\n",
            "Epoch [8/10], Step [2200/3079], Loss: 0.1332\n",
            "Epoch [8/10], Step [2300/3079], Loss: 0.0095\n",
            "Epoch [8/10], Step [2400/3079], Loss: 0.1197\n",
            "Epoch [8/10], Step [2500/3079], Loss: 0.0647\n",
            "Epoch [8/10], Step [2600/3079], Loss: 0.3376\n",
            "Epoch [8/10], Step [2700/3079], Loss: 0.0228\n",
            "Epoch [8/10], Step [2800/3079], Loss: 0.0454\n",
            "Epoch [8/10], Step [2900/3079], Loss: 0.0219\n",
            "Epoch [8/10], Step [3000/3079], Loss: 0.1588\n"
          ]
        },
        {
          "metadata": {
            "tags": null
          },
          "name": "stderr",
          "output_type": "stream",
          "text": [
            "2023-12-08 23:45:44,086 - root - INFO - Accuracy: 97.70%\n",
            "2023-12-08 23:45:44,087 - root - INFO - Precision: 0.9764\n",
            "2023-12-08 23:45:44,088 - root - INFO - Recall: 0.9770\n",
            "2023-12-08 23:45:44,089 - root - INFO - F1 Score: 0.9763\n"
          ]
        },
        {
          "metadata": {
            "tags": null
          },
          "name": "stdout",
          "output_type": "stream",
          "text": [
            "Epoch [9/10], Step [100/3079], Loss: 0.0611\n",
            "Epoch [9/10], Step [200/3079], Loss: 0.1420\n",
            "Epoch [9/10], Step [300/3079], Loss: 0.2419\n",
            "Epoch [9/10], Step [400/3079], Loss: 0.0128\n",
            "Epoch [9/10], Step [500/3079], Loss: 0.1732\n",
            "Epoch [9/10], Step [600/3079], Loss: 0.1229\n",
            "Epoch [9/10], Step [700/3079], Loss: 0.0321\n",
            "Epoch [9/10], Step [800/3079], Loss: 0.0272\n",
            "Epoch [9/10], Step [900/3079], Loss: 0.0922\n",
            "Epoch [9/10], Step [1000/3079], Loss: 0.1205\n",
            "Epoch [9/10], Step [1100/3079], Loss: 0.2044\n",
            "Epoch [9/10], Step [1200/3079], Loss: 0.0371\n",
            "Epoch [9/10], Step [1300/3079], Loss: 0.0939\n",
            "Epoch [9/10], Step [1400/3079], Loss: 0.0178\n",
            "Epoch [9/10], Step [1500/3079], Loss: 0.0110\n",
            "Epoch [9/10], Step [1600/3079], Loss: 0.1572\n",
            "Epoch [9/10], Step [1700/3079], Loss: 0.0157\n",
            "Epoch [9/10], Step [1800/3079], Loss: 0.1533\n",
            "Epoch [9/10], Step [1900/3079], Loss: 0.1093\n",
            "Epoch [9/10], Step [2000/3079], Loss: 0.2114\n",
            "Epoch [9/10], Step [2100/3079], Loss: 0.0318\n",
            "Epoch [9/10], Step [2200/3079], Loss: 0.0486\n",
            "Epoch [9/10], Step [2300/3079], Loss: 0.0107\n",
            "Epoch [9/10], Step [2400/3079], Loss: 0.1708\n",
            "Epoch [9/10], Step [2500/3079], Loss: 0.0129\n",
            "Epoch [9/10], Step [2600/3079], Loss: 0.0896\n",
            "Epoch [9/10], Step [2700/3079], Loss: 0.4331\n",
            "Epoch [9/10], Step [2800/3079], Loss: 0.0512\n",
            "Epoch [9/10], Step [2900/3079], Loss: 0.0115\n",
            "Epoch [9/10], Step [3000/3079], Loss: 0.0285\n"
          ]
        },
        {
          "metadata": {
            "tags": null
          },
          "name": "stderr",
          "output_type": "stream",
          "text": [
            "2023-12-08 23:45:55,584 - root - INFO - Accuracy: 97.64%\n",
            "2023-12-08 23:45:55,585 - root - INFO - Precision: 0.9759\n",
            "2023-12-08 23:45:55,585 - root - INFO - Recall: 0.9764\n",
            "2023-12-08 23:45:55,586 - root - INFO - F1 Score: 0.9752\n"
          ]
        },
        {
          "metadata": {
            "tags": null
          },
          "name": "stdout",
          "output_type": "stream",
          "text": [
            "Epoch [10/10], Step [100/3079], Loss: 0.0295\n",
            "Epoch [10/10], Step [200/3079], Loss: 0.0275\n",
            "Epoch [10/10], Step [300/3079], Loss: 0.0493\n",
            "Epoch [10/10], Step [400/3079], Loss: 0.0229\n",
            "Epoch [10/10], Step [500/3079], Loss: 0.1224\n",
            "Epoch [10/10], Step [600/3079], Loss: 0.0357\n",
            "Epoch [10/10], Step [700/3079], Loss: 0.0243\n",
            "Epoch [10/10], Step [800/3079], Loss: 0.0994\n",
            "Epoch [10/10], Step [900/3079], Loss: 0.0273\n",
            "Epoch [10/10], Step [1000/3079], Loss: 0.0346\n",
            "Epoch [10/10], Step [1100/3079], Loss: 0.0948\n",
            "Epoch [10/10], Step [1200/3079], Loss: 0.0224\n",
            "Epoch [10/10], Step [1300/3079], Loss: 0.0060\n",
            "Epoch [10/10], Step [1400/3079], Loss: 0.4490\n",
            "Epoch [10/10], Step [1500/3079], Loss: 0.0913\n",
            "Epoch [10/10], Step [1600/3079], Loss: 0.0095\n",
            "Epoch [10/10], Step [1700/3079], Loss: 0.2521\n",
            "Epoch [10/10], Step [1800/3079], Loss: 0.0726\n",
            "Epoch [10/10], Step [1900/3079], Loss: 0.0540\n",
            "Epoch [10/10], Step [2000/3079], Loss: 0.0631\n",
            "Epoch [10/10], Step [2100/3079], Loss: 0.0624\n",
            "Epoch [10/10], Step [2200/3079], Loss: 0.0258\n",
            "Epoch [10/10], Step [2300/3079], Loss: 0.1487\n",
            "Epoch [10/10], Step [2400/3079], Loss: 0.0071\n",
            "Epoch [10/10], Step [2500/3079], Loss: 0.1127\n",
            "Epoch [10/10], Step [2600/3079], Loss: 0.0581\n",
            "Epoch [10/10], Step [2700/3079], Loss: 0.0950\n",
            "Epoch [10/10], Step [2800/3079], Loss: 0.1150\n",
            "Epoch [10/10], Step [2900/3079], Loss: 0.2941\n",
            "Epoch [10/10], Step [3000/3079], Loss: 0.0128\n"
          ]
        },
        {
          "metadata": {
            "tags": null
          },
          "name": "stderr",
          "output_type": "stream",
          "text": [
            "2023-12-08 23:46:07,086 - root - INFO - Accuracy: 98.07%\n",
            "2023-12-08 23:46:07,087 - root - INFO - Precision: 0.9800\n",
            "2023-12-08 23:46:07,088 - root - INFO - Recall: 0.9807\n",
            "2023-12-08 23:46:07,089 - root - INFO - F1 Score: 0.9800\n"
          ]
        },
        {
          "metadata": {
            "tags": null
          },
          "name": "stdout",
          "output_type": "stream",
          "text": [
            "FOLD 2\n",
            "--------------------------------\n",
            "OSCNN(\n",
            "  (conv1): Conv1d(1, 128, kernel_size=(8,), stride=(1,), padding=same)\n",
            "  (bn1): BatchNorm1d(128, eps=1e-05, momentum=0.1, affine=True, track_running_stats=True)\n",
            "  (conv2): Conv1d(128, 256, kernel_size=(5,), stride=(1,), padding=same)\n",
            "  (bn2): BatchNorm1d(256, eps=1e-05, momentum=0.1, affine=True, track_running_stats=True)\n",
            "  (conv3): Conv1d(256, 128, kernel_size=(3,), stride=(1,), padding=same)\n",
            "  (bn3): BatchNorm1d(128, eps=1e-05, momentum=0.1, affine=True, track_running_stats=True)\n",
            "  (avg_pool): AdaptiveAvgPool1d(output_size=1)\n",
            "  (fc): Linear(in_features=128, out_features=5, bias=True)\n",
            ")\n",
            "Epoch [1/10], Step [100/3079], Loss: 0.3340\n",
            "Epoch [1/10], Step [200/3079], Loss: 0.8560\n",
            "Epoch [1/10], Step [300/3079], Loss: 0.4703\n",
            "Epoch [1/10], Step [400/3079], Loss: 0.6046\n",
            "Epoch [1/10], Step [500/3079], Loss: 0.3828\n",
            "Epoch [1/10], Step [600/3079], Loss: 0.1251\n",
            "Epoch [1/10], Step [700/3079], Loss: 0.1364\n",
            "Epoch [1/10], Step [800/3079], Loss: 0.2580\n",
            "Epoch [1/10], Step [900/3079], Loss: 0.4081\n",
            "Epoch [1/10], Step [1000/3079], Loss: 0.3688\n",
            "Epoch [1/10], Step [1100/3079], Loss: 0.0646\n",
            "Epoch [1/10], Step [1200/3079], Loss: 0.4430\n",
            "Epoch [1/10], Step [1300/3079], Loss: 0.1367\n",
            "Epoch [1/10], Step [1400/3079], Loss: 0.1298\n",
            "Epoch [1/10], Step [1500/3079], Loss: 0.1529\n",
            "Epoch [1/10], Step [1600/3079], Loss: 0.2166\n",
            "Epoch [1/10], Step [1700/3079], Loss: 0.1461\n",
            "Epoch [1/10], Step [1800/3079], Loss: 0.1108\n",
            "Epoch [1/10], Step [1900/3079], Loss: 0.2484\n",
            "Epoch [1/10], Step [2000/3079], Loss: 0.1127\n",
            "Epoch [1/10], Step [2100/3079], Loss: 0.1421\n",
            "Epoch [1/10], Step [2200/3079], Loss: 0.1324\n",
            "Epoch [1/10], Step [2300/3079], Loss: 0.2645\n",
            "Epoch [1/10], Step [2400/3079], Loss: 0.3708\n",
            "Epoch [1/10], Step [2500/3079], Loss: 0.1097\n",
            "Epoch [1/10], Step [2600/3079], Loss: 0.3312\n",
            "Epoch [1/10], Step [2700/3079], Loss: 0.4904\n",
            "Epoch [1/10], Step [2800/3079], Loss: 0.3284\n",
            "Epoch [1/10], Step [2900/3079], Loss: 0.0319\n",
            "Epoch [1/10], Step [3000/3079], Loss: 0.1873\n"
          ]
        },
        {
          "metadata": {
            "tags": null
          },
          "name": "stderr",
          "output_type": "stream",
          "text": [
            "2023-12-08 23:46:18,523 - root - INFO - Accuracy: 92.80%\n",
            "2023-12-08 23:46:18,524 - root - INFO - Precision: 0.9398\n",
            "2023-12-08 23:46:18,526 - root - INFO - Recall: 0.9280\n",
            "2023-12-08 23:46:18,527 - root - INFO - F1 Score: 0.9257\n"
          ]
        },
        {
          "metadata": {
            "tags": null
          },
          "name": "stdout",
          "output_type": "stream",
          "text": [
            "Epoch [2/10], Step [100/3079], Loss: 0.1667\n",
            "Epoch [2/10], Step [200/3079], Loss: 0.1117\n",
            "Epoch [2/10], Step [300/3079], Loss: 0.2450\n",
            "Epoch [2/10], Step [400/3079], Loss: 0.1313\n",
            "Epoch [2/10], Step [500/3079], Loss: 0.5117\n",
            "Epoch [2/10], Step [600/3079], Loss: 0.0551\n",
            "Epoch [2/10], Step [700/3079], Loss: 0.2147\n",
            "Epoch [2/10], Step [800/3079], Loss: 0.0401\n",
            "Epoch [2/10], Step [900/3079], Loss: 0.0382\n",
            "Epoch [2/10], Step [1000/3079], Loss: 0.1573\n",
            "Epoch [2/10], Step [1100/3079], Loss: 0.2184\n",
            "Epoch [2/10], Step [1200/3079], Loss: 0.2576\n",
            "Epoch [2/10], Step [1300/3079], Loss: 0.0903\n",
            "Epoch [2/10], Step [1400/3079], Loss: 0.2281\n",
            "Epoch [2/10], Step [1500/3079], Loss: 0.1132\n",
            "Epoch [2/10], Step [1600/3079], Loss: 0.0780\n",
            "Epoch [2/10], Step [1700/3079], Loss: 0.0611\n",
            "Epoch [2/10], Step [1800/3079], Loss: 0.0788\n",
            "Epoch [2/10], Step [1900/3079], Loss: 0.0579\n",
            "Epoch [2/10], Step [2000/3079], Loss: 0.0376\n",
            "Epoch [2/10], Step [2100/3079], Loss: 0.0769\n",
            "Epoch [2/10], Step [2200/3079], Loss: 0.1312\n",
            "Epoch [2/10], Step [2300/3079], Loss: 0.3710\n",
            "Epoch [2/10], Step [2400/3079], Loss: 0.0363\n",
            "Epoch [2/10], Step [2500/3079], Loss: 0.2744\n",
            "Epoch [2/10], Step [2600/3079], Loss: 0.2810\n",
            "Epoch [2/10], Step [2700/3079], Loss: 0.0762\n",
            "Epoch [2/10], Step [2800/3079], Loss: 0.0995\n",
            "Epoch [2/10], Step [2900/3079], Loss: 0.1315\n",
            "Epoch [2/10], Step [3000/3079], Loss: 0.1536\n"
          ]
        },
        {
          "metadata": {
            "tags": null
          },
          "name": "stderr",
          "output_type": "stream",
          "text": [
            "2023-12-08 23:46:30,002 - root - INFO - Accuracy: 96.35%\n",
            "2023-12-08 23:46:30,004 - root - INFO - Precision: 0.9621\n",
            "2023-12-08 23:46:30,004 - root - INFO - Recall: 0.9635\n",
            "2023-12-08 23:46:30,005 - root - INFO - F1 Score: 0.9611\n"
          ]
        },
        {
          "metadata": {
            "tags": null
          },
          "name": "stdout",
          "output_type": "stream",
          "text": [
            "Epoch [3/10], Step [100/3079], Loss: 0.0458\n",
            "Epoch [3/10], Step [200/3079], Loss: 0.0528\n",
            "Epoch [3/10], Step [300/3079], Loss: 0.1887\n",
            "Epoch [3/10], Step [400/3079], Loss: 0.0252\n",
            "Epoch [3/10], Step [500/3079], Loss: 0.1386\n",
            "Epoch [3/10], Step [600/3079], Loss: 0.2589\n",
            "Epoch [3/10], Step [700/3079], Loss: 0.2228\n",
            "Epoch [3/10], Step [800/3079], Loss: 0.0219\n",
            "Epoch [3/10], Step [900/3079], Loss: 0.0962\n",
            "Epoch [3/10], Step [1000/3079], Loss: 0.2729\n",
            "Epoch [3/10], Step [1100/3079], Loss: 0.0175\n",
            "Epoch [3/10], Step [1200/3079], Loss: 0.1929\n",
            "Epoch [3/10], Step [1300/3079], Loss: 0.2311\n",
            "Epoch [3/10], Step [1400/3079], Loss: 0.1565\n",
            "Epoch [3/10], Step [1500/3079], Loss: 0.0689\n",
            "Epoch [3/10], Step [1600/3079], Loss: 0.0981\n",
            "Epoch [3/10], Step [1700/3079], Loss: 0.1160\n",
            "Epoch [3/10], Step [1800/3079], Loss: 0.0566\n",
            "Epoch [3/10], Step [1900/3079], Loss: 0.0356\n",
            "Epoch [3/10], Step [2000/3079], Loss: 0.0551\n",
            "Epoch [3/10], Step [2100/3079], Loss: 0.0305\n",
            "Epoch [3/10], Step [2200/3079], Loss: 0.0152\n",
            "Epoch [3/10], Step [2300/3079], Loss: 0.0943\n",
            "Epoch [3/10], Step [2400/3079], Loss: 0.0263\n",
            "Epoch [3/10], Step [2500/3079], Loss: 0.0540\n",
            "Epoch [3/10], Step [2600/3079], Loss: 0.1227\n",
            "Epoch [3/10], Step [2700/3079], Loss: 0.0771\n",
            "Epoch [3/10], Step [2800/3079], Loss: 0.0956\n",
            "Epoch [3/10], Step [2900/3079], Loss: 0.0546\n",
            "Epoch [3/10], Step [3000/3079], Loss: 0.1767\n"
          ]
        },
        {
          "metadata": {
            "tags": null
          },
          "name": "stderr",
          "output_type": "stream",
          "text": [
            "2023-12-08 23:46:41,548 - root - INFO - Accuracy: 95.71%\n",
            "2023-12-08 23:46:41,549 - root - INFO - Precision: 0.9562\n",
            "2023-12-08 23:46:41,550 - root - INFO - Recall: 0.9571\n",
            "2023-12-08 23:46:41,551 - root - INFO - F1 Score: 0.9509\n"
          ]
        },
        {
          "metadata": {
            "tags": null
          },
          "name": "stdout",
          "output_type": "stream",
          "text": [
            "Epoch [4/10], Step [100/3079], Loss: 0.0389\n",
            "Epoch [4/10], Step [200/3079], Loss: 0.2684\n",
            "Epoch [4/10], Step [300/3079], Loss: 0.0641\n",
            "Epoch [4/10], Step [400/3079], Loss: 0.0541\n",
            "Epoch [4/10], Step [500/3079], Loss: 0.0566\n",
            "Epoch [4/10], Step [600/3079], Loss: 0.2179\n",
            "Epoch [4/10], Step [700/3079], Loss: 0.1946\n",
            "Epoch [4/10], Step [800/3079], Loss: 0.0167\n",
            "Epoch [4/10], Step [900/3079], Loss: 0.0803\n",
            "Epoch [4/10], Step [1000/3079], Loss: 0.1290\n",
            "Epoch [4/10], Step [1100/3079], Loss: 0.0826\n",
            "Epoch [4/10], Step [1200/3079], Loss: 0.0613\n",
            "Epoch [4/10], Step [1300/3079], Loss: 0.0343\n",
            "Epoch [4/10], Step [1400/3079], Loss: 0.1315\n",
            "Epoch [4/10], Step [1500/3079], Loss: 0.0801\n",
            "Epoch [4/10], Step [1600/3079], Loss: 0.0191\n",
            "Epoch [4/10], Step [1700/3079], Loss: 0.1916\n",
            "Epoch [4/10], Step [1800/3079], Loss: 0.0935\n",
            "Epoch [4/10], Step [1900/3079], Loss: 0.0678\n",
            "Epoch [4/10], Step [2000/3079], Loss: 0.0429\n",
            "Epoch [4/10], Step [2100/3079], Loss: 0.1584\n",
            "Epoch [4/10], Step [2200/3079], Loss: 0.0207\n",
            "Epoch [4/10], Step [2300/3079], Loss: 0.2393\n",
            "Epoch [4/10], Step [2400/3079], Loss: 0.1485\n",
            "Epoch [4/10], Step [2500/3079], Loss: 0.0198\n",
            "Epoch [4/10], Step [2600/3079], Loss: 0.0305\n",
            "Epoch [4/10], Step [2700/3079], Loss: 0.0874\n",
            "Epoch [4/10], Step [2800/3079], Loss: 0.0516\n",
            "Epoch [4/10], Step [2900/3079], Loss: 0.0315\n",
            "Epoch [4/10], Step [3000/3079], Loss: 0.1058\n"
          ]
        },
        {
          "metadata": {
            "tags": null
          },
          "name": "stderr",
          "output_type": "stream",
          "text": [
            "2023-12-08 23:46:53,032 - root - INFO - Accuracy: 96.80%\n",
            "2023-12-08 23:46:53,033 - root - INFO - Precision: 0.9679\n",
            "2023-12-08 23:46:53,034 - root - INFO - Recall: 0.9680\n",
            "2023-12-08 23:46:53,035 - root - INFO - F1 Score: 0.9666\n"
          ]
        },
        {
          "metadata": {
            "tags": null
          },
          "name": "stdout",
          "output_type": "stream",
          "text": [
            "Epoch [5/10], Step [100/3079], Loss: 0.1083\n",
            "Epoch [5/10], Step [200/3079], Loss: 0.0762\n",
            "Epoch [5/10], Step [300/3079], Loss: 0.0407\n",
            "Epoch [5/10], Step [400/3079], Loss: 0.0861\n",
            "Epoch [5/10], Step [500/3079], Loss: 0.0123\n",
            "Epoch [5/10], Step [600/3079], Loss: 0.0955\n",
            "Epoch [5/10], Step [700/3079], Loss: 0.1586\n",
            "Epoch [5/10], Step [800/3079], Loss: 0.2569\n",
            "Epoch [5/10], Step [900/3079], Loss: 0.0324\n",
            "Epoch [5/10], Step [1000/3079], Loss: 0.2638\n",
            "Epoch [5/10], Step [1100/3079], Loss: 0.0817\n",
            "Epoch [5/10], Step [1200/3079], Loss: 0.0689\n",
            "Epoch [5/10], Step [1300/3079], Loss: 0.0185\n",
            "Epoch [5/10], Step [1400/3079], Loss: 0.0980\n",
            "Epoch [5/10], Step [1500/3079], Loss: 0.0642\n",
            "Epoch [5/10], Step [1600/3079], Loss: 0.0205\n",
            "Epoch [5/10], Step [1700/3079], Loss: 0.0420\n",
            "Epoch [5/10], Step [1800/3079], Loss: 0.2832\n",
            "Epoch [5/10], Step [1900/3079], Loss: 0.0728\n",
            "Epoch [5/10], Step [2000/3079], Loss: 0.0241\n",
            "Epoch [5/10], Step [2100/3079], Loss: 0.0614\n",
            "Epoch [5/10], Step [2200/3079], Loss: 0.0435\n",
            "Epoch [5/10], Step [2300/3079], Loss: 0.0280\n",
            "Epoch [5/10], Step [2400/3079], Loss: 0.1533\n",
            "Epoch [5/10], Step [2500/3079], Loss: 0.0987\n",
            "Epoch [5/10], Step [2600/3079], Loss: 0.1707\n",
            "Epoch [5/10], Step [2700/3079], Loss: 0.0603\n",
            "Epoch [5/10], Step [2800/3079], Loss: 0.3111\n",
            "Epoch [5/10], Step [2900/3079], Loss: 0.1521\n",
            "Epoch [5/10], Step [3000/3079], Loss: 0.0322\n"
          ]
        },
        {
          "metadata": {
            "tags": null
          },
          "name": "stderr",
          "output_type": "stream",
          "text": [
            "2023-12-08 23:47:04,394 - root - INFO - Accuracy: 97.33%\n",
            "2023-12-08 23:47:04,395 - root - INFO - Precision: 0.9728\n",
            "2023-12-08 23:47:04,396 - root - INFO - Recall: 0.9733\n",
            "2023-12-08 23:47:04,397 - root - INFO - F1 Score: 0.9719\n"
          ]
        },
        {
          "metadata": {
            "tags": null
          },
          "name": "stdout",
          "output_type": "stream",
          "text": [
            "Epoch [6/10], Step [100/3079], Loss: 0.1981\n",
            "Epoch [6/10], Step [200/3079], Loss: 0.0097\n",
            "Epoch [6/10], Step [300/3079], Loss: 0.2509\n",
            "Epoch [6/10], Step [400/3079], Loss: 0.1527\n",
            "Epoch [6/10], Step [500/3079], Loss: 0.2162\n",
            "Epoch [6/10], Step [600/3079], Loss: 0.0764\n",
            "Epoch [6/10], Step [700/3079], Loss: 0.1278\n",
            "Epoch [6/10], Step [800/3079], Loss: 0.0896\n",
            "Epoch [6/10], Step [900/3079], Loss: 0.1870\n",
            "Epoch [6/10], Step [1000/3079], Loss: 0.1060\n",
            "Epoch [6/10], Step [1100/3079], Loss: 0.0200\n",
            "Epoch [6/10], Step [1200/3079], Loss: 0.0165\n",
            "Epoch [6/10], Step [1300/3079], Loss: 0.2405\n",
            "Epoch [6/10], Step [1400/3079], Loss: 0.0458\n",
            "Epoch [6/10], Step [1500/3079], Loss: 0.0394\n",
            "Epoch [6/10], Step [1600/3079], Loss: 0.0885\n",
            "Epoch [6/10], Step [1700/3079], Loss: 0.0662\n",
            "Epoch [6/10], Step [1800/3079], Loss: 0.0722\n",
            "Epoch [6/10], Step [1900/3079], Loss: 0.0119\n",
            "Epoch [6/10], Step [2000/3079], Loss: 0.0126\n",
            "Epoch [6/10], Step [2100/3079], Loss: 0.0176\n",
            "Epoch [6/10], Step [2200/3079], Loss: 0.0599\n",
            "Epoch [6/10], Step [2300/3079], Loss: 0.0326\n",
            "Epoch [6/10], Step [2400/3079], Loss: 0.0240\n",
            "Epoch [6/10], Step [2500/3079], Loss: 0.1857\n",
            "Epoch [6/10], Step [2600/3079], Loss: 0.0165\n",
            "Epoch [6/10], Step [2700/3079], Loss: 0.0224\n",
            "Epoch [6/10], Step [2800/3079], Loss: 0.1759\n",
            "Epoch [6/10], Step [2900/3079], Loss: 0.0661\n",
            "Epoch [6/10], Step [3000/3079], Loss: 0.0129\n"
          ]
        },
        {
          "metadata": {
            "tags": null
          },
          "name": "stderr",
          "output_type": "stream",
          "text": [
            "2023-12-08 23:47:15,864 - root - INFO - Accuracy: 97.19%\n",
            "2023-12-08 23:47:15,865 - root - INFO - Precision: 0.9706\n",
            "2023-12-08 23:47:15,866 - root - INFO - Recall: 0.9719\n",
            "2023-12-08 23:47:15,867 - root - INFO - F1 Score: 0.9707\n"
          ]
        },
        {
          "metadata": {
            "tags": null
          },
          "name": "stdout",
          "output_type": "stream",
          "text": [
            "Epoch [7/10], Step [100/3079], Loss: 0.0544\n",
            "Epoch [7/10], Step [200/3079], Loss: 0.1075\n",
            "Epoch [7/10], Step [300/3079], Loss: 0.0515\n",
            "Epoch [7/10], Step [400/3079], Loss: 0.0524\n",
            "Epoch [7/10], Step [500/3079], Loss: 0.1387\n",
            "Epoch [7/10], Step [600/3079], Loss: 0.0384\n",
            "Epoch [7/10], Step [700/3079], Loss: 0.0492\n",
            "Epoch [7/10], Step [800/3079], Loss: 0.1472\n",
            "Epoch [7/10], Step [900/3079], Loss: 0.0233\n",
            "Epoch [7/10], Step [1000/3079], Loss: 0.1506\n",
            "Epoch [7/10], Step [1100/3079], Loss: 0.0431\n",
            "Epoch [7/10], Step [1200/3079], Loss: 0.0628\n",
            "Epoch [7/10], Step [1300/3079], Loss: 0.0623\n",
            "Epoch [7/10], Step [1400/3079], Loss: 0.0599\n",
            "Epoch [7/10], Step [1500/3079], Loss: 0.0460\n",
            "Epoch [7/10], Step [1600/3079], Loss: 0.3840\n",
            "Epoch [7/10], Step [1700/3079], Loss: 0.1980\n",
            "Epoch [7/10], Step [1800/3079], Loss: 0.0060\n",
            "Epoch [7/10], Step [1900/3079], Loss: 0.0467\n",
            "Epoch [7/10], Step [2000/3079], Loss: 0.0411\n",
            "Epoch [7/10], Step [2100/3079], Loss: 0.0109\n",
            "Epoch [7/10], Step [2200/3079], Loss: 0.0374\n",
            "Epoch [7/10], Step [2300/3079], Loss: 0.0076\n",
            "Epoch [7/10], Step [2400/3079], Loss: 0.0226\n",
            "Epoch [7/10], Step [2500/3079], Loss: 0.0302\n",
            "Epoch [7/10], Step [2600/3079], Loss: 0.2717\n",
            "Epoch [7/10], Step [2700/3079], Loss: 0.0209\n",
            "Epoch [7/10], Step [2800/3079], Loss: 0.0989\n",
            "Epoch [7/10], Step [2900/3079], Loss: 0.0073\n",
            "Epoch [7/10], Step [3000/3079], Loss: 0.0730\n"
          ]
        },
        {
          "metadata": {
            "tags": null
          },
          "name": "stderr",
          "output_type": "stream",
          "text": [
            "2023-12-08 23:47:27,409 - root - INFO - Accuracy: 97.09%\n",
            "2023-12-08 23:47:27,410 - root - INFO - Precision: 0.9700\n",
            "2023-12-08 23:47:27,411 - root - INFO - Recall: 0.9709\n",
            "2023-12-08 23:47:27,411 - root - INFO - F1 Score: 0.9684\n"
          ]
        },
        {
          "metadata": {
            "tags": null
          },
          "name": "stdout",
          "output_type": "stream",
          "text": [
            "Epoch [8/10], Step [100/3079], Loss: 0.0878\n",
            "Epoch [8/10], Step [200/3079], Loss: 0.0124\n",
            "Epoch [8/10], Step [300/3079], Loss: 0.0618\n",
            "Epoch [8/10], Step [400/3079], Loss: 0.2966\n",
            "Epoch [8/10], Step [500/3079], Loss: 0.0799\n",
            "Epoch [8/10], Step [600/3079], Loss: 0.2649\n",
            "Epoch [8/10], Step [700/3079], Loss: 0.2796\n",
            "Epoch [8/10], Step [800/3079], Loss: 0.0977\n",
            "Epoch [8/10], Step [900/3079], Loss: 0.0254\n",
            "Epoch [8/10], Step [1000/3079], Loss: 0.2482\n",
            "Epoch [8/10], Step [1100/3079], Loss: 0.0247\n",
            "Epoch [8/10], Step [1200/3079], Loss: 0.0124\n",
            "Epoch [8/10], Step [1300/3079], Loss: 0.0238\n",
            "Epoch [8/10], Step [1400/3079], Loss: 0.0174\n",
            "Epoch [8/10], Step [1500/3079], Loss: 0.0441\n",
            "Epoch [8/10], Step [1600/3079], Loss: 0.2014\n",
            "Epoch [8/10], Step [1700/3079], Loss: 0.0060\n",
            "Epoch [8/10], Step [1800/3079], Loss: 0.1401\n",
            "Epoch [8/10], Step [1900/3079], Loss: 0.0228\n",
            "Epoch [8/10], Step [2000/3079], Loss: 0.0596\n",
            "Epoch [8/10], Step [2100/3079], Loss: 0.0152\n",
            "Epoch [8/10], Step [2200/3079], Loss: 0.3089\n",
            "Epoch [8/10], Step [2300/3079], Loss: 0.0189\n",
            "Epoch [8/10], Step [2400/3079], Loss: 0.2189\n",
            "Epoch [8/10], Step [2500/3079], Loss: 0.2030\n",
            "Epoch [8/10], Step [2600/3079], Loss: 0.0126\n",
            "Epoch [8/10], Step [2700/3079], Loss: 0.0195\n",
            "Epoch [8/10], Step [2800/3079], Loss: 0.0204\n",
            "Epoch [8/10], Step [2900/3079], Loss: 0.0519\n",
            "Epoch [8/10], Step [3000/3079], Loss: 0.0438\n"
          ]
        },
        {
          "metadata": {
            "tags": null
          },
          "name": "stderr",
          "output_type": "stream",
          "text": [
            "2023-12-08 23:47:39,056 - root - INFO - Accuracy: 97.26%\n",
            "2023-12-08 23:47:39,057 - root - INFO - Precision: 0.9721\n",
            "2023-12-08 23:47:39,058 - root - INFO - Recall: 0.9726\n",
            "2023-12-08 23:47:39,059 - root - INFO - F1 Score: 0.9723\n"
          ]
        },
        {
          "metadata": {
            "tags": null
          },
          "name": "stdout",
          "output_type": "stream",
          "text": [
            "Epoch [9/10], Step [100/3079], Loss: 0.0380\n",
            "Epoch [9/10], Step [200/3079], Loss: 0.0346\n",
            "Epoch [9/10], Step [300/3079], Loss: 0.0258\n",
            "Epoch [9/10], Step [400/3079], Loss: 0.0657\n",
            "Epoch [9/10], Step [500/3079], Loss: 0.1171\n",
            "Epoch [9/10], Step [600/3079], Loss: 0.0259\n",
            "Epoch [9/10], Step [700/3079], Loss: 0.3546\n",
            "Epoch [9/10], Step [800/3079], Loss: 0.0124\n",
            "Epoch [9/10], Step [900/3079], Loss: 0.1900\n",
            "Epoch [9/10], Step [1000/3079], Loss: 0.0338\n",
            "Epoch [9/10], Step [1100/3079], Loss: 0.2731\n",
            "Epoch [9/10], Step [1200/3079], Loss: 0.0644\n",
            "Epoch [9/10], Step [1300/3079], Loss: 0.0368\n",
            "Epoch [9/10], Step [1400/3079], Loss: 0.1012\n",
            "Epoch [9/10], Step [1500/3079], Loss: 0.0108\n",
            "Epoch [9/10], Step [1600/3079], Loss: 0.0171\n",
            "Epoch [9/10], Step [1700/3079], Loss: 0.0220\n",
            "Epoch [9/10], Step [1800/3079], Loss: 0.0865\n",
            "Epoch [9/10], Step [1900/3079], Loss: 0.2358\n",
            "Epoch [9/10], Step [2000/3079], Loss: 0.0552\n",
            "Epoch [9/10], Step [2100/3079], Loss: 0.0685\n",
            "Epoch [9/10], Step [2200/3079], Loss: 0.0433\n",
            "Epoch [9/10], Step [2300/3079], Loss: 0.0117\n",
            "Epoch [9/10], Step [2400/3079], Loss: 0.0131\n",
            "Epoch [9/10], Step [2500/3079], Loss: 0.0110\n",
            "Epoch [9/10], Step [2600/3079], Loss: 0.0365\n",
            "Epoch [9/10], Step [2700/3079], Loss: 0.1404\n",
            "Epoch [9/10], Step [2800/3079], Loss: 0.0423\n",
            "Epoch [9/10], Step [2900/3079], Loss: 0.0932\n",
            "Epoch [9/10], Step [3000/3079], Loss: 0.0124\n"
          ]
        },
        {
          "metadata": {
            "tags": null
          },
          "name": "stderr",
          "output_type": "stream",
          "text": [
            "2023-12-08 23:47:50,430 - root - INFO - Accuracy: 97.61%\n",
            "2023-12-08 23:47:50,431 - root - INFO - Precision: 0.9751\n",
            "2023-12-08 23:47:50,432 - root - INFO - Recall: 0.9761\n",
            "2023-12-08 23:47:50,433 - root - INFO - F1 Score: 0.9753\n"
          ]
        },
        {
          "metadata": {
            "tags": null
          },
          "name": "stdout",
          "output_type": "stream",
          "text": [
            "Epoch [10/10], Step [100/3079], Loss: 0.0076\n",
            "Epoch [10/10], Step [200/3079], Loss: 0.0137\n",
            "Epoch [10/10], Step [300/3079], Loss: 0.0169\n",
            "Epoch [10/10], Step [400/3079], Loss: 0.2258\n",
            "Epoch [10/10], Step [500/3079], Loss: 0.0849\n",
            "Epoch [10/10], Step [600/3079], Loss: 0.2713\n",
            "Epoch [10/10], Step [700/3079], Loss: 0.0090\n",
            "Epoch [10/10], Step [800/3079], Loss: 0.0501\n",
            "Epoch [10/10], Step [900/3079], Loss: 0.1051\n",
            "Epoch [10/10], Step [1000/3079], Loss: 0.0097\n",
            "Epoch [10/10], Step [1100/3079], Loss: 0.0144\n",
            "Epoch [10/10], Step [1200/3079], Loss: 0.1777\n",
            "Epoch [10/10], Step [1300/3079], Loss: 0.0170\n",
            "Epoch [10/10], Step [1400/3079], Loss: 0.0607\n",
            "Epoch [10/10], Step [1500/3079], Loss: 0.0184\n",
            "Epoch [10/10], Step [1600/3079], Loss: 0.0772\n",
            "Epoch [10/10], Step [1700/3079], Loss: 0.2514\n",
            "Epoch [10/10], Step [1800/3079], Loss: 0.0184\n",
            "Epoch [10/10], Step [1900/3079], Loss: 0.0793\n",
            "Epoch [10/10], Step [2000/3079], Loss: 0.0847\n",
            "Epoch [10/10], Step [2100/3079], Loss: 0.0092\n",
            "Epoch [10/10], Step [2200/3079], Loss: 0.0402\n",
            "Epoch [10/10], Step [2300/3079], Loss: 0.1576\n",
            "Epoch [10/10], Step [2400/3079], Loss: 0.0246\n",
            "Epoch [10/10], Step [2500/3079], Loss: 0.0770\n",
            "Epoch [10/10], Step [2600/3079], Loss: 0.0968\n",
            "Epoch [10/10], Step [2700/3079], Loss: 0.0216\n",
            "Epoch [10/10], Step [2800/3079], Loss: 0.1797\n",
            "Epoch [10/10], Step [2900/3079], Loss: 0.1212\n",
            "Epoch [10/10], Step [3000/3079], Loss: 0.1872\n"
          ]
        },
        {
          "metadata": {
            "tags": null
          },
          "name": "stderr",
          "output_type": "stream",
          "text": [
            "2023-12-08 23:48:01,871 - root - INFO - Accuracy: 97.72%\n",
            "2023-12-08 23:48:01,872 - root - INFO - Precision: 0.9766\n",
            "2023-12-08 23:48:01,873 - root - INFO - Recall: 0.9772\n",
            "2023-12-08 23:48:01,875 - root - INFO - F1 Score: 0.9761\n"
          ]
        },
        {
          "metadata": {
            "tags": null
          },
          "name": "stdout",
          "output_type": "stream",
          "text": [
            "FOLD 3\n",
            "--------------------------------\n",
            "OSCNN(\n",
            "  (conv1): Conv1d(1, 128, kernel_size=(8,), stride=(1,), padding=same)\n",
            "  (bn1): BatchNorm1d(128, eps=1e-05, momentum=0.1, affine=True, track_running_stats=True)\n",
            "  (conv2): Conv1d(128, 256, kernel_size=(5,), stride=(1,), padding=same)\n",
            "  (bn2): BatchNorm1d(256, eps=1e-05, momentum=0.1, affine=True, track_running_stats=True)\n",
            "  (conv3): Conv1d(256, 128, kernel_size=(3,), stride=(1,), padding=same)\n",
            "  (bn3): BatchNorm1d(128, eps=1e-05, momentum=0.1, affine=True, track_running_stats=True)\n",
            "  (avg_pool): AdaptiveAvgPool1d(output_size=1)\n",
            "  (fc): Linear(in_features=128, out_features=5, bias=True)\n",
            ")\n",
            "Epoch [1/10], Step [100/3079], Loss: 0.5676\n",
            "Epoch [1/10], Step [200/3079], Loss: 0.6687\n",
            "Epoch [1/10], Step [300/3079], Loss: 0.6415\n",
            "Epoch [1/10], Step [400/3079], Loss: 0.3721\n",
            "Epoch [1/10], Step [500/3079], Loss: 0.2035\n",
            "Epoch [1/10], Step [600/3079], Loss: 0.1919\n",
            "Epoch [1/10], Step [700/3079], Loss: 0.4167\n",
            "Epoch [1/10], Step [800/3079], Loss: 0.2484\n",
            "Epoch [1/10], Step [900/3079], Loss: 0.4533\n",
            "Epoch [1/10], Step [1000/3079], Loss: 0.1820\n",
            "Epoch [1/10], Step [1100/3079], Loss: 0.1938\n",
            "Epoch [1/10], Step [1200/3079], Loss: 0.1432\n",
            "Epoch [1/10], Step [1300/3079], Loss: 0.2093\n",
            "Epoch [1/10], Step [1400/3079], Loss: 0.0400\n",
            "Epoch [1/10], Step [1500/3079], Loss: 0.1157\n",
            "Epoch [1/10], Step [1600/3079], Loss: 0.1607\n",
            "Epoch [1/10], Step [1700/3079], Loss: 0.1256\n",
            "Epoch [1/10], Step [1800/3079], Loss: 0.0674\n",
            "Epoch [1/10], Step [1900/3079], Loss: 0.0441\n",
            "Epoch [1/10], Step [2000/3079], Loss: 0.0874\n",
            "Epoch [1/10], Step [2100/3079], Loss: 0.4405\n",
            "Epoch [1/10], Step [2200/3079], Loss: 0.1893\n",
            "Epoch [1/10], Step [2300/3079], Loss: 0.1450\n",
            "Epoch [1/10], Step [2400/3079], Loss: 0.1769\n",
            "Epoch [1/10], Step [2500/3079], Loss: 0.0416\n",
            "Epoch [1/10], Step [2600/3079], Loss: 0.1539\n",
            "Epoch [1/10], Step [2700/3079], Loss: 0.1175\n",
            "Epoch [1/10], Step [2800/3079], Loss: 0.1457\n",
            "Epoch [1/10], Step [2900/3079], Loss: 0.1273\n",
            "Epoch [1/10], Step [3000/3079], Loss: 0.2876\n"
          ]
        },
        {
          "metadata": {
            "tags": null
          },
          "name": "stderr",
          "output_type": "stream",
          "text": [
            "2023-12-08 23:48:13,573 - root - INFO - Accuracy: 95.61%\n",
            "2023-12-08 23:48:13,574 - root - INFO - Precision: 0.9548\n",
            "2023-12-08 23:48:13,575 - root - INFO - Recall: 0.9561\n",
            "2023-12-08 23:48:13,576 - root - INFO - F1 Score: 0.9521\n"
          ]
        },
        {
          "metadata": {
            "tags": null
          },
          "name": "stdout",
          "output_type": "stream",
          "text": [
            "Epoch [2/10], Step [100/3079], Loss: 0.1295\n",
            "Epoch [2/10], Step [200/3079], Loss: 0.3917\n",
            "Epoch [2/10], Step [300/3079], Loss: 0.0760\n",
            "Epoch [2/10], Step [400/3079], Loss: 0.0672\n",
            "Epoch [2/10], Step [500/3079], Loss: 0.0938\n",
            "Epoch [2/10], Step [600/3079], Loss: 0.1540\n",
            "Epoch [2/10], Step [700/3079], Loss: 0.0633\n",
            "Epoch [2/10], Step [800/3079], Loss: 0.0265\n",
            "Epoch [2/10], Step [900/3079], Loss: 0.0533\n",
            "Epoch [2/10], Step [1000/3079], Loss: 0.0811\n",
            "Epoch [2/10], Step [1100/3079], Loss: 0.2197\n",
            "Epoch [2/10], Step [1200/3079], Loss: 0.0530\n",
            "Epoch [2/10], Step [1300/3079], Loss: 0.3128\n",
            "Epoch [2/10], Step [1400/3079], Loss: 0.0592\n",
            "Epoch [2/10], Step [1500/3079], Loss: 0.0611\n",
            "Epoch [2/10], Step [1600/3079], Loss: 0.1406\n",
            "Epoch [2/10], Step [1700/3079], Loss: 0.3465\n",
            "Epoch [2/10], Step [1800/3079], Loss: 0.2611\n",
            "Epoch [2/10], Step [1900/3079], Loss: 0.1573\n",
            "Epoch [2/10], Step [2000/3079], Loss: 0.1483\n",
            "Epoch [2/10], Step [2100/3079], Loss: 0.0511\n",
            "Epoch [2/10], Step [2200/3079], Loss: 0.1656\n",
            "Epoch [2/10], Step [2300/3079], Loss: 0.1724\n",
            "Epoch [2/10], Step [2400/3079], Loss: 0.0960\n",
            "Epoch [2/10], Step [2500/3079], Loss: 0.4264\n",
            "Epoch [2/10], Step [2600/3079], Loss: 0.0580\n",
            "Epoch [2/10], Step [2700/3079], Loss: 0.2056\n",
            "Epoch [2/10], Step [2800/3079], Loss: 0.0497\n",
            "Epoch [2/10], Step [2900/3079], Loss: 0.0240\n",
            "Epoch [2/10], Step [3000/3079], Loss: 0.0614\n"
          ]
        },
        {
          "metadata": {
            "tags": null
          },
          "name": "stderr",
          "output_type": "stream",
          "text": [
            "2023-12-08 23:48:25,167 - root - INFO - Accuracy: 95.91%\n",
            "2023-12-08 23:48:25,168 - root - INFO - Precision: 0.9585\n",
            "2023-12-08 23:48:25,169 - root - INFO - Recall: 0.9591\n",
            "2023-12-08 23:48:25,170 - root - INFO - F1 Score: 0.9542\n"
          ]
        },
        {
          "metadata": {
            "tags": null
          },
          "name": "stdout",
          "output_type": "stream",
          "text": [
            "Epoch [3/10], Step [100/3079], Loss: 0.1102\n",
            "Epoch [3/10], Step [200/3079], Loss: 0.0630\n",
            "Epoch [3/10], Step [300/3079], Loss: 0.0345\n",
            "Epoch [3/10], Step [400/3079], Loss: 0.0649\n",
            "Epoch [3/10], Step [500/3079], Loss: 0.1372\n",
            "Epoch [3/10], Step [600/3079], Loss: 0.2811\n",
            "Epoch [3/10], Step [700/3079], Loss: 0.0377\n",
            "Epoch [3/10], Step [800/3079], Loss: 0.0989\n",
            "Epoch [3/10], Step [900/3079], Loss: 0.3627\n",
            "Epoch [3/10], Step [1000/3079], Loss: 0.0382\n",
            "Epoch [3/10], Step [1100/3079], Loss: 0.1181\n",
            "Epoch [3/10], Step [1200/3079], Loss: 0.0351\n",
            "Epoch [3/10], Step [1300/3079], Loss: 0.1903\n",
            "Epoch [3/10], Step [1400/3079], Loss: 0.1404\n",
            "Epoch [3/10], Step [1500/3079], Loss: 0.0882\n",
            "Epoch [3/10], Step [1600/3079], Loss: 0.2273\n",
            "Epoch [3/10], Step [1700/3079], Loss: 0.0273\n",
            "Epoch [3/10], Step [1800/3079], Loss: 0.1647\n",
            "Epoch [3/10], Step [1900/3079], Loss: 0.0526\n",
            "Epoch [3/10], Step [2000/3079], Loss: 0.0302\n",
            "Epoch [3/10], Step [2100/3079], Loss: 0.0472\n",
            "Epoch [3/10], Step [2200/3079], Loss: 0.0707\n",
            "Epoch [3/10], Step [2300/3079], Loss: 0.0595\n",
            "Epoch [3/10], Step [2400/3079], Loss: 0.0751\n",
            "Epoch [3/10], Step [2500/3079], Loss: 0.0288\n",
            "Epoch [3/10], Step [2600/3079], Loss: 0.0305\n",
            "Epoch [3/10], Step [2700/3079], Loss: 0.0329\n",
            "Epoch [3/10], Step [2800/3079], Loss: 0.0288\n",
            "Epoch [3/10], Step [2900/3079], Loss: 0.0509\n",
            "Epoch [3/10], Step [3000/3079], Loss: 0.0805\n"
          ]
        },
        {
          "metadata": {
            "tags": null
          },
          "name": "stderr",
          "output_type": "stream",
          "text": [
            "2023-12-08 23:48:36,750 - root - INFO - Accuracy: 96.98%\n",
            "2023-12-08 23:48:36,751 - root - INFO - Precision: 0.9684\n",
            "2023-12-08 23:48:36,752 - root - INFO - Recall: 0.9698\n",
            "2023-12-08 23:48:36,753 - root - INFO - F1 Score: 0.9678\n"
          ]
        },
        {
          "metadata": {
            "tags": null
          },
          "name": "stdout",
          "output_type": "stream",
          "text": [
            "Epoch [4/10], Step [100/3079], Loss: 0.0334\n",
            "Epoch [4/10], Step [200/3079], Loss: 0.2068\n",
            "Epoch [4/10], Step [300/3079], Loss: 0.0797\n",
            "Epoch [4/10], Step [400/3079], Loss: 0.3492\n",
            "Epoch [4/10], Step [500/3079], Loss: 0.0289\n",
            "Epoch [4/10], Step [600/3079], Loss: 0.1425\n",
            "Epoch [4/10], Step [700/3079], Loss: 0.0522\n",
            "Epoch [4/10], Step [800/3079], Loss: 0.1507\n",
            "Epoch [4/10], Step [900/3079], Loss: 0.0277\n",
            "Epoch [4/10], Step [1000/3079], Loss: 0.0867\n",
            "Epoch [4/10], Step [1100/3079], Loss: 0.0164\n",
            "Epoch [4/10], Step [1200/3079], Loss: 0.0742\n",
            "Epoch [4/10], Step [1300/3079], Loss: 0.2699\n",
            "Epoch [4/10], Step [1400/3079], Loss: 0.0229\n",
            "Epoch [4/10], Step [1500/3079], Loss: 0.0429\n",
            "Epoch [4/10], Step [1600/3079], Loss: 0.0256\n",
            "Epoch [4/10], Step [1700/3079], Loss: 0.4119\n",
            "Epoch [4/10], Step [1800/3079], Loss: 0.1042\n",
            "Epoch [4/10], Step [1900/3079], Loss: 0.1030\n",
            "Epoch [4/10], Step [2000/3079], Loss: 0.0377\n",
            "Epoch [4/10], Step [2100/3079], Loss: 0.0296\n",
            "Epoch [4/10], Step [2200/3079], Loss: 0.0834\n",
            "Epoch [4/10], Step [2300/3079], Loss: 0.0400\n",
            "Epoch [4/10], Step [2400/3079], Loss: 0.0429\n",
            "Epoch [4/10], Step [2500/3079], Loss: 0.0113\n",
            "Epoch [4/10], Step [2600/3079], Loss: 0.0929\n",
            "Epoch [4/10], Step [2700/3079], Loss: 0.0229\n",
            "Epoch [4/10], Step [2800/3079], Loss: 0.0211\n",
            "Epoch [4/10], Step [2900/3079], Loss: 0.0262\n",
            "Epoch [4/10], Step [3000/3079], Loss: 0.2636\n"
          ]
        },
        {
          "metadata": {
            "tags": null
          },
          "name": "stderr",
          "output_type": "stream",
          "text": [
            "2023-12-08 23:48:48,248 - root - INFO - Accuracy: 97.12%\n",
            "2023-12-08 23:48:48,249 - root - INFO - Precision: 0.9708\n",
            "2023-12-08 23:48:48,250 - root - INFO - Recall: 0.9712\n",
            "2023-12-08 23:48:48,251 - root - INFO - F1 Score: 0.9691\n"
          ]
        },
        {
          "metadata": {
            "tags": null
          },
          "name": "stdout",
          "output_type": "stream",
          "text": [
            "Epoch [5/10], Step [100/3079], Loss: 0.0370\n",
            "Epoch [5/10], Step [200/3079], Loss: 0.0311\n",
            "Epoch [5/10], Step [300/3079], Loss: 0.1208\n",
            "Epoch [5/10], Step [400/3079], Loss: 0.2185\n",
            "Epoch [5/10], Step [500/3079], Loss: 0.0344\n",
            "Epoch [5/10], Step [600/3079], Loss: 0.0502\n",
            "Epoch [5/10], Step [700/3079], Loss: 0.2141\n",
            "Epoch [5/10], Step [800/3079], Loss: 0.1112\n",
            "Epoch [5/10], Step [900/3079], Loss: 0.2084\n",
            "Epoch [5/10], Step [1000/3079], Loss: 0.1101\n",
            "Epoch [5/10], Step [1100/3079], Loss: 0.1963\n",
            "Epoch [5/10], Step [1200/3079], Loss: 0.0393\n",
            "Epoch [5/10], Step [1300/3079], Loss: 0.0571\n",
            "Epoch [5/10], Step [1400/3079], Loss: 0.3647\n",
            "Epoch [5/10], Step [1500/3079], Loss: 0.0837\n",
            "Epoch [5/10], Step [1600/3079], Loss: 0.0188\n",
            "Epoch [5/10], Step [1700/3079], Loss: 0.0633\n",
            "Epoch [5/10], Step [1800/3079], Loss: 0.3227\n",
            "Epoch [5/10], Step [1900/3079], Loss: 0.0746\n",
            "Epoch [5/10], Step [2000/3079], Loss: 0.4699\n",
            "Epoch [5/10], Step [2100/3079], Loss: 0.2034\n",
            "Epoch [5/10], Step [2200/3079], Loss: 0.1040\n",
            "Epoch [5/10], Step [2300/3079], Loss: 0.1279\n",
            "Epoch [5/10], Step [2400/3079], Loss: 0.0470\n",
            "Epoch [5/10], Step [2500/3079], Loss: 0.1587\n",
            "Epoch [5/10], Step [2600/3079], Loss: 0.0503\n",
            "Epoch [5/10], Step [2700/3079], Loss: 0.2101\n",
            "Epoch [5/10], Step [2800/3079], Loss: 0.0444\n",
            "Epoch [5/10], Step [2900/3079], Loss: 0.1028\n",
            "Epoch [5/10], Step [3000/3079], Loss: 0.0730\n"
          ]
        },
        {
          "metadata": {
            "tags": null
          },
          "name": "stderr",
          "output_type": "stream",
          "text": [
            "2023-12-08 23:48:59,909 - root - INFO - Accuracy: 92.91%\n",
            "2023-12-08 23:48:59,910 - root - INFO - Precision: 0.9490\n",
            "2023-12-08 23:48:59,911 - root - INFO - Recall: 0.9291\n",
            "2023-12-08 23:48:59,911 - root - INFO - F1 Score: 0.9354\n"
          ]
        },
        {
          "metadata": {
            "tags": null
          },
          "name": "stdout",
          "output_type": "stream",
          "text": [
            "Epoch [6/10], Step [100/3079], Loss: 0.0826\n",
            "Epoch [6/10], Step [200/3079], Loss: 0.0359\n",
            "Epoch [6/10], Step [300/3079], Loss: 0.3362\n",
            "Epoch [6/10], Step [400/3079], Loss: 0.1384\n",
            "Epoch [6/10], Step [500/3079], Loss: 0.0391\n",
            "Epoch [6/10], Step [600/3079], Loss: 0.1540\n",
            "Epoch [6/10], Step [700/3079], Loss: 0.0675\n",
            "Epoch [6/10], Step [800/3079], Loss: 0.1985\n",
            "Epoch [6/10], Step [900/3079], Loss: 0.0334\n",
            "Epoch [6/10], Step [1000/3079], Loss: 0.0726\n",
            "Epoch [6/10], Step [1100/3079], Loss: 0.1057\n",
            "Epoch [6/10], Step [1200/3079], Loss: 0.2449\n",
            "Epoch [6/10], Step [1300/3079], Loss: 0.0382\n",
            "Epoch [6/10], Step [1400/3079], Loss: 0.1318\n",
            "Epoch [6/10], Step [1500/3079], Loss: 0.0618\n",
            "Epoch [6/10], Step [1600/3079], Loss: 0.0585\n",
            "Epoch [6/10], Step [1700/3079], Loss: 0.2043\n",
            "Epoch [6/10], Step [1800/3079], Loss: 0.2039\n",
            "Epoch [6/10], Step [1900/3079], Loss: 0.0136\n",
            "Epoch [6/10], Step [2000/3079], Loss: 0.0318\n",
            "Epoch [6/10], Step [2100/3079], Loss: 0.2454\n",
            "Epoch [6/10], Step [2200/3079], Loss: 0.0167\n",
            "Epoch [6/10], Step [2300/3079], Loss: 0.0303\n",
            "Epoch [6/10], Step [2400/3079], Loss: 0.2290\n",
            "Epoch [6/10], Step [2500/3079], Loss: 0.0514\n",
            "Epoch [6/10], Step [2600/3079], Loss: 0.0227\n",
            "Epoch [6/10], Step [2700/3079], Loss: 0.1145\n",
            "Epoch [6/10], Step [2800/3079], Loss: 0.0409\n",
            "Epoch [6/10], Step [2900/3079], Loss: 0.0074\n",
            "Epoch [6/10], Step [3000/3079], Loss: 0.0079\n"
          ]
        },
        {
          "metadata": {
            "tags": null
          },
          "name": "stderr",
          "output_type": "stream",
          "text": [
            "2023-12-08 23:49:11,549 - root - INFO - Accuracy: 97.40%\n",
            "2023-12-08 23:49:11,550 - root - INFO - Precision: 0.9737\n",
            "2023-12-08 23:49:11,551 - root - INFO - Recall: 0.9740\n",
            "2023-12-08 23:49:11,552 - root - INFO - F1 Score: 0.9720\n"
          ]
        },
        {
          "metadata": {
            "tags": null
          },
          "name": "stdout",
          "output_type": "stream",
          "text": [
            "Epoch [7/10], Step [100/3079], Loss: 0.0890\n",
            "Epoch [7/10], Step [200/3079], Loss: 0.2030\n",
            "Epoch [7/10], Step [300/3079], Loss: 0.0075\n",
            "Epoch [7/10], Step [400/3079], Loss: 0.3000\n",
            "Epoch [7/10], Step [500/3079], Loss: 0.0297\n",
            "Epoch [7/10], Step [600/3079], Loss: 0.0826\n",
            "Epoch [7/10], Step [700/3079], Loss: 0.2028\n",
            "Epoch [7/10], Step [800/3079], Loss: 0.0293\n",
            "Epoch [7/10], Step [900/3079], Loss: 0.1543\n",
            "Epoch [7/10], Step [1000/3079], Loss: 0.1174\n",
            "Epoch [7/10], Step [1100/3079], Loss: 0.1332\n",
            "Epoch [7/10], Step [1200/3079], Loss: 0.0619\n",
            "Epoch [7/10], Step [1300/3079], Loss: 0.0579\n",
            "Epoch [7/10], Step [1400/3079], Loss: 0.0290\n",
            "Epoch [7/10], Step [1500/3079], Loss: 0.0326\n",
            "Epoch [7/10], Step [1600/3079], Loss: 0.0128\n",
            "Epoch [7/10], Step [1700/3079], Loss: 0.0096\n",
            "Epoch [7/10], Step [1800/3079], Loss: 0.1356\n",
            "Epoch [7/10], Step [1900/3079], Loss: 0.0156\n",
            "Epoch [7/10], Step [2000/3079], Loss: 0.0795\n",
            "Epoch [7/10], Step [2100/3079], Loss: 0.1577\n",
            "Epoch [7/10], Step [2200/3079], Loss: 0.1250\n",
            "Epoch [7/10], Step [2300/3079], Loss: 0.0157\n",
            "Epoch [7/10], Step [2400/3079], Loss: 0.0464\n",
            "Epoch [7/10], Step [2500/3079], Loss: 0.2338\n",
            "Epoch [7/10], Step [2600/3079], Loss: 0.1414\n",
            "Epoch [7/10], Step [2700/3079], Loss: 0.4995\n",
            "Epoch [7/10], Step [2800/3079], Loss: 0.0261\n",
            "Epoch [7/10], Step [2900/3079], Loss: 0.1115\n",
            "Epoch [7/10], Step [3000/3079], Loss: 0.0322\n"
          ]
        },
        {
          "metadata": {
            "tags": null
          },
          "name": "stderr",
          "output_type": "stream",
          "text": [
            "2023-12-08 23:49:23,165 - root - INFO - Accuracy: 96.03%\n",
            "2023-12-08 23:49:23,166 - root - INFO - Precision: 0.9629\n",
            "2023-12-08 23:49:23,167 - root - INFO - Recall: 0.9603\n",
            "2023-12-08 23:49:23,168 - root - INFO - F1 Score: 0.9597\n"
          ]
        },
        {
          "metadata": {
            "tags": null
          },
          "name": "stdout",
          "output_type": "stream",
          "text": [
            "Epoch [8/10], Step [100/3079], Loss: 0.2200\n",
            "Epoch [8/10], Step [200/3079], Loss: 0.1637\n",
            "Epoch [8/10], Step [300/3079], Loss: 0.0358\n",
            "Epoch [8/10], Step [400/3079], Loss: 0.1623\n",
            "Epoch [8/10], Step [500/3079], Loss: 0.1249\n",
            "Epoch [8/10], Step [600/3079], Loss: 0.0304\n",
            "Epoch [8/10], Step [700/3079], Loss: 0.0340\n",
            "Epoch [8/10], Step [800/3079], Loss: 0.0355\n",
            "Epoch [8/10], Step [900/3079], Loss: 0.0277\n",
            "Epoch [8/10], Step [1000/3079], Loss: 0.0208\n",
            "Epoch [8/10], Step [1100/3079], Loss: 0.0889\n",
            "Epoch [8/10], Step [1200/3079], Loss: 0.0440\n",
            "Epoch [8/10], Step [1300/3079], Loss: 0.1111\n",
            "Epoch [8/10], Step [1400/3079], Loss: 0.0140\n",
            "Epoch [8/10], Step [1500/3079], Loss: 0.0931\n",
            "Epoch [8/10], Step [1600/3079], Loss: 0.0422\n",
            "Epoch [8/10], Step [1700/3079], Loss: 0.0273\n",
            "Epoch [8/10], Step [1800/3079], Loss: 0.0995\n",
            "Epoch [8/10], Step [1900/3079], Loss: 0.0256\n",
            "Epoch [8/10], Step [2000/3079], Loss: 0.0287\n",
            "Epoch [8/10], Step [2100/3079], Loss: 0.0536\n",
            "Epoch [8/10], Step [2200/3079], Loss: 0.0830\n",
            "Epoch [8/10], Step [2300/3079], Loss: 0.0348\n",
            "Epoch [8/10], Step [2400/3079], Loss: 0.0235\n",
            "Epoch [8/10], Step [2500/3079], Loss: 0.1555\n",
            "Epoch [8/10], Step [2600/3079], Loss: 0.0132\n",
            "Epoch [8/10], Step [2700/3079], Loss: 0.3538\n",
            "Epoch [8/10], Step [2800/3079], Loss: 0.0733\n",
            "Epoch [8/10], Step [2900/3079], Loss: 0.0325\n",
            "Epoch [8/10], Step [3000/3079], Loss: 0.0206\n"
          ]
        },
        {
          "metadata": {
            "tags": null
          },
          "name": "stderr",
          "output_type": "stream",
          "text": [
            "2023-12-08 23:49:34,698 - root - INFO - Accuracy: 97.42%\n",
            "2023-12-08 23:49:34,699 - root - INFO - Precision: 0.9733\n",
            "2023-12-08 23:49:34,700 - root - INFO - Recall: 0.9742\n",
            "2023-12-08 23:49:34,701 - root - INFO - F1 Score: 0.9729\n"
          ]
        },
        {
          "metadata": {
            "tags": null
          },
          "name": "stdout",
          "output_type": "stream",
          "text": [
            "Epoch [9/10], Step [100/3079], Loss: 0.0214\n",
            "Epoch [9/10], Step [200/3079], Loss: 0.2216\n",
            "Epoch [9/10], Step [300/3079], Loss: 0.0303\n",
            "Epoch [9/10], Step [400/3079], Loss: 0.0111\n",
            "Epoch [9/10], Step [500/3079], Loss: 0.0149\n",
            "Epoch [9/10], Step [600/3079], Loss: 0.0624\n",
            "Epoch [9/10], Step [700/3079], Loss: 0.0566\n",
            "Epoch [9/10], Step [800/3079], Loss: 0.0467\n",
            "Epoch [9/10], Step [900/3079], Loss: 0.0193\n",
            "Epoch [9/10], Step [1000/3079], Loss: 0.0204\n",
            "Epoch [9/10], Step [1100/3079], Loss: 0.0106\n",
            "Epoch [9/10], Step [1200/3079], Loss: 0.1757\n",
            "Epoch [9/10], Step [1300/3079], Loss: 0.0821\n",
            "Epoch [9/10], Step [1400/3079], Loss: 0.0211\n",
            "Epoch [9/10], Step [1500/3079], Loss: 0.0315\n",
            "Epoch [9/10], Step [1600/3079], Loss: 0.0389\n",
            "Epoch [9/10], Step [1700/3079], Loss: 0.0088\n",
            "Epoch [9/10], Step [1800/3079], Loss: 0.0875\n",
            "Epoch [9/10], Step [1900/3079], Loss: 0.0683\n",
            "Epoch [9/10], Step [2000/3079], Loss: 0.0147\n",
            "Epoch [9/10], Step [2100/3079], Loss: 0.1459\n",
            "Epoch [9/10], Step [2200/3079], Loss: 0.0157\n",
            "Epoch [9/10], Step [2300/3079], Loss: 0.0508\n",
            "Epoch [9/10], Step [2400/3079], Loss: 0.0183\n",
            "Epoch [9/10], Step [2500/3079], Loss: 0.0536\n",
            "Epoch [9/10], Step [2600/3079], Loss: 0.0619\n",
            "Epoch [9/10], Step [2700/3079], Loss: 0.4201\n",
            "Epoch [9/10], Step [2800/3079], Loss: 0.1566\n",
            "Epoch [9/10], Step [2900/3079], Loss: 0.0059\n",
            "Epoch [9/10], Step [3000/3079], Loss: 0.0168\n"
          ]
        },
        {
          "metadata": {
            "tags": null
          },
          "name": "stderr",
          "output_type": "stream",
          "text": [
            "2023-12-08 23:49:46,228 - root - INFO - Accuracy: 97.44%\n",
            "2023-12-08 23:49:46,229 - root - INFO - Precision: 0.9737\n",
            "2023-12-08 23:49:46,229 - root - INFO - Recall: 0.9744\n",
            "2023-12-08 23:49:46,230 - root - INFO - F1 Score: 0.9738\n"
          ]
        },
        {
          "metadata": {
            "tags": null
          },
          "name": "stdout",
          "output_type": "stream",
          "text": [
            "Epoch [10/10], Step [100/3079], Loss: 0.0123\n",
            "Epoch [10/10], Step [200/3079], Loss: 0.0178\n",
            "Epoch [10/10], Step [300/3079], Loss: 0.0895\n",
            "Epoch [10/10], Step [400/3079], Loss: 0.1311\n",
            "Epoch [10/10], Step [500/3079], Loss: 0.0274\n",
            "Epoch [10/10], Step [600/3079], Loss: 0.0185\n",
            "Epoch [10/10], Step [700/3079], Loss: 0.0605\n",
            "Epoch [10/10], Step [800/3079], Loss: 0.2166\n",
            "Epoch [10/10], Step [900/3079], Loss: 0.1736\n",
            "Epoch [10/10], Step [1000/3079], Loss: 0.2512\n",
            "Epoch [10/10], Step [1100/3079], Loss: 0.0144\n",
            "Epoch [10/10], Step [1200/3079], Loss: 0.0393\n",
            "Epoch [10/10], Step [1300/3079], Loss: 0.2984\n",
            "Epoch [10/10], Step [1400/3079], Loss: 0.3057\n",
            "Epoch [10/10], Step [1500/3079], Loss: 0.1817\n",
            "Epoch [10/10], Step [1600/3079], Loss: 0.1465\n",
            "Epoch [10/10], Step [1700/3079], Loss: 0.0423\n",
            "Epoch [10/10], Step [1800/3079], Loss: 0.0157\n",
            "Epoch [10/10], Step [1900/3079], Loss: 0.0591\n",
            "Epoch [10/10], Step [2000/3079], Loss: 0.1108\n",
            "Epoch [10/10], Step [2100/3079], Loss: 0.0287\n",
            "Epoch [10/10], Step [2200/3079], Loss: 0.2274\n",
            "Epoch [10/10], Step [2300/3079], Loss: 0.0339\n",
            "Epoch [10/10], Step [2400/3079], Loss: 0.0568\n",
            "Epoch [10/10], Step [2500/3079], Loss: 0.1490\n",
            "Epoch [10/10], Step [2600/3079], Loss: 0.0056\n",
            "Epoch [10/10], Step [2700/3079], Loss: 0.0468\n",
            "Epoch [10/10], Step [2800/3079], Loss: 0.0107\n",
            "Epoch [10/10], Step [2900/3079], Loss: 0.0654\n",
            "Epoch [10/10], Step [3000/3079], Loss: 0.0278\n"
          ]
        },
        {
          "metadata": {
            "tags": null
          },
          "name": "stderr",
          "output_type": "stream",
          "text": [
            "2023-12-08 23:49:57,666 - root - INFO - Accuracy: 97.75%\n",
            "2023-12-08 23:49:57,667 - root - INFO - Precision: 0.9769\n",
            "2023-12-08 23:49:57,667 - root - INFO - Recall: 0.9775\n",
            "2023-12-08 23:49:57,668 - root - INFO - F1 Score: 0.9765\n"
          ]
        },
        {
          "metadata": {
            "tags": null
          },
          "name": "stdout",
          "output_type": "stream",
          "text": [
            "FOLD 4\n",
            "--------------------------------\n",
            "OSCNN(\n",
            "  (conv1): Conv1d(1, 128, kernel_size=(8,), stride=(1,), padding=same)\n",
            "  (bn1): BatchNorm1d(128, eps=1e-05, momentum=0.1, affine=True, track_running_stats=True)\n",
            "  (conv2): Conv1d(128, 256, kernel_size=(5,), stride=(1,), padding=same)\n",
            "  (bn2): BatchNorm1d(256, eps=1e-05, momentum=0.1, affine=True, track_running_stats=True)\n",
            "  (conv3): Conv1d(256, 128, kernel_size=(3,), stride=(1,), padding=same)\n",
            "  (bn3): BatchNorm1d(128, eps=1e-05, momentum=0.1, affine=True, track_running_stats=True)\n",
            "  (avg_pool): AdaptiveAvgPool1d(output_size=1)\n",
            "  (fc): Linear(in_features=128, out_features=5, bias=True)\n",
            ")\n",
            "Epoch [1/10], Step [100/3079], Loss: 0.7430\n",
            "Epoch [1/10], Step [200/3079], Loss: 0.3685\n",
            "Epoch [1/10], Step [300/3079], Loss: 0.3012\n",
            "Epoch [1/10], Step [400/3079], Loss: 0.3478\n",
            "Epoch [1/10], Step [500/3079], Loss: 0.3968\n",
            "Epoch [1/10], Step [600/3079], Loss: 0.1728\n",
            "Epoch [1/10], Step [700/3079], Loss: 0.0623\n",
            "Epoch [1/10], Step [800/3079], Loss: 0.1077\n",
            "Epoch [1/10], Step [900/3079], Loss: 0.0723\n",
            "Epoch [1/10], Step [1000/3079], Loss: 0.1173\n",
            "Epoch [1/10], Step [1100/3079], Loss: 0.2675\n",
            "Epoch [1/10], Step [1200/3079], Loss: 0.1852\n",
            "Epoch [1/10], Step [1300/3079], Loss: 0.3467\n",
            "Epoch [1/10], Step [1400/3079], Loss: 0.3438\n",
            "Epoch [1/10], Step [1500/3079], Loss: 0.2106\n",
            "Epoch [1/10], Step [1600/3079], Loss: 0.2768\n",
            "Epoch [1/10], Step [1700/3079], Loss: 0.2674\n",
            "Epoch [1/10], Step [1800/3079], Loss: 0.2858\n",
            "Epoch [1/10], Step [1900/3079], Loss: 0.1098\n",
            "Epoch [1/10], Step [2000/3079], Loss: 0.0694\n",
            "Epoch [1/10], Step [2100/3079], Loss: 0.3115\n",
            "Epoch [1/10], Step [2200/3079], Loss: 0.0369\n",
            "Epoch [1/10], Step [2300/3079], Loss: 0.0517\n",
            "Epoch [1/10], Step [2400/3079], Loss: 0.1031\n",
            "Epoch [1/10], Step [2500/3079], Loss: 0.1275\n",
            "Epoch [1/10], Step [2600/3079], Loss: 0.0476\n",
            "Epoch [1/10], Step [2700/3079], Loss: 0.1012\n",
            "Epoch [1/10], Step [2800/3079], Loss: 0.2324\n",
            "Epoch [1/10], Step [2900/3079], Loss: 0.1531\n",
            "Epoch [1/10], Step [3000/3079], Loss: 0.1486\n"
          ]
        },
        {
          "metadata": {
            "tags": null
          },
          "name": "stderr",
          "output_type": "stream",
          "text": [
            "2023-12-08 23:50:09,233 - root - INFO - Accuracy: 95.91%\n",
            "2023-12-08 23:50:09,234 - root - INFO - Precision: 0.9572\n",
            "2023-12-08 23:50:09,235 - root - INFO - Recall: 0.9591\n",
            "2023-12-08 23:50:09,236 - root - INFO - F1 Score: 0.9543\n"
          ]
        },
        {
          "metadata": {
            "tags": null
          },
          "name": "stdout",
          "output_type": "stream",
          "text": [
            "Epoch [2/10], Step [100/3079], Loss: 0.1599\n",
            "Epoch [2/10], Step [200/3079], Loss: 0.0993\n",
            "Epoch [2/10], Step [300/3079], Loss: 0.2024\n",
            "Epoch [2/10], Step [400/3079], Loss: 0.0844\n",
            "Epoch [2/10], Step [500/3079], Loss: 0.1079\n",
            "Epoch [2/10], Step [600/3079], Loss: 0.2418\n",
            "Epoch [2/10], Step [700/3079], Loss: 0.0402\n",
            "Epoch [2/10], Step [800/3079], Loss: 0.2315\n",
            "Epoch [2/10], Step [900/3079], Loss: 0.1543\n",
            "Epoch [2/10], Step [1000/3079], Loss: 0.0453\n",
            "Epoch [2/10], Step [1100/3079], Loss: 0.1951\n",
            "Epoch [2/10], Step [1200/3079], Loss: 0.0705\n",
            "Epoch [2/10], Step [1300/3079], Loss: 0.2239\n",
            "Epoch [2/10], Step [1400/3079], Loss: 0.0478\n",
            "Epoch [2/10], Step [1500/3079], Loss: 0.0792\n",
            "Epoch [2/10], Step [1600/3079], Loss: 0.0383\n",
            "Epoch [2/10], Step [1700/3079], Loss: 0.0870\n",
            "Epoch [2/10], Step [1800/3079], Loss: 0.0911\n",
            "Epoch [2/10], Step [1900/3079], Loss: 0.0403\n",
            "Epoch [2/10], Step [2000/3079], Loss: 0.0519\n",
            "Epoch [2/10], Step [2100/3079], Loss: 0.2551\n",
            "Epoch [2/10], Step [2200/3079], Loss: 0.0241\n",
            "Epoch [2/10], Step [2300/3079], Loss: 0.1964\n",
            "Epoch [2/10], Step [2400/3079], Loss: 0.1632\n",
            "Epoch [2/10], Step [2500/3079], Loss: 0.1770\n",
            "Epoch [2/10], Step [2600/3079], Loss: 0.2895\n",
            "Epoch [2/10], Step [2700/3079], Loss: 0.3008\n",
            "Epoch [2/10], Step [2800/3079], Loss: 0.0409\n",
            "Epoch [2/10], Step [2900/3079], Loss: 0.1045\n",
            "Epoch [2/10], Step [3000/3079], Loss: 0.1004\n"
          ]
        },
        {
          "metadata": {
            "tags": null
          },
          "name": "stderr",
          "output_type": "stream",
          "text": [
            "2023-12-08 23:50:20,742 - root - INFO - Accuracy: 95.73%\n",
            "2023-12-08 23:50:20,743 - root - INFO - Precision: 0.9567\n",
            "2023-12-08 23:50:20,744 - root - INFO - Recall: 0.9573\n",
            "2023-12-08 23:50:20,745 - root - INFO - F1 Score: 0.9528\n"
          ]
        },
        {
          "metadata": {
            "tags": null
          },
          "name": "stdout",
          "output_type": "stream",
          "text": [
            "Epoch [3/10], Step [100/3079], Loss: 0.0404\n",
            "Epoch [3/10], Step [200/3079], Loss: 0.1480\n",
            "Epoch [3/10], Step [300/3079], Loss: 0.0554\n",
            "Epoch [3/10], Step [400/3079], Loss: 0.0297\n",
            "Epoch [3/10], Step [500/3079], Loss: 0.1099\n",
            "Epoch [3/10], Step [600/3079], Loss: 0.0282\n",
            "Epoch [3/10], Step [700/3079], Loss: 0.1320\n",
            "Epoch [3/10], Step [800/3079], Loss: 0.0362\n",
            "Epoch [3/10], Step [900/3079], Loss: 0.3614\n",
            "Epoch [3/10], Step [1000/3079], Loss: 0.1364\n",
            "Epoch [3/10], Step [1100/3079], Loss: 0.0817\n",
            "Epoch [3/10], Step [1200/3079], Loss: 0.0432\n",
            "Epoch [3/10], Step [1300/3079], Loss: 0.1757\n",
            "Epoch [3/10], Step [1400/3079], Loss: 0.1222\n",
            "Epoch [3/10], Step [1500/3079], Loss: 0.0187\n",
            "Epoch [3/10], Step [1600/3079], Loss: 0.1470\n",
            "Epoch [3/10], Step [1700/3079], Loss: 0.0662\n",
            "Epoch [3/10], Step [1800/3079], Loss: 0.1350\n",
            "Epoch [3/10], Step [1900/3079], Loss: 0.2490\n",
            "Epoch [3/10], Step [2000/3079], Loss: 0.1533\n",
            "Epoch [3/10], Step [2100/3079], Loss: 0.0469\n",
            "Epoch [3/10], Step [2200/3079], Loss: 0.0871\n",
            "Epoch [3/10], Step [2300/3079], Loss: 0.0436\n",
            "Epoch [3/10], Step [2400/3079], Loss: 0.0123\n",
            "Epoch [3/10], Step [2500/3079], Loss: 0.0668\n",
            "Epoch [3/10], Step [2600/3079], Loss: 0.1766\n",
            "Epoch [3/10], Step [2700/3079], Loss: 0.0102\n",
            "Epoch [3/10], Step [2800/3079], Loss: 0.1550\n",
            "Epoch [3/10], Step [2900/3079], Loss: 0.0482\n",
            "Epoch [3/10], Step [3000/3079], Loss: 0.2091\n"
          ]
        },
        {
          "metadata": {
            "tags": null
          },
          "name": "stderr",
          "output_type": "stream",
          "text": [
            "2023-12-08 23:50:32,206 - root - INFO - Accuracy: 96.82%\n",
            "2023-12-08 23:50:32,207 - root - INFO - Precision: 0.9668\n",
            "2023-12-08 23:50:32,209 - root - INFO - Recall: 0.9682\n",
            "2023-12-08 23:50:32,210 - root - INFO - F1 Score: 0.9665\n"
          ]
        },
        {
          "metadata": {
            "tags": null
          },
          "name": "stdout",
          "output_type": "stream",
          "text": [
            "Epoch [4/10], Step [100/3079], Loss: 0.1191\n",
            "Epoch [4/10], Step [200/3079], Loss: 0.0532\n",
            "Epoch [4/10], Step [300/3079], Loss: 0.1135\n",
            "Epoch [4/10], Step [400/3079], Loss: 0.0499\n",
            "Epoch [4/10], Step [500/3079], Loss: 0.0497\n",
            "Epoch [4/10], Step [600/3079], Loss: 0.0469\n",
            "Epoch [4/10], Step [700/3079], Loss: 0.0389\n",
            "Epoch [4/10], Step [800/3079], Loss: 0.0417\n",
            "Epoch [4/10], Step [900/3079], Loss: 0.0302\n",
            "Epoch [4/10], Step [1000/3079], Loss: 0.0848\n",
            "Epoch [4/10], Step [1100/3079], Loss: 0.1460\n",
            "Epoch [4/10], Step [1200/3079], Loss: 0.0312\n",
            "Epoch [4/10], Step [1300/3079], Loss: 0.2356\n",
            "Epoch [4/10], Step [1400/3079], Loss: 0.1352\n",
            "Epoch [4/10], Step [1500/3079], Loss: 0.0307\n",
            "Epoch [4/10], Step [1600/3079], Loss: 0.1008\n",
            "Epoch [4/10], Step [1700/3079], Loss: 0.1363\n",
            "Epoch [4/10], Step [1800/3079], Loss: 0.1152\n",
            "Epoch [4/10], Step [1900/3079], Loss: 0.0160\n",
            "Epoch [4/10], Step [2000/3079], Loss: 0.0177\n",
            "Epoch [4/10], Step [2100/3079], Loss: 0.0327\n",
            "Epoch [4/10], Step [2200/3079], Loss: 0.0165\n",
            "Epoch [4/10], Step [2300/3079], Loss: 0.1519\n",
            "Epoch [4/10], Step [2400/3079], Loss: 0.1586\n",
            "Epoch [4/10], Step [2500/3079], Loss: 0.1085\n",
            "Epoch [4/10], Step [2600/3079], Loss: 0.1880\n",
            "Epoch [4/10], Step [2700/3079], Loss: 0.0124\n",
            "Epoch [4/10], Step [2800/3079], Loss: 0.0384\n",
            "Epoch [4/10], Step [2900/3079], Loss: 0.0359\n",
            "Epoch [4/10], Step [3000/3079], Loss: 0.0299\n"
          ]
        },
        {
          "metadata": {
            "tags": null
          },
          "name": "stderr",
          "output_type": "stream",
          "text": [
            "2023-12-08 23:50:43,912 - root - INFO - Accuracy: 96.24%\n",
            "2023-12-08 23:50:43,913 - root - INFO - Precision: 0.9617\n",
            "2023-12-08 23:50:43,914 - root - INFO - Recall: 0.9624\n",
            "2023-12-08 23:50:43,914 - root - INFO - F1 Score: 0.9574\n"
          ]
        },
        {
          "metadata": {
            "tags": null
          },
          "name": "stdout",
          "output_type": "stream",
          "text": [
            "Epoch [5/10], Step [100/3079], Loss: 0.0224\n",
            "Epoch [5/10], Step [200/3079], Loss: 0.0360\n",
            "Epoch [5/10], Step [300/3079], Loss: 0.1540\n",
            "Epoch [5/10], Step [400/3079], Loss: 0.0230\n",
            "Epoch [5/10], Step [500/3079], Loss: 0.0812\n",
            "Epoch [5/10], Step [600/3079], Loss: 0.3514\n",
            "Epoch [5/10], Step [700/3079], Loss: 0.0124\n",
            "Epoch [5/10], Step [800/3079], Loss: 0.0283\n",
            "Epoch [5/10], Step [900/3079], Loss: 0.0997\n",
            "Epoch [5/10], Step [1000/3079], Loss: 0.0442\n",
            "Epoch [5/10], Step [1100/3079], Loss: 0.2689\n",
            "Epoch [5/10], Step [1200/3079], Loss: 0.0366\n",
            "Epoch [5/10], Step [1300/3079], Loss: 0.0900\n",
            "Epoch [5/10], Step [1400/3079], Loss: 0.0164\n",
            "Epoch [5/10], Step [1500/3079], Loss: 0.0759\n",
            "Epoch [5/10], Step [1600/3079], Loss: 0.0398\n",
            "Epoch [5/10], Step [1700/3079], Loss: 0.0896\n",
            "Epoch [5/10], Step [1800/3079], Loss: 0.0250\n",
            "Epoch [5/10], Step [1900/3079], Loss: 0.0853\n",
            "Epoch [5/10], Step [2000/3079], Loss: 0.0357\n",
            "Epoch [5/10], Step [2100/3079], Loss: 0.1455\n",
            "Epoch [5/10], Step [2200/3079], Loss: 0.0522\n",
            "Epoch [5/10], Step [2300/3079], Loss: 0.1467\n",
            "Epoch [5/10], Step [2400/3079], Loss: 0.0285\n",
            "Epoch [5/10], Step [2500/3079], Loss: 0.3576\n",
            "Epoch [5/10], Step [2600/3079], Loss: 0.0960\n",
            "Epoch [5/10], Step [2700/3079], Loss: 0.1348\n",
            "Epoch [5/10], Step [2800/3079], Loss: 0.0463\n",
            "Epoch [5/10], Step [2900/3079], Loss: 0.2037\n",
            "Epoch [5/10], Step [3000/3079], Loss: 0.0097\n"
          ]
        },
        {
          "metadata": {
            "tags": null
          },
          "name": "stderr",
          "output_type": "stream",
          "text": [
            "2023-12-08 23:50:55,360 - root - INFO - Accuracy: 97.10%\n",
            "2023-12-08 23:50:55,361 - root - INFO - Precision: 0.9700\n",
            "2023-12-08 23:50:55,362 - root - INFO - Recall: 0.9710\n",
            "2023-12-08 23:50:55,363 - root - INFO - F1 Score: 0.9695\n"
          ]
        },
        {
          "metadata": {
            "tags": null
          },
          "name": "stdout",
          "output_type": "stream",
          "text": [
            "Epoch [6/10], Step [100/3079], Loss: 0.1654\n",
            "Epoch [6/10], Step [200/3079], Loss: 0.0130\n",
            "Epoch [6/10], Step [300/3079], Loss: 0.0266\n",
            "Epoch [6/10], Step [400/3079], Loss: 0.1009\n",
            "Epoch [6/10], Step [500/3079], Loss: 0.0140\n",
            "Epoch [6/10], Step [600/3079], Loss: 0.0972\n",
            "Epoch [6/10], Step [700/3079], Loss: 0.0139\n",
            "Epoch [6/10], Step [800/3079], Loss: 0.0693\n",
            "Epoch [6/10], Step [900/3079], Loss: 0.1279\n",
            "Epoch [6/10], Step [1000/3079], Loss: 0.2071\n",
            "Epoch [6/10], Step [1100/3079], Loss: 0.0233\n",
            "Epoch [6/10], Step [1200/3079], Loss: 0.1401\n",
            "Epoch [6/10], Step [1300/3079], Loss: 0.0749\n",
            "Epoch [6/10], Step [1400/3079], Loss: 0.0770\n",
            "Epoch [6/10], Step [1500/3079], Loss: 0.2138\n",
            "Epoch [6/10], Step [1600/3079], Loss: 0.2430\n",
            "Epoch [6/10], Step [1700/3079], Loss: 0.0442\n",
            "Epoch [6/10], Step [1800/3079], Loss: 0.0122\n",
            "Epoch [6/10], Step [1900/3079], Loss: 0.0231\n",
            "Epoch [6/10], Step [2000/3079], Loss: 0.2620\n",
            "Epoch [6/10], Step [2100/3079], Loss: 0.0210\n",
            "Epoch [6/10], Step [2200/3079], Loss: 0.0388\n",
            "Epoch [6/10], Step [2300/3079], Loss: 0.0483\n",
            "Epoch [6/10], Step [2400/3079], Loss: 0.0842\n",
            "Epoch [6/10], Step [2500/3079], Loss: 0.0057\n",
            "Epoch [6/10], Step [2600/3079], Loss: 0.1786\n",
            "Epoch [6/10], Step [2700/3079], Loss: 0.1871\n",
            "Epoch [6/10], Step [2800/3079], Loss: 0.0464\n",
            "Epoch [6/10], Step [2900/3079], Loss: 0.4088\n",
            "Epoch [6/10], Step [3000/3079], Loss: 0.2782\n"
          ]
        },
        {
          "metadata": {
            "tags": null
          },
          "name": "stderr",
          "output_type": "stream",
          "text": [
            "2023-12-08 23:51:07,110 - root - INFO - Accuracy: 97.36%\n",
            "2023-12-08 23:51:07,111 - root - INFO - Precision: 0.9726\n",
            "2023-12-08 23:51:07,111 - root - INFO - Recall: 0.9736\n",
            "2023-12-08 23:51:07,112 - root - INFO - F1 Score: 0.9723\n"
          ]
        },
        {
          "metadata": {
            "tags": null
          },
          "name": "stdout",
          "output_type": "stream",
          "text": [
            "Epoch [7/10], Step [100/3079], Loss: 0.0791\n",
            "Epoch [7/10], Step [200/3079], Loss: 0.0863\n",
            "Epoch [7/10], Step [300/3079], Loss: 0.0366\n",
            "Epoch [7/10], Step [400/3079], Loss: 0.0347\n",
            "Epoch [7/10], Step [500/3079], Loss: 0.1576\n",
            "Epoch [7/10], Step [600/3079], Loss: 0.2291\n",
            "Epoch [7/10], Step [700/3079], Loss: 0.0340\n",
            "Epoch [7/10], Step [800/3079], Loss: 0.0190\n",
            "Epoch [7/10], Step [900/3079], Loss: 0.0368\n",
            "Epoch [7/10], Step [1000/3079], Loss: 0.2342\n",
            "Epoch [7/10], Step [1100/3079], Loss: 0.1823\n",
            "Epoch [7/10], Step [1200/3079], Loss: 0.0143\n",
            "Epoch [7/10], Step [1300/3079], Loss: 0.1061\n",
            "Epoch [7/10], Step [1400/3079], Loss: 0.1573\n",
            "Epoch [7/10], Step [1500/3079], Loss: 0.0432\n",
            "Epoch [7/10], Step [1600/3079], Loss: 0.1863\n",
            "Epoch [7/10], Step [1700/3079], Loss: 0.1934\n",
            "Epoch [7/10], Step [1800/3079], Loss: 0.0913\n",
            "Epoch [7/10], Step [1900/3079], Loss: 0.5047\n",
            "Epoch [7/10], Step [2000/3079], Loss: 0.0231\n",
            "Epoch [7/10], Step [2100/3079], Loss: 0.1902\n",
            "Epoch [7/10], Step [2200/3079], Loss: 0.0077\n",
            "Epoch [7/10], Step [2300/3079], Loss: 0.1697\n",
            "Epoch [7/10], Step [2400/3079], Loss: 0.2794\n",
            "Epoch [7/10], Step [2500/3079], Loss: 0.0225\n",
            "Epoch [7/10], Step [2600/3079], Loss: 0.1252\n",
            "Epoch [7/10], Step [2700/3079], Loss: 0.0124\n",
            "Epoch [7/10], Step [2800/3079], Loss: 0.0616\n",
            "Epoch [7/10], Step [2900/3079], Loss: 0.4860\n",
            "Epoch [7/10], Step [3000/3079], Loss: 0.0223\n"
          ]
        },
        {
          "metadata": {
            "tags": null
          },
          "name": "stderr",
          "output_type": "stream",
          "text": [
            "2023-12-08 23:51:18,806 - root - INFO - Accuracy: 97.50%\n",
            "2023-12-08 23:51:18,807 - root - INFO - Precision: 0.9744\n",
            "2023-12-08 23:51:18,808 - root - INFO - Recall: 0.9750\n",
            "2023-12-08 23:51:18,808 - root - INFO - F1 Score: 0.9741\n"
          ]
        },
        {
          "metadata": {
            "tags": null
          },
          "name": "stdout",
          "output_type": "stream",
          "text": [
            "Epoch [8/10], Step [100/3079], Loss: 0.1352\n",
            "Epoch [8/10], Step [200/3079], Loss: 0.1096\n",
            "Epoch [8/10], Step [300/3079], Loss: 0.0301\n",
            "Epoch [8/10], Step [400/3079], Loss: 0.1015\n",
            "Epoch [8/10], Step [500/3079], Loss: 0.1709\n",
            "Epoch [8/10], Step [600/3079], Loss: 0.0438\n",
            "Epoch [8/10], Step [700/3079], Loss: 0.0166\n",
            "Epoch [8/10], Step [800/3079], Loss: 0.1213\n",
            "Epoch [8/10], Step [900/3079], Loss: 0.0296\n",
            "Epoch [8/10], Step [1000/3079], Loss: 0.1576\n",
            "Epoch [8/10], Step [1100/3079], Loss: 0.1134\n",
            "Epoch [8/10], Step [1200/3079], Loss: 0.1894\n",
            "Epoch [8/10], Step [1300/3079], Loss: 0.0098\n",
            "Epoch [8/10], Step [1400/3079], Loss: 0.0903\n",
            "Epoch [8/10], Step [1500/3079], Loss: 0.1340\n",
            "Epoch [8/10], Step [1600/3079], Loss: 0.0457\n",
            "Epoch [8/10], Step [1700/3079], Loss: 0.1102\n",
            "Epoch [8/10], Step [1800/3079], Loss: 0.0194\n",
            "Epoch [8/10], Step [1900/3079], Loss: 0.0422\n",
            "Epoch [8/10], Step [2000/3079], Loss: 0.1523\n",
            "Epoch [8/10], Step [2100/3079], Loss: 0.0098\n",
            "Epoch [8/10], Step [2200/3079], Loss: 0.0650\n",
            "Epoch [8/10], Step [2300/3079], Loss: 0.0529\n",
            "Epoch [8/10], Step [2400/3079], Loss: 0.0583\n",
            "Epoch [8/10], Step [2500/3079], Loss: 0.0296\n",
            "Epoch [8/10], Step [2600/3079], Loss: 0.2524\n",
            "Epoch [8/10], Step [2700/3079], Loss: 0.0404\n",
            "Epoch [8/10], Step [2800/3079], Loss: 0.5148\n",
            "Epoch [8/10], Step [2900/3079], Loss: 0.0090\n",
            "Epoch [8/10], Step [3000/3079], Loss: 0.0090\n"
          ]
        },
        {
          "metadata": {
            "tags": null
          },
          "name": "stderr",
          "output_type": "stream",
          "text": [
            "2023-12-08 23:51:30,242 - root - INFO - Accuracy: 97.48%\n",
            "2023-12-08 23:51:30,243 - root - INFO - Precision: 0.9740\n",
            "2023-12-08 23:51:30,244 - root - INFO - Recall: 0.9748\n",
            "2023-12-08 23:51:30,245 - root - INFO - F1 Score: 0.9731\n"
          ]
        },
        {
          "metadata": {
            "tags": null
          },
          "name": "stdout",
          "output_type": "stream",
          "text": [
            "Epoch [9/10], Step [100/3079], Loss: 0.0160\n",
            "Epoch [9/10], Step [200/3079], Loss: 0.0304\n",
            "Epoch [9/10], Step [300/3079], Loss: 0.0251\n",
            "Epoch [9/10], Step [400/3079], Loss: 0.0070\n",
            "Epoch [9/10], Step [500/3079], Loss: 0.0306\n",
            "Epoch [9/10], Step [600/3079], Loss: 0.3245\n",
            "Epoch [9/10], Step [700/3079], Loss: 0.0189\n",
            "Epoch [9/10], Step [800/3079], Loss: 0.0744\n",
            "Epoch [9/10], Step [900/3079], Loss: 0.0540\n",
            "Epoch [9/10], Step [1000/3079], Loss: 0.0937\n",
            "Epoch [9/10], Step [1100/3079], Loss: 0.0093\n",
            "Epoch [9/10], Step [1200/3079], Loss: 0.0091\n",
            "Epoch [9/10], Step [1300/3079], Loss: 0.1077\n",
            "Epoch [9/10], Step [1400/3079], Loss: 0.1796\n",
            "Epoch [9/10], Step [1500/3079], Loss: 0.0132\n",
            "Epoch [9/10], Step [1600/3079], Loss: 0.0224\n",
            "Epoch [9/10], Step [1700/3079], Loss: 0.0970\n",
            "Epoch [9/10], Step [1800/3079], Loss: 0.0801\n",
            "Epoch [9/10], Step [1900/3079], Loss: 0.0403\n",
            "Epoch [9/10], Step [2000/3079], Loss: 0.0097\n",
            "Epoch [9/10], Step [2100/3079], Loss: 0.0902\n",
            "Epoch [9/10], Step [2200/3079], Loss: 0.0101\n",
            "Epoch [9/10], Step [2300/3079], Loss: 0.0334\n",
            "Epoch [9/10], Step [2400/3079], Loss: 0.0352\n",
            "Epoch [9/10], Step [2500/3079], Loss: 0.0554\n",
            "Epoch [9/10], Step [2600/3079], Loss: 0.0299\n",
            "Epoch [9/10], Step [2700/3079], Loss: 0.0993\n",
            "Epoch [9/10], Step [2800/3079], Loss: 0.0925\n",
            "Epoch [9/10], Step [2900/3079], Loss: 0.0072\n",
            "Epoch [9/10], Step [3000/3079], Loss: 0.1458\n"
          ]
        },
        {
          "metadata": {
            "tags": null
          },
          "name": "stderr",
          "output_type": "stream",
          "text": [
            "2023-12-08 23:51:41,767 - root - INFO - Accuracy: 97.83%\n",
            "2023-12-08 23:51:41,768 - root - INFO - Precision: 0.9776\n",
            "2023-12-08 23:51:41,769 - root - INFO - Recall: 0.9783\n",
            "2023-12-08 23:51:41,770 - root - INFO - F1 Score: 0.9774\n"
          ]
        },
        {
          "metadata": {
            "tags": null
          },
          "name": "stdout",
          "output_type": "stream",
          "text": [
            "Epoch [10/10], Step [100/3079], Loss: 0.0263\n",
            "Epoch [10/10], Step [200/3079], Loss: 0.1291\n",
            "Epoch [10/10], Step [300/3079], Loss: 0.0115\n",
            "Epoch [10/10], Step [400/3079], Loss: 0.2579\n",
            "Epoch [10/10], Step [500/3079], Loss: 0.0671\n",
            "Epoch [10/10], Step [600/3079], Loss: 0.0111\n",
            "Epoch [10/10], Step [700/3079], Loss: 0.0097\n",
            "Epoch [10/10], Step [800/3079], Loss: 0.0100\n",
            "Epoch [10/10], Step [900/3079], Loss: 0.0563\n",
            "Epoch [10/10], Step [1000/3079], Loss: 0.0187\n",
            "Epoch [10/10], Step [1100/3079], Loss: 0.0436\n",
            "Epoch [10/10], Step [1200/3079], Loss: 0.0344\n",
            "Epoch [10/10], Step [1300/3079], Loss: 0.0113\n",
            "Epoch [10/10], Step [1400/3079], Loss: 0.0667\n",
            "Epoch [10/10], Step [1500/3079], Loss: 0.0508\n",
            "Epoch [10/10], Step [1600/3079], Loss: 0.1721\n",
            "Epoch [10/10], Step [1700/3079], Loss: 0.2297\n",
            "Epoch [10/10], Step [1800/3079], Loss: 0.0604\n",
            "Epoch [10/10], Step [1900/3079], Loss: 0.0161\n",
            "Epoch [10/10], Step [2000/3079], Loss: 0.2590\n",
            "Epoch [10/10], Step [2100/3079], Loss: 0.0535\n",
            "Epoch [10/10], Step [2200/3079], Loss: 0.0950\n",
            "Epoch [10/10], Step [2300/3079], Loss: 0.0256\n",
            "Epoch [10/10], Step [2400/3079], Loss: 0.2736\n",
            "Epoch [10/10], Step [2500/3079], Loss: 0.0260\n",
            "Epoch [10/10], Step [2600/3079], Loss: 0.0089\n",
            "Epoch [10/10], Step [2700/3079], Loss: 0.0138\n",
            "Epoch [10/10], Step [2800/3079], Loss: 0.1369\n",
            "Epoch [10/10], Step [2900/3079], Loss: 0.0072\n",
            "Epoch [10/10], Step [3000/3079], Loss: 0.2327\n"
          ]
        },
        {
          "metadata": {
            "tags": null
          },
          "name": "stderr",
          "output_type": "stream",
          "text": [
            "2023-12-08 23:51:53,311 - root - INFO - Accuracy: 97.71%\n",
            "2023-12-08 23:51:53,312 - root - INFO - Precision: 0.9762\n",
            "2023-12-08 23:51:53,313 - root - INFO - Recall: 0.9771\n",
            "2023-12-08 23:51:53,313 - root - INFO - F1 Score: 0.9759\n"
          ]
        },
        {
          "metadata": {
            "tags": null
          },
          "name": "stdout",
          "output_type": "stream",
          "text": [
            "FOLD 5\n",
            "--------------------------------\n",
            "OSCNN(\n",
            "  (conv1): Conv1d(1, 128, kernel_size=(8,), stride=(1,), padding=same)\n",
            "  (bn1): BatchNorm1d(128, eps=1e-05, momentum=0.1, affine=True, track_running_stats=True)\n",
            "  (conv2): Conv1d(128, 256, kernel_size=(5,), stride=(1,), padding=same)\n",
            "  (bn2): BatchNorm1d(256, eps=1e-05, momentum=0.1, affine=True, track_running_stats=True)\n",
            "  (conv3): Conv1d(256, 128, kernel_size=(3,), stride=(1,), padding=same)\n",
            "  (bn3): BatchNorm1d(128, eps=1e-05, momentum=0.1, affine=True, track_running_stats=True)\n",
            "  (avg_pool): AdaptiveAvgPool1d(output_size=1)\n",
            "  (fc): Linear(in_features=128, out_features=5, bias=True)\n",
            ")\n",
            "Epoch [1/10], Step [100/3079], Loss: 0.7483\n",
            "Epoch [1/10], Step [200/3079], Loss: 0.4015\n",
            "Epoch [1/10], Step [300/3079], Loss: 0.5668\n",
            "Epoch [1/10], Step [400/3079], Loss: 0.3842\n",
            "Epoch [1/10], Step [500/3079], Loss: 0.4631\n",
            "Epoch [1/10], Step [600/3079], Loss: 0.1736\n",
            "Epoch [1/10], Step [700/3079], Loss: 0.1874\n",
            "Epoch [1/10], Step [800/3079], Loss: 0.2730\n",
            "Epoch [1/10], Step [900/3079], Loss: 0.1008\n",
            "Epoch [1/10], Step [1000/3079], Loss: 0.2625\n",
            "Epoch [1/10], Step [1100/3079], Loss: 0.4312\n",
            "Epoch [1/10], Step [1200/3079], Loss: 0.3381\n",
            "Epoch [1/10], Step [1300/3079], Loss: 0.1564\n",
            "Epoch [1/10], Step [1400/3079], Loss: 0.2127\n",
            "Epoch [1/10], Step [1500/3079], Loss: 0.3220\n",
            "Epoch [1/10], Step [1600/3079], Loss: 0.4494\n",
            "Epoch [1/10], Step [1700/3079], Loss: 0.0876\n",
            "Epoch [1/10], Step [1800/3079], Loss: 0.2579\n",
            "Epoch [1/10], Step [1900/3079], Loss: 0.0760\n",
            "Epoch [1/10], Step [2000/3079], Loss: 0.1056\n",
            "Epoch [1/10], Step [2100/3079], Loss: 0.0738\n",
            "Epoch [1/10], Step [2200/3079], Loss: 0.2450\n",
            "Epoch [1/10], Step [2300/3079], Loss: 0.0695\n",
            "Epoch [1/10], Step [2400/3079], Loss: 0.1502\n",
            "Epoch [1/10], Step [2500/3079], Loss: 0.0810\n",
            "Epoch [1/10], Step [2600/3079], Loss: 0.2044\n",
            "Epoch [1/10], Step [2700/3079], Loss: 0.0640\n",
            "Epoch [1/10], Step [2800/3079], Loss: 0.0891\n",
            "Epoch [1/10], Step [2900/3079], Loss: 0.2995\n",
            "Epoch [1/10], Step [3000/3079], Loss: 0.1735\n"
          ]
        },
        {
          "metadata": {
            "tags": null
          },
          "name": "stderr",
          "output_type": "stream",
          "text": [
            "2023-12-08 23:52:04,937 - root - INFO - Accuracy: 94.01%\n",
            "2023-12-08 23:52:04,938 - root - INFO - Precision: 0.9394\n",
            "2023-12-08 23:52:04,939 - root - INFO - Recall: 0.9401\n",
            "2023-12-08 23:52:04,940 - root - INFO - F1 Score: 0.9275\n"
          ]
        },
        {
          "metadata": {
            "tags": null
          },
          "name": "stdout",
          "output_type": "stream",
          "text": [
            "Epoch [2/10], Step [100/3079], Loss: 0.2551\n",
            "Epoch [2/10], Step [200/3079], Loss: 0.0333\n",
            "Epoch [2/10], Step [300/3079], Loss: 0.3105\n",
            "Epoch [2/10], Step [400/3079], Loss: 0.0594\n",
            "Epoch [2/10], Step [500/3079], Loss: 0.0764\n",
            "Epoch [2/10], Step [600/3079], Loss: 0.0931\n",
            "Epoch [2/10], Step [700/3079], Loss: 0.1837\n",
            "Epoch [2/10], Step [800/3079], Loss: 0.0504\n",
            "Epoch [2/10], Step [900/3079], Loss: 0.0978\n",
            "Epoch [2/10], Step [1000/3079], Loss: 0.0685\n",
            "Epoch [2/10], Step [1100/3079], Loss: 0.3137\n",
            "Epoch [2/10], Step [1200/3079], Loss: 0.0164\n",
            "Epoch [2/10], Step [1300/3079], Loss: 0.3890\n",
            "Epoch [2/10], Step [1400/3079], Loss: 0.2526\n",
            "Epoch [2/10], Step [1500/3079], Loss: 0.0920\n",
            "Epoch [2/10], Step [1600/3079], Loss: 0.0596\n",
            "Epoch [2/10], Step [1700/3079], Loss: 0.0145\n",
            "Epoch [2/10], Step [1800/3079], Loss: 0.0668\n",
            "Epoch [2/10], Step [1900/3079], Loss: 0.5585\n",
            "Epoch [2/10], Step [2000/3079], Loss: 0.0544\n",
            "Epoch [2/10], Step [2100/3079], Loss: 0.0955\n",
            "Epoch [2/10], Step [2200/3079], Loss: 0.3694\n",
            "Epoch [2/10], Step [2300/3079], Loss: 0.2925\n",
            "Epoch [2/10], Step [2400/3079], Loss: 0.0629\n",
            "Epoch [2/10], Step [2500/3079], Loss: 0.0661\n",
            "Epoch [2/10], Step [2600/3079], Loss: 0.2037\n",
            "Epoch [2/10], Step [2700/3079], Loss: 0.2191\n",
            "Epoch [2/10], Step [2800/3079], Loss: 0.1843\n",
            "Epoch [2/10], Step [2900/3079], Loss: 0.0993\n",
            "Epoch [2/10], Step [3000/3079], Loss: 0.0499\n"
          ]
        },
        {
          "metadata": {
            "tags": null
          },
          "name": "stderr",
          "output_type": "stream",
          "text": [
            "2023-12-08 23:52:16,406 - root - INFO - Accuracy: 93.60%\n",
            "2023-12-08 23:52:16,407 - root - INFO - Precision: 0.9379\n",
            "2023-12-08 23:52:16,408 - root - INFO - Recall: 0.9360\n",
            "2023-12-08 23:52:16,409 - root - INFO - F1 Score: 0.9224\n"
          ]
        },
        {
          "metadata": {
            "tags": null
          },
          "name": "stdout",
          "output_type": "stream",
          "text": [
            "Epoch [3/10], Step [100/3079], Loss: 0.0305\n",
            "Epoch [3/10], Step [200/3079], Loss: 0.1430\n",
            "Epoch [3/10], Step [300/3079], Loss: 0.0246\n",
            "Epoch [3/10], Step [400/3079], Loss: 0.2864\n",
            "Epoch [3/10], Step [500/3079], Loss: 0.1218\n",
            "Epoch [3/10], Step [600/3079], Loss: 0.0407\n",
            "Epoch [3/10], Step [700/3079], Loss: 0.0827\n",
            "Epoch [3/10], Step [800/3079], Loss: 0.0726\n",
            "Epoch [3/10], Step [900/3079], Loss: 0.0360\n",
            "Epoch [3/10], Step [1000/3079], Loss: 0.0900\n",
            "Epoch [3/10], Step [1100/3079], Loss: 0.0532\n",
            "Epoch [3/10], Step [1200/3079], Loss: 0.0241\n",
            "Epoch [3/10], Step [1300/3079], Loss: 0.0063\n",
            "Epoch [3/10], Step [1400/3079], Loss: 0.0293\n",
            "Epoch [3/10], Step [1500/3079], Loss: 0.0615\n",
            "Epoch [3/10], Step [1600/3079], Loss: 0.2456\n",
            "Epoch [3/10], Step [1700/3079], Loss: 0.3824\n",
            "Epoch [3/10], Step [1800/3079], Loss: 0.0717\n",
            "Epoch [3/10], Step [1900/3079], Loss: 0.1842\n",
            "Epoch [3/10], Step [2000/3079], Loss: 0.0376\n",
            "Epoch [3/10], Step [2100/3079], Loss: 0.0482\n",
            "Epoch [3/10], Step [2200/3079], Loss: 0.0060\n",
            "Epoch [3/10], Step [2300/3079], Loss: 0.0158\n",
            "Epoch [3/10], Step [2400/3079], Loss: 0.1544\n",
            "Epoch [3/10], Step [2500/3079], Loss: 0.0731\n",
            "Epoch [3/10], Step [2600/3079], Loss: 0.0352\n",
            "Epoch [3/10], Step [2700/3079], Loss: 0.1106\n",
            "Epoch [3/10], Step [2800/3079], Loss: 0.0231\n",
            "Epoch [3/10], Step [2900/3079], Loss: 0.0305\n",
            "Epoch [3/10], Step [3000/3079], Loss: 0.1176\n"
          ]
        },
        {
          "metadata": {
            "tags": null
          },
          "name": "stderr",
          "output_type": "stream",
          "text": [
            "2023-12-08 23:52:27,923 - root - INFO - Accuracy: 97.09%\n",
            "2023-12-08 23:52:27,925 - root - INFO - Precision: 0.9698\n",
            "2023-12-08 23:52:27,926 - root - INFO - Recall: 0.9709\n",
            "2023-12-08 23:52:27,927 - root - INFO - F1 Score: 0.9687\n"
          ]
        },
        {
          "metadata": {
            "tags": null
          },
          "name": "stdout",
          "output_type": "stream",
          "text": [
            "Epoch [4/10], Step [100/3079], Loss: 0.1091\n",
            "Epoch [4/10], Step [200/3079], Loss: 0.0953\n",
            "Epoch [4/10], Step [300/3079], Loss: 0.1442\n",
            "Epoch [4/10], Step [400/3079], Loss: 0.1628\n",
            "Epoch [4/10], Step [500/3079], Loss: 0.1818\n",
            "Epoch [4/10], Step [600/3079], Loss: 0.1692\n",
            "Epoch [4/10], Step [700/3079], Loss: 0.1068\n",
            "Epoch [4/10], Step [800/3079], Loss: 0.0262\n",
            "Epoch [4/10], Step [900/3079], Loss: 0.0782\n",
            "Epoch [4/10], Step [1000/3079], Loss: 0.0491\n",
            "Epoch [4/10], Step [1100/3079], Loss: 0.1451\n",
            "Epoch [4/10], Step [1200/3079], Loss: 0.0646\n",
            "Epoch [4/10], Step [1300/3079], Loss: 0.0302\n",
            "Epoch [4/10], Step [1400/3079], Loss: 0.0721\n",
            "Epoch [4/10], Step [1500/3079], Loss: 0.0747\n",
            "Epoch [4/10], Step [1600/3079], Loss: 0.1960\n",
            "Epoch [4/10], Step [1700/3079], Loss: 0.0382\n",
            "Epoch [4/10], Step [1800/3079], Loss: 0.1630\n",
            "Epoch [4/10], Step [1900/3079], Loss: 0.4531\n",
            "Epoch [4/10], Step [2000/3079], Loss: 0.0462\n",
            "Epoch [4/10], Step [2100/3079], Loss: 0.0778\n",
            "Epoch [4/10], Step [2200/3079], Loss: 0.0736\n",
            "Epoch [4/10], Step [2300/3079], Loss: 0.0300\n",
            "Epoch [4/10], Step [2400/3079], Loss: 0.0132\n",
            "Epoch [4/10], Step [2500/3079], Loss: 0.1167\n",
            "Epoch [4/10], Step [2600/3079], Loss: 0.0500\n",
            "Epoch [4/10], Step [2700/3079], Loss: 0.0550\n",
            "Epoch [4/10], Step [2800/3079], Loss: 0.0824\n",
            "Epoch [4/10], Step [2900/3079], Loss: 0.0573\n",
            "Epoch [4/10], Step [3000/3079], Loss: 0.0113\n"
          ]
        },
        {
          "metadata": {
            "tags": null
          },
          "name": "stderr",
          "output_type": "stream",
          "text": [
            "2023-12-08 23:52:39,401 - root - INFO - Accuracy: 97.20%\n",
            "2023-12-08 23:52:39,402 - root - INFO - Precision: 0.9708\n",
            "2023-12-08 23:52:39,403 - root - INFO - Recall: 0.9720\n",
            "2023-12-08 23:52:39,404 - root - INFO - F1 Score: 0.9701\n"
          ]
        },
        {
          "metadata": {
            "tags": null
          },
          "name": "stdout",
          "output_type": "stream",
          "text": [
            "Epoch [5/10], Step [100/3079], Loss: 0.1749\n",
            "Epoch [5/10], Step [200/3079], Loss: 0.0301\n",
            "Epoch [5/10], Step [300/3079], Loss: 0.0466\n",
            "Epoch [5/10], Step [400/3079], Loss: 0.0685\n",
            "Epoch [5/10], Step [500/3079], Loss: 0.2899\n",
            "Epoch [5/10], Step [600/3079], Loss: 0.4024\n",
            "Epoch [5/10], Step [700/3079], Loss: 0.0671\n",
            "Epoch [5/10], Step [800/3079], Loss: 0.0163\n",
            "Epoch [5/10], Step [900/3079], Loss: 0.0513\n",
            "Epoch [5/10], Step [1000/3079], Loss: 0.1229\n",
            "Epoch [5/10], Step [1100/3079], Loss: 0.0145\n",
            "Epoch [5/10], Step [1200/3079], Loss: 0.1117\n",
            "Epoch [5/10], Step [1300/3079], Loss: 0.0379\n",
            "Epoch [5/10], Step [1400/3079], Loss: 0.0550\n",
            "Epoch [5/10], Step [1500/3079], Loss: 0.3271\n",
            "Epoch [5/10], Step [1600/3079], Loss: 0.0295\n",
            "Epoch [5/10], Step [1700/3079], Loss: 0.0941\n",
            "Epoch [5/10], Step [1800/3079], Loss: 0.1046\n",
            "Epoch [5/10], Step [1900/3079], Loss: 0.0628\n",
            "Epoch [5/10], Step [2000/3079], Loss: 0.1320\n",
            "Epoch [5/10], Step [2100/3079], Loss: 0.0495\n",
            "Epoch [5/10], Step [2200/3079], Loss: 0.1416\n",
            "Epoch [5/10], Step [2300/3079], Loss: 0.0397\n",
            "Epoch [5/10], Step [2400/3079], Loss: 0.0363\n",
            "Epoch [5/10], Step [2500/3079], Loss: 0.0273\n",
            "Epoch [5/10], Step [2600/3079], Loss: 0.0541\n",
            "Epoch [5/10], Step [2700/3079], Loss: 0.0132\n",
            "Epoch [5/10], Step [2800/3079], Loss: 0.0064\n",
            "Epoch [5/10], Step [2900/3079], Loss: 0.2024\n",
            "Epoch [5/10], Step [3000/3079], Loss: 0.1409\n"
          ]
        },
        {
          "metadata": {
            "tags": null
          },
          "name": "stderr",
          "output_type": "stream",
          "text": [
            "2023-12-08 23:52:50,945 - root - INFO - Accuracy: 97.34%\n",
            "2023-12-08 23:52:50,946 - root - INFO - Precision: 0.9728\n",
            "2023-12-08 23:52:50,947 - root - INFO - Recall: 0.9734\n",
            "2023-12-08 23:52:50,948 - root - INFO - F1 Score: 0.9715\n"
          ]
        },
        {
          "metadata": {
            "tags": null
          },
          "name": "stdout",
          "output_type": "stream",
          "text": [
            "Epoch [6/10], Step [100/3079], Loss: 0.0502\n",
            "Epoch [6/10], Step [200/3079], Loss: 0.0271\n",
            "Epoch [6/10], Step [300/3079], Loss: 0.0704\n",
            "Epoch [6/10], Step [400/3079], Loss: 0.1401\n",
            "Epoch [6/10], Step [500/3079], Loss: 0.2302\n",
            "Epoch [6/10], Step [600/3079], Loss: 0.0339\n",
            "Epoch [6/10], Step [700/3079], Loss: 0.1027\n",
            "Epoch [6/10], Step [800/3079], Loss: 0.2138\n",
            "Epoch [6/10], Step [900/3079], Loss: 0.0077\n",
            "Epoch [6/10], Step [1000/3079], Loss: 0.1401\n",
            "Epoch [6/10], Step [1100/3079], Loss: 0.0404\n",
            "Epoch [6/10], Step [1200/3079], Loss: 0.0351\n",
            "Epoch [6/10], Step [1300/3079], Loss: 0.1917\n",
            "Epoch [6/10], Step [1400/3079], Loss: 0.2155\n",
            "Epoch [6/10], Step [1500/3079], Loss: 0.2568\n",
            "Epoch [6/10], Step [1600/3079], Loss: 0.0525\n",
            "Epoch [6/10], Step [1700/3079], Loss: 0.3281\n",
            "Epoch [6/10], Step [1800/3079], Loss: 0.0541\n",
            "Epoch [6/10], Step [1900/3079], Loss: 0.0415\n",
            "Epoch [6/10], Step [2000/3079], Loss: 0.0363\n",
            "Epoch [6/10], Step [2100/3079], Loss: 0.0362\n",
            "Epoch [6/10], Step [2200/3079], Loss: 0.0731\n",
            "Epoch [6/10], Step [2300/3079], Loss: 0.2271\n",
            "Epoch [6/10], Step [2400/3079], Loss: 0.0678\n",
            "Epoch [6/10], Step [2500/3079], Loss: 0.1472\n",
            "Epoch [6/10], Step [2600/3079], Loss: 0.1195\n",
            "Epoch [6/10], Step [2700/3079], Loss: 0.0462\n",
            "Epoch [6/10], Step [2800/3079], Loss: 0.2966\n",
            "Epoch [6/10], Step [2900/3079], Loss: 0.0145\n",
            "Epoch [6/10], Step [3000/3079], Loss: 0.1887\n"
          ]
        },
        {
          "metadata": {
            "tags": null
          },
          "name": "stderr",
          "output_type": "stream",
          "text": [
            "2023-12-08 23:53:02,127 - root - INFO - Accuracy: 97.26%\n",
            "2023-12-08 23:53:02,128 - root - INFO - Precision: 0.9723\n",
            "2023-12-08 23:53:02,131 - root - INFO - Recall: 0.9726\n",
            "2023-12-08 23:53:02,132 - root - INFO - F1 Score: 0.9721\n"
          ]
        },
        {
          "metadata": {
            "tags": null
          },
          "name": "stdout",
          "output_type": "stream",
          "text": [
            "Epoch [7/10], Step [100/3079], Loss: 0.0206\n",
            "Epoch [7/10], Step [200/3079], Loss: 0.0314\n",
            "Epoch [7/10], Step [300/3079], Loss: 0.0137\n",
            "Epoch [7/10], Step [400/3079], Loss: 0.0268\n",
            "Epoch [7/10], Step [500/3079], Loss: 0.0236\n",
            "Epoch [7/10], Step [600/3079], Loss: 0.0142\n",
            "Epoch [7/10], Step [700/3079], Loss: 0.0285\n",
            "Epoch [7/10], Step [800/3079], Loss: 0.0230\n",
            "Epoch [7/10], Step [900/3079], Loss: 0.2198\n",
            "Epoch [7/10], Step [1000/3079], Loss: 0.0245\n",
            "Epoch [7/10], Step [1100/3079], Loss: 0.0913\n",
            "Epoch [7/10], Step [1200/3079], Loss: 0.0315\n",
            "Epoch [7/10], Step [1300/3079], Loss: 0.0270\n",
            "Epoch [7/10], Step [1400/3079], Loss: 0.0526\n",
            "Epoch [7/10], Step [1500/3079], Loss: 0.0081\n",
            "Epoch [7/10], Step [1600/3079], Loss: 0.1615\n",
            "Epoch [7/10], Step [1700/3079], Loss: 0.0534\n",
            "Epoch [7/10], Step [1800/3079], Loss: 0.0146\n",
            "Epoch [7/10], Step [1900/3079], Loss: 0.1647\n",
            "Epoch [7/10], Step [2000/3079], Loss: 0.0940\n",
            "Epoch [7/10], Step [2100/3079], Loss: 0.1769\n",
            "Epoch [7/10], Step [2200/3079], Loss: 0.0180\n",
            "Epoch [7/10], Step [2300/3079], Loss: 0.0558\n",
            "Epoch [7/10], Step [2400/3079], Loss: 0.1833\n",
            "Epoch [7/10], Step [2500/3079], Loss: 0.2542\n",
            "Epoch [7/10], Step [2600/3079], Loss: 0.1079\n",
            "Epoch [7/10], Step [2700/3079], Loss: 0.0396\n",
            "Epoch [7/10], Step [2800/3079], Loss: 0.0070\n",
            "Epoch [7/10], Step [2900/3079], Loss: 0.0297\n",
            "Epoch [7/10], Step [3000/3079], Loss: 0.1862\n"
          ]
        },
        {
          "metadata": {
            "tags": null
          },
          "name": "stderr",
          "output_type": "stream",
          "text": [
            "2023-12-08 23:53:13,658 - root - INFO - Accuracy: 97.55%\n",
            "2023-12-08 23:53:13,659 - root - INFO - Precision: 0.9752\n",
            "2023-12-08 23:53:13,660 - root - INFO - Recall: 0.9755\n",
            "2023-12-08 23:53:13,661 - root - INFO - F1 Score: 0.9737\n"
          ]
        },
        {
          "metadata": {
            "tags": null
          },
          "name": "stdout",
          "output_type": "stream",
          "text": [
            "Epoch [8/10], Step [100/3079], Loss: 0.0271\n",
            "Epoch [8/10], Step [200/3079], Loss: 0.0206\n",
            "Epoch [8/10], Step [300/3079], Loss: 0.1155\n",
            "Epoch [8/10], Step [400/3079], Loss: 0.0619\n",
            "Epoch [8/10], Step [500/3079], Loss: 0.0609\n",
            "Epoch [8/10], Step [600/3079], Loss: 0.1169\n",
            "Epoch [8/10], Step [700/3079], Loss: 0.0184\n",
            "Epoch [8/10], Step [800/3079], Loss: 0.1075\n",
            "Epoch [8/10], Step [900/3079], Loss: 0.1593\n",
            "Epoch [8/10], Step [1000/3079], Loss: 0.0207\n",
            "Epoch [8/10], Step [1100/3079], Loss: 0.0439\n",
            "Epoch [8/10], Step [1200/3079], Loss: 0.2205\n",
            "Epoch [8/10], Step [1300/3079], Loss: 0.1608\n",
            "Epoch [8/10], Step [1400/3079], Loss: 0.0365\n",
            "Epoch [8/10], Step [1500/3079], Loss: 0.0106\n",
            "Epoch [8/10], Step [1600/3079], Loss: 0.0293\n",
            "Epoch [8/10], Step [1700/3079], Loss: 0.0872\n",
            "Epoch [8/10], Step [1800/3079], Loss: 0.1560\n",
            "Epoch [8/10], Step [1900/3079], Loss: 0.0155\n",
            "Epoch [8/10], Step [2000/3079], Loss: 0.0589\n",
            "Epoch [8/10], Step [2100/3079], Loss: 0.0637\n",
            "Epoch [8/10], Step [2200/3079], Loss: 0.1086\n",
            "Epoch [8/10], Step [2300/3079], Loss: 0.0231\n",
            "Epoch [8/10], Step [2400/3079], Loss: 0.0810\n",
            "Epoch [8/10], Step [2500/3079], Loss: 0.0410\n",
            "Epoch [8/10], Step [2600/3079], Loss: 0.0408\n",
            "Epoch [8/10], Step [2700/3079], Loss: 0.0577\n",
            "Epoch [8/10], Step [2800/3079], Loss: 0.0139\n",
            "Epoch [8/10], Step [2900/3079], Loss: 0.2331\n",
            "Epoch [8/10], Step [3000/3079], Loss: 0.0134\n"
          ]
        },
        {
          "metadata": {
            "tags": null
          },
          "name": "stderr",
          "output_type": "stream",
          "text": [
            "2023-12-08 23:53:25,148 - root - INFO - Accuracy: 97.51%\n",
            "2023-12-08 23:53:25,149 - root - INFO - Precision: 0.9744\n",
            "2023-12-08 23:53:25,150 - root - INFO - Recall: 0.9751\n",
            "2023-12-08 23:53:25,151 - root - INFO - F1 Score: 0.9735\n"
          ]
        },
        {
          "metadata": {
            "tags": null
          },
          "name": "stdout",
          "output_type": "stream",
          "text": [
            "Epoch [9/10], Step [100/3079], Loss: 0.1389\n",
            "Epoch [9/10], Step [200/3079], Loss: 0.0214\n",
            "Epoch [9/10], Step [300/3079], Loss: 0.2845\n",
            "Epoch [9/10], Step [400/3079], Loss: 0.0888\n",
            "Epoch [9/10], Step [500/3079], Loss: 0.0212\n",
            "Epoch [9/10], Step [600/3079], Loss: 0.0224\n",
            "Epoch [9/10], Step [700/3079], Loss: 0.0686\n",
            "Epoch [9/10], Step [800/3079], Loss: 0.0339\n",
            "Epoch [9/10], Step [900/3079], Loss: 0.0117\n",
            "Epoch [9/10], Step [1000/3079], Loss: 0.0991\n",
            "Epoch [9/10], Step [1100/3079], Loss: 0.0061\n",
            "Epoch [9/10], Step [1200/3079], Loss: 0.1797\n",
            "Epoch [9/10], Step [1300/3079], Loss: 0.2038\n",
            "Epoch [9/10], Step [1400/3079], Loss: 0.0138\n",
            "Epoch [9/10], Step [1500/3079], Loss: 0.0249\n",
            "Epoch [9/10], Step [1600/3079], Loss: 0.0131\n",
            "Epoch [9/10], Step [1700/3079], Loss: 0.0206\n",
            "Epoch [9/10], Step [1800/3079], Loss: 0.0665\n",
            "Epoch [9/10], Step [1900/3079], Loss: 0.0975\n",
            "Epoch [9/10], Step [2000/3079], Loss: 0.0120\n",
            "Epoch [9/10], Step [2100/3079], Loss: 0.0761\n",
            "Epoch [9/10], Step [2200/3079], Loss: 0.0451\n",
            "Epoch [9/10], Step [2300/3079], Loss: 0.0260\n",
            "Epoch [9/10], Step [2400/3079], Loss: 0.0592\n",
            "Epoch [9/10], Step [2500/3079], Loss: 0.0906\n",
            "Epoch [9/10], Step [2600/3079], Loss: 0.0929\n",
            "Epoch [9/10], Step [2700/3079], Loss: 0.0874\n",
            "Epoch [9/10], Step [2800/3079], Loss: 0.1248\n",
            "Epoch [9/10], Step [2900/3079], Loss: 0.0665\n",
            "Epoch [9/10], Step [3000/3079], Loss: 0.0212\n"
          ]
        },
        {
          "metadata": {
            "tags": null
          },
          "name": "stderr",
          "output_type": "stream",
          "text": [
            "2023-12-08 23:53:36,702 - root - INFO - Accuracy: 97.07%\n",
            "2023-12-08 23:53:36,703 - root - INFO - Precision: 0.9715\n",
            "2023-12-08 23:53:36,703 - root - INFO - Recall: 0.9707\n",
            "2023-12-08 23:53:36,704 - root - INFO - F1 Score: 0.9708\n"
          ]
        },
        {
          "metadata": {
            "tags": null
          },
          "name": "stdout",
          "output_type": "stream",
          "text": [
            "Epoch [10/10], Step [100/3079], Loss: 0.0901\n",
            "Epoch [10/10], Step [200/3079], Loss: 0.0364\n",
            "Epoch [10/10], Step [300/3079], Loss: 0.2558\n",
            "Epoch [10/10], Step [400/3079], Loss: 0.0591\n",
            "Epoch [10/10], Step [500/3079], Loss: 0.0134\n",
            "Epoch [10/10], Step [600/3079], Loss: 0.0065\n",
            "Epoch [10/10], Step [700/3079], Loss: 0.1382\n",
            "Epoch [10/10], Step [800/3079], Loss: 0.0269\n",
            "Epoch [10/10], Step [900/3079], Loss: 0.0329\n",
            "Epoch [10/10], Step [1000/3079], Loss: 0.0193\n",
            "Epoch [10/10], Step [1100/3079], Loss: 0.1721\n",
            "Epoch [10/10], Step [1200/3079], Loss: 0.0399\n",
            "Epoch [10/10], Step [1300/3079], Loss: 0.1011\n",
            "Epoch [10/10], Step [1400/3079], Loss: 0.0312\n",
            "Epoch [10/10], Step [1500/3079], Loss: 0.0511\n",
            "Epoch [10/10], Step [1600/3079], Loss: 0.1248\n",
            "Epoch [10/10], Step [1700/3079], Loss: 0.1433\n",
            "Epoch [10/10], Step [1800/3079], Loss: 0.0282\n",
            "Epoch [10/10], Step [1900/3079], Loss: 0.2033\n",
            "Epoch [10/10], Step [2000/3079], Loss: 0.0295\n",
            "Epoch [10/10], Step [2100/3079], Loss: 0.0189\n",
            "Epoch [10/10], Step [2200/3079], Loss: 0.2095\n",
            "Epoch [10/10], Step [2300/3079], Loss: 0.0076\n",
            "Epoch [10/10], Step [2400/3079], Loss: 0.1497\n",
            "Epoch [10/10], Step [2500/3079], Loss: 0.1333\n",
            "Epoch [10/10], Step [2600/3079], Loss: 0.0246\n",
            "Epoch [10/10], Step [2700/3079], Loss: 0.0250\n",
            "Epoch [10/10], Step [2800/3079], Loss: 0.3847\n",
            "Epoch [10/10], Step [2900/3079], Loss: 0.0638\n",
            "Epoch [10/10], Step [3000/3079], Loss: 0.0378\n"
          ]
        },
        {
          "metadata": {
            "tags": null
          },
          "name": "stderr",
          "output_type": "stream",
          "text": [
            "2023-12-08 23:53:48,191 - root - INFO - Accuracy: 97.52%\n",
            "2023-12-08 23:53:48,192 - root - INFO - Precision: 0.9750\n",
            "2023-12-08 23:53:48,193 - root - INFO - Recall: 0.9752\n",
            "2023-12-08 23:53:48,194 - root - INFO - F1 Score: 0.9737\n"
          ]
        },
        {
          "metadata": {
            "tags": null
          },
          "name": "stdout",
          "output_type": "stream",
          "text": [
            "FOLD 6\n",
            "--------------------------------\n",
            "OSCNN(\n",
            "  (conv1): Conv1d(1, 128, kernel_size=(8,), stride=(1,), padding=same)\n",
            "  (bn1): BatchNorm1d(128, eps=1e-05, momentum=0.1, affine=True, track_running_stats=True)\n",
            "  (conv2): Conv1d(128, 256, kernel_size=(5,), stride=(1,), padding=same)\n",
            "  (bn2): BatchNorm1d(256, eps=1e-05, momentum=0.1, affine=True, track_running_stats=True)\n",
            "  (conv3): Conv1d(256, 128, kernel_size=(3,), stride=(1,), padding=same)\n",
            "  (bn3): BatchNorm1d(128, eps=1e-05, momentum=0.1, affine=True, track_running_stats=True)\n",
            "  (avg_pool): AdaptiveAvgPool1d(output_size=1)\n",
            "  (fc): Linear(in_features=128, out_features=5, bias=True)\n",
            ")\n",
            "Epoch [1/10], Step [100/3079], Loss: 0.4474\n",
            "Epoch [1/10], Step [200/3079], Loss: 0.8825\n",
            "Epoch [1/10], Step [300/3079], Loss: 0.5534\n",
            "Epoch [1/10], Step [400/3079], Loss: 0.3208\n",
            "Epoch [1/10], Step [500/3079], Loss: 0.3488\n",
            "Epoch [1/10], Step [600/3079], Loss: 0.3788\n",
            "Epoch [1/10], Step [700/3079], Loss: 0.3249\n",
            "Epoch [1/10], Step [800/3079], Loss: 0.1771\n",
            "Epoch [1/10], Step [900/3079], Loss: 0.0830\n",
            "Epoch [1/10], Step [1000/3079], Loss: 0.5925\n",
            "Epoch [1/10], Step [1100/3079], Loss: 0.1330\n",
            "Epoch [1/10], Step [1200/3079], Loss: 0.4499\n",
            "Epoch [1/10], Step [1300/3079], Loss: 0.3010\n",
            "Epoch [1/10], Step [1400/3079], Loss: 0.0892\n",
            "Epoch [1/10], Step [1500/3079], Loss: 0.5029\n",
            "Epoch [1/10], Step [1600/3079], Loss: 0.1226\n",
            "Epoch [1/10], Step [1700/3079], Loss: 0.2367\n",
            "Epoch [1/10], Step [1800/3079], Loss: 0.1368\n",
            "Epoch [1/10], Step [1900/3079], Loss: 0.0896\n",
            "Epoch [1/10], Step [2000/3079], Loss: 0.4171\n",
            "Epoch [1/10], Step [2100/3079], Loss: 0.0227\n",
            "Epoch [1/10], Step [2200/3079], Loss: 0.2656\n",
            "Epoch [1/10], Step [2300/3079], Loss: 0.0890\n",
            "Epoch [1/10], Step [2400/3079], Loss: 0.1460\n",
            "Epoch [1/10], Step [2500/3079], Loss: 0.0654\n",
            "Epoch [1/10], Step [2600/3079], Loss: 0.0457\n",
            "Epoch [1/10], Step [2700/3079], Loss: 0.2264\n",
            "Epoch [1/10], Step [2800/3079], Loss: 0.1800\n",
            "Epoch [1/10], Step [2900/3079], Loss: 0.1384\n",
            "Epoch [1/10], Step [3000/3079], Loss: 0.2841\n"
          ]
        },
        {
          "metadata": {
            "tags": null
          },
          "name": "stderr",
          "output_type": "stream",
          "text": [
            "2023-12-08 23:53:59,880 - root - INFO - Accuracy: 95.10%\n",
            "2023-12-08 23:53:59,881 - root - INFO - Precision: 0.9505\n",
            "2023-12-08 23:53:59,883 - root - INFO - Recall: 0.9510\n",
            "2023-12-08 23:53:59,884 - root - INFO - F1 Score: 0.9444\n"
          ]
        },
        {
          "metadata": {
            "tags": null
          },
          "name": "stdout",
          "output_type": "stream",
          "text": [
            "Epoch [2/10], Step [100/3079], Loss: 0.1246\n",
            "Epoch [2/10], Step [200/3079], Loss: 0.0409\n",
            "Epoch [2/10], Step [300/3079], Loss: 0.0416\n",
            "Epoch [2/10], Step [400/3079], Loss: 0.1677\n",
            "Epoch [2/10], Step [500/3079], Loss: 0.0467\n",
            "Epoch [2/10], Step [600/3079], Loss: 0.0818\n",
            "Epoch [2/10], Step [700/3079], Loss: 0.2998\n",
            "Epoch [2/10], Step [800/3079], Loss: 0.0979\n",
            "Epoch [2/10], Step [900/3079], Loss: 0.1163\n",
            "Epoch [2/10], Step [1000/3079], Loss: 0.1862\n",
            "Epoch [2/10], Step [1100/3079], Loss: 0.0473\n",
            "Epoch [2/10], Step [1200/3079], Loss: 0.2720\n",
            "Epoch [2/10], Step [1300/3079], Loss: 0.0447\n",
            "Epoch [2/10], Step [1400/3079], Loss: 0.4131\n",
            "Epoch [2/10], Step [1500/3079], Loss: 0.1562\n",
            "Epoch [2/10], Step [1600/3079], Loss: 0.1851\n",
            "Epoch [2/10], Step [1700/3079], Loss: 0.0895\n",
            "Epoch [2/10], Step [1800/3079], Loss: 0.0545\n",
            "Epoch [2/10], Step [1900/3079], Loss: 0.0166\n",
            "Epoch [2/10], Step [2000/3079], Loss: 0.2469\n",
            "Epoch [2/10], Step [2100/3079], Loss: 0.1517\n",
            "Epoch [2/10], Step [2200/3079], Loss: 0.1584\n",
            "Epoch [2/10], Step [2300/3079], Loss: 0.2592\n",
            "Epoch [2/10], Step [2400/3079], Loss: 0.1042\n",
            "Epoch [2/10], Step [2500/3079], Loss: 0.1157\n",
            "Epoch [2/10], Step [2600/3079], Loss: 0.0211\n",
            "Epoch [2/10], Step [2700/3079], Loss: 0.0190\n",
            "Epoch [2/10], Step [2800/3079], Loss: 0.0308\n",
            "Epoch [2/10], Step [2900/3079], Loss: 0.0339\n",
            "Epoch [2/10], Step [3000/3079], Loss: 0.0955\n"
          ]
        },
        {
          "metadata": {
            "tags": null
          },
          "name": "stderr",
          "output_type": "stream",
          "text": [
            "2023-12-08 23:54:11,665 - root - INFO - Accuracy: 96.34%\n",
            "2023-12-08 23:54:11,666 - root - INFO - Precision: 0.9619\n",
            "2023-12-08 23:54:11,666 - root - INFO - Recall: 0.9634\n",
            "2023-12-08 23:54:11,667 - root - INFO - F1 Score: 0.9617\n"
          ]
        },
        {
          "metadata": {
            "tags": null
          },
          "name": "stdout",
          "output_type": "stream",
          "text": [
            "Epoch [3/10], Step [100/3079], Loss: 0.1897\n",
            "Epoch [3/10], Step [200/3079], Loss: 0.0864\n",
            "Epoch [3/10], Step [300/3079], Loss: 0.0917\n",
            "Epoch [3/10], Step [400/3079], Loss: 0.1509\n",
            "Epoch [3/10], Step [500/3079], Loss: 0.0886\n",
            "Epoch [3/10], Step [600/3079], Loss: 0.0453\n",
            "Epoch [3/10], Step [700/3079], Loss: 0.0454\n",
            "Epoch [3/10], Step [800/3079], Loss: 0.0432\n",
            "Epoch [3/10], Step [900/3079], Loss: 0.0156\n",
            "Epoch [3/10], Step [1000/3079], Loss: 0.0808\n",
            "Epoch [3/10], Step [1100/3079], Loss: 0.1227\n",
            "Epoch [3/10], Step [1200/3079], Loss: 0.0470\n",
            "Epoch [3/10], Step [1300/3079], Loss: 0.3317\n",
            "Epoch [3/10], Step [1400/3079], Loss: 0.1527\n",
            "Epoch [3/10], Step [1500/3079], Loss: 0.1629\n",
            "Epoch [3/10], Step [1600/3079], Loss: 0.2591\n",
            "Epoch [3/10], Step [1700/3079], Loss: 0.2230\n",
            "Epoch [3/10], Step [1800/3079], Loss: 0.0247\n",
            "Epoch [3/10], Step [1900/3079], Loss: 0.1460\n",
            "Epoch [3/10], Step [2000/3079], Loss: 0.0434\n",
            "Epoch [3/10], Step [2100/3079], Loss: 0.0635\n",
            "Epoch [3/10], Step [2200/3079], Loss: 0.0293\n",
            "Epoch [3/10], Step [2300/3079], Loss: 0.1114\n",
            "Epoch [3/10], Step [2400/3079], Loss: 0.0350\n",
            "Epoch [3/10], Step [2500/3079], Loss: 0.1453\n",
            "Epoch [3/10], Step [2600/3079], Loss: 0.0973\n",
            "Epoch [3/10], Step [2700/3079], Loss: 0.0594\n",
            "Epoch [3/10], Step [2800/3079], Loss: 0.0583\n",
            "Epoch [3/10], Step [2900/3079], Loss: 0.1498\n",
            "Epoch [3/10], Step [3000/3079], Loss: 0.0692\n"
          ]
        },
        {
          "metadata": {
            "tags": null
          },
          "name": "stderr",
          "output_type": "stream",
          "text": [
            "2023-12-08 23:54:23,251 - root - INFO - Accuracy: 96.43%\n",
            "2023-12-08 23:54:23,252 - root - INFO - Precision: 0.9662\n",
            "2023-12-08 23:54:23,253 - root - INFO - Recall: 0.9643\n",
            "2023-12-08 23:54:23,254 - root - INFO - F1 Score: 0.9650\n"
          ]
        },
        {
          "metadata": {
            "tags": null
          },
          "name": "stdout",
          "output_type": "stream",
          "text": [
            "Epoch [4/10], Step [100/3079], Loss: 0.0243\n",
            "Epoch [4/10], Step [200/3079], Loss: 0.0906\n",
            "Epoch [4/10], Step [300/3079], Loss: 0.1508\n",
            "Epoch [4/10], Step [400/3079], Loss: 0.1168\n",
            "Epoch [4/10], Step [500/3079], Loss: 0.3365\n",
            "Epoch [4/10], Step [600/3079], Loss: 0.1662\n",
            "Epoch [4/10], Step [700/3079], Loss: 0.0769\n",
            "Epoch [4/10], Step [800/3079], Loss: 0.0562\n",
            "Epoch [4/10], Step [900/3079], Loss: 0.0308\n",
            "Epoch [4/10], Step [1000/3079], Loss: 0.0684\n",
            "Epoch [4/10], Step [1100/3079], Loss: 0.0269\n",
            "Epoch [4/10], Step [1200/3079], Loss: 0.2042\n",
            "Epoch [4/10], Step [1300/3079], Loss: 0.2039\n",
            "Epoch [4/10], Step [1400/3079], Loss: 0.0732\n",
            "Epoch [4/10], Step [1500/3079], Loss: 0.1486\n",
            "Epoch [4/10], Step [1600/3079], Loss: 0.0164\n",
            "Epoch [4/10], Step [1700/3079], Loss: 0.0248\n",
            "Epoch [4/10], Step [1800/3079], Loss: 0.1099\n",
            "Epoch [4/10], Step [1900/3079], Loss: 0.0416\n",
            "Epoch [4/10], Step [2000/3079], Loss: 0.0466\n",
            "Epoch [4/10], Step [2100/3079], Loss: 0.1433\n",
            "Epoch [4/10], Step [2200/3079], Loss: 0.1258\n",
            "Epoch [4/10], Step [2300/3079], Loss: 0.1383\n",
            "Epoch [4/10], Step [2400/3079], Loss: 0.0429\n",
            "Epoch [4/10], Step [2500/3079], Loss: 0.0389\n",
            "Epoch [4/10], Step [2600/3079], Loss: 0.0150\n",
            "Epoch [4/10], Step [2700/3079], Loss: 0.1839\n",
            "Epoch [4/10], Step [2800/3079], Loss: 0.0138\n",
            "Epoch [4/10], Step [2900/3079], Loss: 0.0135\n",
            "Epoch [4/10], Step [3000/3079], Loss: 0.4099\n"
          ]
        },
        {
          "metadata": {
            "tags": null
          },
          "name": "stderr",
          "output_type": "stream",
          "text": [
            "2023-12-08 23:54:34,619 - root - INFO - Accuracy: 97.39%\n",
            "2023-12-08 23:54:34,620 - root - INFO - Precision: 0.9731\n",
            "2023-12-08 23:54:34,620 - root - INFO - Recall: 0.9739\n",
            "2023-12-08 23:54:34,622 - root - INFO - F1 Score: 0.9725\n"
          ]
        },
        {
          "metadata": {
            "tags": null
          },
          "name": "stdout",
          "output_type": "stream",
          "text": [
            "Epoch [5/10], Step [100/3079], Loss: 0.2624\n",
            "Epoch [5/10], Step [200/3079], Loss: 0.3387\n",
            "Epoch [5/10], Step [300/3079], Loss: 0.0214\n",
            "Epoch [5/10], Step [400/3079], Loss: 0.0745\n",
            "Epoch [5/10], Step [500/3079], Loss: 0.0324\n",
            "Epoch [5/10], Step [600/3079], Loss: 0.1563\n",
            "Epoch [5/10], Step [700/3079], Loss: 0.3042\n",
            "Epoch [5/10], Step [800/3079], Loss: 0.0248\n",
            "Epoch [5/10], Step [900/3079], Loss: 0.0486\n",
            "Epoch [5/10], Step [1000/3079], Loss: 0.0450\n",
            "Epoch [5/10], Step [1100/3079], Loss: 0.0306\n",
            "Epoch [5/10], Step [1200/3079], Loss: 0.0174\n",
            "Epoch [5/10], Step [1300/3079], Loss: 0.0760\n",
            "Epoch [5/10], Step [1400/3079], Loss: 0.0606\n",
            "Epoch [5/10], Step [1500/3079], Loss: 0.0357\n",
            "Epoch [5/10], Step [1600/3079], Loss: 0.0123\n",
            "Epoch [5/10], Step [1700/3079], Loss: 0.1101\n",
            "Epoch [5/10], Step [1800/3079], Loss: 0.1236\n",
            "Epoch [5/10], Step [1900/3079], Loss: 0.0461\n",
            "Epoch [5/10], Step [2000/3079], Loss: 0.1849\n",
            "Epoch [5/10], Step [2100/3079], Loss: 0.0168\n",
            "Epoch [5/10], Step [2200/3079], Loss: 0.0581\n",
            "Epoch [5/10], Step [2300/3079], Loss: 0.1162\n",
            "Epoch [5/10], Step [2400/3079], Loss: 0.1453\n",
            "Epoch [5/10], Step [2500/3079], Loss: 0.2413\n",
            "Epoch [5/10], Step [2600/3079], Loss: 0.0635\n",
            "Epoch [5/10], Step [2700/3079], Loss: 0.0243\n",
            "Epoch [5/10], Step [2800/3079], Loss: 0.0574\n",
            "Epoch [5/10], Step [2900/3079], Loss: 0.1294\n",
            "Epoch [5/10], Step [3000/3079], Loss: 0.0632\n"
          ]
        },
        {
          "metadata": {
            "tags": null
          },
          "name": "stderr",
          "output_type": "stream",
          "text": [
            "2023-12-08 23:54:46,042 - root - INFO - Accuracy: 96.68%\n",
            "2023-12-08 23:54:46,043 - root - INFO - Precision: 0.9677\n",
            "2023-12-08 23:54:46,044 - root - INFO - Recall: 0.9668\n",
            "2023-12-08 23:54:46,044 - root - INFO - F1 Score: 0.9671\n"
          ]
        },
        {
          "metadata": {
            "tags": null
          },
          "name": "stdout",
          "output_type": "stream",
          "text": [
            "Epoch [6/10], Step [100/3079], Loss: 0.0833\n",
            "Epoch [6/10], Step [200/3079], Loss: 0.0472\n",
            "Epoch [6/10], Step [300/3079], Loss: 0.1428\n",
            "Epoch [6/10], Step [400/3079], Loss: 0.4964\n",
            "Epoch [6/10], Step [500/3079], Loss: 0.1286\n",
            "Epoch [6/10], Step [600/3079], Loss: 0.1210\n",
            "Epoch [6/10], Step [700/3079], Loss: 0.0219\n",
            "Epoch [6/10], Step [800/3079], Loss: 0.0183\n",
            "Epoch [6/10], Step [900/3079], Loss: 0.1394\n",
            "Epoch [6/10], Step [1000/3079], Loss: 0.0307\n",
            "Epoch [6/10], Step [1100/3079], Loss: 0.2340\n",
            "Epoch [6/10], Step [1200/3079], Loss: 0.1235\n",
            "Epoch [6/10], Step [1300/3079], Loss: 0.0377\n",
            "Epoch [6/10], Step [1400/3079], Loss: 0.0410\n",
            "Epoch [6/10], Step [1500/3079], Loss: 0.0583\n",
            "Epoch [6/10], Step [1600/3079], Loss: 0.0829\n",
            "Epoch [6/10], Step [1700/3079], Loss: 0.0345\n",
            "Epoch [6/10], Step [1800/3079], Loss: 0.0129\n",
            "Epoch [6/10], Step [1900/3079], Loss: 0.1995\n",
            "Epoch [6/10], Step [2000/3079], Loss: 0.1455\n",
            "Epoch [6/10], Step [2100/3079], Loss: 0.0526\n",
            "Epoch [6/10], Step [2200/3079], Loss: 0.1986\n",
            "Epoch [6/10], Step [2300/3079], Loss: 0.0237\n",
            "Epoch [6/10], Step [2400/3079], Loss: 0.3306\n",
            "Epoch [6/10], Step [2500/3079], Loss: 0.0176\n",
            "Epoch [6/10], Step [2600/3079], Loss: 0.0489\n",
            "Epoch [6/10], Step [2700/3079], Loss: 0.0290\n",
            "Epoch [6/10], Step [2800/3079], Loss: 0.0329\n",
            "Epoch [6/10], Step [2900/3079], Loss: 0.0250\n",
            "Epoch [6/10], Step [3000/3079], Loss: 0.0453\n"
          ]
        },
        {
          "metadata": {
            "tags": null
          },
          "name": "stderr",
          "output_type": "stream",
          "text": [
            "2023-12-08 23:54:57,542 - root - INFO - Accuracy: 97.72%\n",
            "2023-12-08 23:54:57,543 - root - INFO - Precision: 0.9765\n",
            "2023-12-08 23:54:57,544 - root - INFO - Recall: 0.9772\n",
            "2023-12-08 23:54:57,545 - root - INFO - F1 Score: 0.9762\n"
          ]
        },
        {
          "metadata": {
            "tags": null
          },
          "name": "stdout",
          "output_type": "stream",
          "text": [
            "Epoch [7/10], Step [100/3079], Loss: 0.0693\n",
            "Epoch [7/10], Step [200/3079], Loss: 0.0204\n",
            "Epoch [7/10], Step [300/3079], Loss: 0.0625\n",
            "Epoch [7/10], Step [400/3079], Loss: 0.1537\n",
            "Epoch [7/10], Step [500/3079], Loss: 0.3310\n",
            "Epoch [7/10], Step [600/3079], Loss: 0.0186\n",
            "Epoch [7/10], Step [700/3079], Loss: 0.0261\n",
            "Epoch [7/10], Step [800/3079], Loss: 0.0391\n",
            "Epoch [7/10], Step [900/3079], Loss: 0.0671\n",
            "Epoch [7/10], Step [1000/3079], Loss: 0.1230\n",
            "Epoch [7/10], Step [1100/3079], Loss: 0.0120\n",
            "Epoch [7/10], Step [1200/3079], Loss: 0.1924\n",
            "Epoch [7/10], Step [1300/3079], Loss: 0.0386\n",
            "Epoch [7/10], Step [1400/3079], Loss: 0.0857\n",
            "Epoch [7/10], Step [1500/3079], Loss: 0.1133\n",
            "Epoch [7/10], Step [1600/3079], Loss: 0.0042\n",
            "Epoch [7/10], Step [1700/3079], Loss: 0.0375\n",
            "Epoch [7/10], Step [1800/3079], Loss: 0.0109\n",
            "Epoch [7/10], Step [1900/3079], Loss: 0.0939\n",
            "Epoch [7/10], Step [2000/3079], Loss: 0.0286\n",
            "Epoch [7/10], Step [2100/3079], Loss: 0.1567\n",
            "Epoch [7/10], Step [2200/3079], Loss: 0.0314\n",
            "Epoch [7/10], Step [2300/3079], Loss: 0.1588\n",
            "Epoch [7/10], Step [2400/3079], Loss: 0.0190\n",
            "Epoch [7/10], Step [2500/3079], Loss: 0.0060\n",
            "Epoch [7/10], Step [2600/3079], Loss: 0.0544\n",
            "Epoch [7/10], Step [2700/3079], Loss: 0.0102\n",
            "Epoch [7/10], Step [2800/3079], Loss: 0.0239\n",
            "Epoch [7/10], Step [2900/3079], Loss: 0.0193\n",
            "Epoch [7/10], Step [3000/3079], Loss: 0.0300\n"
          ]
        },
        {
          "metadata": {
            "tags": null
          },
          "name": "stderr",
          "output_type": "stream",
          "text": [
            "2023-12-08 23:55:09,080 - root - INFO - Accuracy: 97.62%\n",
            "2023-12-08 23:55:09,081 - root - INFO - Precision: 0.9755\n",
            "2023-12-08 23:55:09,082 - root - INFO - Recall: 0.9762\n",
            "2023-12-08 23:55:09,083 - root - INFO - F1 Score: 0.9751\n"
          ]
        },
        {
          "metadata": {
            "tags": null
          },
          "name": "stdout",
          "output_type": "stream",
          "text": [
            "Epoch [8/10], Step [100/3079], Loss: 0.0239\n",
            "Epoch [8/10], Step [200/3079], Loss: 0.0125\n",
            "Epoch [8/10], Step [300/3079], Loss: 0.4393\n",
            "Epoch [8/10], Step [400/3079], Loss: 0.0216\n",
            "Epoch [8/10], Step [500/3079], Loss: 0.0235\n",
            "Epoch [8/10], Step [600/3079], Loss: 0.0395\n",
            "Epoch [8/10], Step [700/3079], Loss: 0.0131\n",
            "Epoch [8/10], Step [800/3079], Loss: 0.0259\n",
            "Epoch [8/10], Step [900/3079], Loss: 0.0496\n",
            "Epoch [8/10], Step [1000/3079], Loss: 0.0289\n",
            "Epoch [8/10], Step [1100/3079], Loss: 0.0165\n",
            "Epoch [8/10], Step [1200/3079], Loss: 0.0230\n",
            "Epoch [8/10], Step [1300/3079], Loss: 0.1036\n",
            "Epoch [8/10], Step [1400/3079], Loss: 0.0205\n",
            "Epoch [8/10], Step [1500/3079], Loss: 0.0114\n",
            "Epoch [8/10], Step [1600/3079], Loss: 0.2390\n",
            "Epoch [8/10], Step [1700/3079], Loss: 0.1636\n",
            "Epoch [8/10], Step [1800/3079], Loss: 0.0176\n",
            "Epoch [8/10], Step [1900/3079], Loss: 0.0236\n",
            "Epoch [8/10], Step [2000/3079], Loss: 0.1179\n",
            "Epoch [8/10], Step [2100/3079], Loss: 0.0635\n",
            "Epoch [8/10], Step [2200/3079], Loss: 0.0681\n",
            "Epoch [8/10], Step [2300/3079], Loss: 0.0173\n",
            "Epoch [8/10], Step [2400/3079], Loss: 0.1324\n",
            "Epoch [8/10], Step [2500/3079], Loss: 0.0184\n",
            "Epoch [8/10], Step [2600/3079], Loss: 0.0246\n",
            "Epoch [8/10], Step [2700/3079], Loss: 0.1252\n",
            "Epoch [8/10], Step [2800/3079], Loss: 0.1372\n",
            "Epoch [8/10], Step [2900/3079], Loss: 0.1672\n",
            "Epoch [8/10], Step [3000/3079], Loss: 0.0583\n"
          ]
        },
        {
          "metadata": {
            "tags": null
          },
          "name": "stderr",
          "output_type": "stream",
          "text": [
            "2023-12-08 23:55:20,720 - root - INFO - Accuracy: 97.40%\n",
            "2023-12-08 23:55:20,721 - root - INFO - Precision: 0.9742\n",
            "2023-12-08 23:55:20,722 - root - INFO - Recall: 0.9740\n",
            "2023-12-08 23:55:20,722 - root - INFO - F1 Score: 0.9725\n"
          ]
        },
        {
          "metadata": {
            "tags": null
          },
          "name": "stdout",
          "output_type": "stream",
          "text": [
            "Epoch [9/10], Step [100/3079], Loss: 0.0180\n",
            "Epoch [9/10], Step [200/3079], Loss: 0.0571\n",
            "Epoch [9/10], Step [300/3079], Loss: 0.0232\n",
            "Epoch [9/10], Step [400/3079], Loss: 0.0126\n",
            "Epoch [9/10], Step [500/3079], Loss: 0.1702\n",
            "Epoch [9/10], Step [600/3079], Loss: 0.0879\n",
            "Epoch [9/10], Step [700/3079], Loss: 0.0121\n",
            "Epoch [9/10], Step [800/3079], Loss: 0.2213\n",
            "Epoch [9/10], Step [900/3079], Loss: 0.0797\n",
            "Epoch [9/10], Step [1000/3079], Loss: 0.0542\n",
            "Epoch [9/10], Step [1100/3079], Loss: 0.0137\n",
            "Epoch [9/10], Step [1200/3079], Loss: 0.0212\n",
            "Epoch [9/10], Step [1300/3079], Loss: 0.1406\n",
            "Epoch [9/10], Step [1400/3079], Loss: 0.3465\n",
            "Epoch [9/10], Step [1500/3079], Loss: 0.0210\n",
            "Epoch [9/10], Step [1600/3079], Loss: 0.0224\n",
            "Epoch [9/10], Step [1700/3079], Loss: 0.0504\n",
            "Epoch [9/10], Step [1800/3079], Loss: 0.2410\n",
            "Epoch [9/10], Step [1900/3079], Loss: 0.0791\n",
            "Epoch [9/10], Step [2000/3079], Loss: 0.0418\n",
            "Epoch [9/10], Step [2100/3079], Loss: 0.0654\n",
            "Epoch [9/10], Step [2200/3079], Loss: 0.0987\n",
            "Epoch [9/10], Step [2300/3079], Loss: 0.0173\n",
            "Epoch [9/10], Step [2400/3079], Loss: 0.0385\n",
            "Epoch [9/10], Step [2500/3079], Loss: 0.0292\n",
            "Epoch [9/10], Step [2600/3079], Loss: 0.0678\n",
            "Epoch [9/10], Step [2700/3079], Loss: 0.0628\n",
            "Epoch [9/10], Step [2800/3079], Loss: 0.3121\n",
            "Epoch [9/10], Step [2900/3079], Loss: 0.0118\n",
            "Epoch [9/10], Step [3000/3079], Loss: 0.0447\n"
          ]
        },
        {
          "metadata": {
            "tags": null
          },
          "name": "stderr",
          "output_type": "stream",
          "text": [
            "2023-12-08 23:55:32,093 - root - INFO - Accuracy: 97.83%\n",
            "2023-12-08 23:55:32,095 - root - INFO - Precision: 0.9776\n",
            "2023-12-08 23:55:32,095 - root - INFO - Recall: 0.9783\n",
            "2023-12-08 23:55:32,096 - root - INFO - F1 Score: 0.9774\n"
          ]
        },
        {
          "metadata": {
            "tags": null
          },
          "name": "stdout",
          "output_type": "stream",
          "text": [
            "Epoch [10/10], Step [100/3079], Loss: 0.1274\n",
            "Epoch [10/10], Step [200/3079], Loss: 0.0715\n",
            "Epoch [10/10], Step [300/3079], Loss: 0.0600\n",
            "Epoch [10/10], Step [400/3079], Loss: 0.0264\n",
            "Epoch [10/10], Step [500/3079], Loss: 0.1211\n",
            "Epoch [10/10], Step [600/3079], Loss: 0.0142\n",
            "Epoch [10/10], Step [700/3079], Loss: 0.0585\n",
            "Epoch [10/10], Step [800/3079], Loss: 0.0135\n",
            "Epoch [10/10], Step [900/3079], Loss: 0.0368\n",
            "Epoch [10/10], Step [1000/3079], Loss: 0.0086\n",
            "Epoch [10/10], Step [1100/3079], Loss: 0.0102\n",
            "Epoch [10/10], Step [1200/3079], Loss: 0.0229\n",
            "Epoch [10/10], Step [1300/3079], Loss: 0.2163\n",
            "Epoch [10/10], Step [1400/3079], Loss: 0.0671\n",
            "Epoch [10/10], Step [1500/3079], Loss: 0.0159\n",
            "Epoch [10/10], Step [1600/3079], Loss: 0.0124\n",
            "Epoch [10/10], Step [1700/3079], Loss: 0.1690\n",
            "Epoch [10/10], Step [1800/3079], Loss: 0.0088\n",
            "Epoch [10/10], Step [1900/3079], Loss: 0.0988\n",
            "Epoch [10/10], Step [2000/3079], Loss: 0.2695\n",
            "Epoch [10/10], Step [2100/3079], Loss: 0.0094\n",
            "Epoch [10/10], Step [2200/3079], Loss: 0.0841\n",
            "Epoch [10/10], Step [2300/3079], Loss: 0.0549\n",
            "Epoch [10/10], Step [2400/3079], Loss: 0.0288\n",
            "Epoch [10/10], Step [2500/3079], Loss: 0.0624\n",
            "Epoch [10/10], Step [2600/3079], Loss: 0.0242\n",
            "Epoch [10/10], Step [2700/3079], Loss: 0.1497\n",
            "Epoch [10/10], Step [2800/3079], Loss: 0.0281\n",
            "Epoch [10/10], Step [2900/3079], Loss: 0.0762\n",
            "Epoch [10/10], Step [3000/3079], Loss: 0.1065\n"
          ]
        },
        {
          "metadata": {
            "tags": null
          },
          "name": "stderr",
          "output_type": "stream",
          "text": [
            "2023-12-08 23:55:43,648 - root - INFO - Accuracy: 97.62%\n",
            "2023-12-08 23:55:43,649 - root - INFO - Precision: 0.9760\n",
            "2023-12-08 23:55:43,650 - root - INFO - Recall: 0.9762\n",
            "2023-12-08 23:55:43,650 - root - INFO - F1 Score: 0.9759\n"
          ]
        },
        {
          "metadata": {
            "tags": null
          },
          "name": "stdout",
          "output_type": "stream",
          "text": [
            "FOLD 7\n",
            "--------------------------------\n",
            "OSCNN(\n",
            "  (conv1): Conv1d(1, 128, kernel_size=(8,), stride=(1,), padding=same)\n",
            "  (bn1): BatchNorm1d(128, eps=1e-05, momentum=0.1, affine=True, track_running_stats=True)\n",
            "  (conv2): Conv1d(128, 256, kernel_size=(5,), stride=(1,), padding=same)\n",
            "  (bn2): BatchNorm1d(256, eps=1e-05, momentum=0.1, affine=True, track_running_stats=True)\n",
            "  (conv3): Conv1d(256, 128, kernel_size=(3,), stride=(1,), padding=same)\n",
            "  (bn3): BatchNorm1d(128, eps=1e-05, momentum=0.1, affine=True, track_running_stats=True)\n",
            "  (avg_pool): AdaptiveAvgPool1d(output_size=1)\n",
            "  (fc): Linear(in_features=128, out_features=5, bias=True)\n",
            ")\n",
            "Epoch [1/10], Step [100/3079], Loss: 0.4286\n",
            "Epoch [1/10], Step [200/3079], Loss: 0.3673\n",
            "Epoch [1/10], Step [300/3079], Loss: 0.4092\n",
            "Epoch [1/10], Step [400/3079], Loss: 0.2182\n",
            "Epoch [1/10], Step [500/3079], Loss: 0.3898\n",
            "Epoch [1/10], Step [600/3079], Loss: 0.1853\n",
            "Epoch [1/10], Step [700/3079], Loss: 0.2563\n",
            "Epoch [1/10], Step [800/3079], Loss: 0.2825\n",
            "Epoch [1/10], Step [900/3079], Loss: 0.3898\n",
            "Epoch [1/10], Step [1000/3079], Loss: 0.2368\n",
            "Epoch [1/10], Step [1100/3079], Loss: 0.4591\n",
            "Epoch [1/10], Step [1200/3079], Loss: 0.2569\n",
            "Epoch [1/10], Step [1300/3079], Loss: 0.2603\n",
            "Epoch [1/10], Step [1400/3079], Loss: 0.3157\n",
            "Epoch [1/10], Step [1500/3079], Loss: 0.1401\n",
            "Epoch [1/10], Step [1600/3079], Loss: 0.0916\n",
            "Epoch [1/10], Step [1700/3079], Loss: 0.2132\n",
            "Epoch [1/10], Step [1800/3079], Loss: 0.1989\n",
            "Epoch [1/10], Step [1900/3079], Loss: 0.0770\n",
            "Epoch [1/10], Step [2000/3079], Loss: 0.2077\n",
            "Epoch [1/10], Step [2100/3079], Loss: 0.1428\n",
            "Epoch [1/10], Step [2200/3079], Loss: 0.3070\n",
            "Epoch [1/10], Step [2300/3079], Loss: 0.0676\n",
            "Epoch [1/10], Step [2400/3079], Loss: 0.2269\n",
            "Epoch [1/10], Step [2500/3079], Loss: 0.1929\n",
            "Epoch [1/10], Step [2600/3079], Loss: 0.1554\n",
            "Epoch [1/10], Step [2700/3079], Loss: 0.2296\n",
            "Epoch [1/10], Step [2800/3079], Loss: 0.3011\n",
            "Epoch [1/10], Step [2900/3079], Loss: 0.1162\n",
            "Epoch [1/10], Step [3000/3079], Loss: 0.1229\n"
          ]
        },
        {
          "metadata": {
            "tags": null
          },
          "name": "stderr",
          "output_type": "stream",
          "text": [
            "/usr/local/lib/python3.10/dist-packages/sklearn/metrics/_classification.py:1344: UndefinedMetricWarning: Precision is ill-defined and being set to 0.0 in labels with no predicted samples. Use `zero_division` parameter to control this behavior.\n",
            "  _warn_prf(average, modifier, msg_start, len(result))\n",
            "2023-12-08 23:55:55,215 - root - INFO - Accuracy: 95.40%\n",
            "2023-12-08 23:55:55,216 - root - INFO - Precision: 0.9451\n",
            "2023-12-08 23:55:55,217 - root - INFO - Recall: 0.9540\n",
            "2023-12-08 23:55:55,218 - root - INFO - F1 Score: 0.9490\n"
          ]
        },
        {
          "metadata": {
            "tags": null
          },
          "name": "stdout",
          "output_type": "stream",
          "text": [
            "Epoch [2/10], Step [100/3079], Loss: 0.3227\n",
            "Epoch [2/10], Step [200/3079], Loss: 0.1986\n",
            "Epoch [2/10], Step [300/3079], Loss: 0.0474\n",
            "Epoch [2/10], Step [400/3079], Loss: 0.2456\n",
            "Epoch [2/10], Step [500/3079], Loss: 0.1976\n",
            "Epoch [2/10], Step [600/3079], Loss: 0.2757\n",
            "Epoch [2/10], Step [700/3079], Loss: 0.2986\n",
            "Epoch [2/10], Step [800/3079], Loss: 0.1414\n",
            "Epoch [2/10], Step [900/3079], Loss: 0.1592\n",
            "Epoch [2/10], Step [1000/3079], Loss: 0.0714\n",
            "Epoch [2/10], Step [1100/3079], Loss: 0.1212\n",
            "Epoch [2/10], Step [1200/3079], Loss: 0.1520\n",
            "Epoch [2/10], Step [1300/3079], Loss: 0.0498\n",
            "Epoch [2/10], Step [1400/3079], Loss: 0.1175\n",
            "Epoch [2/10], Step [1500/3079], Loss: 0.0573\n",
            "Epoch [2/10], Step [1600/3079], Loss: 0.1404\n",
            "Epoch [2/10], Step [1700/3079], Loss: 0.2681\n",
            "Epoch [2/10], Step [1800/3079], Loss: 0.0522\n",
            "Epoch [2/10], Step [1900/3079], Loss: 0.1213\n",
            "Epoch [2/10], Step [2000/3079], Loss: 0.0636\n",
            "Epoch [2/10], Step [2100/3079], Loss: 0.1508\n",
            "Epoch [2/10], Step [2200/3079], Loss: 0.0686\n",
            "Epoch [2/10], Step [2300/3079], Loss: 0.1645\n",
            "Epoch [2/10], Step [2400/3079], Loss: 0.1561\n",
            "Epoch [2/10], Step [2500/3079], Loss: 0.1415\n",
            "Epoch [2/10], Step [2600/3079], Loss: 0.0440\n",
            "Epoch [2/10], Step [2700/3079], Loss: 0.1039\n",
            "Epoch [2/10], Step [2800/3079], Loss: 0.0479\n",
            "Epoch [2/10], Step [2900/3079], Loss: 0.0691\n",
            "Epoch [2/10], Step [3000/3079], Loss: 0.1858\n"
          ]
        },
        {
          "metadata": {
            "tags": null
          },
          "name": "stderr",
          "output_type": "stream",
          "text": [
            "2023-12-08 23:56:06,799 - root - INFO - Accuracy: 95.64%\n",
            "2023-12-08 23:56:06,801 - root - INFO - Precision: 0.9591\n",
            "2023-12-08 23:56:06,801 - root - INFO - Recall: 0.9564\n",
            "2023-12-08 23:56:06,802 - root - INFO - F1 Score: 0.9547\n"
          ]
        },
        {
          "metadata": {
            "tags": null
          },
          "name": "stdout",
          "output_type": "stream",
          "text": [
            "Epoch [3/10], Step [100/3079], Loss: 0.0174\n",
            "Epoch [3/10], Step [200/3079], Loss: 0.0256\n",
            "Epoch [3/10], Step [300/3079], Loss: 0.2599\n",
            "Epoch [3/10], Step [400/3079], Loss: 0.3627\n",
            "Epoch [3/10], Step [500/3079], Loss: 0.1570\n",
            "Epoch [3/10], Step [600/3079], Loss: 0.2620\n",
            "Epoch [3/10], Step [700/3079], Loss: 0.1697\n",
            "Epoch [3/10], Step [800/3079], Loss: 0.0519\n",
            "Epoch [3/10], Step [900/3079], Loss: 0.0784\n",
            "Epoch [3/10], Step [1000/3079], Loss: 0.2174\n",
            "Epoch [3/10], Step [1100/3079], Loss: 0.2599\n",
            "Epoch [3/10], Step [1200/3079], Loss: 0.2623\n",
            "Epoch [3/10], Step [1300/3079], Loss: 0.2551\n",
            "Epoch [3/10], Step [1400/3079], Loss: 0.0311\n",
            "Epoch [3/10], Step [1500/3079], Loss: 0.1816\n",
            "Epoch [3/10], Step [1600/3079], Loss: 0.0461\n",
            "Epoch [3/10], Step [1700/3079], Loss: 0.0328\n",
            "Epoch [3/10], Step [1800/3079], Loss: 0.1148\n",
            "Epoch [3/10], Step [1900/3079], Loss: 0.2007\n",
            "Epoch [3/10], Step [2000/3079], Loss: 0.0482\n",
            "Epoch [3/10], Step [2100/3079], Loss: 0.1187\n",
            "Epoch [3/10], Step [2200/3079], Loss: 0.2240\n",
            "Epoch [3/10], Step [2300/3079], Loss: 0.1797\n",
            "Epoch [3/10], Step [2400/3079], Loss: 0.2594\n",
            "Epoch [3/10], Step [2500/3079], Loss: 0.0494\n",
            "Epoch [3/10], Step [2600/3079], Loss: 0.2685\n",
            "Epoch [3/10], Step [2700/3079], Loss: 0.2495\n",
            "Epoch [3/10], Step [2800/3079], Loss: 0.1177\n",
            "Epoch [3/10], Step [2900/3079], Loss: 0.4009\n",
            "Epoch [3/10], Step [3000/3079], Loss: 0.0269\n"
          ]
        },
        {
          "metadata": {
            "tags": null
          },
          "name": "stderr",
          "output_type": "stream",
          "text": [
            "2023-12-08 23:56:18,200 - root - INFO - Accuracy: 96.95%\n",
            "2023-12-08 23:56:18,201 - root - INFO - Precision: 0.9682\n",
            "2023-12-08 23:56:18,202 - root - INFO - Recall: 0.9695\n",
            "2023-12-08 23:56:18,205 - root - INFO - F1 Score: 0.9679\n"
          ]
        },
        {
          "metadata": {
            "tags": null
          },
          "name": "stdout",
          "output_type": "stream",
          "text": [
            "Epoch [4/10], Step [100/3079], Loss: 0.2442\n",
            "Epoch [4/10], Step [200/3079], Loss: 0.0584\n",
            "Epoch [4/10], Step [300/3079], Loss: 0.0208\n",
            "Epoch [4/10], Step [400/3079], Loss: 0.3851\n",
            "Epoch [4/10], Step [500/3079], Loss: 0.0496\n",
            "Epoch [4/10], Step [600/3079], Loss: 0.1118\n",
            "Epoch [4/10], Step [700/3079], Loss: 0.0351\n",
            "Epoch [4/10], Step [800/3079], Loss: 0.1033\n",
            "Epoch [4/10], Step [900/3079], Loss: 0.0674\n",
            "Epoch [4/10], Step [1000/3079], Loss: 0.1924\n",
            "Epoch [4/10], Step [1100/3079], Loss: 0.0259\n",
            "Epoch [4/10], Step [1200/3079], Loss: 0.1337\n",
            "Epoch [4/10], Step [1300/3079], Loss: 0.1534\n",
            "Epoch [4/10], Step [1400/3079], Loss: 0.2540\n",
            "Epoch [4/10], Step [1500/3079], Loss: 0.0690\n",
            "Epoch [4/10], Step [1600/3079], Loss: 0.1032\n",
            "Epoch [4/10], Step [1700/3079], Loss: 0.0229\n",
            "Epoch [4/10], Step [1800/3079], Loss: 0.0936\n",
            "Epoch [4/10], Step [1900/3079], Loss: 0.0449\n",
            "Epoch [4/10], Step [2000/3079], Loss: 0.0273\n",
            "Epoch [4/10], Step [2100/3079], Loss: 0.0453\n",
            "Epoch [4/10], Step [2200/3079], Loss: 0.2295\n",
            "Epoch [4/10], Step [2300/3079], Loss: 0.0278\n",
            "Epoch [4/10], Step [2400/3079], Loss: 0.0193\n",
            "Epoch [4/10], Step [2500/3079], Loss: 0.2467\n",
            "Epoch [4/10], Step [2600/3079], Loss: 0.0195\n",
            "Epoch [4/10], Step [2700/3079], Loss: 0.1069\n",
            "Epoch [4/10], Step [2800/3079], Loss: 0.0141\n",
            "Epoch [4/10], Step [2900/3079], Loss: 0.0706\n",
            "Epoch [4/10], Step [3000/3079], Loss: 0.1733\n"
          ]
        },
        {
          "metadata": {
            "tags": null
          },
          "name": "stderr",
          "output_type": "stream",
          "text": [
            "2023-12-08 23:56:29,718 - root - INFO - Accuracy: 96.99%\n",
            "2023-12-08 23:56:29,720 - root - INFO - Precision: 0.9690\n",
            "2023-12-08 23:56:29,721 - root - INFO - Recall: 0.9699\n",
            "2023-12-08 23:56:29,721 - root - INFO - F1 Score: 0.9682\n"
          ]
        },
        {
          "metadata": {
            "tags": null
          },
          "name": "stdout",
          "output_type": "stream",
          "text": [
            "Epoch [5/10], Step [100/3079], Loss: 0.0288\n",
            "Epoch [5/10], Step [200/3079], Loss: 0.0254\n",
            "Epoch [5/10], Step [300/3079], Loss: 0.1749\n",
            "Epoch [5/10], Step [400/3079], Loss: 0.1112\n",
            "Epoch [5/10], Step [500/3079], Loss: 0.0614\n",
            "Epoch [5/10], Step [600/3079], Loss: 0.0426\n",
            "Epoch [5/10], Step [700/3079], Loss: 0.0341\n",
            "Epoch [5/10], Step [800/3079], Loss: 0.0188\n",
            "Epoch [5/10], Step [900/3079], Loss: 0.2766\n",
            "Epoch [5/10], Step [1000/3079], Loss: 0.1791\n",
            "Epoch [5/10], Step [1100/3079], Loss: 0.0328\n",
            "Epoch [5/10], Step [1200/3079], Loss: 0.0347\n",
            "Epoch [5/10], Step [1300/3079], Loss: 0.1274\n",
            "Epoch [5/10], Step [1400/3079], Loss: 0.0594\n",
            "Epoch [5/10], Step [1500/3079], Loss: 0.1918\n",
            "Epoch [5/10], Step [1600/3079], Loss: 0.0201\n",
            "Epoch [5/10], Step [1700/3079], Loss: 0.1253\n",
            "Epoch [5/10], Step [1800/3079], Loss: 0.0606\n",
            "Epoch [5/10], Step [1900/3079], Loss: 0.0833\n",
            "Epoch [5/10], Step [2000/3079], Loss: 0.2547\n",
            "Epoch [5/10], Step [2100/3079], Loss: 0.0339\n",
            "Epoch [5/10], Step [2200/3079], Loss: 0.0162\n",
            "Epoch [5/10], Step [2300/3079], Loss: 0.0520\n",
            "Epoch [5/10], Step [2400/3079], Loss: 0.0355\n",
            "Epoch [5/10], Step [2500/3079], Loss: 0.0490\n",
            "Epoch [5/10], Step [2600/3079], Loss: 0.0516\n",
            "Epoch [5/10], Step [2700/3079], Loss: 0.1018\n",
            "Epoch [5/10], Step [2800/3079], Loss: 0.1948\n",
            "Epoch [5/10], Step [2900/3079], Loss: 0.0768\n",
            "Epoch [5/10], Step [3000/3079], Loss: 0.1528\n"
          ]
        },
        {
          "metadata": {
            "tags": null
          },
          "name": "stderr",
          "output_type": "stream",
          "text": [
            "2023-12-08 23:56:41,241 - root - INFO - Accuracy: 96.69%\n",
            "2023-12-08 23:56:41,242 - root - INFO - Precision: 0.9684\n",
            "2023-12-08 23:56:41,243 - root - INFO - Recall: 0.9669\n",
            "2023-12-08 23:56:41,243 - root - INFO - F1 Score: 0.9669\n"
          ]
        },
        {
          "metadata": {
            "tags": null
          },
          "name": "stdout",
          "output_type": "stream",
          "text": [
            "Epoch [6/10], Step [100/3079], Loss: 0.2237\n",
            "Epoch [6/10], Step [200/3079], Loss: 0.2077\n",
            "Epoch [6/10], Step [300/3079], Loss: 0.1266\n",
            "Epoch [6/10], Step [400/3079], Loss: 0.0321\n",
            "Epoch [6/10], Step [500/3079], Loss: 0.0782\n",
            "Epoch [6/10], Step [600/3079], Loss: 0.1442\n",
            "Epoch [6/10], Step [700/3079], Loss: 0.0978\n",
            "Epoch [6/10], Step [800/3079], Loss: 0.1170\n",
            "Epoch [6/10], Step [900/3079], Loss: 0.0125\n",
            "Epoch [6/10], Step [1000/3079], Loss: 0.0201\n",
            "Epoch [6/10], Step [1100/3079], Loss: 0.0219\n",
            "Epoch [6/10], Step [1200/3079], Loss: 0.0213\n",
            "Epoch [6/10], Step [1300/3079], Loss: 0.1830\n",
            "Epoch [6/10], Step [1400/3079], Loss: 0.2237\n",
            "Epoch [6/10], Step [1500/3079], Loss: 0.0787\n",
            "Epoch [6/10], Step [1600/3079], Loss: 0.0259\n",
            "Epoch [6/10], Step [1700/3079], Loss: 0.0930\n",
            "Epoch [6/10], Step [1800/3079], Loss: 0.1380\n",
            "Epoch [6/10], Step [1900/3079], Loss: 0.2212\n",
            "Epoch [6/10], Step [2000/3079], Loss: 0.0516\n",
            "Epoch [6/10], Step [2100/3079], Loss: 0.0415\n",
            "Epoch [6/10], Step [2200/3079], Loss: 0.1194\n",
            "Epoch [6/10], Step [2300/3079], Loss: 0.0232\n",
            "Epoch [6/10], Step [2400/3079], Loss: 0.0442\n",
            "Epoch [6/10], Step [2500/3079], Loss: 0.0139\n",
            "Epoch [6/10], Step [2600/3079], Loss: 0.0273\n",
            "Epoch [6/10], Step [2700/3079], Loss: 0.0814\n",
            "Epoch [6/10], Step [2800/3079], Loss: 0.1444\n",
            "Epoch [6/10], Step [2900/3079], Loss: 0.4327\n",
            "Epoch [6/10], Step [3000/3079], Loss: 0.2518\n"
          ]
        },
        {
          "metadata": {
            "tags": null
          },
          "name": "stderr",
          "output_type": "stream",
          "text": [
            "2023-12-08 23:56:52,730 - root - INFO - Accuracy: 96.72%\n",
            "2023-12-08 23:56:52,731 - root - INFO - Precision: 0.9695\n",
            "2023-12-08 23:56:52,733 - root - INFO - Recall: 0.9672\n",
            "2023-12-08 23:56:52,734 - root - INFO - F1 Score: 0.9681\n"
          ]
        },
        {
          "metadata": {
            "tags": null
          },
          "name": "stdout",
          "output_type": "stream",
          "text": [
            "Epoch [7/10], Step [100/3079], Loss: 0.0093\n",
            "Epoch [7/10], Step [200/3079], Loss: 0.0517\n",
            "Epoch [7/10], Step [300/3079], Loss: 0.0454\n",
            "Epoch [7/10], Step [400/3079], Loss: 0.0366\n",
            "Epoch [7/10], Step [500/3079], Loss: 0.0148\n",
            "Epoch [7/10], Step [600/3079], Loss: 0.0382\n",
            "Epoch [7/10], Step [700/3079], Loss: 0.0235\n",
            "Epoch [7/10], Step [800/3079], Loss: 0.0411\n",
            "Epoch [7/10], Step [900/3079], Loss: 0.0205\n",
            "Epoch [7/10], Step [1000/3079], Loss: 0.0321\n",
            "Epoch [7/10], Step [1100/3079], Loss: 0.2334\n",
            "Epoch [7/10], Step [1200/3079], Loss: 0.1306\n",
            "Epoch [7/10], Step [1300/3079], Loss: 0.1530\n",
            "Epoch [7/10], Step [1400/3079], Loss: 0.1317\n",
            "Epoch [7/10], Step [1500/3079], Loss: 0.0173\n",
            "Epoch [7/10], Step [1600/3079], Loss: 0.1766\n",
            "Epoch [7/10], Step [1700/3079], Loss: 0.0584\n",
            "Epoch [7/10], Step [1800/3079], Loss: 0.0171\n",
            "Epoch [7/10], Step [1900/3079], Loss: 0.0171\n",
            "Epoch [7/10], Step [2000/3079], Loss: 0.0105\n",
            "Epoch [7/10], Step [2100/3079], Loss: 0.1249\n",
            "Epoch [7/10], Step [2200/3079], Loss: 0.2602\n",
            "Epoch [7/10], Step [2300/3079], Loss: 0.0144\n",
            "Epoch [7/10], Step [2400/3079], Loss: 0.0348\n",
            "Epoch [7/10], Step [2500/3079], Loss: 0.1286\n",
            "Epoch [7/10], Step [2600/3079], Loss: 0.0107\n",
            "Epoch [7/10], Step [2700/3079], Loss: 0.0199\n",
            "Epoch [7/10], Step [2800/3079], Loss: 0.0635\n",
            "Epoch [7/10], Step [2900/3079], Loss: 0.0335\n",
            "Epoch [7/10], Step [3000/3079], Loss: 0.1349\n"
          ]
        },
        {
          "metadata": {
            "tags": null
          },
          "name": "stderr",
          "output_type": "stream",
          "text": [
            "2023-12-08 23:57:04,248 - root - INFO - Accuracy: 97.48%\n",
            "2023-12-08 23:57:04,250 - root - INFO - Precision: 0.9746\n",
            "2023-12-08 23:57:04,251 - root - INFO - Recall: 0.9748\n",
            "2023-12-08 23:57:04,252 - root - INFO - F1 Score: 0.9731\n"
          ]
        },
        {
          "metadata": {
            "tags": null
          },
          "name": "stdout",
          "output_type": "stream",
          "text": [
            "Epoch [8/10], Step [100/3079], Loss: 0.0360\n",
            "Epoch [8/10], Step [200/3079], Loss: 0.0704\n",
            "Epoch [8/10], Step [300/3079], Loss: 0.2130\n",
            "Epoch [8/10], Step [400/3079], Loss: 0.0245\n",
            "Epoch [8/10], Step [500/3079], Loss: 0.0865\n",
            "Epoch [8/10], Step [600/3079], Loss: 0.0596\n",
            "Epoch [8/10], Step [700/3079], Loss: 0.2509\n",
            "Epoch [8/10], Step [800/3079], Loss: 0.1569\n",
            "Epoch [8/10], Step [900/3079], Loss: 0.0172\n",
            "Epoch [8/10], Step [1000/3079], Loss: 0.1539\n",
            "Epoch [8/10], Step [1100/3079], Loss: 0.0238\n",
            "Epoch [8/10], Step [1200/3079], Loss: 0.0286\n",
            "Epoch [8/10], Step [1300/3079], Loss: 0.0899\n",
            "Epoch [8/10], Step [1400/3079], Loss: 0.0095\n",
            "Epoch [8/10], Step [1500/3079], Loss: 0.3549\n",
            "Epoch [8/10], Step [1600/3079], Loss: 0.0171\n",
            "Epoch [8/10], Step [1700/3079], Loss: 0.0114\n",
            "Epoch [8/10], Step [1800/3079], Loss: 0.0411\n",
            "Epoch [8/10], Step [1900/3079], Loss: 0.0150\n",
            "Epoch [8/10], Step [2000/3079], Loss: 0.0670\n",
            "Epoch [8/10], Step [2100/3079], Loss: 0.1173\n",
            "Epoch [8/10], Step [2200/3079], Loss: 0.0494\n",
            "Epoch [8/10], Step [2300/3079], Loss: 0.0056\n",
            "Epoch [8/10], Step [2400/3079], Loss: 0.0456\n",
            "Epoch [8/10], Step [2500/3079], Loss: 0.0150\n",
            "Epoch [8/10], Step [2600/3079], Loss: 0.0569\n",
            "Epoch [8/10], Step [2700/3079], Loss: 0.2596\n",
            "Epoch [8/10], Step [2800/3079], Loss: 0.3123\n",
            "Epoch [8/10], Step [2900/3079], Loss: 0.3052\n",
            "Epoch [8/10], Step [3000/3079], Loss: 0.0309\n"
          ]
        },
        {
          "metadata": {
            "tags": null
          },
          "name": "stderr",
          "output_type": "stream",
          "text": [
            "2023-12-08 23:57:15,760 - root - INFO - Accuracy: 97.43%\n",
            "2023-12-08 23:57:15,761 - root - INFO - Precision: 0.9741\n",
            "2023-12-08 23:57:15,762 - root - INFO - Recall: 0.9743\n",
            "2023-12-08 23:57:15,764 - root - INFO - F1 Score: 0.9740\n"
          ]
        },
        {
          "metadata": {
            "tags": null
          },
          "name": "stdout",
          "output_type": "stream",
          "text": [
            "Epoch [9/10], Step [100/3079], Loss: 0.0218\n",
            "Epoch [9/10], Step [200/3079], Loss: 0.0400\n",
            "Epoch [9/10], Step [300/3079], Loss: 0.0588\n",
            "Epoch [9/10], Step [400/3079], Loss: 0.2258\n",
            "Epoch [9/10], Step [500/3079], Loss: 0.0147\n",
            "Epoch [9/10], Step [600/3079], Loss: 0.0160\n",
            "Epoch [9/10], Step [700/3079], Loss: 0.0247\n",
            "Epoch [9/10], Step [800/3079], Loss: 0.0111\n",
            "Epoch [9/10], Step [900/3079], Loss: 0.1512\n",
            "Epoch [9/10], Step [1000/3079], Loss: 0.0243\n",
            "Epoch [9/10], Step [1100/3079], Loss: 0.0320\n",
            "Epoch [9/10], Step [1200/3079], Loss: 0.0182\n",
            "Epoch [9/10], Step [1300/3079], Loss: 0.1473\n",
            "Epoch [9/10], Step [1400/3079], Loss: 0.0214\n",
            "Epoch [9/10], Step [1500/3079], Loss: 0.0162\n",
            "Epoch [9/10], Step [1600/3079], Loss: 0.0115\n",
            "Epoch [9/10], Step [1700/3079], Loss: 0.0515\n",
            "Epoch [9/10], Step [1800/3079], Loss: 0.0283\n",
            "Epoch [9/10], Step [1900/3079], Loss: 0.0632\n",
            "Epoch [9/10], Step [2000/3079], Loss: 0.1368\n",
            "Epoch [9/10], Step [2100/3079], Loss: 0.0928\n",
            "Epoch [9/10], Step [2200/3079], Loss: 0.0110\n",
            "Epoch [9/10], Step [2300/3079], Loss: 0.0906\n",
            "Epoch [9/10], Step [2400/3079], Loss: 0.0343\n",
            "Epoch [9/10], Step [2500/3079], Loss: 0.0373\n",
            "Epoch [9/10], Step [2600/3079], Loss: 0.2490\n",
            "Epoch [9/10], Step [2700/3079], Loss: 0.1144\n",
            "Epoch [9/10], Step [2800/3079], Loss: 0.0535\n",
            "Epoch [9/10], Step [2900/3079], Loss: 0.0159\n",
            "Epoch [9/10], Step [3000/3079], Loss: 0.0120\n"
          ]
        },
        {
          "metadata": {
            "tags": null
          },
          "name": "stderr",
          "output_type": "stream",
          "text": [
            "2023-12-08 23:57:27,274 - root - INFO - Accuracy: 97.64%\n",
            "2023-12-08 23:57:27,275 - root - INFO - Precision: 0.9760\n",
            "2023-12-08 23:57:27,276 - root - INFO - Recall: 0.9764\n",
            "2023-12-08 23:57:27,277 - root - INFO - F1 Score: 0.9759\n"
          ]
        },
        {
          "metadata": {
            "tags": null
          },
          "name": "stdout",
          "output_type": "stream",
          "text": [
            "Epoch [10/10], Step [100/3079], Loss: 0.0292\n",
            "Epoch [10/10], Step [200/3079], Loss: 0.1131\n",
            "Epoch [10/10], Step [300/3079], Loss: 0.0637\n",
            "Epoch [10/10], Step [400/3079], Loss: 0.0380\n",
            "Epoch [10/10], Step [500/3079], Loss: 0.0111\n",
            "Epoch [10/10], Step [600/3079], Loss: 0.0268\n",
            "Epoch [10/10], Step [700/3079], Loss: 0.0140\n",
            "Epoch [10/10], Step [800/3079], Loss: 0.0066\n",
            "Epoch [10/10], Step [900/3079], Loss: 0.0077\n",
            "Epoch [10/10], Step [1000/3079], Loss: 0.0860\n",
            "Epoch [10/10], Step [1100/3079], Loss: 0.0232\n",
            "Epoch [10/10], Step [1200/3079], Loss: 0.0782\n",
            "Epoch [10/10], Step [1300/3079], Loss: 0.0173\n",
            "Epoch [10/10], Step [1400/3079], Loss: 0.0134\n",
            "Epoch [10/10], Step [1500/3079], Loss: 0.0659\n",
            "Epoch [10/10], Step [1600/3079], Loss: 0.0147\n",
            "Epoch [10/10], Step [1700/3079], Loss: 0.0185\n",
            "Epoch [10/10], Step [1800/3079], Loss: 0.0276\n",
            "Epoch [10/10], Step [1900/3079], Loss: 0.7332\n",
            "Epoch [10/10], Step [2000/3079], Loss: 0.1099\n",
            "Epoch [10/10], Step [2100/3079], Loss: 0.0909\n",
            "Epoch [10/10], Step [2200/3079], Loss: 0.0172\n",
            "Epoch [10/10], Step [2300/3079], Loss: 0.0391\n",
            "Epoch [10/10], Step [2400/3079], Loss: 0.0164\n",
            "Epoch [10/10], Step [2500/3079], Loss: 0.2057\n",
            "Epoch [10/10], Step [2600/3079], Loss: 0.0259\n",
            "Epoch [10/10], Step [2700/3079], Loss: 0.1763\n",
            "Epoch [10/10], Step [2800/3079], Loss: 0.0341\n",
            "Epoch [10/10], Step [2900/3079], Loss: 0.0464\n",
            "Epoch [10/10], Step [3000/3079], Loss: 0.0647\n"
          ]
        },
        {
          "metadata": {
            "tags": null
          },
          "name": "stderr",
          "output_type": "stream",
          "text": [
            "2023-12-08 23:57:38,814 - root - INFO - Accuracy: 97.62%\n",
            "2023-12-08 23:57:38,815 - root - INFO - Precision: 0.9754\n",
            "2023-12-08 23:57:38,816 - root - INFO - Recall: 0.9762\n",
            "2023-12-08 23:57:38,817 - root - INFO - F1 Score: 0.9750\n"
          ]
        },
        {
          "metadata": {
            "tags": null
          },
          "name": "stdout",
          "output_type": "stream",
          "text": [
            "FOLD 8\n",
            "--------------------------------\n",
            "OSCNN(\n",
            "  (conv1): Conv1d(1, 128, kernel_size=(8,), stride=(1,), padding=same)\n",
            "  (bn1): BatchNorm1d(128, eps=1e-05, momentum=0.1, affine=True, track_running_stats=True)\n",
            "  (conv2): Conv1d(128, 256, kernel_size=(5,), stride=(1,), padding=same)\n",
            "  (bn2): BatchNorm1d(256, eps=1e-05, momentum=0.1, affine=True, track_running_stats=True)\n",
            "  (conv3): Conv1d(256, 128, kernel_size=(3,), stride=(1,), padding=same)\n",
            "  (bn3): BatchNorm1d(128, eps=1e-05, momentum=0.1, affine=True, track_running_stats=True)\n",
            "  (avg_pool): AdaptiveAvgPool1d(output_size=1)\n",
            "  (fc): Linear(in_features=128, out_features=5, bias=True)\n",
            ")\n",
            "Epoch [1/10], Step [100/3079], Loss: 0.7163\n",
            "Epoch [1/10], Step [200/3079], Loss: 0.3066\n",
            "Epoch [1/10], Step [300/3079], Loss: 0.3339\n",
            "Epoch [1/10], Step [400/3079], Loss: 0.3702\n",
            "Epoch [1/10], Step [500/3079], Loss: 0.1844\n",
            "Epoch [1/10], Step [600/3079], Loss: 0.1911\n",
            "Epoch [1/10], Step [700/3079], Loss: 0.0587\n",
            "Epoch [1/10], Step [800/3079], Loss: 0.3028\n",
            "Epoch [1/10], Step [900/3079], Loss: 0.3330\n",
            "Epoch [1/10], Step [1000/3079], Loss: 0.2075\n",
            "Epoch [1/10], Step [1100/3079], Loss: 0.3311\n",
            "Epoch [1/10], Step [1200/3079], Loss: 0.2548\n",
            "Epoch [1/10], Step [1300/3079], Loss: 0.3243\n",
            "Epoch [1/10], Step [1400/3079], Loss: 0.2421\n",
            "Epoch [1/10], Step [1500/3079], Loss: 0.2831\n",
            "Epoch [1/10], Step [1600/3079], Loss: 0.3041\n",
            "Epoch [1/10], Step [1700/3079], Loss: 0.0615\n",
            "Epoch [1/10], Step [1800/3079], Loss: 0.3044\n",
            "Epoch [1/10], Step [1900/3079], Loss: 0.1934\n",
            "Epoch [1/10], Step [2000/3079], Loss: 0.2384\n",
            "Epoch [1/10], Step [2100/3079], Loss: 0.1371\n",
            "Epoch [1/10], Step [2200/3079], Loss: 0.1942\n",
            "Epoch [1/10], Step [2300/3079], Loss: 0.1879\n",
            "Epoch [1/10], Step [2400/3079], Loss: 0.3322\n",
            "Epoch [1/10], Step [2500/3079], Loss: 0.0854\n",
            "Epoch [1/10], Step [2600/3079], Loss: 0.1511\n",
            "Epoch [1/10], Step [2700/3079], Loss: 0.5794\n",
            "Epoch [1/10], Step [2800/3079], Loss: 0.1057\n",
            "Epoch [1/10], Step [2900/3079], Loss: 0.1543\n",
            "Epoch [1/10], Step [3000/3079], Loss: 0.1321\n"
          ]
        },
        {
          "metadata": {
            "tags": null
          },
          "name": "stderr",
          "output_type": "stream",
          "text": [
            "/usr/local/lib/python3.10/dist-packages/sklearn/metrics/_classification.py:1344: UndefinedMetricWarning: Precision is ill-defined and being set to 0.0 in labels with no predicted samples. Use `zero_division` parameter to control this behavior.\n",
            "  _warn_prf(average, modifier, msg_start, len(result))\n",
            "2023-12-08 23:57:50,363 - root - INFO - Accuracy: 94.91%\n",
            "2023-12-08 23:57:50,364 - root - INFO - Precision: 0.9428\n",
            "2023-12-08 23:57:50,365 - root - INFO - Recall: 0.9491\n",
            "2023-12-08 23:57:50,365 - root - INFO - F1 Score: 0.9365\n"
          ]
        },
        {
          "metadata": {
            "tags": null
          },
          "name": "stdout",
          "output_type": "stream",
          "text": [
            "Epoch [2/10], Step [100/3079], Loss: 0.1612\n",
            "Epoch [2/10], Step [200/3079], Loss: 0.0796\n",
            "Epoch [2/10], Step [300/3079], Loss: 0.1538\n",
            "Epoch [2/10], Step [400/3079], Loss: 0.2843\n",
            "Epoch [2/10], Step [500/3079], Loss: 0.2712\n",
            "Epoch [2/10], Step [600/3079], Loss: 0.1740\n",
            "Epoch [2/10], Step [700/3079], Loss: 0.0541\n",
            "Epoch [2/10], Step [800/3079], Loss: 0.1501\n",
            "Epoch [2/10], Step [900/3079], Loss: 0.0610\n",
            "Epoch [2/10], Step [1000/3079], Loss: 0.2297\n",
            "Epoch [2/10], Step [1100/3079], Loss: 0.0320\n",
            "Epoch [2/10], Step [1200/3079], Loss: 0.1073\n",
            "Epoch [2/10], Step [1300/3079], Loss: 0.2674\n",
            "Epoch [2/10], Step [1400/3079], Loss: 0.1534\n",
            "Epoch [2/10], Step [1500/3079], Loss: 0.0293\n",
            "Epoch [2/10], Step [1600/3079], Loss: 0.1832\n",
            "Epoch [2/10], Step [1700/3079], Loss: 0.1704\n",
            "Epoch [2/10], Step [1800/3079], Loss: 0.2071\n",
            "Epoch [2/10], Step [1900/3079], Loss: 0.0924\n",
            "Epoch [2/10], Step [2000/3079], Loss: 0.0203\n",
            "Epoch [2/10], Step [2100/3079], Loss: 0.2763\n",
            "Epoch [2/10], Step [2200/3079], Loss: 0.2684\n",
            "Epoch [2/10], Step [2300/3079], Loss: 0.2564\n",
            "Epoch [2/10], Step [2400/3079], Loss: 0.0280\n",
            "Epoch [2/10], Step [2500/3079], Loss: 0.0220\n",
            "Epoch [2/10], Step [2600/3079], Loss: 0.1615\n",
            "Epoch [2/10], Step [2700/3079], Loss: 0.0394\n",
            "Epoch [2/10], Step [2800/3079], Loss: 0.0275\n",
            "Epoch [2/10], Step [2900/3079], Loss: 0.0406\n",
            "Epoch [2/10], Step [3000/3079], Loss: 0.1727\n"
          ]
        },
        {
          "metadata": {
            "tags": null
          },
          "name": "stderr",
          "output_type": "stream",
          "text": [
            "2023-12-08 23:58:01,906 - root - INFO - Accuracy: 96.78%\n",
            "2023-12-08 23:58:01,907 - root - INFO - Precision: 0.9670\n",
            "2023-12-08 23:58:01,908 - root - INFO - Recall: 0.9678\n",
            "2023-12-08 23:58:01,909 - root - INFO - F1 Score: 0.9649\n"
          ]
        },
        {
          "metadata": {
            "tags": null
          },
          "name": "stdout",
          "output_type": "stream",
          "text": [
            "Epoch [3/10], Step [100/3079], Loss: 0.0964\n",
            "Epoch [3/10], Step [200/3079], Loss: 0.0977\n",
            "Epoch [3/10], Step [300/3079], Loss: 0.3143\n",
            "Epoch [3/10], Step [400/3079], Loss: 0.2415\n",
            "Epoch [3/10], Step [500/3079], Loss: 0.0195\n",
            "Epoch [3/10], Step [600/3079], Loss: 0.0445\n",
            "Epoch [3/10], Step [700/3079], Loss: 0.0484\n",
            "Epoch [3/10], Step [800/3079], Loss: 0.3791\n",
            "Epoch [3/10], Step [900/3079], Loss: 0.0776\n",
            "Epoch [3/10], Step [1000/3079], Loss: 0.0527\n",
            "Epoch [3/10], Step [1100/3079], Loss: 0.0153\n",
            "Epoch [3/10], Step [1200/3079], Loss: 0.1748\n",
            "Epoch [3/10], Step [1300/3079], Loss: 0.0967\n",
            "Epoch [3/10], Step [1400/3079], Loss: 0.1165\n",
            "Epoch [3/10], Step [1500/3079], Loss: 0.2161\n",
            "Epoch [3/10], Step [1600/3079], Loss: 0.3359\n",
            "Epoch [3/10], Step [1700/3079], Loss: 0.0509\n",
            "Epoch [3/10], Step [1800/3079], Loss: 0.0362\n",
            "Epoch [3/10], Step [1900/3079], Loss: 0.0822\n",
            "Epoch [3/10], Step [2000/3079], Loss: 0.4273\n",
            "Epoch [3/10], Step [2100/3079], Loss: 0.1683\n",
            "Epoch [3/10], Step [2200/3079], Loss: 0.1191\n",
            "Epoch [3/10], Step [2300/3079], Loss: 0.0485\n",
            "Epoch [3/10], Step [2400/3079], Loss: 0.1699\n",
            "Epoch [3/10], Step [2500/3079], Loss: 0.0182\n",
            "Epoch [3/10], Step [2600/3079], Loss: 0.0183\n",
            "Epoch [3/10], Step [2700/3079], Loss: 0.2678\n",
            "Epoch [3/10], Step [2800/3079], Loss: 0.0560\n",
            "Epoch [3/10], Step [2900/3079], Loss: 0.3520\n",
            "Epoch [3/10], Step [3000/3079], Loss: 0.1701\n"
          ]
        },
        {
          "metadata": {
            "tags": null
          },
          "name": "stderr",
          "output_type": "stream",
          "text": [
            "2023-12-08 23:58:13,398 - root - INFO - Accuracy: 97.33%\n",
            "2023-12-08 23:58:13,399 - root - INFO - Precision: 0.9726\n",
            "2023-12-08 23:58:13,400 - root - INFO - Recall: 0.9733\n",
            "2023-12-08 23:58:13,401 - root - INFO - F1 Score: 0.9717\n"
          ]
        },
        {
          "metadata": {
            "tags": null
          },
          "name": "stdout",
          "output_type": "stream",
          "text": [
            "Epoch [4/10], Step [100/3079], Loss: 0.0268\n",
            "Epoch [4/10], Step [200/3079], Loss: 0.0258\n",
            "Epoch [4/10], Step [300/3079], Loss: 0.0534\n",
            "Epoch [4/10], Step [400/3079], Loss: 0.0296\n",
            "Epoch [4/10], Step [500/3079], Loss: 0.0941\n",
            "Epoch [4/10], Step [600/3079], Loss: 0.2757\n",
            "Epoch [4/10], Step [700/3079], Loss: 0.0416\n",
            "Epoch [4/10], Step [800/3079], Loss: 0.0399\n",
            "Epoch [4/10], Step [900/3079], Loss: 0.1503\n",
            "Epoch [4/10], Step [1000/3079], Loss: 0.2002\n",
            "Epoch [4/10], Step [1100/3079], Loss: 0.1940\n",
            "Epoch [4/10], Step [1200/3079], Loss: 0.0441\n",
            "Epoch [4/10], Step [1300/3079], Loss: 0.0317\n",
            "Epoch [4/10], Step [1400/3079], Loss: 0.1024\n",
            "Epoch [4/10], Step [1500/3079], Loss: 0.0847\n",
            "Epoch [4/10], Step [1600/3079], Loss: 0.0489\n",
            "Epoch [4/10], Step [1700/3079], Loss: 0.0308\n",
            "Epoch [4/10], Step [1800/3079], Loss: 0.3017\n",
            "Epoch [4/10], Step [1900/3079], Loss: 0.1399\n",
            "Epoch [4/10], Step [2000/3079], Loss: 0.0491\n",
            "Epoch [4/10], Step [2100/3079], Loss: 0.0562\n",
            "Epoch [4/10], Step [2200/3079], Loss: 0.3528\n",
            "Epoch [4/10], Step [2300/3079], Loss: 0.1528\n",
            "Epoch [4/10], Step [2400/3079], Loss: 0.2979\n",
            "Epoch [4/10], Step [2500/3079], Loss: 0.0313\n",
            "Epoch [4/10], Step [2600/3079], Loss: 0.0896\n",
            "Epoch [4/10], Step [2700/3079], Loss: 0.1491\n",
            "Epoch [4/10], Step [2800/3079], Loss: 0.0177\n",
            "Epoch [4/10], Step [2900/3079], Loss: 0.0198\n",
            "Epoch [4/10], Step [3000/3079], Loss: 0.0187\n"
          ]
        },
        {
          "metadata": {
            "tags": null
          },
          "name": "stderr",
          "output_type": "stream",
          "text": [
            "2023-12-08 23:58:24,856 - root - INFO - Accuracy: 97.49%\n",
            "2023-12-08 23:58:24,858 - root - INFO - Precision: 0.9743\n",
            "2023-12-08 23:58:24,859 - root - INFO - Recall: 0.9749\n",
            "2023-12-08 23:58:24,860 - root - INFO - F1 Score: 0.9731\n"
          ]
        },
        {
          "metadata": {
            "tags": null
          },
          "name": "stdout",
          "output_type": "stream",
          "text": [
            "Epoch [5/10], Step [100/3079], Loss: 0.1447\n",
            "Epoch [5/10], Step [200/3079], Loss: 0.0630\n",
            "Epoch [5/10], Step [300/3079], Loss: 0.0490\n",
            "Epoch [5/10], Step [400/3079], Loss: 0.0561\n",
            "Epoch [5/10], Step [500/3079], Loss: 0.0831\n",
            "Epoch [5/10], Step [600/3079], Loss: 0.0608\n",
            "Epoch [5/10], Step [700/3079], Loss: 0.0378\n",
            "Epoch [5/10], Step [800/3079], Loss: 0.1536\n",
            "Epoch [5/10], Step [900/3079], Loss: 0.0470\n",
            "Epoch [5/10], Step [1000/3079], Loss: 0.0333\n",
            "Epoch [5/10], Step [1100/3079], Loss: 0.0708\n",
            "Epoch [5/10], Step [1200/3079], Loss: 0.0909\n",
            "Epoch [5/10], Step [1300/3079], Loss: 0.0173\n",
            "Epoch [5/10], Step [1400/3079], Loss: 0.0474\n",
            "Epoch [5/10], Step [1500/3079], Loss: 0.2938\n",
            "Epoch [5/10], Step [1600/3079], Loss: 0.0385\n",
            "Epoch [5/10], Step [1700/3079], Loss: 0.1883\n",
            "Epoch [5/10], Step [1800/3079], Loss: 0.1418\n",
            "Epoch [5/10], Step [1900/3079], Loss: 0.2200\n",
            "Epoch [5/10], Step [2000/3079], Loss: 0.0328\n",
            "Epoch [5/10], Step [2100/3079], Loss: 0.0963\n",
            "Epoch [5/10], Step [2200/3079], Loss: 0.0939\n",
            "Epoch [5/10], Step [2300/3079], Loss: 0.2400\n",
            "Epoch [5/10], Step [2400/3079], Loss: 0.0485\n",
            "Epoch [5/10], Step [2500/3079], Loss: 0.1257\n",
            "Epoch [5/10], Step [2600/3079], Loss: 0.0591\n",
            "Epoch [5/10], Step [2700/3079], Loss: 0.0703\n",
            "Epoch [5/10], Step [2800/3079], Loss: 0.0124\n",
            "Epoch [5/10], Step [2900/3079], Loss: 0.0297\n",
            "Epoch [5/10], Step [3000/3079], Loss: 0.1493\n"
          ]
        },
        {
          "metadata": {
            "tags": null
          },
          "name": "stderr",
          "output_type": "stream",
          "text": [
            "2023-12-08 23:58:36,328 - root - INFO - Accuracy: 97.40%\n",
            "2023-12-08 23:58:36,329 - root - INFO - Precision: 0.9733\n",
            "2023-12-08 23:58:36,329 - root - INFO - Recall: 0.9740\n",
            "2023-12-08 23:58:36,330 - root - INFO - F1 Score: 0.9733\n"
          ]
        },
        {
          "metadata": {
            "tags": null
          },
          "name": "stdout",
          "output_type": "stream",
          "text": [
            "Epoch [6/10], Step [100/3079], Loss: 0.1182\n",
            "Epoch [6/10], Step [200/3079], Loss: 0.1364\n",
            "Epoch [6/10], Step [300/3079], Loss: 0.0623\n",
            "Epoch [6/10], Step [400/3079], Loss: 0.0517\n",
            "Epoch [6/10], Step [500/3079], Loss: 0.0538\n",
            "Epoch [6/10], Step [600/3079], Loss: 0.0504\n",
            "Epoch [6/10], Step [700/3079], Loss: 0.1425\n",
            "Epoch [6/10], Step [800/3079], Loss: 0.0684\n",
            "Epoch [6/10], Step [900/3079], Loss: 0.0957\n",
            "Epoch [6/10], Step [1000/3079], Loss: 0.0594\n",
            "Epoch [6/10], Step [1100/3079], Loss: 0.2498\n",
            "Epoch [6/10], Step [1200/3079], Loss: 0.0149\n",
            "Epoch [6/10], Step [1300/3079], Loss: 0.1165\n",
            "Epoch [6/10], Step [1400/3079], Loss: 0.0939\n",
            "Epoch [6/10], Step [1500/3079], Loss: 0.3245\n",
            "Epoch [6/10], Step [1600/3079], Loss: 0.0117\n",
            "Epoch [6/10], Step [1700/3079], Loss: 0.2538\n",
            "Epoch [6/10], Step [1800/3079], Loss: 0.0322\n",
            "Epoch [6/10], Step [1900/3079], Loss: 0.0756\n",
            "Epoch [6/10], Step [2000/3079], Loss: 0.0190\n",
            "Epoch [6/10], Step [2100/3079], Loss: 0.0422\n",
            "Epoch [6/10], Step [2200/3079], Loss: 0.1099\n",
            "Epoch [6/10], Step [2300/3079], Loss: 0.1668\n",
            "Epoch [6/10], Step [2400/3079], Loss: 0.2168\n",
            "Epoch [6/10], Step [2500/3079], Loss: 0.1917\n",
            "Epoch [6/10], Step [2600/3079], Loss: 0.1499\n",
            "Epoch [6/10], Step [2700/3079], Loss: 0.0224\n",
            "Epoch [6/10], Step [2800/3079], Loss: 0.0264\n",
            "Epoch [6/10], Step [2900/3079], Loss: 0.1529\n",
            "Epoch [6/10], Step [3000/3079], Loss: 0.1353\n"
          ]
        },
        {
          "metadata": {
            "tags": null
          },
          "name": "stderr",
          "output_type": "stream",
          "text": [
            "2023-12-08 23:58:47,888 - root - INFO - Accuracy: 97.56%\n",
            "2023-12-08 23:58:47,889 - root - INFO - Precision: 0.9757\n",
            "2023-12-08 23:58:47,890 - root - INFO - Recall: 0.9756\n",
            "2023-12-08 23:58:47,891 - root - INFO - F1 Score: 0.9756\n"
          ]
        },
        {
          "metadata": {
            "tags": null
          },
          "name": "stdout",
          "output_type": "stream",
          "text": [
            "Epoch [7/10], Step [100/3079], Loss: 0.0547\n",
            "Epoch [7/10], Step [200/3079], Loss: 0.0725\n",
            "Epoch [7/10], Step [300/3079], Loss: 0.1908\n",
            "Epoch [7/10], Step [400/3079], Loss: 0.0238\n",
            "Epoch [7/10], Step [500/3079], Loss: 0.0214\n",
            "Epoch [7/10], Step [600/3079], Loss: 0.2036\n",
            "Epoch [7/10], Step [700/3079], Loss: 0.0110\n",
            "Epoch [7/10], Step [800/3079], Loss: 0.0407\n",
            "Epoch [7/10], Step [900/3079], Loss: 0.0232\n",
            "Epoch [7/10], Step [1000/3079], Loss: 0.0152\n",
            "Epoch [7/10], Step [1100/3079], Loss: 0.0347\n",
            "Epoch [7/10], Step [1200/3079], Loss: 0.1247\n",
            "Epoch [7/10], Step [1300/3079], Loss: 0.0297\n",
            "Epoch [7/10], Step [1400/3079], Loss: 0.0985\n",
            "Epoch [7/10], Step [1500/3079], Loss: 0.0383\n",
            "Epoch [7/10], Step [1600/3079], Loss: 0.0547\n",
            "Epoch [7/10], Step [1700/3079], Loss: 0.1786\n",
            "Epoch [7/10], Step [1800/3079], Loss: 0.1561\n",
            "Epoch [7/10], Step [1900/3079], Loss: 0.1419\n",
            "Epoch [7/10], Step [2000/3079], Loss: 0.1505\n",
            "Epoch [7/10], Step [2100/3079], Loss: 0.0285\n",
            "Epoch [7/10], Step [2200/3079], Loss: 0.0212\n",
            "Epoch [7/10], Step [2300/3079], Loss: 0.2077\n",
            "Epoch [7/10], Step [2400/3079], Loss: 0.0385\n",
            "Epoch [7/10], Step [2500/3079], Loss: 0.0325\n",
            "Epoch [7/10], Step [2600/3079], Loss: 0.0513\n",
            "Epoch [7/10], Step [2700/3079], Loss: 0.0636\n",
            "Epoch [7/10], Step [2800/3079], Loss: 0.0228\n",
            "Epoch [7/10], Step [2900/3079], Loss: 0.0322\n",
            "Epoch [7/10], Step [3000/3079], Loss: 0.1711\n"
          ]
        },
        {
          "metadata": {
            "tags": null
          },
          "name": "stderr",
          "output_type": "stream",
          "text": [
            "2023-12-08 23:58:59,488 - root - INFO - Accuracy: 97.82%\n",
            "2023-12-08 23:58:59,489 - root - INFO - Precision: 0.9777\n",
            "2023-12-08 23:58:59,490 - root - INFO - Recall: 0.9782\n",
            "2023-12-08 23:58:59,491 - root - INFO - F1 Score: 0.9778\n"
          ]
        },
        {
          "metadata": {
            "tags": null
          },
          "name": "stdout",
          "output_type": "stream",
          "text": [
            "Epoch [8/10], Step [100/3079], Loss: 0.0223\n",
            "Epoch [8/10], Step [200/3079], Loss: 0.0490\n",
            "Epoch [8/10], Step [300/3079], Loss: 0.0813\n",
            "Epoch [8/10], Step [400/3079], Loss: 0.5033\n",
            "Epoch [8/10], Step [500/3079], Loss: 0.0118\n",
            "Epoch [8/10], Step [600/3079], Loss: 0.0528\n",
            "Epoch [8/10], Step [700/3079], Loss: 0.0409\n",
            "Epoch [8/10], Step [800/3079], Loss: 0.1794\n",
            "Epoch [8/10], Step [900/3079], Loss: 0.0133\n",
            "Epoch [8/10], Step [1000/3079], Loss: 0.3755\n",
            "Epoch [8/10], Step [1100/3079], Loss: 0.0155\n",
            "Epoch [8/10], Step [1200/3079], Loss: 0.0549\n",
            "Epoch [8/10], Step [1300/3079], Loss: 0.0817\n",
            "Epoch [8/10], Step [1400/3079], Loss: 0.0319\n",
            "Epoch [8/10], Step [1500/3079], Loss: 0.0078\n",
            "Epoch [8/10], Step [1600/3079], Loss: 0.1343\n",
            "Epoch [8/10], Step [1700/3079], Loss: 0.0437\n",
            "Epoch [8/10], Step [1800/3079], Loss: 0.1045\n",
            "Epoch [8/10], Step [1900/3079], Loss: 0.0158\n",
            "Epoch [8/10], Step [2000/3079], Loss: 0.0301\n",
            "Epoch [8/10], Step [2100/3079], Loss: 0.0548\n",
            "Epoch [8/10], Step [2200/3079], Loss: 0.2382\n",
            "Epoch [8/10], Step [2300/3079], Loss: 0.2685\n",
            "Epoch [8/10], Step [2400/3079], Loss: 0.0056\n",
            "Epoch [8/10], Step [2500/3079], Loss: 0.0123\n",
            "Epoch [8/10], Step [2600/3079], Loss: 0.1702\n",
            "Epoch [8/10], Step [2700/3079], Loss: 0.1733\n",
            "Epoch [8/10], Step [2800/3079], Loss: 0.0062\n",
            "Epoch [8/10], Step [2900/3079], Loss: 0.0673\n",
            "Epoch [8/10], Step [3000/3079], Loss: 0.0312\n"
          ]
        },
        {
          "metadata": {
            "tags": null
          },
          "name": "stderr",
          "output_type": "stream",
          "text": [
            "2023-12-08 23:59:11,069 - root - INFO - Accuracy: 97.85%\n",
            "2023-12-08 23:59:11,070 - root - INFO - Precision: 0.9785\n",
            "2023-12-08 23:59:11,071 - root - INFO - Recall: 0.9785\n",
            "2023-12-08 23:59:11,072 - root - INFO - F1 Score: 0.9766\n"
          ]
        },
        {
          "metadata": {
            "tags": null
          },
          "name": "stdout",
          "output_type": "stream",
          "text": [
            "Epoch [9/10], Step [100/3079], Loss: 0.0339\n",
            "Epoch [9/10], Step [200/3079], Loss: 0.1464\n",
            "Epoch [9/10], Step [300/3079], Loss: 0.0060\n",
            "Epoch [9/10], Step [400/3079], Loss: 0.0371\n",
            "Epoch [9/10], Step [500/3079], Loss: 0.0320\n",
            "Epoch [9/10], Step [600/3079], Loss: 0.0177\n",
            "Epoch [9/10], Step [700/3079], Loss: 0.0484\n",
            "Epoch [9/10], Step [800/3079], Loss: 0.0483\n",
            "Epoch [9/10], Step [900/3079], Loss: 0.2628\n",
            "Epoch [9/10], Step [1000/3079], Loss: 0.1240\n",
            "Epoch [9/10], Step [1100/3079], Loss: 0.0200\n",
            "Epoch [9/10], Step [1200/3079], Loss: 0.0689\n",
            "Epoch [9/10], Step [1300/3079], Loss: 0.0365\n",
            "Epoch [9/10], Step [1400/3079], Loss: 0.0182\n",
            "Epoch [9/10], Step [1500/3079], Loss: 0.0647\n",
            "Epoch [9/10], Step [1600/3079], Loss: 0.0269\n",
            "Epoch [9/10], Step [1700/3079], Loss: 0.1363\n",
            "Epoch [9/10], Step [1800/3079], Loss: 0.0157\n",
            "Epoch [9/10], Step [1900/3079], Loss: 0.0336\n",
            "Epoch [9/10], Step [2000/3079], Loss: 0.0771\n",
            "Epoch [9/10], Step [2100/3079], Loss: 0.0505\n",
            "Epoch [9/10], Step [2200/3079], Loss: 0.0234\n",
            "Epoch [9/10], Step [2300/3079], Loss: 0.0516\n",
            "Epoch [9/10], Step [2400/3079], Loss: 0.0523\n",
            "Epoch [9/10], Step [2500/3079], Loss: 0.1649\n",
            "Epoch [9/10], Step [2600/3079], Loss: 0.0183\n",
            "Epoch [9/10], Step [2700/3079], Loss: 0.0187\n",
            "Epoch [9/10], Step [2800/3079], Loss: 0.0483\n",
            "Epoch [9/10], Step [2900/3079], Loss: 0.1584\n",
            "Epoch [9/10], Step [3000/3079], Loss: 0.0293\n"
          ]
        },
        {
          "metadata": {
            "tags": null
          },
          "name": "stderr",
          "output_type": "stream",
          "text": [
            "2023-12-08 23:59:22,732 - root - INFO - Accuracy: 97.63%\n",
            "2023-12-08 23:59:22,734 - root - INFO - Precision: 0.9759\n",
            "2023-12-08 23:59:22,735 - root - INFO - Recall: 0.9763\n",
            "2023-12-08 23:59:22,736 - root - INFO - F1 Score: 0.9761\n"
          ]
        },
        {
          "metadata": {
            "tags": null
          },
          "name": "stdout",
          "output_type": "stream",
          "text": [
            "Epoch [10/10], Step [100/3079], Loss: 0.0432\n",
            "Epoch [10/10], Step [200/3079], Loss: 0.0132\n",
            "Epoch [10/10], Step [300/3079], Loss: 0.0069\n",
            "Epoch [10/10], Step [400/3079], Loss: 0.0328\n",
            "Epoch [10/10], Step [500/3079], Loss: 0.0070\n",
            "Epoch [10/10], Step [600/3079], Loss: 0.1166\n",
            "Epoch [10/10], Step [700/3079], Loss: 0.0411\n",
            "Epoch [10/10], Step [800/3079], Loss: 0.3254\n",
            "Epoch [10/10], Step [900/3079], Loss: 0.0303\n",
            "Epoch [10/10], Step [1000/3079], Loss: 0.0331\n",
            "Epoch [10/10], Step [1100/3079], Loss: 0.0262\n",
            "Epoch [10/10], Step [1200/3079], Loss: 0.1044\n",
            "Epoch [10/10], Step [1300/3079], Loss: 0.0388\n",
            "Epoch [10/10], Step [1400/3079], Loss: 0.0074\n",
            "Epoch [10/10], Step [1500/3079], Loss: 0.0391\n",
            "Epoch [10/10], Step [1600/3079], Loss: 0.0096\n",
            "Epoch [10/10], Step [1700/3079], Loss: 0.4685\n",
            "Epoch [10/10], Step [1800/3079], Loss: 0.0116\n",
            "Epoch [10/10], Step [1900/3079], Loss: 0.0168\n",
            "Epoch [10/10], Step [2000/3079], Loss: 0.0068\n",
            "Epoch [10/10], Step [2100/3079], Loss: 0.0124\n",
            "Epoch [10/10], Step [2200/3079], Loss: 0.0453\n",
            "Epoch [10/10], Step [2300/3079], Loss: 0.0334\n",
            "Epoch [10/10], Step [2400/3079], Loss: 0.0065\n",
            "Epoch [10/10], Step [2500/3079], Loss: 0.0091\n",
            "Epoch [10/10], Step [2600/3079], Loss: 0.0424\n",
            "Epoch [10/10], Step [2700/3079], Loss: 0.0212\n",
            "Epoch [10/10], Step [2800/3079], Loss: 0.0042\n",
            "Epoch [10/10], Step [2900/3079], Loss: 0.0206\n",
            "Epoch [10/10], Step [3000/3079], Loss: 0.1210\n"
          ]
        },
        {
          "metadata": {
            "tags": null
          },
          "name": "stderr",
          "output_type": "stream",
          "text": [
            "2023-12-08 23:59:34,204 - root - INFO - Accuracy: 97.90%\n",
            "2023-12-08 23:59:34,205 - root - INFO - Precision: 0.9786\n",
            "2023-12-08 23:59:34,206 - root - INFO - Recall: 0.9790\n",
            "2023-12-08 23:59:34,207 - root - INFO - F1 Score: 0.9783\n"
          ]
        },
        {
          "metadata": {
            "tags": null
          },
          "name": "stdout",
          "output_type": "stream",
          "text": [
            "FOLD 9\n",
            "--------------------------------\n",
            "OSCNN(\n",
            "  (conv1): Conv1d(1, 128, kernel_size=(8,), stride=(1,), padding=same)\n",
            "  (bn1): BatchNorm1d(128, eps=1e-05, momentum=0.1, affine=True, track_running_stats=True)\n",
            "  (conv2): Conv1d(128, 256, kernel_size=(5,), stride=(1,), padding=same)\n",
            "  (bn2): BatchNorm1d(256, eps=1e-05, momentum=0.1, affine=True, track_running_stats=True)\n",
            "  (conv3): Conv1d(256, 128, kernel_size=(3,), stride=(1,), padding=same)\n",
            "  (bn3): BatchNorm1d(128, eps=1e-05, momentum=0.1, affine=True, track_running_stats=True)\n",
            "  (avg_pool): AdaptiveAvgPool1d(output_size=1)\n",
            "  (fc): Linear(in_features=128, out_features=5, bias=True)\n",
            ")\n",
            "Epoch [1/10], Step [100/3079], Loss: 0.4317\n",
            "Epoch [1/10], Step [200/3079], Loss: 0.6748\n",
            "Epoch [1/10], Step [300/3079], Loss: 0.2485\n",
            "Epoch [1/10], Step [400/3079], Loss: 0.6799\n",
            "Epoch [1/10], Step [500/3079], Loss: 0.3654\n",
            "Epoch [1/10], Step [600/3079], Loss: 0.2553\n",
            "Epoch [1/10], Step [700/3079], Loss: 0.1502\n",
            "Epoch [1/10], Step [800/3079], Loss: 0.4793\n",
            "Epoch [1/10], Step [900/3079], Loss: 0.4284\n",
            "Epoch [1/10], Step [1000/3079], Loss: 0.0675\n",
            "Epoch [1/10], Step [1100/3079], Loss: 0.1476\n",
            "Epoch [1/10], Step [1200/3079], Loss: 0.0504\n",
            "Epoch [1/10], Step [1300/3079], Loss: 0.1497\n",
            "Epoch [1/10], Step [1400/3079], Loss: 0.0538\n",
            "Epoch [1/10], Step [1500/3079], Loss: 0.2280\n",
            "Epoch [1/10], Step [1600/3079], Loss: 0.0672\n",
            "Epoch [1/10], Step [1700/3079], Loss: 0.0949\n",
            "Epoch [1/10], Step [1800/3079], Loss: 0.1680\n",
            "Epoch [1/10], Step [1900/3079], Loss: 0.2486\n",
            "Epoch [1/10], Step [2000/3079], Loss: 0.1354\n",
            "Epoch [1/10], Step [2100/3079], Loss: 0.2582\n",
            "Epoch [1/10], Step [2200/3079], Loss: 0.1064\n",
            "Epoch [1/10], Step [2300/3079], Loss: 0.1742\n",
            "Epoch [1/10], Step [2400/3079], Loss: 0.0357\n",
            "Epoch [1/10], Step [2500/3079], Loss: 0.0675\n",
            "Epoch [1/10], Step [2600/3079], Loss: 0.0793\n",
            "Epoch [1/10], Step [2700/3079], Loss: 0.2956\n",
            "Epoch [1/10], Step [2800/3079], Loss: 0.1071\n",
            "Epoch [1/10], Step [2900/3079], Loss: 0.2347\n",
            "Epoch [1/10], Step [3000/3079], Loss: 0.2583\n"
          ]
        },
        {
          "metadata": {
            "tags": null
          },
          "name": "stderr",
          "output_type": "stream",
          "text": [
            "2023-12-08 23:59:45,690 - root - INFO - Accuracy: 95.67%\n",
            "2023-12-08 23:59:45,691 - root - INFO - Precision: 0.9546\n",
            "2023-12-08 23:59:45,692 - root - INFO - Recall: 0.9567\n",
            "2023-12-08 23:59:45,692 - root - INFO - F1 Score: 0.9533\n"
          ]
        },
        {
          "metadata": {
            "tags": null
          },
          "name": "stdout",
          "output_type": "stream",
          "text": [
            "Epoch [2/10], Step [100/3079], Loss: 0.2693\n",
            "Epoch [2/10], Step [200/3079], Loss: 0.1685\n",
            "Epoch [2/10], Step [300/3079], Loss: 0.0688\n",
            "Epoch [2/10], Step [400/3079], Loss: 0.0288\n",
            "Epoch [2/10], Step [500/3079], Loss: 0.2308\n",
            "Epoch [2/10], Step [600/3079], Loss: 0.1587\n",
            "Epoch [2/10], Step [700/3079], Loss: 0.1841\n",
            "Epoch [2/10], Step [800/3079], Loss: 0.0397\n",
            "Epoch [2/10], Step [900/3079], Loss: 0.0641\n",
            "Epoch [2/10], Step [1000/3079], Loss: 0.1203\n",
            "Epoch [2/10], Step [1100/3079], Loss: 0.0834\n",
            "Epoch [2/10], Step [1200/3079], Loss: 0.0450\n",
            "Epoch [2/10], Step [1300/3079], Loss: 0.2591\n",
            "Epoch [2/10], Step [1400/3079], Loss: 0.0917\n",
            "Epoch [2/10], Step [1500/3079], Loss: 0.0769\n",
            "Epoch [2/10], Step [1600/3079], Loss: 0.0446\n",
            "Epoch [2/10], Step [1700/3079], Loss: 0.0594\n",
            "Epoch [2/10], Step [1800/3079], Loss: 0.1284\n",
            "Epoch [2/10], Step [1900/3079], Loss: 0.0581\n",
            "Epoch [2/10], Step [2000/3079], Loss: 0.2721\n",
            "Epoch [2/10], Step [2100/3079], Loss: 0.0537\n",
            "Epoch [2/10], Step [2200/3079], Loss: 0.2244\n",
            "Epoch [2/10], Step [2300/3079], Loss: 0.2956\n",
            "Epoch [2/10], Step [2400/3079], Loss: 0.0398\n",
            "Epoch [2/10], Step [2500/3079], Loss: 0.0821\n",
            "Epoch [2/10], Step [2600/3079], Loss: 0.0470\n",
            "Epoch [2/10], Step [2700/3079], Loss: 0.0699\n",
            "Epoch [2/10], Step [2800/3079], Loss: 0.1735\n",
            "Epoch [2/10], Step [2900/3079], Loss: 0.1990\n",
            "Epoch [2/10], Step [3000/3079], Loss: 0.1515\n"
          ]
        },
        {
          "metadata": {
            "tags": null
          },
          "name": "stderr",
          "output_type": "stream",
          "text": [
            "2023-12-08 23:59:57,355 - root - INFO - Accuracy: 96.19%\n",
            "2023-12-08 23:59:57,356 - root - INFO - Precision: 0.9636\n",
            "2023-12-08 23:59:57,357 - root - INFO - Recall: 0.9619\n",
            "2023-12-08 23:59:57,358 - root - INFO - F1 Score: 0.9620\n"
          ]
        },
        {
          "metadata": {
            "tags": null
          },
          "name": "stdout",
          "output_type": "stream",
          "text": [
            "Epoch [3/10], Step [100/3079], Loss: 0.0924\n",
            "Epoch [3/10], Step [200/3079], Loss: 0.0932\n",
            "Epoch [3/10], Step [300/3079], Loss: 0.1935\n",
            "Epoch [3/10], Step [400/3079], Loss: 0.0662\n",
            "Epoch [3/10], Step [500/3079], Loss: 0.0403\n",
            "Epoch [3/10], Step [600/3079], Loss: 0.1802\n",
            "Epoch [3/10], Step [700/3079], Loss: 0.1105\n",
            "Epoch [3/10], Step [800/3079], Loss: 0.3379\n",
            "Epoch [3/10], Step [900/3079], Loss: 0.1917\n",
            "Epoch [3/10], Step [1000/3079], Loss: 0.2532\n",
            "Epoch [3/10], Step [1100/3079], Loss: 0.0601\n",
            "Epoch [3/10], Step [1200/3079], Loss: 0.0772\n",
            "Epoch [3/10], Step [1300/3079], Loss: 0.0336\n",
            "Epoch [3/10], Step [1400/3079], Loss: 0.0869\n",
            "Epoch [3/10], Step [1500/3079], Loss: 0.2053\n",
            "Epoch [3/10], Step [1600/3079], Loss: 0.1268\n",
            "Epoch [3/10], Step [1700/3079], Loss: 0.1378\n",
            "Epoch [3/10], Step [1800/3079], Loss: 0.0584\n",
            "Epoch [3/10], Step [1900/3079], Loss: 0.2411\n",
            "Epoch [3/10], Step [2000/3079], Loss: 0.0844\n",
            "Epoch [3/10], Step [2100/3079], Loss: 0.1728\n",
            "Epoch [3/10], Step [2200/3079], Loss: 0.2506\n",
            "Epoch [3/10], Step [2300/3079], Loss: 0.0167\n",
            "Epoch [3/10], Step [2400/3079], Loss: 0.2219\n",
            "Epoch [3/10], Step [2500/3079], Loss: 0.1761\n",
            "Epoch [3/10], Step [2600/3079], Loss: 0.1030\n",
            "Epoch [3/10], Step [2700/3079], Loss: 0.0226\n",
            "Epoch [3/10], Step [2800/3079], Loss: 0.0419\n",
            "Epoch [3/10], Step [2900/3079], Loss: 0.2522\n",
            "Epoch [3/10], Step [3000/3079], Loss: 0.0502\n"
          ]
        },
        {
          "metadata": {
            "tags": null
          },
          "name": "stderr",
          "output_type": "stream",
          "text": [
            "2023-12-09 00:00:08,955 - root - INFO - Accuracy: 97.01%\n",
            "2023-12-09 00:00:08,956 - root - INFO - Precision: 0.9694\n",
            "2023-12-09 00:00:08,956 - root - INFO - Recall: 0.9701\n",
            "2023-12-09 00:00:08,957 - root - INFO - F1 Score: 0.9680\n"
          ]
        },
        {
          "metadata": {
            "tags": null
          },
          "name": "stdout",
          "output_type": "stream",
          "text": [
            "Epoch [4/10], Step [100/3079], Loss: 0.2558\n",
            "Epoch [4/10], Step [200/3079], Loss: 0.1743\n",
            "Epoch [4/10], Step [300/3079], Loss: 0.2801\n",
            "Epoch [4/10], Step [400/3079], Loss: 0.0287\n",
            "Epoch [4/10], Step [500/3079], Loss: 0.1724\n",
            "Epoch [4/10], Step [600/3079], Loss: 0.0822\n",
            "Epoch [4/10], Step [700/3079], Loss: 0.0659\n",
            "Epoch [4/10], Step [800/3079], Loss: 0.0580\n",
            "Epoch [4/10], Step [900/3079], Loss: 0.1409\n",
            "Epoch [4/10], Step [1000/3079], Loss: 0.2091\n",
            "Epoch [4/10], Step [1100/3079], Loss: 0.0512\n",
            "Epoch [4/10], Step [1200/3079], Loss: 0.0266\n",
            "Epoch [4/10], Step [1300/3079], Loss: 0.0102\n",
            "Epoch [4/10], Step [1400/3079], Loss: 0.2369\n",
            "Epoch [4/10], Step [1500/3079], Loss: 0.1541\n",
            "Epoch [4/10], Step [1600/3079], Loss: 0.0988\n",
            "Epoch [4/10], Step [1700/3079], Loss: 0.0120\n",
            "Epoch [4/10], Step [1800/3079], Loss: 0.1891\n",
            "Epoch [4/10], Step [1900/3079], Loss: 0.0281\n",
            "Epoch [4/10], Step [2000/3079], Loss: 0.0374\n",
            "Epoch [4/10], Step [2100/3079], Loss: 0.0118\n",
            "Epoch [4/10], Step [2200/3079], Loss: 0.1663\n",
            "Epoch [4/10], Step [2300/3079], Loss: 0.0580\n",
            "Epoch [4/10], Step [2400/3079], Loss: 0.0746\n",
            "Epoch [4/10], Step [2500/3079], Loss: 0.2255\n",
            "Epoch [4/10], Step [2600/3079], Loss: 0.0448\n",
            "Epoch [4/10], Step [2700/3079], Loss: 0.0987\n",
            "Epoch [4/10], Step [2800/3079], Loss: 0.0333\n",
            "Epoch [4/10], Step [2900/3079], Loss: 0.0305\n",
            "Epoch [4/10], Step [3000/3079], Loss: 0.0227\n"
          ]
        },
        {
          "metadata": {
            "tags": null
          },
          "name": "stderr",
          "output_type": "stream",
          "text": [
            "2023-12-09 00:00:20,469 - root - INFO - Accuracy: 96.40%\n",
            "2023-12-09 00:00:20,470 - root - INFO - Precision: 0.9638\n",
            "2023-12-09 00:00:20,471 - root - INFO - Recall: 0.9640\n",
            "2023-12-09 00:00:20,472 - root - INFO - F1 Score: 0.9609\n"
          ]
        },
        {
          "metadata": {
            "tags": null
          },
          "name": "stdout",
          "output_type": "stream",
          "text": [
            "Epoch [5/10], Step [100/3079], Loss: 0.0092\n",
            "Epoch [5/10], Step [200/3079], Loss: 0.0762\n",
            "Epoch [5/10], Step [300/3079], Loss: 0.0193\n",
            "Epoch [5/10], Step [400/3079], Loss: 0.1697\n",
            "Epoch [5/10], Step [500/3079], Loss: 0.0334\n",
            "Epoch [5/10], Step [600/3079], Loss: 0.0762\n",
            "Epoch [5/10], Step [700/3079], Loss: 0.1434\n",
            "Epoch [5/10], Step [800/3079], Loss: 0.2122\n",
            "Epoch [5/10], Step [900/3079], Loss: 0.0088\n",
            "Epoch [5/10], Step [1000/3079], Loss: 0.0698\n",
            "Epoch [5/10], Step [1100/3079], Loss: 0.0108\n",
            "Epoch [5/10], Step [1200/3079], Loss: 0.1907\n",
            "Epoch [5/10], Step [1300/3079], Loss: 0.0079\n",
            "Epoch [5/10], Step [1400/3079], Loss: 0.0349\n",
            "Epoch [5/10], Step [1500/3079], Loss: 0.0298\n",
            "Epoch [5/10], Step [1600/3079], Loss: 0.2764\n",
            "Epoch [5/10], Step [1700/3079], Loss: 0.0082\n",
            "Epoch [5/10], Step [1800/3079], Loss: 0.2452\n",
            "Epoch [5/10], Step [1900/3079], Loss: 0.2108\n",
            "Epoch [5/10], Step [2000/3079], Loss: 0.0891\n",
            "Epoch [5/10], Step [2100/3079], Loss: 0.0367\n",
            "Epoch [5/10], Step [2200/3079], Loss: 0.0277\n",
            "Epoch [5/10], Step [2300/3079], Loss: 0.0305\n",
            "Epoch [5/10], Step [2400/3079], Loss: 0.5390\n",
            "Epoch [5/10], Step [2500/3079], Loss: 0.0237\n",
            "Epoch [5/10], Step [2600/3079], Loss: 0.0966\n",
            "Epoch [5/10], Step [2700/3079], Loss: 0.0248\n",
            "Epoch [5/10], Step [2800/3079], Loss: 0.2519\n",
            "Epoch [5/10], Step [2900/3079], Loss: 0.0400\n",
            "Epoch [5/10], Step [3000/3079], Loss: 0.1403\n"
          ]
        },
        {
          "metadata": {
            "tags": null
          },
          "name": "stderr",
          "output_type": "stream",
          "text": [
            "2023-12-09 00:00:31,940 - root - INFO - Accuracy: 97.49%\n",
            "2023-12-09 00:00:31,941 - root - INFO - Precision: 0.9743\n",
            "2023-12-09 00:00:31,942 - root - INFO - Recall: 0.9749\n",
            "2023-12-09 00:00:31,943 - root - INFO - F1 Score: 0.9733\n"
          ]
        },
        {
          "metadata": {
            "tags": null
          },
          "name": "stdout",
          "output_type": "stream",
          "text": [
            "Epoch [6/10], Step [100/3079], Loss: 0.1240\n",
            "Epoch [6/10], Step [200/3079], Loss: 0.0278\n",
            "Epoch [6/10], Step [300/3079], Loss: 0.0112\n",
            "Epoch [6/10], Step [400/3079], Loss: 0.2422\n",
            "Epoch [6/10], Step [500/3079], Loss: 0.0256\n",
            "Epoch [6/10], Step [600/3079], Loss: 0.0691\n",
            "Epoch [6/10], Step [700/3079], Loss: 0.1029\n",
            "Epoch [6/10], Step [800/3079], Loss: 0.0215\n",
            "Epoch [6/10], Step [900/3079], Loss: 0.2194\n",
            "Epoch [6/10], Step [1000/3079], Loss: 0.0088\n",
            "Epoch [6/10], Step [1100/3079], Loss: 0.0396\n",
            "Epoch [6/10], Step [1200/3079], Loss: 0.1620\n",
            "Epoch [6/10], Step [1300/3079], Loss: 0.0339\n",
            "Epoch [6/10], Step [1400/3079], Loss: 0.0402\n",
            "Epoch [6/10], Step [1500/3079], Loss: 0.0884\n",
            "Epoch [6/10], Step [1600/3079], Loss: 0.1052\n",
            "Epoch [6/10], Step [1700/3079], Loss: 0.0649\n",
            "Epoch [6/10], Step [1800/3079], Loss: 0.3802\n",
            "Epoch [6/10], Step [1900/3079], Loss: 0.0425\n",
            "Epoch [6/10], Step [2000/3079], Loss: 0.0250\n",
            "Epoch [6/10], Step [2100/3079], Loss: 0.0460\n",
            "Epoch [6/10], Step [2200/3079], Loss: 0.1092\n",
            "Epoch [6/10], Step [2300/3079], Loss: 0.2840\n",
            "Epoch [6/10], Step [2400/3079], Loss: 0.0179\n",
            "Epoch [6/10], Step [2500/3079], Loss: 0.0434\n",
            "Epoch [6/10], Step [2600/3079], Loss: 0.1139\n",
            "Epoch [6/10], Step [2700/3079], Loss: 0.0165\n",
            "Epoch [6/10], Step [2800/3079], Loss: 0.1867\n",
            "Epoch [6/10], Step [2900/3079], Loss: 0.0497\n",
            "Epoch [6/10], Step [3000/3079], Loss: 0.0751\n"
          ]
        },
        {
          "metadata": {
            "tags": null
          },
          "name": "stderr",
          "output_type": "stream",
          "text": [
            "2023-12-09 00:00:43,441 - root - INFO - Accuracy: 97.67%\n",
            "2023-12-09 00:00:43,442 - root - INFO - Precision: 0.9761\n",
            "2023-12-09 00:00:43,443 - root - INFO - Recall: 0.9767\n",
            "2023-12-09 00:00:43,444 - root - INFO - F1 Score: 0.9759\n"
          ]
        },
        {
          "metadata": {
            "tags": null
          },
          "name": "stdout",
          "output_type": "stream",
          "text": [
            "Epoch [7/10], Step [100/3079], Loss: 0.0309\n",
            "Epoch [7/10], Step [200/3079], Loss: 0.2791\n",
            "Epoch [7/10], Step [300/3079], Loss: 0.0691\n",
            "Epoch [7/10], Step [400/3079], Loss: 0.0202\n",
            "Epoch [7/10], Step [500/3079], Loss: 0.0526\n",
            "Epoch [7/10], Step [600/3079], Loss: 0.1289\n",
            "Epoch [7/10], Step [700/3079], Loss: 0.2706\n",
            "Epoch [7/10], Step [800/3079], Loss: 0.1228\n",
            "Epoch [7/10], Step [900/3079], Loss: 0.1227\n",
            "Epoch [7/10], Step [1000/3079], Loss: 0.0359\n",
            "Epoch [7/10], Step [1100/3079], Loss: 0.0183\n",
            "Epoch [7/10], Step [1200/3079], Loss: 0.0095\n",
            "Epoch [7/10], Step [1300/3079], Loss: 0.0284\n",
            "Epoch [7/10], Step [1400/3079], Loss: 0.0234\n",
            "Epoch [7/10], Step [1500/3079], Loss: 0.2247\n",
            "Epoch [7/10], Step [1600/3079], Loss: 0.1118\n",
            "Epoch [7/10], Step [1700/3079], Loss: 0.0177\n",
            "Epoch [7/10], Step [1800/3079], Loss: 0.0231\n",
            "Epoch [7/10], Step [1900/3079], Loss: 0.0789\n",
            "Epoch [7/10], Step [2000/3079], Loss: 0.0814\n",
            "Epoch [7/10], Step [2100/3079], Loss: 0.0253\n",
            "Epoch [7/10], Step [2200/3079], Loss: 0.1846\n",
            "Epoch [7/10], Step [2300/3079], Loss: 0.1987\n",
            "Epoch [7/10], Step [2400/3079], Loss: 0.0921\n",
            "Epoch [7/10], Step [2500/3079], Loss: 0.3475\n",
            "Epoch [7/10], Step [2600/3079], Loss: 0.0406\n",
            "Epoch [7/10], Step [2700/3079], Loss: 0.2195\n",
            "Epoch [7/10], Step [2800/3079], Loss: 0.0179\n",
            "Epoch [7/10], Step [2900/3079], Loss: 0.0296\n",
            "Epoch [7/10], Step [3000/3079], Loss: 0.3213\n"
          ]
        },
        {
          "metadata": {
            "tags": null
          },
          "name": "stderr",
          "output_type": "stream",
          "text": [
            "2023-12-09 00:00:54,890 - root - INFO - Accuracy: 97.42%\n",
            "2023-12-09 00:00:54,891 - root - INFO - Precision: 0.9738\n",
            "2023-12-09 00:00:54,892 - root - INFO - Recall: 0.9742\n",
            "2023-12-09 00:00:54,893 - root - INFO - F1 Score: 0.9724\n"
          ]
        },
        {
          "metadata": {
            "tags": null
          },
          "name": "stdout",
          "output_type": "stream",
          "text": [
            "Epoch [8/10], Step [100/3079], Loss: 0.0070\n",
            "Epoch [8/10], Step [200/3079], Loss: 0.0618\n",
            "Epoch [8/10], Step [300/3079], Loss: 0.0488\n",
            "Epoch [8/10], Step [400/3079], Loss: 0.2429\n",
            "Epoch [8/10], Step [500/3079], Loss: 0.0107\n",
            "Epoch [8/10], Step [600/3079], Loss: 0.0163\n",
            "Epoch [8/10], Step [700/3079], Loss: 0.0913\n",
            "Epoch [8/10], Step [800/3079], Loss: 0.1478\n",
            "Epoch [8/10], Step [900/3079], Loss: 0.0157\n",
            "Epoch [8/10], Step [1000/3079], Loss: 0.0185\n",
            "Epoch [8/10], Step [1100/3079], Loss: 0.0807\n",
            "Epoch [8/10], Step [1200/3079], Loss: 0.0111\n",
            "Epoch [8/10], Step [1300/3079], Loss: 0.1054\n",
            "Epoch [8/10], Step [1400/3079], Loss: 0.0318\n",
            "Epoch [8/10], Step [1500/3079], Loss: 0.0149\n",
            "Epoch [8/10], Step [1600/3079], Loss: 0.1699\n",
            "Epoch [8/10], Step [1700/3079], Loss: 0.0176\n",
            "Epoch [8/10], Step [1800/3079], Loss: 0.0930\n",
            "Epoch [8/10], Step [1900/3079], Loss: 0.1136\n",
            "Epoch [8/10], Step [2000/3079], Loss: 0.0223\n",
            "Epoch [8/10], Step [2100/3079], Loss: 0.1789\n",
            "Epoch [8/10], Step [2200/3079], Loss: 0.1115\n",
            "Epoch [8/10], Step [2300/3079], Loss: 0.0189\n",
            "Epoch [8/10], Step [2400/3079], Loss: 0.1056\n",
            "Epoch [8/10], Step [2500/3079], Loss: 0.0177\n",
            "Epoch [8/10], Step [2600/3079], Loss: 0.0199\n",
            "Epoch [8/10], Step [2700/3079], Loss: 0.1058\n",
            "Epoch [8/10], Step [2800/3079], Loss: 0.0445\n",
            "Epoch [8/10], Step [2900/3079], Loss: 0.0160\n",
            "Epoch [8/10], Step [3000/3079], Loss: 0.1202\n"
          ]
        },
        {
          "metadata": {
            "tags": null
          },
          "name": "stderr",
          "output_type": "stream",
          "text": [
            "2023-12-09 00:01:06,420 - root - INFO - Accuracy: 97.55%\n",
            "2023-12-09 00:01:06,421 - root - INFO - Precision: 0.9752\n",
            "2023-12-09 00:01:06,422 - root - INFO - Recall: 0.9755\n",
            "2023-12-09 00:01:06,423 - root - INFO - F1 Score: 0.9736\n"
          ]
        },
        {
          "output_type": "stream",
          "name": "stdout",
          "text": [
            "Epoch [9/10], Step [100/3079], Loss: 0.0394\n",
            "Epoch [9/10], Step [200/3079], Loss: 0.0247\n",
            "Epoch [9/10], Step [300/3079], Loss: 0.0563\n",
            "Epoch [9/10], Step [400/3079], Loss: 0.0128\n",
            "Epoch [9/10], Step [500/3079], Loss: 0.0199\n",
            "Epoch [9/10], Step [600/3079], Loss: 0.2099\n",
            "Epoch [9/10], Step [700/3079], Loss: 0.3373\n",
            "Epoch [9/10], Step [800/3079], Loss: 0.0223\n",
            "Epoch [9/10], Step [900/3079], Loss: 0.1298\n",
            "Epoch [9/10], Step [1000/3079], Loss: 0.1519\n",
            "Epoch [9/10], Step [1100/3079], Loss: 0.0697\n",
            "Epoch [9/10], Step [1200/3079], Loss: 0.0610\n",
            "Epoch [9/10], Step [1300/3079], Loss: 0.0364\n",
            "Epoch [9/10], Step [1400/3079], Loss: 0.0595\n",
            "Epoch [9/10], Step [1500/3079], Loss: 0.0746\n",
            "Epoch [9/10], Step [1600/3079], Loss: 0.0327\n",
            "Epoch [9/10], Step [1700/3079], Loss: 0.0371\n",
            "Epoch [9/10], Step [1800/3079], Loss: 0.0383\n",
            "Epoch [9/10], Step [1900/3079], Loss: 0.1198\n",
            "Epoch [9/10], Step [2000/3079], Loss: 0.0334\n",
            "Epoch [9/10], Step [2100/3079], Loss: 0.2200\n",
            "Epoch [9/10], Step [2200/3079], Loss: 0.0084\n",
            "Epoch [9/10], Step [2300/3079], Loss: 0.1773\n",
            "Epoch [9/10], Step [2400/3079], Loss: 0.0488\n",
            "Epoch [9/10], Step [2500/3079], Loss: 0.0778\n",
            "Epoch [9/10], Step [2600/3079], Loss: 0.0949\n",
            "Epoch [9/10], Step [2700/3079], Loss: 0.0722\n",
            "Epoch [9/10], Step [2800/3079], Loss: 0.1175\n",
            "Epoch [9/10], Step [2900/3079], Loss: 0.0087\n",
            "Epoch [9/10], Step [3000/3079], Loss: 0.1474\n"
          ]
        },
        {
          "output_type": "stream",
          "name": "stderr",
          "text": [
            "2023-12-09 00:01:18,029 - root - INFO - Accuracy: 97.95%\n",
            "2023-12-09 00:01:18,030 - root - INFO - Precision: 0.9789\n",
            "2023-12-09 00:01:18,031 - root - INFO - Recall: 0.9795\n",
            "2023-12-09 00:01:18,032 - root - INFO - F1 Score: 0.9789\n"
          ]
        },
        {
          "output_type": "stream",
          "name": "stdout",
          "text": [
            "Epoch [10/10], Step [100/3079], Loss: 0.0304\n",
            "Epoch [10/10], Step [200/3079], Loss: 0.0211\n",
            "Epoch [10/10], Step [300/3079], Loss: 0.1554\n",
            "Epoch [10/10], Step [400/3079], Loss: 0.0079\n",
            "Epoch [10/10], Step [500/3079], Loss: 0.0098\n",
            "Epoch [10/10], Step [600/3079], Loss: 0.0566\n",
            "Epoch [10/10], Step [700/3079], Loss: 0.0237\n",
            "Epoch [10/10], Step [800/3079], Loss: 0.0170\n",
            "Epoch [10/10], Step [900/3079], Loss: 0.1556\n",
            "Epoch [10/10], Step [1000/3079], Loss: 0.0192\n",
            "Epoch [10/10], Step [1100/3079], Loss: 0.0990\n",
            "Epoch [10/10], Step [1200/3079], Loss: 0.0389\n",
            "Epoch [10/10], Step [1300/3079], Loss: 0.0047\n",
            "Epoch [10/10], Step [1400/3079], Loss: 0.0180\n",
            "Epoch [10/10], Step [1500/3079], Loss: 0.0593\n",
            "Epoch [10/10], Step [1600/3079], Loss: 0.0083\n",
            "Epoch [10/10], Step [1700/3079], Loss: 0.2734\n",
            "Epoch [10/10], Step [1800/3079], Loss: 0.4334\n",
            "Epoch [10/10], Step [1900/3079], Loss: 0.0285\n",
            "Epoch [10/10], Step [2000/3079], Loss: 0.0164\n",
            "Epoch [10/10], Step [2100/3079], Loss: 0.2615\n",
            "Epoch [10/10], Step [2200/3079], Loss: 0.2806\n",
            "Epoch [10/10], Step [2300/3079], Loss: 0.1575\n",
            "Epoch [10/10], Step [2400/3079], Loss: 0.1453\n",
            "Epoch [10/10], Step [2500/3079], Loss: 0.0954\n",
            "Epoch [10/10], Step [2600/3079], Loss: 0.0312\n",
            "Epoch [10/10], Step [2700/3079], Loss: 0.1083\n",
            "Epoch [10/10], Step [2800/3079], Loss: 0.1005\n",
            "Epoch [10/10], Step [2900/3079], Loss: 0.1829\n",
            "Epoch [10/10], Step [3000/3079], Loss: 0.1337\n"
          ]
        },
        {
          "output_type": "stream",
          "name": "stderr",
          "text": [
            "2023-12-09 00:01:29,305 - root - INFO - Accuracy: 96.79%\n",
            "2023-12-09 00:01:29,306 - root - INFO - Precision: 0.9710\n",
            "2023-12-09 00:01:29,306 - root - INFO - Recall: 0.9679\n",
            "2023-12-09 00:01:29,307 - root - INFO - F1 Score: 0.9690\n"
          ]
        },
        {
          "output_type": "stream",
          "name": "stdout",
          "text": [
            "Epoch 1 - Avg Accuracy: 0.9509530457310476, Avg Precision: 0.9498163621655529, Avg Recall: 0.9509530457310476, Avg F1 Score: 0.9449584195711462, Avg Loss: 0.24877873106770998\n",
            "Epoch 2 - Avg Accuracy: 0.9596697076891637, Avg Precision: 0.9598019850669622, Avg Recall: 0.9596697076891637, Avg F1 Score: 0.9558889475449437, Avg Loss: 0.14334927290793267\n",
            "Epoch 3 - Avg Accuracy: 0.9685598647143212, Avg Precision: 0.96782469277047, Avg Recall: 0.9685598647143212, Avg F1 Score: 0.96648862339601, Avg Loss: 0.11932099275222909\n",
            "Epoch 4 - Avg Accuracy: 0.9703963698075706, Avg Precision: 0.9697460111922858, Avg Recall: 0.9703963698075706, Avg F1 Score: 0.9683490946733133, Avg Loss: 0.10692773379957755\n",
            "Epoch 5 - Avg Accuracy: 0.9676371190081186, Avg Precision: 0.9694377420029342, Avg Recall: 0.9676371190081186, Avg F1 Score: 0.9673707736609638, Avg Loss: 0.09855373954719834\n",
            "Epoch 6 - Avg Accuracy: 0.9739140863140797, Avg Precision: 0.973618403723188, Avg Recall: 0.9739140863140797, Avg F1 Score: 0.9729798233726115, Avg Loss: 0.09263825593314706\n",
            "Epoch 7 - Avg Accuracy: 0.9732837224065569, Avg Precision: 0.9731566946266801, Avg Recall: 0.9732837224065569, Avg F1 Score: 0.9718428329585187, Avg Loss: 0.08805953906166188\n",
            "Epoch 8 - Avg Accuracy: 0.9752937634744695, Avg Precision: 0.9748292606417218, Avg Recall: 0.9752937634744695, Avg F1 Score: 0.9740321196812989, Avg Loss: 0.08378103991574781\n",
            "Epoch 9 - Avg Accuracy: 0.9767648299311549, Avg Precision: 0.9762780937415874, Avg Recall: 0.9767648299311549, Avg F1 Score: 0.976088297790696, Avg Loss: 0.08042597379084748\n",
            "Epoch 10 - Avg Accuracy: 0.976335306583422, Avg Precision: 0.9761580385934222, Avg Recall: 0.976335306583422, Avg F1 Score: 0.9755123879454548, Avg Loss: 0.07686593775919431\n"
          ]
        }
      ],
      "source": [
        "epoch_acc, epoch_prc, epoch_rec, epoch_f1, epoch_losses = [], [], [], [], []\n",
        "\n",
        "for fold, (train_ids, test_ids) in enumerate(kfold.split(dataset, dataset_y)):\n",
        "    print(f\"FOLD {fold}\")\n",
        "    print(\"--------------------------------\")\n",
        "\n",
        "    # store metrics of each fold\n",
        "    accuracies, precisions, recalls, f1_scores, losses = [], [], [], [], []\n",
        "\n",
        "    # split data\n",
        "    train_subsampler = torch.utils.data.SubsetRandomSampler(train_ids)\n",
        "    test_subsampler = torch.utils.data.SubsetRandomSampler(test_ids)\n",
        "\n",
        "    # data loaders for training and testing data in this fold\n",
        "    train_loader = DataLoader(dataset, batch_size=batch_size, sampler=train_subsampler)\n",
        "    test_loader = DataLoader(dataset, batch_size=batch_size, sampler=test_subsampler)\n",
        "\n",
        "    # set parameters\n",
        "    #input_dim = 1         # ECG data is univariate, so the input dimension is 1\n",
        "    #hidden_dim = 128\n",
        "    #num_layers = 2\n",
        "    num_classes = 5\n",
        "\n",
        "    # initialize model for this fold\n",
        "    model = OSCNN(num_classes)\n",
        "    model.to(device)\n",
        "    print(model)\n",
        "\n",
        "    # loss function and optimizer\n",
        "    criterion = nn.CrossEntropyLoss()\n",
        "    optimizer = optim.Adam(model.parameters(), lr=0.001)\n",
        "\n",
        "\n",
        "    # train\n",
        "    for epoch in range(num_epochs):\n",
        "        model.train()\n",
        "        batch_losses = []\n",
        "\n",
        "        for i, (inputs, labels) in enumerate(train_loader):\n",
        "            inputs, labels = inputs.to(device), labels.to(device)\n",
        "\n",
        "            optimizer.zero_grad()\n",
        "            outputs = model(inputs)\n",
        "            loss = criterion(outputs, labels)\n",
        "            loss.backward()\n",
        "            optimizer.step()\n",
        "\n",
        "            batch_losses.append(loss.item())\n",
        "\n",
        "            if (i+1) % 100 == 0:\n",
        "                print(f\"Epoch [{epoch+1}/{num_epochs}], Step [{i+1}/{len(train_loader)}], Loss: {loss.item():.4f}\")\n",
        "\n",
        "        # store metrics\n",
        "        accuracy, precision, recall, f1, _, _ = evaluate(model, test_loader)\n",
        "        accuracies.append(accuracy)\n",
        "        precisions.append(precision)\n",
        "        recalls.append(recall)\n",
        "        f1_scores.append(f1)\n",
        "\n",
        "        # Accumulate metrics for each epoch across folds\n",
        "        if fold == 0:\n",
        "            # Initialize lists in the first fold\n",
        "            epoch_acc.append(accuracy)\n",
        "            epoch_prc.append(precision)\n",
        "            epoch_rec.append(recall)\n",
        "            epoch_f1.append(f1)\n",
        "            epoch_losses.append(batch_losses)\n",
        "        else:\n",
        "            # Add to existing totals for subsequent folds\n",
        "            epoch_acc[epoch] += accuracy\n",
        "            epoch_prc[epoch] += precision\n",
        "            epoch_rec[epoch] += recall\n",
        "            epoch_f1[epoch] += f1\n",
        "            epoch_losses[epoch].extend(batch_losses)\n",
        "\n",
        "# Average metrics across all folds for each epoch\n",
        "epoch_acc = [x / k_folds for x in epoch_acc]\n",
        "epoch_prc = [x / k_folds for x in epoch_prc]\n",
        "epoch_rec = [x / k_folds for x in epoch_rec]\n",
        "epoch_f1 = [x / k_folds for x in epoch_f1]\n",
        "epoch_losses = [sum(x) / len(x) for x in epoch_losses]\n",
        "\n",
        "# Print average metrics for each epoch\n",
        "for epoch in range(num_epochs):\n",
        "    print(f\"Epoch {epoch+1} - Avg Accuracy: {epoch_acc[epoch]}, Avg Precision: {epoch_prc[epoch]}, Avg Recall: {epoch_rec[epoch]}, Avg F1 Score: {epoch_f1[epoch]}, Avg Loss: {epoch_losses[epoch]}\")"
      ]
    },
    {
      "cell_type": "code",
      "source": [
        "plot_metrics(epoch_acc, epoch_prc, epoch_rec, epoch_f1, epoch_losses, \"oscnn_metrics\")"
      ],
      "metadata": {
        "colab": {
          "base_uri": "https://localhost:8080/",
          "height": 591
        },
        "id": "VXusDnvnU43W",
        "outputId": "7e50da09-a8d6-425a-d035-4b123a8985e2"
      },
      "execution_count": 11,
      "outputs": [
        {
          "output_type": "display_data",
          "data": {
            "text/plain": [
              "<Figure size 1200x800 with 2 Axes>"
            ],
            "image/png": "[encoded data removed]"
          },
          "metadata": {}
        }
      ]
    },
    {
      "cell_type": "markdown",
      "metadata": {
        "id": "8H-W0Bxa4MQD"
      },
      "source": [
        "# OSCNN with Attention Experiment\n",
        "### Description\n",
        "Use Stratified K-Fold Cross Validation to evaluate the OSCNN+Attention model."
      ]
    },
    {
      "cell_type": "code",
      "execution_count": 12,
      "metadata": {
        "colab": {
          "base_uri": "https://localhost:8080/"
        },
        "outputId": "24ece35c-0936-417a-d72c-f4f47e450f45",
        "id": "_9e2679hkkpI"
      },
      "outputs": [
        {
          "metadata": {
            "tags": null
          },
          "name": "stdout",
          "output_type": "stream",
          "text": [
            "FOLD 0\n",
            "--------------------------------\n",
            "AttentionOSCNN(\n",
            "  (conv1): Conv1d(1, 128, kernel_size=(8,), stride=(1,), padding=same)\n",
            "  (bn1): BatchNorm1d(128, eps=1e-05, momentum=0.1, affine=True, track_running_stats=True)\n",
            "  (conv2): Conv1d(128, 256, kernel_size=(5,), stride=(1,), padding=same)\n",
            "  (bn2): BatchNorm1d(256, eps=1e-05, momentum=0.1, affine=True, track_running_stats=True)\n",
            "  (conv3): Conv1d(256, 128, kernel_size=(3,), stride=(1,), padding=same)\n",
            "  (bn3): BatchNorm1d(128, eps=1e-05, momentum=0.1, affine=True, track_running_stats=True)\n",
            "  (intermediate): Linear(in_features=1, out_features=128, bias=True)\n",
            "  (dropout): Dropout(p=0.8, inplace=False)\n",
            "  (attention): SelfAttention(\n",
            "    (query): Linear(in_features=128, out_features=128, bias=True)\n",
            "    (key): Linear(in_features=128, out_features=128, bias=True)\n",
            "    (value): Linear(in_features=128, out_features=128, bias=True)\n",
            "  )\n",
            "  (avg_pool): AdaptiveAvgPool1d(output_size=1)\n",
            "  (fc): Linear(in_features=256, out_features=5, bias=True)\n",
            ")\n",
            "Epoch [1/10], Step [100/3079], Loss: 0.5182\n",
            "Epoch [1/10], Step [200/3079], Loss: 0.2756\n",
            "Epoch [1/10], Step [300/3079], Loss: 0.3840\n",
            "Epoch [1/10], Step [400/3079], Loss: 0.4235\n",
            "Epoch [1/10], Step [500/3079], Loss: 0.2071\n",
            "Epoch [1/10], Step [600/3079], Loss: 0.2640\n",
            "Epoch [1/10], Step [700/3079], Loss: 0.3186\n",
            "Epoch [1/10], Step [800/3079], Loss: 0.2420\n",
            "Epoch [1/10], Step [900/3079], Loss: 0.2256\n",
            "Epoch [1/10], Step [1000/3079], Loss: 0.2742\n",
            "Epoch [1/10], Step [1100/3079], Loss: 0.2237\n",
            "Epoch [1/10], Step [1200/3079], Loss: 0.2068\n",
            "Epoch [1/10], Step [1300/3079], Loss: 0.0830\n",
            "Epoch [1/10], Step [1400/3079], Loss: 0.2151\n",
            "Epoch [1/10], Step [1500/3079], Loss: 0.2876\n",
            "Epoch [1/10], Step [1600/3079], Loss: 0.0434\n",
            "Epoch [1/10], Step [1700/3079], Loss: 0.1849\n",
            "Epoch [1/10], Step [1800/3079], Loss: 0.1799\n",
            "Epoch [1/10], Step [1900/3079], Loss: 0.0811\n",
            "Epoch [1/10], Step [2000/3079], Loss: 0.1096\n",
            "Epoch [1/10], Step [2100/3079], Loss: 0.2895\n",
            "Epoch [1/10], Step [2200/3079], Loss: 0.4026\n",
            "Epoch [1/10], Step [2300/3079], Loss: 0.0395\n",
            "Epoch [1/10], Step [2400/3079], Loss: 0.1021\n",
            "Epoch [1/10], Step [2500/3079], Loss: 0.3079\n",
            "Epoch [1/10], Step [2600/3079], Loss: 0.1169\n",
            "Epoch [1/10], Step [2700/3079], Loss: 0.1337\n",
            "Epoch [1/10], Step [2800/3079], Loss: 0.1959\n",
            "Epoch [1/10], Step [2900/3079], Loss: 0.4573\n",
            "Epoch [1/10], Step [3000/3079], Loss: 0.0615\n"
          ]
        },
        {
          "metadata": {
            "tags": null
          },
          "name": "stderr",
          "output_type": "stream",
          "text": [
            "/usr/local/lib/python3.10/dist-packages/sklearn/metrics/_classification.py:1344: UndefinedMetricWarning: Precision is ill-defined and being set to 0.0 in labels with no predicted samples. Use `zero_division` parameter to control this behavior.\n",
            "  _warn_prf(average, modifier, msg_start, len(result))\n",
            "2023-12-09 00:01:45,670 - root - INFO - Accuracy: 95.68%\n",
            "2023-12-09 00:01:45,670 - root - INFO - Precision: 0.9485\n",
            "2023-12-09 00:01:45,671 - root - INFO - Recall: 0.9568\n",
            "2023-12-09 00:01:45,672 - root - INFO - F1 Score: 0.9511\n"
          ]
        },
        {
          "metadata": {
            "tags": null
          },
          "name": "stdout",
          "output_type": "stream",
          "text": [
            "Epoch [2/10], Step [100/3079], Loss: 0.0569\n",
            "Epoch [2/10], Step [200/3079], Loss: 0.1950\n",
            "Epoch [2/10], Step [300/3079], Loss: 0.2922\n",
            "Epoch [2/10], Step [400/3079], Loss: 0.2795\n",
            "Epoch [2/10], Step [500/3079], Loss: 0.0998\n",
            "Epoch [2/10], Step [600/3079], Loss: 0.1697\n",
            "Epoch [2/10], Step [700/3079], Loss: 0.2528\n",
            "Epoch [2/10], Step [800/3079], Loss: 0.0623\n",
            "Epoch [2/10], Step [900/3079], Loss: 0.2692\n",
            "Epoch [2/10], Step [1000/3079], Loss: 0.0776\n",
            "Epoch [2/10], Step [1100/3079], Loss: 0.2240\n",
            "Epoch [2/10], Step [1200/3079], Loss: 0.2232\n",
            "Epoch [2/10], Step [1300/3079], Loss: 0.1176\n",
            "Epoch [2/10], Step [1400/3079], Loss: 0.2716\n",
            "Epoch [2/10], Step [1500/3079], Loss: 0.2188\n",
            "Epoch [2/10], Step [1600/3079], Loss: 0.1826\n",
            "Epoch [2/10], Step [1700/3079], Loss: 0.0406\n",
            "Epoch [2/10], Step [1800/3079], Loss: 0.1349\n",
            "Epoch [2/10], Step [1900/3079], Loss: 0.2905\n",
            "Epoch [2/10], Step [2000/3079], Loss: 0.0732\n",
            "Epoch [2/10], Step [2100/3079], Loss: 0.1574\n",
            "Epoch [2/10], Step [2200/3079], Loss: 0.0397\n",
            "Epoch [2/10], Step [2300/3079], Loss: 0.2635\n",
            "Epoch [2/10], Step [2400/3079], Loss: 0.2127\n",
            "Epoch [2/10], Step [2500/3079], Loss: 0.2147\n",
            "Epoch [2/10], Step [2600/3079], Loss: 0.1826\n",
            "Epoch [2/10], Step [2700/3079], Loss: 0.0958\n",
            "Epoch [2/10], Step [2800/3079], Loss: 0.2703\n",
            "Epoch [2/10], Step [2900/3079], Loss: 0.1056\n",
            "Epoch [2/10], Step [3000/3079], Loss: 0.0957\n"
          ]
        },
        {
          "metadata": {
            "tags": null
          },
          "name": "stderr",
          "output_type": "stream",
          "text": [
            "2023-12-09 00:02:01,644 - root - INFO - Accuracy: 95.46%\n",
            "2023-12-09 00:02:01,645 - root - INFO - Precision: 0.9575\n",
            "2023-12-09 00:02:01,645 - root - INFO - Recall: 0.9546\n",
            "2023-12-09 00:02:01,646 - root - INFO - F1 Score: 0.9546\n"
          ]
        },
        {
          "metadata": {
            "tags": null
          },
          "name": "stdout",
          "output_type": "stream",
          "text": [
            "Epoch [3/10], Step [100/3079], Loss: 0.3784\n",
            "Epoch [3/10], Step [200/3079], Loss: 0.0325\n",
            "Epoch [3/10], Step [300/3079], Loss: 0.3652\n",
            "Epoch [3/10], Step [400/3079], Loss: 0.0563\n",
            "Epoch [3/10], Step [500/3079], Loss: 0.0346\n",
            "Epoch [3/10], Step [600/3079], Loss: 0.0237\n",
            "Epoch [3/10], Step [700/3079], Loss: 0.1026\n",
            "Epoch [3/10], Step [800/3079], Loss: 0.0274\n",
            "Epoch [3/10], Step [900/3079], Loss: 0.0367\n",
            "Epoch [3/10], Step [1000/3079], Loss: 0.1395\n",
            "Epoch [3/10], Step [1100/3079], Loss: 0.1045\n",
            "Epoch [3/10], Step [1200/3079], Loss: 0.2161\n",
            "Epoch [3/10], Step [1300/3079], Loss: 0.0617\n",
            "Epoch [3/10], Step [1400/3079], Loss: 0.1221\n",
            "Epoch [3/10], Step [1500/3079], Loss: 0.1355\n",
            "Epoch [3/10], Step [1600/3079], Loss: 0.2200\n",
            "Epoch [3/10], Step [1700/3079], Loss: 0.0963\n",
            "Epoch [3/10], Step [1800/3079], Loss: 0.0618\n",
            "Epoch [3/10], Step [1900/3079], Loss: 0.1070\n",
            "Epoch [3/10], Step [2000/3079], Loss: 0.0859\n",
            "Epoch [3/10], Step [2100/3079], Loss: 0.0897\n",
            "Epoch [3/10], Step [2200/3079], Loss: 0.0805\n",
            "Epoch [3/10], Step [2300/3079], Loss: 0.0379\n",
            "Epoch [3/10], Step [2400/3079], Loss: 0.0755\n",
            "Epoch [3/10], Step [2500/3079], Loss: 0.0665\n",
            "Epoch [3/10], Step [2600/3079], Loss: 0.0148\n",
            "Epoch [3/10], Step [2700/3079], Loss: 0.3003\n",
            "Epoch [3/10], Step [2800/3079], Loss: 0.0984\n",
            "Epoch [3/10], Step [2900/3079], Loss: 0.2143\n",
            "Epoch [3/10], Step [3000/3079], Loss: 0.0095\n"
          ]
        },
        {
          "metadata": {
            "tags": null
          },
          "name": "stderr",
          "output_type": "stream",
          "text": [
            "2023-12-09 00:02:17,243 - root - INFO - Accuracy: 96.87%\n",
            "2023-12-09 00:02:17,244 - root - INFO - Precision: 0.9683\n",
            "2023-12-09 00:02:17,245 - root - INFO - Recall: 0.9687\n",
            "2023-12-09 00:02:17,245 - root - INFO - F1 Score: 0.9657\n"
          ]
        },
        {
          "metadata": {
            "tags": null
          },
          "name": "stdout",
          "output_type": "stream",
          "text": [
            "Epoch [4/10], Step [100/3079], Loss: 0.1258\n",
            "Epoch [4/10], Step [200/3079], Loss: 0.0848\n",
            "Epoch [4/10], Step [300/3079], Loss: 0.0295\n",
            "Epoch [4/10], Step [400/3079], Loss: 0.0641\n",
            "Epoch [4/10], Step [500/3079], Loss: 0.0141\n",
            "Epoch [4/10], Step [600/3079], Loss: 0.0420\n",
            "Epoch [4/10], Step [700/3079], Loss: 0.1450\n",
            "Epoch [4/10], Step [800/3079], Loss: 0.1098\n",
            "Epoch [4/10], Step [900/3079], Loss: 0.1685\n",
            "Epoch [4/10], Step [1000/3079], Loss: 0.3422\n",
            "Epoch [4/10], Step [1100/3079], Loss: 0.0098\n",
            "Epoch [4/10], Step [1200/3079], Loss: 0.0405\n",
            "Epoch [4/10], Step [1300/3079], Loss: 0.1834\n",
            "Epoch [4/10], Step [1400/3079], Loss: 0.1007\n",
            "Epoch [4/10], Step [1500/3079], Loss: 0.1686\n",
            "Epoch [4/10], Step [1600/3079], Loss: 0.0289\n",
            "Epoch [4/10], Step [1700/3079], Loss: 0.0443\n",
            "Epoch [4/10], Step [1800/3079], Loss: 0.0394\n",
            "Epoch [4/10], Step [1900/3079], Loss: 0.0490\n",
            "Epoch [4/10], Step [2000/3079], Loss: 0.0975\n",
            "Epoch [4/10], Step [2100/3079], Loss: 0.0471\n",
            "Epoch [4/10], Step [2200/3079], Loss: 0.1712\n",
            "Epoch [4/10], Step [2300/3079], Loss: 0.0736\n",
            "Epoch [4/10], Step [2400/3079], Loss: 0.2941\n",
            "Epoch [4/10], Step [2500/3079], Loss: 0.2430\n",
            "Epoch [4/10], Step [2600/3079], Loss: 0.0463\n",
            "Epoch [4/10], Step [2700/3079], Loss: 0.3318\n",
            "Epoch [4/10], Step [2800/3079], Loss: 0.0726\n",
            "Epoch [4/10], Step [2900/3079], Loss: 0.0298\n",
            "Epoch [4/10], Step [3000/3079], Loss: 0.2018\n"
          ]
        },
        {
          "metadata": {
            "tags": null
          },
          "name": "stderr",
          "output_type": "stream",
          "text": [
            "2023-12-09 00:02:32,751 - root - INFO - Accuracy: 97.46%\n",
            "2023-12-09 00:02:32,752 - root - INFO - Precision: 0.9745\n",
            "2023-12-09 00:02:32,753 - root - INFO - Recall: 0.9746\n",
            "2023-12-09 00:02:32,754 - root - INFO - F1 Score: 0.9735\n"
          ]
        },
        {
          "metadata": {
            "tags": null
          },
          "name": "stdout",
          "output_type": "stream",
          "text": [
            "Epoch [5/10], Step [100/3079], Loss: 0.0881\n",
            "Epoch [5/10], Step [200/3079], Loss: 0.0757\n",
            "Epoch [5/10], Step [300/3079], Loss: 0.0437\n",
            "Epoch [5/10], Step [400/3079], Loss: 0.0292\n",
            "Epoch [5/10], Step [500/3079], Loss: 0.1306\n",
            "Epoch [5/10], Step [600/3079], Loss: 0.1408\n",
            "Epoch [5/10], Step [700/3079], Loss: 0.0205\n",
            "Epoch [5/10], Step [800/3079], Loss: 0.2628\n",
            "Epoch [5/10], Step [900/3079], Loss: 0.0448\n",
            "Epoch [5/10], Step [1000/3079], Loss: 0.1824\n",
            "Epoch [5/10], Step [1100/3079], Loss: 0.0106\n",
            "Epoch [5/10], Step [1200/3079], Loss: 0.1797\n",
            "Epoch [5/10], Step [1300/3079], Loss: 0.0195\n",
            "Epoch [5/10], Step [1400/3079], Loss: 0.2310\n",
            "Epoch [5/10], Step [1500/3079], Loss: 0.0452\n",
            "Epoch [5/10], Step [1600/3079], Loss: 0.1381\n",
            "Epoch [5/10], Step [1700/3079], Loss: 0.0900\n",
            "Epoch [5/10], Step [1800/3079], Loss: 0.0322\n",
            "Epoch [5/10], Step [1900/3079], Loss: 0.0317\n",
            "Epoch [5/10], Step [2000/3079], Loss: 0.0477\n",
            "Epoch [5/10], Step [2100/3079], Loss: 0.0205\n",
            "Epoch [5/10], Step [2200/3079], Loss: 0.2713\n",
            "Epoch [5/10], Step [2300/3079], Loss: 0.1791\n",
            "Epoch [5/10], Step [2400/3079], Loss: 0.2188\n",
            "Epoch [5/10], Step [2500/3079], Loss: 0.0443\n",
            "Epoch [5/10], Step [2600/3079], Loss: 0.0538\n",
            "Epoch [5/10], Step [2700/3079], Loss: 0.1124\n",
            "Epoch [5/10], Step [2800/3079], Loss: 0.0149\n",
            "Epoch [5/10], Step [2900/3079], Loss: 0.0543\n",
            "Epoch [5/10], Step [3000/3079], Loss: 0.0731\n"
          ]
        },
        {
          "metadata": {
            "tags": null
          },
          "name": "stderr",
          "output_type": "stream",
          "text": [
            "2023-12-09 00:02:48,396 - root - INFO - Accuracy: 96.14%\n",
            "2023-12-09 00:02:48,398 - root - INFO - Precision: 0.9640\n",
            "2023-12-09 00:02:48,399 - root - INFO - Recall: 0.9614\n",
            "2023-12-09 00:02:48,400 - root - INFO - F1 Score: 0.9618\n"
          ]
        },
        {
          "metadata": {
            "tags": null
          },
          "name": "stdout",
          "output_type": "stream",
          "text": [
            "Epoch [6/10], Step [100/3079], Loss: 0.1242\n",
            "Epoch [6/10], Step [200/3079], Loss: 0.2241\n",
            "Epoch [6/10], Step [300/3079], Loss: 0.1004\n",
            "Epoch [6/10], Step [400/3079], Loss: 0.1317\n",
            "Epoch [6/10], Step [500/3079], Loss: 0.3439\n",
            "Epoch [6/10], Step [600/3079], Loss: 0.0538\n",
            "Epoch [6/10], Step [700/3079], Loss: 0.0180\n",
            "Epoch [6/10], Step [800/3079], Loss: 0.1459\n",
            "Epoch [6/10], Step [900/3079], Loss: 0.1209\n",
            "Epoch [6/10], Step [1000/3079], Loss: 0.1553\n",
            "Epoch [6/10], Step [1100/3079], Loss: 0.0712\n",
            "Epoch [6/10], Step [1200/3079], Loss: 0.0265\n",
            "Epoch [6/10], Step [1300/3079], Loss: 0.0167\n",
            "Epoch [6/10], Step [1400/3079], Loss: 0.1216\n",
            "Epoch [6/10], Step [1500/3079], Loss: 0.0176\n",
            "Epoch [6/10], Step [1600/3079], Loss: 0.2586\n",
            "Epoch [6/10], Step [1700/3079], Loss: 0.2067\n",
            "Epoch [6/10], Step [1800/3079], Loss: 0.0424\n",
            "Epoch [6/10], Step [1900/3079], Loss: 0.1413\n",
            "Epoch [6/10], Step [2000/3079], Loss: 0.0225\n",
            "Epoch [6/10], Step [2100/3079], Loss: 0.0335\n",
            "Epoch [6/10], Step [2200/3079], Loss: 0.0200\n",
            "Epoch [6/10], Step [2300/3079], Loss: 0.0585\n",
            "Epoch [6/10], Step [2400/3079], Loss: 0.0102\n",
            "Epoch [6/10], Step [2500/3079], Loss: 0.0330\n",
            "Epoch [6/10], Step [2600/3079], Loss: 0.2221\n",
            "Epoch [6/10], Step [2700/3079], Loss: 0.0121\n",
            "Epoch [6/10], Step [2800/3079], Loss: 0.0247\n",
            "Epoch [6/10], Step [2900/3079], Loss: 0.0505\n",
            "Epoch [6/10], Step [3000/3079], Loss: 0.2346\n"
          ]
        },
        {
          "metadata": {
            "tags": null
          },
          "name": "stderr",
          "output_type": "stream",
          "text": [
            "2023-12-09 00:03:03,900 - root - INFO - Accuracy: 97.26%\n",
            "2023-12-09 00:03:03,901 - root - INFO - Precision: 0.9731\n",
            "2023-12-09 00:03:03,903 - root - INFO - Recall: 0.9726\n",
            "2023-12-09 00:03:03,903 - root - INFO - F1 Score: 0.9728\n"
          ]
        },
        {
          "metadata": {
            "tags": null
          },
          "name": "stdout",
          "output_type": "stream",
          "text": [
            "Epoch [7/10], Step [100/3079], Loss: 0.0175\n",
            "Epoch [7/10], Step [200/3079], Loss: 0.1784\n",
            "Epoch [7/10], Step [300/3079], Loss: 0.0110\n",
            "Epoch [7/10], Step [400/3079], Loss: 0.1231\n",
            "Epoch [7/10], Step [500/3079], Loss: 0.1090\n",
            "Epoch [7/10], Step [600/3079], Loss: 0.0171\n",
            "Epoch [7/10], Step [700/3079], Loss: 0.2582\n",
            "Epoch [7/10], Step [800/3079], Loss: 0.0707\n",
            "Epoch [7/10], Step [900/3079], Loss: 0.1910\n",
            "Epoch [7/10], Step [1000/3079], Loss: 0.0751\n",
            "Epoch [7/10], Step [1100/3079], Loss: 0.0050\n",
            "Epoch [7/10], Step [1200/3079], Loss: 0.0351\n",
            "Epoch [7/10], Step [1300/3079], Loss: 0.0133\n",
            "Epoch [7/10], Step [1400/3079], Loss: 0.0477\n",
            "Epoch [7/10], Step [1500/3079], Loss: 0.0548\n",
            "Epoch [7/10], Step [1600/3079], Loss: 0.1836\n",
            "Epoch [7/10], Step [1700/3079], Loss: 0.0177\n",
            "Epoch [7/10], Step [1800/3079], Loss: 0.0149\n",
            "Epoch [7/10], Step [1900/3079], Loss: 0.3017\n",
            "Epoch [7/10], Step [2000/3079], Loss: 0.0577\n",
            "Epoch [7/10], Step [2100/3079], Loss: 0.0465\n",
            "Epoch [7/10], Step [2200/3079], Loss: 0.2238\n",
            "Epoch [7/10], Step [2300/3079], Loss: 0.0766\n",
            "Epoch [7/10], Step [2400/3079], Loss: 0.2564\n",
            "Epoch [7/10], Step [2500/3079], Loss: 0.0271\n",
            "Epoch [7/10], Step [2600/3079], Loss: 0.2223\n",
            "Epoch [7/10], Step [2700/3079], Loss: 0.0376\n",
            "Epoch [7/10], Step [2800/3079], Loss: 0.1656\n",
            "Epoch [7/10], Step [2900/3079], Loss: 0.1962\n",
            "Epoch [7/10], Step [3000/3079], Loss: 0.0140\n"
          ]
        },
        {
          "metadata": {
            "tags": null
          },
          "name": "stderr",
          "output_type": "stream",
          "text": [
            "2023-12-09 00:03:19,535 - root - INFO - Accuracy: 97.56%\n",
            "2023-12-09 00:03:19,536 - root - INFO - Precision: 0.9751\n",
            "2023-12-09 00:03:19,537 - root - INFO - Recall: 0.9756\n",
            "2023-12-09 00:03:19,538 - root - INFO - F1 Score: 0.9749\n"
          ]
        },
        {
          "metadata": {
            "tags": null
          },
          "name": "stdout",
          "output_type": "stream",
          "text": [
            "Epoch [8/10], Step [100/3079], Loss: 0.0235\n",
            "Epoch [8/10], Step [200/3079], Loss: 0.1114\n",
            "Epoch [8/10], Step [300/3079], Loss: 0.0130\n",
            "Epoch [8/10], Step [400/3079], Loss: 0.0126\n",
            "Epoch [8/10], Step [500/3079], Loss: 0.0194\n",
            "Epoch [8/10], Step [600/3079], Loss: 0.2062\n",
            "Epoch [8/10], Step [700/3079], Loss: 0.0458\n",
            "Epoch [8/10], Step [800/3079], Loss: 0.0212\n",
            "Epoch [8/10], Step [900/3079], Loss: 0.0484\n",
            "Epoch [8/10], Step [1000/3079], Loss: 0.1532\n",
            "Epoch [8/10], Step [1100/3079], Loss: 0.0265\n",
            "Epoch [8/10], Step [1200/3079], Loss: 0.1877\n",
            "Epoch [8/10], Step [1300/3079], Loss: 0.0122\n",
            "Epoch [8/10], Step [1400/3079], Loss: 0.0411\n",
            "Epoch [8/10], Step [1500/3079], Loss: 0.0610\n",
            "Epoch [8/10], Step [1600/3079], Loss: 0.1703\n",
            "Epoch [8/10], Step [1700/3079], Loss: 0.2171\n",
            "Epoch [8/10], Step [1800/3079], Loss: 0.1190\n",
            "Epoch [8/10], Step [1900/3079], Loss: 0.0371\n",
            "Epoch [8/10], Step [2000/3079], Loss: 0.3159\n",
            "Epoch [8/10], Step [2100/3079], Loss: 0.0492\n",
            "Epoch [8/10], Step [2200/3079], Loss: 0.0876\n",
            "Epoch [8/10], Step [2300/3079], Loss: 0.0678\n",
            "Epoch [8/10], Step [2400/3079], Loss: 0.0266\n",
            "Epoch [8/10], Step [2500/3079], Loss: 0.2086\n",
            "Epoch [8/10], Step [2600/3079], Loss: 0.2632\n",
            "Epoch [8/10], Step [2700/3079], Loss: 0.0364\n",
            "Epoch [8/10], Step [2800/3079], Loss: 0.1496\n",
            "Epoch [8/10], Step [2900/3079], Loss: 0.0180\n",
            "Epoch [8/10], Step [3000/3079], Loss: 0.0120\n"
          ]
        },
        {
          "metadata": {
            "tags": null
          },
          "name": "stderr",
          "output_type": "stream",
          "text": [
            "2023-12-09 00:03:35,243 - root - INFO - Accuracy: 97.83%\n",
            "2023-12-09 00:03:35,244 - root - INFO - Precision: 0.9778\n",
            "2023-12-09 00:03:35,245 - root - INFO - Recall: 0.9783\n",
            "2023-12-09 00:03:35,246 - root - INFO - F1 Score: 0.9773\n"
          ]
        },
        {
          "metadata": {
            "tags": null
          },
          "name": "stdout",
          "output_type": "stream",
          "text": [
            "Epoch [9/10], Step [100/3079], Loss: 0.2416\n",
            "Epoch [9/10], Step [200/3079], Loss: 0.0364\n",
            "Epoch [9/10], Step [300/3079], Loss: 0.1220\n",
            "Epoch [9/10], Step [400/3079], Loss: 0.0521\n",
            "Epoch [9/10], Step [500/3079], Loss: 0.0456\n",
            "Epoch [9/10], Step [600/3079], Loss: 0.1043\n",
            "Epoch [9/10], Step [700/3079], Loss: 0.0269\n",
            "Epoch [9/10], Step [800/3079], Loss: 0.2062\n",
            "Epoch [9/10], Step [900/3079], Loss: 0.0465\n",
            "Epoch [9/10], Step [1000/3079], Loss: 0.0445\n",
            "Epoch [9/10], Step [1100/3079], Loss: 0.0593\n",
            "Epoch [9/10], Step [1200/3079], Loss: 0.0398\n",
            "Epoch [9/10], Step [1300/3079], Loss: 0.0307\n",
            "Epoch [9/10], Step [1400/3079], Loss: 0.0153\n",
            "Epoch [9/10], Step [1500/3079], Loss: 0.0108\n",
            "Epoch [9/10], Step [1600/3079], Loss: 0.0107\n",
            "Epoch [9/10], Step [1700/3079], Loss: 0.0108\n",
            "Epoch [9/10], Step [1800/3079], Loss: 0.3262\n",
            "Epoch [9/10], Step [1900/3079], Loss: 0.0415\n",
            "Epoch [9/10], Step [2000/3079], Loss: 0.0362\n",
            "Epoch [9/10], Step [2100/3079], Loss: 0.0237\n",
            "Epoch [9/10], Step [2200/3079], Loss: 0.0079\n",
            "Epoch [9/10], Step [2300/3079], Loss: 0.1331\n",
            "Epoch [9/10], Step [2400/3079], Loss: 0.0696\n",
            "Epoch [9/10], Step [2500/3079], Loss: 0.0248\n",
            "Epoch [9/10], Step [2600/3079], Loss: 0.0919\n",
            "Epoch [9/10], Step [2700/3079], Loss: 0.0492\n",
            "Epoch [9/10], Step [2800/3079], Loss: 0.0172\n",
            "Epoch [9/10], Step [2900/3079], Loss: 0.0109\n",
            "Epoch [9/10], Step [3000/3079], Loss: 0.0207\n"
          ]
        },
        {
          "metadata": {
            "tags": null
          },
          "name": "stderr",
          "output_type": "stream",
          "text": [
            "2023-12-09 00:03:50,810 - root - INFO - Accuracy: 97.85%\n",
            "2023-12-09 00:03:50,811 - root - INFO - Precision: 0.9782\n",
            "2023-12-09 00:03:50,812 - root - INFO - Recall: 0.9785\n",
            "2023-12-09 00:03:50,813 - root - INFO - F1 Score: 0.9783\n"
          ]
        },
        {
          "metadata": {
            "tags": null
          },
          "name": "stdout",
          "output_type": "stream",
          "text": [
            "Epoch [10/10], Step [100/3079], Loss: 0.0362\n",
            "Epoch [10/10], Step [200/3079], Loss: 0.0371\n",
            "Epoch [10/10], Step [300/3079], Loss: 0.0130\n",
            "Epoch [10/10], Step [400/3079], Loss: 0.0303\n",
            "Epoch [10/10], Step [500/3079], Loss: 0.0199\n",
            "Epoch [10/10], Step [600/3079], Loss: 0.0812\n",
            "Epoch [10/10], Step [700/3079], Loss: 0.0363\n",
            "Epoch [10/10], Step [800/3079], Loss: 0.1031\n",
            "Epoch [10/10], Step [900/3079], Loss: 0.0983\n",
            "Epoch [10/10], Step [1000/3079], Loss: 0.0333\n",
            "Epoch [10/10], Step [1100/3079], Loss: 0.0212\n",
            "Epoch [10/10], Step [1200/3079], Loss: 0.0149\n",
            "Epoch [10/10], Step [1300/3079], Loss: 0.1460\n",
            "Epoch [10/10], Step [1400/3079], Loss: 0.0387\n",
            "Epoch [10/10], Step [1500/3079], Loss: 0.0806\n",
            "Epoch [10/10], Step [1600/3079], Loss: 0.0201\n",
            "Epoch [10/10], Step [1700/3079], Loss: 0.0825\n",
            "Epoch [10/10], Step [1800/3079], Loss: 0.0365\n",
            "Epoch [10/10], Step [1900/3079], Loss: 0.0922\n",
            "Epoch [10/10], Step [2000/3079], Loss: 0.1040\n",
            "Epoch [10/10], Step [2100/3079], Loss: 0.0169\n",
            "Epoch [10/10], Step [2200/3079], Loss: 0.0065\n",
            "Epoch [10/10], Step [2300/3079], Loss: 0.0710\n",
            "Epoch [10/10], Step [2400/3079], Loss: 0.0434\n",
            "Epoch [10/10], Step [2500/3079], Loss: 0.1824\n",
            "Epoch [10/10], Step [2600/3079], Loss: 0.0086\n",
            "Epoch [10/10], Step [2700/3079], Loss: 0.1610\n",
            "Epoch [10/10], Step [2800/3079], Loss: 0.0120\n",
            "Epoch [10/10], Step [2900/3079], Loss: 0.0413\n",
            "Epoch [10/10], Step [3000/3079], Loss: 0.1798\n"
          ]
        },
        {
          "metadata": {
            "tags": null
          },
          "name": "stderr",
          "output_type": "stream",
          "text": [
            "2023-12-09 00:04:06,350 - root - INFO - Accuracy: 97.75%\n",
            "2023-12-09 00:04:06,351 - root - INFO - Precision: 0.9773\n",
            "2023-12-09 00:04:06,352 - root - INFO - Recall: 0.9775\n",
            "2023-12-09 00:04:06,353 - root - INFO - F1 Score: 0.9758\n"
          ]
        },
        {
          "output_type": "stream",
          "name": "stdout",
          "text": [
            "FOLD 1\n",
            "--------------------------------\n",
            "AttentionOSCNN(\n",
            "  (conv1): Conv1d(1, 128, kernel_size=(8,), stride=(1,), padding=same)\n",
            "  (bn1): BatchNorm1d(128, eps=1e-05, momentum=0.1, affine=True, track_running_stats=True)\n",
            "  (conv2): Conv1d(128, 256, kernel_size=(5,), stride=(1,), padding=same)\n",
            "  (bn2): BatchNorm1d(256, eps=1e-05, momentum=0.1, affine=True, track_running_stats=True)\n",
            "  (conv3): Conv1d(256, 128, kernel_size=(3,), stride=(1,), padding=same)\n",
            "  (bn3): BatchNorm1d(128, eps=1e-05, momentum=0.1, affine=True, track_running_stats=True)\n",
            "  (intermediate): Linear(in_features=1, out_features=128, bias=True)\n",
            "  (dropout): Dropout(p=0.8, inplace=False)\n",
            "  (attention): SelfAttention(\n",
            "    (query): Linear(in_features=128, out_features=128, bias=True)\n",
            "    (key): Linear(in_features=128, out_features=128, bias=True)\n",
            "    (value): Linear(in_features=128, out_features=128, bias=True)\n",
            "  )\n",
            "  (avg_pool): AdaptiveAvgPool1d(output_size=1)\n",
            "  (fc): Linear(in_features=256, out_features=5, bias=True)\n",
            ")\n",
            "Epoch [1/10], Step [100/3079], Loss: 0.4604\n",
            "Epoch [1/10], Step [200/3079], Loss: 0.7400\n",
            "Epoch [1/10], Step [300/3079], Loss: 0.4510\n",
            "Epoch [1/10], Step [400/3079], Loss: 0.5219\n",
            "Epoch [1/10], Step [500/3079], Loss: 0.1527\n",
            "Epoch [1/10], Step [600/3079], Loss: 0.1937\n",
            "Epoch [1/10], Step [700/3079], Loss: 0.2832\n",
            "Epoch [1/10], Step [800/3079], Loss: 0.3572\n",
            "Epoch [1/10], Step [900/3079], Loss: 0.3281\n",
            "Epoch [1/10], Step [1000/3079], Loss: 0.2600\n",
            "Epoch [1/10], Step [1100/3079], Loss: 0.2641\n",
            "Epoch [1/10], Step [1200/3079], Loss: 0.3462\n",
            "Epoch [1/10], Step [1300/3079], Loss: 0.2324\n",
            "Epoch [1/10], Step [1400/3079], Loss: 0.2452\n",
            "Epoch [1/10], Step [1500/3079], Loss: 0.0726\n",
            "Epoch [1/10], Step [1600/3079], Loss: 0.2463\n",
            "Epoch [1/10], Step [1700/3079], Loss: 0.3335\n",
            "Epoch [1/10], Step [1800/3079], Loss: 0.1916\n",
            "Epoch [1/10], Step [1900/3079], Loss: 0.1836\n",
            "Epoch [1/10], Step [2000/3079], Loss: 0.1745\n",
            "Epoch [1/10], Step [2100/3079], Loss: 0.2094\n",
            "Epoch [1/10], Step [2200/3079], Loss: 0.0640\n",
            "Epoch [1/10], Step [2300/3079], Loss: 0.2009\n",
            "Epoch [1/10], Step [2400/3079], Loss: 0.2107\n",
            "Epoch [1/10], Step [2500/3079], Loss: 0.1640\n",
            "Epoch [1/10], Step [2600/3079], Loss: 0.1001\n",
            "Epoch [1/10], Step [2700/3079], Loss: 0.3135\n",
            "Epoch [1/10], Step [2800/3079], Loss: 0.0325\n",
            "Epoch [1/10], Step [2900/3079], Loss: 0.1372\n",
            "Epoch [1/10], Step [3000/3079], Loss: 0.1633\n"
          ]
        },
        {
          "output_type": "stream",
          "name": "stderr",
          "text": [
            "2023-12-09 00:04:22,091 - root - INFO - Accuracy: 96.39%\n",
            "2023-12-09 00:04:22,092 - root - INFO - Precision: 0.9628\n",
            "2023-12-09 00:04:22,093 - root - INFO - Recall: 0.9639\n",
            "2023-12-09 00:04:22,095 - root - INFO - F1 Score: 0.9605\n"
          ]
        },
        {
          "output_type": "stream",
          "name": "stdout",
          "text": [
            "Epoch [2/10], Step [100/3079], Loss: 0.1266\n",
            "Epoch [2/10], Step [200/3079], Loss: 0.0697\n",
            "Epoch [2/10], Step [300/3079], Loss: 0.3399\n",
            "Epoch [2/10], Step [400/3079], Loss: 0.2672\n",
            "Epoch [2/10], Step [500/3079], Loss: 0.0905\n",
            "Epoch [2/10], Step [600/3079], Loss: 0.3465\n",
            "Epoch [2/10], Step [700/3079], Loss: 0.1619\n",
            "Epoch [2/10], Step [800/3079], Loss: 0.0401\n",
            "Epoch [2/10], Step [900/3079], Loss: 0.0419\n",
            "Epoch [2/10], Step [1000/3079], Loss: 0.2315\n",
            "Epoch [2/10], Step [1100/3079], Loss: 0.0249\n",
            "Epoch [2/10], Step [1200/3079], Loss: 0.2491\n",
            "Epoch [2/10], Step [1300/3079], Loss: 0.1766\n",
            "Epoch [2/10], Step [1400/3079], Loss: 0.0653\n",
            "Epoch [2/10], Step [1500/3079], Loss: 0.0710\n",
            "Epoch [2/10], Step [1600/3079], Loss: 0.0506\n",
            "Epoch [2/10], Step [1700/3079], Loss: 0.0922\n",
            "Epoch [2/10], Step [1800/3079], Loss: 0.2592\n",
            "Epoch [2/10], Step [1900/3079], Loss: 0.0877\n",
            "Epoch [2/10], Step [2000/3079], Loss: 0.1419\n",
            "Epoch [2/10], Step [2100/3079], Loss: 0.0154\n",
            "Epoch [2/10], Step [2200/3079], Loss: 0.0157\n",
            "Epoch [2/10], Step [2300/3079], Loss: 0.1492\n",
            "Epoch [2/10], Step [2400/3079], Loss: 0.0761\n",
            "Epoch [2/10], Step [2500/3079], Loss: 0.1062\n",
            "Epoch [2/10], Step [2600/3079], Loss: 0.1167\n",
            "Epoch [2/10], Step [2700/3079], Loss: 0.1243\n",
            "Epoch [2/10], Step [2800/3079], Loss: 0.1444\n",
            "Epoch [2/10], Step [2900/3079], Loss: 0.2093\n",
            "Epoch [2/10], Step [3000/3079], Loss: 0.2500\n"
          ]
        },
        {
          "output_type": "stream",
          "name": "stderr",
          "text": [
            "2023-12-09 00:04:37,895 - root - INFO - Accuracy: 96.35%\n",
            "2023-12-09 00:04:37,896 - root - INFO - Precision: 0.9630\n",
            "2023-12-09 00:04:37,897 - root - INFO - Recall: 0.9635\n",
            "2023-12-09 00:04:37,898 - root - INFO - F1 Score: 0.9624\n"
          ]
        },
        {
          "output_type": "stream",
          "name": "stdout",
          "text": [
            "Epoch [3/10], Step [100/3079], Loss: 0.0289\n",
            "Epoch [3/10], Step [200/3079], Loss: 0.0723\n",
            "Epoch [3/10], Step [300/3079], Loss: 0.2183\n",
            "Epoch [3/10], Step [400/3079], Loss: 0.0335\n",
            "Epoch [3/10], Step [500/3079], Loss: 0.0247\n",
            "Epoch [3/10], Step [600/3079], Loss: 0.1397\n",
            "Epoch [3/10], Step [700/3079], Loss: 0.1269\n",
            "Epoch [3/10], Step [800/3079], Loss: 0.4536\n",
            "Epoch [3/10], Step [900/3079], Loss: 0.0936\n",
            "Epoch [3/10], Step [1000/3079], Loss: 0.0914\n",
            "Epoch [3/10], Step [1100/3079], Loss: 0.0797\n",
            "Epoch [3/10], Step [1200/3079], Loss: 0.1107\n",
            "Epoch [3/10], Step [1300/3079], Loss: 0.0914\n",
            "Epoch [3/10], Step [1400/3079], Loss: 0.0244\n",
            "Epoch [3/10], Step [1500/3079], Loss: 0.1105\n",
            "Epoch [3/10], Step [1600/3079], Loss: 0.2337\n",
            "Epoch [3/10], Step [1700/3079], Loss: 0.0259\n",
            "Epoch [3/10], Step [1800/3079], Loss: 0.1604\n",
            "Epoch [3/10], Step [1900/3079], Loss: 0.1833\n",
            "Epoch [3/10], Step [2000/3079], Loss: 0.0476\n",
            "Epoch [3/10], Step [2100/3079], Loss: 0.0444\n",
            "Epoch [3/10], Step [2200/3079], Loss: 0.1087\n",
            "Epoch [3/10], Step [2300/3079], Loss: 0.0780\n",
            "Epoch [3/10], Step [2400/3079], Loss: 0.0460\n",
            "Epoch [3/10], Step [2500/3079], Loss: 0.1117\n",
            "Epoch [3/10], Step [2600/3079], Loss: 0.0697\n",
            "Epoch [3/10], Step [2700/3079], Loss: 0.0707\n",
            "Epoch [3/10], Step [2800/3079], Loss: 0.1687\n",
            "Epoch [3/10], Step [2900/3079], Loss: 0.0304\n",
            "Epoch [3/10], Step [3000/3079], Loss: 0.3100\n"
          ]
        },
        {
          "output_type": "stream",
          "name": "stderr",
          "text": [
            "2023-12-09 00:04:53,650 - root - INFO - Accuracy: 97.20%\n",
            "2023-12-09 00:04:53,651 - root - INFO - Precision: 0.9711\n",
            "2023-12-09 00:04:53,652 - root - INFO - Recall: 0.9720\n",
            "2023-12-09 00:04:53,653 - root - INFO - F1 Score: 0.9706\n"
          ]
        },
        {
          "output_type": "stream",
          "name": "stdout",
          "text": [
            "Epoch [4/10], Step [100/3079], Loss: 0.0285\n",
            "Epoch [4/10], Step [200/3079], Loss: 0.0857\n",
            "Epoch [4/10], Step [300/3079], Loss: 0.2247\n",
            "Epoch [4/10], Step [400/3079], Loss: 0.1505\n",
            "Epoch [4/10], Step [500/3079], Loss: 0.0408\n",
            "Epoch [4/10], Step [600/3079], Loss: 0.3611\n",
            "Epoch [4/10], Step [700/3079], Loss: 0.0128\n",
            "Epoch [4/10], Step [800/3079], Loss: 0.0174\n",
            "Epoch [4/10], Step [900/3079], Loss: 0.0382\n",
            "Epoch [4/10], Step [1000/3079], Loss: 0.0156\n",
            "Epoch [4/10], Step [1100/3079], Loss: 0.0358\n",
            "Epoch [4/10], Step [1200/3079], Loss: 0.1104\n",
            "Epoch [4/10], Step [1300/3079], Loss: 0.0159\n",
            "Epoch [4/10], Step [1400/3079], Loss: 0.0780\n",
            "Epoch [4/10], Step [1500/3079], Loss: 0.0835\n",
            "Epoch [4/10], Step [1600/3079], Loss: 0.1247\n",
            "Epoch [4/10], Step [1700/3079], Loss: 0.2447\n",
            "Epoch [4/10], Step [1800/3079], Loss: 0.0718\n",
            "Epoch [4/10], Step [1900/3079], Loss: 0.1389\n",
            "Epoch [4/10], Step [2000/3079], Loss: 0.1556\n",
            "Epoch [4/10], Step [2100/3079], Loss: 0.0272\n",
            "Epoch [4/10], Step [2200/3079], Loss: 0.0271\n",
            "Epoch [4/10], Step [2300/3079], Loss: 0.0791\n",
            "Epoch [4/10], Step [2400/3079], Loss: 0.1044\n",
            "Epoch [4/10], Step [2500/3079], Loss: 0.2483\n",
            "Epoch [4/10], Step [2600/3079], Loss: 0.0511\n",
            "Epoch [4/10], Step [2700/3079], Loss: 0.0534\n",
            "Epoch [4/10], Step [2800/3079], Loss: 0.0159\n",
            "Epoch [4/10], Step [2900/3079], Loss: 0.0337\n",
            "Epoch [4/10], Step [3000/3079], Loss: 0.1265\n"
          ]
        },
        {
          "output_type": "stream",
          "name": "stderr",
          "text": [
            "2023-12-09 00:05:09,255 - root - INFO - Accuracy: 97.02%\n",
            "2023-12-09 00:05:09,256 - root - INFO - Precision: 0.9691\n",
            "2023-12-09 00:05:09,257 - root - INFO - Recall: 0.9702\n",
            "2023-12-09 00:05:09,257 - root - INFO - F1 Score: 0.9680\n"
          ]
        },
        {
          "output_type": "stream",
          "name": "stdout",
          "text": [
            "Epoch [5/10], Step [100/3079], Loss: 0.2113\n",
            "Epoch [5/10], Step [200/3079], Loss: 0.0127\n",
            "Epoch [5/10], Step [300/3079], Loss: 0.0464\n",
            "Epoch [5/10], Step [400/3079], Loss: 0.0203\n",
            "Epoch [5/10], Step [500/3079], Loss: 0.3086\n",
            "Epoch [5/10], Step [600/3079], Loss: 0.1576\n",
            "Epoch [5/10], Step [700/3079], Loss: 0.0742\n",
            "Epoch [5/10], Step [800/3079], Loss: 0.0328\n",
            "Epoch [5/10], Step [900/3079], Loss: 0.0371\n",
            "Epoch [5/10], Step [1000/3079], Loss: 0.0925\n",
            "Epoch [5/10], Step [1100/3079], Loss: 0.0252\n",
            "Epoch [5/10], Step [1200/3079], Loss: 0.0688\n",
            "Epoch [5/10], Step [1300/3079], Loss: 0.0130\n",
            "Epoch [5/10], Step [1400/3079], Loss: 0.3305\n",
            "Epoch [5/10], Step [1500/3079], Loss: 0.1598\n",
            "Epoch [5/10], Step [1600/3079], Loss: 0.2213\n",
            "Epoch [5/10], Step [1700/3079], Loss: 0.0324\n",
            "Epoch [5/10], Step [1800/3079], Loss: 0.0184\n",
            "Epoch [5/10], Step [1900/3079], Loss: 0.2440\n",
            "Epoch [5/10], Step [2000/3079], Loss: 0.0575\n",
            "Epoch [5/10], Step [2100/3079], Loss: 0.0073\n",
            "Epoch [5/10], Step [2200/3079], Loss: 0.0092\n",
            "Epoch [5/10], Step [2300/3079], Loss: 0.0915\n",
            "Epoch [5/10], Step [2400/3079], Loss: 0.0276\n",
            "Epoch [5/10], Step [2500/3079], Loss: 0.0354\n",
            "Epoch [5/10], Step [2600/3079], Loss: 0.0575\n",
            "Epoch [5/10], Step [2700/3079], Loss: 0.0375\n",
            "Epoch [5/10], Step [2800/3079], Loss: 0.1720\n",
            "Epoch [5/10], Step [2900/3079], Loss: 0.0934\n",
            "Epoch [5/10], Step [3000/3079], Loss: 0.1377\n"
          ]
        },
        {
          "output_type": "stream",
          "name": "stderr",
          "text": [
            "2023-12-09 00:05:24,832 - root - INFO - Accuracy: 97.24%\n",
            "2023-12-09 00:05:24,833 - root - INFO - Precision: 0.9717\n",
            "2023-12-09 00:05:24,834 - root - INFO - Recall: 0.9724\n",
            "2023-12-09 00:05:24,835 - root - INFO - F1 Score: 0.9709\n"
          ]
        },
        {
          "output_type": "stream",
          "name": "stdout",
          "text": [
            "Epoch [6/10], Step [100/3079], Loss: 0.0137\n",
            "Epoch [6/10], Step [200/3079], Loss: 0.0770\n",
            "Epoch [6/10], Step [300/3079], Loss: 0.1214\n",
            "Epoch [6/10], Step [400/3079], Loss: 0.0511\n",
            "Epoch [6/10], Step [500/3079], Loss: 0.0426\n",
            "Epoch [6/10], Step [600/3079], Loss: 0.0287\n",
            "Epoch [6/10], Step [700/3079], Loss: 0.1470\n",
            "Epoch [6/10], Step [800/3079], Loss: 0.0108\n",
            "Epoch [6/10], Step [900/3079], Loss: 0.0127\n",
            "Epoch [6/10], Step [1000/3079], Loss: 0.0315\n",
            "Epoch [6/10], Step [1100/3079], Loss: 0.1191\n",
            "Epoch [6/10], Step [1200/3079], Loss: 0.0316\n",
            "Epoch [6/10], Step [1300/3079], Loss: 0.0320\n",
            "Epoch [6/10], Step [1400/3079], Loss: 0.1338\n",
            "Epoch [6/10], Step [1500/3079], Loss: 0.0320\n",
            "Epoch [6/10], Step [1600/3079], Loss: 0.3109\n",
            "Epoch [6/10], Step [1700/3079], Loss: 0.0335\n",
            "Epoch [6/10], Step [1800/3079], Loss: 0.0139\n",
            "Epoch [6/10], Step [1900/3079], Loss: 0.1209\n",
            "Epoch [6/10], Step [2000/3079], Loss: 0.1239\n",
            "Epoch [6/10], Step [2100/3079], Loss: 0.0200\n",
            "Epoch [6/10], Step [2200/3079], Loss: 0.0216\n",
            "Epoch [6/10], Step [2300/3079], Loss: 0.0462\n",
            "Epoch [6/10], Step [2400/3079], Loss: 0.1157\n",
            "Epoch [6/10], Step [2500/3079], Loss: 0.2529\n",
            "Epoch [6/10], Step [2600/3079], Loss: 0.0645\n",
            "Epoch [6/10], Step [2700/3079], Loss: 0.0612\n",
            "Epoch [6/10], Step [2800/3079], Loss: 0.0103\n",
            "Epoch [6/10], Step [2900/3079], Loss: 0.1810\n",
            "Epoch [6/10], Step [3000/3079], Loss: 0.3139\n"
          ]
        },
        {
          "output_type": "stream",
          "name": "stderr",
          "text": [
            "2023-12-09 00:05:40,317 - root - INFO - Accuracy: 97.63%\n",
            "2023-12-09 00:05:40,318 - root - INFO - Precision: 0.9756\n",
            "2023-12-09 00:05:40,319 - root - INFO - Recall: 0.9763\n",
            "2023-12-09 00:05:40,320 - root - INFO - F1 Score: 0.9752\n"
          ]
        },
        {
          "output_type": "stream",
          "name": "stdout",
          "text": [
            "Epoch [7/10], Step [100/3079], Loss: 0.0223\n",
            "Epoch [7/10], Step [200/3079], Loss: 0.0172\n",
            "Epoch [7/10], Step [300/3079], Loss: 0.0662\n",
            "Epoch [7/10], Step [400/3079], Loss: 0.2423\n",
            "Epoch [7/10], Step [500/3079], Loss: 0.0456\n",
            "Epoch [7/10], Step [600/3079], Loss: 0.3259\n",
            "Epoch [7/10], Step [700/3079], Loss: 0.0740\n",
            "Epoch [7/10], Step [800/3079], Loss: 0.0711\n",
            "Epoch [7/10], Step [900/3079], Loss: 0.3312\n",
            "Epoch [7/10], Step [1000/3079], Loss: 0.0081\n",
            "Epoch [7/10], Step [1100/3079], Loss: 0.1816\n",
            "Epoch [7/10], Step [1200/3079], Loss: 0.0071\n",
            "Epoch [7/10], Step [1300/3079], Loss: 0.1780\n",
            "Epoch [7/10], Step [1400/3079], Loss: 0.0243\n",
            "Epoch [7/10], Step [1500/3079], Loss: 0.1758\n",
            "Epoch [7/10], Step [1600/3079], Loss: 0.0515\n",
            "Epoch [7/10], Step [1700/3079], Loss: 0.1743\n",
            "Epoch [7/10], Step [1800/3079], Loss: 0.0931\n",
            "Epoch [7/10], Step [1900/3079], Loss: 0.2686\n",
            "Epoch [7/10], Step [2000/3079], Loss: 0.0916\n",
            "Epoch [7/10], Step [2100/3079], Loss: 0.1180\n",
            "Epoch [7/10], Step [2200/3079], Loss: 0.0257\n",
            "Epoch [7/10], Step [2300/3079], Loss: 0.0189\n",
            "Epoch [7/10], Step [2400/3079], Loss: 0.0088\n",
            "Epoch [7/10], Step [2500/3079], Loss: 0.0830\n",
            "Epoch [7/10], Step [2600/3079], Loss: 0.1615\n",
            "Epoch [7/10], Step [2700/3079], Loss: 0.0301\n",
            "Epoch [7/10], Step [2800/3079], Loss: 0.0368\n",
            "Epoch [7/10], Step [2900/3079], Loss: 0.0323\n",
            "Epoch [7/10], Step [3000/3079], Loss: 0.1534\n"
          ]
        },
        {
          "output_type": "stream",
          "name": "stderr",
          "text": [
            "2023-12-09 00:05:55,928 - root - INFO - Accuracy: 97.60%\n",
            "2023-12-09 00:05:55,929 - root - INFO - Precision: 0.9752\n",
            "2023-12-09 00:05:55,930 - root - INFO - Recall: 0.9760\n",
            "2023-12-09 00:05:55,931 - root - INFO - F1 Score: 0.9750\n"
          ]
        },
        {
          "output_type": "stream",
          "name": "stdout",
          "text": [
            "Epoch [8/10], Step [100/3079], Loss: 0.0533\n",
            "Epoch [8/10], Step [200/3079], Loss: 0.1622\n",
            "Epoch [8/10], Step [300/3079], Loss: 0.0225\n",
            "Epoch [8/10], Step [400/3079], Loss: 0.0084\n",
            "Epoch [8/10], Step [500/3079], Loss: 0.0115\n",
            "Epoch [8/10], Step [600/3079], Loss: 0.1201\n",
            "Epoch [8/10], Step [700/3079], Loss: 0.0673\n",
            "Epoch [8/10], Step [800/3079], Loss: 0.0154\n",
            "Epoch [8/10], Step [900/3079], Loss: 0.0370\n",
            "Epoch [8/10], Step [1000/3079], Loss: 0.0475\n",
            "Epoch [8/10], Step [1100/3079], Loss: 0.2118\n",
            "Epoch [8/10], Step [1200/3079], Loss: 0.1387\n",
            "Epoch [8/10], Step [1300/3079], Loss: 0.0481\n",
            "Epoch [8/10], Step [1400/3079], Loss: 0.0228\n",
            "Epoch [8/10], Step [1500/3079], Loss: 0.0053\n",
            "Epoch [8/10], Step [1600/3079], Loss: 0.0107\n",
            "Epoch [8/10], Step [1700/3079], Loss: 0.0526\n",
            "Epoch [8/10], Step [1800/3079], Loss: 0.1248\n",
            "Epoch [8/10], Step [1900/3079], Loss: 0.1732\n",
            "Epoch [8/10], Step [2000/3079], Loss: 0.1755\n",
            "Epoch [8/10], Step [2100/3079], Loss: 0.0238\n",
            "Epoch [8/10], Step [2200/3079], Loss: 0.0266\n",
            "Epoch [8/10], Step [2300/3079], Loss: 0.1016\n",
            "Epoch [8/10], Step [2400/3079], Loss: 0.0609\n",
            "Epoch [8/10], Step [2500/3079], Loss: 0.1653\n",
            "Epoch [8/10], Step [2600/3079], Loss: 0.0191\n",
            "Epoch [8/10], Step [2700/3079], Loss: 0.2054\n",
            "Epoch [8/10], Step [2800/3079], Loss: 0.0643\n",
            "Epoch [8/10], Step [2900/3079], Loss: 0.2316\n",
            "Epoch [8/10], Step [3000/3079], Loss: 0.5835\n"
          ]
        },
        {
          "output_type": "stream",
          "name": "stderr",
          "text": [
            "2023-12-09 00:06:11,400 - root - INFO - Accuracy: 97.83%\n",
            "2023-12-09 00:06:11,401 - root - INFO - Precision: 0.9780\n",
            "2023-12-09 00:06:11,402 - root - INFO - Recall: 0.9783\n",
            "2023-12-09 00:06:11,403 - root - INFO - F1 Score: 0.9772\n"
          ]
        },
        {
          "output_type": "stream",
          "name": "stdout",
          "text": [
            "Epoch [9/10], Step [100/3079], Loss: 0.1461\n",
            "Epoch [9/10], Step [200/3079], Loss: 0.0170\n",
            "Epoch [9/10], Step [300/3079], Loss: 0.0380\n",
            "Epoch [9/10], Step [400/3079], Loss: 0.0889\n",
            "Epoch [9/10], Step [500/3079], Loss: 0.0067\n",
            "Epoch [9/10], Step [600/3079], Loss: 0.1870\n",
            "Epoch [9/10], Step [700/3079], Loss: 0.0093\n",
            "Epoch [9/10], Step [800/3079], Loss: 0.0330\n",
            "Epoch [9/10], Step [900/3079], Loss: 0.2069\n",
            "Epoch [9/10], Step [1000/3079], Loss: 0.0849\n",
            "Epoch [9/10], Step [1100/3079], Loss: 0.0425\n",
            "Epoch [9/10], Step [1200/3079], Loss: 0.2983\n",
            "Epoch [9/10], Step [1300/3079], Loss: 0.2982\n",
            "Epoch [9/10], Step [1400/3079], Loss: 0.0877\n",
            "Epoch [9/10], Step [1500/3079], Loss: 0.0482\n",
            "Epoch [9/10], Step [1600/3079], Loss: 0.0197\n",
            "Epoch [9/10], Step [1700/3079], Loss: 0.0463\n",
            "Epoch [9/10], Step [1800/3079], Loss: 0.0299\n",
            "Epoch [9/10], Step [1900/3079], Loss: 0.0204\n",
            "Epoch [9/10], Step [2000/3079], Loss: 0.0592\n",
            "Epoch [9/10], Step [2100/3079], Loss: 0.0984\n",
            "Epoch [9/10], Step [2200/3079], Loss: 0.2430\n",
            "Epoch [9/10], Step [2300/3079], Loss: 0.0897\n",
            "Epoch [9/10], Step [2400/3079], Loss: 0.0592\n",
            "Epoch [9/10], Step [2500/3079], Loss: 0.1887\n",
            "Epoch [9/10], Step [2600/3079], Loss: 0.0103\n",
            "Epoch [9/10], Step [2700/3079], Loss: 0.0999\n",
            "Epoch [9/10], Step [2800/3079], Loss: 0.2698\n",
            "Epoch [9/10], Step [2900/3079], Loss: 0.0094\n",
            "Epoch [9/10], Step [3000/3079], Loss: 0.0135\n"
          ]
        },
        {
          "output_type": "stream",
          "name": "stderr",
          "text": [
            "2023-12-09 00:06:26,937 - root - INFO - Accuracy: 97.88%\n",
            "2023-12-09 00:06:26,938 - root - INFO - Precision: 0.9781\n",
            "2023-12-09 00:06:26,939 - root - INFO - Recall: 0.9788\n",
            "2023-12-09 00:06:26,940 - root - INFO - F1 Score: 0.9779\n"
          ]
        },
        {
          "output_type": "stream",
          "name": "stdout",
          "text": [
            "Epoch [10/10], Step [100/3079], Loss: 0.1948\n",
            "Epoch [10/10], Step [200/3079], Loss: 0.1104\n",
            "Epoch [10/10], Step [300/3079], Loss: 0.0132\n",
            "Epoch [10/10], Step [400/3079], Loss: 0.0077\n",
            "Epoch [10/10], Step [500/3079], Loss: 0.0375\n",
            "Epoch [10/10], Step [600/3079], Loss: 0.1596\n",
            "Epoch [10/10], Step [700/3079], Loss: 0.1422\n",
            "Epoch [10/10], Step [800/3079], Loss: 0.0296\n",
            "Epoch [10/10], Step [900/3079], Loss: 0.0142\n",
            "Epoch [10/10], Step [1000/3079], Loss: 0.3884\n",
            "Epoch [10/10], Step [1100/3079], Loss: 0.2899\n",
            "Epoch [10/10], Step [1200/3079], Loss: 0.1954\n",
            "Epoch [10/10], Step [1300/3079], Loss: 0.0073\n",
            "Epoch [10/10], Step [1400/3079], Loss: 0.0105\n",
            "Epoch [10/10], Step [1500/3079], Loss: 0.1109\n",
            "Epoch [10/10], Step [1600/3079], Loss: 0.0188\n",
            "Epoch [10/10], Step [1700/3079], Loss: 0.0507\n",
            "Epoch [10/10], Step [1800/3079], Loss: 0.0156\n",
            "Epoch [10/10], Step [1900/3079], Loss: 0.0217\n",
            "Epoch [10/10], Step [2000/3079], Loss: 0.0547\n",
            "Epoch [10/10], Step [2100/3079], Loss: 0.0106\n",
            "Epoch [10/10], Step [2200/3079], Loss: 0.3708\n",
            "Epoch [10/10], Step [2300/3079], Loss: 0.1579\n",
            "Epoch [10/10], Step [2400/3079], Loss: 0.1218\n",
            "Epoch [10/10], Step [2500/3079], Loss: 0.0302\n",
            "Epoch [10/10], Step [2600/3079], Loss: 0.3556\n",
            "Epoch [10/10], Step [2700/3079], Loss: 0.0163\n",
            "Epoch [10/10], Step [2800/3079], Loss: 0.0402\n",
            "Epoch [10/10], Step [2900/3079], Loss: 0.1229\n",
            "Epoch [10/10], Step [3000/3079], Loss: 0.0278\n"
          ]
        },
        {
          "output_type": "stream",
          "name": "stderr",
          "text": [
            "2023-12-09 00:06:42,176 - root - INFO - Accuracy: 97.93%\n",
            "2023-12-09 00:06:42,177 - root - INFO - Precision: 0.9789\n",
            "2023-12-09 00:06:42,179 - root - INFO - Recall: 0.9793\n",
            "2023-12-09 00:06:42,180 - root - INFO - F1 Score: 0.9783\n"
          ]
        },
        {
          "output_type": "stream",
          "name": "stdout",
          "text": [
            "FOLD 2\n",
            "--------------------------------\n",
            "AttentionOSCNN(\n",
            "  (conv1): Conv1d(1, 128, kernel_size=(8,), stride=(1,), padding=same)\n",
            "  (bn1): BatchNorm1d(128, eps=1e-05, momentum=0.1, affine=True, track_running_stats=True)\n",
            "  (conv2): Conv1d(128, 256, kernel_size=(5,), stride=(1,), padding=same)\n",
            "  (bn2): BatchNorm1d(256, eps=1e-05, momentum=0.1, affine=True, track_running_stats=True)\n",
            "  (conv3): Conv1d(256, 128, kernel_size=(3,), stride=(1,), padding=same)\n",
            "  (bn3): BatchNorm1d(128, eps=1e-05, momentum=0.1, affine=True, track_running_stats=True)\n",
            "  (intermediate): Linear(in_features=1, out_features=128, bias=True)\n",
            "  (dropout): Dropout(p=0.8, inplace=False)\n",
            "  (attention): SelfAttention(\n",
            "    (query): Linear(in_features=128, out_features=128, bias=True)\n",
            "    (key): Linear(in_features=128, out_features=128, bias=True)\n",
            "    (value): Linear(in_features=128, out_features=128, bias=True)\n",
            "  )\n",
            "  (avg_pool): AdaptiveAvgPool1d(output_size=1)\n",
            "  (fc): Linear(in_features=256, out_features=5, bias=True)\n",
            ")\n",
            "Epoch [1/10], Step [100/3079], Loss: 0.9067\n",
            "Epoch [1/10], Step [200/3079], Loss: 0.4661\n",
            "Epoch [1/10], Step [300/3079], Loss: 0.9069\n",
            "Epoch [1/10], Step [400/3079], Loss: 0.2395\n",
            "Epoch [1/10], Step [500/3079], Loss: 0.4322\n",
            "Epoch [1/10], Step [600/3079], Loss: 0.3037\n",
            "Epoch [1/10], Step [700/3079], Loss: 0.0862\n",
            "Epoch [1/10], Step [800/3079], Loss: 0.1403\n",
            "Epoch [1/10], Step [900/3079], Loss: 0.3371\n",
            "Epoch [1/10], Step [1000/3079], Loss: 0.3621\n",
            "Epoch [1/10], Step [1100/3079], Loss: 0.2429\n",
            "Epoch [1/10], Step [1200/3079], Loss: 0.1891\n",
            "Epoch [1/10], Step [1300/3079], Loss: 0.3035\n",
            "Epoch [1/10], Step [1400/3079], Loss: 0.0620\n",
            "Epoch [1/10], Step [1500/3079], Loss: 0.2064\n",
            "Epoch [1/10], Step [1600/3079], Loss: 0.0830\n",
            "Epoch [1/10], Step [1700/3079], Loss: 0.1240\n",
            "Epoch [1/10], Step [1800/3079], Loss: 0.0895\n",
            "Epoch [1/10], Step [1900/3079], Loss: 0.1579\n",
            "Epoch [1/10], Step [2000/3079], Loss: 0.2008\n",
            "Epoch [1/10], Step [2100/3079], Loss: 0.0680\n",
            "Epoch [1/10], Step [2200/3079], Loss: 0.1121\n",
            "Epoch [1/10], Step [2300/3079], Loss: 0.1711\n",
            "Epoch [1/10], Step [2400/3079], Loss: 0.0899\n",
            "Epoch [1/10], Step [2500/3079], Loss: 0.2523\n",
            "Epoch [1/10], Step [2600/3079], Loss: 0.2709\n",
            "Epoch [1/10], Step [2700/3079], Loss: 0.1434\n",
            "Epoch [1/10], Step [2800/3079], Loss: 0.1154\n",
            "Epoch [1/10], Step [2900/3079], Loss: 0.0920\n",
            "Epoch [1/10], Step [3000/3079], Loss: 0.2742\n"
          ]
        },
        {
          "output_type": "stream",
          "name": "stderr",
          "text": [
            "/usr/local/lib/python3.10/dist-packages/sklearn/metrics/_classification.py:1344: UndefinedMetricWarning: Precision is ill-defined and being set to 0.0 in labels with no predicted samples. Use `zero_division` parameter to control this behavior.\n",
            "  _warn_prf(average, modifier, msg_start, len(result))\n",
            "2023-12-09 00:06:57,677 - root - INFO - Accuracy: 95.26%\n",
            "2023-12-09 00:06:57,678 - root - INFO - Precision: 0.9454\n",
            "2023-12-09 00:06:57,680 - root - INFO - Recall: 0.9526\n",
            "2023-12-09 00:06:57,681 - root - INFO - F1 Score: 0.9477\n"
          ]
        },
        {
          "output_type": "stream",
          "name": "stdout",
          "text": [
            "Epoch [2/10], Step [100/3079], Loss: 0.0875\n",
            "Epoch [2/10], Step [200/3079], Loss: 0.2400\n",
            "Epoch [2/10], Step [300/3079], Loss: 0.1584\n",
            "Epoch [2/10], Step [400/3079], Loss: 0.0645\n",
            "Epoch [2/10], Step [500/3079], Loss: 0.0714\n",
            "Epoch [2/10], Step [600/3079], Loss: 0.1193\n",
            "Epoch [2/10], Step [700/3079], Loss: 0.1213\n",
            "Epoch [2/10], Step [800/3079], Loss: 0.0600\n",
            "Epoch [2/10], Step [900/3079], Loss: 0.1042\n",
            "Epoch [2/10], Step [1000/3079], Loss: 0.1761\n",
            "Epoch [2/10], Step [1100/3079], Loss: 0.2573\n",
            "Epoch [2/10], Step [1200/3079], Loss: 0.2970\n",
            "Epoch [2/10], Step [1300/3079], Loss: 0.0549\n",
            "Epoch [2/10], Step [1400/3079], Loss: 0.0357\n",
            "Epoch [2/10], Step [1500/3079], Loss: 0.3215\n",
            "Epoch [2/10], Step [1600/3079], Loss: 0.0764\n",
            "Epoch [2/10], Step [1700/3079], Loss: 0.0701\n",
            "Epoch [2/10], Step [1800/3079], Loss: 0.0760\n",
            "Epoch [2/10], Step [1900/3079], Loss: 0.2860\n",
            "Epoch [2/10], Step [2000/3079], Loss: 0.0967\n",
            "Epoch [2/10], Step [2100/3079], Loss: 0.1908\n",
            "Epoch [2/10], Step [2200/3079], Loss: 0.0326\n",
            "Epoch [2/10], Step [2300/3079], Loss: 0.1140\n",
            "Epoch [2/10], Step [2400/3079], Loss: 0.0557\n",
            "Epoch [2/10], Step [2500/3079], Loss: 0.0792\n",
            "Epoch [2/10], Step [2600/3079], Loss: 0.2615\n",
            "Epoch [2/10], Step [2700/3079], Loss: 0.4049\n",
            "Epoch [2/10], Step [2800/3079], Loss: 0.1925\n",
            "Epoch [2/10], Step [2900/3079], Loss: 0.3017\n",
            "Epoch [2/10], Step [3000/3079], Loss: 0.1220\n"
          ]
        },
        {
          "output_type": "stream",
          "name": "stderr",
          "text": [
            "2023-12-09 00:07:13,208 - root - INFO - Accuracy: 96.05%\n",
            "2023-12-09 00:07:13,210 - root - INFO - Precision: 0.9606\n",
            "2023-12-09 00:07:13,211 - root - INFO - Recall: 0.9605\n",
            "2023-12-09 00:07:13,212 - root - INFO - F1 Score: 0.9542\n"
          ]
        },
        {
          "output_type": "stream",
          "name": "stdout",
          "text": [
            "Epoch [3/10], Step [100/3079], Loss: 0.1346\n",
            "Epoch [3/10], Step [200/3079], Loss: 0.0666\n",
            "Epoch [3/10], Step [300/3079], Loss: 0.0854\n",
            "Epoch [3/10], Step [400/3079], Loss: 0.0802\n",
            "Epoch [3/10], Step [500/3079], Loss: 0.1878\n",
            "Epoch [3/10], Step [600/3079], Loss: 0.1504\n",
            "Epoch [3/10], Step [700/3079], Loss: 0.1188\n",
            "Epoch [3/10], Step [800/3079], Loss: 0.0910\n",
            "Epoch [3/10], Step [900/3079], Loss: 0.0647\n",
            "Epoch [3/10], Step [1000/3079], Loss: 0.1752\n",
            "Epoch [3/10], Step [1100/3079], Loss: 0.1171\n",
            "Epoch [3/10], Step [1200/3079], Loss: 0.0518\n",
            "Epoch [3/10], Step [1300/3079], Loss: 0.0233\n",
            "Epoch [3/10], Step [1400/3079], Loss: 0.1018\n",
            "Epoch [3/10], Step [1500/3079], Loss: 0.1266\n",
            "Epoch [3/10], Step [1600/3079], Loss: 0.4166\n",
            "Epoch [3/10], Step [1700/3079], Loss: 0.1582\n",
            "Epoch [3/10], Step [1800/3079], Loss: 0.0951\n",
            "Epoch [3/10], Step [1900/3079], Loss: 0.0472\n",
            "Epoch [3/10], Step [2000/3079], Loss: 0.1978\n",
            "Epoch [3/10], Step [2100/3079], Loss: 0.1401\n",
            "Epoch [3/10], Step [2200/3079], Loss: 0.0546\n",
            "Epoch [3/10], Step [2300/3079], Loss: 0.0307\n",
            "Epoch [3/10], Step [2400/3079], Loss: 0.0874\n",
            "Epoch [3/10], Step [2500/3079], Loss: 0.1391\n",
            "Epoch [3/10], Step [2600/3079], Loss: 0.0414\n",
            "Epoch [3/10], Step [2700/3079], Loss: 0.1819\n",
            "Epoch [3/10], Step [2800/3079], Loss: 0.0496\n",
            "Epoch [3/10], Step [2900/3079], Loss: 0.2113\n",
            "Epoch [3/10], Step [3000/3079], Loss: 0.1179\n"
          ]
        },
        {
          "output_type": "stream",
          "name": "stderr",
          "text": [
            "2023-12-09 00:07:28,796 - root - INFO - Accuracy: 95.00%\n",
            "2023-12-09 00:07:28,797 - root - INFO - Precision: 0.9495\n",
            "2023-12-09 00:07:28,798 - root - INFO - Recall: 0.9500\n",
            "2023-12-09 00:07:28,798 - root - INFO - F1 Score: 0.9397\n"
          ]
        },
        {
          "output_type": "stream",
          "name": "stdout",
          "text": [
            "Epoch [4/10], Step [100/3079], Loss: 0.2480\n",
            "Epoch [4/10], Step [200/3079], Loss: 0.1244\n",
            "Epoch [4/10], Step [300/3079], Loss: 0.1163\n",
            "Epoch [4/10], Step [400/3079], Loss: 0.0316\n",
            "Epoch [4/10], Step [500/3079], Loss: 0.1337\n",
            "Epoch [4/10], Step [600/3079], Loss: 0.2002\n",
            "Epoch [4/10], Step [700/3079], Loss: 0.3505\n",
            "Epoch [4/10], Step [800/3079], Loss: 0.0379\n",
            "Epoch [4/10], Step [900/3079], Loss: 0.1625\n",
            "Epoch [4/10], Step [1000/3079], Loss: 0.0197\n",
            "Epoch [4/10], Step [1100/3079], Loss: 0.0393\n",
            "Epoch [4/10], Step [1200/3079], Loss: 0.0843\n",
            "Epoch [4/10], Step [1300/3079], Loss: 0.2023\n",
            "Epoch [4/10], Step [1400/3079], Loss: 0.0390\n",
            "Epoch [4/10], Step [1500/3079], Loss: 0.0074\n",
            "Epoch [4/10], Step [1600/3079], Loss: 0.1916\n",
            "Epoch [4/10], Step [1700/3079], Loss: 0.2325\n",
            "Epoch [4/10], Step [1800/3079], Loss: 0.0920\n",
            "Epoch [4/10], Step [1900/3079], Loss: 0.0471\n",
            "Epoch [4/10], Step [2000/3079], Loss: 0.0669\n",
            "Epoch [4/10], Step [2100/3079], Loss: 0.2836\n",
            "Epoch [4/10], Step [2200/3079], Loss: 0.0245\n",
            "Epoch [4/10], Step [2300/3079], Loss: 0.1989\n",
            "Epoch [4/10], Step [2400/3079], Loss: 0.0893\n",
            "Epoch [4/10], Step [2500/3079], Loss: 0.4277\n",
            "Epoch [4/10], Step [2600/3079], Loss: 0.0323\n",
            "Epoch [4/10], Step [2700/3079], Loss: 0.1195\n",
            "Epoch [4/10], Step [2800/3079], Loss: 0.1279\n",
            "Epoch [4/10], Step [2900/3079], Loss: 0.0606\n",
            "Epoch [4/10], Step [3000/3079], Loss: 0.0217\n"
          ]
        },
        {
          "output_type": "stream",
          "name": "stderr",
          "text": [
            "2023-12-09 00:07:44,475 - root - INFO - Accuracy: 95.84%\n",
            "2023-12-09 00:07:44,477 - root - INFO - Precision: 0.9600\n",
            "2023-12-09 00:07:44,477 - root - INFO - Recall: 0.9584\n",
            "2023-12-09 00:07:44,478 - root - INFO - F1 Score: 0.9581\n"
          ]
        },
        {
          "output_type": "stream",
          "name": "stdout",
          "text": [
            "Epoch [5/10], Step [100/3079], Loss: 0.1698\n",
            "Epoch [5/10], Step [200/3079], Loss: 0.0287\n",
            "Epoch [5/10], Step [300/3079], Loss: 0.1307\n",
            "Epoch [5/10], Step [400/3079], Loss: 0.0339\n",
            "Epoch [5/10], Step [500/3079], Loss: 0.2201\n",
            "Epoch [5/10], Step [600/3079], Loss: 0.0813\n",
            "Epoch [5/10], Step [700/3079], Loss: 0.0328\n",
            "Epoch [5/10], Step [800/3079], Loss: 0.0177\n",
            "Epoch [5/10], Step [900/3079], Loss: 0.1224\n",
            "Epoch [5/10], Step [1000/3079], Loss: 0.1169\n",
            "Epoch [5/10], Step [1100/3079], Loss: 0.1126\n",
            "Epoch [5/10], Step [1200/3079], Loss: 0.0430\n",
            "Epoch [5/10], Step [1300/3079], Loss: 0.1719\n",
            "Epoch [5/10], Step [1400/3079], Loss: 0.0860\n",
            "Epoch [5/10], Step [1500/3079], Loss: 0.1709\n",
            "Epoch [5/10], Step [1600/3079], Loss: 0.0332\n",
            "Epoch [5/10], Step [1700/3079], Loss: 0.0983\n",
            "Epoch [5/10], Step [1800/3079], Loss: 0.0156\n",
            "Epoch [5/10], Step [1900/3079], Loss: 0.2524\n",
            "Epoch [5/10], Step [2000/3079], Loss: 0.0702\n",
            "Epoch [5/10], Step [2100/3079], Loss: 0.0169\n",
            "Epoch [5/10], Step [2200/3079], Loss: 0.0089\n",
            "Epoch [5/10], Step [2300/3079], Loss: 0.0094\n",
            "Epoch [5/10], Step [2400/3079], Loss: 0.0415\n",
            "Epoch [5/10], Step [2500/3079], Loss: 0.0061\n",
            "Epoch [5/10], Step [2600/3079], Loss: 0.0440\n",
            "Epoch [5/10], Step [2700/3079], Loss: 0.0523\n",
            "Epoch [5/10], Step [2800/3079], Loss: 0.0237\n",
            "Epoch [5/10], Step [2900/3079], Loss: 0.0284\n",
            "Epoch [5/10], Step [3000/3079], Loss: 0.1690\n"
          ]
        },
        {
          "output_type": "stream",
          "name": "stderr",
          "text": [
            "2023-12-09 00:07:59,965 - root - INFO - Accuracy: 96.97%\n",
            "2023-12-09 00:07:59,967 - root - INFO - Precision: 0.9690\n",
            "2023-12-09 00:07:59,968 - root - INFO - Recall: 0.9697\n",
            "2023-12-09 00:07:59,969 - root - INFO - F1 Score: 0.9675\n"
          ]
        },
        {
          "output_type": "stream",
          "name": "stdout",
          "text": [
            "Epoch [6/10], Step [100/3079], Loss: 0.0354\n",
            "Epoch [6/10], Step [200/3079], Loss: 0.0260\n",
            "Epoch [6/10], Step [300/3079], Loss: 0.1277\n",
            "Epoch [6/10], Step [400/3079], Loss: 0.2073\n",
            "Epoch [6/10], Step [500/3079], Loss: 0.0124\n",
            "Epoch [6/10], Step [600/3079], Loss: 0.0800\n",
            "Epoch [6/10], Step [700/3079], Loss: 0.0277\n",
            "Epoch [6/10], Step [800/3079], Loss: 0.1127\n",
            "Epoch [6/10], Step [900/3079], Loss: 0.0260\n",
            "Epoch [6/10], Step [1000/3079], Loss: 0.0835\n",
            "Epoch [6/10], Step [1100/3079], Loss: 0.0051\n",
            "Epoch [6/10], Step [1200/3079], Loss: 0.0262\n",
            "Epoch [6/10], Step [1300/3079], Loss: 0.1082\n",
            "Epoch [6/10], Step [1400/3079], Loss: 0.0151\n",
            "Epoch [6/10], Step [1500/3079], Loss: 0.0810\n",
            "Epoch [6/10], Step [1600/3079], Loss: 0.0424\n",
            "Epoch [6/10], Step [1700/3079], Loss: 0.1941\n",
            "Epoch [6/10], Step [1800/3079], Loss: 0.0115\n",
            "Epoch [6/10], Step [1900/3079], Loss: 0.0197\n",
            "Epoch [6/10], Step [2000/3079], Loss: 0.0250\n",
            "Epoch [6/10], Step [2100/3079], Loss: 0.0364\n",
            "Epoch [6/10], Step [2200/3079], Loss: 0.0270\n",
            "Epoch [6/10], Step [2300/3079], Loss: 0.0101\n",
            "Epoch [6/10], Step [2400/3079], Loss: 0.0302\n",
            "Epoch [6/10], Step [2500/3079], Loss: 0.1112\n",
            "Epoch [6/10], Step [2600/3079], Loss: 0.0596\n",
            "Epoch [6/10], Step [2700/3079], Loss: 0.0351\n",
            "Epoch [6/10], Step [2800/3079], Loss: 0.1084\n",
            "Epoch [6/10], Step [2900/3079], Loss: 0.0100\n",
            "Epoch [6/10], Step [3000/3079], Loss: 0.0987\n"
          ]
        },
        {
          "output_type": "stream",
          "name": "stderr",
          "text": [
            "2023-12-09 00:08:15,875 - root - INFO - Accuracy: 97.42%\n",
            "2023-12-09 00:08:15,876 - root - INFO - Precision: 0.9736\n",
            "2023-12-09 00:08:15,877 - root - INFO - Recall: 0.9742\n",
            "2023-12-09 00:08:15,879 - root - INFO - F1 Score: 0.9722\n"
          ]
        },
        {
          "output_type": "stream",
          "name": "stdout",
          "text": [
            "Epoch [7/10], Step [100/3079], Loss: 0.1630\n",
            "Epoch [7/10], Step [200/3079], Loss: 0.0300\n",
            "Epoch [7/10], Step [300/3079], Loss: 0.0146\n",
            "Epoch [7/10], Step [400/3079], Loss: 0.1664\n",
            "Epoch [7/10], Step [500/3079], Loss: 0.0119\n",
            "Epoch [7/10], Step [600/3079], Loss: 0.1427\n",
            "Epoch [7/10], Step [700/3079], Loss: 0.0860\n",
            "Epoch [7/10], Step [800/3079], Loss: 0.0247\n",
            "Epoch [7/10], Step [900/3079], Loss: 0.1367\n",
            "Epoch [7/10], Step [1000/3079], Loss: 0.0716\n",
            "Epoch [7/10], Step [1100/3079], Loss: 0.0824\n",
            "Epoch [7/10], Step [1200/3079], Loss: 0.0198\n",
            "Epoch [7/10], Step [1300/3079], Loss: 0.0211\n",
            "Epoch [7/10], Step [1400/3079], Loss: 0.0038\n",
            "Epoch [7/10], Step [1500/3079], Loss: 0.1075\n",
            "Epoch [7/10], Step [1600/3079], Loss: 0.0194\n",
            "Epoch [7/10], Step [1700/3079], Loss: 0.0858\n",
            "Epoch [7/10], Step [1800/3079], Loss: 0.1346\n",
            "Epoch [7/10], Step [1900/3079], Loss: 0.0354\n",
            "Epoch [7/10], Step [2000/3079], Loss: 0.0560\n",
            "Epoch [7/10], Step [2100/3079], Loss: 0.0220\n",
            "Epoch [7/10], Step [2200/3079], Loss: 0.3271\n",
            "Epoch [7/10], Step [2300/3079], Loss: 0.0149\n",
            "Epoch [7/10], Step [2400/3079], Loss: 0.0464\n",
            "Epoch [7/10], Step [2500/3079], Loss: 0.2498\n",
            "Epoch [7/10], Step [2600/3079], Loss: 0.0377\n",
            "Epoch [7/10], Step [2700/3079], Loss: 0.2242\n",
            "Epoch [7/10], Step [2800/3079], Loss: 0.0247\n",
            "Epoch [7/10], Step [2900/3079], Loss: 0.0193\n",
            "Epoch [7/10], Step [3000/3079], Loss: 0.0955\n"
          ]
        },
        {
          "output_type": "stream",
          "name": "stderr",
          "text": [
            "2023-12-09 00:08:31,581 - root - INFO - Accuracy: 97.07%\n",
            "2023-12-09 00:08:31,582 - root - INFO - Precision: 0.9699\n",
            "2023-12-09 00:08:31,583 - root - INFO - Recall: 0.9707\n",
            "2023-12-09 00:08:31,584 - root - INFO - F1 Score: 0.9697\n"
          ]
        },
        {
          "output_type": "stream",
          "name": "stdout",
          "text": [
            "Epoch [8/10], Step [100/3079], Loss: 0.0946\n",
            "Epoch [8/10], Step [200/3079], Loss: 0.0197\n",
            "Epoch [8/10], Step [300/3079], Loss: 0.0552\n",
            "Epoch [8/10], Step [400/3079], Loss: 0.0464\n",
            "Epoch [8/10], Step [500/3079], Loss: 0.0930\n",
            "Epoch [8/10], Step [600/3079], Loss: 0.0255\n",
            "Epoch [8/10], Step [700/3079], Loss: 0.0541\n",
            "Epoch [8/10], Step [800/3079], Loss: 0.4337\n",
            "Epoch [8/10], Step [900/3079], Loss: 0.0090\n",
            "Epoch [8/10], Step [1000/3079], Loss: 0.1915\n",
            "Epoch [8/10], Step [1100/3079], Loss: 0.1176\n",
            "Epoch [8/10], Step [1200/3079], Loss: 0.0235\n",
            "Epoch [8/10], Step [1300/3079], Loss: 0.0149\n",
            "Epoch [8/10], Step [1400/3079], Loss: 0.0857\n",
            "Epoch [8/10], Step [1500/3079], Loss: 0.0562\n",
            "Epoch [8/10], Step [1600/3079], Loss: 0.0608\n",
            "Epoch [8/10], Step [1700/3079], Loss: 0.0948\n",
            "Epoch [8/10], Step [1800/3079], Loss: 0.1300\n",
            "Epoch [8/10], Step [1900/3079], Loss: 0.0256\n",
            "Epoch [8/10], Step [2000/3079], Loss: 0.0131\n",
            "Epoch [8/10], Step [2100/3079], Loss: 0.0297\n",
            "Epoch [8/10], Step [2200/3079], Loss: 0.0579\n",
            "Epoch [8/10], Step [2300/3079], Loss: 0.0227\n",
            "Epoch [8/10], Step [2400/3079], Loss: 0.0373\n",
            "Epoch [8/10], Step [2500/3079], Loss: 0.1087\n",
            "Epoch [8/10], Step [2600/3079], Loss: 0.0510\n",
            "Epoch [8/10], Step [2700/3079], Loss: 0.1580\n",
            "Epoch [8/10], Step [2800/3079], Loss: 0.1353\n",
            "Epoch [8/10], Step [2900/3079], Loss: 0.0464\n",
            "Epoch [8/10], Step [3000/3079], Loss: 0.1424\n"
          ]
        },
        {
          "output_type": "stream",
          "name": "stderr",
          "text": [
            "2023-12-09 00:08:47,583 - root - INFO - Accuracy: 97.44%\n",
            "2023-12-09 00:08:47,585 - root - INFO - Precision: 0.9735\n",
            "2023-12-09 00:08:47,585 - root - INFO - Recall: 0.9744\n",
            "2023-12-09 00:08:47,586 - root - INFO - F1 Score: 0.9733\n"
          ]
        },
        {
          "output_type": "stream",
          "name": "stdout",
          "text": [
            "Epoch [9/10], Step [100/3079], Loss: 0.0235\n",
            "Epoch [9/10], Step [200/3079], Loss: 0.0741\n",
            "Epoch [9/10], Step [300/3079], Loss: 0.0671\n",
            "Epoch [9/10], Step [400/3079], Loss: 0.0296\n",
            "Epoch [9/10], Step [500/3079], Loss: 0.0289\n",
            "Epoch [9/10], Step [600/3079], Loss: 0.0299\n",
            "Epoch [9/10], Step [700/3079], Loss: 0.1314\n",
            "Epoch [9/10], Step [800/3079], Loss: 0.0312\n",
            "Epoch [9/10], Step [900/3079], Loss: 0.0716\n",
            "Epoch [9/10], Step [1000/3079], Loss: 0.0944\n",
            "Epoch [9/10], Step [1100/3079], Loss: 0.0243\n",
            "Epoch [9/10], Step [1200/3079], Loss: 0.0084\n",
            "Epoch [9/10], Step [1300/3079], Loss: 0.0443\n",
            "Epoch [9/10], Step [1400/3079], Loss: 0.0419\n",
            "Epoch [9/10], Step [1500/3079], Loss: 0.0109\n",
            "Epoch [9/10], Step [1600/3079], Loss: 0.0491\n",
            "Epoch [9/10], Step [1700/3079], Loss: 0.2908\n",
            "Epoch [9/10], Step [1800/3079], Loss: 0.1293\n",
            "Epoch [9/10], Step [1900/3079], Loss: 0.0702\n",
            "Epoch [9/10], Step [2000/3079], Loss: 0.0183\n",
            "Epoch [9/10], Step [2100/3079], Loss: 0.0938\n",
            "Epoch [9/10], Step [2200/3079], Loss: 0.0387\n",
            "Epoch [9/10], Step [2300/3079], Loss: 0.3211\n",
            "Epoch [9/10], Step [2400/3079], Loss: 0.0053\n",
            "Epoch [9/10], Step [2500/3079], Loss: 0.2392\n",
            "Epoch [9/10], Step [2600/3079], Loss: 0.0357\n",
            "Epoch [9/10], Step [2700/3079], Loss: 0.0258\n",
            "Epoch [9/10], Step [2800/3079], Loss: 0.0212\n",
            "Epoch [9/10], Step [2900/3079], Loss: 0.0158\n",
            "Epoch [9/10], Step [3000/3079], Loss: 0.0703\n"
          ]
        },
        {
          "output_type": "stream",
          "name": "stderr",
          "text": [
            "2023-12-09 00:09:03,408 - root - INFO - Accuracy: 97.60%\n",
            "2023-12-09 00:09:03,409 - root - INFO - Precision: 0.9753\n",
            "2023-12-09 00:09:03,410 - root - INFO - Recall: 0.9760\n",
            "2023-12-09 00:09:03,410 - root - INFO - F1 Score: 0.9743\n"
          ]
        },
        {
          "output_type": "stream",
          "name": "stdout",
          "text": [
            "Epoch [10/10], Step [100/3079], Loss: 0.1828\n",
            "Epoch [10/10], Step [200/3079], Loss: 0.1535\n",
            "Epoch [10/10], Step [300/3079], Loss: 0.0564\n",
            "Epoch [10/10], Step [400/3079], Loss: 0.0238\n",
            "Epoch [10/10], Step [500/3079], Loss: 0.0192\n",
            "Epoch [10/10], Step [600/3079], Loss: 0.1092\n",
            "Epoch [10/10], Step [700/3079], Loss: 0.0112\n",
            "Epoch [10/10], Step [800/3079], Loss: 0.0127\n",
            "Epoch [10/10], Step [900/3079], Loss: 0.0728\n",
            "Epoch [10/10], Step [1000/3079], Loss: 0.1014\n",
            "Epoch [10/10], Step [1100/3079], Loss: 0.0102\n",
            "Epoch [10/10], Step [1200/3079], Loss: 0.2471\n",
            "Epoch [10/10], Step [1300/3079], Loss: 0.0183\n",
            "Epoch [10/10], Step [1400/3079], Loss: 0.1962\n",
            "Epoch [10/10], Step [1500/3079], Loss: 0.0197\n",
            "Epoch [10/10], Step [1600/3079], Loss: 0.1788\n",
            "Epoch [10/10], Step [1700/3079], Loss: 0.0081\n",
            "Epoch [10/10], Step [1800/3079], Loss: 0.0335\n",
            "Epoch [10/10], Step [1900/3079], Loss: 0.0392\n",
            "Epoch [10/10], Step [2000/3079], Loss: 0.0873\n",
            "Epoch [10/10], Step [2100/3079], Loss: 0.0732\n",
            "Epoch [10/10], Step [2200/3079], Loss: 0.0400\n",
            "Epoch [10/10], Step [2300/3079], Loss: 0.0498\n",
            "Epoch [10/10], Step [2400/3079], Loss: 0.1867\n",
            "Epoch [10/10], Step [2500/3079], Loss: 0.0495\n",
            "Epoch [10/10], Step [2600/3079], Loss: 0.1482\n",
            "Epoch [10/10], Step [2700/3079], Loss: 0.0166\n",
            "Epoch [10/10], Step [2800/3079], Loss: 0.1342\n",
            "Epoch [10/10], Step [2900/3079], Loss: 0.0055\n",
            "Epoch [10/10], Step [3000/3079], Loss: 0.2231\n"
          ]
        },
        {
          "output_type": "stream",
          "name": "stderr",
          "text": [
            "2023-12-09 00:09:19,077 - root - INFO - Accuracy: 97.32%\n",
            "2023-12-09 00:09:19,079 - root - INFO - Precision: 0.9724\n",
            "2023-12-09 00:09:19,080 - root - INFO - Recall: 0.9732\n",
            "2023-12-09 00:09:19,081 - root - INFO - F1 Score: 0.9722\n"
          ]
        },
        {
          "output_type": "stream",
          "name": "stdout",
          "text": [
            "FOLD 3\n",
            "--------------------------------\n",
            "AttentionOSCNN(\n",
            "  (conv1): Conv1d(1, 128, kernel_size=(8,), stride=(1,), padding=same)\n",
            "  (bn1): BatchNorm1d(128, eps=1e-05, momentum=0.1, affine=True, track_running_stats=True)\n",
            "  (conv2): Conv1d(128, 256, kernel_size=(5,), stride=(1,), padding=same)\n",
            "  (bn2): BatchNorm1d(256, eps=1e-05, momentum=0.1, affine=True, track_running_stats=True)\n",
            "  (conv3): Conv1d(256, 128, kernel_size=(3,), stride=(1,), padding=same)\n",
            "  (bn3): BatchNorm1d(128, eps=1e-05, momentum=0.1, affine=True, track_running_stats=True)\n",
            "  (intermediate): Linear(in_features=1, out_features=128, bias=True)\n",
            "  (dropout): Dropout(p=0.8, inplace=False)\n",
            "  (attention): SelfAttention(\n",
            "    (query): Linear(in_features=128, out_features=128, bias=True)\n",
            "    (key): Linear(in_features=128, out_features=128, bias=True)\n",
            "    (value): Linear(in_features=128, out_features=128, bias=True)\n",
            "  )\n",
            "  (avg_pool): AdaptiveAvgPool1d(output_size=1)\n",
            "  (fc): Linear(in_features=256, out_features=5, bias=True)\n",
            ")\n",
            "Epoch [1/10], Step [100/3079], Loss: 0.4799\n",
            "Epoch [1/10], Step [200/3079], Loss: 0.4421\n",
            "Epoch [1/10], Step [300/3079], Loss: 0.1502\n",
            "Epoch [1/10], Step [400/3079], Loss: 0.3875\n",
            "Epoch [1/10], Step [500/3079], Loss: 0.2028\n",
            "Epoch [1/10], Step [600/3079], Loss: 0.5638\n",
            "Epoch [1/10], Step [700/3079], Loss: 0.1980\n",
            "Epoch [1/10], Step [800/3079], Loss: 0.0999\n",
            "Epoch [1/10], Step [900/3079], Loss: 0.1588\n",
            "Epoch [1/10], Step [1000/3079], Loss: 0.3293\n",
            "Epoch [1/10], Step [1100/3079], Loss: 0.2825\n",
            "Epoch [1/10], Step [1200/3079], Loss: 0.2275\n",
            "Epoch [1/10], Step [1300/3079], Loss: 0.1764\n",
            "Epoch [1/10], Step [1400/3079], Loss: 0.2723\n",
            "Epoch [1/10], Step [1500/3079], Loss: 0.1420\n",
            "Epoch [1/10], Step [1600/3079], Loss: 0.1061\n",
            "Epoch [1/10], Step [1700/3079], Loss: 0.2817\n",
            "Epoch [1/10], Step [1800/3079], Loss: 0.1060\n",
            "Epoch [1/10], Step [1900/3079], Loss: 0.0543\n",
            "Epoch [1/10], Step [2000/3079], Loss: 0.0889\n",
            "Epoch [1/10], Step [2100/3079], Loss: 0.2036\n",
            "Epoch [1/10], Step [2200/3079], Loss: 0.1998\n",
            "Epoch [1/10], Step [2300/3079], Loss: 0.4996\n",
            "Epoch [1/10], Step [2400/3079], Loss: 0.0226\n",
            "Epoch [1/10], Step [2500/3079], Loss: 0.3043\n",
            "Epoch [1/10], Step [2600/3079], Loss: 0.1148\n",
            "Epoch [1/10], Step [2700/3079], Loss: 0.2138\n",
            "Epoch [1/10], Step [2800/3079], Loss: 0.1023\n",
            "Epoch [1/10], Step [2900/3079], Loss: 0.3518\n",
            "Epoch [1/10], Step [3000/3079], Loss: 0.2445\n"
          ]
        },
        {
          "output_type": "stream",
          "name": "stderr",
          "text": [
            "2023-12-09 00:09:35,076 - root - INFO - Accuracy: 94.76%\n",
            "2023-12-09 00:09:35,077 - root - INFO - Precision: 0.9470\n",
            "2023-12-09 00:09:35,078 - root - INFO - Recall: 0.9476\n",
            "2023-12-09 00:09:35,079 - root - INFO - F1 Score: 0.9360\n"
          ]
        },
        {
          "output_type": "stream",
          "name": "stdout",
          "text": [
            "Epoch [2/10], Step [100/3079], Loss: 0.2589\n",
            "Epoch [2/10], Step [200/3079], Loss: 0.1152\n",
            "Epoch [2/10], Step [300/3079], Loss: 0.0542\n",
            "Epoch [2/10], Step [400/3079], Loss: 0.0743\n",
            "Epoch [2/10], Step [500/3079], Loss: 0.0260\n",
            "Epoch [2/10], Step [600/3079], Loss: 0.2369\n",
            "Epoch [2/10], Step [700/3079], Loss: 0.0826\n",
            "Epoch [2/10], Step [800/3079], Loss: 0.0792\n",
            "Epoch [2/10], Step [900/3079], Loss: 0.2969\n",
            "Epoch [2/10], Step [1000/3079], Loss: 0.2739\n",
            "Epoch [2/10], Step [1100/3079], Loss: 0.1057\n",
            "Epoch [2/10], Step [1200/3079], Loss: 0.2618\n",
            "Epoch [2/10], Step [1300/3079], Loss: 0.2558\n",
            "Epoch [2/10], Step [1400/3079], Loss: 0.2051\n",
            "Epoch [2/10], Step [1500/3079], Loss: 0.1297\n",
            "Epoch [2/10], Step [1600/3079], Loss: 0.0379\n",
            "Epoch [2/10], Step [1700/3079], Loss: 0.2109\n",
            "Epoch [2/10], Step [1800/3079], Loss: 0.0465\n",
            "Epoch [2/10], Step [1900/3079], Loss: 0.4661\n",
            "Epoch [2/10], Step [2000/3079], Loss: 0.1396\n",
            "Epoch [2/10], Step [2100/3079], Loss: 0.0725\n",
            "Epoch [2/10], Step [2200/3079], Loss: 0.3615\n",
            "Epoch [2/10], Step [2300/3079], Loss: 0.1613\n",
            "Epoch [2/10], Step [2400/3079], Loss: 0.1224\n",
            "Epoch [2/10], Step [2500/3079], Loss: 0.2320\n",
            "Epoch [2/10], Step [2600/3079], Loss: 0.0348\n",
            "Epoch [2/10], Step [2700/3079], Loss: 0.3161\n",
            "Epoch [2/10], Step [2800/3079], Loss: 0.2452\n",
            "Epoch [2/10], Step [2900/3079], Loss: 0.0433\n",
            "Epoch [2/10], Step [3000/3079], Loss: 0.0395\n"
          ]
        },
        {
          "output_type": "stream",
          "name": "stderr",
          "text": [
            "2023-12-09 00:09:50,924 - root - INFO - Accuracy: 96.25%\n",
            "2023-12-09 00:09:50,925 - root - INFO - Precision: 0.9609\n",
            "2023-12-09 00:09:50,926 - root - INFO - Recall: 0.9625\n",
            "2023-12-09 00:09:50,927 - root - INFO - F1 Score: 0.9606\n"
          ]
        },
        {
          "output_type": "stream",
          "name": "stdout",
          "text": [
            "Epoch [3/10], Step [100/3079], Loss: 0.2293\n",
            "Epoch [3/10], Step [200/3079], Loss: 0.2196\n",
            "Epoch [3/10], Step [300/3079], Loss: 0.0604\n",
            "Epoch [3/10], Step [400/3079], Loss: 0.0317\n",
            "Epoch [3/10], Step [500/3079], Loss: 0.1015\n",
            "Epoch [3/10], Step [600/3079], Loss: 0.1114\n",
            "Epoch [3/10], Step [700/3079], Loss: 0.0419\n",
            "Epoch [3/10], Step [800/3079], Loss: 0.1022\n",
            "Epoch [3/10], Step [900/3079], Loss: 0.0185\n",
            "Epoch [3/10], Step [1000/3079], Loss: 0.0487\n",
            "Epoch [3/10], Step [1100/3079], Loss: 0.0528\n",
            "Epoch [3/10], Step [1200/3079], Loss: 0.0311\n",
            "Epoch [3/10], Step [1300/3079], Loss: 0.1030\n",
            "Epoch [3/10], Step [1400/3079], Loss: 0.0507\n",
            "Epoch [3/10], Step [1500/3079], Loss: 0.0892\n",
            "Epoch [3/10], Step [1600/3079], Loss: 0.1366\n",
            "Epoch [3/10], Step [1700/3079], Loss: 0.1576\n",
            "Epoch [3/10], Step [1800/3079], Loss: 0.0865\n",
            "Epoch [3/10], Step [1900/3079], Loss: 0.4603\n",
            "Epoch [3/10], Step [2000/3079], Loss: 0.1852\n",
            "Epoch [3/10], Step [2100/3079], Loss: 0.1324\n",
            "Epoch [3/10], Step [2200/3079], Loss: 0.0625\n",
            "Epoch [3/10], Step [2300/3079], Loss: 0.2973\n",
            "Epoch [3/10], Step [2400/3079], Loss: 0.0893\n",
            "Epoch [3/10], Step [2500/3079], Loss: 0.0530\n",
            "Epoch [3/10], Step [2600/3079], Loss: 0.0572\n",
            "Epoch [3/10], Step [2700/3079], Loss: 0.0974\n",
            "Epoch [3/10], Step [2800/3079], Loss: 0.1811\n",
            "Epoch [3/10], Step [2900/3079], Loss: 0.0508\n",
            "Epoch [3/10], Step [3000/3079], Loss: 0.0333\n"
          ]
        },
        {
          "output_type": "stream",
          "name": "stderr",
          "text": [
            "2023-12-09 00:10:06,798 - root - INFO - Accuracy: 96.88%\n",
            "2023-12-09 00:10:06,799 - root - INFO - Precision: 0.9685\n",
            "2023-12-09 00:10:06,800 - root - INFO - Recall: 0.9688\n",
            "2023-12-09 00:10:06,801 - root - INFO - F1 Score: 0.9664\n"
          ]
        },
        {
          "output_type": "stream",
          "name": "stdout",
          "text": [
            "Epoch [4/10], Step [100/3079], Loss: 0.1411\n",
            "Epoch [4/10], Step [200/3079], Loss: 0.0545\n",
            "Epoch [4/10], Step [300/3079], Loss: 0.1869\n",
            "Epoch [4/10], Step [400/3079], Loss: 0.0253\n",
            "Epoch [4/10], Step [500/3079], Loss: 0.0685\n",
            "Epoch [4/10], Step [600/3079], Loss: 0.0232\n",
            "Epoch [4/10], Step [700/3079], Loss: 0.0203\n",
            "Epoch [4/10], Step [800/3079], Loss: 0.1400\n",
            "Epoch [4/10], Step [900/3079], Loss: 0.2333\n",
            "Epoch [4/10], Step [1000/3079], Loss: 0.0390\n",
            "Epoch [4/10], Step [1100/3079], Loss: 0.2144\n",
            "Epoch [4/10], Step [1200/3079], Loss: 0.1152\n",
            "Epoch [4/10], Step [1300/3079], Loss: 0.0525\n",
            "Epoch [4/10], Step [1400/3079], Loss: 0.1037\n",
            "Epoch [4/10], Step [1500/3079], Loss: 0.0463\n",
            "Epoch [4/10], Step [1600/3079], Loss: 0.1821\n",
            "Epoch [4/10], Step [1700/3079], Loss: 0.0273\n",
            "Epoch [4/10], Step [1800/3079], Loss: 0.0348\n",
            "Epoch [4/10], Step [1900/3079], Loss: 0.0187\n",
            "Epoch [4/10], Step [2000/3079], Loss: 0.1989\n",
            "Epoch [4/10], Step [2100/3079], Loss: 0.2222\n",
            "Epoch [4/10], Step [2200/3079], Loss: 0.0824\n",
            "Epoch [4/10], Step [2300/3079], Loss: 0.0682\n",
            "Epoch [4/10], Step [2400/3079], Loss: 0.1302\n",
            "Epoch [4/10], Step [2500/3079], Loss: 0.1371\n",
            "Epoch [4/10], Step [2600/3079], Loss: 0.2042\n",
            "Epoch [4/10], Step [2700/3079], Loss: 0.0457\n",
            "Epoch [4/10], Step [2800/3079], Loss: 0.2165\n",
            "Epoch [4/10], Step [2900/3079], Loss: 0.1787\n",
            "Epoch [4/10], Step [3000/3079], Loss: 0.0356\n"
          ]
        },
        {
          "output_type": "stream",
          "name": "stderr",
          "text": [
            "2023-12-09 00:10:22,411 - root - INFO - Accuracy: 96.36%\n",
            "2023-12-09 00:10:22,412 - root - INFO - Precision: 0.9627\n",
            "2023-12-09 00:10:22,413 - root - INFO - Recall: 0.9636\n",
            "2023-12-09 00:10:22,414 - root - INFO - F1 Score: 0.9602\n"
          ]
        },
        {
          "output_type": "stream",
          "name": "stdout",
          "text": [
            "Epoch [5/10], Step [100/3079], Loss: 0.2125\n",
            "Epoch [5/10], Step [200/3079], Loss: 0.1465\n",
            "Epoch [5/10], Step [300/3079], Loss: 0.0195\n",
            "Epoch [5/10], Step [400/3079], Loss: 0.0777\n",
            "Epoch [5/10], Step [500/3079], Loss: 0.0804\n",
            "Epoch [5/10], Step [600/3079], Loss: 0.0818\n",
            "Epoch [5/10], Step [700/3079], Loss: 0.0300\n",
            "Epoch [5/10], Step [800/3079], Loss: 0.1695\n",
            "Epoch [5/10], Step [900/3079], Loss: 0.1923\n",
            "Epoch [5/10], Step [1000/3079], Loss: 0.0237\n",
            "Epoch [5/10], Step [1100/3079], Loss: 0.3276\n",
            "Epoch [5/10], Step [1200/3079], Loss: 0.0816\n",
            "Epoch [5/10], Step [1300/3079], Loss: 0.1108\n",
            "Epoch [5/10], Step [1400/3079], Loss: 0.1137\n",
            "Epoch [5/10], Step [1500/3079], Loss: 0.0668\n",
            "Epoch [5/10], Step [1600/3079], Loss: 0.0382\n",
            "Epoch [5/10], Step [1700/3079], Loss: 0.0407\n",
            "Epoch [5/10], Step [1800/3079], Loss: 0.0956\n",
            "Epoch [5/10], Step [1900/3079], Loss: 0.0264\n",
            "Epoch [5/10], Step [2000/3079], Loss: 0.2783\n",
            "Epoch [5/10], Step [2100/3079], Loss: 0.0099\n",
            "Epoch [5/10], Step [2200/3079], Loss: 0.0804\n",
            "Epoch [5/10], Step [2300/3079], Loss: 0.4895\n",
            "Epoch [5/10], Step [2400/3079], Loss: 0.0692\n",
            "Epoch [5/10], Step [2500/3079], Loss: 0.0254\n",
            "Epoch [5/10], Step [2600/3079], Loss: 0.1476\n",
            "Epoch [5/10], Step [2700/3079], Loss: 0.1941\n",
            "Epoch [5/10], Step [2800/3079], Loss: 0.0205\n",
            "Epoch [5/10], Step [2900/3079], Loss: 0.0757\n",
            "Epoch [5/10], Step [3000/3079], Loss: 0.0358\n"
          ]
        },
        {
          "output_type": "stream",
          "name": "stderr",
          "text": [
            "2023-12-09 00:10:38,057 - root - INFO - Accuracy: 96.97%\n",
            "2023-12-09 00:10:38,058 - root - INFO - Precision: 0.9695\n",
            "2023-12-09 00:10:38,059 - root - INFO - Recall: 0.9697\n",
            "2023-12-09 00:10:38,062 - root - INFO - F1 Score: 0.9671\n"
          ]
        },
        {
          "output_type": "stream",
          "name": "stdout",
          "text": [
            "Epoch [6/10], Step [100/3079], Loss: 0.0256\n",
            "Epoch [6/10], Step [200/3079], Loss: 0.0741\n",
            "Epoch [6/10], Step [300/3079], Loss: 0.0253\n",
            "Epoch [6/10], Step [400/3079], Loss: 0.0657\n",
            "Epoch [6/10], Step [500/3079], Loss: 0.0358\n",
            "Epoch [6/10], Step [600/3079], Loss: 0.1341\n",
            "Epoch [6/10], Step [700/3079], Loss: 0.2050\n",
            "Epoch [6/10], Step [800/3079], Loss: 0.0301\n",
            "Epoch [6/10], Step [900/3079], Loss: 0.0491\n",
            "Epoch [6/10], Step [1000/3079], Loss: 0.0930\n",
            "Epoch [6/10], Step [1100/3079], Loss: 0.2395\n",
            "Epoch [6/10], Step [1200/3079], Loss: 0.0199\n",
            "Epoch [6/10], Step [1300/3079], Loss: 0.0913\n",
            "Epoch [6/10], Step [1400/3079], Loss: 0.0910\n",
            "Epoch [6/10], Step [1500/3079], Loss: 0.0317\n",
            "Epoch [6/10], Step [1600/3079], Loss: 0.0392\n",
            "Epoch [6/10], Step [1700/3079], Loss: 0.0464\n",
            "Epoch [6/10], Step [1800/3079], Loss: 0.0476\n",
            "Epoch [6/10], Step [1900/3079], Loss: 0.1568\n",
            "Epoch [6/10], Step [2000/3079], Loss: 0.0944\n",
            "Epoch [6/10], Step [2100/3079], Loss: 0.2412\n",
            "Epoch [6/10], Step [2200/3079], Loss: 0.1605\n",
            "Epoch [6/10], Step [2300/3079], Loss: 0.0697\n",
            "Epoch [6/10], Step [2400/3079], Loss: 0.0239\n",
            "Epoch [6/10], Step [2500/3079], Loss: 0.0482\n",
            "Epoch [6/10], Step [2600/3079], Loss: 0.0193\n",
            "Epoch [6/10], Step [2700/3079], Loss: 0.0991\n",
            "Epoch [6/10], Step [2800/3079], Loss: 0.0243\n",
            "Epoch [6/10], Step [2900/3079], Loss: 0.2174\n",
            "Epoch [6/10], Step [3000/3079], Loss: 0.0886\n"
          ]
        },
        {
          "output_type": "stream",
          "name": "stderr",
          "text": [
            "2023-12-09 00:10:53,575 - root - INFO - Accuracy: 97.23%\n",
            "2023-12-09 00:10:53,576 - root - INFO - Precision: 0.9721\n",
            "2023-12-09 00:10:53,577 - root - INFO - Recall: 0.9723\n",
            "2023-12-09 00:10:53,578 - root - INFO - F1 Score: 0.9705\n"
          ]
        },
        {
          "output_type": "stream",
          "name": "stdout",
          "text": [
            "Epoch [7/10], Step [100/3079], Loss: 0.3112\n",
            "Epoch [7/10], Step [200/3079], Loss: 0.0091\n",
            "Epoch [7/10], Step [300/3079], Loss: 0.0582\n",
            "Epoch [7/10], Step [400/3079], Loss: 0.0156\n",
            "Epoch [7/10], Step [500/3079], Loss: 0.1451\n",
            "Epoch [7/10], Step [600/3079], Loss: 0.0545\n",
            "Epoch [7/10], Step [700/3079], Loss: 0.0736\n",
            "Epoch [7/10], Step [800/3079], Loss: 0.0364\n",
            "Epoch [7/10], Step [900/3079], Loss: 0.1114\n",
            "Epoch [7/10], Step [1000/3079], Loss: 0.0398\n",
            "Epoch [7/10], Step [1100/3079], Loss: 0.0131\n",
            "Epoch [7/10], Step [1200/3079], Loss: 0.1542\n",
            "Epoch [7/10], Step [1300/3079], Loss: 0.0076\n",
            "Epoch [7/10], Step [1400/3079], Loss: 0.1902\n",
            "Epoch [7/10], Step [1500/3079], Loss: 0.1980\n",
            "Epoch [7/10], Step [1600/3079], Loss: 0.1198\n",
            "Epoch [7/10], Step [1700/3079], Loss: 0.2557\n",
            "Epoch [7/10], Step [1800/3079], Loss: 0.0592\n",
            "Epoch [7/10], Step [1900/3079], Loss: 0.1642\n",
            "Epoch [7/10], Step [2000/3079], Loss: 0.0133\n",
            "Epoch [7/10], Step [2100/3079], Loss: 0.0759\n",
            "Epoch [7/10], Step [2200/3079], Loss: 0.2682\n",
            "Epoch [7/10], Step [2300/3079], Loss: 0.1149\n",
            "Epoch [7/10], Step [2400/3079], Loss: 0.1282\n",
            "Epoch [7/10], Step [2500/3079], Loss: 0.0853\n",
            "Epoch [7/10], Step [2600/3079], Loss: 0.1509\n",
            "Epoch [7/10], Step [2700/3079], Loss: 0.1239\n",
            "Epoch [7/10], Step [2800/3079], Loss: 0.0202\n",
            "Epoch [7/10], Step [2900/3079], Loss: 0.0312\n",
            "Epoch [7/10], Step [3000/3079], Loss: 0.0178\n"
          ]
        },
        {
          "output_type": "stream",
          "name": "stderr",
          "text": [
            "2023-12-09 00:11:09,154 - root - INFO - Accuracy: 97.45%\n",
            "2023-12-09 00:11:09,155 - root - INFO - Precision: 0.9738\n",
            "2023-12-09 00:11:09,156 - root - INFO - Recall: 0.9745\n",
            "2023-12-09 00:11:09,157 - root - INFO - F1 Score: 0.9733\n"
          ]
        },
        {
          "output_type": "stream",
          "name": "stdout",
          "text": [
            "Epoch [8/10], Step [100/3079], Loss: 0.0977\n",
            "Epoch [8/10], Step [200/3079], Loss: 0.0124\n",
            "Epoch [8/10], Step [300/3079], Loss: 0.0693\n",
            "Epoch [8/10], Step [400/3079], Loss: 0.1962\n",
            "Epoch [8/10], Step [500/3079], Loss: 0.0158\n",
            "Epoch [8/10], Step [600/3079], Loss: 0.0494\n",
            "Epoch [8/10], Step [700/3079], Loss: 0.2303\n",
            "Epoch [8/10], Step [800/3079], Loss: 0.0837\n",
            "Epoch [8/10], Step [900/3079], Loss: 0.0750\n",
            "Epoch [8/10], Step [1000/3079], Loss: 0.0129\n",
            "Epoch [8/10], Step [1100/3079], Loss: 0.1792\n",
            "Epoch [8/10], Step [1200/3079], Loss: 0.3978\n",
            "Epoch [8/10], Step [1300/3079], Loss: 0.1916\n",
            "Epoch [8/10], Step [1400/3079], Loss: 0.0327\n",
            "Epoch [8/10], Step [1500/3079], Loss: 0.0305\n",
            "Epoch [8/10], Step [1600/3079], Loss: 0.0640\n",
            "Epoch [8/10], Step [1700/3079], Loss: 0.1012\n",
            "Epoch [8/10], Step [1800/3079], Loss: 0.0530\n",
            "Epoch [8/10], Step [1900/3079], Loss: 0.0423\n",
            "Epoch [8/10], Step [2000/3079], Loss: 0.0258\n",
            "Epoch [8/10], Step [2100/3079], Loss: 0.0608\n",
            "Epoch [8/10], Step [2200/3079], Loss: 0.0694\n",
            "Epoch [8/10], Step [2300/3079], Loss: 0.0961\n",
            "Epoch [8/10], Step [2400/3079], Loss: 0.2251\n",
            "Epoch [8/10], Step [2500/3079], Loss: 0.0269\n",
            "Epoch [8/10], Step [2600/3079], Loss: 0.0357\n",
            "Epoch [8/10], Step [2700/3079], Loss: 0.0176\n",
            "Epoch [8/10], Step [2800/3079], Loss: 0.0086\n",
            "Epoch [8/10], Step [2900/3079], Loss: 0.0068\n",
            "Epoch [8/10], Step [3000/3079], Loss: 0.0560\n"
          ]
        },
        {
          "output_type": "stream",
          "name": "stderr",
          "text": [
            "2023-12-09 00:11:24,883 - root - INFO - Accuracy: 97.38%\n",
            "2023-12-09 00:11:24,884 - root - INFO - Precision: 0.9740\n",
            "2023-12-09 00:11:24,885 - root - INFO - Recall: 0.9738\n",
            "2023-12-09 00:11:24,886 - root - INFO - F1 Score: 0.9715\n"
          ]
        },
        {
          "output_type": "stream",
          "name": "stdout",
          "text": [
            "Epoch [9/10], Step [100/3079], Loss: 0.0095\n",
            "Epoch [9/10], Step [200/3079], Loss: 0.0136\n",
            "Epoch [9/10], Step [300/3079], Loss: 0.0405\n",
            "Epoch [9/10], Step [400/3079], Loss: 0.0505\n",
            "Epoch [9/10], Step [500/3079], Loss: 0.0713\n",
            "Epoch [9/10], Step [600/3079], Loss: 0.0565\n",
            "Epoch [9/10], Step [700/3079], Loss: 0.0824\n",
            "Epoch [9/10], Step [800/3079], Loss: 0.0301\n",
            "Epoch [9/10], Step [900/3079], Loss: 0.0389\n",
            "Epoch [9/10], Step [1000/3079], Loss: 0.1114\n",
            "Epoch [9/10], Step [1100/3079], Loss: 0.0492\n",
            "Epoch [9/10], Step [1200/3079], Loss: 0.0311\n",
            "Epoch [9/10], Step [1300/3079], Loss: 0.0189\n",
            "Epoch [9/10], Step [1400/3079], Loss: 0.0128\n",
            "Epoch [9/10], Step [1500/3079], Loss: 0.0713\n",
            "Epoch [9/10], Step [1600/3079], Loss: 0.0161\n",
            "Epoch [9/10], Step [1700/3079], Loss: 0.0347\n",
            "Epoch [9/10], Step [1800/3079], Loss: 0.0138\n",
            "Epoch [9/10], Step [1900/3079], Loss: 0.0921\n",
            "Epoch [9/10], Step [2000/3079], Loss: 0.0212\n",
            "Epoch [9/10], Step [2100/3079], Loss: 0.5046\n",
            "Epoch [9/10], Step [2200/3079], Loss: 0.0928\n",
            "Epoch [9/10], Step [2300/3079], Loss: 0.0613\n",
            "Epoch [9/10], Step [2400/3079], Loss: 0.0195\n",
            "Epoch [9/10], Step [2500/3079], Loss: 0.1625\n",
            "Epoch [9/10], Step [2600/3079], Loss: 0.0460\n",
            "Epoch [9/10], Step [2700/3079], Loss: 0.0808\n",
            "Epoch [9/10], Step [2800/3079], Loss: 0.0261\n",
            "Epoch [9/10], Step [2900/3079], Loss: 0.0207\n",
            "Epoch [9/10], Step [3000/3079], Loss: 0.1489\n"
          ]
        },
        {
          "output_type": "stream",
          "name": "stderr",
          "text": [
            "2023-12-09 00:11:40,376 - root - INFO - Accuracy: 97.47%\n",
            "2023-12-09 00:11:40,377 - root - INFO - Precision: 0.9745\n",
            "2023-12-09 00:11:40,378 - root - INFO - Recall: 0.9747\n",
            "2023-12-09 00:11:40,379 - root - INFO - F1 Score: 0.9726\n"
          ]
        },
        {
          "output_type": "stream",
          "name": "stdout",
          "text": [
            "Epoch [10/10], Step [100/3079], Loss: 0.0559\n",
            "Epoch [10/10], Step [200/3079], Loss: 0.4969\n",
            "Epoch [10/10], Step [300/3079], Loss: 0.1518\n",
            "Epoch [10/10], Step [400/3079], Loss: 0.0804\n",
            "Epoch [10/10], Step [500/3079], Loss: 0.0378\n",
            "Epoch [10/10], Step [600/3079], Loss: 0.1096\n",
            "Epoch [10/10], Step [700/3079], Loss: 0.0566\n",
            "Epoch [10/10], Step [800/3079], Loss: 0.1108\n",
            "Epoch [10/10], Step [900/3079], Loss: 0.2761\n",
            "Epoch [10/10], Step [1000/3079], Loss: 0.0097\n",
            "Epoch [10/10], Step [1100/3079], Loss: 0.0108\n",
            "Epoch [10/10], Step [1200/3079], Loss: 0.0081\n",
            "Epoch [10/10], Step [1300/3079], Loss: 0.0134\n",
            "Epoch [10/10], Step [1400/3079], Loss: 0.0295\n",
            "Epoch [10/10], Step [1500/3079], Loss: 0.0447\n",
            "Epoch [10/10], Step [1600/3079], Loss: 0.0248\n",
            "Epoch [10/10], Step [1700/3079], Loss: 0.0901\n",
            "Epoch [10/10], Step [1800/3079], Loss: 0.2214\n",
            "Epoch [10/10], Step [1900/3079], Loss: 0.0113\n",
            "Epoch [10/10], Step [2000/3079], Loss: 0.0509\n",
            "Epoch [10/10], Step [2100/3079], Loss: 0.0457\n",
            "Epoch [10/10], Step [2200/3079], Loss: 0.1592\n",
            "Epoch [10/10], Step [2300/3079], Loss: 0.2488\n",
            "Epoch [10/10], Step [2400/3079], Loss: 0.3279\n",
            "Epoch [10/10], Step [2500/3079], Loss: 0.0473\n",
            "Epoch [10/10], Step [2600/3079], Loss: 0.0819\n",
            "Epoch [10/10], Step [2700/3079], Loss: 0.0081\n",
            "Epoch [10/10], Step [2800/3079], Loss: 0.2145\n",
            "Epoch [10/10], Step [2900/3079], Loss: 0.0416\n",
            "Epoch [10/10], Step [3000/3079], Loss: 0.1189\n"
          ]
        },
        {
          "output_type": "stream",
          "name": "stderr",
          "text": [
            "2023-12-09 00:11:55,746 - root - INFO - Accuracy: 97.16%\n",
            "2023-12-09 00:11:55,747 - root - INFO - Precision: 0.9731\n",
            "2023-12-09 00:11:55,748 - root - INFO - Recall: 0.9716\n",
            "2023-12-09 00:11:55,749 - root - INFO - F1 Score: 0.9706\n"
          ]
        },
        {
          "output_type": "stream",
          "name": "stdout",
          "text": [
            "FOLD 4\n",
            "--------------------------------\n",
            "AttentionOSCNN(\n",
            "  (conv1): Conv1d(1, 128, kernel_size=(8,), stride=(1,), padding=same)\n",
            "  (bn1): BatchNorm1d(128, eps=1e-05, momentum=0.1, affine=True, track_running_stats=True)\n",
            "  (conv2): Conv1d(128, 256, kernel_size=(5,), stride=(1,), padding=same)\n",
            "  (bn2): BatchNorm1d(256, eps=1e-05, momentum=0.1, affine=True, track_running_stats=True)\n",
            "  (conv3): Conv1d(256, 128, kernel_size=(3,), stride=(1,), padding=same)\n",
            "  (bn3): BatchNorm1d(128, eps=1e-05, momentum=0.1, affine=True, track_running_stats=True)\n",
            "  (intermediate): Linear(in_features=1, out_features=128, bias=True)\n",
            "  (dropout): Dropout(p=0.8, inplace=False)\n",
            "  (attention): SelfAttention(\n",
            "    (query): Linear(in_features=128, out_features=128, bias=True)\n",
            "    (key): Linear(in_features=128, out_features=128, bias=True)\n",
            "    (value): Linear(in_features=128, out_features=128, bias=True)\n",
            "  )\n",
            "  (avg_pool): AdaptiveAvgPool1d(output_size=1)\n",
            "  (fc): Linear(in_features=256, out_features=5, bias=True)\n",
            ")\n",
            "Epoch [1/10], Step [100/3079], Loss: 0.4864\n",
            "Epoch [1/10], Step [200/3079], Loss: 0.3678\n",
            "Epoch [1/10], Step [300/3079], Loss: 0.4277\n",
            "Epoch [1/10], Step [400/3079], Loss: 0.3122\n",
            "Epoch [1/10], Step [500/3079], Loss: 0.2209\n",
            "Epoch [1/10], Step [600/3079], Loss: 0.2262\n",
            "Epoch [1/10], Step [700/3079], Loss: 0.2759\n",
            "Epoch [1/10], Step [800/3079], Loss: 0.3338\n",
            "Epoch [1/10], Step [900/3079], Loss: 0.0561\n",
            "Epoch [1/10], Step [1000/3079], Loss: 0.1555\n",
            "Epoch [1/10], Step [1100/3079], Loss: 0.2899\n",
            "Epoch [1/10], Step [1200/3079], Loss: 0.1132\n",
            "Epoch [1/10], Step [1300/3079], Loss: 0.3295\n",
            "Epoch [1/10], Step [1400/3079], Loss: 0.0765\n",
            "Epoch [1/10], Step [1500/3079], Loss: 0.0391\n",
            "Epoch [1/10], Step [1600/3079], Loss: 0.0413\n",
            "Epoch [1/10], Step [1700/3079], Loss: 0.0465\n",
            "Epoch [1/10], Step [1800/3079], Loss: 0.0721\n",
            "Epoch [1/10], Step [1900/3079], Loss: 0.1540\n",
            "Epoch [1/10], Step [2000/3079], Loss: 0.2745\n",
            "Epoch [1/10], Step [2100/3079], Loss: 0.1354\n",
            "Epoch [1/10], Step [2200/3079], Loss: 0.0418\n",
            "Epoch [1/10], Step [2300/3079], Loss: 0.1212\n",
            "Epoch [1/10], Step [2400/3079], Loss: 0.0907\n",
            "Epoch [1/10], Step [2500/3079], Loss: 0.1531\n",
            "Epoch [1/10], Step [2600/3079], Loss: 0.3512\n",
            "Epoch [1/10], Step [2700/3079], Loss: 0.0567\n",
            "Epoch [1/10], Step [2800/3079], Loss: 0.3251\n",
            "Epoch [1/10], Step [2900/3079], Loss: 0.3515\n",
            "Epoch [1/10], Step [3000/3079], Loss: 0.2379\n"
          ]
        },
        {
          "output_type": "stream",
          "name": "stderr",
          "text": [
            "2023-12-09 00:12:11,254 - root - INFO - Accuracy: 91.59%\n",
            "2023-12-09 00:12:11,255 - root - INFO - Precision: 0.9417\n",
            "2023-12-09 00:12:11,255 - root - INFO - Recall: 0.9159\n",
            "2023-12-09 00:12:11,256 - root - INFO - F1 Score: 0.9202\n"
          ]
        },
        {
          "output_type": "stream",
          "name": "stdout",
          "text": [
            "Epoch [2/10], Step [100/3079], Loss: 0.2049\n",
            "Epoch [2/10], Step [200/3079], Loss: 0.3383\n",
            "Epoch [2/10], Step [300/3079], Loss: 0.2593\n",
            "Epoch [2/10], Step [400/3079], Loss: 0.0789\n",
            "Epoch [2/10], Step [500/3079], Loss: 0.2679\n",
            "Epoch [2/10], Step [600/3079], Loss: 0.1717\n",
            "Epoch [2/10], Step [700/3079], Loss: 0.0517\n",
            "Epoch [2/10], Step [800/3079], Loss: 0.0977\n",
            "Epoch [2/10], Step [900/3079], Loss: 0.3885\n",
            "Epoch [2/10], Step [1000/3079], Loss: 0.4145\n",
            "Epoch [2/10], Step [1100/3079], Loss: 0.1672\n",
            "Epoch [2/10], Step [1200/3079], Loss: 0.2528\n",
            "Epoch [2/10], Step [1300/3079], Loss: 0.0548\n",
            "Epoch [2/10], Step [1400/3079], Loss: 0.2515\n",
            "Epoch [2/10], Step [1500/3079], Loss: 0.0517\n",
            "Epoch [2/10], Step [1600/3079], Loss: 0.1704\n",
            "Epoch [2/10], Step [1700/3079], Loss: 0.1168\n",
            "Epoch [2/10], Step [1800/3079], Loss: 0.1239\n",
            "Epoch [2/10], Step [1900/3079], Loss: 0.0322\n",
            "Epoch [2/10], Step [2000/3079], Loss: 0.3410\n",
            "Epoch [2/10], Step [2100/3079], Loss: 0.1228\n",
            "Epoch [2/10], Step [2200/3079], Loss: 0.0219\n",
            "Epoch [2/10], Step [2300/3079], Loss: 0.0268\n",
            "Epoch [2/10], Step [2400/3079], Loss: 0.0702\n",
            "Epoch [2/10], Step [2500/3079], Loss: 0.1877\n",
            "Epoch [2/10], Step [2600/3079], Loss: 0.1486\n",
            "Epoch [2/10], Step [2700/3079], Loss: 0.0500\n",
            "Epoch [2/10], Step [2800/3079], Loss: 0.1322\n",
            "Epoch [2/10], Step [2900/3079], Loss: 0.2456\n",
            "Epoch [2/10], Step [3000/3079], Loss: 0.0745\n"
          ]
        },
        {
          "output_type": "stream",
          "name": "stderr",
          "text": [
            "2023-12-09 00:12:26,742 - root - INFO - Accuracy: 95.55%\n",
            "2023-12-09 00:12:26,743 - root - INFO - Precision: 0.9590\n",
            "2023-12-09 00:12:26,744 - root - INFO - Recall: 0.9555\n",
            "2023-12-09 00:12:26,745 - root - INFO - F1 Score: 0.9553\n"
          ]
        },
        {
          "output_type": "stream",
          "name": "stdout",
          "text": [
            "Epoch [3/10], Step [100/3079], Loss: 0.3684\n",
            "Epoch [3/10], Step [200/3079], Loss: 0.0440\n",
            "Epoch [3/10], Step [300/3079], Loss: 0.0201\n",
            "Epoch [3/10], Step [400/3079], Loss: 0.0440\n",
            "Epoch [3/10], Step [500/3079], Loss: 0.0666\n",
            "Epoch [3/10], Step [600/3079], Loss: 0.0332\n",
            "Epoch [3/10], Step [700/3079], Loss: 0.1708\n",
            "Epoch [3/10], Step [800/3079], Loss: 0.0918\n",
            "Epoch [3/10], Step [900/3079], Loss: 0.1446\n",
            "Epoch [3/10], Step [1000/3079], Loss: 0.0685\n",
            "Epoch [3/10], Step [1100/3079], Loss: 0.4614\n",
            "Epoch [3/10], Step [1200/3079], Loss: 0.0732\n",
            "Epoch [3/10], Step [1300/3079], Loss: 0.2146\n",
            "Epoch [3/10], Step [1400/3079], Loss: 0.1310\n",
            "Epoch [3/10], Step [1500/3079], Loss: 0.0615\n",
            "Epoch [3/10], Step [1600/3079], Loss: 0.0936\n",
            "Epoch [3/10], Step [1700/3079], Loss: 0.1710\n",
            "Epoch [3/10], Step [1800/3079], Loss: 0.1022\n",
            "Epoch [3/10], Step [1900/3079], Loss: 0.0624\n",
            "Epoch [3/10], Step [2000/3079], Loss: 0.1441\n",
            "Epoch [3/10], Step [2100/3079], Loss: 0.1908\n",
            "Epoch [3/10], Step [2200/3079], Loss: 0.0504\n",
            "Epoch [3/10], Step [2300/3079], Loss: 0.1180\n",
            "Epoch [3/10], Step [2400/3079], Loss: 0.3548\n",
            "Epoch [3/10], Step [2500/3079], Loss: 0.1403\n",
            "Epoch [3/10], Step [2600/3079], Loss: 0.0237\n",
            "Epoch [3/10], Step [2700/3079], Loss: 0.0933\n",
            "Epoch [3/10], Step [2800/3079], Loss: 0.0613\n",
            "Epoch [3/10], Step [2900/3079], Loss: 0.0515\n",
            "Epoch [3/10], Step [3000/3079], Loss: 0.0615\n"
          ]
        },
        {
          "output_type": "stream",
          "name": "stderr",
          "text": [
            "2023-12-09 00:12:42,327 - root - INFO - Accuracy: 96.83%\n",
            "2023-12-09 00:12:42,328 - root - INFO - Precision: 0.9670\n",
            "2023-12-09 00:12:42,329 - root - INFO - Recall: 0.9683\n",
            "2023-12-09 00:12:42,331 - root - INFO - F1 Score: 0.9657\n"
          ]
        },
        {
          "output_type": "stream",
          "name": "stdout",
          "text": [
            "Epoch [4/10], Step [100/3079], Loss: 0.0580\n",
            "Epoch [4/10], Step [200/3079], Loss: 0.0860\n",
            "Epoch [4/10], Step [300/3079], Loss: 0.0860\n",
            "Epoch [4/10], Step [400/3079], Loss: 0.1059\n",
            "Epoch [4/10], Step [500/3079], Loss: 0.0396\n",
            "Epoch [4/10], Step [600/3079], Loss: 0.2688\n",
            "Epoch [4/10], Step [700/3079], Loss: 0.0590\n",
            "Epoch [4/10], Step [800/3079], Loss: 0.0565\n",
            "Epoch [4/10], Step [900/3079], Loss: 0.1170\n",
            "Epoch [4/10], Step [1000/3079], Loss: 0.1844\n",
            "Epoch [4/10], Step [1100/3079], Loss: 0.2001\n",
            "Epoch [4/10], Step [1200/3079], Loss: 0.1107\n",
            "Epoch [4/10], Step [1300/3079], Loss: 0.1179\n",
            "Epoch [4/10], Step [1400/3079], Loss: 0.1008\n",
            "Epoch [4/10], Step [1500/3079], Loss: 0.1605\n",
            "Epoch [4/10], Step [1600/3079], Loss: 0.0677\n",
            "Epoch [4/10], Step [1700/3079], Loss: 0.0185\n",
            "Epoch [4/10], Step [1800/3079], Loss: 0.0909\n",
            "Epoch [4/10], Step [1900/3079], Loss: 0.0170\n",
            "Epoch [4/10], Step [2000/3079], Loss: 0.1343\n",
            "Epoch [4/10], Step [2100/3079], Loss: 0.1260\n",
            "Epoch [4/10], Step [2200/3079], Loss: 0.0343\n",
            "Epoch [4/10], Step [2300/3079], Loss: 0.0409\n",
            "Epoch [4/10], Step [2400/3079], Loss: 0.0683\n",
            "Epoch [4/10], Step [2500/3079], Loss: 0.0835\n",
            "Epoch [4/10], Step [2600/3079], Loss: 0.1046\n",
            "Epoch [4/10], Step [2700/3079], Loss: 0.0263\n",
            "Epoch [4/10], Step [2800/3079], Loss: 0.1868\n",
            "Epoch [4/10], Step [2900/3079], Loss: 0.0321\n",
            "Epoch [4/10], Step [3000/3079], Loss: 0.1319\n"
          ]
        },
        {
          "output_type": "stream",
          "name": "stderr",
          "text": [
            "2023-12-09 00:12:57,858 - root - INFO - Accuracy: 97.13%\n",
            "2023-12-09 00:12:57,859 - root - INFO - Precision: 0.9705\n",
            "2023-12-09 00:12:57,860 - root - INFO - Recall: 0.9713\n",
            "2023-12-09 00:12:57,861 - root - INFO - F1 Score: 0.9696\n"
          ]
        },
        {
          "output_type": "stream",
          "name": "stdout",
          "text": [
            "Epoch [5/10], Step [100/3079], Loss: 0.1468\n",
            "Epoch [5/10], Step [200/3079], Loss: 0.0840\n",
            "Epoch [5/10], Step [300/3079], Loss: 0.0151\n",
            "Epoch [5/10], Step [400/3079], Loss: 0.0635\n",
            "Epoch [5/10], Step [500/3079], Loss: 0.2149\n",
            "Epoch [5/10], Step [600/3079], Loss: 0.0171\n",
            "Epoch [5/10], Step [700/3079], Loss: 0.0833\n",
            "Epoch [5/10], Step [800/3079], Loss: 0.0126\n",
            "Epoch [5/10], Step [900/3079], Loss: 0.3255\n",
            "Epoch [5/10], Step [1000/3079], Loss: 0.0370\n",
            "Epoch [5/10], Step [1100/3079], Loss: 0.2055\n",
            "Epoch [5/10], Step [1200/3079], Loss: 0.2174\n",
            "Epoch [5/10], Step [1300/3079], Loss: 0.0439\n",
            "Epoch [5/10], Step [1400/3079], Loss: 0.0386\n",
            "Epoch [5/10], Step [1500/3079], Loss: 0.3890\n",
            "Epoch [5/10], Step [1600/3079], Loss: 0.1511\n",
            "Epoch [5/10], Step [1700/3079], Loss: 0.0482\n",
            "Epoch [5/10], Step [1800/3079], Loss: 0.1324\n",
            "Epoch [5/10], Step [1900/3079], Loss: 0.1720\n",
            "Epoch [5/10], Step [2000/3079], Loss: 0.0142\n",
            "Epoch [5/10], Step [2100/3079], Loss: 0.0262\n",
            "Epoch [5/10], Step [2200/3079], Loss: 0.0200\n",
            "Epoch [5/10], Step [2300/3079], Loss: 0.0859\n",
            "Epoch [5/10], Step [2400/3079], Loss: 0.1929\n",
            "Epoch [5/10], Step [2500/3079], Loss: 0.0123\n",
            "Epoch [5/10], Step [2600/3079], Loss: 0.0633\n",
            "Epoch [5/10], Step [2700/3079], Loss: 0.0282\n",
            "Epoch [5/10], Step [2800/3079], Loss: 0.1033\n",
            "Epoch [5/10], Step [2900/3079], Loss: 0.0286\n",
            "Epoch [5/10], Step [3000/3079], Loss: 0.1976\n"
          ]
        },
        {
          "output_type": "stream",
          "name": "stderr",
          "text": [
            "2023-12-09 00:13:13,755 - root - INFO - Accuracy: 96.88%\n",
            "2023-12-09 00:13:13,756 - root - INFO - Precision: 0.9687\n",
            "2023-12-09 00:13:13,757 - root - INFO - Recall: 0.9688\n",
            "2023-12-09 00:13:13,758 - root - INFO - F1 Score: 0.9654\n"
          ]
        },
        {
          "output_type": "stream",
          "name": "stdout",
          "text": [
            "Epoch [6/10], Step [100/3079], Loss: 0.1246\n",
            "Epoch [6/10], Step [200/3079], Loss: 0.0099\n",
            "Epoch [6/10], Step [300/3079], Loss: 0.0773\n",
            "Epoch [6/10], Step [400/3079], Loss: 0.0221\n",
            "Epoch [6/10], Step [500/3079], Loss: 0.2675\n",
            "Epoch [6/10], Step [600/3079], Loss: 0.0455\n",
            "Epoch [6/10], Step [700/3079], Loss: 0.1242\n",
            "Epoch [6/10], Step [800/3079], Loss: 0.0192\n",
            "Epoch [6/10], Step [900/3079], Loss: 0.1566\n",
            "Epoch [6/10], Step [1000/3079], Loss: 0.0138\n",
            "Epoch [6/10], Step [1100/3079], Loss: 0.0393\n",
            "Epoch [6/10], Step [1200/3079], Loss: 0.1754\n",
            "Epoch [6/10], Step [1300/3079], Loss: 0.1669\n",
            "Epoch [6/10], Step [1400/3079], Loss: 0.1634\n",
            "Epoch [6/10], Step [1500/3079], Loss: 0.1159\n",
            "Epoch [6/10], Step [1600/3079], Loss: 0.1381\n",
            "Epoch [6/10], Step [1700/3079], Loss: 0.0064\n",
            "Epoch [6/10], Step [1800/3079], Loss: 0.0167\n",
            "Epoch [6/10], Step [1900/3079], Loss: 0.1493\n",
            "Epoch [6/10], Step [2000/3079], Loss: 0.2299\n",
            "Epoch [6/10], Step [2100/3079], Loss: 0.0383\n",
            "Epoch [6/10], Step [2200/3079], Loss: 0.0069\n",
            "Epoch [6/10], Step [2300/3079], Loss: 0.0146\n",
            "Epoch [6/10], Step [2400/3079], Loss: 0.0052\n",
            "Epoch [6/10], Step [2500/3079], Loss: 0.0238\n",
            "Epoch [6/10], Step [2600/3079], Loss: 0.1599\n",
            "Epoch [6/10], Step [2700/3079], Loss: 0.2237\n",
            "Epoch [6/10], Step [2800/3079], Loss: 0.0951\n",
            "Epoch [6/10], Step [2900/3079], Loss: 0.0231\n",
            "Epoch [6/10], Step [3000/3079], Loss: 0.0716\n"
          ]
        },
        {
          "output_type": "stream",
          "name": "stderr",
          "text": [
            "2023-12-09 00:13:29,194 - root - INFO - Accuracy: 96.90%\n",
            "2023-12-09 00:13:29,195 - root - INFO - Precision: 0.9683\n",
            "2023-12-09 00:13:29,196 - root - INFO - Recall: 0.9690\n",
            "2023-12-09 00:13:29,197 - root - INFO - F1 Score: 0.9669\n"
          ]
        },
        {
          "output_type": "stream",
          "name": "stdout",
          "text": [
            "Epoch [7/10], Step [100/3079], Loss: 0.0814\n",
            "Epoch [7/10], Step [200/3079], Loss: 0.1064\n",
            "Epoch [7/10], Step [300/3079], Loss: 0.0155\n",
            "Epoch [7/10], Step [400/3079], Loss: 0.0053\n",
            "Epoch [7/10], Step [500/3079], Loss: 0.0123\n",
            "Epoch [7/10], Step [600/3079], Loss: 0.0147\n",
            "Epoch [7/10], Step [700/3079], Loss: 0.1125\n",
            "Epoch [7/10], Step [800/3079], Loss: 0.3226\n",
            "Epoch [7/10], Step [900/3079], Loss: 0.2058\n",
            "Epoch [7/10], Step [1000/3079], Loss: 0.0705\n",
            "Epoch [7/10], Step [1100/3079], Loss: 0.0190\n",
            "Epoch [7/10], Step [1200/3079], Loss: 0.0360\n",
            "Epoch [7/10], Step [1300/3079], Loss: 0.2542\n",
            "Epoch [7/10], Step [1400/3079], Loss: 0.0222\n",
            "Epoch [7/10], Step [1500/3079], Loss: 0.0187\n",
            "Epoch [7/10], Step [1600/3079], Loss: 0.0276\n",
            "Epoch [7/10], Step [1700/3079], Loss: 0.2666\n",
            "Epoch [7/10], Step [1800/3079], Loss: 0.0760\n",
            "Epoch [7/10], Step [1900/3079], Loss: 0.0304\n",
            "Epoch [7/10], Step [2000/3079], Loss: 0.0114\n",
            "Epoch [7/10], Step [2100/3079], Loss: 0.1213\n",
            "Epoch [7/10], Step [2200/3079], Loss: 0.0141\n",
            "Epoch [7/10], Step [2300/3079], Loss: 0.1873\n",
            "Epoch [7/10], Step [2400/3079], Loss: 0.1397\n",
            "Epoch [7/10], Step [2500/3079], Loss: 0.1382\n",
            "Epoch [7/10], Step [2600/3079], Loss: 0.0340\n",
            "Epoch [7/10], Step [2700/3079], Loss: 0.1445\n",
            "Epoch [7/10], Step [2800/3079], Loss: 0.0276\n",
            "Epoch [7/10], Step [2900/3079], Loss: 0.0181\n",
            "Epoch [7/10], Step [3000/3079], Loss: 0.0206\n"
          ]
        },
        {
          "output_type": "stream",
          "name": "stderr",
          "text": [
            "2023-12-09 00:13:44,839 - root - INFO - Accuracy: 97.34%\n",
            "2023-12-09 00:13:44,840 - root - INFO - Precision: 0.9742\n",
            "2023-12-09 00:13:44,841 - root - INFO - Recall: 0.9734\n",
            "2023-12-09 00:13:44,842 - root - INFO - F1 Score: 0.9721\n"
          ]
        },
        {
          "output_type": "stream",
          "name": "stdout",
          "text": [
            "Epoch [8/10], Step [100/3079], Loss: 0.1457\n",
            "Epoch [8/10], Step [200/3079], Loss: 0.0270\n",
            "Epoch [8/10], Step [300/3079], Loss: 0.0727\n",
            "Epoch [8/10], Step [400/3079], Loss: 0.0269\n",
            "Epoch [8/10], Step [500/3079], Loss: 0.0281\n",
            "Epoch [8/10], Step [600/3079], Loss: 0.0156\n",
            "Epoch [8/10], Step [700/3079], Loss: 0.0211\n",
            "Epoch [8/10], Step [800/3079], Loss: 0.0137\n",
            "Epoch [8/10], Step [900/3079], Loss: 0.1196\n",
            "Epoch [8/10], Step [1000/3079], Loss: 0.2266\n",
            "Epoch [8/10], Step [1100/3079], Loss: 0.2641\n",
            "Epoch [8/10], Step [1200/3079], Loss: 0.0405\n",
            "Epoch [8/10], Step [1300/3079], Loss: 0.0228\n",
            "Epoch [8/10], Step [1400/3079], Loss: 0.2352\n",
            "Epoch [8/10], Step [1500/3079], Loss: 0.1797\n",
            "Epoch [8/10], Step [1600/3079], Loss: 0.1213\n",
            "Epoch [8/10], Step [1700/3079], Loss: 0.1482\n",
            "Epoch [8/10], Step [1800/3079], Loss: 0.1279\n",
            "Epoch [8/10], Step [1900/3079], Loss: 0.0535\n",
            "Epoch [8/10], Step [2000/3079], Loss: 0.1008\n",
            "Epoch [8/10], Step [2100/3079], Loss: 0.0376\n",
            "Epoch [8/10], Step [2200/3079], Loss: 0.3137\n",
            "Epoch [8/10], Step [2300/3079], Loss: 0.1860\n",
            "Epoch [8/10], Step [2400/3079], Loss: 0.0176\n",
            "Epoch [8/10], Step [2500/3079], Loss: 0.0142\n",
            "Epoch [8/10], Step [2600/3079], Loss: 0.0280\n",
            "Epoch [8/10], Step [2700/3079], Loss: 0.0615\n",
            "Epoch [8/10], Step [2800/3079], Loss: 0.0097\n",
            "Epoch [8/10], Step [2900/3079], Loss: 0.1004\n",
            "Epoch [8/10], Step [3000/3079], Loss: 0.0422\n"
          ]
        },
        {
          "output_type": "stream",
          "name": "stderr",
          "text": [
            "2023-12-09 00:14:00,275 - root - INFO - Accuracy: 97.71%\n",
            "2023-12-09 00:14:00,276 - root - INFO - Precision: 0.9763\n",
            "2023-12-09 00:14:00,277 - root - INFO - Recall: 0.9771\n",
            "2023-12-09 00:14:00,278 - root - INFO - F1 Score: 0.9765\n"
          ]
        },
        {
          "output_type": "stream",
          "name": "stdout",
          "text": [
            "Epoch [9/10], Step [100/3079], Loss: 0.0659\n",
            "Epoch [9/10], Step [200/3079], Loss: 0.1670\n",
            "Epoch [9/10], Step [300/3079], Loss: 0.0607\n",
            "Epoch [9/10], Step [400/3079], Loss: 0.0401\n",
            "Epoch [9/10], Step [500/3079], Loss: 0.0115\n",
            "Epoch [9/10], Step [600/3079], Loss: 0.0128\n",
            "Epoch [9/10], Step [700/3079], Loss: 0.0816\n",
            "Epoch [9/10], Step [800/3079], Loss: 0.0115\n",
            "Epoch [9/10], Step [900/3079], Loss: 0.0883\n",
            "Epoch [9/10], Step [1000/3079], Loss: 0.3421\n",
            "Epoch [9/10], Step [1100/3079], Loss: 0.1382\n",
            "Epoch [9/10], Step [1200/3079], Loss: 0.1076\n",
            "Epoch [9/10], Step [1300/3079], Loss: 0.0349\n",
            "Epoch [9/10], Step [1400/3079], Loss: 0.1487\n",
            "Epoch [9/10], Step [1500/3079], Loss: 0.0205\n",
            "Epoch [9/10], Step [1600/3079], Loss: 0.0062\n",
            "Epoch [9/10], Step [1700/3079], Loss: 0.2461\n",
            "Epoch [9/10], Step [1800/3079], Loss: 0.0090\n",
            "Epoch [9/10], Step [1900/3079], Loss: 0.0418\n",
            "Epoch [9/10], Step [2000/3079], Loss: 0.5693\n",
            "Epoch [9/10], Step [2100/3079], Loss: 0.1633\n",
            "Epoch [9/10], Step [2200/3079], Loss: 0.0153\n",
            "Epoch [9/10], Step [2300/3079], Loss: 0.2891\n",
            "Epoch [9/10], Step [2400/3079], Loss: 0.0213\n",
            "Epoch [9/10], Step [2500/3079], Loss: 0.0392\n",
            "Epoch [9/10], Step [2600/3079], Loss: 0.0242\n",
            "Epoch [9/10], Step [2700/3079], Loss: 0.0357\n",
            "Epoch [9/10], Step [2800/3079], Loss: 0.3609\n",
            "Epoch [9/10], Step [2900/3079], Loss: 0.0139\n",
            "Epoch [9/10], Step [3000/3079], Loss: 0.2547\n"
          ]
        },
        {
          "output_type": "stream",
          "name": "stderr",
          "text": [
            "2023-12-09 00:14:15,781 - root - INFO - Accuracy: 97.17%\n",
            "2023-12-09 00:14:15,782 - root - INFO - Precision: 0.9712\n",
            "2023-12-09 00:14:15,783 - root - INFO - Recall: 0.9717\n",
            "2023-12-09 00:14:15,784 - root - INFO - F1 Score: 0.9694\n"
          ]
        },
        {
          "output_type": "stream",
          "name": "stdout",
          "text": [
            "Epoch [10/10], Step [100/3079], Loss: 0.0168\n",
            "Epoch [10/10], Step [200/3079], Loss: 0.0163\n",
            "Epoch [10/10], Step [300/3079], Loss: 0.0352\n",
            "Epoch [10/10], Step [400/3079], Loss: 0.0380\n",
            "Epoch [10/10], Step [500/3079], Loss: 0.0594\n",
            "Epoch [10/10], Step [600/3079], Loss: 0.1308\n",
            "Epoch [10/10], Step [700/3079], Loss: 0.1867\n",
            "Epoch [10/10], Step [800/3079], Loss: 0.1548\n",
            "Epoch [10/10], Step [900/3079], Loss: 0.0498\n",
            "Epoch [10/10], Step [1000/3079], Loss: 0.0084\n",
            "Epoch [10/10], Step [1100/3079], Loss: 0.0297\n",
            "Epoch [10/10], Step [1200/3079], Loss: 0.0892\n",
            "Epoch [10/10], Step [1300/3079], Loss: 0.0422\n",
            "Epoch [10/10], Step [1400/3079], Loss: 0.1899\n",
            "Epoch [10/10], Step [1500/3079], Loss: 0.1160\n",
            "Epoch [10/10], Step [1600/3079], Loss: 0.0603\n",
            "Epoch [10/10], Step [1700/3079], Loss: 0.0927\n",
            "Epoch [10/10], Step [1800/3079], Loss: 0.0294\n",
            "Epoch [10/10], Step [1900/3079], Loss: 0.0176\n",
            "Epoch [10/10], Step [2000/3079], Loss: 0.0217\n",
            "Epoch [10/10], Step [2100/3079], Loss: 0.0534\n",
            "Epoch [10/10], Step [2200/3079], Loss: 0.0184\n",
            "Epoch [10/10], Step [2300/3079], Loss: 0.0174\n",
            "Epoch [10/10], Step [2400/3079], Loss: 0.0129\n",
            "Epoch [10/10], Step [2500/3079], Loss: 0.0973\n",
            "Epoch [10/10], Step [2600/3079], Loss: 0.0634\n",
            "Epoch [10/10], Step [2700/3079], Loss: 0.0057\n",
            "Epoch [10/10], Step [2800/3079], Loss: 0.0301\n",
            "Epoch [10/10], Step [2900/3079], Loss: 0.0277\n",
            "Epoch [10/10], Step [3000/3079], Loss: 0.0162\n"
          ]
        },
        {
          "output_type": "stream",
          "name": "stderr",
          "text": [
            "2023-12-09 00:14:31,363 - root - INFO - Accuracy: 97.70%\n",
            "2023-12-09 00:14:31,364 - root - INFO - Precision: 0.9765\n",
            "2023-12-09 00:14:31,365 - root - INFO - Recall: 0.9770\n",
            "2023-12-09 00:14:31,367 - root - INFO - F1 Score: 0.9766\n"
          ]
        },
        {
          "output_type": "stream",
          "name": "stdout",
          "text": [
            "FOLD 5\n",
            "--------------------------------\n",
            "AttentionOSCNN(\n",
            "  (conv1): Conv1d(1, 128, kernel_size=(8,), stride=(1,), padding=same)\n",
            "  (bn1): BatchNorm1d(128, eps=1e-05, momentum=0.1, affine=True, track_running_stats=True)\n",
            "  (conv2): Conv1d(128, 256, kernel_size=(5,), stride=(1,), padding=same)\n",
            "  (bn2): BatchNorm1d(256, eps=1e-05, momentum=0.1, affine=True, track_running_stats=True)\n",
            "  (conv3): Conv1d(256, 128, kernel_size=(3,), stride=(1,), padding=same)\n",
            "  (bn3): BatchNorm1d(128, eps=1e-05, momentum=0.1, affine=True, track_running_stats=True)\n",
            "  (intermediate): Linear(in_features=1, out_features=128, bias=True)\n",
            "  (dropout): Dropout(p=0.8, inplace=False)\n",
            "  (attention): SelfAttention(\n",
            "    (query): Linear(in_features=128, out_features=128, bias=True)\n",
            "    (key): Linear(in_features=128, out_features=128, bias=True)\n",
            "    (value): Linear(in_features=128, out_features=128, bias=True)\n",
            "  )\n",
            "  (avg_pool): AdaptiveAvgPool1d(output_size=1)\n",
            "  (fc): Linear(in_features=256, out_features=5, bias=True)\n",
            ")\n",
            "Epoch [1/10], Step [100/3079], Loss: 0.6439\n",
            "Epoch [1/10], Step [200/3079], Loss: 0.3615\n",
            "Epoch [1/10], Step [300/3079], Loss: 0.4026\n",
            "Epoch [1/10], Step [400/3079], Loss: 0.3249\n",
            "Epoch [1/10], Step [500/3079], Loss: 0.5373\n",
            "Epoch [1/10], Step [600/3079], Loss: 0.3025\n",
            "Epoch [1/10], Step [700/3079], Loss: 0.3118\n",
            "Epoch [1/10], Step [800/3079], Loss: 0.3873\n",
            "Epoch [1/10], Step [900/3079], Loss: 0.1276\n",
            "Epoch [1/10], Step [1000/3079], Loss: 0.2672\n",
            "Epoch [1/10], Step [1100/3079], Loss: 0.1753\n",
            "Epoch [1/10], Step [1200/3079], Loss: 0.0676\n",
            "Epoch [1/10], Step [1300/3079], Loss: 0.0836\n",
            "Epoch [1/10], Step [1400/3079], Loss: 0.3140\n",
            "Epoch [1/10], Step [1500/3079], Loss: 0.0581\n",
            "Epoch [1/10], Step [1600/3079], Loss: 0.1016\n",
            "Epoch [1/10], Step [1700/3079], Loss: 0.0554\n",
            "Epoch [1/10], Step [1800/3079], Loss: 0.1913\n",
            "Epoch [1/10], Step [1900/3079], Loss: 0.3445\n",
            "Epoch [1/10], Step [2000/3079], Loss: 0.1329\n",
            "Epoch [1/10], Step [2100/3079], Loss: 0.1089\n",
            "Epoch [1/10], Step [2200/3079], Loss: 0.0780\n",
            "Epoch [1/10], Step [2300/3079], Loss: 0.2113\n",
            "Epoch [1/10], Step [2400/3079], Loss: 0.1548\n",
            "Epoch [1/10], Step [2500/3079], Loss: 0.0974\n",
            "Epoch [1/10], Step [2600/3079], Loss: 0.0302\n",
            "Epoch [1/10], Step [2700/3079], Loss: 0.0990\n",
            "Epoch [1/10], Step [2800/3079], Loss: 0.1646\n",
            "Epoch [1/10], Step [2900/3079], Loss: 0.1729\n",
            "Epoch [1/10], Step [3000/3079], Loss: 0.0849\n"
          ]
        },
        {
          "output_type": "stream",
          "name": "stderr",
          "text": [
            "2023-12-09 00:14:46,999 - root - INFO - Accuracy: 96.14%\n",
            "2023-12-09 00:14:47,000 - root - INFO - Precision: 0.9595\n",
            "2023-12-09 00:14:47,001 - root - INFO - Recall: 0.9614\n",
            "2023-12-09 00:14:47,002 - root - INFO - F1 Score: 0.9580\n"
          ]
        },
        {
          "output_type": "stream",
          "name": "stdout",
          "text": [
            "Epoch [2/10], Step [100/3079], Loss: 0.1049\n",
            "Epoch [2/10], Step [200/3079], Loss: 0.0832\n",
            "Epoch [2/10], Step [300/3079], Loss: 0.4350\n",
            "Epoch [2/10], Step [400/3079], Loss: 0.1724\n",
            "Epoch [2/10], Step [500/3079], Loss: 0.1886\n",
            "Epoch [2/10], Step [600/3079], Loss: 0.0214\n",
            "Epoch [2/10], Step [700/3079], Loss: 0.0515\n",
            "Epoch [2/10], Step [800/3079], Loss: 0.1730\n",
            "Epoch [2/10], Step [900/3079], Loss: 0.0400\n",
            "Epoch [2/10], Step [1000/3079], Loss: 0.4533\n",
            "Epoch [2/10], Step [1100/3079], Loss: 0.1668\n",
            "Epoch [2/10], Step [1200/3079], Loss: 0.1675\n",
            "Epoch [2/10], Step [1300/3079], Loss: 0.1353\n",
            "Epoch [2/10], Step [1400/3079], Loss: 0.0500\n",
            "Epoch [2/10], Step [1500/3079], Loss: 0.1986\n",
            "Epoch [2/10], Step [1600/3079], Loss: 0.0519\n",
            "Epoch [2/10], Step [1700/3079], Loss: 0.1767\n",
            "Epoch [2/10], Step [1800/3079], Loss: 0.0719\n",
            "Epoch [2/10], Step [1900/3079], Loss: 0.0334\n",
            "Epoch [2/10], Step [2000/3079], Loss: 0.0295\n",
            "Epoch [2/10], Step [2100/3079], Loss: 0.0629\n",
            "Epoch [2/10], Step [2200/3079], Loss: 0.0970\n",
            "Epoch [2/10], Step [2300/3079], Loss: 0.1039\n",
            "Epoch [2/10], Step [2400/3079], Loss: 0.1088\n",
            "Epoch [2/10], Step [2500/3079], Loss: 0.1137\n",
            "Epoch [2/10], Step [2600/3079], Loss: 0.1716\n",
            "Epoch [2/10], Step [2700/3079], Loss: 0.0832\n",
            "Epoch [2/10], Step [2800/3079], Loss: 0.0375\n",
            "Epoch [2/10], Step [2900/3079], Loss: 0.1490\n",
            "Epoch [2/10], Step [3000/3079], Loss: 0.1110\n"
          ]
        },
        {
          "output_type": "stream",
          "name": "stderr",
          "text": [
            "2023-12-09 00:15:02,503 - root - INFO - Accuracy: 96.04%\n",
            "2023-12-09 00:15:02,504 - root - INFO - Precision: 0.9595\n",
            "2023-12-09 00:15:02,506 - root - INFO - Recall: 0.9604\n",
            "2023-12-09 00:15:02,507 - root - INFO - F1 Score: 0.9553\n"
          ]
        },
        {
          "output_type": "stream",
          "name": "stdout",
          "text": [
            "Epoch [3/10], Step [100/3079], Loss: 0.1513\n",
            "Epoch [3/10], Step [200/3079], Loss: 0.1441\n",
            "Epoch [3/10], Step [300/3079], Loss: 0.0151\n",
            "Epoch [3/10], Step [400/3079], Loss: 0.0417\n",
            "Epoch [3/10], Step [500/3079], Loss: 0.2014\n",
            "Epoch [3/10], Step [600/3079], Loss: 0.1680\n",
            "Epoch [3/10], Step [700/3079], Loss: 0.3651\n",
            "Epoch [3/10], Step [800/3079], Loss: 0.0579\n",
            "Epoch [3/10], Step [900/3079], Loss: 0.0216\n",
            "Epoch [3/10], Step [1000/3079], Loss: 0.0265\n",
            "Epoch [3/10], Step [1100/3079], Loss: 0.1089\n",
            "Epoch [3/10], Step [1200/3079], Loss: 0.0131\n",
            "Epoch [3/10], Step [1300/3079], Loss: 0.1609\n",
            "Epoch [3/10], Step [1400/3079], Loss: 0.0565\n",
            "Epoch [3/10], Step [1500/3079], Loss: 0.0097\n",
            "Epoch [3/10], Step [1600/3079], Loss: 0.0237\n",
            "Epoch [3/10], Step [1700/3079], Loss: 0.0159\n",
            "Epoch [3/10], Step [1800/3079], Loss: 0.1817\n",
            "Epoch [3/10], Step [1900/3079], Loss: 0.0495\n",
            "Epoch [3/10], Step [2000/3079], Loss: 0.2253\n",
            "Epoch [3/10], Step [2100/3079], Loss: 0.0136\n",
            "Epoch [3/10], Step [2200/3079], Loss: 0.1811\n",
            "Epoch [3/10], Step [2300/3079], Loss: 0.0427\n",
            "Epoch [3/10], Step [2400/3079], Loss: 0.1714\n",
            "Epoch [3/10], Step [2500/3079], Loss: 0.0323\n",
            "Epoch [3/10], Step [2600/3079], Loss: 0.2383\n",
            "Epoch [3/10], Step [2700/3079], Loss: 0.4105\n",
            "Epoch [3/10], Step [2800/3079], Loss: 0.0455\n",
            "Epoch [3/10], Step [2900/3079], Loss: 0.0167\n",
            "Epoch [3/10], Step [3000/3079], Loss: 0.0681\n"
          ]
        },
        {
          "output_type": "stream",
          "name": "stderr",
          "text": [
            "2023-12-09 00:15:18,128 - root - INFO - Accuracy: 96.66%\n",
            "2023-12-09 00:15:18,129 - root - INFO - Precision: 0.9655\n",
            "2023-12-09 00:15:18,130 - root - INFO - Recall: 0.9666\n",
            "2023-12-09 00:15:18,130 - root - INFO - F1 Score: 0.9648\n"
          ]
        },
        {
          "output_type": "stream",
          "name": "stdout",
          "text": [
            "Epoch [4/10], Step [100/3079], Loss: 0.1081\n",
            "Epoch [4/10], Step [200/3079], Loss: 0.1302\n",
            "Epoch [4/10], Step [300/3079], Loss: 0.0616\n",
            "Epoch [4/10], Step [400/3079], Loss: 0.2323\n",
            "Epoch [4/10], Step [500/3079], Loss: 0.0138\n",
            "Epoch [4/10], Step [600/3079], Loss: 0.1218\n",
            "Epoch [4/10], Step [700/3079], Loss: 0.1044\n",
            "Epoch [4/10], Step [800/3079], Loss: 0.1608\n",
            "Epoch [4/10], Step [900/3079], Loss: 0.0159\n",
            "Epoch [4/10], Step [1000/3079], Loss: 0.1319\n",
            "Epoch [4/10], Step [1100/3079], Loss: 0.2156\n",
            "Epoch [4/10], Step [1200/3079], Loss: 0.0231\n",
            "Epoch [4/10], Step [1300/3079], Loss: 0.1097\n",
            "Epoch [4/10], Step [1400/3079], Loss: 0.1924\n",
            "Epoch [4/10], Step [1500/3079], Loss: 0.5158\n",
            "Epoch [4/10], Step [1600/3079], Loss: 0.0671\n",
            "Epoch [4/10], Step [1700/3079], Loss: 0.1145\n",
            "Epoch [4/10], Step [1800/3079], Loss: 0.0287\n",
            "Epoch [4/10], Step [1900/3079], Loss: 0.0920\n",
            "Epoch [4/10], Step [2000/3079], Loss: 0.1351\n",
            "Epoch [4/10], Step [2100/3079], Loss: 0.1650\n",
            "Epoch [4/10], Step [2200/3079], Loss: 0.0248\n",
            "Epoch [4/10], Step [2300/3079], Loss: 0.1304\n",
            "Epoch [4/10], Step [2400/3079], Loss: 0.2519\n",
            "Epoch [4/10], Step [2500/3079], Loss: 0.0742\n",
            "Epoch [4/10], Step [2600/3079], Loss: 0.0706\n",
            "Epoch [4/10], Step [2700/3079], Loss: 0.0105\n",
            "Epoch [4/10], Step [2800/3079], Loss: 0.0501\n",
            "Epoch [4/10], Step [2900/3079], Loss: 0.1076\n",
            "Epoch [4/10], Step [3000/3079], Loss: 0.0376\n"
          ]
        },
        {
          "output_type": "stream",
          "name": "stderr",
          "text": [
            "2023-12-09 00:15:33,799 - root - INFO - Accuracy: 97.04%\n",
            "2023-12-09 00:15:33,800 - root - INFO - Precision: 0.9697\n",
            "2023-12-09 00:15:33,801 - root - INFO - Recall: 0.9704\n",
            "2023-12-09 00:15:33,803 - root - INFO - F1 Score: 0.9688\n"
          ]
        },
        {
          "output_type": "stream",
          "name": "stdout",
          "text": [
            "Epoch [5/10], Step [100/3079], Loss: 0.0142\n",
            "Epoch [5/10], Step [200/3079], Loss: 0.2373\n",
            "Epoch [5/10], Step [300/3079], Loss: 0.0267\n",
            "Epoch [5/10], Step [400/3079], Loss: 0.0193\n",
            "Epoch [5/10], Step [500/3079], Loss: 0.0576\n",
            "Epoch [5/10], Step [600/3079], Loss: 0.0246\n",
            "Epoch [5/10], Step [700/3079], Loss: 0.0188\n",
            "Epoch [5/10], Step [800/3079], Loss: 0.2191\n",
            "Epoch [5/10], Step [900/3079], Loss: 0.0227\n",
            "Epoch [5/10], Step [1000/3079], Loss: 0.0586\n",
            "Epoch [5/10], Step [1100/3079], Loss: 0.3776\n",
            "Epoch [5/10], Step [1200/3079], Loss: 0.0367\n",
            "Epoch [5/10], Step [1300/3079], Loss: 0.0240\n",
            "Epoch [5/10], Step [1400/3079], Loss: 0.0194\n",
            "Epoch [5/10], Step [1500/3079], Loss: 0.0466\n",
            "Epoch [5/10], Step [1600/3079], Loss: 0.1719\n",
            "Epoch [5/10], Step [1700/3079], Loss: 0.0547\n",
            "Epoch [5/10], Step [1800/3079], Loss: 0.1071\n",
            "Epoch [5/10], Step [1900/3079], Loss: 0.0343\n",
            "Epoch [5/10], Step [2000/3079], Loss: 0.1516\n",
            "Epoch [5/10], Step [2100/3079], Loss: 0.1906\n",
            "Epoch [5/10], Step [2200/3079], Loss: 0.0612\n",
            "Epoch [5/10], Step [2300/3079], Loss: 0.1583\n",
            "Epoch [5/10], Step [2400/3079], Loss: 0.2386\n",
            "Epoch [5/10], Step [2500/3079], Loss: 0.1479\n",
            "Epoch [5/10], Step [2600/3079], Loss: 0.0572\n",
            "Epoch [5/10], Step [2700/3079], Loss: 0.2283\n",
            "Epoch [5/10], Step [2800/3079], Loss: 0.2633\n",
            "Epoch [5/10], Step [2900/3079], Loss: 0.0530\n",
            "Epoch [5/10], Step [3000/3079], Loss: 0.1247\n"
          ]
        },
        {
          "output_type": "stream",
          "name": "stderr",
          "text": [
            "2023-12-09 00:15:49,382 - root - INFO - Accuracy: 97.18%\n",
            "2023-12-09 00:15:49,383 - root - INFO - Precision: 0.9712\n",
            "2023-12-09 00:15:49,384 - root - INFO - Recall: 0.9718\n",
            "2023-12-09 00:15:49,385 - root - INFO - F1 Score: 0.9705\n"
          ]
        },
        {
          "output_type": "stream",
          "name": "stdout",
          "text": [
            "Epoch [6/10], Step [100/3079], Loss: 0.2443\n",
            "Epoch [6/10], Step [200/3079], Loss: 0.1375\n",
            "Epoch [6/10], Step [300/3079], Loss: 0.0673\n",
            "Epoch [6/10], Step [400/3079], Loss: 0.0309\n",
            "Epoch [6/10], Step [500/3079], Loss: 0.0194\n",
            "Epoch [6/10], Step [600/3079], Loss: 0.0540\n",
            "Epoch [6/10], Step [700/3079], Loss: 0.0088\n",
            "Epoch [6/10], Step [800/3079], Loss: 0.0671\n",
            "Epoch [6/10], Step [900/3079], Loss: 0.0901\n",
            "Epoch [6/10], Step [1000/3079], Loss: 0.0177\n",
            "Epoch [6/10], Step [1100/3079], Loss: 0.0866\n",
            "Epoch [6/10], Step [1200/3079], Loss: 0.0119\n",
            "Epoch [6/10], Step [1300/3079], Loss: 0.2029\n",
            "Epoch [6/10], Step [1400/3079], Loss: 0.0426\n",
            "Epoch [6/10], Step [1500/3079], Loss: 0.0176\n",
            "Epoch [6/10], Step [1600/3079], Loss: 0.0262\n",
            "Epoch [6/10], Step [1700/3079], Loss: 0.0507\n",
            "Epoch [6/10], Step [1800/3079], Loss: 0.0254\n",
            "Epoch [6/10], Step [1900/3079], Loss: 0.0196\n",
            "Epoch [6/10], Step [2000/3079], Loss: 0.0255\n",
            "Epoch [6/10], Step [2100/3079], Loss: 0.0365\n",
            "Epoch [6/10], Step [2200/3079], Loss: 0.0104\n",
            "Epoch [6/10], Step [2300/3079], Loss: 0.0584\n",
            "Epoch [6/10], Step [2400/3079], Loss: 0.1063\n",
            "Epoch [6/10], Step [2500/3079], Loss: 0.0149\n",
            "Epoch [6/10], Step [2600/3079], Loss: 0.0378\n",
            "Epoch [6/10], Step [2700/3079], Loss: 0.0654\n",
            "Epoch [6/10], Step [2800/3079], Loss: 0.1167\n",
            "Epoch [6/10], Step [2900/3079], Loss: 0.2541\n",
            "Epoch [6/10], Step [3000/3079], Loss: 0.0665\n"
          ]
        },
        {
          "output_type": "stream",
          "name": "stderr",
          "text": [
            "2023-12-09 00:16:05,044 - root - INFO - Accuracy: 97.34%\n",
            "2023-12-09 00:16:05,045 - root - INFO - Precision: 0.9724\n",
            "2023-12-09 00:16:05,045 - root - INFO - Recall: 0.9734\n",
            "2023-12-09 00:16:05,046 - root - INFO - F1 Score: 0.9724\n"
          ]
        },
        {
          "output_type": "stream",
          "name": "stdout",
          "text": [
            "Epoch [7/10], Step [100/3079], Loss: 0.1690\n",
            "Epoch [7/10], Step [200/3079], Loss: 0.1395\n",
            "Epoch [7/10], Step [300/3079], Loss: 0.0617\n",
            "Epoch [7/10], Step [400/3079], Loss: 0.0284\n",
            "Epoch [7/10], Step [500/3079], Loss: 0.2215\n",
            "Epoch [7/10], Step [600/3079], Loss: 0.0129\n",
            "Epoch [7/10], Step [700/3079], Loss: 0.0102\n",
            "Epoch [7/10], Step [800/3079], Loss: 0.0441\n",
            "Epoch [7/10], Step [900/3079], Loss: 0.0113\n",
            "Epoch [7/10], Step [1000/3079], Loss: 0.0159\n",
            "Epoch [7/10], Step [1100/3079], Loss: 0.0172\n",
            "Epoch [7/10], Step [1200/3079], Loss: 0.4147\n",
            "Epoch [7/10], Step [1300/3079], Loss: 0.0516\n",
            "Epoch [7/10], Step [1400/3079], Loss: 0.1762\n",
            "Epoch [7/10], Step [1500/3079], Loss: 0.0216\n",
            "Epoch [7/10], Step [1600/3079], Loss: 0.0670\n",
            "Epoch [7/10], Step [1700/3079], Loss: 0.0971\n",
            "Epoch [7/10], Step [1800/3079], Loss: 0.1362\n",
            "Epoch [7/10], Step [1900/3079], Loss: 0.0812\n",
            "Epoch [7/10], Step [2000/3079], Loss: 0.0718\n",
            "Epoch [7/10], Step [2100/3079], Loss: 0.0428\n",
            "Epoch [7/10], Step [2200/3079], Loss: 0.1492\n",
            "Epoch [7/10], Step [2300/3079], Loss: 0.0650\n",
            "Epoch [7/10], Step [2400/3079], Loss: 0.0662\n",
            "Epoch [7/10], Step [2500/3079], Loss: 0.1110\n",
            "Epoch [7/10], Step [2600/3079], Loss: 0.0273\n",
            "Epoch [7/10], Step [2700/3079], Loss: 0.0224\n",
            "Epoch [7/10], Step [2800/3079], Loss: 0.0238\n",
            "Epoch [7/10], Step [2900/3079], Loss: 0.1277\n",
            "Epoch [7/10], Step [3000/3079], Loss: 0.0089\n"
          ]
        },
        {
          "output_type": "stream",
          "name": "stderr",
          "text": [
            "2023-12-09 00:16:20,720 - root - INFO - Accuracy: 97.49%\n",
            "2023-12-09 00:16:20,722 - root - INFO - Precision: 0.9742\n",
            "2023-12-09 00:16:20,723 - root - INFO - Recall: 0.9749\n",
            "2023-12-09 00:16:20,724 - root - INFO - F1 Score: 0.9734\n"
          ]
        },
        {
          "output_type": "stream",
          "name": "stdout",
          "text": [
            "Epoch [8/10], Step [100/3079], Loss: 0.1644\n",
            "Epoch [8/10], Step [200/3079], Loss: 0.0356\n",
            "Epoch [8/10], Step [300/3079], Loss: 0.0657\n",
            "Epoch [8/10], Step [400/3079], Loss: 0.1225\n",
            "Epoch [8/10], Step [500/3079], Loss: 0.0390\n",
            "Epoch [8/10], Step [600/3079], Loss: 0.1414\n",
            "Epoch [8/10], Step [700/3079], Loss: 0.1288\n",
            "Epoch [8/10], Step [800/3079], Loss: 0.0731\n",
            "Epoch [8/10], Step [900/3079], Loss: 0.0746\n",
            "Epoch [8/10], Step [1000/3079], Loss: 0.0550\n",
            "Epoch [8/10], Step [1100/3079], Loss: 0.0246\n",
            "Epoch [8/10], Step [1200/3079], Loss: 0.0276\n",
            "Epoch [8/10], Step [1300/3079], Loss: 0.0206\n",
            "Epoch [8/10], Step [1400/3079], Loss: 0.0459\n",
            "Epoch [8/10], Step [1500/3079], Loss: 0.1704\n",
            "Epoch [8/10], Step [1600/3079], Loss: 0.3093\n",
            "Epoch [8/10], Step [1700/3079], Loss: 0.1805\n",
            "Epoch [8/10], Step [1800/3079], Loss: 0.0216\n",
            "Epoch [8/10], Step [1900/3079], Loss: 0.1326\n",
            "Epoch [8/10], Step [2000/3079], Loss: 0.3381\n",
            "Epoch [8/10], Step [2100/3079], Loss: 0.0562\n",
            "Epoch [8/10], Step [2200/3079], Loss: 0.0623\n",
            "Epoch [8/10], Step [2300/3079], Loss: 0.0176\n",
            "Epoch [8/10], Step [2400/3079], Loss: 0.1245\n",
            "Epoch [8/10], Step [2500/3079], Loss: 0.0838\n",
            "Epoch [8/10], Step [2600/3079], Loss: 0.0203\n",
            "Epoch [8/10], Step [2700/3079], Loss: 0.0056\n",
            "Epoch [8/10], Step [2800/3079], Loss: 0.0963\n",
            "Epoch [8/10], Step [2900/3079], Loss: 0.0286\n",
            "Epoch [8/10], Step [3000/3079], Loss: 0.0530\n"
          ]
        },
        {
          "output_type": "stream",
          "name": "stderr",
          "text": [
            "2023-12-09 00:16:36,610 - root - INFO - Accuracy: 97.33%\n",
            "2023-12-09 00:16:36,611 - root - INFO - Precision: 0.9722\n",
            "2023-12-09 00:16:36,611 - root - INFO - Recall: 0.9733\n",
            "2023-12-09 00:16:36,612 - root - INFO - F1 Score: 0.9721\n"
          ]
        },
        {
          "output_type": "stream",
          "name": "stdout",
          "text": [
            "Epoch [9/10], Step [100/3079], Loss: 0.0226\n",
            "Epoch [9/10], Step [200/3079], Loss: 0.1932\n",
            "Epoch [9/10], Step [300/3079], Loss: 0.0186\n",
            "Epoch [9/10], Step [400/3079], Loss: 0.0094\n",
            "Epoch [9/10], Step [500/3079], Loss: 0.0406\n",
            "Epoch [9/10], Step [600/3079], Loss: 0.1076\n",
            "Epoch [9/10], Step [700/3079], Loss: 0.0329\n",
            "Epoch [9/10], Step [800/3079], Loss: 0.0930\n",
            "Epoch [9/10], Step [900/3079], Loss: 0.1696\n",
            "Epoch [9/10], Step [1000/3079], Loss: 0.0768\n",
            "Epoch [9/10], Step [1100/3079], Loss: 0.0416\n",
            "Epoch [9/10], Step [1200/3079], Loss: 0.0062\n",
            "Epoch [9/10], Step [1300/3079], Loss: 0.1205\n",
            "Epoch [9/10], Step [1400/3079], Loss: 0.0308\n",
            "Epoch [9/10], Step [1500/3079], Loss: 0.0191\n",
            "Epoch [9/10], Step [1600/3079], Loss: 0.2324\n",
            "Epoch [9/10], Step [1700/3079], Loss: 0.0102\n",
            "Epoch [9/10], Step [1800/3079], Loss: 0.0271\n",
            "Epoch [9/10], Step [1900/3079], Loss: 0.0978\n",
            "Epoch [9/10], Step [2000/3079], Loss: 0.0127\n",
            "Epoch [9/10], Step [2100/3079], Loss: 0.1000\n",
            "Epoch [9/10], Step [2200/3079], Loss: 0.0091\n",
            "Epoch [9/10], Step [2300/3079], Loss: 0.0231\n",
            "Epoch [9/10], Step [2400/3079], Loss: 0.0154\n",
            "Epoch [9/10], Step [2500/3079], Loss: 0.2142\n",
            "Epoch [9/10], Step [2600/3079], Loss: 0.0137\n",
            "Epoch [9/10], Step [2700/3079], Loss: 0.0816\n",
            "Epoch [9/10], Step [2800/3079], Loss: 0.0110\n",
            "Epoch [9/10], Step [2900/3079], Loss: 0.0109\n",
            "Epoch [9/10], Step [3000/3079], Loss: 0.0507\n"
          ]
        },
        {
          "output_type": "stream",
          "name": "stderr",
          "text": [
            "2023-12-09 00:16:52,637 - root - INFO - Accuracy: 97.36%\n",
            "2023-12-09 00:16:52,638 - root - INFO - Precision: 0.9730\n",
            "2023-12-09 00:16:52,639 - root - INFO - Recall: 0.9736\n",
            "2023-12-09 00:16:52,640 - root - INFO - F1 Score: 0.9729\n"
          ]
        },
        {
          "output_type": "stream",
          "name": "stdout",
          "text": [
            "Epoch [10/10], Step [100/3079], Loss: 0.1040\n",
            "Epoch [10/10], Step [200/3079], Loss: 0.0154\n",
            "Epoch [10/10], Step [300/3079], Loss: 0.4457\n",
            "Epoch [10/10], Step [400/3079], Loss: 0.0667\n",
            "Epoch [10/10], Step [500/3079], Loss: 0.0535\n",
            "Epoch [10/10], Step [600/3079], Loss: 0.0362\n",
            "Epoch [10/10], Step [700/3079], Loss: 0.1385\n",
            "Epoch [10/10], Step [800/3079], Loss: 0.0729\n",
            "Epoch [10/10], Step [900/3079], Loss: 0.0132\n",
            "Epoch [10/10], Step [1000/3079], Loss: 0.1976\n",
            "Epoch [10/10], Step [1100/3079], Loss: 0.0436\n",
            "Epoch [10/10], Step [1200/3079], Loss: 0.0443\n",
            "Epoch [10/10], Step [1300/3079], Loss: 0.0154\n",
            "Epoch [10/10], Step [1400/3079], Loss: 0.0267\n",
            "Epoch [10/10], Step [1500/3079], Loss: 0.0225\n",
            "Epoch [10/10], Step [1600/3079], Loss: 0.0247\n",
            "Epoch [10/10], Step [1700/3079], Loss: 0.0054\n",
            "Epoch [10/10], Step [1800/3079], Loss: 0.2280\n",
            "Epoch [10/10], Step [1900/3079], Loss: 0.0138\n",
            "Epoch [10/10], Step [2000/3079], Loss: 0.1023\n",
            "Epoch [10/10], Step [2100/3079], Loss: 0.1897\n",
            "Epoch [10/10], Step [2200/3079], Loss: 0.0255\n",
            "Epoch [10/10], Step [2300/3079], Loss: 0.0505\n",
            "Epoch [10/10], Step [2400/3079], Loss: 0.0392\n",
            "Epoch [10/10], Step [2500/3079], Loss: 0.0140\n",
            "Epoch [10/10], Step [2600/3079], Loss: 0.1256\n",
            "Epoch [10/10], Step [2700/3079], Loss: 0.1347\n",
            "Epoch [10/10], Step [2800/3079], Loss: 0.0352\n",
            "Epoch [10/10], Step [2900/3079], Loss: 0.0134\n",
            "Epoch [10/10], Step [3000/3079], Loss: 0.0448\n"
          ]
        },
        {
          "output_type": "stream",
          "name": "stderr",
          "text": [
            "2023-12-09 00:17:08,013 - root - INFO - Accuracy: 97.53%\n",
            "2023-12-09 00:17:08,014 - root - INFO - Precision: 0.9753\n",
            "2023-12-09 00:17:08,014 - root - INFO - Recall: 0.9753\n",
            "2023-12-09 00:17:08,015 - root - INFO - F1 Score: 0.9751\n"
          ]
        },
        {
          "output_type": "stream",
          "name": "stdout",
          "text": [
            "FOLD 6\n",
            "--------------------------------\n",
            "AttentionOSCNN(\n",
            "  (conv1): Conv1d(1, 128, kernel_size=(8,), stride=(1,), padding=same)\n",
            "  (bn1): BatchNorm1d(128, eps=1e-05, momentum=0.1, affine=True, track_running_stats=True)\n",
            "  (conv2): Conv1d(128, 256, kernel_size=(5,), stride=(1,), padding=same)\n",
            "  (bn2): BatchNorm1d(256, eps=1e-05, momentum=0.1, affine=True, track_running_stats=True)\n",
            "  (conv3): Conv1d(256, 128, kernel_size=(3,), stride=(1,), padding=same)\n",
            "  (bn3): BatchNorm1d(128, eps=1e-05, momentum=0.1, affine=True, track_running_stats=True)\n",
            "  (intermediate): Linear(in_features=1, out_features=128, bias=True)\n",
            "  (dropout): Dropout(p=0.8, inplace=False)\n",
            "  (attention): SelfAttention(\n",
            "    (query): Linear(in_features=128, out_features=128, bias=True)\n",
            "    (key): Linear(in_features=128, out_features=128, bias=True)\n",
            "    (value): Linear(in_features=128, out_features=128, bias=True)\n",
            "  )\n",
            "  (avg_pool): AdaptiveAvgPool1d(output_size=1)\n",
            "  (fc): Linear(in_features=256, out_features=5, bias=True)\n",
            ")\n",
            "Epoch [1/10], Step [100/3079], Loss: 0.5853\n",
            "Epoch [1/10], Step [200/3079], Loss: 0.6404\n",
            "Epoch [1/10], Step [300/3079], Loss: 0.5748\n",
            "Epoch [1/10], Step [400/3079], Loss: 0.7068\n",
            "Epoch [1/10], Step [500/3079], Loss: 0.2915\n",
            "Epoch [1/10], Step [600/3079], Loss: 0.3721\n",
            "Epoch [1/10], Step [700/3079], Loss: 0.4466\n",
            "Epoch [1/10], Step [800/3079], Loss: 0.1222\n",
            "Epoch [1/10], Step [900/3079], Loss: 0.1942\n",
            "Epoch [1/10], Step [1000/3079], Loss: 0.0792\n",
            "Epoch [1/10], Step [1100/3079], Loss: 0.2273\n",
            "Epoch [1/10], Step [1200/3079], Loss: 0.5391\n",
            "Epoch [1/10], Step [1300/3079], Loss: 0.3545\n",
            "Epoch [1/10], Step [1400/3079], Loss: 0.2452\n",
            "Epoch [1/10], Step [1500/3079], Loss: 0.0780\n",
            "Epoch [1/10], Step [1600/3079], Loss: 0.0472\n",
            "Epoch [1/10], Step [1700/3079], Loss: 0.0719\n",
            "Epoch [1/10], Step [1800/3079], Loss: 0.3173\n",
            "Epoch [1/10], Step [1900/3079], Loss: 0.3229\n",
            "Epoch [1/10], Step [2000/3079], Loss: 0.2164\n",
            "Epoch [1/10], Step [2100/3079], Loss: 0.1411\n",
            "Epoch [1/10], Step [2200/3079], Loss: 0.1009\n",
            "Epoch [1/10], Step [2300/3079], Loss: 0.1129\n",
            "Epoch [1/10], Step [2400/3079], Loss: 0.0219\n",
            "Epoch [1/10], Step [2500/3079], Loss: 0.1737\n",
            "Epoch [1/10], Step [2600/3079], Loss: 0.2113\n",
            "Epoch [1/10], Step [2700/3079], Loss: 0.0963\n",
            "Epoch [1/10], Step [2800/3079], Loss: 0.1030\n",
            "Epoch [1/10], Step [2900/3079], Loss: 0.3571\n",
            "Epoch [1/10], Step [3000/3079], Loss: 0.5032\n"
          ]
        },
        {
          "output_type": "stream",
          "name": "stderr",
          "text": [
            "/usr/local/lib/python3.10/dist-packages/sklearn/metrics/_classification.py:1344: UndefinedMetricWarning: Precision is ill-defined and being set to 0.0 in labels with no predicted samples. Use `zero_division` parameter to control this behavior.\n",
            "  _warn_prf(average, modifier, msg_start, len(result))\n",
            "2023-12-09 00:17:23,851 - root - INFO - Accuracy: 95.30%\n",
            "2023-12-09 00:17:23,852 - root - INFO - Precision: 0.9480\n",
            "2023-12-09 00:17:23,853 - root - INFO - Recall: 0.9530\n",
            "2023-12-09 00:17:23,854 - root - INFO - F1 Score: 0.9498\n"
          ]
        },
        {
          "output_type": "stream",
          "name": "stdout",
          "text": [
            "Epoch [2/10], Step [100/3079], Loss: 0.1841\n",
            "Epoch [2/10], Step [200/3079], Loss: 0.2439\n",
            "Epoch [2/10], Step [300/3079], Loss: 0.0718\n",
            "Epoch [2/10], Step [400/3079], Loss: 0.2101\n",
            "Epoch [2/10], Step [500/3079], Loss: 0.0180\n",
            "Epoch [2/10], Step [600/3079], Loss: 0.1348\n",
            "Epoch [2/10], Step [700/3079], Loss: 0.1051\n",
            "Epoch [2/10], Step [800/3079], Loss: 0.0422\n",
            "Epoch [2/10], Step [900/3079], Loss: 0.0685\n",
            "Epoch [2/10], Step [1000/3079], Loss: 0.2842\n",
            "Epoch [2/10], Step [1100/3079], Loss: 0.1625\n",
            "Epoch [2/10], Step [1200/3079], Loss: 0.2408\n",
            "Epoch [2/10], Step [1300/3079], Loss: 0.1724\n",
            "Epoch [2/10], Step [1400/3079], Loss: 0.0505\n",
            "Epoch [2/10], Step [1500/3079], Loss: 0.1107\n",
            "Epoch [2/10], Step [1600/3079], Loss: 0.3064\n",
            "Epoch [2/10], Step [1700/3079], Loss: 0.0239\n",
            "Epoch [2/10], Step [1800/3079], Loss: 0.1979\n",
            "Epoch [2/10], Step [1900/3079], Loss: 0.0798\n",
            "Epoch [2/10], Step [2000/3079], Loss: 0.0595\n",
            "Epoch [2/10], Step [2100/3079], Loss: 0.0936\n",
            "Epoch [2/10], Step [2200/3079], Loss: 0.0696\n",
            "Epoch [2/10], Step [2300/3079], Loss: 0.0834\n",
            "Epoch [2/10], Step [2400/3079], Loss: 0.0779\n",
            "Epoch [2/10], Step [2500/3079], Loss: 0.0871\n",
            "Epoch [2/10], Step [2600/3079], Loss: 0.1157\n",
            "Epoch [2/10], Step [2700/3079], Loss: 0.2231\n",
            "Epoch [2/10], Step [2800/3079], Loss: 0.0978\n",
            "Epoch [2/10], Step [2900/3079], Loss: 0.0801\n",
            "Epoch [2/10], Step [3000/3079], Loss: 0.0834\n"
          ]
        },
        {
          "output_type": "stream",
          "name": "stderr",
          "text": [
            "2023-12-09 00:17:39,258 - root - INFO - Accuracy: 96.50%\n",
            "2023-12-09 00:17:39,259 - root - INFO - Precision: 0.9635\n",
            "2023-12-09 00:17:39,260 - root - INFO - Recall: 0.9650\n",
            "2023-12-09 00:17:39,261 - root - INFO - F1 Score: 0.9637\n"
          ]
        },
        {
          "output_type": "stream",
          "name": "stdout",
          "text": [
            "Epoch [3/10], Step [100/3079], Loss: 0.0773\n",
            "Epoch [3/10], Step [200/3079], Loss: 0.0121\n",
            "Epoch [3/10], Step [300/3079], Loss: 0.1260\n",
            "Epoch [3/10], Step [400/3079], Loss: 0.1826\n",
            "Epoch [3/10], Step [500/3079], Loss: 0.1035\n",
            "Epoch [3/10], Step [600/3079], Loss: 0.0193\n",
            "Epoch [3/10], Step [700/3079], Loss: 0.0213\n",
            "Epoch [3/10], Step [800/3079], Loss: 0.0226\n",
            "Epoch [3/10], Step [900/3079], Loss: 0.3819\n",
            "Epoch [3/10], Step [1000/3079], Loss: 0.1211\n",
            "Epoch [3/10], Step [1100/3079], Loss: 0.1416\n",
            "Epoch [3/10], Step [1200/3079], Loss: 0.2313\n",
            "Epoch [3/10], Step [1300/3079], Loss: 0.0214\n",
            "Epoch [3/10], Step [1400/3079], Loss: 0.2600\n",
            "Epoch [3/10], Step [1500/3079], Loss: 0.1504\n",
            "Epoch [3/10], Step [1600/3079], Loss: 0.0652\n",
            "Epoch [3/10], Step [1700/3079], Loss: 0.1137\n",
            "Epoch [3/10], Step [1800/3079], Loss: 0.3606\n",
            "Epoch [3/10], Step [1900/3079], Loss: 0.0741\n",
            "Epoch [3/10], Step [2000/3079], Loss: 0.0521\n",
            "Epoch [3/10], Step [2100/3079], Loss: 0.1046\n",
            "Epoch [3/10], Step [2200/3079], Loss: 0.1413\n",
            "Epoch [3/10], Step [2300/3079], Loss: 0.1497\n",
            "Epoch [3/10], Step [2400/3079], Loss: 0.0765\n",
            "Epoch [3/10], Step [2500/3079], Loss: 0.0176\n",
            "Epoch [3/10], Step [2600/3079], Loss: 0.1223\n",
            "Epoch [3/10], Step [2700/3079], Loss: 0.0634\n",
            "Epoch [3/10], Step [2800/3079], Loss: 0.1006\n",
            "Epoch [3/10], Step [2900/3079], Loss: 0.2047\n",
            "Epoch [3/10], Step [3000/3079], Loss: 0.0583\n"
          ]
        },
        {
          "output_type": "stream",
          "name": "stderr",
          "text": [
            "2023-12-09 00:17:55,087 - root - INFO - Accuracy: 96.77%\n",
            "2023-12-09 00:17:55,088 - root - INFO - Precision: 0.9679\n",
            "2023-12-09 00:17:55,089 - root - INFO - Recall: 0.9677\n",
            "2023-12-09 00:17:55,089 - root - INFO - F1 Score: 0.9675\n"
          ]
        },
        {
          "output_type": "stream",
          "name": "stdout",
          "text": [
            "Epoch [4/10], Step [100/3079], Loss: 0.2313\n",
            "Epoch [4/10], Step [200/3079], Loss: 0.0228\n",
            "Epoch [4/10], Step [300/3079], Loss: 0.0932\n",
            "Epoch [4/10], Step [400/3079], Loss: 0.1261\n",
            "Epoch [4/10], Step [500/3079], Loss: 0.0536\n",
            "Epoch [4/10], Step [600/3079], Loss: 0.0366\n",
            "Epoch [4/10], Step [700/3079], Loss: 0.3150\n",
            "Epoch [4/10], Step [800/3079], Loss: 0.0988\n",
            "Epoch [4/10], Step [900/3079], Loss: 0.0218\n",
            "Epoch [4/10], Step [1000/3079], Loss: 0.2041\n",
            "Epoch [4/10], Step [1100/3079], Loss: 0.1593\n",
            "Epoch [4/10], Step [1200/3079], Loss: 0.1741\n",
            "Epoch [4/10], Step [1300/3079], Loss: 0.1482\n",
            "Epoch [4/10], Step [1400/3079], Loss: 0.1093\n",
            "Epoch [4/10], Step [1500/3079], Loss: 0.0593\n",
            "Epoch [4/10], Step [1600/3079], Loss: 0.0637\n",
            "Epoch [4/10], Step [1700/3079], Loss: 0.0779\n",
            "Epoch [4/10], Step [1800/3079], Loss: 0.1669\n",
            "Epoch [4/10], Step [1900/3079], Loss: 0.2044\n",
            "Epoch [4/10], Step [2000/3079], Loss: 0.1972\n",
            "Epoch [4/10], Step [2100/3079], Loss: 0.2144\n",
            "Epoch [4/10], Step [2200/3079], Loss: 0.0283\n",
            "Epoch [4/10], Step [2300/3079], Loss: 0.0786\n",
            "Epoch [4/10], Step [2400/3079], Loss: 0.0892\n",
            "Epoch [4/10], Step [2500/3079], Loss: 0.1556\n",
            "Epoch [4/10], Step [2600/3079], Loss: 0.2639\n",
            "Epoch [4/10], Step [2700/3079], Loss: 0.0151\n",
            "Epoch [4/10], Step [2800/3079], Loss: 0.2229\n",
            "Epoch [4/10], Step [2900/3079], Loss: 0.2094\n",
            "Epoch [4/10], Step [3000/3079], Loss: 0.0830\n"
          ]
        },
        {
          "output_type": "stream",
          "name": "stderr",
          "text": [
            "2023-12-09 00:18:10,851 - root - INFO - Accuracy: 97.10%\n",
            "2023-12-09 00:18:10,852 - root - INFO - Precision: 0.9703\n",
            "2023-12-09 00:18:10,853 - root - INFO - Recall: 0.9710\n",
            "2023-12-09 00:18:10,854 - root - INFO - F1 Score: 0.9703\n"
          ]
        },
        {
          "output_type": "stream",
          "name": "stdout",
          "text": [
            "Epoch [5/10], Step [100/3079], Loss: 0.0551\n",
            "Epoch [5/10], Step [200/3079], Loss: 0.0517\n",
            "Epoch [5/10], Step [300/3079], Loss: 0.1000\n",
            "Epoch [5/10], Step [400/3079], Loss: 0.1805\n",
            "Epoch [5/10], Step [500/3079], Loss: 0.3957\n",
            "Epoch [5/10], Step [600/3079], Loss: 0.0206\n",
            "Epoch [5/10], Step [700/3079], Loss: 0.0144\n",
            "Epoch [5/10], Step [800/3079], Loss: 0.0725\n",
            "Epoch [5/10], Step [900/3079], Loss: 0.0767\n",
            "Epoch [5/10], Step [1000/3079], Loss: 0.0254\n",
            "Epoch [5/10], Step [1100/3079], Loss: 0.0523\n",
            "Epoch [5/10], Step [1200/3079], Loss: 0.0876\n",
            "Epoch [5/10], Step [1300/3079], Loss: 0.0362\n",
            "Epoch [5/10], Step [1400/3079], Loss: 0.0168\n",
            "Epoch [5/10], Step [1500/3079], Loss: 0.6014\n",
            "Epoch [5/10], Step [1600/3079], Loss: 0.0191\n",
            "Epoch [5/10], Step [1700/3079], Loss: 0.1935\n",
            "Epoch [5/10], Step [1800/3079], Loss: 0.0257\n",
            "Epoch [5/10], Step [1900/3079], Loss: 0.0258\n",
            "Epoch [5/10], Step [2000/3079], Loss: 0.0191\n",
            "Epoch [5/10], Step [2100/3079], Loss: 0.0361\n",
            "Epoch [5/10], Step [2200/3079], Loss: 0.2675\n",
            "Epoch [5/10], Step [2300/3079], Loss: 0.1640\n",
            "Epoch [5/10], Step [2400/3079], Loss: 0.2825\n",
            "Epoch [5/10], Step [2500/3079], Loss: 0.2046\n",
            "Epoch [5/10], Step [2600/3079], Loss: 0.0811\n",
            "Epoch [5/10], Step [2700/3079], Loss: 0.0346\n",
            "Epoch [5/10], Step [2800/3079], Loss: 0.0553\n",
            "Epoch [5/10], Step [2900/3079], Loss: 0.0268\n",
            "Epoch [5/10], Step [3000/3079], Loss: 0.0148\n"
          ]
        },
        {
          "output_type": "stream",
          "name": "stderr",
          "text": [
            "2023-12-09 00:18:26,524 - root - INFO - Accuracy: 96.92%\n",
            "2023-12-09 00:18:26,525 - root - INFO - Precision: 0.9684\n",
            "2023-12-09 00:18:26,527 - root - INFO - Recall: 0.9692\n",
            "2023-12-09 00:18:26,527 - root - INFO - F1 Score: 0.9676\n"
          ]
        },
        {
          "output_type": "stream",
          "name": "stdout",
          "text": [
            "Epoch [6/10], Step [100/3079], Loss: 0.1355\n",
            "Epoch [6/10], Step [200/3079], Loss: 0.0171\n",
            "Epoch [6/10], Step [300/3079], Loss: 0.0780\n",
            "Epoch [6/10], Step [400/3079], Loss: 0.0137\n",
            "Epoch [6/10], Step [500/3079], Loss: 0.4556\n",
            "Epoch [6/10], Step [600/3079], Loss: 0.0325\n",
            "Epoch [6/10], Step [700/3079], Loss: 0.1019\n",
            "Epoch [6/10], Step [800/3079], Loss: 0.0316\n",
            "Epoch [6/10], Step [900/3079], Loss: 0.3248\n",
            "Epoch [6/10], Step [1000/3079], Loss: 0.0502\n",
            "Epoch [6/10], Step [1100/3079], Loss: 0.1176\n",
            "Epoch [6/10], Step [1200/3079], Loss: 0.0282\n",
            "Epoch [6/10], Step [1300/3079], Loss: 0.0281\n",
            "Epoch [6/10], Step [1400/3079], Loss: 0.0472\n",
            "Epoch [6/10], Step [1500/3079], Loss: 0.0555\n",
            "Epoch [6/10], Step [1600/3079], Loss: 0.0165\n",
            "Epoch [6/10], Step [1700/3079], Loss: 0.0406\n",
            "Epoch [6/10], Step [1800/3079], Loss: 0.0439\n",
            "Epoch [6/10], Step [1900/3079], Loss: 0.0518\n",
            "Epoch [6/10], Step [2000/3079], Loss: 0.0164\n",
            "Epoch [6/10], Step [2100/3079], Loss: 0.0390\n",
            "Epoch [6/10], Step [2200/3079], Loss: 0.0121\n",
            "Epoch [6/10], Step [2300/3079], Loss: 0.2787\n",
            "Epoch [6/10], Step [2400/3079], Loss: 0.2124\n",
            "Epoch [6/10], Step [2500/3079], Loss: 0.0625\n",
            "Epoch [6/10], Step [2600/3079], Loss: 0.6387\n",
            "Epoch [6/10], Step [2700/3079], Loss: 0.1212\n",
            "Epoch [6/10], Step [2800/3079], Loss: 0.1307\n",
            "Epoch [6/10], Step [2900/3079], Loss: 0.0180\n",
            "Epoch [6/10], Step [3000/3079], Loss: 0.0647\n"
          ]
        },
        {
          "output_type": "stream",
          "name": "stderr",
          "text": [
            "2023-12-09 00:18:42,094 - root - INFO - Accuracy: 97.60%\n",
            "2023-12-09 00:18:42,095 - root - INFO - Precision: 0.9750\n",
            "2023-12-09 00:18:42,096 - root - INFO - Recall: 0.9760\n",
            "2023-12-09 00:18:42,098 - root - INFO - F1 Score: 0.9751\n"
          ]
        },
        {
          "output_type": "stream",
          "name": "stdout",
          "text": [
            "Epoch [7/10], Step [100/3079], Loss: 0.1400\n",
            "Epoch [7/10], Step [200/3079], Loss: 0.0236\n",
            "Epoch [7/10], Step [300/3079], Loss: 0.0544\n",
            "Epoch [7/10], Step [400/3079], Loss: 0.4876\n",
            "Epoch [7/10], Step [500/3079], Loss: 0.0204\n",
            "Epoch [7/10], Step [600/3079], Loss: 0.0339\n",
            "Epoch [7/10], Step [700/3079], Loss: 0.0940\n",
            "Epoch [7/10], Step [800/3079], Loss: 0.0679\n",
            "Epoch [7/10], Step [900/3079], Loss: 0.0210\n",
            "Epoch [7/10], Step [1000/3079], Loss: 0.0145\n",
            "Epoch [7/10], Step [1100/3079], Loss: 0.1409\n",
            "Epoch [7/10], Step [1200/3079], Loss: 0.0173\n",
            "Epoch [7/10], Step [1300/3079], Loss: 0.0385\n",
            "Epoch [7/10], Step [1400/3079], Loss: 0.2285\n",
            "Epoch [7/10], Step [1500/3079], Loss: 0.2195\n",
            "Epoch [7/10], Step [1600/3079], Loss: 0.0901\n",
            "Epoch [7/10], Step [1700/3079], Loss: 0.2414\n",
            "Epoch [7/10], Step [1800/3079], Loss: 0.0492\n",
            "Epoch [7/10], Step [1900/3079], Loss: 0.0117\n",
            "Epoch [7/10], Step [2000/3079], Loss: 0.0059\n",
            "Epoch [7/10], Step [2100/3079], Loss: 0.1215\n",
            "Epoch [7/10], Step [2200/3079], Loss: 0.2150\n",
            "Epoch [7/10], Step [2300/3079], Loss: 0.0098\n",
            "Epoch [7/10], Step [2400/3079], Loss: 0.0123\n",
            "Epoch [7/10], Step [2500/3079], Loss: 0.0518\n",
            "Epoch [7/10], Step [2600/3079], Loss: 0.0202\n",
            "Epoch [7/10], Step [2700/3079], Loss: 0.0266\n",
            "Epoch [7/10], Step [2800/3079], Loss: 0.2555\n",
            "Epoch [7/10], Step [2900/3079], Loss: 0.1544\n",
            "Epoch [7/10], Step [3000/3079], Loss: 0.0663\n"
          ]
        },
        {
          "output_type": "stream",
          "name": "stderr",
          "text": [
            "2023-12-09 00:18:57,881 - root - INFO - Accuracy: 97.40%\n",
            "2023-12-09 00:18:57,882 - root - INFO - Precision: 0.9732\n",
            "2023-12-09 00:18:57,883 - root - INFO - Recall: 0.9740\n",
            "2023-12-09 00:18:57,886 - root - INFO - F1 Score: 0.9733\n"
          ]
        },
        {
          "output_type": "stream",
          "name": "stdout",
          "text": [
            "Epoch [8/10], Step [100/3079], Loss: 0.1977\n",
            "Epoch [8/10], Step [200/3079], Loss: 0.0157\n",
            "Epoch [8/10], Step [300/3079], Loss: 0.0087\n",
            "Epoch [8/10], Step [400/3079], Loss: 0.0426\n",
            "Epoch [8/10], Step [500/3079], Loss: 0.0166\n",
            "Epoch [8/10], Step [600/3079], Loss: 0.0670\n",
            "Epoch [8/10], Step [700/3079], Loss: 0.0291\n",
            "Epoch [8/10], Step [800/3079], Loss: 0.1784\n",
            "Epoch [8/10], Step [900/3079], Loss: 0.4317\n",
            "Epoch [8/10], Step [1000/3079], Loss: 0.0472\n",
            "Epoch [8/10], Step [1100/3079], Loss: 0.3335\n",
            "Epoch [8/10], Step [1200/3079], Loss: 0.0189\n",
            "Epoch [8/10], Step [1300/3079], Loss: 0.0286\n",
            "Epoch [8/10], Step [1400/3079], Loss: 0.3443\n",
            "Epoch [8/10], Step [1500/3079], Loss: 0.1788\n",
            "Epoch [8/10], Step [1600/3079], Loss: 0.0272\n",
            "Epoch [8/10], Step [1700/3079], Loss: 0.0191\n",
            "Epoch [8/10], Step [1800/3079], Loss: 0.0840\n",
            "Epoch [8/10], Step [1900/3079], Loss: 0.0314\n",
            "Epoch [8/10], Step [2000/3079], Loss: 0.0929\n",
            "Epoch [8/10], Step [2100/3079], Loss: 0.3514\n",
            "Epoch [8/10], Step [2200/3079], Loss: 0.1507\n",
            "Epoch [8/10], Step [2300/3079], Loss: 0.0846\n",
            "Epoch [8/10], Step [2400/3079], Loss: 0.0203\n",
            "Epoch [8/10], Step [2500/3079], Loss: 0.0372\n",
            "Epoch [8/10], Step [2600/3079], Loss: 0.0293\n",
            "Epoch [8/10], Step [2700/3079], Loss: 0.4158\n",
            "Epoch [8/10], Step [2800/3079], Loss: 0.0205\n",
            "Epoch [8/10], Step [2900/3079], Loss: 0.0077\n",
            "Epoch [8/10], Step [3000/3079], Loss: 0.1487\n"
          ]
        },
        {
          "output_type": "stream",
          "name": "stderr",
          "text": [
            "2023-12-09 00:19:13,509 - root - INFO - Accuracy: 97.57%\n",
            "2023-12-09 00:19:13,510 - root - INFO - Precision: 0.9749\n",
            "2023-12-09 00:19:13,511 - root - INFO - Recall: 0.9757\n",
            "2023-12-09 00:19:13,512 - root - INFO - F1 Score: 0.9751\n"
          ]
        },
        {
          "output_type": "stream",
          "name": "stdout",
          "text": [
            "Epoch [9/10], Step [100/3079], Loss: 0.0504\n",
            "Epoch [9/10], Step [200/3079], Loss: 0.0614\n",
            "Epoch [9/10], Step [300/3079], Loss: 0.0127\n",
            "Epoch [9/10], Step [400/3079], Loss: 0.0117\n",
            "Epoch [9/10], Step [500/3079], Loss: 0.0156\n",
            "Epoch [9/10], Step [600/3079], Loss: 0.1145\n",
            "Epoch [9/10], Step [700/3079], Loss: 0.1335\n",
            "Epoch [9/10], Step [800/3079], Loss: 0.2235\n",
            "Epoch [9/10], Step [900/3079], Loss: 0.0749\n",
            "Epoch [9/10], Step [1000/3079], Loss: 0.0518\n",
            "Epoch [9/10], Step [1100/3079], Loss: 0.1208\n",
            "Epoch [9/10], Step [1200/3079], Loss: 0.0183\n",
            "Epoch [9/10], Step [1300/3079], Loss: 0.0656\n",
            "Epoch [9/10], Step [1400/3079], Loss: 0.0081\n",
            "Epoch [9/10], Step [1500/3079], Loss: 0.0061\n",
            "Epoch [9/10], Step [1600/3079], Loss: 0.0101\n",
            "Epoch [9/10], Step [1700/3079], Loss: 0.0168\n",
            "Epoch [9/10], Step [1800/3079], Loss: 0.1467\n",
            "Epoch [9/10], Step [1900/3079], Loss: 0.0259\n",
            "Epoch [9/10], Step [2000/3079], Loss: 0.1208\n",
            "Epoch [9/10], Step [2100/3079], Loss: 0.3356\n",
            "Epoch [9/10], Step [2200/3079], Loss: 0.2196\n",
            "Epoch [9/10], Step [2300/3079], Loss: 0.0077\n",
            "Epoch [9/10], Step [2400/3079], Loss: 0.0337\n",
            "Epoch [9/10], Step [2500/3079], Loss: 0.1023\n",
            "Epoch [9/10], Step [2600/3079], Loss: 0.0700\n",
            "Epoch [9/10], Step [2700/3079], Loss: 0.0591\n",
            "Epoch [9/10], Step [2800/3079], Loss: 0.0259\n",
            "Epoch [9/10], Step [2900/3079], Loss: 0.0706\n",
            "Epoch [9/10], Step [3000/3079], Loss: 0.0858\n"
          ]
        },
        {
          "output_type": "stream",
          "name": "stderr",
          "text": [
            "2023-12-09 00:19:29,044 - root - INFO - Accuracy: 97.07%\n",
            "2023-12-09 00:19:29,045 - root - INFO - Precision: 0.9705\n",
            "2023-12-09 00:19:29,046 - root - INFO - Recall: 0.9707\n",
            "2023-12-09 00:19:29,048 - root - INFO - F1 Score: 0.9702\n"
          ]
        },
        {
          "output_type": "stream",
          "name": "stdout",
          "text": [
            "Epoch [10/10], Step [100/3079], Loss: 0.0931\n",
            "Epoch [10/10], Step [200/3079], Loss: 0.0103\n",
            "Epoch [10/10], Step [300/3079], Loss: 0.0471\n",
            "Epoch [10/10], Step [400/3079], Loss: 0.0683\n",
            "Epoch [10/10], Step [500/3079], Loss: 0.1006\n",
            "Epoch [10/10], Step [600/3079], Loss: 0.0181\n",
            "Epoch [10/10], Step [700/3079], Loss: 0.0125\n",
            "Epoch [10/10], Step [800/3079], Loss: 0.0937\n",
            "Epoch [10/10], Step [900/3079], Loss: 0.0498\n",
            "Epoch [10/10], Step [1000/3079], Loss: 0.0232\n",
            "Epoch [10/10], Step [1100/3079], Loss: 0.0106\n",
            "Epoch [10/10], Step [1200/3079], Loss: 0.0378\n",
            "Epoch [10/10], Step [1300/3079], Loss: 0.0809\n",
            "Epoch [10/10], Step [1400/3079], Loss: 0.1197\n",
            "Epoch [10/10], Step [1500/3079], Loss: 0.0529\n",
            "Epoch [10/10], Step [1600/3079], Loss: 0.0851\n",
            "Epoch [10/10], Step [1700/3079], Loss: 0.0045\n",
            "Epoch [10/10], Step [1800/3079], Loss: 0.0460\n",
            "Epoch [10/10], Step [1900/3079], Loss: 0.1103\n",
            "Epoch [10/10], Step [2000/3079], Loss: 0.0226\n",
            "Epoch [10/10], Step [2100/3079], Loss: 0.1465\n",
            "Epoch [10/10], Step [2200/3079], Loss: 0.0080\n",
            "Epoch [10/10], Step [2300/3079], Loss: 0.0938\n",
            "Epoch [10/10], Step [2400/3079], Loss: 0.0220\n",
            "Epoch [10/10], Step [2500/3079], Loss: 0.0931\n",
            "Epoch [10/10], Step [2600/3079], Loss: 0.1785\n",
            "Epoch [10/10], Step [2700/3079], Loss: 0.0280\n",
            "Epoch [10/10], Step [2800/3079], Loss: 0.0187\n",
            "Epoch [10/10], Step [2900/3079], Loss: 0.1557\n",
            "Epoch [10/10], Step [3000/3079], Loss: 0.0114\n"
          ]
        },
        {
          "output_type": "stream",
          "name": "stderr",
          "text": [
            "2023-12-09 00:19:44,389 - root - INFO - Accuracy: 97.68%\n",
            "2023-12-09 00:19:44,390 - root - INFO - Precision: 0.9760\n",
            "2023-12-09 00:19:44,391 - root - INFO - Recall: 0.9768\n",
            "2023-12-09 00:19:44,392 - root - INFO - F1 Score: 0.9761\n"
          ]
        },
        {
          "output_type": "stream",
          "name": "stdout",
          "text": [
            "FOLD 7\n",
            "--------------------------------\n",
            "AttentionOSCNN(\n",
            "  (conv1): Conv1d(1, 128, kernel_size=(8,), stride=(1,), padding=same)\n",
            "  (bn1): BatchNorm1d(128, eps=1e-05, momentum=0.1, affine=True, track_running_stats=True)\n",
            "  (conv2): Conv1d(128, 256, kernel_size=(5,), stride=(1,), padding=same)\n",
            "  (bn2): BatchNorm1d(256, eps=1e-05, momentum=0.1, affine=True, track_running_stats=True)\n",
            "  (conv3): Conv1d(256, 128, kernel_size=(3,), stride=(1,), padding=same)\n",
            "  (bn3): BatchNorm1d(128, eps=1e-05, momentum=0.1, affine=True, track_running_stats=True)\n",
            "  (intermediate): Linear(in_features=1, out_features=128, bias=True)\n",
            "  (dropout): Dropout(p=0.8, inplace=False)\n",
            "  (attention): SelfAttention(\n",
            "    (query): Linear(in_features=128, out_features=128, bias=True)\n",
            "    (key): Linear(in_features=128, out_features=128, bias=True)\n",
            "    (value): Linear(in_features=128, out_features=128, bias=True)\n",
            "  )\n",
            "  (avg_pool): AdaptiveAvgPool1d(output_size=1)\n",
            "  (fc): Linear(in_features=256, out_features=5, bias=True)\n",
            ")\n",
            "Epoch [1/10], Step [100/3079], Loss: 0.8298\n",
            "Epoch [1/10], Step [200/3079], Loss: 0.4874\n",
            "Epoch [1/10], Step [300/3079], Loss: 0.3202\n",
            "Epoch [1/10], Step [400/3079], Loss: 0.5294\n",
            "Epoch [1/10], Step [500/3079], Loss: 0.5661\n",
            "Epoch [1/10], Step [600/3079], Loss: 0.2903\n",
            "Epoch [1/10], Step [700/3079], Loss: 0.3081\n",
            "Epoch [1/10], Step [800/3079], Loss: 0.2786\n",
            "Epoch [1/10], Step [900/3079], Loss: 0.2437\n",
            "Epoch [1/10], Step [1000/3079], Loss: 0.3314\n",
            "Epoch [1/10], Step [1100/3079], Loss: 0.4905\n",
            "Epoch [1/10], Step [1200/3079], Loss: 0.4514\n",
            "Epoch [1/10], Step [1300/3079], Loss: 0.0661\n",
            "Epoch [1/10], Step [1400/3079], Loss: 0.1694\n",
            "Epoch [1/10], Step [1500/3079], Loss: 0.3090\n",
            "Epoch [1/10], Step [1600/3079], Loss: 0.2292\n",
            "Epoch [1/10], Step [1700/3079], Loss: 0.0902\n",
            "Epoch [1/10], Step [1800/3079], Loss: 0.2286\n",
            "Epoch [1/10], Step [1900/3079], Loss: 0.3540\n",
            "Epoch [1/10], Step [2000/3079], Loss: 0.0922\n",
            "Epoch [1/10], Step [2100/3079], Loss: 0.1885\n",
            "Epoch [1/10], Step [2200/3079], Loss: 0.4667\n",
            "Epoch [1/10], Step [2300/3079], Loss: 0.5427\n",
            "Epoch [1/10], Step [2400/3079], Loss: 0.1021\n",
            "Epoch [1/10], Step [2500/3079], Loss: 0.0754\n",
            "Epoch [1/10], Step [2600/3079], Loss: 0.3910\n",
            "Epoch [1/10], Step [2700/3079], Loss: 0.0633\n",
            "Epoch [1/10], Step [2800/3079], Loss: 0.0359\n",
            "Epoch [1/10], Step [2900/3079], Loss: 0.2346\n",
            "Epoch [1/10], Step [3000/3079], Loss: 0.1451\n"
          ]
        },
        {
          "output_type": "stream",
          "name": "stderr",
          "text": [
            "2023-12-09 00:20:00,153 - root - INFO - Accuracy: 95.72%\n",
            "2023-12-09 00:20:00,154 - root - INFO - Precision: 0.9560\n",
            "2023-12-09 00:20:00,155 - root - INFO - Recall: 0.9572\n",
            "2023-12-09 00:20:00,157 - root - INFO - F1 Score: 0.9529\n"
          ]
        },
        {
          "output_type": "stream",
          "name": "stdout",
          "text": [
            "Epoch [2/10], Step [100/3079], Loss: 0.1140\n",
            "Epoch [2/10], Step [200/3079], Loss: 0.0566\n",
            "Epoch [2/10], Step [300/3079], Loss: 0.0893\n",
            "Epoch [2/10], Step [400/3079], Loss: 0.0996\n",
            "Epoch [2/10], Step [500/3079], Loss: 0.1809\n",
            "Epoch [2/10], Step [600/3079], Loss: 0.0680\n",
            "Epoch [2/10], Step [700/3079], Loss: 0.1708\n",
            "Epoch [2/10], Step [800/3079], Loss: 0.1808\n",
            "Epoch [2/10], Step [900/3079], Loss: 0.2580\n",
            "Epoch [2/10], Step [1000/3079], Loss: 0.1419\n",
            "Epoch [2/10], Step [1100/3079], Loss: 0.0899\n",
            "Epoch [2/10], Step [1200/3079], Loss: 0.0676\n",
            "Epoch [2/10], Step [1300/3079], Loss: 0.1909\n",
            "Epoch [2/10], Step [1400/3079], Loss: 0.1461\n",
            "Epoch [2/10], Step [1500/3079], Loss: 0.0716\n",
            "Epoch [2/10], Step [1600/3079], Loss: 0.4669\n",
            "Epoch [2/10], Step [1700/3079], Loss: 0.1732\n",
            "Epoch [2/10], Step [1800/3079], Loss: 0.3634\n",
            "Epoch [2/10], Step [1900/3079], Loss: 0.2675\n",
            "Epoch [2/10], Step [2000/3079], Loss: 0.1938\n",
            "Epoch [2/10], Step [2100/3079], Loss: 0.0758\n",
            "Epoch [2/10], Step [2200/3079], Loss: 0.0705\n",
            "Epoch [2/10], Step [2300/3079], Loss: 0.0998\n",
            "Epoch [2/10], Step [2400/3079], Loss: 0.1996\n",
            "Epoch [2/10], Step [2500/3079], Loss: 0.3722\n",
            "Epoch [2/10], Step [2600/3079], Loss: 0.2640\n",
            "Epoch [2/10], Step [2700/3079], Loss: 0.0245\n",
            "Epoch [2/10], Step [2800/3079], Loss: 0.0220\n",
            "Epoch [2/10], Step [2900/3079], Loss: 0.0985\n",
            "Epoch [2/10], Step [3000/3079], Loss: 0.2598\n"
          ]
        },
        {
          "output_type": "stream",
          "name": "stderr",
          "text": [
            "2023-12-09 00:20:15,769 - root - INFO - Accuracy: 96.40%\n",
            "2023-12-09 00:20:15,771 - root - INFO - Precision: 0.9634\n",
            "2023-12-09 00:20:15,772 - root - INFO - Recall: 0.9640\n",
            "2023-12-09 00:20:15,773 - root - INFO - F1 Score: 0.9619\n"
          ]
        },
        {
          "output_type": "stream",
          "name": "stdout",
          "text": [
            "Epoch [3/10], Step [100/3079], Loss: 0.0813\n",
            "Epoch [3/10], Step [200/3079], Loss: 0.4404\n",
            "Epoch [3/10], Step [300/3079], Loss: 0.0767\n",
            "Epoch [3/10], Step [400/3079], Loss: 0.2257\n",
            "Epoch [3/10], Step [500/3079], Loss: 0.2074\n",
            "Epoch [3/10], Step [600/3079], Loss: 0.1596\n",
            "Epoch [3/10], Step [700/3079], Loss: 0.0491\n",
            "Epoch [3/10], Step [800/3079], Loss: 0.0572\n",
            "Epoch [3/10], Step [900/3079], Loss: 0.0592\n",
            "Epoch [3/10], Step [1000/3079], Loss: 0.0523\n",
            "Epoch [3/10], Step [1100/3079], Loss: 0.0369\n",
            "Epoch [3/10], Step [1200/3079], Loss: 0.1379\n",
            "Epoch [3/10], Step [1300/3079], Loss: 0.1322\n",
            "Epoch [3/10], Step [1400/3079], Loss: 0.0935\n",
            "Epoch [3/10], Step [1500/3079], Loss: 0.3254\n",
            "Epoch [3/10], Step [1600/3079], Loss: 0.2642\n",
            "Epoch [3/10], Step [1700/3079], Loss: 0.1468\n",
            "Epoch [3/10], Step [1800/3079], Loss: 0.0865\n",
            "Epoch [3/10], Step [1900/3079], Loss: 0.3000\n",
            "Epoch [3/10], Step [2000/3079], Loss: 0.1210\n",
            "Epoch [3/10], Step [2100/3079], Loss: 0.0731\n",
            "Epoch [3/10], Step [2200/3079], Loss: 0.0271\n",
            "Epoch [3/10], Step [2300/3079], Loss: 0.0743\n",
            "Epoch [3/10], Step [2400/3079], Loss: 0.0256\n",
            "Epoch [3/10], Step [2500/3079], Loss: 0.1034\n",
            "Epoch [3/10], Step [2600/3079], Loss: 0.3648\n",
            "Epoch [3/10], Step [2700/3079], Loss: 0.0513\n",
            "Epoch [3/10], Step [2800/3079], Loss: 0.0293\n",
            "Epoch [3/10], Step [2900/3079], Loss: 0.0747\n",
            "Epoch [3/10], Step [3000/3079], Loss: 0.1804\n"
          ]
        },
        {
          "output_type": "stream",
          "name": "stderr",
          "text": [
            "2023-12-09 00:20:31,294 - root - INFO - Accuracy: 96.31%\n",
            "2023-12-09 00:20:31,295 - root - INFO - Precision: 0.9631\n",
            "2023-12-09 00:20:31,296 - root - INFO - Recall: 0.9631\n",
            "2023-12-09 00:20:31,297 - root - INFO - F1 Score: 0.9588\n"
          ]
        },
        {
          "output_type": "stream",
          "name": "stdout",
          "text": [
            "Epoch [4/10], Step [100/3079], Loss: 0.0497\n",
            "Epoch [4/10], Step [200/3079], Loss: 0.0611\n",
            "Epoch [4/10], Step [300/3079], Loss: 0.0452\n",
            "Epoch [4/10], Step [400/3079], Loss: 0.2468\n",
            "Epoch [4/10], Step [500/3079], Loss: 0.0277\n",
            "Epoch [4/10], Step [600/3079], Loss: 0.1337\n",
            "Epoch [4/10], Step [700/3079], Loss: 0.0872\n",
            "Epoch [4/10], Step [800/3079], Loss: 0.0251\n",
            "Epoch [4/10], Step [900/3079], Loss: 0.1019\n",
            "Epoch [4/10], Step [1000/3079], Loss: 0.0717\n",
            "Epoch [4/10], Step [1100/3079], Loss: 0.1130\n",
            "Epoch [4/10], Step [1200/3079], Loss: 0.0531\n",
            "Epoch [4/10], Step [1300/3079], Loss: 0.0482\n",
            "Epoch [4/10], Step [1400/3079], Loss: 0.1197\n",
            "Epoch [4/10], Step [1500/3079], Loss: 0.1015\n",
            "Epoch [4/10], Step [1600/3079], Loss: 0.0326\n",
            "Epoch [4/10], Step [1700/3079], Loss: 0.0509\n",
            "Epoch [4/10], Step [1800/3079], Loss: 0.1158\n",
            "Epoch [4/10], Step [1900/3079], Loss: 0.0678\n",
            "Epoch [4/10], Step [2000/3079], Loss: 0.0294\n",
            "Epoch [4/10], Step [2100/3079], Loss: 0.0993\n",
            "Epoch [4/10], Step [2200/3079], Loss: 0.0722\n",
            "Epoch [4/10], Step [2300/3079], Loss: 0.1221\n",
            "Epoch [4/10], Step [2400/3079], Loss: 0.0411\n",
            "Epoch [4/10], Step [2500/3079], Loss: 0.0559\n",
            "Epoch [4/10], Step [2600/3079], Loss: 0.0517\n",
            "Epoch [4/10], Step [2700/3079], Loss: 0.0332\n",
            "Epoch [4/10], Step [2800/3079], Loss: 0.0326\n",
            "Epoch [4/10], Step [2900/3079], Loss: 0.0901\n",
            "Epoch [4/10], Step [3000/3079], Loss: 0.0711\n"
          ]
        },
        {
          "output_type": "stream",
          "name": "stderr",
          "text": [
            "2023-12-09 00:20:46,725 - root - INFO - Accuracy: 96.53%\n",
            "2023-12-09 00:20:46,726 - root - INFO - Precision: 0.9664\n",
            "2023-12-09 00:20:46,727 - root - INFO - Recall: 0.9653\n",
            "2023-12-09 00:20:46,728 - root - INFO - F1 Score: 0.9649\n"
          ]
        },
        {
          "output_type": "stream",
          "name": "stdout",
          "text": [
            "Epoch [5/10], Step [100/3079], Loss: 0.0297\n",
            "Epoch [5/10], Step [200/3079], Loss: 0.0346\n",
            "Epoch [5/10], Step [300/3079], Loss: 0.1398\n",
            "Epoch [5/10], Step [400/3079], Loss: 0.0870\n",
            "Epoch [5/10], Step [500/3079], Loss: 0.0313\n",
            "Epoch [5/10], Step [600/3079], Loss: 0.0692\n",
            "Epoch [5/10], Step [700/3079], Loss: 0.0446\n",
            "Epoch [5/10], Step [800/3079], Loss: 0.0485\n",
            "Epoch [5/10], Step [900/3079], Loss: 0.1466\n",
            "Epoch [5/10], Step [1000/3079], Loss: 0.0641\n",
            "Epoch [5/10], Step [1100/3079], Loss: 0.0285\n",
            "Epoch [5/10], Step [1200/3079], Loss: 0.1270\n",
            "Epoch [5/10], Step [1300/3079], Loss: 0.1329\n",
            "Epoch [5/10], Step [1400/3079], Loss: 0.1270\n",
            "Epoch [5/10], Step [1500/3079], Loss: 0.1610\n",
            "Epoch [5/10], Step [1600/3079], Loss: 0.1067\n",
            "Epoch [5/10], Step [1700/3079], Loss: 0.0404\n",
            "Epoch [5/10], Step [1800/3079], Loss: 0.1560\n",
            "Epoch [5/10], Step [1900/3079], Loss: 0.0796\n",
            "Epoch [5/10], Step [2000/3079], Loss: 0.1646\n",
            "Epoch [5/10], Step [2100/3079], Loss: 0.0403\n",
            "Epoch [5/10], Step [2200/3079], Loss: 0.2367\n",
            "Epoch [5/10], Step [2300/3079], Loss: 0.0460\n",
            "Epoch [5/10], Step [2400/3079], Loss: 0.0141\n",
            "Epoch [5/10], Step [2500/3079], Loss: 0.1906\n",
            "Epoch [5/10], Step [2600/3079], Loss: 0.1284\n",
            "Epoch [5/10], Step [2700/3079], Loss: 0.1916\n",
            "Epoch [5/10], Step [2800/3079], Loss: 0.1632\n",
            "Epoch [5/10], Step [2900/3079], Loss: 0.0256\n",
            "Epoch [5/10], Step [3000/3079], Loss: 0.0277\n"
          ]
        },
        {
          "output_type": "stream",
          "name": "stderr",
          "text": [
            "2023-12-09 00:21:02,292 - root - INFO - Accuracy: 96.45%\n",
            "2023-12-09 00:21:02,293 - root - INFO - Precision: 0.9639\n",
            "2023-12-09 00:21:02,295 - root - INFO - Recall: 0.9645\n",
            "2023-12-09 00:21:02,295 - root - INFO - F1 Score: 0.9620\n"
          ]
        },
        {
          "output_type": "stream",
          "name": "stdout",
          "text": [
            "Epoch [6/10], Step [100/3079], Loss: 0.0540\n",
            "Epoch [6/10], Step [200/3079], Loss: 0.0875\n",
            "Epoch [6/10], Step [300/3079], Loss: 0.0707\n",
            "Epoch [6/10], Step [400/3079], Loss: 0.0176\n",
            "Epoch [6/10], Step [500/3079], Loss: 0.1170\n",
            "Epoch [6/10], Step [600/3079], Loss: 0.0252\n",
            "Epoch [6/10], Step [700/3079], Loss: 0.0237\n",
            "Epoch [6/10], Step [800/3079], Loss: 0.1274\n",
            "Epoch [6/10], Step [900/3079], Loss: 0.0308\n",
            "Epoch [6/10], Step [1000/3079], Loss: 0.0151\n",
            "Epoch [6/10], Step [1100/3079], Loss: 0.1166\n",
            "Epoch [6/10], Step [1200/3079], Loss: 0.1168\n",
            "Epoch [6/10], Step [1300/3079], Loss: 0.0481\n",
            "Epoch [6/10], Step [1400/3079], Loss: 0.0234\n",
            "Epoch [6/10], Step [1500/3079], Loss: 0.0134\n",
            "Epoch [6/10], Step [1600/3079], Loss: 0.0273\n",
            "Epoch [6/10], Step [1700/3079], Loss: 0.0361\n",
            "Epoch [6/10], Step [1800/3079], Loss: 0.1756\n",
            "Epoch [6/10], Step [1900/3079], Loss: 0.0255\n",
            "Epoch [6/10], Step [2000/3079], Loss: 0.0917\n",
            "Epoch [6/10], Step [2100/3079], Loss: 0.0292\n",
            "Epoch [6/10], Step [2200/3079], Loss: 0.2307\n",
            "Epoch [6/10], Step [2300/3079], Loss: 0.0875\n",
            "Epoch [6/10], Step [2400/3079], Loss: 0.2811\n",
            "Epoch [6/10], Step [2500/3079], Loss: 0.0113\n",
            "Epoch [6/10], Step [2600/3079], Loss: 0.2018\n",
            "Epoch [6/10], Step [2700/3079], Loss: 0.2585\n",
            "Epoch [6/10], Step [2800/3079], Loss: 0.1713\n",
            "Epoch [6/10], Step [2900/3079], Loss: 0.1542\n",
            "Epoch [6/10], Step [3000/3079], Loss: 0.0235\n"
          ]
        },
        {
          "output_type": "stream",
          "name": "stderr",
          "text": [
            "2023-12-09 00:21:17,931 - root - INFO - Accuracy: 97.44%\n",
            "2023-12-09 00:21:17,932 - root - INFO - Precision: 0.9736\n",
            "2023-12-09 00:21:17,933 - root - INFO - Recall: 0.9744\n",
            "2023-12-09 00:21:17,934 - root - INFO - F1 Score: 0.9737\n"
          ]
        },
        {
          "output_type": "stream",
          "name": "stdout",
          "text": [
            "Epoch [7/10], Step [100/3079], Loss: 0.0914\n",
            "Epoch [7/10], Step [200/3079], Loss: 0.0476\n",
            "Epoch [7/10], Step [300/3079], Loss: 0.1432\n",
            "Epoch [7/10], Step [400/3079], Loss: 0.1947\n",
            "Epoch [7/10], Step [500/3079], Loss: 0.0899\n",
            "Epoch [7/10], Step [600/3079], Loss: 0.0095\n",
            "Epoch [7/10], Step [700/3079], Loss: 0.1369\n",
            "Epoch [7/10], Step [800/3079], Loss: 0.0235\n",
            "Epoch [7/10], Step [900/3079], Loss: 0.2010\n",
            "Epoch [7/10], Step [1000/3079], Loss: 0.0387\n",
            "Epoch [7/10], Step [1100/3079], Loss: 0.2074\n",
            "Epoch [7/10], Step [1200/3079], Loss: 0.0358\n",
            "Epoch [7/10], Step [1300/3079], Loss: 0.0236\n",
            "Epoch [7/10], Step [1400/3079], Loss: 0.1931\n",
            "Epoch [7/10], Step [1500/3079], Loss: 0.4009\n",
            "Epoch [7/10], Step [1600/3079], Loss: 0.1157\n",
            "Epoch [7/10], Step [1700/3079], Loss: 0.5665\n",
            "Epoch [7/10], Step [1800/3079], Loss: 0.0687\n",
            "Epoch [7/10], Step [1900/3079], Loss: 0.0893\n",
            "Epoch [7/10], Step [2000/3079], Loss: 0.0652\n",
            "Epoch [7/10], Step [2100/3079], Loss: 0.0161\n",
            "Epoch [7/10], Step [2200/3079], Loss: 0.0436\n",
            "Epoch [7/10], Step [2300/3079], Loss: 0.0141\n",
            "Epoch [7/10], Step [2400/3079], Loss: 0.2113\n",
            "Epoch [7/10], Step [2500/3079], Loss: 0.1309\n",
            "Epoch [7/10], Step [2600/3079], Loss: 0.1658\n",
            "Epoch [7/10], Step [2700/3079], Loss: 0.0166\n",
            "Epoch [7/10], Step [2800/3079], Loss: 0.0417\n",
            "Epoch [7/10], Step [2900/3079], Loss: 0.0383\n",
            "Epoch [7/10], Step [3000/3079], Loss: 0.1131\n"
          ]
        },
        {
          "output_type": "stream",
          "name": "stderr",
          "text": [
            "2023-12-09 00:21:33,463 - root - INFO - Accuracy: 97.69%\n",
            "2023-12-09 00:21:33,464 - root - INFO - Precision: 0.9761\n",
            "2023-12-09 00:21:33,465 - root - INFO - Recall: 0.9769\n",
            "2023-12-09 00:21:33,465 - root - INFO - F1 Score: 0.9760\n"
          ]
        },
        {
          "output_type": "stream",
          "name": "stdout",
          "text": [
            "Epoch [8/10], Step [100/3079], Loss: 0.0659\n",
            "Epoch [8/10], Step [200/3079], Loss: 0.2397\n",
            "Epoch [8/10], Step [300/3079], Loss: 0.0087\n",
            "Epoch [8/10], Step [400/3079], Loss: 0.0836\n",
            "Epoch [8/10], Step [500/3079], Loss: 0.0261\n",
            "Epoch [8/10], Step [600/3079], Loss: 0.0332\n",
            "Epoch [8/10], Step [700/3079], Loss: 0.1280\n",
            "Epoch [8/10], Step [800/3079], Loss: 0.0161\n",
            "Epoch [8/10], Step [900/3079], Loss: 0.1812\n",
            "Epoch [8/10], Step [1000/3079], Loss: 0.0399\n",
            "Epoch [8/10], Step [1100/3079], Loss: 0.0490\n",
            "Epoch [8/10], Step [1200/3079], Loss: 0.0634\n",
            "Epoch [8/10], Step [1300/3079], Loss: 0.0780\n",
            "Epoch [8/10], Step [1400/3079], Loss: 0.0181\n",
            "Epoch [8/10], Step [1500/3079], Loss: 0.0290\n",
            "Epoch [8/10], Step [1600/3079], Loss: 0.0334\n",
            "Epoch [8/10], Step [1700/3079], Loss: 0.1180\n",
            "Epoch [8/10], Step [1800/3079], Loss: 0.0418\n",
            "Epoch [8/10], Step [1900/3079], Loss: 0.0279\n",
            "Epoch [8/10], Step [2000/3079], Loss: 0.1237\n",
            "Epoch [8/10], Step [2100/3079], Loss: 0.0609\n",
            "Epoch [8/10], Step [2200/3079], Loss: 0.1428\n",
            "Epoch [8/10], Step [2300/3079], Loss: 0.0627\n",
            "Epoch [8/10], Step [2400/3079], Loss: 0.0569\n",
            "Epoch [8/10], Step [2500/3079], Loss: 0.0250\n",
            "Epoch [8/10], Step [2600/3079], Loss: 0.0687\n",
            "Epoch [8/10], Step [2700/3079], Loss: 0.1988\n",
            "Epoch [8/10], Step [2800/3079], Loss: 0.4501\n",
            "Epoch [8/10], Step [2900/3079], Loss: 0.0157\n",
            "Epoch [8/10], Step [3000/3079], Loss: 0.0401\n"
          ]
        },
        {
          "output_type": "stream",
          "name": "stderr",
          "text": [
            "2023-12-09 00:21:49,028 - root - INFO - Accuracy: 97.48%\n",
            "2023-12-09 00:21:49,029 - root - INFO - Precision: 0.9738\n",
            "2023-12-09 00:21:49,030 - root - INFO - Recall: 0.9748\n",
            "2023-12-09 00:21:49,031 - root - INFO - F1 Score: 0.9739\n"
          ]
        },
        {
          "output_type": "stream",
          "name": "stdout",
          "text": [
            "Epoch [9/10], Step [100/3079], Loss: 0.0562\n",
            "Epoch [9/10], Step [200/3079], Loss: 0.0206\n",
            "Epoch [9/10], Step [300/3079], Loss: 0.0629\n",
            "Epoch [9/10], Step [400/3079], Loss: 0.0323\n",
            "Epoch [9/10], Step [500/3079], Loss: 0.0093\n",
            "Epoch [9/10], Step [600/3079], Loss: 0.0424\n",
            "Epoch [9/10], Step [700/3079], Loss: 0.0329\n",
            "Epoch [9/10], Step [800/3079], Loss: 0.0737\n",
            "Epoch [9/10], Step [900/3079], Loss: 0.1303\n",
            "Epoch [9/10], Step [1000/3079], Loss: 0.0887\n",
            "Epoch [9/10], Step [1100/3079], Loss: 0.0261\n",
            "Epoch [9/10], Step [1200/3079], Loss: 0.0141\n",
            "Epoch [9/10], Step [1300/3079], Loss: 0.0165\n",
            "Epoch [9/10], Step [1400/3079], Loss: 0.0180\n",
            "Epoch [9/10], Step [1500/3079], Loss: 0.0278\n",
            "Epoch [9/10], Step [1600/3079], Loss: 0.1909\n",
            "Epoch [9/10], Step [1700/3079], Loss: 0.1241\n",
            "Epoch [9/10], Step [1800/3079], Loss: 0.0945\n",
            "Epoch [9/10], Step [1900/3079], Loss: 0.0521\n",
            "Epoch [9/10], Step [2000/3079], Loss: 0.0777\n",
            "Epoch [9/10], Step [2100/3079], Loss: 0.0539\n",
            "Epoch [9/10], Step [2200/3079], Loss: 0.0357\n",
            "Epoch [9/10], Step [2300/3079], Loss: 0.0585\n",
            "Epoch [9/10], Step [2400/3079], Loss: 0.0561\n",
            "Epoch [9/10], Step [2500/3079], Loss: 0.0241\n",
            "Epoch [9/10], Step [2600/3079], Loss: 0.2350\n",
            "Epoch [9/10], Step [2700/3079], Loss: 0.1532\n",
            "Epoch [9/10], Step [2800/3079], Loss: 0.1010\n",
            "Epoch [9/10], Step [2900/3079], Loss: 0.0219\n",
            "Epoch [9/10], Step [3000/3079], Loss: 0.0624\n"
          ]
        },
        {
          "output_type": "stream",
          "name": "stderr",
          "text": [
            "2023-12-09 00:22:04,595 - root - INFO - Accuracy: 97.43%\n",
            "2023-12-09 00:22:04,597 - root - INFO - Precision: 0.9737\n",
            "2023-12-09 00:22:04,597 - root - INFO - Recall: 0.9743\n",
            "2023-12-09 00:22:04,598 - root - INFO - F1 Score: 0.9733\n"
          ]
        },
        {
          "output_type": "stream",
          "name": "stdout",
          "text": [
            "Epoch [10/10], Step [100/3079], Loss: 0.0722\n",
            "Epoch [10/10], Step [200/3079], Loss: 0.0473\n",
            "Epoch [10/10], Step [300/3079], Loss: 0.0182\n",
            "Epoch [10/10], Step [400/3079], Loss: 0.0296\n",
            "Epoch [10/10], Step [500/3079], Loss: 0.1377\n",
            "Epoch [10/10], Step [600/3079], Loss: 0.2829\n",
            "Epoch [10/10], Step [700/3079], Loss: 0.3369\n",
            "Epoch [10/10], Step [800/3079], Loss: 0.1706\n",
            "Epoch [10/10], Step [900/3079], Loss: 0.0459\n",
            "Epoch [10/10], Step [1000/3079], Loss: 0.0512\n",
            "Epoch [10/10], Step [1100/3079], Loss: 0.0448\n",
            "Epoch [10/10], Step [1200/3079], Loss: 0.0395\n",
            "Epoch [10/10], Step [1300/3079], Loss: 0.0138\n",
            "Epoch [10/10], Step [1400/3079], Loss: 0.4753\n",
            "Epoch [10/10], Step [1500/3079], Loss: 0.0553\n",
            "Epoch [10/10], Step [1600/3079], Loss: 0.0455\n",
            "Epoch [10/10], Step [1700/3079], Loss: 0.1349\n",
            "Epoch [10/10], Step [1800/3079], Loss: 0.0117\n",
            "Epoch [10/10], Step [1900/3079], Loss: 0.0691\n",
            "Epoch [10/10], Step [2000/3079], Loss: 0.2452\n",
            "Epoch [10/10], Step [2100/3079], Loss: 0.0364\n",
            "Epoch [10/10], Step [2200/3079], Loss: 0.0332\n",
            "Epoch [10/10], Step [2300/3079], Loss: 0.0093\n",
            "Epoch [10/10], Step [2400/3079], Loss: 0.0075\n",
            "Epoch [10/10], Step [2500/3079], Loss: 0.0545\n",
            "Epoch [10/10], Step [2600/3079], Loss: 0.0079\n",
            "Epoch [10/10], Step [2700/3079], Loss: 0.1963\n",
            "Epoch [10/10], Step [2800/3079], Loss: 0.0138\n",
            "Epoch [10/10], Step [2900/3079], Loss: 0.0051\n",
            "Epoch [10/10], Step [3000/3079], Loss: 0.2926\n"
          ]
        },
        {
          "output_type": "stream",
          "name": "stderr",
          "text": [
            "2023-12-09 00:22:19,984 - root - INFO - Accuracy: 97.70%\n",
            "2023-12-09 00:22:19,985 - root - INFO - Precision: 0.9766\n",
            "2023-12-09 00:22:19,986 - root - INFO - Recall: 0.9770\n",
            "2023-12-09 00:22:19,989 - root - INFO - F1 Score: 0.9761\n"
          ]
        },
        {
          "output_type": "stream",
          "name": "stdout",
          "text": [
            "FOLD 8\n",
            "--------------------------------\n",
            "AttentionOSCNN(\n",
            "  (conv1): Conv1d(1, 128, kernel_size=(8,), stride=(1,), padding=same)\n",
            "  (bn1): BatchNorm1d(128, eps=1e-05, momentum=0.1, affine=True, track_running_stats=True)\n",
            "  (conv2): Conv1d(128, 256, kernel_size=(5,), stride=(1,), padding=same)\n",
            "  (bn2): BatchNorm1d(256, eps=1e-05, momentum=0.1, affine=True, track_running_stats=True)\n",
            "  (conv3): Conv1d(256, 128, kernel_size=(3,), stride=(1,), padding=same)\n",
            "  (bn3): BatchNorm1d(128, eps=1e-05, momentum=0.1, affine=True, track_running_stats=True)\n",
            "  (intermediate): Linear(in_features=1, out_features=128, bias=True)\n",
            "  (dropout): Dropout(p=0.8, inplace=False)\n",
            "  (attention): SelfAttention(\n",
            "    (query): Linear(in_features=128, out_features=128, bias=True)\n",
            "    (key): Linear(in_features=128, out_features=128, bias=True)\n",
            "    (value): Linear(in_features=128, out_features=128, bias=True)\n",
            "  )\n",
            "  (avg_pool): AdaptiveAvgPool1d(output_size=1)\n",
            "  (fc): Linear(in_features=256, out_features=5, bias=True)\n",
            ")\n",
            "Epoch [1/10], Step [100/3079], Loss: 0.3995\n",
            "Epoch [1/10], Step [200/3079], Loss: 0.2434\n",
            "Epoch [1/10], Step [300/3079], Loss: 0.4290\n",
            "Epoch [1/10], Step [400/3079], Loss: 0.3172\n",
            "Epoch [1/10], Step [500/3079], Loss: 0.5621\n",
            "Epoch [1/10], Step [600/3079], Loss: 0.2763\n",
            "Epoch [1/10], Step [700/3079], Loss: 0.0631\n",
            "Epoch [1/10], Step [800/3079], Loss: 0.2504\n",
            "Epoch [1/10], Step [900/3079], Loss: 0.3107\n",
            "Epoch [1/10], Step [1000/3079], Loss: 0.3484\n",
            "Epoch [1/10], Step [1100/3079], Loss: 0.3007\n",
            "Epoch [1/10], Step [1200/3079], Loss: 0.1724\n",
            "Epoch [1/10], Step [1300/3079], Loss: 0.4065\n",
            "Epoch [1/10], Step [1400/3079], Loss: 0.2282\n",
            "Epoch [1/10], Step [1500/3079], Loss: 0.1232\n",
            "Epoch [1/10], Step [1600/3079], Loss: 0.0355\n",
            "Epoch [1/10], Step [1700/3079], Loss: 0.1976\n",
            "Epoch [1/10], Step [1800/3079], Loss: 0.2960\n",
            "Epoch [1/10], Step [1900/3079], Loss: 0.3172\n",
            "Epoch [1/10], Step [2000/3079], Loss: 0.1009\n",
            "Epoch [1/10], Step [2100/3079], Loss: 0.0438\n",
            "Epoch [1/10], Step [2200/3079], Loss: 0.0520\n",
            "Epoch [1/10], Step [2300/3079], Loss: 0.0817\n",
            "Epoch [1/10], Step [2400/3079], Loss: 0.0260\n",
            "Epoch [1/10], Step [2500/3079], Loss: 0.1233\n",
            "Epoch [1/10], Step [2600/3079], Loss: 0.1675\n",
            "Epoch [1/10], Step [2700/3079], Loss: 0.2933\n",
            "Epoch [1/10], Step [2800/3079], Loss: 0.2584\n",
            "Epoch [1/10], Step [2900/3079], Loss: 0.0986\n",
            "Epoch [1/10], Step [3000/3079], Loss: 0.0554\n"
          ]
        },
        {
          "output_type": "stream",
          "name": "stderr",
          "text": [
            "/usr/local/lib/python3.10/dist-packages/sklearn/metrics/_classification.py:1344: UndefinedMetricWarning: Precision is ill-defined and being set to 0.0 in labels with no predicted samples. Use `zero_division` parameter to control this behavior.\n",
            "  _warn_prf(average, modifier, msg_start, len(result))\n",
            "2023-12-09 00:22:35,583 - root - INFO - Accuracy: 95.18%\n",
            "2023-12-09 00:22:35,584 - root - INFO - Precision: 0.9439\n",
            "2023-12-09 00:22:35,585 - root - INFO - Recall: 0.9518\n",
            "2023-12-09 00:22:35,587 - root - INFO - F1 Score: 0.9434\n"
          ]
        },
        {
          "output_type": "stream",
          "name": "stdout",
          "text": [
            "Epoch [2/10], Step [100/3079], Loss: 0.1036\n",
            "Epoch [2/10], Step [200/3079], Loss: 0.0519\n",
            "Epoch [2/10], Step [300/3079], Loss: 0.2681\n",
            "Epoch [2/10], Step [400/3079], Loss: 0.1124\n",
            "Epoch [2/10], Step [500/3079], Loss: 0.0397\n",
            "Epoch [2/10], Step [600/3079], Loss: 0.3862\n",
            "Epoch [2/10], Step [700/3079], Loss: 0.0497\n",
            "Epoch [2/10], Step [800/3079], Loss: 0.0355\n",
            "Epoch [2/10], Step [900/3079], Loss: 0.1171\n",
            "Epoch [2/10], Step [1000/3079], Loss: 0.2136\n",
            "Epoch [2/10], Step [1100/3079], Loss: 0.1202\n",
            "Epoch [2/10], Step [1200/3079], Loss: 0.1098\n",
            "Epoch [2/10], Step [1300/3079], Loss: 0.0678\n",
            "Epoch [2/10], Step [1400/3079], Loss: 0.1917\n",
            "Epoch [2/10], Step [1500/3079], Loss: 0.0440\n",
            "Epoch [2/10], Step [1600/3079], Loss: 0.1030\n",
            "Epoch [2/10], Step [1700/3079], Loss: 0.0456\n",
            "Epoch [2/10], Step [1800/3079], Loss: 0.0939\n",
            "Epoch [2/10], Step [1900/3079], Loss: 0.0860\n",
            "Epoch [2/10], Step [2000/3079], Loss: 0.1627\n",
            "Epoch [2/10], Step [2100/3079], Loss: 0.1216\n",
            "Epoch [2/10], Step [2200/3079], Loss: 0.2500\n",
            "Epoch [2/10], Step [2300/3079], Loss: 0.0688\n",
            "Epoch [2/10], Step [2400/3079], Loss: 0.3078\n",
            "Epoch [2/10], Step [2500/3079], Loss: 0.1975\n",
            "Epoch [2/10], Step [2600/3079], Loss: 0.3818\n",
            "Epoch [2/10], Step [2700/3079], Loss: 0.0726\n",
            "Epoch [2/10], Step [2800/3079], Loss: 0.0241\n",
            "Epoch [2/10], Step [2900/3079], Loss: 0.4207\n",
            "Epoch [2/10], Step [3000/3079], Loss: 0.1074\n"
          ]
        },
        {
          "output_type": "stream",
          "name": "stderr",
          "text": [
            "2023-12-09 00:22:51,125 - root - INFO - Accuracy: 96.15%\n",
            "2023-12-09 00:22:51,126 - root - INFO - Precision: 0.9611\n",
            "2023-12-09 00:22:51,127 - root - INFO - Recall: 0.9615\n",
            "2023-12-09 00:22:51,128 - root - INFO - F1 Score: 0.9562\n"
          ]
        },
        {
          "output_type": "stream",
          "name": "stdout",
          "text": [
            "Epoch [3/10], Step [100/3079], Loss: 0.0575\n",
            "Epoch [3/10], Step [200/3079], Loss: 0.2208\n",
            "Epoch [3/10], Step [300/3079], Loss: 0.0283\n",
            "Epoch [3/10], Step [400/3079], Loss: 0.0240\n",
            "Epoch [3/10], Step [500/3079], Loss: 0.4399\n",
            "Epoch [3/10], Step [600/3079], Loss: 0.0564\n",
            "Epoch [3/10], Step [700/3079], Loss: 0.0351\n",
            "Epoch [3/10], Step [800/3079], Loss: 0.0432\n",
            "Epoch [3/10], Step [900/3079], Loss: 0.0333\n",
            "Epoch [3/10], Step [1000/3079], Loss: 0.0811\n",
            "Epoch [3/10], Step [1100/3079], Loss: 0.1707\n",
            "Epoch [3/10], Step [1200/3079], Loss: 0.0294\n",
            "Epoch [3/10], Step [1300/3079], Loss: 0.2855\n",
            "Epoch [3/10], Step [1400/3079], Loss: 0.2429\n",
            "Epoch [3/10], Step [1500/3079], Loss: 0.1290\n",
            "Epoch [3/10], Step [1600/3079], Loss: 0.0307\n",
            "Epoch [3/10], Step [1700/3079], Loss: 0.3152\n",
            "Epoch [3/10], Step [1800/3079], Loss: 0.0969\n",
            "Epoch [3/10], Step [1900/3079], Loss: 0.0373\n",
            "Epoch [3/10], Step [2000/3079], Loss: 0.1053\n",
            "Epoch [3/10], Step [2100/3079], Loss: 0.3664\n",
            "Epoch [3/10], Step [2200/3079], Loss: 0.0276\n",
            "Epoch [3/10], Step [2300/3079], Loss: 0.0617\n",
            "Epoch [3/10], Step [2400/3079], Loss: 0.1205\n",
            "Epoch [3/10], Step [2500/3079], Loss: 0.0235\n",
            "Epoch [3/10], Step [2600/3079], Loss: 0.2640\n",
            "Epoch [3/10], Step [2700/3079], Loss: 0.0701\n",
            "Epoch [3/10], Step [2800/3079], Loss: 0.0420\n",
            "Epoch [3/10], Step [2900/3079], Loss: 0.2121\n",
            "Epoch [3/10], Step [3000/3079], Loss: 0.1776\n"
          ]
        },
        {
          "output_type": "stream",
          "name": "stderr",
          "text": [
            "2023-12-09 00:23:06,757 - root - INFO - Accuracy: 96.99%\n",
            "2023-12-09 00:23:06,759 - root - INFO - Precision: 0.9688\n",
            "2023-12-09 00:23:06,759 - root - INFO - Recall: 0.9699\n",
            "2023-12-09 00:23:06,760 - root - INFO - F1 Score: 0.9676\n"
          ]
        },
        {
          "output_type": "stream",
          "name": "stdout",
          "text": [
            "Epoch [4/10], Step [100/3079], Loss: 0.0500\n",
            "Epoch [4/10], Step [200/3079], Loss: 0.0110\n",
            "Epoch [4/10], Step [300/3079], Loss: 0.0642\n",
            "Epoch [4/10], Step [400/3079], Loss: 0.1107\n",
            "Epoch [4/10], Step [500/3079], Loss: 0.0337\n",
            "Epoch [4/10], Step [600/3079], Loss: 0.0140\n",
            "Epoch [4/10], Step [700/3079], Loss: 0.3354\n",
            "Epoch [4/10], Step [800/3079], Loss: 0.1874\n",
            "Epoch [4/10], Step [900/3079], Loss: 0.0486\n",
            "Epoch [4/10], Step [1000/3079], Loss: 0.1420\n",
            "Epoch [4/10], Step [1100/3079], Loss: 0.0145\n",
            "Epoch [4/10], Step [1200/3079], Loss: 0.0183\n",
            "Epoch [4/10], Step [1300/3079], Loss: 0.0226\n",
            "Epoch [4/10], Step [1400/3079], Loss: 0.1561\n",
            "Epoch [4/10], Step [1500/3079], Loss: 0.0906\n",
            "Epoch [4/10], Step [1600/3079], Loss: 0.0519\n",
            "Epoch [4/10], Step [1700/3079], Loss: 0.1320\n",
            "Epoch [4/10], Step [1800/3079], Loss: 0.0482\n",
            "Epoch [4/10], Step [1900/3079], Loss: 0.5097\n",
            "Epoch [4/10], Step [2000/3079], Loss: 0.1050\n",
            "Epoch [4/10], Step [2100/3079], Loss: 0.0244\n",
            "Epoch [4/10], Step [2200/3079], Loss: 0.0407\n",
            "Epoch [4/10], Step [2300/3079], Loss: 0.0706\n",
            "Epoch [4/10], Step [2400/3079], Loss: 0.0990\n",
            "Epoch [4/10], Step [2500/3079], Loss: 0.1008\n",
            "Epoch [4/10], Step [2600/3079], Loss: 0.0157\n",
            "Epoch [4/10], Step [2700/3079], Loss: 0.0573\n",
            "Epoch [4/10], Step [2800/3079], Loss: 0.0744\n",
            "Epoch [4/10], Step [2900/3079], Loss: 0.0334\n",
            "Epoch [4/10], Step [3000/3079], Loss: 0.0214\n"
          ]
        },
        {
          "output_type": "stream",
          "name": "stderr",
          "text": [
            "2023-12-09 00:23:22,331 - root - INFO - Accuracy: 97.03%\n",
            "2023-12-09 00:23:22,332 - root - INFO - Precision: 0.9700\n",
            "2023-12-09 00:23:22,333 - root - INFO - Recall: 0.9703\n",
            "2023-12-09 00:23:22,334 - root - INFO - F1 Score: 0.9696\n"
          ]
        },
        {
          "output_type": "stream",
          "name": "stdout",
          "text": [
            "Epoch [5/10], Step [100/3079], Loss: 0.0304\n",
            "Epoch [5/10], Step [200/3079], Loss: 0.0454\n",
            "Epoch [5/10], Step [300/3079], Loss: 0.0314\n",
            "Epoch [5/10], Step [400/3079], Loss: 0.0330\n",
            "Epoch [5/10], Step [500/3079], Loss: 0.0124\n",
            "Epoch [5/10], Step [600/3079], Loss: 0.0304\n",
            "Epoch [5/10], Step [700/3079], Loss: 0.1315\n",
            "Epoch [5/10], Step [800/3079], Loss: 0.0182\n",
            "Epoch [5/10], Step [900/3079], Loss: 0.0131\n",
            "Epoch [5/10], Step [1000/3079], Loss: 0.0502\n",
            "Epoch [5/10], Step [1100/3079], Loss: 0.2575\n",
            "Epoch [5/10], Step [1200/3079], Loss: 0.0351\n",
            "Epoch [5/10], Step [1300/3079], Loss: 0.0731\n",
            "Epoch [5/10], Step [1400/3079], Loss: 0.2051\n",
            "Epoch [5/10], Step [1500/3079], Loss: 0.1906\n",
            "Epoch [5/10], Step [1600/3079], Loss: 0.0501\n",
            "Epoch [5/10], Step [1700/3079], Loss: 0.1567\n",
            "Epoch [5/10], Step [1800/3079], Loss: 0.0525\n",
            "Epoch [5/10], Step [1900/3079], Loss: 0.1711\n",
            "Epoch [5/10], Step [2000/3079], Loss: 0.0660\n",
            "Epoch [5/10], Step [2100/3079], Loss: 0.0662\n",
            "Epoch [5/10], Step [2200/3079], Loss: 0.0212\n",
            "Epoch [5/10], Step [2300/3079], Loss: 0.1525\n",
            "Epoch [5/10], Step [2400/3079], Loss: 0.0211\n",
            "Epoch [5/10], Step [2500/3079], Loss: 0.0875\n",
            "Epoch [5/10], Step [2600/3079], Loss: 0.1968\n",
            "Epoch [5/10], Step [2700/3079], Loss: 0.2382\n",
            "Epoch [5/10], Step [2800/3079], Loss: 0.0043\n",
            "Epoch [5/10], Step [2900/3079], Loss: 0.1464\n",
            "Epoch [5/10], Step [3000/3079], Loss: 0.0463\n"
          ]
        },
        {
          "output_type": "stream",
          "name": "stderr",
          "text": [
            "2023-12-09 00:23:37,977 - root - INFO - Accuracy: 97.44%\n",
            "2023-12-09 00:23:37,978 - root - INFO - Precision: 0.9741\n",
            "2023-12-09 00:23:37,978 - root - INFO - Recall: 0.9744\n",
            "2023-12-09 00:23:37,979 - root - INFO - F1 Score: 0.9741\n"
          ]
        },
        {
          "output_type": "stream",
          "name": "stdout",
          "text": [
            "Epoch [6/10], Step [100/3079], Loss: 0.1495\n",
            "Epoch [6/10], Step [200/3079], Loss: 0.0865\n",
            "Epoch [6/10], Step [300/3079], Loss: 0.0862\n",
            "Epoch [6/10], Step [400/3079], Loss: 0.1298\n",
            "Epoch [6/10], Step [500/3079], Loss: 0.1872\n",
            "Epoch [6/10], Step [600/3079], Loss: 0.1830\n",
            "Epoch [6/10], Step [700/3079], Loss: 0.0905\n",
            "Epoch [6/10], Step [800/3079], Loss: 0.2706\n",
            "Epoch [6/10], Step [900/3079], Loss: 0.1607\n",
            "Epoch [6/10], Step [1000/3079], Loss: 0.0193\n",
            "Epoch [6/10], Step [1100/3079], Loss: 0.2285\n",
            "Epoch [6/10], Step [1200/3079], Loss: 0.2312\n",
            "Epoch [6/10], Step [1300/3079], Loss: 0.2762\n",
            "Epoch [6/10], Step [1400/3079], Loss: 0.0851\n",
            "Epoch [6/10], Step [1500/3079], Loss: 0.0458\n",
            "Epoch [6/10], Step [1600/3079], Loss: 0.1487\n",
            "Epoch [6/10], Step [1700/3079], Loss: 0.1048\n",
            "Epoch [6/10], Step [1800/3079], Loss: 0.1185\n",
            "Epoch [6/10], Step [1900/3079], Loss: 0.1052\n",
            "Epoch [6/10], Step [2000/3079], Loss: 0.0624\n",
            "Epoch [6/10], Step [2100/3079], Loss: 0.0438\n",
            "Epoch [6/10], Step [2200/3079], Loss: 0.2441\n",
            "Epoch [6/10], Step [2300/3079], Loss: 0.0339\n",
            "Epoch [6/10], Step [2400/3079], Loss: 0.2500\n",
            "Epoch [6/10], Step [2500/3079], Loss: 0.1557\n",
            "Epoch [6/10], Step [2600/3079], Loss: 0.1679\n",
            "Epoch [6/10], Step [2700/3079], Loss: 0.2676\n",
            "Epoch [6/10], Step [2800/3079], Loss: 0.0176\n",
            "Epoch [6/10], Step [2900/3079], Loss: 0.0330\n",
            "Epoch [6/10], Step [3000/3079], Loss: 0.2039\n"
          ]
        },
        {
          "output_type": "stream",
          "name": "stderr",
          "text": [
            "2023-12-09 00:23:53,690 - root - INFO - Accuracy: 91.59%\n",
            "2023-12-09 00:23:53,691 - root - INFO - Precision: 0.9501\n",
            "2023-12-09 00:23:53,692 - root - INFO - Recall: 0.9159\n",
            "2023-12-09 00:23:53,694 - root - INFO - F1 Score: 0.9273\n"
          ]
        },
        {
          "output_type": "stream",
          "name": "stdout",
          "text": [
            "Epoch [7/10], Step [100/3079], Loss: 0.0569\n",
            "Epoch [7/10], Step [200/3079], Loss: 0.2372\n",
            "Epoch [7/10], Step [300/3079], Loss: 0.0363\n",
            "Epoch [7/10], Step [400/3079], Loss: 0.0321\n",
            "Epoch [7/10], Step [500/3079], Loss: 0.0303\n",
            "Epoch [7/10], Step [600/3079], Loss: 0.0557\n",
            "Epoch [7/10], Step [700/3079], Loss: 0.0136\n",
            "Epoch [7/10], Step [800/3079], Loss: 0.0396\n",
            "Epoch [7/10], Step [900/3079], Loss: 0.0535\n",
            "Epoch [7/10], Step [1000/3079], Loss: 0.1818\n",
            "Epoch [7/10], Step [1100/3079], Loss: 0.0707\n",
            "Epoch [7/10], Step [1200/3079], Loss: 0.0704\n",
            "Epoch [7/10], Step [1300/3079], Loss: 0.0383\n",
            "Epoch [7/10], Step [1400/3079], Loss: 0.2510\n",
            "Epoch [7/10], Step [1500/3079], Loss: 0.2162\n",
            "Epoch [7/10], Step [1600/3079], Loss: 0.1304\n",
            "Epoch [7/10], Step [1700/3079], Loss: 0.0853\n",
            "Epoch [7/10], Step [1800/3079], Loss: 0.1386\n",
            "Epoch [7/10], Step [1900/3079], Loss: 0.0206\n",
            "Epoch [7/10], Step [2000/3079], Loss: 0.0205\n",
            "Epoch [7/10], Step [2100/3079], Loss: 0.0743\n",
            "Epoch [7/10], Step [2200/3079], Loss: 0.0255\n",
            "Epoch [7/10], Step [2300/3079], Loss: 0.0101\n",
            "Epoch [7/10], Step [2400/3079], Loss: 0.0134\n",
            "Epoch [7/10], Step [2500/3079], Loss: 0.0432\n",
            "Epoch [7/10], Step [2600/3079], Loss: 0.0475\n",
            "Epoch [7/10], Step [2700/3079], Loss: 0.1643\n",
            "Epoch [7/10], Step [2800/3079], Loss: 0.0257\n",
            "Epoch [7/10], Step [2900/3079], Loss: 0.0457\n",
            "Epoch [7/10], Step [3000/3079], Loss: 0.0444\n"
          ]
        },
        {
          "output_type": "stream",
          "name": "stderr",
          "text": [
            "2023-12-09 00:24:09,440 - root - INFO - Accuracy: 97.72%\n",
            "2023-12-09 00:24:09,441 - root - INFO - Precision: 0.9763\n",
            "2023-12-09 00:24:09,442 - root - INFO - Recall: 0.9772\n",
            "2023-12-09 00:24:09,443 - root - INFO - F1 Score: 0.9761\n"
          ]
        },
        {
          "output_type": "stream",
          "name": "stdout",
          "text": [
            "Epoch [8/10], Step [100/3079], Loss: 0.0283\n",
            "Epoch [8/10], Step [200/3079], Loss: 0.2753\n",
            "Epoch [8/10], Step [300/3079], Loss: 0.0276\n",
            "Epoch [8/10], Step [400/3079], Loss: 0.2336\n",
            "Epoch [8/10], Step [500/3079], Loss: 0.1319\n",
            "Epoch [8/10], Step [600/3079], Loss: 0.0137\n",
            "Epoch [8/10], Step [700/3079], Loss: 0.0332\n",
            "Epoch [8/10], Step [800/3079], Loss: 0.0839\n",
            "Epoch [8/10], Step [900/3079], Loss: 0.0259\n",
            "Epoch [8/10], Step [1000/3079], Loss: 0.1809\n",
            "Epoch [8/10], Step [1100/3079], Loss: 0.0244\n",
            "Epoch [8/10], Step [1200/3079], Loss: 0.1091\n",
            "Epoch [8/10], Step [1300/3079], Loss: 0.0330\n",
            "Epoch [8/10], Step [1400/3079], Loss: 0.0422\n",
            "Epoch [8/10], Step [1500/3079], Loss: 0.1131\n",
            "Epoch [8/10], Step [1600/3079], Loss: 0.0212\n",
            "Epoch [8/10], Step [1700/3079], Loss: 0.0710\n",
            "Epoch [8/10], Step [1800/3079], Loss: 0.0115\n",
            "Epoch [8/10], Step [1900/3079], Loss: 0.0418\n",
            "Epoch [8/10], Step [2000/3079], Loss: 0.0138\n",
            "Epoch [8/10], Step [2100/3079], Loss: 0.0088\n",
            "Epoch [8/10], Step [2200/3079], Loss: 0.0168\n",
            "Epoch [8/10], Step [2300/3079], Loss: 0.0274\n",
            "Epoch [8/10], Step [2400/3079], Loss: 0.0169\n",
            "Epoch [8/10], Step [2500/3079], Loss: 0.0838\n",
            "Epoch [8/10], Step [2600/3079], Loss: 0.1986\n",
            "Epoch [8/10], Step [2700/3079], Loss: 0.0450\n",
            "Epoch [8/10], Step [2800/3079], Loss: 0.1118\n",
            "Epoch [8/10], Step [2900/3079], Loss: 0.0279\n",
            "Epoch [8/10], Step [3000/3079], Loss: 0.0183\n"
          ]
        },
        {
          "output_type": "stream",
          "name": "stderr",
          "text": [
            "2023-12-09 00:24:25,401 - root - INFO - Accuracy: 97.79%\n",
            "2023-12-09 00:24:25,402 - root - INFO - Precision: 0.9774\n",
            "2023-12-09 00:24:25,403 - root - INFO - Recall: 0.9779\n",
            "2023-12-09 00:24:25,403 - root - INFO - F1 Score: 0.9775\n"
          ]
        },
        {
          "output_type": "stream",
          "name": "stdout",
          "text": [
            "Epoch [9/10], Step [100/3079], Loss: 0.1632\n",
            "Epoch [9/10], Step [200/3079], Loss: 0.4461\n",
            "Epoch [9/10], Step [300/3079], Loss: 0.3419\n",
            "Epoch [9/10], Step [400/3079], Loss: 0.1115\n",
            "Epoch [9/10], Step [500/3079], Loss: 0.1471\n",
            "Epoch [9/10], Step [600/3079], Loss: 0.0196\n",
            "Epoch [9/10], Step [700/3079], Loss: 0.0125\n",
            "Epoch [9/10], Step [800/3079], Loss: 0.0174\n",
            "Epoch [9/10], Step [900/3079], Loss: 0.0110\n",
            "Epoch [9/10], Step [1000/3079], Loss: 0.0336\n",
            "Epoch [9/10], Step [1100/3079], Loss: 0.0487\n",
            "Epoch [9/10], Step [1200/3079], Loss: 0.0139\n",
            "Epoch [9/10], Step [1300/3079], Loss: 0.0196\n",
            "Epoch [9/10], Step [1400/3079], Loss: 0.0529\n",
            "Epoch [9/10], Step [1500/3079], Loss: 0.0232\n",
            "Epoch [9/10], Step [1600/3079], Loss: 0.1047\n",
            "Epoch [9/10], Step [1700/3079], Loss: 0.1355\n",
            "Epoch [9/10], Step [1800/3079], Loss: 0.0331\n",
            "Epoch [9/10], Step [1900/3079], Loss: 0.0325\n",
            "Epoch [9/10], Step [2000/3079], Loss: 0.0096\n",
            "Epoch [9/10], Step [2100/3079], Loss: 0.1200\n",
            "Epoch [9/10], Step [2200/3079], Loss: 0.0261\n",
            "Epoch [9/10], Step [2300/3079], Loss: 0.0994\n",
            "Epoch [9/10], Step [2400/3079], Loss: 0.0803\n",
            "Epoch [9/10], Step [2500/3079], Loss: 0.0536\n",
            "Epoch [9/10], Step [2600/3079], Loss: 0.0827\n",
            "Epoch [9/10], Step [2700/3079], Loss: 0.0609\n",
            "Epoch [9/10], Step [2800/3079], Loss: 0.0943\n",
            "Epoch [9/10], Step [2900/3079], Loss: 0.0181\n",
            "Epoch [9/10], Step [3000/3079], Loss: 0.1942\n"
          ]
        },
        {
          "output_type": "stream",
          "name": "stderr",
          "text": [
            "2023-12-09 00:24:40,916 - root - INFO - Accuracy: 97.70%\n",
            "2023-12-09 00:24:40,917 - root - INFO - Precision: 0.9764\n",
            "2023-12-09 00:24:40,918 - root - INFO - Recall: 0.9770\n",
            "2023-12-09 00:24:40,919 - root - INFO - F1 Score: 0.9765\n"
          ]
        },
        {
          "output_type": "stream",
          "name": "stdout",
          "text": [
            "Epoch [10/10], Step [100/3079], Loss: 0.0561\n",
            "Epoch [10/10], Step [200/3079], Loss: 0.0233\n",
            "Epoch [10/10], Step [300/3079], Loss: 0.0159\n",
            "Epoch [10/10], Step [400/3079], Loss: 0.0211\n",
            "Epoch [10/10], Step [500/3079], Loss: 0.0254\n",
            "Epoch [10/10], Step [600/3079], Loss: 0.2444\n",
            "Epoch [10/10], Step [700/3079], Loss: 0.1169\n",
            "Epoch [10/10], Step [800/3079], Loss: 0.0500\n",
            "Epoch [10/10], Step [900/3079], Loss: 0.0616\n",
            "Epoch [10/10], Step [1000/3079], Loss: 0.0438\n",
            "Epoch [10/10], Step [1100/3079], Loss: 0.1029\n",
            "Epoch [10/10], Step [1200/3079], Loss: 0.0245\n",
            "Epoch [10/10], Step [1300/3079], Loss: 0.1228\n",
            "Epoch [10/10], Step [1400/3079], Loss: 0.0516\n",
            "Epoch [10/10], Step [1500/3079], Loss: 0.2050\n",
            "Epoch [10/10], Step [1600/3079], Loss: 0.0174\n",
            "Epoch [10/10], Step [1700/3079], Loss: 0.0387\n",
            "Epoch [10/10], Step [1800/3079], Loss: 0.0106\n",
            "Epoch [10/10], Step [1900/3079], Loss: 0.1145\n",
            "Epoch [10/10], Step [2000/3079], Loss: 0.0961\n",
            "Epoch [10/10], Step [2100/3079], Loss: 0.1958\n",
            "Epoch [10/10], Step [2200/3079], Loss: 0.0268\n",
            "Epoch [10/10], Step [2300/3079], Loss: 0.0275\n",
            "Epoch [10/10], Step [2400/3079], Loss: 0.0587\n",
            "Epoch [10/10], Step [2500/3079], Loss: 0.0083\n",
            "Epoch [10/10], Step [2600/3079], Loss: 0.0119\n",
            "Epoch [10/10], Step [2700/3079], Loss: 0.0098\n",
            "Epoch [10/10], Step [2800/3079], Loss: 0.0274\n",
            "Epoch [10/10], Step [2900/3079], Loss: 0.0195\n",
            "Epoch [10/10], Step [3000/3079], Loss: 0.0350\n"
          ]
        },
        {
          "output_type": "stream",
          "name": "stderr",
          "text": [
            "2023-12-09 00:24:56,357 - root - INFO - Accuracy: 98.02%\n",
            "2023-12-09 00:24:56,359 - root - INFO - Precision: 0.9795\n",
            "2023-12-09 00:24:56,360 - root - INFO - Recall: 0.9802\n",
            "2023-12-09 00:24:56,361 - root - INFO - F1 Score: 0.9792\n"
          ]
        },
        {
          "output_type": "stream",
          "name": "stdout",
          "text": [
            "FOLD 9\n",
            "--------------------------------\n",
            "AttentionOSCNN(\n",
            "  (conv1): Conv1d(1, 128, kernel_size=(8,), stride=(1,), padding=same)\n",
            "  (bn1): BatchNorm1d(128, eps=1e-05, momentum=0.1, affine=True, track_running_stats=True)\n",
            "  (conv2): Conv1d(128, 256, kernel_size=(5,), stride=(1,), padding=same)\n",
            "  (bn2): BatchNorm1d(256, eps=1e-05, momentum=0.1, affine=True, track_running_stats=True)\n",
            "  (conv3): Conv1d(256, 128, kernel_size=(3,), stride=(1,), padding=same)\n",
            "  (bn3): BatchNorm1d(128, eps=1e-05, momentum=0.1, affine=True, track_running_stats=True)\n",
            "  (intermediate): Linear(in_features=1, out_features=128, bias=True)\n",
            "  (dropout): Dropout(p=0.8, inplace=False)\n",
            "  (attention): SelfAttention(\n",
            "    (query): Linear(in_features=128, out_features=128, bias=True)\n",
            "    (key): Linear(in_features=128, out_features=128, bias=True)\n",
            "    (value): Linear(in_features=128, out_features=128, bias=True)\n",
            "  )\n",
            "  (avg_pool): AdaptiveAvgPool1d(output_size=1)\n",
            "  (fc): Linear(in_features=256, out_features=5, bias=True)\n",
            ")\n",
            "Epoch [1/10], Step [100/3079], Loss: 0.7098\n",
            "Epoch [1/10], Step [200/3079], Loss: 0.7472\n",
            "Epoch [1/10], Step [300/3079], Loss: 0.4180\n",
            "Epoch [1/10], Step [400/3079], Loss: 0.1753\n",
            "Epoch [1/10], Step [500/3079], Loss: 0.2221\n",
            "Epoch [1/10], Step [600/3079], Loss: 0.2707\n",
            "Epoch [1/10], Step [700/3079], Loss: 0.3366\n",
            "Epoch [1/10], Step [800/3079], Loss: 0.2384\n",
            "Epoch [1/10], Step [900/3079], Loss: 0.3381\n",
            "Epoch [1/10], Step [1000/3079], Loss: 0.2796\n",
            "Epoch [1/10], Step [1100/3079], Loss: 0.1036\n",
            "Epoch [1/10], Step [1200/3079], Loss: 0.2023\n",
            "Epoch [1/10], Step [1300/3079], Loss: 0.1646\n",
            "Epoch [1/10], Step [1400/3079], Loss: 0.2326\n",
            "Epoch [1/10], Step [1500/3079], Loss: 0.3993\n",
            "Epoch [1/10], Step [1600/3079], Loss: 0.0501\n",
            "Epoch [1/10], Step [1700/3079], Loss: 0.0637\n",
            "Epoch [1/10], Step [1800/3079], Loss: 0.2747\n",
            "Epoch [1/10], Step [1900/3079], Loss: 0.0899\n",
            "Epoch [1/10], Step [2000/3079], Loss: 0.0461\n",
            "Epoch [1/10], Step [2100/3079], Loss: 0.1320\n",
            "Epoch [1/10], Step [2200/3079], Loss: 0.3489\n",
            "Epoch [1/10], Step [2300/3079], Loss: 0.0427\n",
            "Epoch [1/10], Step [2400/3079], Loss: 0.0410\n",
            "Epoch [1/10], Step [2500/3079], Loss: 0.3463\n",
            "Epoch [1/10], Step [2600/3079], Loss: 0.1490\n",
            "Epoch [1/10], Step [2700/3079], Loss: 0.2262\n",
            "Epoch [1/10], Step [2800/3079], Loss: 0.1502\n",
            "Epoch [1/10], Step [2900/3079], Loss: 0.0477\n",
            "Epoch [1/10], Step [3000/3079], Loss: 0.1521\n"
          ]
        },
        {
          "output_type": "stream",
          "name": "stderr",
          "text": [
            "/usr/local/lib/python3.10/dist-packages/sklearn/metrics/_classification.py:1344: UndefinedMetricWarning: Precision is ill-defined and being set to 0.0 in labels with no predicted samples. Use `zero_division` parameter to control this behavior.\n",
            "  _warn_prf(average, modifier, msg_start, len(result))\n",
            "2023-12-09 00:25:11,999 - root - INFO - Accuracy: 94.86%\n",
            "2023-12-09 00:25:12,000 - root - INFO - Precision: 0.9415\n",
            "2023-12-09 00:25:12,001 - root - INFO - Recall: 0.9486\n",
            "2023-12-09 00:25:12,002 - root - INFO - F1 Score: 0.9385\n"
          ]
        },
        {
          "output_type": "stream",
          "name": "stdout",
          "text": [
            "Epoch [2/10], Step [100/3079], Loss: 0.1913\n",
            "Epoch [2/10], Step [200/3079], Loss: 0.3876\n",
            "Epoch [2/10], Step [300/3079], Loss: 0.0224\n",
            "Epoch [2/10], Step [400/3079], Loss: 0.2380\n",
            "Epoch [2/10], Step [500/3079], Loss: 0.0392\n",
            "Epoch [2/10], Step [600/3079], Loss: 0.1141\n",
            "Epoch [2/10], Step [700/3079], Loss: 0.0344\n",
            "Epoch [2/10], Step [800/3079], Loss: 0.1422\n",
            "Epoch [2/10], Step [900/3079], Loss: 0.1990\n",
            "Epoch [2/10], Step [1000/3079], Loss: 0.2928\n",
            "Epoch [2/10], Step [1100/3079], Loss: 0.3288\n",
            "Epoch [2/10], Step [1200/3079], Loss: 0.1924\n",
            "Epoch [2/10], Step [1300/3079], Loss: 0.1300\n",
            "Epoch [2/10], Step [1400/3079], Loss: 0.1738\n",
            "Epoch [2/10], Step [1500/3079], Loss: 0.0998\n",
            "Epoch [2/10], Step [1600/3079], Loss: 0.0351\n",
            "Epoch [2/10], Step [1700/3079], Loss: 0.1446\n",
            "Epoch [2/10], Step [1800/3079], Loss: 0.1526\n",
            "Epoch [2/10], Step [1900/3079], Loss: 0.0540\n",
            "Epoch [2/10], Step [2000/3079], Loss: 0.0934\n",
            "Epoch [2/10], Step [2100/3079], Loss: 0.1268\n",
            "Epoch [2/10], Step [2200/3079], Loss: 0.0822\n",
            "Epoch [2/10], Step [2300/3079], Loss: 0.0337\n",
            "Epoch [2/10], Step [2400/3079], Loss: 0.2267\n",
            "Epoch [2/10], Step [2500/3079], Loss: 0.0679\n",
            "Epoch [2/10], Step [2600/3079], Loss: 0.2344\n",
            "Epoch [2/10], Step [2700/3079], Loss: 0.1438\n",
            "Epoch [2/10], Step [2800/3079], Loss: 0.0333\n",
            "Epoch [2/10], Step [2900/3079], Loss: 0.0843\n",
            "Epoch [2/10], Step [3000/3079], Loss: 0.1995\n"
          ]
        },
        {
          "output_type": "stream",
          "name": "stderr",
          "text": [
            "2023-12-09 00:25:27,545 - root - INFO - Accuracy: 95.60%\n",
            "2023-12-09 00:25:27,547 - root - INFO - Precision: 0.9551\n",
            "2023-12-09 00:25:27,548 - root - INFO - Recall: 0.9560\n",
            "2023-12-09 00:25:27,549 - root - INFO - F1 Score: 0.9521\n"
          ]
        },
        {
          "output_type": "stream",
          "name": "stdout",
          "text": [
            "Epoch [3/10], Step [100/3079], Loss: 0.0318\n",
            "Epoch [3/10], Step [200/3079], Loss: 0.0775\n",
            "Epoch [3/10], Step [300/3079], Loss: 0.2306\n",
            "Epoch [3/10], Step [400/3079], Loss: 0.1808\n",
            "Epoch [3/10], Step [500/3079], Loss: 0.0209\n",
            "Epoch [3/10], Step [600/3079], Loss: 0.5080\n",
            "Epoch [3/10], Step [700/3079], Loss: 0.0689\n",
            "Epoch [3/10], Step [800/3079], Loss: 0.1807\n",
            "Epoch [3/10], Step [900/3079], Loss: 0.1819\n",
            "Epoch [3/10], Step [1000/3079], Loss: 0.2776\n",
            "Epoch [3/10], Step [1100/3079], Loss: 0.0551\n",
            "Epoch [3/10], Step [1200/3079], Loss: 0.0748\n",
            "Epoch [3/10], Step [1300/3079], Loss: 0.1675\n",
            "Epoch [3/10], Step [1400/3079], Loss: 0.0262\n",
            "Epoch [3/10], Step [1500/3079], Loss: 0.0116\n",
            "Epoch [3/10], Step [1600/3079], Loss: 0.2199\n",
            "Epoch [3/10], Step [1700/3079], Loss: 0.0354\n",
            "Epoch [3/10], Step [1800/3079], Loss: 0.1624\n",
            "Epoch [3/10], Step [1900/3079], Loss: 0.2363\n",
            "Epoch [3/10], Step [2000/3079], Loss: 0.1716\n",
            "Epoch [3/10], Step [2100/3079], Loss: 0.2662\n",
            "Epoch [3/10], Step [2200/3079], Loss: 0.0273\n",
            "Epoch [3/10], Step [2300/3079], Loss: 0.0280\n",
            "Epoch [3/10], Step [2400/3079], Loss: 0.0161\n",
            "Epoch [3/10], Step [2500/3079], Loss: 0.0410\n",
            "Epoch [3/10], Step [2600/3079], Loss: 0.0675\n",
            "Epoch [3/10], Step [2700/3079], Loss: 0.1218\n",
            "Epoch [3/10], Step [2800/3079], Loss: 0.0381\n",
            "Epoch [3/10], Step [2900/3079], Loss: 0.1626\n",
            "Epoch [3/10], Step [3000/3079], Loss: 0.0225\n"
          ]
        },
        {
          "output_type": "stream",
          "name": "stderr",
          "text": [
            "2023-12-09 00:25:43,025 - root - INFO - Accuracy: 96.28%\n",
            "2023-12-09 00:25:43,026 - root - INFO - Precision: 0.9680\n",
            "2023-12-09 00:25:43,027 - root - INFO - Recall: 0.9628\n",
            "2023-12-09 00:25:43,030 - root - INFO - F1 Score: 0.9639\n"
          ]
        },
        {
          "output_type": "stream",
          "name": "stdout",
          "text": [
            "Epoch [4/10], Step [100/3079], Loss: 0.0680\n",
            "Epoch [4/10], Step [200/3079], Loss: 0.1343\n",
            "Epoch [4/10], Step [300/3079], Loss: 0.0518\n",
            "Epoch [4/10], Step [400/3079], Loss: 0.0228\n",
            "Epoch [4/10], Step [500/3079], Loss: 0.2840\n",
            "Epoch [4/10], Step [600/3079], Loss: 0.1069\n",
            "Epoch [4/10], Step [700/3079], Loss: 0.0848\n",
            "Epoch [4/10], Step [800/3079], Loss: 0.1642\n",
            "Epoch [4/10], Step [900/3079], Loss: 0.1814\n",
            "Epoch [4/10], Step [1000/3079], Loss: 0.0578\n",
            "Epoch [4/10], Step [1100/3079], Loss: 0.1278\n",
            "Epoch [4/10], Step [1200/3079], Loss: 0.1268\n",
            "Epoch [4/10], Step [1300/3079], Loss: 0.2307\n",
            "Epoch [4/10], Step [1400/3079], Loss: 0.1641\n",
            "Epoch [4/10], Step [1500/3079], Loss: 0.1939\n",
            "Epoch [4/10], Step [1600/3079], Loss: 0.0128\n",
            "Epoch [4/10], Step [1700/3079], Loss: 0.0187\n",
            "Epoch [4/10], Step [1800/3079], Loss: 0.0061\n",
            "Epoch [4/10], Step [1900/3079], Loss: 0.0487\n",
            "Epoch [4/10], Step [2000/3079], Loss: 0.0660\n",
            "Epoch [4/10], Step [2100/3079], Loss: 0.1363\n",
            "Epoch [4/10], Step [2200/3079], Loss: 0.0093\n",
            "Epoch [4/10], Step [2300/3079], Loss: 0.1480\n",
            "Epoch [4/10], Step [2400/3079], Loss: 0.1269\n",
            "Epoch [4/10], Step [2500/3079], Loss: 0.0218\n",
            "Epoch [4/10], Step [2600/3079], Loss: 0.0677\n",
            "Epoch [4/10], Step [2700/3079], Loss: 0.0867\n",
            "Epoch [4/10], Step [2800/3079], Loss: 0.0367\n",
            "Epoch [4/10], Step [2900/3079], Loss: 0.0669\n",
            "Epoch [4/10], Step [3000/3079], Loss: 0.0564\n"
          ]
        },
        {
          "output_type": "stream",
          "name": "stderr",
          "text": [
            "2023-12-09 00:25:58,720 - root - INFO - Accuracy: 96.80%\n",
            "2023-12-09 00:25:58,721 - root - INFO - Precision: 0.9686\n",
            "2023-12-09 00:25:58,722 - root - INFO - Recall: 0.9680\n",
            "2023-12-09 00:25:58,723 - root - INFO - F1 Score: 0.9635\n"
          ]
        },
        {
          "output_type": "stream",
          "name": "stdout",
          "text": [
            "Epoch [5/10], Step [100/3079], Loss: 0.1376\n",
            "Epoch [5/10], Step [200/3079], Loss: 0.1685\n",
            "Epoch [5/10], Step [300/3079], Loss: 0.1560\n",
            "Epoch [5/10], Step [400/3079], Loss: 0.3167\n",
            "Epoch [5/10], Step [500/3079], Loss: 0.0596\n",
            "Epoch [5/10], Step [600/3079], Loss: 0.0287\n",
            "Epoch [5/10], Step [700/3079], Loss: 0.0866\n",
            "Epoch [5/10], Step [800/3079], Loss: 0.0253\n",
            "Epoch [5/10], Step [900/3079], Loss: 0.2457\n",
            "Epoch [5/10], Step [1000/3079], Loss: 0.0445\n",
            "Epoch [5/10], Step [1100/3079], Loss: 0.0339\n",
            "Epoch [5/10], Step [1200/3079], Loss: 0.0697\n",
            "Epoch [5/10], Step [1300/3079], Loss: 0.3281\n",
            "Epoch [5/10], Step [1400/3079], Loss: 0.1455\n",
            "Epoch [5/10], Step [1500/3079], Loss: 0.0262\n",
            "Epoch [5/10], Step [1600/3079], Loss: 0.0181\n",
            "Epoch [5/10], Step [1700/3079], Loss: 0.1796\n",
            "Epoch [5/10], Step [1800/3079], Loss: 0.0301\n",
            "Epoch [5/10], Step [1900/3079], Loss: 0.1178\n",
            "Epoch [5/10], Step [2000/3079], Loss: 0.0937\n",
            "Epoch [5/10], Step [2100/3079], Loss: 0.0443\n",
            "Epoch [5/10], Step [2200/3079], Loss: 0.0573\n",
            "Epoch [5/10], Step [2300/3079], Loss: 0.1156\n",
            "Epoch [5/10], Step [2400/3079], Loss: 0.0302\n",
            "Epoch [5/10], Step [2500/3079], Loss: 0.0537\n",
            "Epoch [5/10], Step [2600/3079], Loss: 0.1758\n",
            "Epoch [5/10], Step [2700/3079], Loss: 0.0587\n",
            "Epoch [5/10], Step [2800/3079], Loss: 0.4787\n",
            "Epoch [5/10], Step [2900/3079], Loss: 0.0532\n",
            "Epoch [5/10], Step [3000/3079], Loss: 0.1259\n"
          ]
        },
        {
          "output_type": "stream",
          "name": "stderr",
          "text": [
            "2023-12-09 00:26:14,533 - root - INFO - Accuracy: 97.55%\n",
            "2023-12-09 00:26:14,534 - root - INFO - Precision: 0.9746\n",
            "2023-12-09 00:26:14,535 - root - INFO - Recall: 0.9755\n",
            "2023-12-09 00:26:14,536 - root - INFO - F1 Score: 0.9745\n"
          ]
        },
        {
          "output_type": "stream",
          "name": "stdout",
          "text": [
            "Epoch [6/10], Step [100/3079], Loss: 0.2939\n",
            "Epoch [6/10], Step [200/3079], Loss: 0.0420\n",
            "Epoch [6/10], Step [300/3079], Loss: 0.0541\n",
            "Epoch [6/10], Step [400/3079], Loss: 0.0757\n",
            "Epoch [6/10], Step [500/3079], Loss: 0.0893\n",
            "Epoch [6/10], Step [600/3079], Loss: 0.0133\n",
            "Epoch [6/10], Step [700/3079], Loss: 0.0417\n",
            "Epoch [6/10], Step [800/3079], Loss: 0.1182\n",
            "Epoch [6/10], Step [900/3079], Loss: 0.1748\n",
            "Epoch [6/10], Step [1000/3079], Loss: 0.0213\n",
            "Epoch [6/10], Step [1100/3079], Loss: 0.0475\n",
            "Epoch [6/10], Step [1200/3079], Loss: 0.0516\n",
            "Epoch [6/10], Step [1300/3079], Loss: 0.0101\n",
            "Epoch [6/10], Step [1400/3079], Loss: 0.0435\n",
            "Epoch [6/10], Step [1500/3079], Loss: 0.0400\n",
            "Epoch [6/10], Step [1600/3079], Loss: 0.1722\n",
            "Epoch [6/10], Step [1700/3079], Loss: 0.0352\n",
            "Epoch [6/10], Step [1800/3079], Loss: 0.2145\n",
            "Epoch [6/10], Step [1900/3079], Loss: 0.0614\n",
            "Epoch [6/10], Step [2000/3079], Loss: 0.0834\n",
            "Epoch [6/10], Step [2100/3079], Loss: 0.0420\n",
            "Epoch [6/10], Step [2200/3079], Loss: 0.0212\n",
            "Epoch [6/10], Step [2300/3079], Loss: 0.0676\n",
            "Epoch [6/10], Step [2400/3079], Loss: 0.0809\n",
            "Epoch [6/10], Step [2500/3079], Loss: 0.2563\n",
            "Epoch [6/10], Step [2600/3079], Loss: 0.0586\n",
            "Epoch [6/10], Step [2700/3079], Loss: 0.0801\n",
            "Epoch [6/10], Step [2800/3079], Loss: 0.1628\n",
            "Epoch [6/10], Step [2900/3079], Loss: 0.1111\n",
            "Epoch [6/10], Step [3000/3079], Loss: 0.2254\n"
          ]
        },
        {
          "output_type": "stream",
          "name": "stderr",
          "text": [
            "2023-12-09 00:26:30,128 - root - INFO - Accuracy: 97.52%\n",
            "2023-12-09 00:26:30,129 - root - INFO - Precision: 0.9748\n",
            "2023-12-09 00:26:30,130 - root - INFO - Recall: 0.9752\n",
            "2023-12-09 00:26:30,131 - root - INFO - F1 Score: 0.9741\n"
          ]
        },
        {
          "output_type": "stream",
          "name": "stdout",
          "text": [
            "Epoch [7/10], Step [100/3079], Loss: 0.0056\n",
            "Epoch [7/10], Step [200/3079], Loss: 0.0487\n",
            "Epoch [7/10], Step [300/3079], Loss: 0.0295\n",
            "Epoch [7/10], Step [400/3079], Loss: 0.0216\n",
            "Epoch [7/10], Step [500/3079], Loss: 0.0773\n",
            "Epoch [7/10], Step [600/3079], Loss: 0.1975\n",
            "Epoch [7/10], Step [700/3079], Loss: 0.1299\n",
            "Epoch [7/10], Step [800/3079], Loss: 0.1011\n",
            "Epoch [7/10], Step [900/3079], Loss: 0.0460\n",
            "Epoch [7/10], Step [1000/3079], Loss: 0.0181\n",
            "Epoch [7/10], Step [1100/3079], Loss: 0.0438\n",
            "Epoch [7/10], Step [1200/3079], Loss: 0.0233\n",
            "Epoch [7/10], Step [1300/3079], Loss: 0.0124\n",
            "Epoch [7/10], Step [1400/3079], Loss: 0.1202\n",
            "Epoch [7/10], Step [1500/3079], Loss: 0.0761\n",
            "Epoch [7/10], Step [1600/3079], Loss: 0.1687\n",
            "Epoch [7/10], Step [1700/3079], Loss: 0.2815\n",
            "Epoch [7/10], Step [1800/3079], Loss: 0.0104\n",
            "Epoch [7/10], Step [1900/3079], Loss: 0.0940\n",
            "Epoch [7/10], Step [2000/3079], Loss: 0.0248\n",
            "Epoch [7/10], Step [2100/3079], Loss: 0.0602\n",
            "Epoch [7/10], Step [2200/3079], Loss: 0.0245\n",
            "Epoch [7/10], Step [2300/3079], Loss: 0.0049\n",
            "Epoch [7/10], Step [2400/3079], Loss: 0.1970\n",
            "Epoch [7/10], Step [2500/3079], Loss: 0.0163\n",
            "Epoch [7/10], Step [2600/3079], Loss: 0.1836\n",
            "Epoch [7/10], Step [2700/3079], Loss: 0.1976\n",
            "Epoch [7/10], Step [2800/3079], Loss: 0.1173\n",
            "Epoch [7/10], Step [2900/3079], Loss: 0.0196\n",
            "Epoch [7/10], Step [3000/3079], Loss: 0.1653\n"
          ]
        },
        {
          "output_type": "stream",
          "name": "stderr",
          "text": [
            "2023-12-09 00:26:45,457 - root - INFO - Accuracy: 97.80%\n",
            "2023-12-09 00:26:45,458 - root - INFO - Precision: 0.9778\n",
            "2023-12-09 00:26:45,459 - root - INFO - Recall: 0.9780\n",
            "2023-12-09 00:26:45,459 - root - INFO - F1 Score: 0.9763\n"
          ]
        },
        {
          "output_type": "stream",
          "name": "stdout",
          "text": [
            "Epoch [8/10], Step [100/3079], Loss: 0.0393\n",
            "Epoch [8/10], Step [200/3079], Loss: 0.0100\n",
            "Epoch [8/10], Step [300/3079], Loss: 0.0298\n",
            "Epoch [8/10], Step [400/3079], Loss: 0.0171\n",
            "Epoch [8/10], Step [500/3079], Loss: 0.0688\n",
            "Epoch [8/10], Step [600/3079], Loss: 0.0838\n",
            "Epoch [8/10], Step [700/3079], Loss: 0.5720\n",
            "Epoch [8/10], Step [800/3079], Loss: 0.0791\n",
            "Epoch [8/10], Step [900/3079], Loss: 0.2149\n",
            "Epoch [8/10], Step [1000/3079], Loss: 0.0519\n",
            "Epoch [8/10], Step [1100/3079], Loss: 0.1705\n",
            "Epoch [8/10], Step [1200/3079], Loss: 0.0084\n",
            "Epoch [8/10], Step [1300/3079], Loss: 0.1558\n",
            "Epoch [8/10], Step [1400/3079], Loss: 0.0053\n",
            "Epoch [8/10], Step [1500/3079], Loss: 0.0717\n",
            "Epoch [8/10], Step [1600/3079], Loss: 0.0622\n",
            "Epoch [8/10], Step [1700/3079], Loss: 0.1061\n",
            "Epoch [8/10], Step [1800/3079], Loss: 0.0261\n",
            "Epoch [8/10], Step [1900/3079], Loss: 0.0250\n",
            "Epoch [8/10], Step [2000/3079], Loss: 0.0377\n",
            "Epoch [8/10], Step [2100/3079], Loss: 0.0213\n",
            "Epoch [8/10], Step [2200/3079], Loss: 0.0096\n",
            "Epoch [8/10], Step [2300/3079], Loss: 0.0452\n",
            "Epoch [8/10], Step [2400/3079], Loss: 0.0217\n",
            "Epoch [8/10], Step [2500/3079], Loss: 0.0975\n",
            "Epoch [8/10], Step [2600/3079], Loss: 0.0538\n",
            "Epoch [8/10], Step [2700/3079], Loss: 0.1211\n",
            "Epoch [8/10], Step [2800/3079], Loss: 0.0185\n",
            "Epoch [8/10], Step [2900/3079], Loss: 0.0150\n",
            "Epoch [8/10], Step [3000/3079], Loss: 0.1428\n"
          ]
        },
        {
          "output_type": "stream",
          "name": "stderr",
          "text": [
            "2023-12-09 00:27:01,053 - root - INFO - Accuracy: 97.90%\n",
            "2023-12-09 00:27:01,053 - root - INFO - Precision: 0.9782\n",
            "2023-12-09 00:27:01,054 - root - INFO - Recall: 0.9790\n",
            "2023-12-09 00:27:01,055 - root - INFO - F1 Score: 0.9782\n"
          ]
        },
        {
          "output_type": "stream",
          "name": "stdout",
          "text": [
            "Epoch [9/10], Step [100/3079], Loss: 0.0185\n",
            "Epoch [9/10], Step [200/3079], Loss: 0.0124\n",
            "Epoch [9/10], Step [300/3079], Loss: 0.0337\n",
            "Epoch [9/10], Step [400/3079], Loss: 0.3531\n",
            "Epoch [9/10], Step [500/3079], Loss: 0.2495\n",
            "Epoch [9/10], Step [600/3079], Loss: 0.2438\n",
            "Epoch [9/10], Step [700/3079], Loss: 0.2942\n",
            "Epoch [9/10], Step [800/3079], Loss: 0.1261\n",
            "Epoch [9/10], Step [900/3079], Loss: 0.0693\n",
            "Epoch [9/10], Step [1000/3079], Loss: 0.0266\n",
            "Epoch [9/10], Step [1100/3079], Loss: 0.1152\n",
            "Epoch [9/10], Step [1200/3079], Loss: 0.0122\n",
            "Epoch [9/10], Step [1300/3079], Loss: 0.0364\n",
            "Epoch [9/10], Step [1400/3079], Loss: 0.0679\n",
            "Epoch [9/10], Step [1500/3079], Loss: 0.0111\n",
            "Epoch [9/10], Step [1600/3079], Loss: 0.0111\n",
            "Epoch [9/10], Step [1700/3079], Loss: 0.0125\n",
            "Epoch [9/10], Step [1800/3079], Loss: 0.0820\n",
            "Epoch [9/10], Step [1900/3079], Loss: 0.0385\n",
            "Epoch [9/10], Step [2000/3079], Loss: 0.0705\n",
            "Epoch [9/10], Step [2100/3079], Loss: 0.0473\n",
            "Epoch [9/10], Step [2200/3079], Loss: 0.4495\n",
            "Epoch [9/10], Step [2300/3079], Loss: 0.3258\n",
            "Epoch [9/10], Step [2400/3079], Loss: 0.1004\n",
            "Epoch [9/10], Step [2500/3079], Loss: 0.0284\n",
            "Epoch [9/10], Step [2600/3079], Loss: 0.0337\n",
            "Epoch [9/10], Step [2700/3079], Loss: 0.0103\n",
            "Epoch [9/10], Step [2800/3079], Loss: 0.1746\n",
            "Epoch [9/10], Step [2900/3079], Loss: 0.0189\n",
            "Epoch [9/10], Step [3000/3079], Loss: 0.0314\n"
          ]
        },
        {
          "output_type": "stream",
          "name": "stderr",
          "text": [
            "2023-12-09 00:27:16,594 - root - INFO - Accuracy: 97.75%\n",
            "2023-12-09 00:27:16,595 - root - INFO - Precision: 0.9774\n",
            "2023-12-09 00:27:16,596 - root - INFO - Recall: 0.9775\n",
            "2023-12-09 00:27:16,596 - root - INFO - F1 Score: 0.9760\n"
          ]
        },
        {
          "output_type": "stream",
          "name": "stdout",
          "text": [
            "Epoch [10/10], Step [100/3079], Loss: 0.0206\n",
            "Epoch [10/10], Step [200/3079], Loss: 0.2386\n",
            "Epoch [10/10], Step [300/3079], Loss: 0.1784\n",
            "Epoch [10/10], Step [400/3079], Loss: 0.0270\n",
            "Epoch [10/10], Step [500/3079], Loss: 0.2450\n",
            "Epoch [10/10], Step [600/3079], Loss: 0.1386\n",
            "Epoch [10/10], Step [700/3079], Loss: 0.0142\n",
            "Epoch [10/10], Step [800/3079], Loss: 0.0065\n",
            "Epoch [10/10], Step [900/3079], Loss: 0.0315\n",
            "Epoch [10/10], Step [1000/3079], Loss: 0.2651\n",
            "Epoch [10/10], Step [1100/3079], Loss: 0.0418\n",
            "Epoch [10/10], Step [1200/3079], Loss: 0.0594\n",
            "Epoch [10/10], Step [1300/3079], Loss: 0.0141\n",
            "Epoch [10/10], Step [1400/3079], Loss: 0.0474\n",
            "Epoch [10/10], Step [1500/3079], Loss: 0.1536\n",
            "Epoch [10/10], Step [1600/3079], Loss: 0.0474\n",
            "Epoch [10/10], Step [1700/3079], Loss: 0.0087\n",
            "Epoch [10/10], Step [1800/3079], Loss: 0.0051\n",
            "Epoch [10/10], Step [1900/3079], Loss: 0.0558\n",
            "Epoch [10/10], Step [2000/3079], Loss: 0.1619\n",
            "Epoch [10/10], Step [2100/3079], Loss: 0.0236\n",
            "Epoch [10/10], Step [2200/3079], Loss: 0.0982\n",
            "Epoch [10/10], Step [2300/3079], Loss: 0.0104\n",
            "Epoch [10/10], Step [2400/3079], Loss: 0.0140\n",
            "Epoch [10/10], Step [2500/3079], Loss: 0.0183\n",
            "Epoch [10/10], Step [2600/3079], Loss: 0.1934\n",
            "Epoch [10/10], Step [2700/3079], Loss: 0.0942\n",
            "Epoch [10/10], Step [2800/3079], Loss: 0.0754\n",
            "Epoch [10/10], Step [2900/3079], Loss: 0.0386\n",
            "Epoch [10/10], Step [3000/3079], Loss: 0.2015\n"
          ]
        },
        {
          "output_type": "stream",
          "name": "stderr",
          "text": [
            "2023-12-09 00:27:32,192 - root - INFO - Accuracy: 97.72%\n",
            "2023-12-09 00:27:32,193 - root - INFO - Precision: 0.9767\n",
            "2023-12-09 00:27:32,194 - root - INFO - Recall: 0.9772\n",
            "2023-12-09 00:27:32,195 - root - INFO - F1 Score: 0.9766\n"
          ]
        },
        {
          "output_type": "stream",
          "name": "stdout",
          "text": [
            "Epoch 1 - Avg Accuracy: 0.9508799513249393, Avg Precision: 0.949436987814028, Avg Recall: 0.9508799513249393, Avg F1 Score: 0.9458170143150548, Avg Loss: 0.2625691405892827\n",
            "Epoch 2 - Avg Accuracy: 0.9603731985619218, Avg Precision: 0.9603614087086942, Avg Recall: 0.9603731985619218, Avg F1 Score: 0.9576175827857313, Avg Loss: 0.1500375855714385\n",
            "Epoch 3 - Avg Accuracy: 0.9657822155033541, Avg Precision: 0.9657772264887511, Avg Recall: 0.9657822155033541, Avg F1 Score: 0.9630704037195976, Avg Loss: 0.12365690436481597\n",
            "Epoch 4 - Avg Accuracy: 0.9683222899452071, Avg Precision: 0.9681800161333506, Avg Recall: 0.9683222899452071, Avg F1 Score: 0.9666768997089124, Avg Loss: 0.11013749495639275\n",
            "Epoch 5 - Avg Accuracy: 0.969729407771179, Avg Precision: 0.9695193759007041, Avg Recall: 0.969729407771179, Avg F1 Score: 0.9681505798753939, Avg Loss: 0.1014521382215438\n",
            "Epoch 6 - Avg Accuracy: 0.9679473874556193, Avg Precision: 0.9708606625465193, Avg Recall: 0.9679473874556193, Avg F1 Score: 0.9680228610791332, Avg Loss: 0.09526528453039379\n",
            "Epoch 7 - Avg Accuracy: 0.9751019276005225, Avg Precision: 0.9745913252010243, Avg Recall: 0.9751019276005225, Avg F1 Score: 0.9740035030898465, Avg Loss: 0.08995063835210534\n",
            "Epoch 8 - Avg Accuracy: 0.9762622873137617, Avg Precision: 0.9756170051798989, Avg Recall: 0.9762622873137617, Avg F1 Score: 0.975258841189123, Avg Loss: 0.08600876556921369\n",
            "Epoch 9 - Avg Accuracy: 0.9752754635751859, Avg Precision: 0.9748451700735815, Avg Recall: 0.9752754635751859, Avg F1 Score: 0.9741376114187507, Avg Loss: 0.08242417480355717\n",
            "Epoch 10 - Avg Accuracy: 0.9764998729359184, Avg Precision: 0.9762455895534725, Avg Recall: 0.9764998729359184, Avg F1 Score: 0.9756565721819142, Avg Loss: 0.07874248244420974\n"
          ]
        }
      ],
      "source": [
        "epoch_acc, epoch_prc, epoch_rec, epoch_f1, epoch_losses = [], [], [], [], []\n",
        "\n",
        "for fold, (train_ids, test_ids) in enumerate(kfold.split(dataset, dataset_y)):\n",
        "    print(f\"FOLD {fold}\")\n",
        "    print(\"--------------------------------\")\n",
        "\n",
        "    # store metrics of each fold\n",
        "    accuracies, precisions, recalls, f1_scores, losses = [], [], [], [], []\n",
        "\n",
        "    # split data\n",
        "    train_subsampler = torch.utils.data.SubsetRandomSampler(train_ids)\n",
        "    test_subsampler = torch.utils.data.SubsetRandomSampler(test_ids)\n",
        "\n",
        "    # data loaders for training and testing data in this fold\n",
        "    train_loader = DataLoader(dataset, batch_size=batch_size, sampler=train_subsampler)\n",
        "    test_loader = DataLoader(dataset, batch_size=batch_size, sampler=test_subsampler)\n",
        "\n",
        "    # set parameters\n",
        "    #input_dim = 1         # ECG data is univariate, so the input dimension is 1\n",
        "    #hidden_dim = 128\n",
        "    #num_layers = 2\n",
        "    num_classes = 5\n",
        "\n",
        "    # initialize model for this fold\n",
        "    model = AttentionOSCNN(num_classes)\n",
        "    model.to(device)\n",
        "    print(model)\n",
        "\n",
        "    # loss function and optimizer\n",
        "    criterion = nn.CrossEntropyLoss()\n",
        "    optimizer = optim.Adam(model.parameters(), lr=0.001)\n",
        "\n",
        "\n",
        "    # train\n",
        "    for epoch in range(num_epochs):\n",
        "        model.train()\n",
        "        batch_losses = []\n",
        "\n",
        "        for i, (inputs, labels) in enumerate(train_loader):\n",
        "            inputs, labels = inputs.to(device), labels.to(device)\n",
        "\n",
        "            optimizer.zero_grad()\n",
        "            outputs = model(inputs)\n",
        "            loss = criterion(outputs, labels)\n",
        "            loss.backward()\n",
        "            optimizer.step()\n",
        "\n",
        "            batch_losses.append(loss.item())\n",
        "\n",
        "            if (i+1) % 100 == 0:\n",
        "                print(f\"Epoch [{epoch+1}/{num_epochs}], Step [{i+1}/{len(train_loader)}], Loss: {loss.item():.4f}\")\n",
        "\n",
        "        # store metrics\n",
        "        accuracy, precision, recall, f1, _, _ = evaluate(model, test_loader)\n",
        "        accuracies.append(accuracy)\n",
        "        precisions.append(precision)\n",
        "        recalls.append(recall)\n",
        "        f1_scores.append(f1)\n",
        "\n",
        "        # Accumulate metrics for each epoch across folds\n",
        "        if fold == 0:\n",
        "            # Initialize lists in the first fold\n",
        "            epoch_acc.append(accuracy)\n",
        "            epoch_prc.append(precision)\n",
        "            epoch_rec.append(recall)\n",
        "            epoch_f1.append(f1)\n",
        "            epoch_losses.append(batch_losses)\n",
        "        else:\n",
        "            # Add to existing totals for subsequent folds\n",
        "            epoch_acc[epoch] += accuracy\n",
        "            epoch_prc[epoch] += precision\n",
        "            epoch_rec[epoch] += recall\n",
        "            epoch_f1[epoch] += f1\n",
        "            epoch_losses[epoch].extend(batch_losses)\n",
        "\n",
        "# Average metrics across all folds for each epoch\n",
        "epoch_acc = [x / k_folds for x in epoch_acc]\n",
        "epoch_prc = [x / k_folds for x in epoch_prc]\n",
        "epoch_rec = [x / k_folds for x in epoch_rec]\n",
        "epoch_f1 = [x / k_folds for x in epoch_f1]\n",
        "epoch_losses = [sum(x) / len(x) for x in epoch_losses]\n",
        "\n",
        "# Print average metrics for each epoch\n",
        "for epoch in range(num_epochs):\n",
        "    print(f\"Epoch {epoch+1} - Avg Accuracy: {epoch_acc[epoch]}, Avg Precision: {epoch_prc[epoch]}, Avg Recall: {epoch_rec[epoch]}, Avg F1 Score: {epoch_f1[epoch]}, Avg Loss: {epoch_losses[epoch]}\")"
      ]
    },
    {
      "cell_type": "code",
      "source": [
        "plot_metrics(epoch_acc, epoch_prc, epoch_rec, epoch_f1, epoch_losses, \"attention_oscnn_metrics\")"
      ],
      "metadata": {
        "id": "AYp8-gXBdqMh",
        "colab": {
          "base_uri": "https://localhost:8080/",
          "height": 591
        },
        "outputId": "2a72a27c-d5ed-4baa-be8b-ea3f0d2e2e9a"
      },
      "execution_count": 13,
      "outputs": [
        {
          "output_type": "display_data",
          "data": {
            "text/plain": [
              "<Figure size 1200x800 with 2 Axes>"
            ],
            "image/png": "[encoded data removed]"
          },
          "metadata": {}
        }
      ]
    },
    {
      "cell_type": "code",
      "source": [
        "import os\n",
        "import zipfile\n",
        "from google.colab import files\n",
        "\n",
        "exclude_dirs = {\n",
        "    \"/content/.config\",\n",
        "    \"/content/tsc_attention\",\n",
        "    \"/content/.config\",\n",
        "    \"/content/.ipynb_checkpoints\",\n",
        "    \"/content/sample_data\",\n",
        "}\n",
        "exclude_files = {\n",
        "    \"heartbeat.zip\",\n",
        "    \"kaggle.json\",\n",
        "    \"mitbih_test.csv\",\n",
        "    \"mitbih_train.csv\",\n",
        "    \"ptbdb_abnormal.csv\",\n",
        "    \"ptbdb_normal.csv\",\n",
        "    \"tsc_oscnn_skf.zip\",\n",
        "}\n",
        "\n",
        "zip_filename = \"/content/tsc_oscnn_skf.zip\"\n",
        "with zipfile.ZipFile(zip_filename, \"w\") as zipf:\n",
        "    for root, dirs, files_ in os.walk(\"/content\"):\n",
        "        dirs[:] = [d for d in dirs if os.path.join(root, d) not in exclude_dirs]\n",
        "\n",
        "        for file in files_:\n",
        "            if file not in exclude_files:\n",
        "                print(file)\n",
        "                file_path = os.path.join(root, file)\n",
        "                zipf.write(file_path)\n",
        "\n",
        "files.download(zip_filename)"
      ],
      "metadata": {
        "id": "AglkvU3SCwvm",
        "colab": {
          "base_uri": "https://localhost:8080/",
          "height": 52
        },
        "outputId": "de1d16a4-18f0-495a-df6b-696e056ec2b5"
      },
      "execution_count": 14,
      "outputs": [
        {
          "output_type": "stream",
          "name": "stdout",
          "text": [
            "attention_oscnn_metrics.png\n",
            "oscnn_metrics.png\n"
          ]
        },
        {
          "output_type": "display_data",
          "data": {
            "text/plain": [
              "<IPython.core.display.Javascript object>"
            ],
            "application/javascript": [
              "\n",
              "    async function download(id, filename, size) {\n",
              "      if (!google.colab.kernel.accessAllowed) {\n",
              "        return;\n",
              "      }\n",
              "      const div = document.createElement('div');\n",
              "      const label = document.createElement('label');\n",
              "      label.textContent = `Downloading \"${filename}\": `;\n",
              "      div.appendChild(label);\n",
              "      const progress = document.createElement('progress');\n",
              "      progress.max = size;\n",
              "      div.appendChild(progress);\n",
              "      document.body.appendChild(div);\n",
              "\n",
              "      const buffers = [];\n",
              "      let downloaded = 0;\n",
              "\n",
              "      const channel = await google.colab.kernel.comms.open(id);\n",
              "      // Send a message to notify the kernel that we're ready.\n",
              "      channel.send({})\n",
              "\n",
              "      for await (const message of channel.messages) {\n",
              "        // Send a message to notify the kernel that we're ready.\n",
              "        channel.send({})\n",
              "        if (message.buffers) {\n",
              "          for (const buffer of message.buffers) {\n",
              "            buffers.push(buffer);\n",
              "            downloaded += buffer.byteLength;\n",
              "            progress.value = downloaded;\n",
              "          }\n",
              "        }\n",
              "      }\n",
              "      const blob = new Blob(buffers, {type: 'application/binary'});\n",
              "      const a = document.createElement('a');\n",
              "      a.href = window.URL.createObjectURL(blob);\n",
              "      a.download = filename;\n",
              "      div.appendChild(a);\n",
              "      a.click();\n",
              "      div.remove();\n",
              "    }\n",
              "  "
            ]
          },
          "metadata": {}
        },
        {
          "output_type": "display_data",
          "data": {
            "text/plain": [
              "<IPython.core.display.Javascript object>"
            ],
            "application/javascript": [
              "download(\"download_33f7fffe-52af-4184-b386-95a72e5e7ef2\", \"tsc_oscnn_skf.zip\", 142265)"
            ]
          },
          "metadata": {}
        }
      ]
    }
  ],
  "metadata": {
    "accelerator": "GPU",
    "colab": {
      "machine_shape": "hm",
      "provenance": [],
      "gpuType": "V100"
    },
    "kernelspec": {
      "display_name": "Python 3",
      "name": "python3"
    },
    "language_info": {
      "name": "python"
    }
  },
  "nbformat": 4,
  "nbformat_minor": 0
}