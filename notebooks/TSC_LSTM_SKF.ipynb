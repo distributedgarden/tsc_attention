{
  "cells": [
    {
      "cell_type": "markdown",
      "metadata": {
        "id": "JEvTpK2o6BH6"
      },
      "source": [
        "# Set Up\n",
        "- Download the ECG dataset hosted on kaggle. **This step requires a Kaggle API token.**\n",
        "- Clone the project repository to access the experiment models"
      ]
    },
    {
      "cell_type": "code",
      "source": [
        "!pip install -q kaggle\n",
        "!pip install lime\n",
        "!pip install torchviz"
      ],
      "metadata": {
        "colab": {
          "base_uri": "https://localhost:8080/"
        },
        "outputId": "a0b12a89-0f6b-49b0-97cd-f5662d926efb",
        "id": "1JOqgs0FeJHD"
      },
      "execution_count": 1,
      "outputs": [
        {
          "output_type": "stream",
          "name": "stdout",
          "text": [
            "Collecting lime\n",
            "  Downloading lime-0.2.0.1.tar.gz (275 kB)\n",
            "\u001b[?25l     \u001b[90m━━━━━━━━━━━━━━━━━━━━━━━━━━━━━━━━━━━━━━━━\u001b[0m \u001b[32m0.0/275.7 kB\u001b[0m \u001b[31m?\u001b[0m eta \u001b[36m-:--:--\u001b[0m\r\u001b[2K     \u001b[91m━━━━━━━━━━━━━━━━━━━━━━━━━\u001b[0m\u001b[90m╺\u001b[0m\u001b[90m━━━━━━━━━━━━━━\u001b[0m \u001b[32m174.1/275.7 kB\u001b[0m \u001b[31m5.0 MB/s\u001b[0m eta \u001b[36m0:00:01\u001b[0m\r\u001b[2K     \u001b[90m━━━━━━━━━━━━━━━━━━━━━━━━━━━━━━━━━━━━━━━━\u001b[0m \u001b[32m275.7/275.7 kB\u001b[0m \u001b[31m5.3 MB/s\u001b[0m eta \u001b[36m0:00:00\u001b[0m\n",
            "\u001b[?25h  Preparing metadata (setup.py) ... \u001b[?25l\u001b[?25hdone\n",
            "Requirement already satisfied: matplotlib in /usr/local/lib/python3.10/dist-packages (from lime) (3.7.1)\n",
            "Requirement already satisfied: numpy in /usr/local/lib/python3.10/dist-packages (from lime) (1.23.5)\n",
            "Requirement already satisfied: scipy in /usr/local/lib/python3.10/dist-packages (from lime) (1.11.4)\n",
            "Requirement already satisfied: tqdm in /usr/local/lib/python3.10/dist-packages (from lime) (4.66.1)\n",
            "Requirement already satisfied: scikit-learn>=0.18 in /usr/local/lib/python3.10/dist-packages (from lime) (1.2.2)\n",
            "Requirement already satisfied: scikit-image>=0.12 in /usr/local/lib/python3.10/dist-packages (from lime) (0.19.3)\n",
            "Requirement already satisfied: networkx>=2.2 in /usr/local/lib/python3.10/dist-packages (from scikit-image>=0.12->lime) (3.2.1)\n",
            "Requirement already satisfied: pillow!=7.1.0,!=7.1.1,!=8.3.0,>=6.1.0 in /usr/local/lib/python3.10/dist-packages (from scikit-image>=0.12->lime) (9.4.0)\n",
            "Requirement already satisfied: imageio>=2.4.1 in /usr/local/lib/python3.10/dist-packages (from scikit-image>=0.12->lime) (2.31.6)\n",
            "Requirement already satisfied: tifffile>=2019.7.26 in /usr/local/lib/python3.10/dist-packages (from scikit-image>=0.12->lime) (2023.9.26)\n",
            "Requirement already satisfied: PyWavelets>=1.1.1 in /usr/local/lib/python3.10/dist-packages (from scikit-image>=0.12->lime) (1.5.0)\n",
            "Requirement already satisfied: packaging>=20.0 in /usr/local/lib/python3.10/dist-packages (from scikit-image>=0.12->lime) (23.2)\n",
            "Requirement already satisfied: joblib>=1.1.1 in /usr/local/lib/python3.10/dist-packages (from scikit-learn>=0.18->lime) (1.3.2)\n",
            "Requirement already satisfied: threadpoolctl>=2.0.0 in /usr/local/lib/python3.10/dist-packages (from scikit-learn>=0.18->lime) (3.2.0)\n",
            "Requirement already satisfied: contourpy>=1.0.1 in /usr/local/lib/python3.10/dist-packages (from matplotlib->lime) (1.2.0)\n",
            "Requirement already satisfied: cycler>=0.10 in /usr/local/lib/python3.10/dist-packages (from matplotlib->lime) (0.12.1)\n",
            "Requirement already satisfied: fonttools>=4.22.0 in /usr/local/lib/python3.10/dist-packages (from matplotlib->lime) (4.45.1)\n",
            "Requirement already satisfied: kiwisolver>=1.0.1 in /usr/local/lib/python3.10/dist-packages (from matplotlib->lime) (1.4.5)\n",
            "Requirement already satisfied: pyparsing>=2.3.1 in /usr/local/lib/python3.10/dist-packages (from matplotlib->lime) (3.1.1)\n",
            "Requirement already satisfied: python-dateutil>=2.7 in /usr/local/lib/python3.10/dist-packages (from matplotlib->lime) (2.8.2)\n",
            "Requirement already satisfied: six>=1.5 in /usr/local/lib/python3.10/dist-packages (from python-dateutil>=2.7->matplotlib->lime) (1.16.0)\n",
            "Building wheels for collected packages: lime\n",
            "  Building wheel for lime (setup.py) ... \u001b[?25l\u001b[?25hdone\n",
            "  Created wheel for lime: filename=lime-0.2.0.1-py3-none-any.whl size=283835 sha256=bbb96534db34a5fe34d8b34f4d0270b2467ac80bfba1a95ddbb243c801c13a74\n",
            "  Stored in directory: /root/.cache/pip/wheels/fd/a2/af/9ac0a1a85a27f314a06b39e1f492bee1547d52549a4606ed89\n",
            "Successfully built lime\n",
            "Installing collected packages: lime\n",
            "Successfully installed lime-0.2.0.1\n",
            "Collecting torchviz\n",
            "  Downloading torchviz-0.0.2.tar.gz (4.9 kB)\n",
            "  Preparing metadata (setup.py) ... \u001b[?25l\u001b[?25hdone\n",
            "Requirement already satisfied: torch in /usr/local/lib/python3.10/dist-packages (from torchviz) (2.1.0+cu118)\n",
            "Requirement already satisfied: graphviz in /usr/local/lib/python3.10/dist-packages (from torchviz) (0.20.1)\n",
            "Requirement already satisfied: filelock in /usr/local/lib/python3.10/dist-packages (from torch->torchviz) (3.13.1)\n",
            "Requirement already satisfied: typing-extensions in /usr/local/lib/python3.10/dist-packages (from torch->torchviz) (4.5.0)\n",
            "Requirement already satisfied: sympy in /usr/local/lib/python3.10/dist-packages (from torch->torchviz) (1.12)\n",
            "Requirement already satisfied: networkx in /usr/local/lib/python3.10/dist-packages (from torch->torchviz) (3.2.1)\n",
            "Requirement already satisfied: jinja2 in /usr/local/lib/python3.10/dist-packages (from torch->torchviz) (3.1.2)\n",
            "Requirement already satisfied: fsspec in /usr/local/lib/python3.10/dist-packages (from torch->torchviz) (2023.6.0)\n",
            "Requirement already satisfied: triton==2.1.0 in /usr/local/lib/python3.10/dist-packages (from torch->torchviz) (2.1.0)\n",
            "Requirement already satisfied: MarkupSafe>=2.0 in /usr/local/lib/python3.10/dist-packages (from jinja2->torch->torchviz) (2.1.3)\n",
            "Requirement already satisfied: mpmath>=0.19 in /usr/local/lib/python3.10/dist-packages (from sympy->torch->torchviz) (1.3.0)\n",
            "Building wheels for collected packages: torchviz\n",
            "  Building wheel for torchviz (setup.py) ... \u001b[?25l\u001b[?25hdone\n",
            "  Created wheel for torchviz: filename=torchviz-0.0.2-py3-none-any.whl size=4131 sha256=8bc7fb95e37875f06d865feabf6130b69571392e18c372cdf6aac607fac0e9fc\n",
            "  Stored in directory: /root/.cache/pip/wheels/4c/97/88/a02973217949e0db0c9f4346d154085f4725f99c4f15a87094\n",
            "Successfully built torchviz\n",
            "Installing collected packages: torchviz\n",
            "Successfully installed torchviz-0.0.2\n"
          ]
        }
      ]
    },
    {
      "cell_type": "code",
      "execution_count": 2,
      "metadata": {
        "colab": {
          "base_uri": "https://localhost:8080/",
          "height": 92
        },
        "id": "DwW7WKWWtJhI",
        "outputId": "cf62b238-1c0e-43b3-9c3a-25d3536420b6"
      },
      "outputs": [
        {
          "output_type": "display_data",
          "data": {
            "text/plain": [
              "<IPython.core.display.HTML object>"
            ],
            "text/html": [
              "\n",
              "     <input type=\"file\" id=\"files-f83c8f49-82a7-4f56-80e5-8644ec17d305\" name=\"files[]\" multiple disabled\n",
              "        style=\"border:none\" />\n",
              "     <output id=\"result-f83c8f49-82a7-4f56-80e5-8644ec17d305\">\n",
              "      Upload widget is only available when the cell has been executed in the\n",
              "      current browser session. Please rerun this cell to enable.\n",
              "      </output>\n",
              "      <script>// Copyright 2017 Google LLC\n",
              "//\n",
              "// Licensed under the Apache License, Version 2.0 (the \"License\");\n",
              "// you may not use this file except in compliance with the License.\n",
              "// You may obtain a copy of the License at\n",
              "//\n",
              "//      http://www.apache.org/licenses/LICENSE-2.0\n",
              "//\n",
              "// Unless required by applicable law or agreed to in writing, software\n",
              "// distributed under the License is distributed on an \"AS IS\" BASIS,\n",
              "// WITHOUT WARRANTIES OR CONDITIONS OF ANY KIND, either express or implied.\n",
              "// See the License for the specific language governing permissions and\n",
              "// limitations under the License.\n",
              "\n",
              "/**\n",
              " * @fileoverview Helpers for google.colab Python module.\n",
              " */\n",
              "(function(scope) {\n",
              "function span(text, styleAttributes = {}) {\n",
              "  const element = document.createElement('span');\n",
              "  element.textContent = text;\n",
              "  for (const key of Object.keys(styleAttributes)) {\n",
              "    element.style[key] = styleAttributes[key];\n",
              "  }\n",
              "  return element;\n",
              "}\n",
              "\n",
              "// Max number of bytes which will be uploaded at a time.\n",
              "const MAX_PAYLOAD_SIZE = 100 * 1024;\n",
              "\n",
              "function _uploadFiles(inputId, outputId) {\n",
              "  const steps = uploadFilesStep(inputId, outputId);\n",
              "  const outputElement = document.getElementById(outputId);\n",
              "  // Cache steps on the outputElement to make it available for the next call\n",
              "  // to uploadFilesContinue from Python.\n",
              "  outputElement.steps = steps;\n",
              "\n",
              "  return _uploadFilesContinue(outputId);\n",
              "}\n",
              "\n",
              "// This is roughly an async generator (not supported in the browser yet),\n",
              "// where there are multiple asynchronous steps and the Python side is going\n",
              "// to poll for completion of each step.\n",
              "// This uses a Promise to block the python side on completion of each step,\n",
              "// then passes the result of the previous step as the input to the next step.\n",
              "function _uploadFilesContinue(outputId) {\n",
              "  const outputElement = document.getElementById(outputId);\n",
              "  const steps = outputElement.steps;\n",
              "\n",
              "  const next = steps.next(outputElement.lastPromiseValue);\n",
              "  return Promise.resolve(next.value.promise).then((value) => {\n",
              "    // Cache the last promise value to make it available to the next\n",
              "    // step of the generator.\n",
              "    outputElement.lastPromiseValue = value;\n",
              "    return next.value.response;\n",
              "  });\n",
              "}\n",
              "\n",
              "/**\n",
              " * Generator function which is called between each async step of the upload\n",
              " * process.\n",
              " * @param {string} inputId Element ID of the input file picker element.\n",
              " * @param {string} outputId Element ID of the output display.\n",
              " * @return {!Iterable<!Object>} Iterable of next steps.\n",
              " */\n",
              "function* uploadFilesStep(inputId, outputId) {\n",
              "  const inputElement = document.getElementById(inputId);\n",
              "  inputElement.disabled = false;\n",
              "\n",
              "  const outputElement = document.getElementById(outputId);\n",
              "  outputElement.innerHTML = '';\n",
              "\n",
              "  const pickedPromise = new Promise((resolve) => {\n",
              "    inputElement.addEventListener('change', (e) => {\n",
              "      resolve(e.target.files);\n",
              "    });\n",
              "  });\n",
              "\n",
              "  const cancel = document.createElement('button');\n",
              "  inputElement.parentElement.appendChild(cancel);\n",
              "  cancel.textContent = 'Cancel upload';\n",
              "  const cancelPromise = new Promise((resolve) => {\n",
              "    cancel.onclick = () => {\n",
              "      resolve(null);\n",
              "    };\n",
              "  });\n",
              "\n",
              "  // Wait for the user to pick the files.\n",
              "  const files = yield {\n",
              "    promise: Promise.race([pickedPromise, cancelPromise]),\n",
              "    response: {\n",
              "      action: 'starting',\n",
              "    }\n",
              "  };\n",
              "\n",
              "  cancel.remove();\n",
              "\n",
              "  // Disable the input element since further picks are not allowed.\n",
              "  inputElement.disabled = true;\n",
              "\n",
              "  if (!files) {\n",
              "    return {\n",
              "      response: {\n",
              "        action: 'complete',\n",
              "      }\n",
              "    };\n",
              "  }\n",
              "\n",
              "  for (const file of files) {\n",
              "    const li = document.createElement('li');\n",
              "    li.append(span(file.name, {fontWeight: 'bold'}));\n",
              "    li.append(span(\n",
              "        `(${file.type || 'n/a'}) - ${file.size} bytes, ` +\n",
              "        `last modified: ${\n",
              "            file.lastModifiedDate ? file.lastModifiedDate.toLocaleDateString() :\n",
              "                                    'n/a'} - `));\n",
              "    const percent = span('0% done');\n",
              "    li.appendChild(percent);\n",
              "\n",
              "    outputElement.appendChild(li);\n",
              "\n",
              "    const fileDataPromise = new Promise((resolve) => {\n",
              "      const reader = new FileReader();\n",
              "      reader.onload = (e) => {\n",
              "        resolve(e.target.result);\n",
              "      };\n",
              "      reader.readAsArrayBuffer(file);\n",
              "    });\n",
              "    // Wait for the data to be ready.\n",
              "    let fileData = yield {\n",
              "      promise: fileDataPromise,\n",
              "      response: {\n",
              "        action: 'continue',\n",
              "      }\n",
              "    };\n",
              "\n",
              "    // Use a chunked sending to avoid message size limits. See b/62115660.\n",
              "    let position = 0;\n",
              "    do {\n",
              "      const length = Math.min(fileData.byteLength - position, MAX_PAYLOAD_SIZE);\n",
              "      const chunk = new Uint8Array(fileData, position, length);\n",
              "      position += length;\n",
              "\n",
              "      const base64 = btoa(String.fromCharCode.apply(null, chunk));\n",
              "      yield {\n",
              "        response: {\n",
              "          action: 'append',\n",
              "          file: file.name,\n",
              "          data: base64,\n",
              "        },\n",
              "      };\n",
              "\n",
              "      let percentDone = fileData.byteLength === 0 ?\n",
              "          100 :\n",
              "          Math.round((position / fileData.byteLength) * 100);\n",
              "      percent.textContent = `${percentDone}% done`;\n",
              "\n",
              "    } while (position < fileData.byteLength);\n",
              "  }\n",
              "\n",
              "  // All done.\n",
              "  yield {\n",
              "    response: {\n",
              "      action: 'complete',\n",
              "    }\n",
              "  };\n",
              "}\n",
              "\n",
              "scope.google = scope.google || {};\n",
              "scope.google.colab = scope.google.colab || {};\n",
              "scope.google.colab._files = {\n",
              "  _uploadFiles,\n",
              "  _uploadFilesContinue,\n",
              "};\n",
              "})(self);\n",
              "</script> "
            ]
          },
          "metadata": {}
        },
        {
          "output_type": "stream",
          "name": "stdout",
          "text": [
            "Saving kaggle.json to kaggle.json\n",
            "-rw-r--r-- 1 root root 67 Dec  8 23:40 kaggle.json\n"
          ]
        }
      ],
      "source": [
        "from google.colab import files\n",
        "\n",
        "uploaded = files.upload()\n",
        "\n",
        "# make sure there is a kaggle.json file\n",
        "!ls -lha kaggle.json\n",
        "\n",
        "# install the Kaggle API token\n",
        "!mkdir -p ~/.kaggle\n",
        "!cp kaggle.json ~/.kaggle/\n",
        "!chmod 600 ~/.kaggle/kaggle.json"
      ]
    },
    {
      "cell_type": "code",
      "execution_count": 3,
      "metadata": {
        "colab": {
          "base_uri": "https://localhost:8080/"
        },
        "id": "jlWuDgwUuLsz",
        "outputId": "2a5dd139-d0e7-440b-c55e-3995bf531c57"
      },
      "outputs": [
        {
          "output_type": "stream",
          "name": "stdout",
          "text": [
            "Downloading heartbeat.zip to /content\n",
            " 96% 95.0M/98.8M [00:02<00:00, 43.9MB/s]\n",
            "100% 98.8M/98.8M [00:02<00:00, 34.6MB/s]\n",
            "Cloning into 'tsc_attention'...\n",
            "remote: Enumerating objects: 386, done.\u001b[K\n",
            "remote: Counting objects: 100% (183/183), done.\u001b[K\n",
            "remote: Compressing objects: 100% (114/114), done.\u001b[K\n",
            "remote: Total 386 (delta 92), reused 106 (delta 39), pack-reused 203\u001b[K\n",
            "Receiving objects: 100% (386/386), 39.61 MiB | 12.78 MiB/s, done.\n",
            "Resolving deltas: 100% (203/203), done.\n"
          ]
        }
      ],
      "source": [
        "# download and unzip the ECG dataset hosted on kaggle\n",
        "!kaggle datasets download -d shayanfazeli/heartbeat\n",
        "!unzip -q heartbeat.zip\n",
        "\n",
        "# clone the project github repository\n",
        "!git clone https://github.com/distributedgarden/tsc_attention.git"
      ]
    },
    {
      "cell_type": "markdown",
      "metadata": {
        "id": "CQcNjrlX3sMh"
      },
      "source": [
        "# LSTM Experiment\n",
        "### Description:\n",
        "Use the ECG dataset and stratified k-fold cross validation to train the basic LSTM model and evaluate its performance.\n",
        "\n",
        "\n",
        "### Steps:\n",
        "1. split the ECG data into train and test subsets\n",
        "1. preprocess the subsets (standard scaling)\n",
        "1. convert to pytorch tensors\n",
        "1. set up the LSTM model\n",
        "1. train the LSTM model\n",
        "1. evaluate performance with accuracy, F1 score, precision, recall"
      ]
    },
    {
      "cell_type": "code",
      "execution_count": 4,
      "metadata": {
        "colab": {
          "base_uri": "https://localhost:8080/"
        },
        "id": "M3VZ0VQNvWmr",
        "outputId": "3dbb26d9-e9de-4021-96c4-e39aff6ac834"
      },
      "outputs": [
        {
          "output_type": "stream",
          "name": "stdout",
          "text": [
            "/content/tsc_attention\n",
            "/content\n"
          ]
        }
      ],
      "source": [
        "import logging\n",
        "import lime\n",
        "import lime.lime_tabular\n",
        "import matplotlib.pyplot as plt\n",
        "import numpy as np\n",
        "import pandas as pd\n",
        "import seaborn as sns\n",
        "import torch\n",
        "import torch.nn as nn\n",
        "import torch.nn.functional as F\n",
        "import torch.optim as optim\n",
        "\n",
        "from sklearn.model_selection import train_test_split, KFold, StratifiedKFold\n",
        "from sklearn.preprocessing import StandardScaler\n",
        "from sklearn.metrics import accuracy_score, precision_score, recall_score, f1_score, roc_curve, auc\n",
        "from torch.autograd import Variable\n",
        "from torch.utils.data import DataLoader, TensorDataset\n",
        "from torchviz import make_dot\n",
        "from IPython.core.display import HTML\n",
        "from itertools import cycle\n",
        "from functools import partial\n",
        "\n",
        "\n",
        "%cd tsc_attention\n",
        "from src.models.lstm import LSTM\n",
        "from src.models.attention_lstm import AttentionLSTM\n",
        "from src.utils import (\n",
        "    evaluate,\n",
        "    plot_metrics,\n",
        "    plot_incorrect_predictions,\n",
        "    visualize_model_graph,\n",
        "    sample,\n",
        "    batch_predict,\n",
        "    explain_instance,\n",
        "    roc_plot,\n",
        "    generate_saliency_map,\n",
        "    saliency_maps,\n",
        "    overlay_saliency_maps,\n",
        ")\n",
        "%cd ..\n",
        "\n"
      ]
    },
    {
      "cell_type": "code",
      "source": [
        "logging.root.handlers = []\n",
        "\n",
        "logging.basicConfig(\n",
        "    level=logging.INFO,\n",
        "    format=\"%(asctime)s - %(name)s - %(levelname)s - %(message)s\"\n",
        ")\n",
        "\n",
        "logging.info(\"Test\")"
      ],
      "metadata": {
        "colab": {
          "base_uri": "https://localhost:8080/"
        },
        "id": "Xh-UecC_cH7t",
        "outputId": "103d84da-5394-4cfa-8069-84c0ee7a19d6"
      },
      "execution_count": 5,
      "outputs": [
        {
          "output_type": "stream",
          "name": "stderr",
          "text": [
            "2023-12-08 23:40:22,194 - root - INFO - Test\n"
          ]
        }
      ]
    },
    {
      "cell_type": "code",
      "source": [
        "device = torch.device(\"cuda\" if torch.cuda.is_available() else \"cpu\")"
      ],
      "metadata": {
        "id": "wqpV9QVCE2-e"
      },
      "execution_count": 6,
      "outputs": []
    },
    {
      "cell_type": "code",
      "execution_count": 7,
      "metadata": {
        "colab": {
          "base_uri": "https://localhost:8080/"
        },
        "id": "GCmYXE8euY8s",
        "outputId": "c1147c75-c5dd-49d3-8a6c-6da7ab73eddd"
      },
      "outputs": [
        {
          "output_type": "stream",
          "name": "stdout",
          "text": [
            "87554\n",
            "21892\n",
            "187\n",
            "[0.96011394 0.86324787 0.46153846 0.1965812  0.0940171  0.12535612\n",
            " 0.0997151  0.08831909 0.07407407 0.08262108 0.07407407 0.06267806\n",
            " 0.06552707 0.06552707 0.06267806 0.07692308 0.07122507 0.08262108\n",
            " 0.09116809 0.09686609 0.08262108 0.08262108 0.09116809 0.10541311\n",
            " 0.12250713 0.14814815 0.18233618 0.19373219 0.21367522 0.20797721\n",
            " 0.22222222 0.25356126 0.27065527 0.28774929 0.28490028 0.29344729\n",
            " 0.25641027 0.24786325 0.18803419 0.14529915 0.10826211 0.08262108\n",
            " 0.07977208 0.07407407 0.01424501 0.01139601 0.06267806 0.05128205\n",
            " 0.05698006 0.04843305 0.02849003 0.03133903 0.07692308 0.02564103\n",
            " 0.02849003 0.03703704 0.0940171  0.08547009 0.03988604 0.05982906\n",
            " 0.07407407 0.07977208 0.09116809 0.0997151  0.10826211 0.08831909\n",
            " 0.09116809 0.06552707 0.08547009 0.08831909 0.07692308 0.08262108\n",
            " 0.09686609 0.0997151  0.13390313 0.1025641  0.03988604 0.06552707\n",
            " 0.07407407 0.08262108 0.08547009 0.05698006 0.04558405 0.1025641\n",
            " 0.03988604 0.01139601 0.01709402 0.03133903 0.00569801 0.00854701\n",
            " 0.03133903 0.05128205 0.05698006 0.08831909 0.06552707 0.01139601\n",
            " 0.05698006 0.03988604 0.03988604 0.02564103 0.002849   0.01994302\n",
            " 0.02564103 0.01139601 0.02849003 0.01994302 0.02279202 0.03418804\n",
            " 0.01424501 0.05128205 0.06837607 0.13960114 0.28774929 0.52706552\n",
            " 0.77777779 1.         0.8888889  0.49287748 0.19088319 0.08831909\n",
            " 0.06267806 0.03418804 0.         0.03418804 0.01709402 0.002849\n",
            " 0.         0.04843305 0.04843305 0.05413105 0.04273504 0.05413105\n",
            " 0.05982906 0.06267806 0.07122507 0.07692308 0.0997151  0.\n",
            " 0.         0.         0.         0.         0.         0.\n",
            " 0.         0.         0.         0.         0.         0.\n",
            " 0.         0.         0.         0.         0.         0.\n",
            " 0.         0.         0.         0.         0.         0.\n",
            " 0.         0.         0.         0.         0.         0.\n",
            " 0.         0.         0.         0.         0.         0.\n",
            " 0.         0.         0.         0.         0.         0.\n",
            " 0.         0.         0.         0.         0.         0.\n",
            " 0.        ]\n"
          ]
        }
      ],
      "source": [
        "# load data\n",
        "train_df = pd.read_csv(\"mitbih_train.csv\", header=None)\n",
        "test_df = pd.read_csv(\"mitbih_test.csv\", header=None)\n",
        "\n",
        "# last column is the label\n",
        "X_train = train_df.iloc[:, :-1].values\n",
        "y_train = train_df.iloc[:, -1].values\n",
        "X_test = test_df.iloc[:, :-1].values\n",
        "y_test = test_df.iloc[:, -1].values\n",
        "\n",
        "print(len(train_df))\n",
        "print(len(test_df))\n",
        "print(len(X_train[1]))\n",
        "print(X_train[1])"
      ]
    },
    {
      "cell_type": "code",
      "execution_count": 8,
      "metadata": {
        "id": "t_1ulp5cvQUl"
      },
      "outputs": [],
      "source": [
        "# normalize the ECG signals\n",
        "scaler = StandardScaler()\n",
        "X_train = scaler.fit_transform(X_train)\n",
        "X_test = scaler.transform(X_test)\n",
        "\n",
        "# concatenate the data\n",
        "X = np.concatenate([X_train, X_test], axis=0)\n",
        "y = np.concatenate([y_train, y_test], axis=0)\n",
        "\n",
        "# convert to tensors\n",
        "X_tensor = torch.tensor(X).float().unsqueeze(2)  # adding channel dimension\n",
        "y_tensor = torch.tensor(y).long()\n",
        "\n",
        "# create a single dataset\n",
        "dataset = TensorDataset(X_tensor, y_tensor)\n",
        "dataset_y = np.array(dataset.tensors[1])"
      ]
    },
    {
      "cell_type": "code",
      "execution_count": 9,
      "metadata": {
        "id": "x8z97nGCgP4F"
      },
      "outputs": [],
      "source": [
        "# cross-validation parameters\n",
        "num_epochs = 10\n",
        "k_folds = 10\n",
        "#kfold = KFold(n_splits=k_folds, shuffle=True)\n",
        "kfold = StratifiedKFold(n_splits=k_folds, shuffle=True, random_state=42)\n",
        "batch_size = 32"
      ]
    },
    {
      "cell_type": "code",
      "execution_count": 10,
      "metadata": {
        "colab": {
          "base_uri": "https://localhost:8080/"
        },
        "id": "O1NKhOGT3_CZ",
        "outputId": "a0b35eea-f7b9-4306-95a3-aa6d3f4657f8"
      },
      "outputs": [
        {
          "metadata": {
            "tags": null
          },
          "name": "stdout",
          "output_type": "stream",
          "text": [
            "FOLD 0\n",
            "--------------------------------\n",
            "LSTM(\n",
            "  (lstm): LSTM(1, 128, num_layers=2, batch_first=True)\n",
            "  (fc): Linear(in_features=128, out_features=5, bias=True)\n",
            ")\n",
            "Epoch [1/10], Step [100/3079], Loss: 0.6216\n",
            "Epoch [1/10], Step [200/3079], Loss: 0.7367\n",
            "Epoch [1/10], Step [300/3079], Loss: 0.4436\n",
            "Epoch [1/10], Step [400/3079], Loss: 0.8572\n",
            "Epoch [1/10], Step [500/3079], Loss: 0.3176\n",
            "Epoch [1/10], Step [600/3079], Loss: 0.2729\n",
            "Epoch [1/10], Step [700/3079], Loss: 0.6514\n",
            "Epoch [1/10], Step [800/3079], Loss: 0.7351\n",
            "Epoch [1/10], Step [900/3079], Loss: 0.8326\n",
            "Epoch [1/10], Step [1000/3079], Loss: 0.1869\n",
            "Epoch [1/10], Step [1100/3079], Loss: 1.2093\n",
            "Epoch [1/10], Step [1200/3079], Loss: 0.1946\n",
            "Epoch [1/10], Step [1300/3079], Loss: 0.5583\n",
            "Epoch [1/10], Step [1400/3079], Loss: 0.4635\n",
            "Epoch [1/10], Step [1500/3079], Loss: 0.3677\n",
            "Epoch [1/10], Step [1600/3079], Loss: 0.5225\n",
            "Epoch [1/10], Step [1700/3079], Loss: 0.2508\n",
            "Epoch [1/10], Step [1800/3079], Loss: 0.4091\n",
            "Epoch [1/10], Step [1900/3079], Loss: 0.5384\n",
            "Epoch [1/10], Step [2000/3079], Loss: 0.2541\n",
            "Epoch [1/10], Step [2100/3079], Loss: 0.4923\n",
            "Epoch [1/10], Step [2200/3079], Loss: 0.2201\n",
            "Epoch [1/10], Step [2300/3079], Loss: 0.5414\n",
            "Epoch [1/10], Step [2400/3079], Loss: 0.2855\n",
            "Epoch [1/10], Step [2500/3079], Loss: 0.2126\n",
            "Epoch [1/10], Step [2600/3079], Loss: 0.4372\n",
            "Epoch [1/10], Step [2700/3079], Loss: 0.3977\n",
            "Epoch [1/10], Step [2800/3079], Loss: 0.2278\n",
            "Epoch [1/10], Step [2900/3079], Loss: 0.2482\n",
            "Epoch [1/10], Step [3000/3079], Loss: 0.2976\n"
          ]
        },
        {
          "metadata": {
            "tags": null
          },
          "name": "stderr",
          "output_type": "stream",
          "text": [
            "/usr/local/lib/python3.10/dist-packages/sklearn/metrics/_classification.py:1344: UndefinedMetricWarning: Precision is ill-defined and being set to 0.0 in labels with no predicted samples. Use `zero_division` parameter to control this behavior.\n",
            "  _warn_prf(average, modifier, msg_start, len(result))\n",
            "2023-12-08 23:40:53,020 - root - INFO - Accuracy: 91.83%\n",
            "2023-12-08 23:40:53,021 - root - INFO - Precision: 0.8859\n",
            "2023-12-08 23:40:53,022 - root - INFO - Recall: 0.9183\n",
            "2023-12-08 23:40:53,023 - root - INFO - F1 Score: 0.8995\n"
          ]
        },
        {
          "metadata": {
            "tags": null
          },
          "name": "stdout",
          "output_type": "stream",
          "text": [
            "Epoch [2/10], Step [100/3079], Loss: 0.1858\n",
            "Epoch [2/10], Step [200/3079], Loss: 0.3371\n",
            "Epoch [2/10], Step [300/3079], Loss: 0.4346\n",
            "Epoch [2/10], Step [400/3079], Loss: 0.1732\n",
            "Epoch [2/10], Step [500/3079], Loss: 0.5001\n",
            "Epoch [2/10], Step [600/3079], Loss: 0.2044\n",
            "Epoch [2/10], Step [700/3079], Loss: 0.2685\n",
            "Epoch [2/10], Step [800/3079], Loss: 0.2677\n",
            "Epoch [2/10], Step [900/3079], Loss: 0.2725\n",
            "Epoch [2/10], Step [1000/3079], Loss: 0.2947\n",
            "Epoch [2/10], Step [1100/3079], Loss: 0.1430\n",
            "Epoch [2/10], Step [1200/3079], Loss: 0.1972\n",
            "Epoch [2/10], Step [1300/3079], Loss: 0.0604\n",
            "Epoch [2/10], Step [1400/3079], Loss: 0.6006\n",
            "Epoch [2/10], Step [1500/3079], Loss: 0.1372\n",
            "Epoch [2/10], Step [1600/3079], Loss: 0.3527\n",
            "Epoch [2/10], Step [1700/3079], Loss: 0.0473\n",
            "Epoch [2/10], Step [1800/3079], Loss: 0.2126\n",
            "Epoch [2/10], Step [1900/3079], Loss: 0.0617\n",
            "Epoch [2/10], Step [2000/3079], Loss: 0.0586\n",
            "Epoch [2/10], Step [2100/3079], Loss: 0.2383\n",
            "Epoch [2/10], Step [2200/3079], Loss: 0.3458\n",
            "Epoch [2/10], Step [2300/3079], Loss: 0.1938\n",
            "Epoch [2/10], Step [2400/3079], Loss: 0.0925\n",
            "Epoch [2/10], Step [2500/3079], Loss: 0.3388\n",
            "Epoch [2/10], Step [2600/3079], Loss: 0.0787\n",
            "Epoch [2/10], Step [2700/3079], Loss: 0.2834\n",
            "Epoch [2/10], Step [2800/3079], Loss: 0.1616\n",
            "Epoch [2/10], Step [2900/3079], Loss: 0.2265\n",
            "Epoch [2/10], Step [3000/3079], Loss: 0.0891\n"
          ]
        },
        {
          "metadata": {
            "tags": null
          },
          "name": "stderr",
          "output_type": "stream",
          "text": [
            "/usr/local/lib/python3.10/dist-packages/sklearn/metrics/_classification.py:1344: UndefinedMetricWarning: Precision is ill-defined and being set to 0.0 in labels with no predicted samples. Use `zero_division` parameter to control this behavior.\n",
            "  _warn_prf(average, modifier, msg_start, len(result))\n",
            "2023-12-08 23:41:07,519 - root - INFO - Accuracy: 94.50%\n",
            "2023-12-08 23:41:07,520 - root - INFO - Precision: 0.9377\n",
            "2023-12-08 23:41:07,521 - root - INFO - Recall: 0.9450\n",
            "2023-12-08 23:41:07,522 - root - INFO - F1 Score: 0.9325\n"
          ]
        },
        {
          "metadata": {
            "tags": null
          },
          "name": "stdout",
          "output_type": "stream",
          "text": [
            "Epoch [3/10], Step [100/3079], Loss: 0.6376\n",
            "Epoch [3/10], Step [200/3079], Loss: 0.0387\n",
            "Epoch [3/10], Step [300/3079], Loss: 0.2143\n",
            "Epoch [3/10], Step [400/3079], Loss: 0.1273\n",
            "Epoch [3/10], Step [500/3079], Loss: 0.0923\n",
            "Epoch [3/10], Step [600/3079], Loss: 0.1192\n",
            "Epoch [3/10], Step [700/3079], Loss: 0.5036\n",
            "Epoch [3/10], Step [800/3079], Loss: 0.2997\n",
            "Epoch [3/10], Step [900/3079], Loss: 0.2298\n",
            "Epoch [3/10], Step [1000/3079], Loss: 0.1572\n",
            "Epoch [3/10], Step [1100/3079], Loss: 0.1903\n",
            "Epoch [3/10], Step [1200/3079], Loss: 0.1805\n",
            "Epoch [3/10], Step [1300/3079], Loss: 0.2283\n",
            "Epoch [3/10], Step [1400/3079], Loss: 0.1594\n",
            "Epoch [3/10], Step [1500/3079], Loss: 0.2977\n",
            "Epoch [3/10], Step [1600/3079], Loss: 0.3555\n",
            "Epoch [3/10], Step [1700/3079], Loss: 0.3133\n",
            "Epoch [3/10], Step [1800/3079], Loss: 0.4211\n",
            "Epoch [3/10], Step [1900/3079], Loss: 0.0593\n",
            "Epoch [3/10], Step [2000/3079], Loss: 0.1327\n",
            "Epoch [3/10], Step [2100/3079], Loss: 0.4729\n",
            "Epoch [3/10], Step [2200/3079], Loss: 0.5708\n",
            "Epoch [3/10], Step [2300/3079], Loss: 0.0673\n",
            "Epoch [3/10], Step [2400/3079], Loss: 0.4478\n",
            "Epoch [3/10], Step [2500/3079], Loss: 0.1644\n",
            "Epoch [3/10], Step [2600/3079], Loss: 0.3096\n",
            "Epoch [3/10], Step [2700/3079], Loss: 0.4782\n",
            "Epoch [3/10], Step [2800/3079], Loss: 0.0464\n",
            "Epoch [3/10], Step [2900/3079], Loss: 0.3875\n",
            "Epoch [3/10], Step [3000/3079], Loss: 0.2514\n"
          ]
        },
        {
          "metadata": {
            "tags": null
          },
          "name": "stderr",
          "output_type": "stream",
          "text": [
            "2023-12-08 23:41:21,745 - root - INFO - Accuracy: 94.94%\n",
            "2023-12-08 23:41:21,746 - root - INFO - Precision: 0.9454\n",
            "2023-12-08 23:41:21,747 - root - INFO - Recall: 0.9494\n",
            "2023-12-08 23:41:21,750 - root - INFO - F1 Score: 0.9425\n"
          ]
        },
        {
          "metadata": {
            "tags": null
          },
          "name": "stdout",
          "output_type": "stream",
          "text": [
            "Epoch [4/10], Step [100/3079], Loss: 0.1381\n",
            "Epoch [4/10], Step [200/3079], Loss: 0.0640\n",
            "Epoch [4/10], Step [300/3079], Loss: 0.2719\n",
            "Epoch [4/10], Step [400/3079], Loss: 0.2412\n",
            "Epoch [4/10], Step [500/3079], Loss: 0.1715\n",
            "Epoch [4/10], Step [600/3079], Loss: 0.1297\n",
            "Epoch [4/10], Step [700/3079], Loss: 0.2947\n",
            "Epoch [4/10], Step [800/3079], Loss: 0.0236\n",
            "Epoch [4/10], Step [900/3079], Loss: 0.2307\n",
            "Epoch [4/10], Step [1000/3079], Loss: 0.1198\n",
            "Epoch [4/10], Step [1100/3079], Loss: 0.2440\n",
            "Epoch [4/10], Step [1200/3079], Loss: 0.1413\n",
            "Epoch [4/10], Step [1300/3079], Loss: 0.0499\n",
            "Epoch [4/10], Step [1400/3079], Loss: 0.2547\n",
            "Epoch [4/10], Step [1500/3079], Loss: 0.1094\n",
            "Epoch [4/10], Step [1600/3079], Loss: 0.1292\n",
            "Epoch [4/10], Step [1700/3079], Loss: 0.0381\n",
            "Epoch [4/10], Step [1800/3079], Loss: 0.4614\n",
            "Epoch [4/10], Step [1900/3079], Loss: 0.1206\n",
            "Epoch [4/10], Step [2000/3079], Loss: 0.2281\n",
            "Epoch [4/10], Step [2100/3079], Loss: 0.0579\n",
            "Epoch [4/10], Step [2200/3079], Loss: 0.5158\n",
            "Epoch [4/10], Step [2300/3079], Loss: 0.0557\n",
            "Epoch [4/10], Step [2400/3079], Loss: 0.3543\n",
            "Epoch [4/10], Step [2500/3079], Loss: 0.4402\n",
            "Epoch [4/10], Step [2600/3079], Loss: 0.2784\n",
            "Epoch [4/10], Step [2700/3079], Loss: 0.1381\n",
            "Epoch [4/10], Step [2800/3079], Loss: 0.2947\n",
            "Epoch [4/10], Step [2900/3079], Loss: 0.1487\n",
            "Epoch [4/10], Step [3000/3079], Loss: 0.0121\n"
          ]
        },
        {
          "metadata": {
            "tags": null
          },
          "name": "stderr",
          "output_type": "stream",
          "text": [
            "2023-12-08 23:41:36,081 - root - INFO - Accuracy: 95.86%\n",
            "2023-12-08 23:41:36,082 - root - INFO - Precision: 0.9576\n",
            "2023-12-08 23:41:36,083 - root - INFO - Recall: 0.9586\n",
            "2023-12-08 23:41:36,084 - root - INFO - F1 Score: 0.9575\n"
          ]
        },
        {
          "metadata": {
            "tags": null
          },
          "name": "stdout",
          "output_type": "stream",
          "text": [
            "Epoch [5/10], Step [100/3079], Loss: 0.2803\n",
            "Epoch [5/10], Step [200/3079], Loss: 0.1705\n",
            "Epoch [5/10], Step [300/3079], Loss: 0.1831\n",
            "Epoch [5/10], Step [400/3079], Loss: 0.2101\n",
            "Epoch [5/10], Step [500/3079], Loss: 0.2377\n",
            "Epoch [5/10], Step [600/3079], Loss: 0.2335\n",
            "Epoch [5/10], Step [700/3079], Loss: 0.2244\n",
            "Epoch [5/10], Step [800/3079], Loss: 0.0909\n",
            "Epoch [5/10], Step [900/3079], Loss: 0.2489\n",
            "Epoch [5/10], Step [1000/3079], Loss: 0.3973\n",
            "Epoch [5/10], Step [1100/3079], Loss: 0.0250\n",
            "Epoch [5/10], Step [1200/3079], Loss: 0.3260\n",
            "Epoch [5/10], Step [1300/3079], Loss: 0.1420\n",
            "Epoch [5/10], Step [1400/3079], Loss: 0.0834\n",
            "Epoch [5/10], Step [1500/3079], Loss: 0.1760\n",
            "Epoch [5/10], Step [1600/3079], Loss: 0.2314\n",
            "Epoch [5/10], Step [1700/3079], Loss: 0.0623\n",
            "Epoch [5/10], Step [1800/3079], Loss: 0.1416\n",
            "Epoch [5/10], Step [1900/3079], Loss: 0.0217\n",
            "Epoch [5/10], Step [2000/3079], Loss: 0.1269\n",
            "Epoch [5/10], Step [2100/3079], Loss: 0.0395\n",
            "Epoch [5/10], Step [2200/3079], Loss: 0.0937\n",
            "Epoch [5/10], Step [2300/3079], Loss: 0.1759\n",
            "Epoch [5/10], Step [2400/3079], Loss: 0.1054\n",
            "Epoch [5/10], Step [2500/3079], Loss: 0.2255\n",
            "Epoch [5/10], Step [2600/3079], Loss: 0.0429\n",
            "Epoch [5/10], Step [2700/3079], Loss: 0.2117\n",
            "Epoch [5/10], Step [2800/3079], Loss: 0.0262\n",
            "Epoch [5/10], Step [2900/3079], Loss: 0.0326\n",
            "Epoch [5/10], Step [3000/3079], Loss: 0.1119\n"
          ]
        },
        {
          "metadata": {
            "tags": null
          },
          "name": "stderr",
          "output_type": "stream",
          "text": [
            "2023-12-08 23:41:50,457 - root - INFO - Accuracy: 96.99%\n",
            "2023-12-08 23:41:50,458 - root - INFO - Precision: 0.9687\n",
            "2023-12-08 23:41:50,460 - root - INFO - Recall: 0.9699\n",
            "2023-12-08 23:41:50,461 - root - INFO - F1 Score: 0.9682\n"
          ]
        },
        {
          "metadata": {
            "tags": null
          },
          "name": "stdout",
          "output_type": "stream",
          "text": [
            "Epoch [6/10], Step [100/3079], Loss: 0.1772\n",
            "Epoch [6/10], Step [200/3079], Loss: 0.2507\n",
            "Epoch [6/10], Step [300/3079], Loss: 0.0776\n",
            "Epoch [6/10], Step [400/3079], Loss: 0.0529\n",
            "Epoch [6/10], Step [500/3079], Loss: 0.0104\n",
            "Epoch [6/10], Step [600/3079], Loss: 0.0118\n",
            "Epoch [6/10], Step [700/3079], Loss: 0.0152\n",
            "Epoch [6/10], Step [800/3079], Loss: 0.1917\n",
            "Epoch [6/10], Step [900/3079], Loss: 0.1928\n",
            "Epoch [6/10], Step [1000/3079], Loss: 0.0577\n",
            "Epoch [6/10], Step [1100/3079], Loss: 0.4334\n",
            "Epoch [6/10], Step [1200/3079], Loss: 0.0540\n",
            "Epoch [6/10], Step [1300/3079], Loss: 0.0991\n",
            "Epoch [6/10], Step [1400/3079], Loss: 0.0225\n",
            "Epoch [6/10], Step [1500/3079], Loss: 0.1667\n",
            "Epoch [6/10], Step [1600/3079], Loss: 0.0344\n",
            "Epoch [6/10], Step [1700/3079], Loss: 0.1813\n",
            "Epoch [6/10], Step [1800/3079], Loss: 0.0236\n",
            "Epoch [6/10], Step [1900/3079], Loss: 0.0662\n",
            "Epoch [6/10], Step [2000/3079], Loss: 0.1342\n",
            "Epoch [6/10], Step [2100/3079], Loss: 0.0803\n",
            "Epoch [6/10], Step [2200/3079], Loss: 0.0210\n",
            "Epoch [6/10], Step [2300/3079], Loss: 0.0080\n",
            "Epoch [6/10], Step [2400/3079], Loss: 0.1284\n",
            "Epoch [6/10], Step [2500/3079], Loss: 0.1298\n",
            "Epoch [6/10], Step [2600/3079], Loss: 0.1286\n",
            "Epoch [6/10], Step [2700/3079], Loss: 0.0291\n",
            "Epoch [6/10], Step [2800/3079], Loss: 0.0948\n",
            "Epoch [6/10], Step [2900/3079], Loss: 0.1790\n",
            "Epoch [6/10], Step [3000/3079], Loss: 0.0935\n"
          ]
        },
        {
          "metadata": {
            "tags": null
          },
          "name": "stderr",
          "output_type": "stream",
          "text": [
            "2023-12-08 23:42:04,902 - root - INFO - Accuracy: 96.87%\n",
            "2023-12-08 23:42:04,903 - root - INFO - Precision: 0.9679\n",
            "2023-12-08 23:42:04,904 - root - INFO - Recall: 0.9687\n",
            "2023-12-08 23:42:04,905 - root - INFO - F1 Score: 0.9665\n"
          ]
        },
        {
          "metadata": {
            "tags": null
          },
          "name": "stdout",
          "output_type": "stream",
          "text": [
            "Epoch [7/10], Step [100/3079], Loss: 0.0244\n",
            "Epoch [7/10], Step [200/3079], Loss: 0.0509\n",
            "Epoch [7/10], Step [300/3079], Loss: 0.0337\n",
            "Epoch [7/10], Step [400/3079], Loss: 0.0127\n",
            "Epoch [7/10], Step [500/3079], Loss: 0.2858\n",
            "Epoch [7/10], Step [600/3079], Loss: 0.3418\n",
            "Epoch [7/10], Step [700/3079], Loss: 0.0158\n",
            "Epoch [7/10], Step [800/3079], Loss: 0.3451\n",
            "Epoch [7/10], Step [900/3079], Loss: 0.4582\n",
            "Epoch [7/10], Step [1000/3079], Loss: 0.0198\n",
            "Epoch [7/10], Step [1100/3079], Loss: 0.1440\n",
            "Epoch [7/10], Step [1200/3079], Loss: 0.1241\n",
            "Epoch [7/10], Step [1300/3079], Loss: 0.1006\n",
            "Epoch [7/10], Step [1400/3079], Loss: 0.1187\n",
            "Epoch [7/10], Step [1500/3079], Loss: 0.0205\n",
            "Epoch [7/10], Step [1600/3079], Loss: 0.0159\n",
            "Epoch [7/10], Step [1700/3079], Loss: 0.2230\n",
            "Epoch [7/10], Step [1800/3079], Loss: 0.0333\n",
            "Epoch [7/10], Step [1900/3079], Loss: 0.0157\n",
            "Epoch [7/10], Step [2000/3079], Loss: 0.0340\n",
            "Epoch [7/10], Step [2100/3079], Loss: 0.0370\n",
            "Epoch [7/10], Step [2200/3079], Loss: 0.1631\n",
            "Epoch [7/10], Step [2300/3079], Loss: 0.0231\n",
            "Epoch [7/10], Step [2400/3079], Loss: 0.4238\n",
            "Epoch [7/10], Step [2500/3079], Loss: 0.0107\n",
            "Epoch [7/10], Step [2600/3079], Loss: 0.0444\n",
            "Epoch [7/10], Step [2700/3079], Loss: 0.0060\n",
            "Epoch [7/10], Step [2800/3079], Loss: 0.3143\n",
            "Epoch [7/10], Step [2900/3079], Loss: 0.1546\n",
            "Epoch [7/10], Step [3000/3079], Loss: 0.0500\n"
          ]
        },
        {
          "metadata": {
            "tags": null
          },
          "name": "stderr",
          "output_type": "stream",
          "text": [
            "2023-12-08 23:42:19,357 - root - INFO - Accuracy: 97.20%\n",
            "2023-12-08 23:42:19,358 - root - INFO - Precision: 0.9713\n",
            "2023-12-08 23:42:19,360 - root - INFO - Recall: 0.9720\n",
            "2023-12-08 23:42:19,361 - root - INFO - F1 Score: 0.9707\n"
          ]
        },
        {
          "metadata": {
            "tags": null
          },
          "name": "stdout",
          "output_type": "stream",
          "text": [
            "Epoch [8/10], Step [100/3079], Loss: 0.1226\n",
            "Epoch [8/10], Step [200/3079], Loss: 0.2061\n",
            "Epoch [8/10], Step [300/3079], Loss: 0.1103\n",
            "Epoch [8/10], Step [400/3079], Loss: 0.1305\n",
            "Epoch [8/10], Step [500/3079], Loss: 0.1012\n",
            "Epoch [8/10], Step [600/3079], Loss: 0.0284\n",
            "Epoch [8/10], Step [700/3079], Loss: 0.2167\n",
            "Epoch [8/10], Step [800/3079], Loss: 0.1720\n",
            "Epoch [8/10], Step [900/3079], Loss: 0.0434\n",
            "Epoch [8/10], Step [1000/3079], Loss: 0.0235\n",
            "Epoch [8/10], Step [1100/3079], Loss: 0.1785\n",
            "Epoch [8/10], Step [1200/3079], Loss: 0.1558\n",
            "Epoch [8/10], Step [1300/3079], Loss: 0.0869\n",
            "Epoch [8/10], Step [1400/3079], Loss: 0.0599\n",
            "Epoch [8/10], Step [1500/3079], Loss: 0.1315\n",
            "Epoch [8/10], Step [1600/3079], Loss: 0.0215\n",
            "Epoch [8/10], Step [1700/3079], Loss: 0.0686\n",
            "Epoch [8/10], Step [1800/3079], Loss: 0.3379\n",
            "Epoch [8/10], Step [1900/3079], Loss: 0.3145\n",
            "Epoch [8/10], Step [2000/3079], Loss: 0.0477\n",
            "Epoch [8/10], Step [2100/3079], Loss: 0.1568\n",
            "Epoch [8/10], Step [2200/3079], Loss: 0.0073\n",
            "Epoch [8/10], Step [2300/3079], Loss: 0.0390\n",
            "Epoch [8/10], Step [2400/3079], Loss: 0.0329\n",
            "Epoch [8/10], Step [2500/3079], Loss: 0.0719\n",
            "Epoch [8/10], Step [2600/3079], Loss: 0.1543\n",
            "Epoch [8/10], Step [2700/3079], Loss: 0.0899\n",
            "Epoch [8/10], Step [2800/3079], Loss: 0.0521\n",
            "Epoch [8/10], Step [2900/3079], Loss: 0.0080\n",
            "Epoch [8/10], Step [3000/3079], Loss: 0.0382\n"
          ]
        },
        {
          "metadata": {
            "tags": null
          },
          "name": "stderr",
          "output_type": "stream",
          "text": [
            "2023-12-08 23:42:33,560 - root - INFO - Accuracy: 97.60%\n",
            "2023-12-08 23:42:33,561 - root - INFO - Precision: 0.9753\n",
            "2023-12-08 23:42:33,562 - root - INFO - Recall: 0.9760\n",
            "2023-12-08 23:42:33,563 - root - INFO - F1 Score: 0.9749\n"
          ]
        },
        {
          "metadata": {
            "tags": null
          },
          "name": "stdout",
          "output_type": "stream",
          "text": [
            "Epoch [9/10], Step [100/3079], Loss: 0.0072\n",
            "Epoch [9/10], Step [200/3079], Loss: 0.2047\n",
            "Epoch [9/10], Step [300/3079], Loss: 0.0494\n",
            "Epoch [9/10], Step [400/3079], Loss: 0.1508\n",
            "Epoch [9/10], Step [500/3079], Loss: 0.0256\n",
            "Epoch [9/10], Step [600/3079], Loss: 0.0534\n",
            "Epoch [9/10], Step [700/3079], Loss: 0.1059\n",
            "Epoch [9/10], Step [800/3079], Loss: 0.0794\n",
            "Epoch [9/10], Step [900/3079], Loss: 0.0367\n",
            "Epoch [9/10], Step [1000/3079], Loss: 0.0380\n",
            "Epoch [9/10], Step [1100/3079], Loss: 0.3607\n",
            "Epoch [9/10], Step [1200/3079], Loss: 0.0667\n",
            "Epoch [9/10], Step [1300/3079], Loss: 0.0240\n",
            "Epoch [9/10], Step [1400/3079], Loss: 0.0119\n",
            "Epoch [9/10], Step [1500/3079], Loss: 0.0692\n",
            "Epoch [9/10], Step [1600/3079], Loss: 0.0955\n",
            "Epoch [9/10], Step [1700/3079], Loss: 0.0168\n",
            "Epoch [9/10], Step [1800/3079], Loss: 0.0951\n",
            "Epoch [9/10], Step [1900/3079], Loss: 0.0324\n",
            "Epoch [9/10], Step [2000/3079], Loss: 0.0815\n",
            "Epoch [9/10], Step [2100/3079], Loss: 0.0046\n",
            "Epoch [9/10], Step [2200/3079], Loss: 0.0755\n",
            "Epoch [9/10], Step [2300/3079], Loss: 0.0870\n",
            "Epoch [9/10], Step [2400/3079], Loss: 0.0629\n",
            "Epoch [9/10], Step [2500/3079], Loss: 0.0661\n",
            "Epoch [9/10], Step [2600/3079], Loss: 0.1271\n",
            "Epoch [9/10], Step [2700/3079], Loss: 0.0679\n",
            "Epoch [9/10], Step [2800/3079], Loss: 0.0572\n",
            "Epoch [9/10], Step [2900/3079], Loss: 0.0331\n",
            "Epoch [9/10], Step [3000/3079], Loss: 0.1631\n"
          ]
        },
        {
          "metadata": {
            "tags": null
          },
          "name": "stderr",
          "output_type": "stream",
          "text": [
            "2023-12-08 23:42:47,907 - root - INFO - Accuracy: 97.36%\n",
            "2023-12-08 23:42:47,908 - root - INFO - Precision: 0.9723\n",
            "2023-12-08 23:42:47,909 - root - INFO - Recall: 0.9736\n",
            "2023-12-08 23:42:47,910 - root - INFO - F1 Score: 0.9721\n"
          ]
        },
        {
          "metadata": {
            "tags": null
          },
          "name": "stdout",
          "output_type": "stream",
          "text": [
            "Epoch [10/10], Step [100/3079], Loss: 0.0267\n",
            "Epoch [10/10], Step [200/3079], Loss: 0.0199\n",
            "Epoch [10/10], Step [300/3079], Loss: 0.0547\n",
            "Epoch [10/10], Step [400/3079], Loss: 0.2075\n",
            "Epoch [10/10], Step [500/3079], Loss: 0.1418\n",
            "Epoch [10/10], Step [600/3079], Loss: 0.1978\n",
            "Epoch [10/10], Step [700/3079], Loss: 0.0198\n",
            "Epoch [10/10], Step [800/3079], Loss: 0.2729\n",
            "Epoch [10/10], Step [900/3079], Loss: 0.0105\n",
            "Epoch [10/10], Step [1000/3079], Loss: 0.1861\n",
            "Epoch [10/10], Step [1100/3079], Loss: 0.0303\n",
            "Epoch [10/10], Step [1200/3079], Loss: 0.0193\n",
            "Epoch [10/10], Step [1300/3079], Loss: 0.0292\n",
            "Epoch [10/10], Step [1400/3079], Loss: 0.2559\n",
            "Epoch [10/10], Step [1500/3079], Loss: 0.2772\n",
            "Epoch [10/10], Step [1600/3079], Loss: 0.0971\n",
            "Epoch [10/10], Step [1700/3079], Loss: 0.1481\n",
            "Epoch [10/10], Step [1800/3079], Loss: 0.0522\n",
            "Epoch [10/10], Step [1900/3079], Loss: 0.0324\n",
            "Epoch [10/10], Step [2000/3079], Loss: 0.0173\n",
            "Epoch [10/10], Step [2100/3079], Loss: 0.2340\n",
            "Epoch [10/10], Step [2200/3079], Loss: 0.0082\n",
            "Epoch [10/10], Step [2300/3079], Loss: 0.0179\n",
            "Epoch [10/10], Step [2400/3079], Loss: 0.5499\n",
            "Epoch [10/10], Step [2500/3079], Loss: 0.1433\n",
            "Epoch [10/10], Step [2600/3079], Loss: 0.0940\n",
            "Epoch [10/10], Step [2700/3079], Loss: 0.0447\n",
            "Epoch [10/10], Step [2800/3079], Loss: 0.0149\n",
            "Epoch [10/10], Step [2900/3079], Loss: 0.2530\n",
            "Epoch [10/10], Step [3000/3079], Loss: 0.0188\n"
          ]
        },
        {
          "metadata": {
            "tags": null
          },
          "name": "stderr",
          "output_type": "stream",
          "text": [
            "2023-12-08 23:43:02,167 - root - INFO - Accuracy: 97.73%\n",
            "2023-12-08 23:43:02,168 - root - INFO - Precision: 0.9773\n",
            "2023-12-08 23:43:02,169 - root - INFO - Recall: 0.9773\n",
            "2023-12-08 23:43:02,170 - root - INFO - F1 Score: 0.9754\n"
          ]
        },
        {
          "metadata": {
            "tags": null
          },
          "name": "stdout",
          "output_type": "stream",
          "text": [
            "FOLD 1\n",
            "--------------------------------\n",
            "LSTM(\n",
            "  (lstm): LSTM(1, 128, num_layers=2, batch_first=True)\n",
            "  (fc): Linear(in_features=128, out_features=5, bias=True)\n",
            ")\n",
            "Epoch [1/10], Step [100/3079], Loss: 0.7032\n",
            "Epoch [1/10], Step [200/3079], Loss: 0.7257\n",
            "Epoch [1/10], Step [300/3079], Loss: 0.4245\n",
            "Epoch [1/10], Step [400/3079], Loss: 0.6516\n",
            "Epoch [1/10], Step [500/3079], Loss: 0.6068\n",
            "Epoch [1/10], Step [600/3079], Loss: 0.7999\n",
            "Epoch [1/10], Step [700/3079], Loss: 0.6386\n",
            "Epoch [1/10], Step [800/3079], Loss: 0.5086\n",
            "Epoch [1/10], Step [900/3079], Loss: 0.5057\n",
            "Epoch [1/10], Step [1000/3079], Loss: 0.7715\n",
            "Epoch [1/10], Step [1100/3079], Loss: 0.5969\n",
            "Epoch [1/10], Step [1200/3079], Loss: 0.8779\n",
            "Epoch [1/10], Step [1300/3079], Loss: 0.8288\n",
            "Epoch [1/10], Step [1400/3079], Loss: 0.5979\n",
            "Epoch [1/10], Step [1500/3079], Loss: 1.0767\n",
            "Epoch [1/10], Step [1600/3079], Loss: 0.4854\n",
            "Epoch [1/10], Step [1700/3079], Loss: 0.3121\n",
            "Epoch [1/10], Step [1800/3079], Loss: 0.5778\n",
            "Epoch [1/10], Step [1900/3079], Loss: 0.7223\n",
            "Epoch [1/10], Step [2000/3079], Loss: 0.6894\n",
            "Epoch [1/10], Step [2100/3079], Loss: 0.4584\n",
            "Epoch [1/10], Step [2200/3079], Loss: 0.2485\n",
            "Epoch [1/10], Step [2300/3079], Loss: 0.3234\n",
            "Epoch [1/10], Step [2400/3079], Loss: 0.2656\n",
            "Epoch [1/10], Step [2500/3079], Loss: 0.3618\n",
            "Epoch [1/10], Step [2600/3079], Loss: 0.4557\n",
            "Epoch [1/10], Step [2700/3079], Loss: 0.1204\n",
            "Epoch [1/10], Step [2800/3079], Loss: 0.1181\n",
            "Epoch [1/10], Step [2900/3079], Loss: 0.1651\n",
            "Epoch [1/10], Step [3000/3079], Loss: 0.3301\n"
          ]
        },
        {
          "metadata": {
            "tags": null
          },
          "name": "stderr",
          "output_type": "stream",
          "text": [
            "/usr/local/lib/python3.10/dist-packages/sklearn/metrics/_classification.py:1344: UndefinedMetricWarning: Precision is ill-defined and being set to 0.0 in labels with no predicted samples. Use `zero_division` parameter to control this behavior.\n",
            "  _warn_prf(average, modifier, msg_start, len(result))\n",
            "2023-12-08 23:43:16,446 - root - INFO - Accuracy: 91.03%\n",
            "2023-12-08 23:43:16,447 - root - INFO - Precision: 0.8851\n",
            "2023-12-08 23:43:16,447 - root - INFO - Recall: 0.9103\n",
            "2023-12-08 23:43:16,448 - root - INFO - F1 Score: 0.8937\n"
          ]
        },
        {
          "metadata": {
            "tags": null
          },
          "name": "stdout",
          "output_type": "stream",
          "text": [
            "Epoch [2/10], Step [100/3079], Loss: 0.2595\n",
            "Epoch [2/10], Step [200/3079], Loss: 0.1891\n",
            "Epoch [2/10], Step [300/3079], Loss: 0.2715\n",
            "Epoch [2/10], Step [400/3079], Loss: 0.4006\n",
            "Epoch [2/10], Step [500/3079], Loss: 0.1981\n",
            "Epoch [2/10], Step [600/3079], Loss: 0.8382\n",
            "Epoch [2/10], Step [700/3079], Loss: 0.2046\n",
            "Epoch [2/10], Step [800/3079], Loss: 0.3029\n",
            "Epoch [2/10], Step [900/3079], Loss: 0.2526\n",
            "Epoch [2/10], Step [1000/3079], Loss: 0.2147\n",
            "Epoch [2/10], Step [1100/3079], Loss: 0.1206\n",
            "Epoch [2/10], Step [1200/3079], Loss: 0.3473\n",
            "Epoch [2/10], Step [1300/3079], Loss: 0.2785\n",
            "Epoch [2/10], Step [1400/3079], Loss: 0.1816\n",
            "Epoch [2/10], Step [1500/3079], Loss: 0.2144\n",
            "Epoch [2/10], Step [1600/3079], Loss: 0.0387\n",
            "Epoch [2/10], Step [1700/3079], Loss: 0.3095\n",
            "Epoch [2/10], Step [1800/3079], Loss: 0.3366\n",
            "Epoch [2/10], Step [1900/3079], Loss: 0.1383\n",
            "Epoch [2/10], Step [2000/3079], Loss: 0.2724\n",
            "Epoch [2/10], Step [2100/3079], Loss: 0.5370\n",
            "Epoch [2/10], Step [2200/3079], Loss: 0.1874\n",
            "Epoch [2/10], Step [2300/3079], Loss: 0.1351\n",
            "Epoch [2/10], Step [2400/3079], Loss: 0.0690\n",
            "Epoch [2/10], Step [2500/3079], Loss: 0.3754\n",
            "Epoch [2/10], Step [2600/3079], Loss: 0.3975\n",
            "Epoch [2/10], Step [2700/3079], Loss: 0.0945\n",
            "Epoch [2/10], Step [2800/3079], Loss: 0.2172\n",
            "Epoch [2/10], Step [2900/3079], Loss: 0.2115\n",
            "Epoch [2/10], Step [3000/3079], Loss: 0.7470\n"
          ]
        },
        {
          "metadata": {
            "tags": null
          },
          "name": "stderr",
          "output_type": "stream",
          "text": [
            "/usr/local/lib/python3.10/dist-packages/sklearn/metrics/_classification.py:1344: UndefinedMetricWarning: Precision is ill-defined and being set to 0.0 in labels with no predicted samples. Use `zero_division` parameter to control this behavior.\n",
            "  _warn_prf(average, modifier, msg_start, len(result))\n",
            "2023-12-08 23:43:30,723 - root - INFO - Accuracy: 93.46%\n",
            "2023-12-08 23:43:30,724 - root - INFO - Precision: 0.9233\n",
            "2023-12-08 23:43:30,725 - root - INFO - Recall: 0.9346\n",
            "2023-12-08 23:43:30,726 - root - INFO - F1 Score: 0.9220\n"
          ]
        },
        {
          "metadata": {
            "tags": null
          },
          "name": "stdout",
          "output_type": "stream",
          "text": [
            "Epoch [3/10], Step [100/3079], Loss: 0.2067\n",
            "Epoch [3/10], Step [200/3079], Loss: 0.4576\n",
            "Epoch [3/10], Step [300/3079], Loss: 0.4308\n",
            "Epoch [3/10], Step [400/3079], Loss: 0.4500\n",
            "Epoch [3/10], Step [500/3079], Loss: 0.0453\n",
            "Epoch [3/10], Step [600/3079], Loss: 0.0835\n",
            "Epoch [3/10], Step [700/3079], Loss: 0.1526\n",
            "Epoch [3/10], Step [800/3079], Loss: 0.2175\n",
            "Epoch [3/10], Step [900/3079], Loss: 0.3104\n",
            "Epoch [3/10], Step [1000/3079], Loss: 0.0168\n",
            "Epoch [3/10], Step [1100/3079], Loss: 0.0597\n",
            "Epoch [3/10], Step [1200/3079], Loss: 0.1642\n",
            "Epoch [3/10], Step [1300/3079], Loss: 0.6984\n",
            "Epoch [3/10], Step [1400/3079], Loss: 0.2725\n",
            "Epoch [3/10], Step [1500/3079], Loss: 0.2602\n",
            "Epoch [3/10], Step [1600/3079], Loss: 0.5390\n",
            "Epoch [3/10], Step [1700/3079], Loss: 0.2777\n",
            "Epoch [3/10], Step [1800/3079], Loss: 0.2954\n",
            "Epoch [3/10], Step [1900/3079], Loss: 0.3954\n",
            "Epoch [3/10], Step [2000/3079], Loss: 0.2904\n",
            "Epoch [3/10], Step [2100/3079], Loss: 0.2406\n",
            "Epoch [3/10], Step [2200/3079], Loss: 0.2573\n",
            "Epoch [3/10], Step [2300/3079], Loss: 0.4277\n",
            "Epoch [3/10], Step [2400/3079], Loss: 0.3380\n",
            "Epoch [3/10], Step [2500/3079], Loss: 0.3866\n",
            "Epoch [3/10], Step [2600/3079], Loss: 0.1847\n",
            "Epoch [3/10], Step [2700/3079], Loss: 0.2613\n",
            "Epoch [3/10], Step [2800/3079], Loss: 0.1838\n",
            "Epoch [3/10], Step [2900/3079], Loss: 0.2774\n",
            "Epoch [3/10], Step [3000/3079], Loss: 0.1723\n"
          ]
        },
        {
          "metadata": {
            "tags": null
          },
          "name": "stderr",
          "output_type": "stream",
          "text": [
            "/usr/local/lib/python3.10/dist-packages/sklearn/metrics/_classification.py:1344: UndefinedMetricWarning: Precision is ill-defined and being set to 0.0 in labels with no predicted samples. Use `zero_division` parameter to control this behavior.\n",
            "  _warn_prf(average, modifier, msg_start, len(result))\n",
            "2023-12-08 23:43:44,994 - root - INFO - Accuracy: 95.03%\n",
            "2023-12-08 23:43:44,995 - root - INFO - Precision: 0.9419\n",
            "2023-12-08 23:43:44,996 - root - INFO - Recall: 0.9503\n",
            "2023-12-08 23:43:44,997 - root - INFO - F1 Score: 0.9446\n"
          ]
        },
        {
          "metadata": {
            "tags": null
          },
          "name": "stdout",
          "output_type": "stream",
          "text": [
            "Epoch [4/10], Step [100/3079], Loss: 0.2950\n",
            "Epoch [4/10], Step [200/3079], Loss: 0.1083\n",
            "Epoch [4/10], Step [300/3079], Loss: 0.0325\n",
            "Epoch [4/10], Step [400/3079], Loss: 0.1754\n",
            "Epoch [4/10], Step [500/3079], Loss: 0.2752\n",
            "Epoch [4/10], Step [600/3079], Loss: 0.0718\n",
            "Epoch [4/10], Step [700/3079], Loss: 0.3387\n",
            "Epoch [4/10], Step [800/3079], Loss: 0.2687\n",
            "Epoch [4/10], Step [900/3079], Loss: 0.3020\n",
            "Epoch [4/10], Step [1000/3079], Loss: 0.4039\n",
            "Epoch [4/10], Step [1100/3079], Loss: 0.4324\n",
            "Epoch [4/10], Step [1200/3079], Loss: 0.0705\n",
            "Epoch [4/10], Step [1300/3079], Loss: 0.1211\n",
            "Epoch [4/10], Step [1400/3079], Loss: 0.2291\n",
            "Epoch [4/10], Step [1500/3079], Loss: 0.1707\n",
            "Epoch [4/10], Step [1600/3079], Loss: 0.2837\n",
            "Epoch [4/10], Step [1700/3079], Loss: 0.1237\n",
            "Epoch [4/10], Step [1800/3079], Loss: 0.1322\n",
            "Epoch [4/10], Step [1900/3079], Loss: 0.0345\n",
            "Epoch [4/10], Step [2000/3079], Loss: 0.0677\n",
            "Epoch [4/10], Step [2100/3079], Loss: 0.1972\n",
            "Epoch [4/10], Step [2200/3079], Loss: 0.3078\n",
            "Epoch [4/10], Step [2300/3079], Loss: 0.2123\n",
            "Epoch [4/10], Step [2400/3079], Loss: 0.3510\n",
            "Epoch [4/10], Step [2500/3079], Loss: 0.0656\n",
            "Epoch [4/10], Step [2600/3079], Loss: 0.1357\n",
            "Epoch [4/10], Step [2700/3079], Loss: 0.0626\n",
            "Epoch [4/10], Step [2800/3079], Loss: 0.3628\n",
            "Epoch [4/10], Step [2900/3079], Loss: 0.0206\n",
            "Epoch [4/10], Step [3000/3079], Loss: 0.1191\n"
          ]
        },
        {
          "metadata": {
            "tags": null
          },
          "name": "stderr",
          "output_type": "stream",
          "text": [
            "2023-12-08 23:43:59,261 - root - INFO - Accuracy: 95.83%\n",
            "2023-12-08 23:43:59,263 - root - INFO - Precision: 0.9502\n",
            "2023-12-08 23:43:59,263 - root - INFO - Recall: 0.9583\n",
            "2023-12-08 23:43:59,266 - root - INFO - F1 Score: 0.9530\n"
          ]
        },
        {
          "metadata": {
            "tags": null
          },
          "name": "stdout",
          "output_type": "stream",
          "text": [
            "Epoch [5/10], Step [100/3079], Loss: 0.1792\n",
            "Epoch [5/10], Step [200/3079], Loss: 0.1053\n",
            "Epoch [5/10], Step [300/3079], Loss: 0.1040\n",
            "Epoch [5/10], Step [400/3079], Loss: 0.3454\n",
            "Epoch [5/10], Step [500/3079], Loss: 0.0787\n",
            "Epoch [5/10], Step [600/3079], Loss: 0.3630\n",
            "Epoch [5/10], Step [700/3079], Loss: 0.3236\n",
            "Epoch [5/10], Step [800/3079], Loss: 0.1938\n",
            "Epoch [5/10], Step [900/3079], Loss: 0.2137\n",
            "Epoch [5/10], Step [1000/3079], Loss: 0.0539\n",
            "Epoch [5/10], Step [1100/3079], Loss: 0.0622\n",
            "Epoch [5/10], Step [1200/3079], Loss: 0.0249\n",
            "Epoch [5/10], Step [1300/3079], Loss: 0.1694\n",
            "Epoch [5/10], Step [1400/3079], Loss: 0.0990\n",
            "Epoch [5/10], Step [1500/3079], Loss: 0.2522\n",
            "Epoch [5/10], Step [1600/3079], Loss: 0.1811\n",
            "Epoch [5/10], Step [1700/3079], Loss: 0.0798\n",
            "Epoch [5/10], Step [1800/3079], Loss: 0.0534\n",
            "Epoch [5/10], Step [1900/3079], Loss: 0.0752\n",
            "Epoch [5/10], Step [2000/3079], Loss: 0.1179\n",
            "Epoch [5/10], Step [2100/3079], Loss: 0.0782\n",
            "Epoch [5/10], Step [2200/3079], Loss: 0.1918\n",
            "Epoch [5/10], Step [2300/3079], Loss: 0.0686\n",
            "Epoch [5/10], Step [2400/3079], Loss: 0.1874\n",
            "Epoch [5/10], Step [2500/3079], Loss: 0.2974\n",
            "Epoch [5/10], Step [2600/3079], Loss: 0.3701\n",
            "Epoch [5/10], Step [2700/3079], Loss: 0.0440\n",
            "Epoch [5/10], Step [2800/3079], Loss: 0.2818\n",
            "Epoch [5/10], Step [2900/3079], Loss: 0.1267\n",
            "Epoch [5/10], Step [3000/3079], Loss: 0.1764\n"
          ]
        },
        {
          "metadata": {
            "tags": null
          },
          "name": "stderr",
          "output_type": "stream",
          "text": [
            "2023-12-08 23:44:13,518 - root - INFO - Accuracy: 95.97%\n",
            "2023-12-08 23:44:13,520 - root - INFO - Precision: 0.9582\n",
            "2023-12-08 23:44:13,520 - root - INFO - Recall: 0.9597\n",
            "2023-12-08 23:44:13,521 - root - INFO - F1 Score: 0.9577\n"
          ]
        },
        {
          "metadata": {
            "tags": null
          },
          "name": "stdout",
          "output_type": "stream",
          "text": [
            "Epoch [6/10], Step [100/3079], Loss: 0.2428\n",
            "Epoch [6/10], Step [200/3079], Loss: 0.0088\n",
            "Epoch [6/10], Step [300/3079], Loss: 0.1395\n",
            "Epoch [6/10], Step [400/3079], Loss: 0.1723\n",
            "Epoch [6/10], Step [500/3079], Loss: 0.0286\n",
            "Epoch [6/10], Step [600/3079], Loss: 0.1333\n",
            "Epoch [6/10], Step [700/3079], Loss: 0.0236\n",
            "Epoch [6/10], Step [800/3079], Loss: 0.1439\n",
            "Epoch [6/10], Step [900/3079], Loss: 0.0711\n",
            "Epoch [6/10], Step [1000/3079], Loss: 0.2390\n",
            "Epoch [6/10], Step [1100/3079], Loss: 0.0272\n",
            "Epoch [6/10], Step [1200/3079], Loss: 0.2028\n",
            "Epoch [6/10], Step [1300/3079], Loss: 0.0783\n",
            "Epoch [6/10], Step [1400/3079], Loss: 0.0956\n",
            "Epoch [6/10], Step [1500/3079], Loss: 0.0756\n",
            "Epoch [6/10], Step [1600/3079], Loss: 0.1253\n",
            "Epoch [6/10], Step [1700/3079], Loss: 0.0302\n",
            "Epoch [6/10], Step [1800/3079], Loss: 0.0267\n",
            "Epoch [6/10], Step [1900/3079], Loss: 0.1331\n",
            "Epoch [6/10], Step [2000/3079], Loss: 0.3684\n",
            "Epoch [6/10], Step [2100/3079], Loss: 0.0322\n",
            "Epoch [6/10], Step [2200/3079], Loss: 0.0799\n",
            "Epoch [6/10], Step [2300/3079], Loss: 0.0361\n",
            "Epoch [6/10], Step [2400/3079], Loss: 0.4616\n",
            "Epoch [6/10], Step [2500/3079], Loss: 0.0290\n",
            "Epoch [6/10], Step [2600/3079], Loss: 0.0106\n",
            "Epoch [6/10], Step [2700/3079], Loss: 0.1914\n",
            "Epoch [6/10], Step [2800/3079], Loss: 0.0332\n",
            "Epoch [6/10], Step [2900/3079], Loss: 0.2885\n",
            "Epoch [6/10], Step [3000/3079], Loss: 0.2649\n"
          ]
        },
        {
          "metadata": {
            "tags": null
          },
          "name": "stderr",
          "output_type": "stream",
          "text": [
            "2023-12-08 23:44:27,607 - root - INFO - Accuracy: 96.69%\n",
            "2023-12-08 23:44:27,608 - root - INFO - Precision: 0.9664\n",
            "2023-12-08 23:44:27,609 - root - INFO - Recall: 0.9669\n",
            "2023-12-08 23:44:27,610 - root - INFO - F1 Score: 0.9655\n"
          ]
        },
        {
          "metadata": {
            "tags": null
          },
          "name": "stdout",
          "output_type": "stream",
          "text": [
            "Epoch [7/10], Step [100/3079], Loss: 0.0116\n",
            "Epoch [7/10], Step [200/3079], Loss: 0.1972\n",
            "Epoch [7/10], Step [300/3079], Loss: 0.0259\n",
            "Epoch [7/10], Step [400/3079], Loss: 0.4084\n",
            "Epoch [7/10], Step [500/3079], Loss: 0.0141\n",
            "Epoch [7/10], Step [600/3079], Loss: 0.0292\n",
            "Epoch [7/10], Step [700/3079], Loss: 0.1306\n",
            "Epoch [7/10], Step [800/3079], Loss: 0.2026\n",
            "Epoch [7/10], Step [900/3079], Loss: 0.1128\n",
            "Epoch [7/10], Step [1000/3079], Loss: 0.1888\n",
            "Epoch [7/10], Step [1100/3079], Loss: 0.0087\n",
            "Epoch [7/10], Step [1200/3079], Loss: 0.0787\n",
            "Epoch [7/10], Step [1300/3079], Loss: 0.0467\n",
            "Epoch [7/10], Step [1400/3079], Loss: 0.2622\n",
            "Epoch [7/10], Step [1500/3079], Loss: 0.0180\n",
            "Epoch [7/10], Step [1600/3079], Loss: 0.0956\n",
            "Epoch [7/10], Step [1700/3079], Loss: 0.0168\n",
            "Epoch [7/10], Step [1800/3079], Loss: 0.1154\n",
            "Epoch [7/10], Step [1900/3079], Loss: 0.0274\n",
            "Epoch [7/10], Step [2000/3079], Loss: 0.0445\n",
            "Epoch [7/10], Step [2100/3079], Loss: 0.0618\n",
            "Epoch [7/10], Step [2200/3079], Loss: 0.1039\n",
            "Epoch [7/10], Step [2300/3079], Loss: 0.0149\n",
            "Epoch [7/10], Step [2400/3079], Loss: 0.0422\n",
            "Epoch [7/10], Step [2500/3079], Loss: 0.2080\n",
            "Epoch [7/10], Step [2600/3079], Loss: 0.0156\n",
            "Epoch [7/10], Step [2700/3079], Loss: 0.0623\n",
            "Epoch [7/10], Step [2800/3079], Loss: 0.1715\n",
            "Epoch [7/10], Step [2900/3079], Loss: 0.0882\n",
            "Epoch [7/10], Step [3000/3079], Loss: 0.0139\n"
          ]
        },
        {
          "metadata": {
            "tags": null
          },
          "name": "stderr",
          "output_type": "stream",
          "text": [
            "2023-12-08 23:44:41,874 - root - INFO - Accuracy: 97.31%\n",
            "2023-12-08 23:44:41,876 - root - INFO - Precision: 0.9726\n",
            "2023-12-08 23:44:41,876 - root - INFO - Recall: 0.9731\n",
            "2023-12-08 23:44:41,877 - root - INFO - F1 Score: 0.9721\n"
          ]
        },
        {
          "metadata": {
            "tags": null
          },
          "name": "stdout",
          "output_type": "stream",
          "text": [
            "Epoch [8/10], Step [100/3079], Loss: 0.1401\n",
            "Epoch [8/10], Step [200/3079], Loss: 0.0727\n",
            "Epoch [8/10], Step [300/3079], Loss: 0.1287\n",
            "Epoch [8/10], Step [400/3079], Loss: 0.1834\n",
            "Epoch [8/10], Step [500/3079], Loss: 0.0839\n",
            "Epoch [8/10], Step [600/3079], Loss: 0.0412\n",
            "Epoch [8/10], Step [700/3079], Loss: 0.0283\n",
            "Epoch [8/10], Step [800/3079], Loss: 0.2324\n",
            "Epoch [8/10], Step [900/3079], Loss: 0.1593\n",
            "Epoch [8/10], Step [1000/3079], Loss: 0.1472\n",
            "Epoch [8/10], Step [1100/3079], Loss: 0.0758\n",
            "Epoch [8/10], Step [1200/3079], Loss: 0.0234\n",
            "Epoch [8/10], Step [1300/3079], Loss: 0.0776\n",
            "Epoch [8/10], Step [1400/3079], Loss: 0.1229\n",
            "Epoch [8/10], Step [1500/3079], Loss: 0.0262\n",
            "Epoch [8/10], Step [1600/3079], Loss: 0.0255\n",
            "Epoch [8/10], Step [1700/3079], Loss: 0.0320\n",
            "Epoch [8/10], Step [1800/3079], Loss: 0.1053\n",
            "Epoch [8/10], Step [1900/3079], Loss: 0.1646\n",
            "Epoch [8/10], Step [2000/3079], Loss: 0.0189\n",
            "Epoch [8/10], Step [2100/3079], Loss: 0.0239\n",
            "Epoch [8/10], Step [2200/3079], Loss: 0.0297\n",
            "Epoch [8/10], Step [2300/3079], Loss: 0.0378\n",
            "Epoch [8/10], Step [2400/3079], Loss: 0.0214\n",
            "Epoch [8/10], Step [2500/3079], Loss: 0.1962\n",
            "Epoch [8/10], Step [2600/3079], Loss: 0.0197\n",
            "Epoch [8/10], Step [2700/3079], Loss: 0.1051\n",
            "Epoch [8/10], Step [2800/3079], Loss: 0.1550\n",
            "Epoch [8/10], Step [2900/3079], Loss: 0.0304\n",
            "Epoch [8/10], Step [3000/3079], Loss: 0.0067\n"
          ]
        },
        {
          "metadata": {
            "tags": null
          },
          "name": "stderr",
          "output_type": "stream",
          "text": [
            "2023-12-08 23:44:56,188 - root - INFO - Accuracy: 97.69%\n",
            "2023-12-08 23:44:56,189 - root - INFO - Precision: 0.9762\n",
            "2023-12-08 23:44:56,190 - root - INFO - Recall: 0.9769\n",
            "2023-12-08 23:44:56,191 - root - INFO - F1 Score: 0.9759\n"
          ]
        },
        {
          "metadata": {
            "tags": null
          },
          "name": "stdout",
          "output_type": "stream",
          "text": [
            "Epoch [9/10], Step [100/3079], Loss: 0.0159\n",
            "Epoch [9/10], Step [200/3079], Loss: 0.1296\n",
            "Epoch [9/10], Step [300/3079], Loss: 0.0318\n",
            "Epoch [9/10], Step [400/3079], Loss: 0.0922\n",
            "Epoch [9/10], Step [500/3079], Loss: 0.0129\n",
            "Epoch [9/10], Step [600/3079], Loss: 0.3326\n",
            "Epoch [9/10], Step [700/3079], Loss: 0.0102\n",
            "Epoch [9/10], Step [800/3079], Loss: 0.1528\n",
            "Epoch [9/10], Step [900/3079], Loss: 0.0171\n",
            "Epoch [9/10], Step [1000/3079], Loss: 0.0180\n",
            "Epoch [9/10], Step [1100/3079], Loss: 0.0432\n",
            "Epoch [9/10], Step [1200/3079], Loss: 0.0719\n",
            "Epoch [9/10], Step [1300/3079], Loss: 0.0080\n",
            "Epoch [9/10], Step [1400/3079], Loss: 0.0272\n",
            "Epoch [9/10], Step [1500/3079], Loss: 0.0833\n",
            "Epoch [9/10], Step [1600/3079], Loss: 0.1216\n",
            "Epoch [9/10], Step [1700/3079], Loss: 0.2400\n",
            "Epoch [9/10], Step [1800/3079], Loss: 0.0196\n",
            "Epoch [9/10], Step [1900/3079], Loss: 0.1578\n",
            "Epoch [9/10], Step [2000/3079], Loss: 0.1549\n",
            "Epoch [9/10], Step [2100/3079], Loss: 0.4992\n",
            "Epoch [9/10], Step [2200/3079], Loss: 0.0399\n",
            "Epoch [9/10], Step [2300/3079], Loss: 0.0893\n",
            "Epoch [9/10], Step [2400/3079], Loss: 0.0160\n",
            "Epoch [9/10], Step [2500/3079], Loss: 0.1331\n",
            "Epoch [9/10], Step [2600/3079], Loss: 0.2180\n",
            "Epoch [9/10], Step [2700/3079], Loss: 0.1876\n",
            "Epoch [9/10], Step [2800/3079], Loss: 0.1595\n",
            "Epoch [9/10], Step [2900/3079], Loss: 0.0139\n",
            "Epoch [9/10], Step [3000/3079], Loss: 0.0102\n"
          ]
        },
        {
          "metadata": {
            "tags": null
          },
          "name": "stderr",
          "output_type": "stream",
          "text": [
            "2023-12-08 23:45:10,456 - root - INFO - Accuracy: 97.31%\n",
            "2023-12-08 23:45:10,457 - root - INFO - Precision: 0.9727\n",
            "2023-12-08 23:45:10,459 - root - INFO - Recall: 0.9731\n",
            "2023-12-08 23:45:10,460 - root - INFO - F1 Score: 0.9720\n"
          ]
        },
        {
          "metadata": {
            "tags": null
          },
          "name": "stdout",
          "output_type": "stream",
          "text": [
            "Epoch [10/10], Step [100/3079], Loss: 0.1001\n",
            "Epoch [10/10], Step [200/3079], Loss: 0.0088\n",
            "Epoch [10/10], Step [300/3079], Loss: 0.0665\n",
            "Epoch [10/10], Step [400/3079], Loss: 0.0110\n",
            "Epoch [10/10], Step [500/3079], Loss: 0.0078\n",
            "Epoch [10/10], Step [600/3079], Loss: 0.1105\n",
            "Epoch [10/10], Step [700/3079], Loss: 0.0857\n",
            "Epoch [10/10], Step [800/3079], Loss: 0.1949\n",
            "Epoch [10/10], Step [900/3079], Loss: 0.0273\n",
            "Epoch [10/10], Step [1000/3079], Loss: 0.0124\n",
            "Epoch [10/10], Step [1100/3079], Loss: 0.0128\n",
            "Epoch [10/10], Step [1200/3079], Loss: 0.0222\n",
            "Epoch [10/10], Step [1300/3079], Loss: 0.0047\n",
            "Epoch [10/10], Step [1400/3079], Loss: 0.1097\n",
            "Epoch [10/10], Step [1500/3079], Loss: 0.1585\n",
            "Epoch [10/10], Step [1600/3079], Loss: 0.0356\n",
            "Epoch [10/10], Step [1700/3079], Loss: 0.0332\n",
            "Epoch [10/10], Step [1800/3079], Loss: 0.0645\n",
            "Epoch [10/10], Step [1900/3079], Loss: 0.0158\n",
            "Epoch [10/10], Step [2000/3079], Loss: 0.0171\n",
            "Epoch [10/10], Step [2100/3079], Loss: 0.0358\n",
            "Epoch [10/10], Step [2200/3079], Loss: 0.0849\n",
            "Epoch [10/10], Step [2300/3079], Loss: 0.2027\n",
            "Epoch [10/10], Step [2400/3079], Loss: 0.1008\n",
            "Epoch [10/10], Step [2500/3079], Loss: 0.1677\n",
            "Epoch [10/10], Step [2600/3079], Loss: 0.0091\n",
            "Epoch [10/10], Step [2700/3079], Loss: 0.0130\n",
            "Epoch [10/10], Step [2800/3079], Loss: 0.1249\n",
            "Epoch [10/10], Step [2900/3079], Loss: 0.2212\n",
            "Epoch [10/10], Step [3000/3079], Loss: 0.0409\n"
          ]
        },
        {
          "metadata": {
            "tags": null
          },
          "name": "stderr",
          "output_type": "stream",
          "text": [
            "2023-12-08 23:45:24,776 - root - INFO - Accuracy: 97.83%\n",
            "2023-12-08 23:45:24,777 - root - INFO - Precision: 0.9777\n",
            "2023-12-08 23:45:24,778 - root - INFO - Recall: 0.9783\n",
            "2023-12-08 23:45:24,779 - root - INFO - F1 Score: 0.9778\n"
          ]
        },
        {
          "metadata": {
            "tags": null
          },
          "name": "stdout",
          "output_type": "stream",
          "text": [
            "FOLD 2\n",
            "--------------------------------\n",
            "LSTM(\n",
            "  (lstm): LSTM(1, 128, num_layers=2, batch_first=True)\n",
            "  (fc): Linear(in_features=128, out_features=5, bias=True)\n",
            ")\n",
            "Epoch [1/10], Step [100/3079], Loss: 1.0311\n",
            "Epoch [1/10], Step [200/3079], Loss: 0.4769\n",
            "Epoch [1/10], Step [300/3079], Loss: 0.3098\n",
            "Epoch [1/10], Step [400/3079], Loss: 0.4867\n",
            "Epoch [1/10], Step [500/3079], Loss: 0.7624\n",
            "Epoch [1/10], Step [600/3079], Loss: 0.6888\n",
            "Epoch [1/10], Step [700/3079], Loss: 0.6709\n",
            "Epoch [1/10], Step [800/3079], Loss: 0.6285\n",
            "Epoch [1/10], Step [900/3079], Loss: 0.6247\n",
            "Epoch [1/10], Step [1000/3079], Loss: 0.6256\n",
            "Epoch [1/10], Step [1100/3079], Loss: 0.5738\n",
            "Epoch [1/10], Step [1200/3079], Loss: 0.3086\n",
            "Epoch [1/10], Step [1300/3079], Loss: 0.4247\n",
            "Epoch [1/10], Step [1400/3079], Loss: 0.3015\n",
            "Epoch [1/10], Step [1500/3079], Loss: 0.8034\n",
            "Epoch [1/10], Step [1600/3079], Loss: 0.6443\n",
            "Epoch [1/10], Step [1700/3079], Loss: 0.4159\n",
            "Epoch [1/10], Step [1800/3079], Loss: 0.7289\n",
            "Epoch [1/10], Step [1900/3079], Loss: 0.7789\n",
            "Epoch [1/10], Step [2000/3079], Loss: 0.4281\n",
            "Epoch [1/10], Step [2100/3079], Loss: 0.4743\n",
            "Epoch [1/10], Step [2200/3079], Loss: 0.7410\n",
            "Epoch [1/10], Step [2300/3079], Loss: 0.6669\n",
            "Epoch [1/10], Step [2400/3079], Loss: 0.8300\n",
            "Epoch [1/10], Step [2500/3079], Loss: 0.5354\n",
            "Epoch [1/10], Step [2600/3079], Loss: 0.7068\n",
            "Epoch [1/10], Step [2700/3079], Loss: 0.7947\n",
            "Epoch [1/10], Step [2800/3079], Loss: 0.3046\n",
            "Epoch [1/10], Step [2900/3079], Loss: 0.3683\n",
            "Epoch [1/10], Step [3000/3079], Loss: 0.3408\n"
          ]
        },
        {
          "metadata": {
            "tags": null
          },
          "name": "stderr",
          "output_type": "stream",
          "text": [
            "/usr/local/lib/python3.10/dist-packages/sklearn/metrics/_classification.py:1344: UndefinedMetricWarning: Precision is ill-defined and being set to 0.0 in labels with no predicted samples. Use `zero_division` parameter to control this behavior.\n",
            "  _warn_prf(average, modifier, msg_start, len(result))\n",
            "2023-12-08 23:45:39,033 - root - INFO - Accuracy: 83.60%\n",
            "2023-12-08 23:45:39,034 - root - INFO - Precision: 0.7788\n",
            "2023-12-08 23:45:39,035 - root - INFO - Recall: 0.8360\n",
            "2023-12-08 23:45:39,036 - root - INFO - F1 Score: 0.8015\n"
          ]
        },
        {
          "metadata": {
            "tags": null
          },
          "name": "stdout",
          "output_type": "stream",
          "text": [
            "Epoch [2/10], Step [100/3079], Loss: 0.6809\n",
            "Epoch [2/10], Step [200/3079], Loss: 0.8081\n",
            "Epoch [2/10], Step [300/3079], Loss: 0.8269\n",
            "Epoch [2/10], Step [400/3079], Loss: 0.4090\n",
            "Epoch [2/10], Step [500/3079], Loss: 0.8227\n",
            "Epoch [2/10], Step [600/3079], Loss: 0.6907\n",
            "Epoch [2/10], Step [700/3079], Loss: 0.2478\n",
            "Epoch [2/10], Step [800/3079], Loss: 0.6139\n",
            "Epoch [2/10], Step [900/3079], Loss: 0.3057\n",
            "Epoch [2/10], Step [1000/3079], Loss: 0.4358\n",
            "Epoch [2/10], Step [1100/3079], Loss: 0.4440\n",
            "Epoch [2/10], Step [1200/3079], Loss: 0.8937\n",
            "Epoch [2/10], Step [1300/3079], Loss: 0.7438\n",
            "Epoch [2/10], Step [1400/3079], Loss: 0.3319\n",
            "Epoch [2/10], Step [1500/3079], Loss: 0.4315\n",
            "Epoch [2/10], Step [1600/3079], Loss: 0.2692\n",
            "Epoch [2/10], Step [1700/3079], Loss: 0.3229\n",
            "Epoch [2/10], Step [1800/3079], Loss: 0.2576\n",
            "Epoch [2/10], Step [1900/3079], Loss: 0.4944\n",
            "Epoch [2/10], Step [2000/3079], Loss: 0.3597\n",
            "Epoch [2/10], Step [2100/3079], Loss: 0.1041\n",
            "Epoch [2/10], Step [2200/3079], Loss: 0.3342\n",
            "Epoch [2/10], Step [2300/3079], Loss: 0.4839\n",
            "Epoch [2/10], Step [2400/3079], Loss: 0.4066\n",
            "Epoch [2/10], Step [2500/3079], Loss: 0.1400\n",
            "Epoch [2/10], Step [2600/3079], Loss: 0.2636\n",
            "Epoch [2/10], Step [2700/3079], Loss: 0.2354\n",
            "Epoch [2/10], Step [2800/3079], Loss: 0.3608\n",
            "Epoch [2/10], Step [2900/3079], Loss: 0.2683\n",
            "Epoch [2/10], Step [3000/3079], Loss: 0.4295\n"
          ]
        },
        {
          "metadata": {
            "tags": null
          },
          "name": "stderr",
          "output_type": "stream",
          "text": [
            "/usr/local/lib/python3.10/dist-packages/sklearn/metrics/_classification.py:1344: UndefinedMetricWarning: Precision is ill-defined and being set to 0.0 in labels with no predicted samples. Use `zero_division` parameter to control this behavior.\n",
            "  _warn_prf(average, modifier, msg_start, len(result))\n",
            "2023-12-08 23:45:53,321 - root - INFO - Accuracy: 92.02%\n",
            "2023-12-08 23:45:53,322 - root - INFO - Precision: 0.9025\n",
            "2023-12-08 23:45:53,323 - root - INFO - Recall: 0.9202\n",
            "2023-12-08 23:45:53,324 - root - INFO - F1 Score: 0.9048\n"
          ]
        },
        {
          "metadata": {
            "tags": null
          },
          "name": "stdout",
          "output_type": "stream",
          "text": [
            "Epoch [3/10], Step [100/3079], Loss: 0.3618\n",
            "Epoch [3/10], Step [200/3079], Loss: 0.3928\n",
            "Epoch [3/10], Step [300/3079], Loss: 0.2372\n",
            "Epoch [3/10], Step [400/3079], Loss: 0.1451\n",
            "Epoch [3/10], Step [500/3079], Loss: 0.2855\n",
            "Epoch [3/10], Step [600/3079], Loss: 0.3365\n",
            "Epoch [3/10], Step [700/3079], Loss: 0.2066\n",
            "Epoch [3/10], Step [800/3079], Loss: 0.2986\n",
            "Epoch [3/10], Step [900/3079], Loss: 0.1052\n",
            "Epoch [3/10], Step [1000/3079], Loss: 0.4403\n",
            "Epoch [3/10], Step [1100/3079], Loss: 0.1220\n",
            "Epoch [3/10], Step [1200/3079], Loss: 0.0498\n",
            "Epoch [3/10], Step [1300/3079], Loss: 0.3354\n",
            "Epoch [3/10], Step [1400/3079], Loss: 0.1676\n",
            "Epoch [3/10], Step [1500/3079], Loss: 0.4008\n",
            "Epoch [3/10], Step [1600/3079], Loss: 0.1313\n",
            "Epoch [3/10], Step [1700/3079], Loss: 0.2849\n",
            "Epoch [3/10], Step [1800/3079], Loss: 0.0707\n",
            "Epoch [3/10], Step [1900/3079], Loss: 0.1443\n",
            "Epoch [3/10], Step [2000/3079], Loss: 0.2732\n",
            "Epoch [3/10], Step [2100/3079], Loss: 0.0717\n",
            "Epoch [3/10], Step [2200/3079], Loss: 0.3018\n",
            "Epoch [3/10], Step [2300/3079], Loss: 0.1715\n",
            "Epoch [3/10], Step [2400/3079], Loss: 0.4569\n",
            "Epoch [3/10], Step [2500/3079], Loss: 0.1157\n",
            "Epoch [3/10], Step [2600/3079], Loss: 0.1622\n",
            "Epoch [3/10], Step [2700/3079], Loss: 0.4484\n",
            "Epoch [3/10], Step [2800/3079], Loss: 0.3234\n",
            "Epoch [3/10], Step [2900/3079], Loss: 0.3266\n",
            "Epoch [3/10], Step [3000/3079], Loss: 0.0854\n"
          ]
        },
        {
          "metadata": {
            "tags": null
          },
          "name": "stderr",
          "output_type": "stream",
          "text": [
            "/usr/local/lib/python3.10/dist-packages/sklearn/metrics/_classification.py:1344: UndefinedMetricWarning: Precision is ill-defined and being set to 0.0 in labels with no predicted samples. Use `zero_division` parameter to control this behavior.\n",
            "  _warn_prf(average, modifier, msg_start, len(result))\n",
            "2023-12-08 23:46:07,654 - root - INFO - Accuracy: 93.91%\n",
            "2023-12-08 23:46:07,655 - root - INFO - Precision: 0.9258\n",
            "2023-12-08 23:46:07,656 - root - INFO - Recall: 0.9391\n",
            "2023-12-08 23:46:07,657 - root - INFO - F1 Score: 0.9257\n"
          ]
        },
        {
          "metadata": {
            "tags": null
          },
          "name": "stdout",
          "output_type": "stream",
          "text": [
            "Epoch [4/10], Step [100/3079], Loss: 0.1758\n",
            "Epoch [4/10], Step [200/3079], Loss: 0.1046\n",
            "Epoch [4/10], Step [300/3079], Loss: 0.3932\n",
            "Epoch [4/10], Step [400/3079], Loss: 0.4690\n",
            "Epoch [4/10], Step [500/3079], Loss: 0.1020\n",
            "Epoch [4/10], Step [600/3079], Loss: 0.4680\n",
            "Epoch [4/10], Step [700/3079], Loss: 0.3656\n",
            "Epoch [4/10], Step [800/3079], Loss: 0.2202\n",
            "Epoch [4/10], Step [900/3079], Loss: 0.0535\n",
            "Epoch [4/10], Step [1000/3079], Loss: 0.1306\n",
            "Epoch [4/10], Step [1100/3079], Loss: 0.0802\n",
            "Epoch [4/10], Step [1200/3079], Loss: 0.1126\n",
            "Epoch [4/10], Step [1300/3079], Loss: 0.3034\n",
            "Epoch [4/10], Step [1400/3079], Loss: 0.1038\n",
            "Epoch [4/10], Step [1500/3079], Loss: 0.1545\n",
            "Epoch [4/10], Step [1600/3079], Loss: 0.3486\n",
            "Epoch [4/10], Step [1700/3079], Loss: 0.0970\n",
            "Epoch [4/10], Step [1800/3079], Loss: 0.3982\n",
            "Epoch [4/10], Step [1900/3079], Loss: 0.3427\n",
            "Epoch [4/10], Step [2000/3079], Loss: 0.2372\n",
            "Epoch [4/10], Step [2100/3079], Loss: 0.1163\n",
            "Epoch [4/10], Step [2200/3079], Loss: 0.1302\n",
            "Epoch [4/10], Step [2300/3079], Loss: 0.1965\n",
            "Epoch [4/10], Step [2400/3079], Loss: 0.2250\n",
            "Epoch [4/10], Step [2500/3079], Loss: 0.3481\n",
            "Epoch [4/10], Step [2600/3079], Loss: 0.0267\n",
            "Epoch [4/10], Step [2700/3079], Loss: 0.1652\n",
            "Epoch [4/10], Step [2800/3079], Loss: 0.1443\n",
            "Epoch [4/10], Step [2900/3079], Loss: 0.2764\n",
            "Epoch [4/10], Step [3000/3079], Loss: 0.2083\n"
          ]
        },
        {
          "metadata": {
            "tags": null
          },
          "name": "stderr",
          "output_type": "stream",
          "text": [
            "2023-12-08 23:46:21,958 - root - INFO - Accuracy: 94.58%\n",
            "2023-12-08 23:46:21,960 - root - INFO - Precision: 0.9395\n",
            "2023-12-08 23:46:21,962 - root - INFO - Recall: 0.9458\n",
            "2023-12-08 23:46:21,962 - root - INFO - F1 Score: 0.9414\n"
          ]
        },
        {
          "metadata": {
            "tags": null
          },
          "name": "stdout",
          "output_type": "stream",
          "text": [
            "Epoch [5/10], Step [100/3079], Loss: 0.0903\n",
            "Epoch [5/10], Step [200/3079], Loss: 0.0788\n",
            "Epoch [5/10], Step [300/3079], Loss: 0.2844\n",
            "Epoch [5/10], Step [400/3079], Loss: 0.2907\n",
            "Epoch [5/10], Step [500/3079], Loss: 0.2043\n",
            "Epoch [5/10], Step [600/3079], Loss: 0.1951\n",
            "Epoch [5/10], Step [700/3079], Loss: 0.0884\n",
            "Epoch [5/10], Step [800/3079], Loss: 0.3219\n",
            "Epoch [5/10], Step [900/3079], Loss: 0.0371\n",
            "Epoch [5/10], Step [1000/3079], Loss: 0.0354\n",
            "Epoch [5/10], Step [1100/3079], Loss: 0.2026\n",
            "Epoch [5/10], Step [1200/3079], Loss: 0.1405\n",
            "Epoch [5/10], Step [1300/3079], Loss: 0.0526\n",
            "Epoch [5/10], Step [1400/3079], Loss: 0.0509\n",
            "Epoch [5/10], Step [1500/3079], Loss: 0.2460\n",
            "Epoch [5/10], Step [1600/3079], Loss: 0.1439\n",
            "Epoch [5/10], Step [1700/3079], Loss: 0.0522\n",
            "Epoch [5/10], Step [1800/3079], Loss: 0.3710\n",
            "Epoch [5/10], Step [1900/3079], Loss: 0.2411\n",
            "Epoch [5/10], Step [2000/3079], Loss: 0.3837\n",
            "Epoch [5/10], Step [2100/3079], Loss: 0.0707\n",
            "Epoch [5/10], Step [2200/3079], Loss: 0.2377\n",
            "Epoch [5/10], Step [2300/3079], Loss: 0.3735\n",
            "Epoch [5/10], Step [2400/3079], Loss: 0.2340\n",
            "Epoch [5/10], Step [2500/3079], Loss: 0.3378\n",
            "Epoch [5/10], Step [2600/3079], Loss: 0.0693\n",
            "Epoch [5/10], Step [2700/3079], Loss: 0.1454\n",
            "Epoch [5/10], Step [2800/3079], Loss: 0.1464\n",
            "Epoch [5/10], Step [2900/3079], Loss: 0.1547\n",
            "Epoch [5/10], Step [3000/3079], Loss: 0.0963\n"
          ]
        },
        {
          "metadata": {
            "tags": null
          },
          "name": "stderr",
          "output_type": "stream",
          "text": [
            "/usr/local/lib/python3.10/dist-packages/sklearn/metrics/_classification.py:1344: UndefinedMetricWarning: Precision is ill-defined and being set to 0.0 in labels with no predicted samples. Use `zero_division` parameter to control this behavior.\n",
            "  _warn_prf(average, modifier, msg_start, len(result))\n",
            "2023-12-08 23:46:36,250 - root - INFO - Accuracy: 95.41%\n",
            "2023-12-08 23:46:36,251 - root - INFO - Precision: 0.9454\n",
            "2023-12-08 23:46:36,252 - root - INFO - Recall: 0.9541\n",
            "2023-12-08 23:46:36,253 - root - INFO - F1 Score: 0.9482\n"
          ]
        },
        {
          "metadata": {
            "tags": null
          },
          "name": "stdout",
          "output_type": "stream",
          "text": [
            "Epoch [6/10], Step [100/3079], Loss: 0.1658\n",
            "Epoch [6/10], Step [200/3079], Loss: 0.1613\n",
            "Epoch [6/10], Step [300/3079], Loss: 0.2161\n",
            "Epoch [6/10], Step [400/3079], Loss: 0.1437\n",
            "Epoch [6/10], Step [500/3079], Loss: 0.0190\n",
            "Epoch [6/10], Step [600/3079], Loss: 0.0879\n",
            "Epoch [6/10], Step [700/3079], Loss: 0.2943\n",
            "Epoch [6/10], Step [800/3079], Loss: 0.2806\n",
            "Epoch [6/10], Step [900/3079], Loss: 0.2670\n",
            "Epoch [6/10], Step [1000/3079], Loss: 0.0951\n",
            "Epoch [6/10], Step [1100/3079], Loss: 0.2568\n",
            "Epoch [6/10], Step [1200/3079], Loss: 0.0531\n",
            "Epoch [6/10], Step [1300/3079], Loss: 0.0827\n",
            "Epoch [6/10], Step [1400/3079], Loss: 0.4964\n",
            "Epoch [6/10], Step [1500/3079], Loss: 0.2138\n",
            "Epoch [6/10], Step [1600/3079], Loss: 0.0278\n",
            "Epoch [6/10], Step [1700/3079], Loss: 0.3957\n",
            "Epoch [6/10], Step [1800/3079], Loss: 0.1381\n",
            "Epoch [6/10], Step [1900/3079], Loss: 0.1195\n",
            "Epoch [6/10], Step [2000/3079], Loss: 0.3077\n",
            "Epoch [6/10], Step [2100/3079], Loss: 0.1220\n",
            "Epoch [6/10], Step [2200/3079], Loss: 0.0190\n",
            "Epoch [6/10], Step [2300/3079], Loss: 0.2427\n",
            "Epoch [6/10], Step [2400/3079], Loss: 0.0192\n",
            "Epoch [6/10], Step [2500/3079], Loss: 0.1213\n",
            "Epoch [6/10], Step [2600/3079], Loss: 0.1644\n",
            "Epoch [6/10], Step [2700/3079], Loss: 0.0858\n",
            "Epoch [6/10], Step [2800/3079], Loss: 0.0440\n",
            "Epoch [6/10], Step [2900/3079], Loss: 0.0311\n",
            "Epoch [6/10], Step [3000/3079], Loss: 0.0960\n"
          ]
        },
        {
          "metadata": {
            "tags": null
          },
          "name": "stderr",
          "output_type": "stream",
          "text": [
            "2023-12-08 23:46:50,566 - root - INFO - Accuracy: 95.02%\n",
            "2023-12-08 23:46:50,568 - root - INFO - Precision: 0.9511\n",
            "2023-12-08 23:46:50,568 - root - INFO - Recall: 0.9502\n",
            "2023-12-08 23:46:50,569 - root - INFO - F1 Score: 0.9494\n"
          ]
        },
        {
          "metadata": {
            "tags": null
          },
          "name": "stdout",
          "output_type": "stream",
          "text": [
            "Epoch [7/10], Step [100/3079], Loss: 0.0504\n",
            "Epoch [7/10], Step [200/3079], Loss: 0.2925\n",
            "Epoch [7/10], Step [300/3079], Loss: 0.0202\n",
            "Epoch [7/10], Step [400/3079], Loss: 0.0734\n",
            "Epoch [7/10], Step [500/3079], Loss: 0.0705\n",
            "Epoch [7/10], Step [600/3079], Loss: 0.2574\n",
            "Epoch [7/10], Step [700/3079], Loss: 0.0636\n",
            "Epoch [7/10], Step [800/3079], Loss: 0.3503\n",
            "Epoch [7/10], Step [900/3079], Loss: 0.0819\n",
            "Epoch [7/10], Step [1000/3079], Loss: 0.1728\n",
            "Epoch [7/10], Step [1100/3079], Loss: 0.1766\n",
            "Epoch [7/10], Step [1200/3079], Loss: 0.3993\n",
            "Epoch [7/10], Step [1300/3079], Loss: 0.0312\n",
            "Epoch [7/10], Step [1400/3079], Loss: 0.1350\n",
            "Epoch [7/10], Step [1500/3079], Loss: 0.1284\n",
            "Epoch [7/10], Step [1600/3079], Loss: 0.0498\n",
            "Epoch [7/10], Step [1700/3079], Loss: 0.1185\n",
            "Epoch [7/10], Step [1800/3079], Loss: 0.0499\n",
            "Epoch [7/10], Step [1900/3079], Loss: 0.1923\n",
            "Epoch [7/10], Step [2000/3079], Loss: 0.0391\n",
            "Epoch [7/10], Step [2100/3079], Loss: 0.1022\n",
            "Epoch [7/10], Step [2200/3079], Loss: 0.0853\n",
            "Epoch [7/10], Step [2300/3079], Loss: 0.0545\n",
            "Epoch [7/10], Step [2400/3079], Loss: 0.1183\n",
            "Epoch [7/10], Step [2500/3079], Loss: 0.0399\n",
            "Epoch [7/10], Step [2600/3079], Loss: 0.0416\n",
            "Epoch [7/10], Step [2700/3079], Loss: 0.2328\n",
            "Epoch [7/10], Step [2800/3079], Loss: 0.0967\n",
            "Epoch [7/10], Step [2900/3079], Loss: 0.0153\n",
            "Epoch [7/10], Step [3000/3079], Loss: 0.0518\n"
          ]
        },
        {
          "metadata": {
            "tags": null
          },
          "name": "stderr",
          "output_type": "stream",
          "text": [
            "2023-12-08 23:47:04,707 - root - INFO - Accuracy: 96.33%\n",
            "2023-12-08 23:47:04,708 - root - INFO - Precision: 0.9617\n",
            "2023-12-08 23:47:04,709 - root - INFO - Recall: 0.9633\n",
            "2023-12-08 23:47:04,712 - root - INFO - F1 Score: 0.9606\n"
          ]
        },
        {
          "metadata": {
            "tags": null
          },
          "name": "stdout",
          "output_type": "stream",
          "text": [
            "Epoch [8/10], Step [100/3079], Loss: 0.1658\n",
            "Epoch [8/10], Step [200/3079], Loss: 0.2189\n",
            "Epoch [8/10], Step [300/3079], Loss: 0.1984\n",
            "Epoch [8/10], Step [400/3079], Loss: 0.0494\n",
            "Epoch [8/10], Step [500/3079], Loss: 0.3388\n",
            "Epoch [8/10], Step [600/3079], Loss: 0.0552\n",
            "Epoch [8/10], Step [700/3079], Loss: 0.0099\n",
            "Epoch [8/10], Step [800/3079], Loss: 0.0738\n",
            "Epoch [8/10], Step [900/3079], Loss: 0.0151\n",
            "Epoch [8/10], Step [1000/3079], Loss: 0.2710\n",
            "Epoch [8/10], Step [1100/3079], Loss: 0.1239\n",
            "Epoch [8/10], Step [1200/3079], Loss: 0.1361\n",
            "Epoch [8/10], Step [1300/3079], Loss: 0.0374\n",
            "Epoch [8/10], Step [1400/3079], Loss: 0.0444\n",
            "Epoch [8/10], Step [1500/3079], Loss: 0.0247\n",
            "Epoch [8/10], Step [1600/3079], Loss: 0.0988\n",
            "Epoch [8/10], Step [1700/3079], Loss: 0.2348\n",
            "Epoch [8/10], Step [1800/3079], Loss: 0.0667\n",
            "Epoch [8/10], Step [1900/3079], Loss: 0.0389\n",
            "Epoch [8/10], Step [2000/3079], Loss: 0.3746\n",
            "Epoch [8/10], Step [2100/3079], Loss: 0.1880\n",
            "Epoch [8/10], Step [2200/3079], Loss: 0.1465\n",
            "Epoch [8/10], Step [2300/3079], Loss: 0.0312\n",
            "Epoch [8/10], Step [2400/3079], Loss: 0.1531\n",
            "Epoch [8/10], Step [2500/3079], Loss: 0.0124\n",
            "Epoch [8/10], Step [2600/3079], Loss: 0.0231\n",
            "Epoch [8/10], Step [2700/3079], Loss: 0.0313\n",
            "Epoch [8/10], Step [2800/3079], Loss: 0.1936\n",
            "Epoch [8/10], Step [2900/3079], Loss: 0.1231\n",
            "Epoch [8/10], Step [3000/3079], Loss: 0.1335\n"
          ]
        },
        {
          "metadata": {
            "tags": null
          },
          "name": "stderr",
          "output_type": "stream",
          "text": [
            "2023-12-08 23:47:19,018 - root - INFO - Accuracy: 96.86%\n",
            "2023-12-08 23:47:19,019 - root - INFO - Precision: 0.9672\n",
            "2023-12-08 23:47:19,020 - root - INFO - Recall: 0.9686\n",
            "2023-12-08 23:47:19,020 - root - INFO - F1 Score: 0.9663\n"
          ]
        },
        {
          "metadata": {
            "tags": null
          },
          "name": "stdout",
          "output_type": "stream",
          "text": [
            "Epoch [9/10], Step [100/3079], Loss: 0.1315\n",
            "Epoch [9/10], Step [200/3079], Loss: 0.1281\n",
            "Epoch [9/10], Step [300/3079], Loss: 0.0386\n",
            "Epoch [9/10], Step [400/3079], Loss: 0.1261\n",
            "Epoch [9/10], Step [500/3079], Loss: 0.1607\n",
            "Epoch [9/10], Step [600/3079], Loss: 0.0308\n",
            "Epoch [9/10], Step [700/3079], Loss: 0.0319\n",
            "Epoch [9/10], Step [800/3079], Loss: 0.2451\n",
            "Epoch [9/10], Step [900/3079], Loss: 0.1635\n",
            "Epoch [9/10], Step [1000/3079], Loss: 0.0249\n",
            "Epoch [9/10], Step [1100/3079], Loss: 0.0190\n",
            "Epoch [9/10], Step [1200/3079], Loss: 0.0273\n",
            "Epoch [9/10], Step [1300/3079], Loss: 0.3421\n",
            "Epoch [9/10], Step [1400/3079], Loss: 0.0116\n",
            "Epoch [9/10], Step [1500/3079], Loss: 0.1082\n",
            "Epoch [9/10], Step [1600/3079], Loss: 0.0200\n",
            "Epoch [9/10], Step [1700/3079], Loss: 0.0199\n",
            "Epoch [9/10], Step [1800/3079], Loss: 0.1790\n",
            "Epoch [9/10], Step [1900/3079], Loss: 0.1488\n",
            "Epoch [9/10], Step [2000/3079], Loss: 0.1773\n",
            "Epoch [9/10], Step [2100/3079], Loss: 0.2946\n",
            "Epoch [9/10], Step [2200/3079], Loss: 0.0144\n",
            "Epoch [9/10], Step [2300/3079], Loss: 0.0302\n",
            "Epoch [9/10], Step [2400/3079], Loss: 0.1236\n",
            "Epoch [9/10], Step [2500/3079], Loss: 0.1583\n",
            "Epoch [9/10], Step [2600/3079], Loss: 0.0208\n",
            "Epoch [9/10], Step [2700/3079], Loss: 0.3226\n",
            "Epoch [9/10], Step [2800/3079], Loss: 0.2779\n",
            "Epoch [9/10], Step [2900/3079], Loss: 0.0253\n",
            "Epoch [9/10], Step [3000/3079], Loss: 0.0200\n"
          ]
        },
        {
          "metadata": {
            "tags": null
          },
          "name": "stderr",
          "output_type": "stream",
          "text": [
            "2023-12-08 23:47:33,303 - root - INFO - Accuracy: 97.07%\n",
            "2023-12-08 23:47:33,304 - root - INFO - Precision: 0.9694\n",
            "2023-12-08 23:47:33,305 - root - INFO - Recall: 0.9707\n",
            "2023-12-08 23:47:33,306 - root - INFO - F1 Score: 0.9691\n"
          ]
        },
        {
          "metadata": {
            "tags": null
          },
          "name": "stdout",
          "output_type": "stream",
          "text": [
            "Epoch [10/10], Step [100/3079], Loss: 0.1394\n",
            "Epoch [10/10], Step [200/3079], Loss: 0.0357\n",
            "Epoch [10/10], Step [300/3079], Loss: 0.2169\n",
            "Epoch [10/10], Step [400/3079], Loss: 0.0204\n",
            "Epoch [10/10], Step [500/3079], Loss: 0.2120\n",
            "Epoch [10/10], Step [600/3079], Loss: 0.0895\n",
            "Epoch [10/10], Step [700/3079], Loss: 0.0441\n",
            "Epoch [10/10], Step [800/3079], Loss: 0.0783\n",
            "Epoch [10/10], Step [900/3079], Loss: 0.0807\n",
            "Epoch [10/10], Step [1000/3079], Loss: 0.0413\n",
            "Epoch [10/10], Step [1100/3079], Loss: 0.1943\n",
            "Epoch [10/10], Step [1200/3079], Loss: 0.0927\n",
            "Epoch [10/10], Step [1300/3079], Loss: 0.1638\n",
            "Epoch [10/10], Step [1400/3079], Loss: 0.0380\n",
            "Epoch [10/10], Step [1500/3079], Loss: 0.0274\n",
            "Epoch [10/10], Step [1600/3079], Loss: 0.0174\n",
            "Epoch [10/10], Step [1700/3079], Loss: 0.0164\n",
            "Epoch [10/10], Step [1800/3079], Loss: 0.0098\n",
            "Epoch [10/10], Step [1900/3079], Loss: 0.1063\n",
            "Epoch [10/10], Step [2000/3079], Loss: 0.0170\n",
            "Epoch [10/10], Step [2100/3079], Loss: 0.3174\n",
            "Epoch [10/10], Step [2200/3079], Loss: 0.0332\n",
            "Epoch [10/10], Step [2300/3079], Loss: 0.0827\n",
            "Epoch [10/10], Step [2400/3079], Loss: 0.0272\n",
            "Epoch [10/10], Step [2500/3079], Loss: 0.0925\n",
            "Epoch [10/10], Step [2600/3079], Loss: 0.1504\n",
            "Epoch [10/10], Step [2700/3079], Loss: 0.0168\n",
            "Epoch [10/10], Step [2800/3079], Loss: 0.0229\n",
            "Epoch [10/10], Step [2900/3079], Loss: 0.0220\n",
            "Epoch [10/10], Step [3000/3079], Loss: 0.0158\n"
          ]
        },
        {
          "metadata": {
            "tags": null
          },
          "name": "stderr",
          "output_type": "stream",
          "text": [
            "2023-12-08 23:47:47,588 - root - INFO - Accuracy: 97.40%\n",
            "2023-12-08 23:47:47,589 - root - INFO - Precision: 0.9732\n",
            "2023-12-08 23:47:47,590 - root - INFO - Recall: 0.9740\n",
            "2023-12-08 23:47:47,591 - root - INFO - F1 Score: 0.9720\n"
          ]
        },
        {
          "metadata": {
            "tags": null
          },
          "name": "stdout",
          "output_type": "stream",
          "text": [
            "FOLD 3\n",
            "--------------------------------\n",
            "LSTM(\n",
            "  (lstm): LSTM(1, 128, num_layers=2, batch_first=True)\n",
            "  (fc): Linear(in_features=128, out_features=5, bias=True)\n",
            ")\n",
            "Epoch [1/10], Step [100/3079], Loss: 0.6572\n",
            "Epoch [1/10], Step [200/3079], Loss: 0.6900\n",
            "Epoch [1/10], Step [300/3079], Loss: 0.7261\n",
            "Epoch [1/10], Step [400/3079], Loss: 1.0971\n",
            "Epoch [1/10], Step [500/3079], Loss: 0.5526\n",
            "Epoch [1/10], Step [600/3079], Loss: 0.6077\n",
            "Epoch [1/10], Step [700/3079], Loss: 0.7020\n",
            "Epoch [1/10], Step [800/3079], Loss: 0.6991\n",
            "Epoch [1/10], Step [900/3079], Loss: 0.5427\n",
            "Epoch [1/10], Step [1000/3079], Loss: 1.0680\n",
            "Epoch [1/10], Step [1100/3079], Loss: 0.4721\n",
            "Epoch [1/10], Step [1200/3079], Loss: 0.5293\n",
            "Epoch [1/10], Step [1300/3079], Loss: 0.4298\n",
            "Epoch [1/10], Step [1400/3079], Loss: 1.1220\n",
            "Epoch [1/10], Step [1500/3079], Loss: 0.4546\n",
            "Epoch [1/10], Step [1600/3079], Loss: 0.5228\n",
            "Epoch [1/10], Step [1700/3079], Loss: 0.9984\n",
            "Epoch [1/10], Step [1800/3079], Loss: 0.9467\n",
            "Epoch [1/10], Step [1900/3079], Loss: 0.3346\n",
            "Epoch [1/10], Step [2000/3079], Loss: 0.9908\n",
            "Epoch [1/10], Step [2100/3079], Loss: 0.4036\n",
            "Epoch [1/10], Step [2200/3079], Loss: 0.6539\n",
            "Epoch [1/10], Step [2300/3079], Loss: 0.4782\n",
            "Epoch [1/10], Step [2400/3079], Loss: 0.4229\n",
            "Epoch [1/10], Step [2500/3079], Loss: 0.4408\n",
            "Epoch [1/10], Step [2600/3079], Loss: 0.9290\n",
            "Epoch [1/10], Step [2700/3079], Loss: 0.5627\n",
            "Epoch [1/10], Step [2800/3079], Loss: 0.4759\n",
            "Epoch [1/10], Step [2900/3079], Loss: 0.4799\n",
            "Epoch [1/10], Step [3000/3079], Loss: 0.5569\n"
          ]
        },
        {
          "metadata": {
            "tags": null
          },
          "name": "stderr",
          "output_type": "stream",
          "text": [
            "/usr/local/lib/python3.10/dist-packages/sklearn/metrics/_classification.py:1344: UndefinedMetricWarning: Precision is ill-defined and being set to 0.0 in labels with no predicted samples. Use `zero_division` parameter to control this behavior.\n",
            "  _warn_prf(average, modifier, msg_start, len(result))\n",
            "2023-12-08 23:48:01,871 - root - INFO - Accuracy: 82.89%\n",
            "2023-12-08 23:48:01,872 - root - INFO - Precision: 0.7681\n",
            "2023-12-08 23:48:01,873 - root - INFO - Recall: 0.8289\n",
            "2023-12-08 23:48:01,875 - root - INFO - F1 Score: 0.7528\n"
          ]
        },
        {
          "metadata": {
            "tags": null
          },
          "name": "stdout",
          "output_type": "stream",
          "text": [
            "Epoch [2/10], Step [100/3079], Loss: 0.6404\n",
            "Epoch [2/10], Step [200/3079], Loss: 0.6573\n",
            "Epoch [2/10], Step [300/3079], Loss: 0.5069\n",
            "Epoch [2/10], Step [400/3079], Loss: 0.4894\n",
            "Epoch [2/10], Step [500/3079], Loss: 0.3194\n",
            "Epoch [2/10], Step [600/3079], Loss: 0.5791\n",
            "Epoch [2/10], Step [700/3079], Loss: 0.5961\n",
            "Epoch [2/10], Step [800/3079], Loss: 0.3740\n",
            "Epoch [2/10], Step [900/3079], Loss: 0.3300\n",
            "Epoch [2/10], Step [1000/3079], Loss: 0.2515\n",
            "Epoch [2/10], Step [1100/3079], Loss: 0.5694\n",
            "Epoch [2/10], Step [1200/3079], Loss: 0.5090\n",
            "Epoch [2/10], Step [1300/3079], Loss: 0.6660\n",
            "Epoch [2/10], Step [1400/3079], Loss: 0.4452\n",
            "Epoch [2/10], Step [1500/3079], Loss: 0.5607\n",
            "Epoch [2/10], Step [1600/3079], Loss: 0.8049\n",
            "Epoch [2/10], Step [1700/3079], Loss: 0.7301\n",
            "Epoch [2/10], Step [1800/3079], Loss: 0.4547\n",
            "Epoch [2/10], Step [1900/3079], Loss: 0.4827\n",
            "Epoch [2/10], Step [2000/3079], Loss: 0.6081\n",
            "Epoch [2/10], Step [2100/3079], Loss: 0.7182\n",
            "Epoch [2/10], Step [2200/3079], Loss: 0.1452\n",
            "Epoch [2/10], Step [2300/3079], Loss: 0.3114\n",
            "Epoch [2/10], Step [2400/3079], Loss: 0.5507\n",
            "Epoch [2/10], Step [2500/3079], Loss: 0.6380\n",
            "Epoch [2/10], Step [2600/3079], Loss: 0.3771\n",
            "Epoch [2/10], Step [2700/3079], Loss: 0.5920\n",
            "Epoch [2/10], Step [2800/3079], Loss: 0.4148\n",
            "Epoch [2/10], Step [2900/3079], Loss: 0.5400\n",
            "Epoch [2/10], Step [3000/3079], Loss: 0.3439\n"
          ]
        },
        {
          "metadata": {
            "tags": null
          },
          "name": "stderr",
          "output_type": "stream",
          "text": [
            "/usr/local/lib/python3.10/dist-packages/sklearn/metrics/_classification.py:1344: UndefinedMetricWarning: Precision is ill-defined and being set to 0.0 in labels with no predicted samples. Use `zero_division` parameter to control this behavior.\n",
            "  _warn_prf(average, modifier, msg_start, len(result))\n",
            "2023-12-08 23:48:16,215 - root - INFO - Accuracy: 81.36%\n",
            "2023-12-08 23:48:16,216 - root - INFO - Precision: 0.7993\n",
            "2023-12-08 23:48:16,216 - root - INFO - Recall: 0.8136\n",
            "2023-12-08 23:48:16,217 - root - INFO - F1 Score: 0.7927\n"
          ]
        },
        {
          "metadata": {
            "tags": null
          },
          "name": "stdout",
          "output_type": "stream",
          "text": [
            "Epoch [3/10], Step [100/3079], Loss: 0.6145\n",
            "Epoch [3/10], Step [200/3079], Loss: 0.2931\n",
            "Epoch [3/10], Step [300/3079], Loss: 0.3418\n",
            "Epoch [3/10], Step [400/3079], Loss: 0.8141\n",
            "Epoch [3/10], Step [500/3079], Loss: 0.4674\n",
            "Epoch [3/10], Step [600/3079], Loss: 0.3946\n",
            "Epoch [3/10], Step [700/3079], Loss: 0.3623\n",
            "Epoch [3/10], Step [800/3079], Loss: 0.5426\n",
            "Epoch [3/10], Step [900/3079], Loss: 0.1385\n",
            "Epoch [3/10], Step [1000/3079], Loss: 0.6075\n",
            "Epoch [3/10], Step [1100/3079], Loss: 0.2331\n",
            "Epoch [3/10], Step [1200/3079], Loss: 0.4212\n",
            "Epoch [3/10], Step [1300/3079], Loss: 0.4264\n",
            "Epoch [3/10], Step [1400/3079], Loss: 0.6009\n",
            "Epoch [3/10], Step [1500/3079], Loss: 0.2639\n",
            "Epoch [3/10], Step [1600/3079], Loss: 0.6748\n",
            "Epoch [3/10], Step [1700/3079], Loss: 0.2839\n",
            "Epoch [3/10], Step [1800/3079], Loss: 0.3877\n",
            "Epoch [3/10], Step [1900/3079], Loss: 0.2287\n",
            "Epoch [3/10], Step [2000/3079], Loss: 0.4024\n",
            "Epoch [3/10], Step [2100/3079], Loss: 0.1319\n",
            "Epoch [3/10], Step [2200/3079], Loss: 0.3949\n",
            "Epoch [3/10], Step [2300/3079], Loss: 0.2755\n",
            "Epoch [3/10], Step [2400/3079], Loss: 0.4538\n",
            "Epoch [3/10], Step [2500/3079], Loss: 0.4212\n",
            "Epoch [3/10], Step [2600/3079], Loss: 0.4273\n",
            "Epoch [3/10], Step [2700/3079], Loss: 0.3161\n",
            "Epoch [3/10], Step [2800/3079], Loss: 0.6439\n",
            "Epoch [3/10], Step [2900/3079], Loss: 0.5199\n",
            "Epoch [3/10], Step [3000/3079], Loss: 0.1201\n"
          ]
        },
        {
          "metadata": {
            "tags": null
          },
          "name": "stderr",
          "output_type": "stream",
          "text": [
            "/usr/local/lib/python3.10/dist-packages/sklearn/metrics/_classification.py:1344: UndefinedMetricWarning: Precision is ill-defined and being set to 0.0 in labels with no predicted samples. Use `zero_division` parameter to control this behavior.\n",
            "  _warn_prf(average, modifier, msg_start, len(result))\n",
            "2023-12-08 23:48:30,548 - root - INFO - Accuracy: 88.89%\n",
            "2023-12-08 23:48:30,549 - root - INFO - Precision: 0.8563\n",
            "2023-12-08 23:48:30,550 - root - INFO - Recall: 0.8889\n",
            "2023-12-08 23:48:30,551 - root - INFO - F1 Score: 0.8697\n"
          ]
        },
        {
          "metadata": {
            "tags": null
          },
          "name": "stdout",
          "output_type": "stream",
          "text": [
            "Epoch [4/10], Step [100/3079], Loss: 0.1952\n",
            "Epoch [4/10], Step [200/3079], Loss: 0.4118\n",
            "Epoch [4/10], Step [300/3079], Loss: 0.4089\n",
            "Epoch [4/10], Step [400/3079], Loss: 0.2227\n",
            "Epoch [4/10], Step [500/3079], Loss: 0.2000\n",
            "Epoch [4/10], Step [600/3079], Loss: 0.5335\n",
            "Epoch [4/10], Step [700/3079], Loss: 0.8836\n",
            "Epoch [4/10], Step [800/3079], Loss: 0.5938\n",
            "Epoch [4/10], Step [900/3079], Loss: 0.5375\n",
            "Epoch [4/10], Step [1000/3079], Loss: 0.9164\n",
            "Epoch [4/10], Step [1100/3079], Loss: 0.6945\n",
            "Epoch [4/10], Step [1200/3079], Loss: 0.2912\n",
            "Epoch [4/10], Step [1300/3079], Loss: 0.5904\n",
            "Epoch [4/10], Step [1400/3079], Loss: 0.4584\n",
            "Epoch [4/10], Step [1500/3079], Loss: 0.4938\n",
            "Epoch [4/10], Step [1600/3079], Loss: 0.5475\n",
            "Epoch [4/10], Step [1700/3079], Loss: 0.4130\n",
            "Epoch [4/10], Step [1800/3079], Loss: 0.3907\n",
            "Epoch [4/10], Step [1900/3079], Loss: 0.6491\n",
            "Epoch [4/10], Step [2000/3079], Loss: 0.1538\n",
            "Epoch [4/10], Step [2100/3079], Loss: 0.4190\n",
            "Epoch [4/10], Step [2200/3079], Loss: 0.5400\n",
            "Epoch [4/10], Step [2300/3079], Loss: 0.2176\n",
            "Epoch [4/10], Step [2400/3079], Loss: 0.3939\n",
            "Epoch [4/10], Step [2500/3079], Loss: 0.3626\n",
            "Epoch [4/10], Step [2600/3079], Loss: 0.0945\n",
            "Epoch [4/10], Step [2700/3079], Loss: 0.5488\n",
            "Epoch [4/10], Step [2800/3079], Loss: 0.4686\n",
            "Epoch [4/10], Step [2900/3079], Loss: 0.6319\n",
            "Epoch [4/10], Step [3000/3079], Loss: 0.5145\n"
          ]
        },
        {
          "metadata": {
            "tags": null
          },
          "name": "stderr",
          "output_type": "stream",
          "text": [
            "/usr/local/lib/python3.10/dist-packages/sklearn/metrics/_classification.py:1344: UndefinedMetricWarning: Precision is ill-defined and being set to 0.0 in labels with no predicted samples. Use `zero_division` parameter to control this behavior.\n",
            "  _warn_prf(average, modifier, msg_start, len(result))\n",
            "2023-12-08 23:48:44,868 - root - INFO - Accuracy: 88.84%\n",
            "2023-12-08 23:48:44,869 - root - INFO - Precision: 0.8802\n",
            "2023-12-08 23:48:44,871 - root - INFO - Recall: 0.8884\n",
            "2023-12-08 23:48:44,872 - root - INFO - F1 Score: 0.8646\n"
          ]
        },
        {
          "metadata": {
            "tags": null
          },
          "name": "stdout",
          "output_type": "stream",
          "text": [
            "Epoch [5/10], Step [100/3079], Loss: 0.2490\n",
            "Epoch [5/10], Step [200/3079], Loss: 0.6019\n",
            "Epoch [5/10], Step [300/3079], Loss: 0.5493\n",
            "Epoch [5/10], Step [400/3079], Loss: 0.2794\n",
            "Epoch [5/10], Step [500/3079], Loss: 0.7748\n",
            "Epoch [5/10], Step [600/3079], Loss: 0.3002\n",
            "Epoch [5/10], Step [700/3079], Loss: 0.5103\n",
            "Epoch [5/10], Step [800/3079], Loss: 0.5370\n",
            "Epoch [5/10], Step [900/3079], Loss: 0.6538\n",
            "Epoch [5/10], Step [1000/3079], Loss: 0.5368\n",
            "Epoch [5/10], Step [1100/3079], Loss: 0.3465\n",
            "Epoch [5/10], Step [1200/3079], Loss: 0.6689\n",
            "Epoch [5/10], Step [1300/3079], Loss: 0.3829\n",
            "Epoch [5/10], Step [1400/3079], Loss: 0.5780\n",
            "Epoch [5/10], Step [1500/3079], Loss: 0.3200\n",
            "Epoch [5/10], Step [1600/3079], Loss: 0.4962\n",
            "Epoch [5/10], Step [1700/3079], Loss: 0.3826\n",
            "Epoch [5/10], Step [1800/3079], Loss: 0.1374\n",
            "Epoch [5/10], Step [1900/3079], Loss: 0.2667\n",
            "Epoch [5/10], Step [2000/3079], Loss: 0.2437\n",
            "Epoch [5/10], Step [2100/3079], Loss: 0.1670\n",
            "Epoch [5/10], Step [2200/3079], Loss: 0.1613\n",
            "Epoch [5/10], Step [2300/3079], Loss: 0.1616\n",
            "Epoch [5/10], Step [2400/3079], Loss: 0.1802\n",
            "Epoch [5/10], Step [2500/3079], Loss: 0.3245\n",
            "Epoch [5/10], Step [2600/3079], Loss: 0.3876\n",
            "Epoch [5/10], Step [2700/3079], Loss: 0.3631\n",
            "Epoch [5/10], Step [2800/3079], Loss: 0.1257\n",
            "Epoch [5/10], Step [2900/3079], Loss: 0.4691\n",
            "Epoch [5/10], Step [3000/3079], Loss: 0.1558\n"
          ]
        },
        {
          "metadata": {
            "tags": null
          },
          "name": "stderr",
          "output_type": "stream",
          "text": [
            "/usr/local/lib/python3.10/dist-packages/sklearn/metrics/_classification.py:1344: UndefinedMetricWarning: Precision is ill-defined and being set to 0.0 in labels with no predicted samples. Use `zero_division` parameter to control this behavior.\n",
            "  _warn_prf(average, modifier, msg_start, len(result))\n",
            "2023-12-08 23:48:59,024 - root - INFO - Accuracy: 91.01%\n",
            "2023-12-08 23:48:59,025 - root - INFO - Precision: 0.9037\n",
            "2023-12-08 23:48:59,026 - root - INFO - Recall: 0.9101\n",
            "2023-12-08 23:48:59,029 - root - INFO - F1 Score: 0.8922\n"
          ]
        },
        {
          "metadata": {
            "tags": null
          },
          "name": "stdout",
          "output_type": "stream",
          "text": [
            "Epoch [6/10], Step [100/3079], Loss: 0.3294\n",
            "Epoch [6/10], Step [200/3079], Loss: 0.4549\n",
            "Epoch [6/10], Step [300/3079], Loss: 0.3835\n",
            "Epoch [6/10], Step [400/3079], Loss: 0.2852\n",
            "Epoch [6/10], Step [500/3079], Loss: 0.4073\n",
            "Epoch [6/10], Step [600/3079], Loss: 0.2030\n",
            "Epoch [6/10], Step [700/3079], Loss: 0.5098\n",
            "Epoch [6/10], Step [800/3079], Loss: 0.2516\n",
            "Epoch [6/10], Step [900/3079], Loss: 0.4246\n",
            "Epoch [6/10], Step [1000/3079], Loss: 0.4444\n",
            "Epoch [6/10], Step [1100/3079], Loss: 0.2570\n",
            "Epoch [6/10], Step [1200/3079], Loss: 0.3380\n",
            "Epoch [6/10], Step [1300/3079], Loss: 0.2958\n",
            "Epoch [6/10], Step [1400/3079], Loss: 0.2935\n",
            "Epoch [6/10], Step [1500/3079], Loss: 0.0963\n",
            "Epoch [6/10], Step [1600/3079], Loss: 0.2718\n",
            "Epoch [6/10], Step [1700/3079], Loss: 0.1080\n",
            "Epoch [6/10], Step [1800/3079], Loss: 0.4381\n",
            "Epoch [6/10], Step [1900/3079], Loss: 0.6326\n",
            "Epoch [6/10], Step [2000/3079], Loss: 0.3150\n",
            "Epoch [6/10], Step [2100/3079], Loss: 0.3050\n",
            "Epoch [6/10], Step [2200/3079], Loss: 0.5040\n",
            "Epoch [6/10], Step [2300/3079], Loss: 0.7021\n",
            "Epoch [6/10], Step [2400/3079], Loss: 0.2554\n",
            "Epoch [6/10], Step [2500/3079], Loss: 0.2328\n",
            "Epoch [6/10], Step [2600/3079], Loss: 0.2826\n",
            "Epoch [6/10], Step [2700/3079], Loss: 0.2027\n",
            "Epoch [6/10], Step [2800/3079], Loss: 0.6260\n",
            "Epoch [6/10], Step [2900/3079], Loss: 0.5932\n",
            "Epoch [6/10], Step [3000/3079], Loss: 0.0565\n"
          ]
        },
        {
          "metadata": {
            "tags": null
          },
          "name": "stderr",
          "output_type": "stream",
          "text": [
            "/usr/local/lib/python3.10/dist-packages/sklearn/metrics/_classification.py:1344: UndefinedMetricWarning: Precision is ill-defined and being set to 0.0 in labels with no predicted samples. Use `zero_division` parameter to control this behavior.\n",
            "  _warn_prf(average, modifier, msg_start, len(result))\n",
            "2023-12-08 23:49:13,361 - root - INFO - Accuracy: 92.08%\n",
            "2023-12-08 23:49:13,362 - root - INFO - Precision: 0.9031\n",
            "2023-12-08 23:49:13,363 - root - INFO - Recall: 0.9208\n",
            "2023-12-08 23:49:13,364 - root - INFO - F1 Score: 0.9081\n"
          ]
        },
        {
          "metadata": {
            "tags": null
          },
          "name": "stdout",
          "output_type": "stream",
          "text": [
            "Epoch [7/10], Step [100/3079], Loss: 0.3129\n",
            "Epoch [7/10], Step [200/3079], Loss: 0.2721\n",
            "Epoch [7/10], Step [300/3079], Loss: 0.1714\n",
            "Epoch [7/10], Step [400/3079], Loss: 0.1894\n",
            "Epoch [7/10], Step [500/3079], Loss: 0.2038\n",
            "Epoch [7/10], Step [600/3079], Loss: 0.2448\n",
            "Epoch [7/10], Step [700/3079], Loss: 0.5042\n",
            "Epoch [7/10], Step [800/3079], Loss: 0.2702\n",
            "Epoch [7/10], Step [900/3079], Loss: 0.1241\n",
            "Epoch [7/10], Step [1000/3079], Loss: 0.3659\n",
            "Epoch [7/10], Step [1100/3079], Loss: 0.2358\n",
            "Epoch [7/10], Step [1200/3079], Loss: 0.1803\n",
            "Epoch [7/10], Step [1300/3079], Loss: 0.3336\n",
            "Epoch [7/10], Step [1400/3079], Loss: 0.6386\n",
            "Epoch [7/10], Step [1500/3079], Loss: 0.2019\n",
            "Epoch [7/10], Step [1600/3079], Loss: 0.1189\n",
            "Epoch [7/10], Step [1700/3079], Loss: 0.1153\n",
            "Epoch [7/10], Step [1800/3079], Loss: 0.2099\n",
            "Epoch [7/10], Step [1900/3079], Loss: 0.5492\n",
            "Epoch [7/10], Step [2000/3079], Loss: 0.5128\n",
            "Epoch [7/10], Step [2100/3079], Loss: 0.5324\n",
            "Epoch [7/10], Step [2200/3079], Loss: 0.0856\n",
            "Epoch [7/10], Step [2300/3079], Loss: 0.2220\n",
            "Epoch [7/10], Step [2400/3079], Loss: 0.2468\n",
            "Epoch [7/10], Step [2500/3079], Loss: 0.2679\n",
            "Epoch [7/10], Step [2600/3079], Loss: 0.2384\n",
            "Epoch [7/10], Step [2700/3079], Loss: 0.0967\n",
            "Epoch [7/10], Step [2800/3079], Loss: 0.4485\n",
            "Epoch [7/10], Step [2900/3079], Loss: 0.3845\n",
            "Epoch [7/10], Step [3000/3079], Loss: 0.3421\n"
          ]
        },
        {
          "metadata": {
            "tags": null
          },
          "name": "stderr",
          "output_type": "stream",
          "text": [
            "/usr/local/lib/python3.10/dist-packages/sklearn/metrics/_classification.py:1344: UndefinedMetricWarning: Precision is ill-defined and being set to 0.0 in labels with no predicted samples. Use `zero_division` parameter to control this behavior.\n",
            "  _warn_prf(average, modifier, msg_start, len(result))\n",
            "2023-12-08 23:49:27,786 - root - INFO - Accuracy: 93.28%\n",
            "2023-12-08 23:49:27,787 - root - INFO - Precision: 0.9267\n",
            "2023-12-08 23:49:27,788 - root - INFO - Recall: 0.9328\n",
            "2023-12-08 23:49:27,789 - root - INFO - F1 Score: 0.9165\n"
          ]
        },
        {
          "metadata": {
            "tags": null
          },
          "name": "stdout",
          "output_type": "stream",
          "text": [
            "Epoch [8/10], Step [100/3079], Loss: 0.1781\n",
            "Epoch [8/10], Step [200/3079], Loss: 0.5575\n",
            "Epoch [8/10], Step [300/3079], Loss: 0.4372\n",
            "Epoch [8/10], Step [400/3079], Loss: 0.1928\n",
            "Epoch [8/10], Step [500/3079], Loss: 0.2072\n",
            "Epoch [8/10], Step [600/3079], Loss: 0.2757\n",
            "Epoch [8/10], Step [700/3079], Loss: 0.1708\n",
            "Epoch [8/10], Step [800/3079], Loss: 0.7337\n",
            "Epoch [8/10], Step [900/3079], Loss: 0.4534\n",
            "Epoch [8/10], Step [1000/3079], Loss: 0.4064\n",
            "Epoch [8/10], Step [1100/3079], Loss: 0.1796\n",
            "Epoch [8/10], Step [1200/3079], Loss: 0.2716\n",
            "Epoch [8/10], Step [1300/3079], Loss: 0.6860\n",
            "Epoch [8/10], Step [1400/3079], Loss: 0.4753\n",
            "Epoch [8/10], Step [1500/3079], Loss: 0.4430\n",
            "Epoch [8/10], Step [1600/3079], Loss: 0.5319\n",
            "Epoch [8/10], Step [1700/3079], Loss: 0.3065\n",
            "Epoch [8/10], Step [1800/3079], Loss: 0.1836\n",
            "Epoch [8/10], Step [1900/3079], Loss: 0.5736\n",
            "Epoch [8/10], Step [2000/3079], Loss: 0.2518\n",
            "Epoch [8/10], Step [2100/3079], Loss: 0.2079\n",
            "Epoch [8/10], Step [2200/3079], Loss: 0.1643\n",
            "Epoch [8/10], Step [2300/3079], Loss: 0.2099\n",
            "Epoch [8/10], Step [2400/3079], Loss: 0.4080\n",
            "Epoch [8/10], Step [2500/3079], Loss: 0.2497\n",
            "Epoch [8/10], Step [2600/3079], Loss: 0.4452\n",
            "Epoch [8/10], Step [2700/3079], Loss: 0.3363\n",
            "Epoch [8/10], Step [2800/3079], Loss: 0.2778\n",
            "Epoch [8/10], Step [2900/3079], Loss: 0.3609\n",
            "Epoch [8/10], Step [3000/3079], Loss: 0.2076\n"
          ]
        },
        {
          "metadata": {
            "tags": null
          },
          "name": "stderr",
          "output_type": "stream",
          "text": [
            "/usr/local/lib/python3.10/dist-packages/sklearn/metrics/_classification.py:1344: UndefinedMetricWarning: Precision is ill-defined and being set to 0.0 in labels with no predicted samples. Use `zero_division` parameter to control this behavior.\n",
            "  _warn_prf(average, modifier, msg_start, len(result))\n",
            "2023-12-08 23:49:42,168 - root - INFO - Accuracy: 93.50%\n",
            "2023-12-08 23:49:42,170 - root - INFO - Precision: 0.9239\n",
            "2023-12-08 23:49:42,171 - root - INFO - Recall: 0.9350\n",
            "2023-12-08 23:49:42,172 - root - INFO - F1 Score: 0.9193\n"
          ]
        },
        {
          "metadata": {
            "tags": null
          },
          "name": "stdout",
          "output_type": "stream",
          "text": [
            "Epoch [9/10], Step [100/3079], Loss: 0.0514\n",
            "Epoch [9/10], Step [200/3079], Loss: 0.2698\n",
            "Epoch [9/10], Step [300/3079], Loss: 0.5309\n",
            "Epoch [9/10], Step [400/3079], Loss: 0.0622\n",
            "Epoch [9/10], Step [500/3079], Loss: 0.2190\n",
            "Epoch [9/10], Step [600/3079], Loss: 0.1306\n",
            "Epoch [9/10], Step [700/3079], Loss: 0.1645\n",
            "Epoch [9/10], Step [800/3079], Loss: 0.1001\n",
            "Epoch [9/10], Step [900/3079], Loss: 0.0516\n",
            "Epoch [9/10], Step [1000/3079], Loss: 0.4790\n",
            "Epoch [9/10], Step [1100/3079], Loss: 0.2299\n",
            "Epoch [9/10], Step [1200/3079], Loss: 0.0918\n",
            "Epoch [9/10], Step [1300/3079], Loss: 0.2098\n",
            "Epoch [9/10], Step [1400/3079], Loss: 0.3800\n",
            "Epoch [9/10], Step [1500/3079], Loss: 0.0560\n",
            "Epoch [9/10], Step [1600/3079], Loss: 0.2335\n",
            "Epoch [9/10], Step [1700/3079], Loss: 0.2265\n",
            "Epoch [9/10], Step [1800/3079], Loss: 0.2617\n",
            "Epoch [9/10], Step [1900/3079], Loss: 0.0529\n",
            "Epoch [9/10], Step [2000/3079], Loss: 0.0230\n",
            "Epoch [9/10], Step [2100/3079], Loss: 0.1154\n",
            "Epoch [9/10], Step [2200/3079], Loss: 0.2629\n",
            "Epoch [9/10], Step [2300/3079], Loss: 0.2382\n",
            "Epoch [9/10], Step [2400/3079], Loss: 0.3130\n",
            "Epoch [9/10], Step [2500/3079], Loss: 0.0351\n",
            "Epoch [9/10], Step [2600/3079], Loss: 0.1693\n",
            "Epoch [9/10], Step [2700/3079], Loss: 0.4703\n",
            "Epoch [9/10], Step [2800/3079], Loss: 0.1720\n",
            "Epoch [9/10], Step [2900/3079], Loss: 0.2097\n",
            "Epoch [9/10], Step [3000/3079], Loss: 0.4547\n"
          ]
        },
        {
          "metadata": {
            "tags": null
          },
          "name": "stderr",
          "output_type": "stream",
          "text": [
            "/usr/local/lib/python3.10/dist-packages/sklearn/metrics/_classification.py:1344: UndefinedMetricWarning: Precision is ill-defined and being set to 0.0 in labels with no predicted samples. Use `zero_division` parameter to control this behavior.\n",
            "  _warn_prf(average, modifier, msg_start, len(result))\n",
            "2023-12-08 23:49:56,957 - root - INFO - Accuracy: 94.03%\n",
            "2023-12-08 23:49:56,958 - root - INFO - Precision: 0.9319\n",
            "2023-12-08 23:49:56,959 - root - INFO - Recall: 0.9403\n",
            "2023-12-08 23:49:56,960 - root - INFO - F1 Score: 0.9357\n"
          ]
        },
        {
          "metadata": {
            "tags": null
          },
          "name": "stdout",
          "output_type": "stream",
          "text": [
            "Epoch [10/10], Step [100/3079], Loss: 0.1749\n",
            "Epoch [10/10], Step [200/3079], Loss: 0.3443\n",
            "Epoch [10/10], Step [300/3079], Loss: 0.1540\n",
            "Epoch [10/10], Step [400/3079], Loss: 0.0225\n",
            "Epoch [10/10], Step [500/3079], Loss: 0.1182\n",
            "Epoch [10/10], Step [600/3079], Loss: 0.1561\n",
            "Epoch [10/10], Step [700/3079], Loss: 0.0653\n",
            "Epoch [10/10], Step [800/3079], Loss: 0.2343\n",
            "Epoch [10/10], Step [900/3079], Loss: 0.2768\n",
            "Epoch [10/10], Step [1000/3079], Loss: 0.2371\n",
            "Epoch [10/10], Step [1100/3079], Loss: 0.2120\n",
            "Epoch [10/10], Step [1200/3079], Loss: 0.2927\n",
            "Epoch [10/10], Step [1300/3079], Loss: 0.2389\n",
            "Epoch [10/10], Step [1400/3079], Loss: 0.0371\n",
            "Epoch [10/10], Step [1500/3079], Loss: 0.0486\n",
            "Epoch [10/10], Step [1600/3079], Loss: 0.0614\n",
            "Epoch [10/10], Step [1700/3079], Loss: 0.0566\n",
            "Epoch [10/10], Step [1800/3079], Loss: 0.1902\n",
            "Epoch [10/10], Step [1900/3079], Loss: 0.1924\n",
            "Epoch [10/10], Step [2000/3079], Loss: 0.5001\n",
            "Epoch [10/10], Step [2100/3079], Loss: 0.3343\n",
            "Epoch [10/10], Step [2200/3079], Loss: 0.0249\n",
            "Epoch [10/10], Step [2300/3079], Loss: 0.1733\n",
            "Epoch [10/10], Step [2400/3079], Loss: 0.3289\n",
            "Epoch [10/10], Step [2500/3079], Loss: 0.0964\n",
            "Epoch [10/10], Step [2600/3079], Loss: 0.0165\n",
            "Epoch [10/10], Step [2700/3079], Loss: 0.1689\n",
            "Epoch [10/10], Step [2800/3079], Loss: 0.0888\n",
            "Epoch [10/10], Step [2900/3079], Loss: 0.1737\n",
            "Epoch [10/10], Step [3000/3079], Loss: 0.1453\n"
          ]
        },
        {
          "metadata": {
            "tags": null
          },
          "name": "stderr",
          "output_type": "stream",
          "text": [
            "2023-12-08 23:50:11,467 - root - INFO - Accuracy: 94.13%\n",
            "2023-12-08 23:50:11,468 - root - INFO - Precision: 0.9312\n",
            "2023-12-08 23:50:11,469 - root - INFO - Recall: 0.9413\n",
            "2023-12-08 23:50:11,470 - root - INFO - F1 Score: 0.9289\n"
          ]
        },
        {
          "metadata": {
            "tags": null
          },
          "name": "stdout",
          "output_type": "stream",
          "text": [
            "FOLD 4\n",
            "--------------------------------\n",
            "LSTM(\n",
            "  (lstm): LSTM(1, 128, num_layers=2, batch_first=True)\n",
            "  (fc): Linear(in_features=128, out_features=5, bias=True)\n",
            ")\n",
            "Epoch [1/10], Step [100/3079], Loss: 0.5255\n",
            "Epoch [1/10], Step [200/3079], Loss: 0.6407\n",
            "Epoch [1/10], Step [300/3079], Loss: 0.6174\n",
            "Epoch [1/10], Step [400/3079], Loss: 0.7598\n",
            "Epoch [1/10], Step [500/3079], Loss: 1.0709\n",
            "Epoch [1/10], Step [600/3079], Loss: 0.7189\n",
            "Epoch [1/10], Step [700/3079], Loss: 0.6548\n",
            "Epoch [1/10], Step [800/3079], Loss: 0.3485\n",
            "Epoch [1/10], Step [900/3079], Loss: 0.3089\n",
            "Epoch [1/10], Step [1000/3079], Loss: 0.5394\n",
            "Epoch [1/10], Step [1100/3079], Loss: 0.4209\n",
            "Epoch [1/10], Step [1200/3079], Loss: 0.7308\n",
            "Epoch [1/10], Step [1300/3079], Loss: 0.3944\n",
            "Epoch [1/10], Step [1400/3079], Loss: 0.6750\n",
            "Epoch [1/10], Step [1500/3079], Loss: 1.0888\n",
            "Epoch [1/10], Step [1600/3079], Loss: 0.4295\n",
            "Epoch [1/10], Step [1700/3079], Loss: 0.6356\n",
            "Epoch [1/10], Step [1800/3079], Loss: 0.1896\n",
            "Epoch [1/10], Step [1900/3079], Loss: 0.7691\n",
            "Epoch [1/10], Step [2000/3079], Loss: 0.8549\n",
            "Epoch [1/10], Step [2100/3079], Loss: 0.4546\n",
            "Epoch [1/10], Step [2200/3079], Loss: 0.6294\n",
            "Epoch [1/10], Step [2300/3079], Loss: 0.3381\n",
            "Epoch [1/10], Step [2400/3079], Loss: 0.2609\n",
            "Epoch [1/10], Step [2500/3079], Loss: 1.0261\n",
            "Epoch [1/10], Step [2600/3079], Loss: 0.6658\n",
            "Epoch [1/10], Step [2700/3079], Loss: 0.5015\n",
            "Epoch [1/10], Step [2800/3079], Loss: 0.7484\n",
            "Epoch [1/10], Step [2900/3079], Loss: 0.4950\n",
            "Epoch [1/10], Step [3000/3079], Loss: 0.6142\n"
          ]
        },
        {
          "metadata": {
            "tags": null
          },
          "name": "stderr",
          "output_type": "stream",
          "text": [
            "/usr/local/lib/python3.10/dist-packages/sklearn/metrics/_classification.py:1344: UndefinedMetricWarning: Precision is ill-defined and being set to 0.0 in labels with no predicted samples. Use `zero_division` parameter to control this behavior.\n",
            "  _warn_prf(average, modifier, msg_start, len(result))\n",
            "2023-12-08 23:50:25,889 - root - INFO - Accuracy: 82.84%\n",
            "2023-12-08 23:50:25,890 - root - INFO - Precision: 0.6983\n",
            "2023-12-08 23:50:25,890 - root - INFO - Recall: 0.8284\n",
            "2023-12-08 23:50:25,891 - root - INFO - F1 Score: 0.7520\n"
          ]
        },
        {
          "metadata": {
            "tags": null
          },
          "name": "stdout",
          "output_type": "stream",
          "text": [
            "Epoch [2/10], Step [100/3079], Loss: 0.7279\n",
            "Epoch [2/10], Step [200/3079], Loss: 0.9546\n",
            "Epoch [2/10], Step [300/3079], Loss: 0.5663\n",
            "Epoch [2/10], Step [400/3079], Loss: 0.7875\n",
            "Epoch [2/10], Step [500/3079], Loss: 0.7225\n",
            "Epoch [2/10], Step [600/3079], Loss: 0.3369\n",
            "Epoch [2/10], Step [700/3079], Loss: 0.6009\n",
            "Epoch [2/10], Step [800/3079], Loss: 0.8391\n",
            "Epoch [2/10], Step [900/3079], Loss: 0.3408\n",
            "Epoch [2/10], Step [1000/3079], Loss: 0.7035\n",
            "Epoch [2/10], Step [1100/3079], Loss: 0.7074\n",
            "Epoch [2/10], Step [1200/3079], Loss: 0.7184\n",
            "Epoch [2/10], Step [1300/3079], Loss: 0.9531\n",
            "Epoch [2/10], Step [1400/3079], Loss: 0.6620\n",
            "Epoch [2/10], Step [1500/3079], Loss: 0.4659\n",
            "Epoch [2/10], Step [1600/3079], Loss: 0.4589\n",
            "Epoch [2/10], Step [1700/3079], Loss: 0.5543\n",
            "Epoch [2/10], Step [1800/3079], Loss: 0.5490\n",
            "Epoch [2/10], Step [1900/3079], Loss: 0.6729\n",
            "Epoch [2/10], Step [2000/3079], Loss: 0.3797\n",
            "Epoch [2/10], Step [2100/3079], Loss: 0.4505\n",
            "Epoch [2/10], Step [2200/3079], Loss: 0.7916\n",
            "Epoch [2/10], Step [2300/3079], Loss: 0.4664\n",
            "Epoch [2/10], Step [2400/3079], Loss: 0.4060\n",
            "Epoch [2/10], Step [2500/3079], Loss: 0.5444\n",
            "Epoch [2/10], Step [2600/3079], Loss: 0.4409\n",
            "Epoch [2/10], Step [2700/3079], Loss: 0.4508\n",
            "Epoch [2/10], Step [2800/3079], Loss: 0.7395\n",
            "Epoch [2/10], Step [2900/3079], Loss: 0.4236\n",
            "Epoch [2/10], Step [3000/3079], Loss: 0.2476\n"
          ]
        },
        {
          "metadata": {
            "tags": null
          },
          "name": "stderr",
          "output_type": "stream",
          "text": [
            "/usr/local/lib/python3.10/dist-packages/sklearn/metrics/_classification.py:1344: UndefinedMetricWarning: Precision is ill-defined and being set to 0.0 in labels with no predicted samples. Use `zero_division` parameter to control this behavior.\n",
            "  _warn_prf(average, modifier, msg_start, len(result))\n",
            "2023-12-08 23:50:40,170 - root - INFO - Accuracy: 86.26%\n",
            "2023-12-08 23:50:40,171 - root - INFO - Precision: 0.8280\n",
            "2023-12-08 23:50:40,172 - root - INFO - Recall: 0.8626\n",
            "2023-12-08 23:50:40,173 - root - INFO - F1 Score: 0.8315\n"
          ]
        },
        {
          "metadata": {
            "tags": null
          },
          "name": "stdout",
          "output_type": "stream",
          "text": [
            "Epoch [3/10], Step [100/3079], Loss: 0.2803\n",
            "Epoch [3/10], Step [200/3079], Loss: 0.5820\n",
            "Epoch [3/10], Step [300/3079], Loss: 0.2887\n",
            "Epoch [3/10], Step [400/3079], Loss: 0.0927\n",
            "Epoch [3/10], Step [500/3079], Loss: 0.5527\n",
            "Epoch [3/10], Step [600/3079], Loss: 0.3705\n",
            "Epoch [3/10], Step [700/3079], Loss: 0.3272\n",
            "Epoch [3/10], Step [800/3079], Loss: 0.3357\n",
            "Epoch [3/10], Step [900/3079], Loss: 0.4564\n",
            "Epoch [3/10], Step [1000/3079], Loss: 0.2863\n",
            "Epoch [3/10], Step [1100/3079], Loss: 0.5946\n",
            "Epoch [3/10], Step [1200/3079], Loss: 0.5839\n",
            "Epoch [3/10], Step [1300/3079], Loss: 0.3898\n",
            "Epoch [3/10], Step [1400/3079], Loss: 0.2358\n",
            "Epoch [3/10], Step [1500/3079], Loss: 0.3694\n",
            "Epoch [3/10], Step [1600/3079], Loss: 0.3383\n",
            "Epoch [3/10], Step [1700/3079], Loss: 0.7260\n",
            "Epoch [3/10], Step [1800/3079], Loss: 0.4815\n",
            "Epoch [3/10], Step [1900/3079], Loss: 0.5838\n",
            "Epoch [3/10], Step [2000/3079], Loss: 0.5852\n",
            "Epoch [3/10], Step [2100/3079], Loss: 0.4442\n",
            "Epoch [3/10], Step [2200/3079], Loss: 0.1267\n",
            "Epoch [3/10], Step [2300/3079], Loss: 0.5097\n",
            "Epoch [3/10], Step [2400/3079], Loss: 0.2149\n",
            "Epoch [3/10], Step [2500/3079], Loss: 0.1651\n",
            "Epoch [3/10], Step [2600/3079], Loss: 0.2746\n",
            "Epoch [3/10], Step [2700/3079], Loss: 0.2694\n",
            "Epoch [3/10], Step [2800/3079], Loss: 0.1990\n",
            "Epoch [3/10], Step [2900/3079], Loss: 0.2112\n",
            "Epoch [3/10], Step [3000/3079], Loss: 0.1475\n"
          ]
        },
        {
          "metadata": {
            "tags": null
          },
          "name": "stderr",
          "output_type": "stream",
          "text": [
            "/usr/local/lib/python3.10/dist-packages/sklearn/metrics/_classification.py:1344: UndefinedMetricWarning: Precision is ill-defined and being set to 0.0 in labels with no predicted samples. Use `zero_division` parameter to control this behavior.\n",
            "  _warn_prf(average, modifier, msg_start, len(result))\n",
            "2023-12-08 23:50:54,634 - root - INFO - Accuracy: 91.99%\n",
            "2023-12-08 23:50:54,635 - root - INFO - Precision: 0.8869\n",
            "2023-12-08 23:50:54,636 - root - INFO - Recall: 0.9199\n",
            "2023-12-08 23:50:54,637 - root - INFO - F1 Score: 0.9020\n"
          ]
        },
        {
          "metadata": {
            "tags": null
          },
          "name": "stdout",
          "output_type": "stream",
          "text": [
            "Epoch [4/10], Step [100/3079], Loss: 0.3629\n",
            "Epoch [4/10], Step [200/3079], Loss: 0.3435\n",
            "Epoch [4/10], Step [300/3079], Loss: 0.1503\n",
            "Epoch [4/10], Step [400/3079], Loss: 0.2432\n",
            "Epoch [4/10], Step [500/3079], Loss: 0.1141\n",
            "Epoch [4/10], Step [600/3079], Loss: 0.1157\n",
            "Epoch [4/10], Step [700/3079], Loss: 0.2026\n",
            "Epoch [4/10], Step [800/3079], Loss: 0.2427\n",
            "Epoch [4/10], Step [900/3079], Loss: 0.2599\n",
            "Epoch [4/10], Step [1000/3079], Loss: 0.1919\n",
            "Epoch [4/10], Step [1100/3079], Loss: 0.2978\n",
            "Epoch [4/10], Step [1200/3079], Loss: 0.3480\n",
            "Epoch [4/10], Step [1300/3079], Loss: 0.2088\n",
            "Epoch [4/10], Step [1400/3079], Loss: 0.3867\n",
            "Epoch [4/10], Step [1500/3079], Loss: 0.2300\n",
            "Epoch [4/10], Step [1600/3079], Loss: 0.1614\n",
            "Epoch [4/10], Step [1700/3079], Loss: 0.5596\n",
            "Epoch [4/10], Step [1800/3079], Loss: 0.0698\n",
            "Epoch [4/10], Step [1900/3079], Loss: 0.1248\n",
            "Epoch [4/10], Step [2000/3079], Loss: 0.2110\n",
            "Epoch [4/10], Step [2100/3079], Loss: 0.1951\n",
            "Epoch [4/10], Step [2200/3079], Loss: 0.1870\n",
            "Epoch [4/10], Step [2300/3079], Loss: 0.2096\n",
            "Epoch [4/10], Step [2400/3079], Loss: 0.2897\n",
            "Epoch [4/10], Step [2500/3079], Loss: 0.1425\n",
            "Epoch [4/10], Step [2600/3079], Loss: 0.3411\n",
            "Epoch [4/10], Step [2700/3079], Loss: 0.1193\n",
            "Epoch [4/10], Step [2800/3079], Loss: 0.2441\n",
            "Epoch [4/10], Step [2900/3079], Loss: 0.2957\n",
            "Epoch [4/10], Step [3000/3079], Loss: 0.1274\n"
          ]
        },
        {
          "metadata": {
            "tags": null
          },
          "name": "stderr",
          "output_type": "stream",
          "text": [
            "2023-12-08 23:51:09,154 - root - INFO - Accuracy: 93.98%\n",
            "2023-12-08 23:51:09,156 - root - INFO - Precision: 0.9348\n",
            "2023-12-08 23:51:09,157 - root - INFO - Recall: 0.9398\n",
            "2023-12-08 23:51:09,157 - root - INFO - F1 Score: 0.9307\n"
          ]
        },
        {
          "metadata": {
            "tags": null
          },
          "name": "stdout",
          "output_type": "stream",
          "text": [
            "Epoch [5/10], Step [100/3079], Loss: 0.1274\n",
            "Epoch [5/10], Step [200/3079], Loss: 0.2102\n",
            "Epoch [5/10], Step [300/3079], Loss: 0.0802\n",
            "Epoch [5/10], Step [400/3079], Loss: 0.2598\n",
            "Epoch [5/10], Step [500/3079], Loss: 0.1035\n",
            "Epoch [5/10], Step [600/3079], Loss: 0.0217\n",
            "Epoch [5/10], Step [700/3079], Loss: 0.1452\n",
            "Epoch [5/10], Step [800/3079], Loss: 0.0367\n",
            "Epoch [5/10], Step [900/3079], Loss: 0.6310\n",
            "Epoch [5/10], Step [1000/3079], Loss: 0.2347\n",
            "Epoch [5/10], Step [1100/3079], Loss: 0.1713\n",
            "Epoch [5/10], Step [1200/3079], Loss: 0.2444\n",
            "Epoch [5/10], Step [1300/3079], Loss: 0.0506\n",
            "Epoch [5/10], Step [1400/3079], Loss: 0.0313\n",
            "Epoch [5/10], Step [1500/3079], Loss: 0.3405\n",
            "Epoch [5/10], Step [1600/3079], Loss: 0.1488\n",
            "Epoch [5/10], Step [1700/3079], Loss: 0.1259\n",
            "Epoch [5/10], Step [1800/3079], Loss: 0.1166\n",
            "Epoch [5/10], Step [1900/3079], Loss: 0.0405\n",
            "Epoch [5/10], Step [2000/3079], Loss: 0.1399\n",
            "Epoch [5/10], Step [2100/3079], Loss: 0.1063\n",
            "Epoch [5/10], Step [2200/3079], Loss: 0.0866\n",
            "Epoch [5/10], Step [2300/3079], Loss: 0.2203\n",
            "Epoch [5/10], Step [2400/3079], Loss: 0.1384\n",
            "Epoch [5/10], Step [2500/3079], Loss: 0.0444\n",
            "Epoch [5/10], Step [2600/3079], Loss: 0.0942\n",
            "Epoch [5/10], Step [2700/3079], Loss: 0.1147\n",
            "Epoch [5/10], Step [2800/3079], Loss: 0.1020\n",
            "Epoch [5/10], Step [2900/3079], Loss: 0.0602\n",
            "Epoch [5/10], Step [3000/3079], Loss: 0.1114\n"
          ]
        },
        {
          "metadata": {
            "tags": null
          },
          "name": "stderr",
          "output_type": "stream",
          "text": [
            "2023-12-08 23:51:23,666 - root - INFO - Accuracy: 95.26%\n",
            "2023-12-08 23:51:23,667 - root - INFO - Precision: 0.9501\n",
            "2023-12-08 23:51:23,669 - root - INFO - Recall: 0.9526\n",
            "2023-12-08 23:51:23,671 - root - INFO - F1 Score: 0.9472\n"
          ]
        },
        {
          "metadata": {
            "tags": null
          },
          "name": "stdout",
          "output_type": "stream",
          "text": [
            "Epoch [6/10], Step [100/3079], Loss: 0.1251\n",
            "Epoch [6/10], Step [200/3079], Loss: 0.1831\n",
            "Epoch [6/10], Step [300/3079], Loss: 0.2964\n",
            "Epoch [6/10], Step [400/3079], Loss: 0.0361\n",
            "Epoch [6/10], Step [500/3079], Loss: 0.0743\n",
            "Epoch [6/10], Step [600/3079], Loss: 0.1218\n",
            "Epoch [6/10], Step [700/3079], Loss: 0.0349\n",
            "Epoch [6/10], Step [800/3079], Loss: 0.1227\n",
            "Epoch [6/10], Step [900/3079], Loss: 0.3510\n",
            "Epoch [6/10], Step [1000/3079], Loss: 0.4069\n",
            "Epoch [6/10], Step [1100/3079], Loss: 0.0415\n",
            "Epoch [6/10], Step [1200/3079], Loss: 0.0356\n",
            "Epoch [6/10], Step [1300/3079], Loss: 0.4450\n",
            "Epoch [6/10], Step [1400/3079], Loss: 0.0705\n",
            "Epoch [6/10], Step [1500/3079], Loss: 0.0790\n",
            "Epoch [6/10], Step [1600/3079], Loss: 0.1509\n",
            "Epoch [6/10], Step [1700/3079], Loss: 0.1804\n",
            "Epoch [6/10], Step [1800/3079], Loss: 0.1248\n",
            "Epoch [6/10], Step [1900/3079], Loss: 0.0896\n",
            "Epoch [6/10], Step [2000/3079], Loss: 0.1592\n",
            "Epoch [6/10], Step [2100/3079], Loss: 0.1330\n",
            "Epoch [6/10], Step [2200/3079], Loss: 0.1741\n",
            "Epoch [6/10], Step [2300/3079], Loss: 0.1375\n",
            "Epoch [6/10], Step [2400/3079], Loss: 0.0415\n",
            "Epoch [6/10], Step [2500/3079], Loss: 0.2494\n",
            "Epoch [6/10], Step [2600/3079], Loss: 0.0706\n",
            "Epoch [6/10], Step [2700/3079], Loss: 0.1890\n",
            "Epoch [6/10], Step [2800/3079], Loss: 0.0906\n",
            "Epoch [6/10], Step [2900/3079], Loss: 0.2163\n",
            "Epoch [6/10], Step [3000/3079], Loss: 0.1781\n"
          ]
        },
        {
          "metadata": {
            "tags": null
          },
          "name": "stderr",
          "output_type": "stream",
          "text": [
            "2023-12-08 23:51:38,217 - root - INFO - Accuracy: 95.74%\n",
            "2023-12-08 23:51:38,218 - root - INFO - Precision: 0.9561\n",
            "2023-12-08 23:51:38,220 - root - INFO - Recall: 0.9574\n",
            "2023-12-08 23:51:38,222 - root - INFO - F1 Score: 0.9537\n"
          ]
        },
        {
          "metadata": {
            "tags": null
          },
          "name": "stdout",
          "output_type": "stream",
          "text": [
            "Epoch [7/10], Step [100/3079], Loss: 0.4283\n",
            "Epoch [7/10], Step [200/3079], Loss: 0.0595\n",
            "Epoch [7/10], Step [300/3079], Loss: 0.2763\n",
            "Epoch [7/10], Step [400/3079], Loss: 0.1599\n",
            "Epoch [7/10], Step [500/3079], Loss: 0.0334\n",
            "Epoch [7/10], Step [600/3079], Loss: 0.0116\n",
            "Epoch [7/10], Step [700/3079], Loss: 0.1904\n",
            "Epoch [7/10], Step [800/3079], Loss: 0.1439\n",
            "Epoch [7/10], Step [900/3079], Loss: 0.0872\n",
            "Epoch [7/10], Step [1000/3079], Loss: 0.0378\n",
            "Epoch [7/10], Step [1100/3079], Loss: 0.0592\n",
            "Epoch [7/10], Step [1200/3079], Loss: 0.2872\n",
            "Epoch [7/10], Step [1300/3079], Loss: 0.0581\n",
            "Epoch [7/10], Step [1400/3079], Loss: 0.1160\n",
            "Epoch [7/10], Step [1500/3079], Loss: 0.1180\n",
            "Epoch [7/10], Step [1600/3079], Loss: 0.0991\n",
            "Epoch [7/10], Step [1700/3079], Loss: 0.0473\n",
            "Epoch [7/10], Step [1800/3079], Loss: 0.2011\n",
            "Epoch [7/10], Step [1900/3079], Loss: 0.1988\n",
            "Epoch [7/10], Step [2000/3079], Loss: 0.1377\n",
            "Epoch [7/10], Step [2100/3079], Loss: 0.4128\n",
            "Epoch [7/10], Step [2200/3079], Loss: 0.3469\n",
            "Epoch [7/10], Step [2300/3079], Loss: 0.1166\n",
            "Epoch [7/10], Step [2400/3079], Loss: 0.0172\n",
            "Epoch [7/10], Step [2500/3079], Loss: 0.5839\n",
            "Epoch [7/10], Step [2600/3079], Loss: 0.5087\n",
            "Epoch [7/10], Step [2700/3079], Loss: 0.2016\n",
            "Epoch [7/10], Step [2800/3079], Loss: 0.0648\n",
            "Epoch [7/10], Step [2900/3079], Loss: 0.2844\n",
            "Epoch [7/10], Step [3000/3079], Loss: 0.0442\n"
          ]
        },
        {
          "metadata": {
            "tags": null
          },
          "name": "stderr",
          "output_type": "stream",
          "text": [
            "2023-12-08 23:51:52,712 - root - INFO - Accuracy: 96.18%\n",
            "2023-12-08 23:51:52,713 - root - INFO - Precision: 0.9599\n",
            "2023-12-08 23:51:52,714 - root - INFO - Recall: 0.9618\n",
            "2023-12-08 23:51:52,716 - root - INFO - F1 Score: 0.9598\n"
          ]
        },
        {
          "metadata": {
            "tags": null
          },
          "name": "stdout",
          "output_type": "stream",
          "text": [
            "Epoch [8/10], Step [100/3079], Loss: 0.0339\n",
            "Epoch [8/10], Step [200/3079], Loss: 0.2028\n",
            "Epoch [8/10], Step [300/3079], Loss: 0.0553\n",
            "Epoch [8/10], Step [400/3079], Loss: 0.0582\n",
            "Epoch [8/10], Step [500/3079], Loss: 0.0453\n",
            "Epoch [8/10], Step [600/3079], Loss: 0.1630\n",
            "Epoch [8/10], Step [700/3079], Loss: 0.0215\n",
            "Epoch [8/10], Step [800/3079], Loss: 0.0213\n",
            "Epoch [8/10], Step [900/3079], Loss: 0.1927\n",
            "Epoch [8/10], Step [1000/3079], Loss: 0.1930\n",
            "Epoch [8/10], Step [1100/3079], Loss: 0.0100\n",
            "Epoch [8/10], Step [1200/3079], Loss: 0.1481\n",
            "Epoch [8/10], Step [1300/3079], Loss: 0.1697\n",
            "Epoch [8/10], Step [1400/3079], Loss: 0.0600\n",
            "Epoch [8/10], Step [1500/3079], Loss: 0.1680\n",
            "Epoch [8/10], Step [1600/3079], Loss: 0.1515\n",
            "Epoch [8/10], Step [1700/3079], Loss: 0.1771\n",
            "Epoch [8/10], Step [1800/3079], Loss: 0.0317\n",
            "Epoch [8/10], Step [1900/3079], Loss: 0.3232\n",
            "Epoch [8/10], Step [2000/3079], Loss: 0.0618\n",
            "Epoch [8/10], Step [2100/3079], Loss: 0.0682\n",
            "Epoch [8/10], Step [2200/3079], Loss: 0.1802\n",
            "Epoch [8/10], Step [2300/3079], Loss: 0.1590\n",
            "Epoch [8/10], Step [2400/3079], Loss: 0.0181\n",
            "Epoch [8/10], Step [2500/3079], Loss: 0.3062\n",
            "Epoch [8/10], Step [2600/3079], Loss: 0.0521\n",
            "Epoch [8/10], Step [2700/3079], Loss: 0.1118\n",
            "Epoch [8/10], Step [2800/3079], Loss: 0.0435\n",
            "Epoch [8/10], Step [2900/3079], Loss: 0.0198\n",
            "Epoch [8/10], Step [3000/3079], Loss: 0.1232\n"
          ]
        },
        {
          "metadata": {
            "tags": null
          },
          "name": "stderr",
          "output_type": "stream",
          "text": [
            "2023-12-08 23:52:07,224 - root - INFO - Accuracy: 96.35%\n",
            "2023-12-08 23:52:07,226 - root - INFO - Precision: 0.9631\n",
            "2023-12-08 23:52:07,226 - root - INFO - Recall: 0.9635\n",
            "2023-12-08 23:52:07,227 - root - INFO - F1 Score: 0.9626\n"
          ]
        },
        {
          "metadata": {
            "tags": null
          },
          "name": "stdout",
          "output_type": "stream",
          "text": [
            "Epoch [9/10], Step [100/3079], Loss: 0.2284\n",
            "Epoch [9/10], Step [200/3079], Loss: 0.2311\n",
            "Epoch [9/10], Step [300/3079], Loss: 0.0300\n",
            "Epoch [9/10], Step [400/3079], Loss: 0.0642\n",
            "Epoch [9/10], Step [500/3079], Loss: 0.1927\n",
            "Epoch [9/10], Step [600/3079], Loss: 0.1816\n",
            "Epoch [9/10], Step [700/3079], Loss: 0.0483\n",
            "Epoch [9/10], Step [800/3079], Loss: 0.0305\n",
            "Epoch [9/10], Step [900/3079], Loss: 0.1878\n",
            "Epoch [9/10], Step [1000/3079], Loss: 0.0202\n",
            "Epoch [9/10], Step [1100/3079], Loss: 0.4445\n",
            "Epoch [9/10], Step [1200/3079], Loss: 0.0153\n",
            "Epoch [9/10], Step [1300/3079], Loss: 0.1469\n",
            "Epoch [9/10], Step [1400/3079], Loss: 0.0848\n",
            "Epoch [9/10], Step [1500/3079], Loss: 0.1463\n",
            "Epoch [9/10], Step [1600/3079], Loss: 0.1923\n",
            "Epoch [9/10], Step [1700/3079], Loss: 0.1824\n",
            "Epoch [9/10], Step [1800/3079], Loss: 0.2153\n",
            "Epoch [9/10], Step [1900/3079], Loss: 0.2047\n",
            "Epoch [9/10], Step [2000/3079], Loss: 0.0417\n",
            "Epoch [9/10], Step [2100/3079], Loss: 0.3022\n",
            "Epoch [9/10], Step [2200/3079], Loss: 0.0194\n",
            "Epoch [9/10], Step [2300/3079], Loss: 0.1207\n",
            "Epoch [9/10], Step [2400/3079], Loss: 0.0810\n",
            "Epoch [9/10], Step [2500/3079], Loss: 0.1670\n",
            "Epoch [9/10], Step [2600/3079], Loss: 0.2048\n",
            "Epoch [9/10], Step [2700/3079], Loss: 0.1640\n",
            "Epoch [9/10], Step [2800/3079], Loss: 0.2754\n",
            "Epoch [9/10], Step [2900/3079], Loss: 0.1986\n",
            "Epoch [9/10], Step [3000/3079], Loss: 0.2360\n"
          ]
        },
        {
          "metadata": {
            "tags": null
          },
          "name": "stderr",
          "output_type": "stream",
          "text": [
            "2023-12-08 23:52:21,722 - root - INFO - Accuracy: 96.80%\n",
            "2023-12-08 23:52:21,723 - root - INFO - Precision: 0.9679\n",
            "2023-12-08 23:52:21,726 - root - INFO - Recall: 0.9680\n",
            "2023-12-08 23:52:21,728 - root - INFO - F1 Score: 0.9657\n"
          ]
        },
        {
          "metadata": {
            "tags": null
          },
          "name": "stdout",
          "output_type": "stream",
          "text": [
            "Epoch [10/10], Step [100/3079], Loss: 0.0338\n",
            "Epoch [10/10], Step [200/3079], Loss: 0.1474\n",
            "Epoch [10/10], Step [300/3079], Loss: 0.1251\n",
            "Epoch [10/10], Step [400/3079], Loss: 0.1339\n",
            "Epoch [10/10], Step [500/3079], Loss: 0.0142\n",
            "Epoch [10/10], Step [600/3079], Loss: 0.0558\n",
            "Epoch [10/10], Step [700/3079], Loss: 0.1307\n",
            "Epoch [10/10], Step [800/3079], Loss: 0.0047\n",
            "Epoch [10/10], Step [900/3079], Loss: 0.0233\n",
            "Epoch [10/10], Step [1000/3079], Loss: 0.0683\n",
            "Epoch [10/10], Step [1100/3079], Loss: 0.0689\n",
            "Epoch [10/10], Step [1200/3079], Loss: 0.0096\n",
            "Epoch [10/10], Step [1300/3079], Loss: 0.1651\n",
            "Epoch [10/10], Step [1400/3079], Loss: 0.1322\n",
            "Epoch [10/10], Step [1500/3079], Loss: 0.2306\n",
            "Epoch [10/10], Step [1600/3079], Loss: 0.1777\n",
            "Epoch [10/10], Step [1700/3079], Loss: 0.2038\n",
            "Epoch [10/10], Step [1800/3079], Loss: 0.0534\n",
            "Epoch [10/10], Step [1900/3079], Loss: 0.2280\n",
            "Epoch [10/10], Step [2000/3079], Loss: 0.0394\n",
            "Epoch [10/10], Step [2100/3079], Loss: 0.0508\n",
            "Epoch [10/10], Step [2200/3079], Loss: 0.2396\n",
            "Epoch [10/10], Step [2300/3079], Loss: 0.2515\n",
            "Epoch [10/10], Step [2400/3079], Loss: 0.1620\n",
            "Epoch [10/10], Step [2500/3079], Loss: 0.0206\n",
            "Epoch [10/10], Step [2600/3079], Loss: 0.3412\n",
            "Epoch [10/10], Step [2700/3079], Loss: 0.0233\n",
            "Epoch [10/10], Step [2800/3079], Loss: 0.0408\n",
            "Epoch [10/10], Step [2900/3079], Loss: 0.1360\n",
            "Epoch [10/10], Step [3000/3079], Loss: 0.0223\n"
          ]
        },
        {
          "metadata": {
            "tags": null
          },
          "name": "stderr",
          "output_type": "stream",
          "text": [
            "2023-12-08 23:52:35,983 - root - INFO - Accuracy: 97.01%\n",
            "2023-12-08 23:52:35,985 - root - INFO - Precision: 0.9702\n",
            "2023-12-08 23:52:35,986 - root - INFO - Recall: 0.9701\n",
            "2023-12-08 23:52:35,986 - root - INFO - F1 Score: 0.9690\n"
          ]
        },
        {
          "metadata": {
            "tags": null
          },
          "name": "stdout",
          "output_type": "stream",
          "text": [
            "FOLD 5\n",
            "--------------------------------\n",
            "LSTM(\n",
            "  (lstm): LSTM(1, 128, num_layers=2, batch_first=True)\n",
            "  (fc): Linear(in_features=128, out_features=5, bias=True)\n",
            ")\n",
            "Epoch [1/10], Step [100/3079], Loss: 0.5314\n",
            "Epoch [1/10], Step [200/3079], Loss: 0.6657\n",
            "Epoch [1/10], Step [300/3079], Loss: 0.7659\n",
            "Epoch [1/10], Step [400/3079], Loss: 0.5146\n",
            "Epoch [1/10], Step [500/3079], Loss: 0.6988\n",
            "Epoch [1/10], Step [600/3079], Loss: 0.2951\n",
            "Epoch [1/10], Step [700/3079], Loss: 0.8733\n",
            "Epoch [1/10], Step [800/3079], Loss: 0.5267\n",
            "Epoch [1/10], Step [900/3079], Loss: 0.6951\n",
            "Epoch [1/10], Step [1000/3079], Loss: 0.8117\n",
            "Epoch [1/10], Step [1100/3079], Loss: 0.6199\n",
            "Epoch [1/10], Step [1200/3079], Loss: 0.4821\n",
            "Epoch [1/10], Step [1300/3079], Loss: 0.5194\n",
            "Epoch [1/10], Step [1400/3079], Loss: 0.9442\n",
            "Epoch [1/10], Step [1500/3079], Loss: 0.3490\n",
            "Epoch [1/10], Step [1600/3079], Loss: 0.6207\n",
            "Epoch [1/10], Step [1700/3079], Loss: 0.2250\n",
            "Epoch [1/10], Step [1800/3079], Loss: 0.5686\n",
            "Epoch [1/10], Step [1900/3079], Loss: 0.6726\n",
            "Epoch [1/10], Step [2000/3079], Loss: 0.5266\n",
            "Epoch [1/10], Step [2100/3079], Loss: 0.7804\n",
            "Epoch [1/10], Step [2200/3079], Loss: 0.4491\n",
            "Epoch [1/10], Step [2300/3079], Loss: 0.7057\n",
            "Epoch [1/10], Step [2400/3079], Loss: 0.8483\n",
            "Epoch [1/10], Step [2500/3079], Loss: 0.8004\n",
            "Epoch [1/10], Step [2600/3079], Loss: 1.0010\n",
            "Epoch [1/10], Step [2700/3079], Loss: 0.5329\n",
            "Epoch [1/10], Step [2800/3079], Loss: 0.5748\n",
            "Epoch [1/10], Step [2900/3079], Loss: 0.5162\n",
            "Epoch [1/10], Step [3000/3079], Loss: 0.3388\n"
          ]
        },
        {
          "metadata": {
            "tags": null
          },
          "name": "stderr",
          "output_type": "stream",
          "text": [
            "/usr/local/lib/python3.10/dist-packages/sklearn/metrics/_classification.py:1344: UndefinedMetricWarning: Precision is ill-defined and being set to 0.0 in labels with no predicted samples. Use `zero_division` parameter to control this behavior.\n",
            "  _warn_prf(average, modifier, msg_start, len(result))\n",
            "2023-12-08 23:52:50,441 - root - INFO - Accuracy: 82.77%\n",
            "2023-12-08 23:52:50,442 - root - INFO - Precision: 0.6851\n",
            "2023-12-08 23:52:50,443 - root - INFO - Recall: 0.8277\n",
            "2023-12-08 23:52:50,444 - root - INFO - F1 Score: 0.7496\n"
          ]
        },
        {
          "metadata": {
            "tags": null
          },
          "name": "stdout",
          "output_type": "stream",
          "text": [
            "Epoch [2/10], Step [100/3079], Loss: 0.6014\n",
            "Epoch [2/10], Step [200/3079], Loss: 0.6436\n",
            "Epoch [2/10], Step [300/3079], Loss: 0.8541\n",
            "Epoch [2/10], Step [400/3079], Loss: 0.6307\n",
            "Epoch [2/10], Step [500/3079], Loss: 1.1500\n",
            "Epoch [2/10], Step [600/3079], Loss: 0.6483\n",
            "Epoch [2/10], Step [700/3079], Loss: 0.8577\n",
            "Epoch [2/10], Step [800/3079], Loss: 0.4364\n",
            "Epoch [2/10], Step [900/3079], Loss: 0.5457\n",
            "Epoch [2/10], Step [1000/3079], Loss: 0.6460\n",
            "Epoch [2/10], Step [1100/3079], Loss: 0.4794\n",
            "Epoch [2/10], Step [1200/3079], Loss: 0.7463\n",
            "Epoch [2/10], Step [1300/3079], Loss: 0.8370\n",
            "Epoch [2/10], Step [1400/3079], Loss: 0.4722\n",
            "Epoch [2/10], Step [1500/3079], Loss: 0.3081\n",
            "Epoch [2/10], Step [1600/3079], Loss: 0.6336\n",
            "Epoch [2/10], Step [1700/3079], Loss: 0.5607\n",
            "Epoch [2/10], Step [1800/3079], Loss: 0.9036\n",
            "Epoch [2/10], Step [1900/3079], Loss: 0.4987\n",
            "Epoch [2/10], Step [2000/3079], Loss: 0.9379\n",
            "Epoch [2/10], Step [2100/3079], Loss: 0.4741\n",
            "Epoch [2/10], Step [2200/3079], Loss: 0.5210\n",
            "Epoch [2/10], Step [2300/3079], Loss: 0.4298\n",
            "Epoch [2/10], Step [2400/3079], Loss: 0.3459\n",
            "Epoch [2/10], Step [2500/3079], Loss: 0.2997\n",
            "Epoch [2/10], Step [2600/3079], Loss: 0.2543\n",
            "Epoch [2/10], Step [2700/3079], Loss: 0.3376\n",
            "Epoch [2/10], Step [2800/3079], Loss: 0.3473\n",
            "Epoch [2/10], Step [2900/3079], Loss: 0.4239\n",
            "Epoch [2/10], Step [3000/3079], Loss: 0.2831\n"
          ]
        },
        {
          "metadata": {
            "tags": null
          },
          "name": "stderr",
          "output_type": "stream",
          "text": [
            "/usr/local/lib/python3.10/dist-packages/sklearn/metrics/_classification.py:1344: UndefinedMetricWarning: Precision is ill-defined and being set to 0.0 in labels with no predicted samples. Use `zero_division` parameter to control this behavior.\n",
            "  _warn_prf(average, modifier, msg_start, len(result))\n",
            "2023-12-08 23:53:04,921 - root - INFO - Accuracy: 91.08%\n",
            "2023-12-08 23:53:04,922 - root - INFO - Precision: 0.8884\n",
            "2023-12-08 23:53:04,923 - root - INFO - Recall: 0.9108\n",
            "2023-12-08 23:53:04,924 - root - INFO - F1 Score: 0.8917\n"
          ]
        },
        {
          "metadata": {
            "tags": null
          },
          "name": "stdout",
          "output_type": "stream",
          "text": [
            "Epoch [3/10], Step [100/3079], Loss: 0.4348\n",
            "Epoch [3/10], Step [200/3079], Loss: 0.4714\n",
            "Epoch [3/10], Step [300/3079], Loss: 0.3860\n",
            "Epoch [3/10], Step [400/3079], Loss: 0.0927\n",
            "Epoch [3/10], Step [500/3079], Loss: 0.1920\n",
            "Epoch [3/10], Step [600/3079], Loss: 0.4564\n",
            "Epoch [3/10], Step [700/3079], Loss: 0.3301\n",
            "Epoch [3/10], Step [800/3079], Loss: 0.1082\n",
            "Epoch [3/10], Step [900/3079], Loss: 0.1661\n",
            "Epoch [3/10], Step [1000/3079], Loss: 0.8600\n",
            "Epoch [3/10], Step [1100/3079], Loss: 0.3589\n",
            "Epoch [3/10], Step [1200/3079], Loss: 0.4001\n",
            "Epoch [3/10], Step [1300/3079], Loss: 0.3933\n",
            "Epoch [3/10], Step [1400/3079], Loss: 0.3558\n",
            "Epoch [3/10], Step [1500/3079], Loss: 0.1380\n",
            "Epoch [3/10], Step [1600/3079], Loss: 0.2059\n",
            "Epoch [3/10], Step [1700/3079], Loss: 0.5849\n",
            "Epoch [3/10], Step [1800/3079], Loss: 0.2483\n",
            "Epoch [3/10], Step [1900/3079], Loss: 0.3804\n",
            "Epoch [3/10], Step [2000/3079], Loss: 0.0763\n",
            "Epoch [3/10], Step [2100/3079], Loss: 0.1580\n",
            "Epoch [3/10], Step [2200/3079], Loss: 0.2941\n",
            "Epoch [3/10], Step [2300/3079], Loss: 0.0494\n",
            "Epoch [3/10], Step [2400/3079], Loss: 0.1315\n",
            "Epoch [3/10], Step [2500/3079], Loss: 0.0425\n",
            "Epoch [3/10], Step [2600/3079], Loss: 0.3280\n",
            "Epoch [3/10], Step [2700/3079], Loss: 0.0567\n",
            "Epoch [3/10], Step [2800/3079], Loss: 0.2197\n",
            "Epoch [3/10], Step [2900/3079], Loss: 0.2087\n",
            "Epoch [3/10], Step [3000/3079], Loss: 0.3012\n"
          ]
        },
        {
          "metadata": {
            "tags": null
          },
          "name": "stderr",
          "output_type": "stream",
          "text": [
            "/usr/local/lib/python3.10/dist-packages/sklearn/metrics/_classification.py:1344: UndefinedMetricWarning: Precision is ill-defined and being set to 0.0 in labels with no predicted samples. Use `zero_division` parameter to control this behavior.\n",
            "  _warn_prf(average, modifier, msg_start, len(result))\n",
            "2023-12-08 23:53:19,404 - root - INFO - Accuracy: 94.13%\n",
            "2023-12-08 23:53:19,405 - root - INFO - Precision: 0.9316\n",
            "2023-12-08 23:53:19,406 - root - INFO - Recall: 0.9413\n",
            "2023-12-08 23:53:19,407 - root - INFO - F1 Score: 0.9339\n"
          ]
        },
        {
          "metadata": {
            "tags": null
          },
          "name": "stdout",
          "output_type": "stream",
          "text": [
            "Epoch [4/10], Step [100/3079], Loss: 0.1361\n",
            "Epoch [4/10], Step [200/3079], Loss: 0.2109\n",
            "Epoch [4/10], Step [300/3079], Loss: 0.0652\n",
            "Epoch [4/10], Step [400/3079], Loss: 0.4022\n",
            "Epoch [4/10], Step [500/3079], Loss: 0.1807\n",
            "Epoch [4/10], Step [600/3079], Loss: 0.3338\n",
            "Epoch [4/10], Step [700/3079], Loss: 0.1741\n",
            "Epoch [4/10], Step [800/3079], Loss: 0.4487\n",
            "Epoch [4/10], Step [900/3079], Loss: 0.2081\n",
            "Epoch [4/10], Step [1000/3079], Loss: 0.1939\n",
            "Epoch [4/10], Step [1100/3079], Loss: 0.0979\n",
            "Epoch [4/10], Step [1200/3079], Loss: 0.0801\n",
            "Epoch [4/10], Step [1300/3079], Loss: 0.1245\n",
            "Epoch [4/10], Step [1400/3079], Loss: 0.0761\n",
            "Epoch [4/10], Step [1500/3079], Loss: 0.0477\n",
            "Epoch [4/10], Step [1600/3079], Loss: 0.1038\n",
            "Epoch [4/10], Step [1700/3079], Loss: 0.0618\n",
            "Epoch [4/10], Step [1800/3079], Loss: 0.1364\n",
            "Epoch [4/10], Step [1900/3079], Loss: 0.1717\n",
            "Epoch [4/10], Step [2000/3079], Loss: 0.1810\n",
            "Epoch [4/10], Step [2100/3079], Loss: 0.1412\n",
            "Epoch [4/10], Step [2200/3079], Loss: 0.3179\n",
            "Epoch [4/10], Step [2300/3079], Loss: 0.3332\n",
            "Epoch [4/10], Step [2400/3079], Loss: 0.1097\n",
            "Epoch [4/10], Step [2500/3079], Loss: 0.3510\n",
            "Epoch [4/10], Step [2600/3079], Loss: 0.2276\n",
            "Epoch [4/10], Step [2700/3079], Loss: 0.0779\n",
            "Epoch [4/10], Step [2800/3079], Loss: 0.1320\n",
            "Epoch [4/10], Step [2900/3079], Loss: 0.0187\n",
            "Epoch [4/10], Step [3000/3079], Loss: 0.3145\n"
          ]
        },
        {
          "metadata": {
            "tags": null
          },
          "name": "stderr",
          "output_type": "stream",
          "text": [
            "2023-12-08 23:53:33,920 - root - INFO - Accuracy: 94.69%\n",
            "2023-12-08 23:53:33,921 - root - INFO - Precision: 0.9434\n",
            "2023-12-08 23:53:33,921 - root - INFO - Recall: 0.9469\n",
            "2023-12-08 23:53:33,922 - root - INFO - F1 Score: 0.9430\n"
          ]
        },
        {
          "metadata": {
            "tags": null
          },
          "name": "stdout",
          "output_type": "stream",
          "text": [
            "Epoch [5/10], Step [100/3079], Loss: 0.0585\n",
            "Epoch [5/10], Step [200/3079], Loss: 0.0286\n",
            "Epoch [5/10], Step [300/3079], Loss: 0.4306\n",
            "Epoch [5/10], Step [400/3079], Loss: 0.0805\n",
            "Epoch [5/10], Step [500/3079], Loss: 0.1426\n",
            "Epoch [5/10], Step [600/3079], Loss: 0.1126\n",
            "Epoch [5/10], Step [700/3079], Loss: 0.0292\n",
            "Epoch [5/10], Step [800/3079], Loss: 0.2213\n",
            "Epoch [5/10], Step [900/3079], Loss: 0.1175\n",
            "Epoch [5/10], Step [1000/3079], Loss: 0.2690\n",
            "Epoch [5/10], Step [1100/3079], Loss: 0.0865\n",
            "Epoch [5/10], Step [1200/3079], Loss: 0.0381\n",
            "Epoch [5/10], Step [1300/3079], Loss: 0.2761\n",
            "Epoch [5/10], Step [1400/3079], Loss: 0.1111\n",
            "Epoch [5/10], Step [1500/3079], Loss: 0.0517\n",
            "Epoch [5/10], Step [1600/3079], Loss: 0.4298\n",
            "Epoch [5/10], Step [1700/3079], Loss: 0.0364\n",
            "Epoch [5/10], Step [1800/3079], Loss: 0.2022\n",
            "Epoch [5/10], Step [1900/3079], Loss: 0.0746\n",
            "Epoch [5/10], Step [2000/3079], Loss: 0.0396\n",
            "Epoch [5/10], Step [2100/3079], Loss: 0.3179\n",
            "Epoch [5/10], Step [2200/3079], Loss: 0.1450\n",
            "Epoch [5/10], Step [2300/3079], Loss: 0.1568\n",
            "Epoch [5/10], Step [2400/3079], Loss: 0.0640\n",
            "Epoch [5/10], Step [2500/3079], Loss: 0.1586\n",
            "Epoch [5/10], Step [2600/3079], Loss: 0.1640\n",
            "Epoch [5/10], Step [2700/3079], Loss: 0.1383\n",
            "Epoch [5/10], Step [2800/3079], Loss: 0.0186\n",
            "Epoch [5/10], Step [2900/3079], Loss: 0.2505\n",
            "Epoch [5/10], Step [3000/3079], Loss: 0.2412\n"
          ]
        },
        {
          "metadata": {
            "tags": null
          },
          "name": "stderr",
          "output_type": "stream",
          "text": [
            "2023-12-08 23:53:48,524 - root - INFO - Accuracy: 95.28%\n",
            "2023-12-08 23:53:48,525 - root - INFO - Precision: 0.9522\n",
            "2023-12-08 23:53:48,526 - root - INFO - Recall: 0.9528\n",
            "2023-12-08 23:53:48,527 - root - INFO - F1 Score: 0.9492\n"
          ]
        },
        {
          "metadata": {
            "tags": null
          },
          "name": "stdout",
          "output_type": "stream",
          "text": [
            "Epoch [6/10], Step [100/3079], Loss: 0.0398\n",
            "Epoch [6/10], Step [200/3079], Loss: 0.2248\n",
            "Epoch [6/10], Step [300/3079], Loss: 0.3124\n",
            "Epoch [6/10], Step [400/3079], Loss: 0.1996\n",
            "Epoch [6/10], Step [500/3079], Loss: 0.1640\n",
            "Epoch [6/10], Step [600/3079], Loss: 0.1140\n",
            "Epoch [6/10], Step [700/3079], Loss: 0.0213\n",
            "Epoch [6/10], Step [800/3079], Loss: 0.1738\n",
            "Epoch [6/10], Step [900/3079], Loss: 0.2846\n",
            "Epoch [6/10], Step [1000/3079], Loss: 0.2672\n",
            "Epoch [6/10], Step [1100/3079], Loss: 0.1284\n",
            "Epoch [6/10], Step [1200/3079], Loss: 0.1317\n",
            "Epoch [6/10], Step [1300/3079], Loss: 0.2943\n",
            "Epoch [6/10], Step [1400/3079], Loss: 0.0403\n",
            "Epoch [6/10], Step [1500/3079], Loss: 0.1225\n",
            "Epoch [6/10], Step [1600/3079], Loss: 0.2550\n",
            "Epoch [6/10], Step [1700/3079], Loss: 0.1621\n",
            "Epoch [6/10], Step [1800/3079], Loss: 0.0117\n",
            "Epoch [6/10], Step [1900/3079], Loss: 0.3218\n",
            "Epoch [6/10], Step [2000/3079], Loss: 0.1320\n",
            "Epoch [6/10], Step [2100/3079], Loss: 0.2468\n",
            "Epoch [6/10], Step [2200/3079], Loss: 0.0165\n",
            "Epoch [6/10], Step [2300/3079], Loss: 0.1641\n",
            "Epoch [6/10], Step [2400/3079], Loss: 0.0431\n",
            "Epoch [6/10], Step [2500/3079], Loss: 0.0258\n",
            "Epoch [6/10], Step [2600/3079], Loss: 0.1626\n",
            "Epoch [6/10], Step [2700/3079], Loss: 0.0515\n",
            "Epoch [6/10], Step [2800/3079], Loss: 0.0752\n",
            "Epoch [6/10], Step [2900/3079], Loss: 0.0716\n",
            "Epoch [6/10], Step [3000/3079], Loss: 0.1337\n"
          ]
        },
        {
          "metadata": {
            "tags": null
          },
          "name": "stderr",
          "output_type": "stream",
          "text": [
            "2023-12-08 23:54:03,104 - root - INFO - Accuracy: 96.34%\n",
            "2023-12-08 23:54:03,105 - root - INFO - Precision: 0.9620\n",
            "2023-12-08 23:54:03,106 - root - INFO - Recall: 0.9634\n",
            "2023-12-08 23:54:03,107 - root - INFO - F1 Score: 0.9614\n"
          ]
        },
        {
          "metadata": {
            "tags": null
          },
          "name": "stdout",
          "output_type": "stream",
          "text": [
            "Epoch [7/10], Step [100/3079], Loss: 0.0296\n",
            "Epoch [7/10], Step [200/3079], Loss: 0.2638\n",
            "Epoch [7/10], Step [300/3079], Loss: 0.1121\n",
            "Epoch [7/10], Step [400/3079], Loss: 0.0140\n",
            "Epoch [7/10], Step [500/3079], Loss: 0.2278\n",
            "Epoch [7/10], Step [600/3079], Loss: 0.1175\n",
            "Epoch [7/10], Step [700/3079], Loss: 0.0324\n",
            "Epoch [7/10], Step [800/3079], Loss: 0.0396\n",
            "Epoch [7/10], Step [900/3079], Loss: 0.0740\n",
            "Epoch [7/10], Step [1000/3079], Loss: 0.3129\n",
            "Epoch [7/10], Step [1100/3079], Loss: 0.0871\n",
            "Epoch [7/10], Step [1200/3079], Loss: 0.1395\n",
            "Epoch [7/10], Step [1300/3079], Loss: 0.1337\n",
            "Epoch [7/10], Step [1400/3079], Loss: 0.0370\n",
            "Epoch [7/10], Step [1500/3079], Loss: 0.0751\n",
            "Epoch [7/10], Step [1600/3079], Loss: 0.0276\n",
            "Epoch [7/10], Step [1700/3079], Loss: 0.0254\n",
            "Epoch [7/10], Step [1800/3079], Loss: 0.1319\n",
            "Epoch [7/10], Step [1900/3079], Loss: 0.2460\n",
            "Epoch [7/10], Step [2000/3079], Loss: 0.0219\n",
            "Epoch [7/10], Step [2100/3079], Loss: 0.0404\n",
            "Epoch [7/10], Step [2200/3079], Loss: 0.1531\n",
            "Epoch [7/10], Step [2300/3079], Loss: 0.1210\n",
            "Epoch [7/10], Step [2400/3079], Loss: 0.2128\n",
            "Epoch [7/10], Step [2500/3079], Loss: 0.0317\n",
            "Epoch [7/10], Step [2600/3079], Loss: 0.1192\n",
            "Epoch [7/10], Step [2700/3079], Loss: 0.0319\n",
            "Epoch [7/10], Step [2800/3079], Loss: 0.0168\n",
            "Epoch [7/10], Step [2900/3079], Loss: 0.0210\n",
            "Epoch [7/10], Step [3000/3079], Loss: 0.0404\n"
          ]
        },
        {
          "metadata": {
            "tags": null
          },
          "name": "stderr",
          "output_type": "stream",
          "text": [
            "2023-12-08 23:54:17,649 - root - INFO - Accuracy: 96.39%\n",
            "2023-12-08 23:54:17,650 - root - INFO - Precision: 0.9636\n",
            "2023-12-08 23:54:17,651 - root - INFO - Recall: 0.9639\n",
            "2023-12-08 23:54:17,652 - root - INFO - F1 Score: 0.9585\n"
          ]
        },
        {
          "metadata": {
            "tags": null
          },
          "name": "stdout",
          "output_type": "stream",
          "text": [
            "Epoch [8/10], Step [100/3079], Loss: 0.0133\n",
            "Epoch [8/10], Step [200/3079], Loss: 0.0823\n",
            "Epoch [8/10], Step [300/3079], Loss: 0.1151\n",
            "Epoch [8/10], Step [400/3079], Loss: 0.0654\n",
            "Epoch [8/10], Step [500/3079], Loss: 0.1594\n",
            "Epoch [8/10], Step [600/3079], Loss: 0.1433\n",
            "Epoch [8/10], Step [700/3079], Loss: 0.0295\n",
            "Epoch [8/10], Step [800/3079], Loss: 0.0206\n",
            "Epoch [8/10], Step [900/3079], Loss: 0.0661\n",
            "Epoch [8/10], Step [1000/3079], Loss: 0.2468\n",
            "Epoch [8/10], Step [1100/3079], Loss: 0.0658\n",
            "Epoch [8/10], Step [1200/3079], Loss: 0.0239\n",
            "Epoch [8/10], Step [1300/3079], Loss: 0.0291\n",
            "Epoch [8/10], Step [1400/3079], Loss: 0.2971\n",
            "Epoch [8/10], Step [1500/3079], Loss: 0.2785\n",
            "Epoch [8/10], Step [1600/3079], Loss: 0.0118\n",
            "Epoch [8/10], Step [1700/3079], Loss: 0.2393\n",
            "Epoch [8/10], Step [1800/3079], Loss: 0.0342\n",
            "Epoch [8/10], Step [1900/3079], Loss: 0.1900\n",
            "Epoch [8/10], Step [2000/3079], Loss: 0.2201\n",
            "Epoch [8/10], Step [2100/3079], Loss: 0.0525\n",
            "Epoch [8/10], Step [2200/3079], Loss: 0.0105\n",
            "Epoch [8/10], Step [2300/3079], Loss: 0.0334\n",
            "Epoch [8/10], Step [2400/3079], Loss: 0.1540\n",
            "Epoch [8/10], Step [2500/3079], Loss: 0.0288\n",
            "Epoch [8/10], Step [2600/3079], Loss: 0.1985\n",
            "Epoch [8/10], Step [2700/3079], Loss: 0.0281\n",
            "Epoch [8/10], Step [2800/3079], Loss: 0.0960\n",
            "Epoch [8/10], Step [2900/3079], Loss: 0.0358\n",
            "Epoch [8/10], Step [3000/3079], Loss: 0.2461\n"
          ]
        },
        {
          "metadata": {
            "tags": null
          },
          "name": "stderr",
          "output_type": "stream",
          "text": [
            "2023-12-08 23:54:32,234 - root - INFO - Accuracy: 96.46%\n",
            "2023-12-08 23:54:32,235 - root - INFO - Precision: 0.9632\n",
            "2023-12-08 23:54:32,236 - root - INFO - Recall: 0.9646\n",
            "2023-12-08 23:54:32,238 - root - INFO - F1 Score: 0.9625\n"
          ]
        },
        {
          "metadata": {
            "tags": null
          },
          "name": "stdout",
          "output_type": "stream",
          "text": [
            "Epoch [9/10], Step [100/3079], Loss: 0.0430\n",
            "Epoch [9/10], Step [200/3079], Loss: 0.1151\n",
            "Epoch [9/10], Step [300/3079], Loss: 0.0993\n",
            "Epoch [9/10], Step [400/3079], Loss: 0.0361\n",
            "Epoch [9/10], Step [500/3079], Loss: 0.0104\n",
            "Epoch [9/10], Step [600/3079], Loss: 0.0188\n",
            "Epoch [9/10], Step [700/3079], Loss: 0.0174\n",
            "Epoch [9/10], Step [800/3079], Loss: 0.0724\n",
            "Epoch [9/10], Step [900/3079], Loss: 0.0557\n",
            "Epoch [9/10], Step [1000/3079], Loss: 0.0158\n",
            "Epoch [9/10], Step [1100/3079], Loss: 0.1456\n",
            "Epoch [9/10], Step [1200/3079], Loss: 0.0156\n",
            "Epoch [9/10], Step [1300/3079], Loss: 0.0247\n",
            "Epoch [9/10], Step [1400/3079], Loss: 0.0122\n",
            "Epoch [9/10], Step [1500/3079], Loss: 0.1324\n",
            "Epoch [9/10], Step [1600/3079], Loss: 0.3713\n",
            "Epoch [9/10], Step [1700/3079], Loss: 0.1889\n",
            "Epoch [9/10], Step [1800/3079], Loss: 0.2962\n",
            "Epoch [9/10], Step [1900/3079], Loss: 0.0166\n",
            "Epoch [9/10], Step [2000/3079], Loss: 0.0905\n",
            "Epoch [9/10], Step [2100/3079], Loss: 0.0052\n",
            "Epoch [9/10], Step [2200/3079], Loss: 0.1105\n",
            "Epoch [9/10], Step [2300/3079], Loss: 0.0047\n",
            "Epoch [9/10], Step [2400/3079], Loss: 0.0600\n",
            "Epoch [9/10], Step [2500/3079], Loss: 0.1010\n",
            "Epoch [9/10], Step [2600/3079], Loss: 0.0595\n",
            "Epoch [9/10], Step [2700/3079], Loss: 0.0084\n",
            "Epoch [9/10], Step [2800/3079], Loss: 0.0578\n",
            "Epoch [9/10], Step [2900/3079], Loss: 0.0217\n",
            "Epoch [9/10], Step [3000/3079], Loss: 0.1378\n"
          ]
        },
        {
          "metadata": {
            "tags": null
          },
          "name": "stderr",
          "output_type": "stream",
          "text": [
            "2023-12-08 23:54:46,814 - root - INFO - Accuracy: 97.27%\n",
            "2023-12-08 23:54:46,815 - root - INFO - Precision: 0.9724\n",
            "2023-12-08 23:54:46,816 - root - INFO - Recall: 0.9727\n",
            "2023-12-08 23:54:46,819 - root - INFO - F1 Score: 0.9713\n"
          ]
        },
        {
          "metadata": {
            "tags": null
          },
          "name": "stdout",
          "output_type": "stream",
          "text": [
            "Epoch [10/10], Step [100/3079], Loss: 0.0462\n",
            "Epoch [10/10], Step [200/3079], Loss: 0.0123\n",
            "Epoch [10/10], Step [300/3079], Loss: 0.0168\n",
            "Epoch [10/10], Step [400/3079], Loss: 0.0114\n",
            "Epoch [10/10], Step [500/3079], Loss: 0.0647\n",
            "Epoch [10/10], Step [600/3079], Loss: 0.1008\n",
            "Epoch [10/10], Step [700/3079], Loss: 0.3631\n",
            "Epoch [10/10], Step [800/3079], Loss: 0.0325\n",
            "Epoch [10/10], Step [900/3079], Loss: 0.0121\n",
            "Epoch [10/10], Step [1000/3079], Loss: 0.1505\n",
            "Epoch [10/10], Step [1100/3079], Loss: 0.0346\n",
            "Epoch [10/10], Step [1200/3079], Loss: 0.0097\n",
            "Epoch [10/10], Step [1300/3079], Loss: 0.0294\n",
            "Epoch [10/10], Step [1400/3079], Loss: 0.1407\n",
            "Epoch [10/10], Step [1500/3079], Loss: 0.2159\n",
            "Epoch [10/10], Step [1600/3079], Loss: 0.0229\n",
            "Epoch [10/10], Step [1700/3079], Loss: 0.2302\n",
            "Epoch [10/10], Step [1800/3079], Loss: 0.0056\n",
            "Epoch [10/10], Step [1900/3079], Loss: 0.2347\n",
            "Epoch [10/10], Step [2000/3079], Loss: 0.0104\n",
            "Epoch [10/10], Step [2100/3079], Loss: 0.1125\n",
            "Epoch [10/10], Step [2200/3079], Loss: 0.1778\n",
            "Epoch [10/10], Step [2300/3079], Loss: 0.0832\n",
            "Epoch [10/10], Step [2400/3079], Loss: 0.1702\n",
            "Epoch [10/10], Step [2500/3079], Loss: 0.1321\n",
            "Epoch [10/10], Step [2600/3079], Loss: 0.5030\n",
            "Epoch [10/10], Step [2700/3079], Loss: 0.1366\n",
            "Epoch [10/10], Step [2800/3079], Loss: 0.2264\n",
            "Epoch [10/10], Step [2900/3079], Loss: 0.1134\n",
            "Epoch [10/10], Step [3000/3079], Loss: 0.2036\n"
          ]
        },
        {
          "metadata": {
            "tags": null
          },
          "name": "stderr",
          "output_type": "stream",
          "text": [
            "2023-12-08 23:55:01,224 - root - INFO - Accuracy: 97.44%\n",
            "2023-12-08 23:55:01,225 - root - INFO - Precision: 0.9733\n",
            "2023-12-08 23:55:01,227 - root - INFO - Recall: 0.9744\n",
            "2023-12-08 23:55:01,228 - root - INFO - F1 Score: 0.9732\n"
          ]
        },
        {
          "metadata": {
            "tags": null
          },
          "name": "stdout",
          "output_type": "stream",
          "text": [
            "FOLD 6\n",
            "--------------------------------\n",
            "LSTM(\n",
            "  (lstm): LSTM(1, 128, num_layers=2, batch_first=True)\n",
            "  (fc): Linear(in_features=128, out_features=5, bias=True)\n",
            ")\n",
            "Epoch [1/10], Step [100/3079], Loss: 0.7110\n",
            "Epoch [1/10], Step [200/3079], Loss: 0.6356\n",
            "Epoch [1/10], Step [300/3079], Loss: 0.5183\n",
            "Epoch [1/10], Step [400/3079], Loss: 0.3717\n",
            "Epoch [1/10], Step [500/3079], Loss: 0.6635\n",
            "Epoch [1/10], Step [600/3079], Loss: 0.4284\n",
            "Epoch [1/10], Step [700/3079], Loss: 0.9226\n",
            "Epoch [1/10], Step [800/3079], Loss: 0.4330\n",
            "Epoch [1/10], Step [900/3079], Loss: 0.6679\n",
            "Epoch [1/10], Step [1000/3079], Loss: 0.6737\n",
            "Epoch [1/10], Step [1100/3079], Loss: 0.8929\n",
            "Epoch [1/10], Step [1200/3079], Loss: 0.5023\n",
            "Epoch [1/10], Step [1300/3079], Loss: 0.8428\n",
            "Epoch [1/10], Step [1400/3079], Loss: 0.9262\n",
            "Epoch [1/10], Step [1500/3079], Loss: 0.5836\n",
            "Epoch [1/10], Step [1600/3079], Loss: 0.3634\n",
            "Epoch [1/10], Step [1700/3079], Loss: 0.6457\n",
            "Epoch [1/10], Step [1800/3079], Loss: 0.5885\n",
            "Epoch [1/10], Step [1900/3079], Loss: 0.2068\n",
            "Epoch [1/10], Step [2000/3079], Loss: 0.4222\n",
            "Epoch [1/10], Step [2100/3079], Loss: 0.4401\n",
            "Epoch [1/10], Step [2200/3079], Loss: 0.3390\n",
            "Epoch [1/10], Step [2300/3079], Loss: 0.1455\n",
            "Epoch [1/10], Step [2400/3079], Loss: 0.4195\n",
            "Epoch [1/10], Step [2500/3079], Loss: 0.4999\n",
            "Epoch [1/10], Step [2600/3079], Loss: 0.4120\n",
            "Epoch [1/10], Step [2700/3079], Loss: 0.5691\n",
            "Epoch [1/10], Step [2800/3079], Loss: 0.2193\n",
            "Epoch [1/10], Step [2900/3079], Loss: 0.4530\n",
            "Epoch [1/10], Step [3000/3079], Loss: 0.4042\n"
          ]
        },
        {
          "metadata": {
            "tags": null
          },
          "name": "stderr",
          "output_type": "stream",
          "text": [
            "/usr/local/lib/python3.10/dist-packages/sklearn/metrics/_classification.py:1344: UndefinedMetricWarning: Precision is ill-defined and being set to 0.0 in labels with no predicted samples. Use `zero_division` parameter to control this behavior.\n",
            "  _warn_prf(average, modifier, msg_start, len(result))\n",
            "2023-12-08 23:55:15,753 - root - INFO - Accuracy: 88.94%\n",
            "2023-12-08 23:55:15,754 - root - INFO - Precision: 0.8704\n",
            "2023-12-08 23:55:15,755 - root - INFO - Recall: 0.8894\n",
            "2023-12-08 23:55:15,756 - root - INFO - F1 Score: 0.8634\n"
          ]
        },
        {
          "metadata": {
            "tags": null
          },
          "name": "stdout",
          "output_type": "stream",
          "text": [
            "Epoch [2/10], Step [100/3079], Loss: 0.2789\n",
            "Epoch [2/10], Step [200/3079], Loss: 0.4234\n",
            "Epoch [2/10], Step [300/3079], Loss: 0.7285\n",
            "Epoch [2/10], Step [400/3079], Loss: 0.6159\n",
            "Epoch [2/10], Step [500/3079], Loss: 0.4783\n",
            "Epoch [2/10], Step [600/3079], Loss: 0.6840\n",
            "Epoch [2/10], Step [700/3079], Loss: 0.2654\n",
            "Epoch [2/10], Step [800/3079], Loss: 0.5759\n",
            "Epoch [2/10], Step [900/3079], Loss: 0.4388\n",
            "Epoch [2/10], Step [1000/3079], Loss: 0.3487\n",
            "Epoch [2/10], Step [1100/3079], Loss: 0.4568\n",
            "Epoch [2/10], Step [1200/3079], Loss: 0.2724\n",
            "Epoch [2/10], Step [1300/3079], Loss: 0.3306\n",
            "Epoch [2/10], Step [1400/3079], Loss: 0.1426\n",
            "Epoch [2/10], Step [1500/3079], Loss: 0.4616\n",
            "Epoch [2/10], Step [1600/3079], Loss: 0.5665\n",
            "Epoch [2/10], Step [1700/3079], Loss: 0.1756\n",
            "Epoch [2/10], Step [1800/3079], Loss: 0.4439\n",
            "Epoch [2/10], Step [1900/3079], Loss: 0.3789\n",
            "Epoch [2/10], Step [2000/3079], Loss: 0.2547\n",
            "Epoch [2/10], Step [2100/3079], Loss: 0.2859\n",
            "Epoch [2/10], Step [2200/3079], Loss: 0.1063\n",
            "Epoch [2/10], Step [2300/3079], Loss: 0.2824\n",
            "Epoch [2/10], Step [2400/3079], Loss: 0.4318\n",
            "Epoch [2/10], Step [2500/3079], Loss: 0.2248\n",
            "Epoch [2/10], Step [2600/3079], Loss: 0.3371\n",
            "Epoch [2/10], Step [2700/3079], Loss: 0.4119\n",
            "Epoch [2/10], Step [2800/3079], Loss: 0.2260\n",
            "Epoch [2/10], Step [2900/3079], Loss: 0.2676\n",
            "Epoch [2/10], Step [3000/3079], Loss: 0.0928\n"
          ]
        },
        {
          "metadata": {
            "tags": null
          },
          "name": "stderr",
          "output_type": "stream",
          "text": [
            "/usr/local/lib/python3.10/dist-packages/sklearn/metrics/_classification.py:1344: UndefinedMetricWarning: Precision is ill-defined and being set to 0.0 in labels with no predicted samples. Use `zero_division` parameter to control this behavior.\n",
            "  _warn_prf(average, modifier, msg_start, len(result))\n",
            "2023-12-08 23:55:30,264 - root - INFO - Accuracy: 92.80%\n",
            "2023-12-08 23:55:30,265 - root - INFO - Precision: 0.9173\n",
            "2023-12-08 23:55:30,266 - root - INFO - Recall: 0.9280\n",
            "2023-12-08 23:55:30,267 - root - INFO - F1 Score: 0.9172\n"
          ]
        },
        {
          "metadata": {
            "tags": null
          },
          "name": "stdout",
          "output_type": "stream",
          "text": [
            "Epoch [3/10], Step [100/3079], Loss: 0.1958\n",
            "Epoch [3/10], Step [200/3079], Loss: 0.3793\n",
            "Epoch [3/10], Step [300/3079], Loss: 0.3407\n",
            "Epoch [3/10], Step [400/3079], Loss: 0.4461\n",
            "Epoch [3/10], Step [500/3079], Loss: 0.1146\n",
            "Epoch [3/10], Step [600/3079], Loss: 0.1600\n",
            "Epoch [3/10], Step [700/3079], Loss: 0.0762\n",
            "Epoch [3/10], Step [800/3079], Loss: 0.6611\n",
            "Epoch [3/10], Step [900/3079], Loss: 0.2780\n",
            "Epoch [3/10], Step [1000/3079], Loss: 0.4858\n",
            "Epoch [3/10], Step [1100/3079], Loss: 0.2226\n",
            "Epoch [3/10], Step [1200/3079], Loss: 0.2078\n",
            "Epoch [3/10], Step [1300/3079], Loss: 0.0693\n",
            "Epoch [3/10], Step [1400/3079], Loss: 0.2564\n",
            "Epoch [3/10], Step [1500/3079], Loss: 0.0896\n",
            "Epoch [3/10], Step [1600/3079], Loss: 0.3629\n",
            "Epoch [3/10], Step [1700/3079], Loss: 0.2318\n",
            "Epoch [3/10], Step [1800/3079], Loss: 0.4611\n",
            "Epoch [3/10], Step [1900/3079], Loss: 0.2350\n",
            "Epoch [3/10], Step [2000/3079], Loss: 0.1054\n",
            "Epoch [3/10], Step [2100/3079], Loss: 0.3255\n",
            "Epoch [3/10], Step [2200/3079], Loss: 0.3495\n",
            "Epoch [3/10], Step [2300/3079], Loss: 0.3705\n",
            "Epoch [3/10], Step [2400/3079], Loss: 0.1701\n",
            "Epoch [3/10], Step [2500/3079], Loss: 0.4529\n",
            "Epoch [3/10], Step [2600/3079], Loss: 0.1593\n",
            "Epoch [3/10], Step [2700/3079], Loss: 0.0830\n",
            "Epoch [3/10], Step [2800/3079], Loss: 0.1644\n",
            "Epoch [3/10], Step [2900/3079], Loss: 0.3447\n",
            "Epoch [3/10], Step [3000/3079], Loss: 0.2076\n"
          ]
        },
        {
          "metadata": {
            "tags": null
          },
          "name": "stderr",
          "output_type": "stream",
          "text": [
            "/usr/local/lib/python3.10/dist-packages/sklearn/metrics/_classification.py:1344: UndefinedMetricWarning: Precision is ill-defined and being set to 0.0 in labels with no predicted samples. Use `zero_division` parameter to control this behavior.\n",
            "  _warn_prf(average, modifier, msg_start, len(result))\n",
            "2023-12-08 23:55:44,748 - root - INFO - Accuracy: 94.58%\n",
            "2023-12-08 23:55:44,749 - root - INFO - Precision: 0.9369\n",
            "2023-12-08 23:55:44,750 - root - INFO - Recall: 0.9458\n",
            "2023-12-08 23:55:44,751 - root - INFO - F1 Score: 0.9406\n"
          ]
        },
        {
          "metadata": {
            "tags": null
          },
          "name": "stdout",
          "output_type": "stream",
          "text": [
            "Epoch [4/10], Step [100/3079], Loss: 0.1121\n",
            "Epoch [4/10], Step [200/3079], Loss: 0.3455\n",
            "Epoch [4/10], Step [300/3079], Loss: 0.2408\n",
            "Epoch [4/10], Step [400/3079], Loss: 0.0739\n",
            "Epoch [4/10], Step [500/3079], Loss: 0.4372\n",
            "Epoch [4/10], Step [600/3079], Loss: 0.4155\n",
            "Epoch [4/10], Step [700/3079], Loss: 0.0730\n",
            "Epoch [4/10], Step [800/3079], Loss: 0.1601\n",
            "Epoch [4/10], Step [900/3079], Loss: 0.2940\n",
            "Epoch [4/10], Step [1000/3079], Loss: 0.1190\n",
            "Epoch [4/10], Step [1100/3079], Loss: 0.3085\n",
            "Epoch [4/10], Step [1200/3079], Loss: 0.1947\n",
            "Epoch [4/10], Step [1300/3079], Loss: 0.2252\n",
            "Epoch [4/10], Step [1400/3079], Loss: 0.1880\n",
            "Epoch [4/10], Step [1500/3079], Loss: 0.0979\n",
            "Epoch [4/10], Step [1600/3079], Loss: 0.0378\n",
            "Epoch [4/10], Step [1700/3079], Loss: 0.0288\n",
            "Epoch [4/10], Step [1800/3079], Loss: 0.4723\n",
            "Epoch [4/10], Step [1900/3079], Loss: 0.1411\n",
            "Epoch [4/10], Step [2000/3079], Loss: 0.2581\n",
            "Epoch [4/10], Step [2100/3079], Loss: 0.0474\n",
            "Epoch [4/10], Step [2200/3079], Loss: 0.1666\n",
            "Epoch [4/10], Step [2300/3079], Loss: 0.2228\n",
            "Epoch [4/10], Step [2400/3079], Loss: 0.3266\n",
            "Epoch [4/10], Step [2500/3079], Loss: 0.0915\n",
            "Epoch [4/10], Step [2600/3079], Loss: 0.0813\n",
            "Epoch [4/10], Step [2700/3079], Loss: 0.4577\n",
            "Epoch [4/10], Step [2800/3079], Loss: 0.1227\n",
            "Epoch [4/10], Step [2900/3079], Loss: 0.3621\n",
            "Epoch [4/10], Step [3000/3079], Loss: 0.3340\n"
          ]
        },
        {
          "metadata": {
            "tags": null
          },
          "name": "stderr",
          "output_type": "stream",
          "text": [
            "2023-12-08 23:55:59,218 - root - INFO - Accuracy: 95.15%\n",
            "2023-12-08 23:55:59,219 - root - INFO - Precision: 0.9498\n",
            "2023-12-08 23:55:59,219 - root - INFO - Recall: 0.9515\n",
            "2023-12-08 23:55:59,220 - root - INFO - F1 Score: 0.9464\n"
          ]
        },
        {
          "metadata": {
            "tags": null
          },
          "name": "stdout",
          "output_type": "stream",
          "text": [
            "Epoch [5/10], Step [100/3079], Loss: 0.1475\n",
            "Epoch [5/10], Step [200/3079], Loss: 0.1094\n",
            "Epoch [5/10], Step [300/3079], Loss: 0.1947\n",
            "Epoch [5/10], Step [400/3079], Loss: 0.1896\n",
            "Epoch [5/10], Step [500/3079], Loss: 0.3137\n",
            "Epoch [5/10], Step [600/3079], Loss: 0.2581\n",
            "Epoch [5/10], Step [700/3079], Loss: 0.0327\n",
            "Epoch [5/10], Step [800/3079], Loss: 0.1892\n",
            "Epoch [5/10], Step [900/3079], Loss: 0.1452\n",
            "Epoch [5/10], Step [1000/3079], Loss: 0.1122\n",
            "Epoch [5/10], Step [1100/3079], Loss: 0.2883\n",
            "Epoch [5/10], Step [1200/3079], Loss: 0.0449\n",
            "Epoch [5/10], Step [1300/3079], Loss: 0.1434\n",
            "Epoch [5/10], Step [1400/3079], Loss: 0.3977\n",
            "Epoch [5/10], Step [1500/3079], Loss: 0.0707\n",
            "Epoch [5/10], Step [1600/3079], Loss: 0.0759\n",
            "Epoch [5/10], Step [1700/3079], Loss: 0.2628\n",
            "Epoch [5/10], Step [1800/3079], Loss: 0.0605\n",
            "Epoch [5/10], Step [1900/3079], Loss: 0.1770\n",
            "Epoch [5/10], Step [2000/3079], Loss: 0.2676\n",
            "Epoch [5/10], Step [2100/3079], Loss: 0.0282\n",
            "Epoch [5/10], Step [2200/3079], Loss: 0.4643\n",
            "Epoch [5/10], Step [2300/3079], Loss: 0.0441\n",
            "Epoch [5/10], Step [2400/3079], Loss: 0.0507\n",
            "Epoch [5/10], Step [2500/3079], Loss: 0.0922\n",
            "Epoch [5/10], Step [2600/3079], Loss: 0.0209\n",
            "Epoch [5/10], Step [2700/3079], Loss: 0.2847\n",
            "Epoch [5/10], Step [2800/3079], Loss: 0.0199\n",
            "Epoch [5/10], Step [2900/3079], Loss: 0.0597\n",
            "Epoch [5/10], Step [3000/3079], Loss: 0.0324\n"
          ]
        },
        {
          "metadata": {
            "tags": null
          },
          "name": "stderr",
          "output_type": "stream",
          "text": [
            "2023-12-08 23:56:13,711 - root - INFO - Accuracy: 95.88%\n",
            "2023-12-08 23:56:13,712 - root - INFO - Precision: 0.9581\n",
            "2023-12-08 23:56:13,713 - root - INFO - Recall: 0.9588\n",
            "2023-12-08 23:56:13,714 - root - INFO - F1 Score: 0.9554\n"
          ]
        },
        {
          "metadata": {
            "tags": null
          },
          "name": "stdout",
          "output_type": "stream",
          "text": [
            "Epoch [6/10], Step [100/3079], Loss: 0.0976\n",
            "Epoch [6/10], Step [200/3079], Loss: 0.1244\n",
            "Epoch [6/10], Step [300/3079], Loss: 0.0388\n",
            "Epoch [6/10], Step [400/3079], Loss: 0.2007\n",
            "Epoch [6/10], Step [500/3079], Loss: 0.1749\n",
            "Epoch [6/10], Step [600/3079], Loss: 0.1846\n",
            "Epoch [6/10], Step [700/3079], Loss: 0.2655\n",
            "Epoch [6/10], Step [800/3079], Loss: 0.2541\n",
            "Epoch [6/10], Step [900/3079], Loss: 0.1790\n",
            "Epoch [6/10], Step [1000/3079], Loss: 0.0087\n",
            "Epoch [6/10], Step [1100/3079], Loss: 0.1821\n",
            "Epoch [6/10], Step [1200/3079], Loss: 0.0453\n",
            "Epoch [6/10], Step [1300/3079], Loss: 0.2567\n",
            "Epoch [6/10], Step [1400/3079], Loss: 0.0273\n",
            "Epoch [6/10], Step [1500/3079], Loss: 0.3900\n",
            "Epoch [6/10], Step [1600/3079], Loss: 0.1857\n",
            "Epoch [6/10], Step [1700/3079], Loss: 0.0543\n",
            "Epoch [6/10], Step [1800/3079], Loss: 0.1405\n",
            "Epoch [6/10], Step [1900/3079], Loss: 0.2144\n",
            "Epoch [6/10], Step [2000/3079], Loss: 0.1755\n",
            "Epoch [6/10], Step [2100/3079], Loss: 0.0338\n",
            "Epoch [6/10], Step [2200/3079], Loss: 0.1692\n",
            "Epoch [6/10], Step [2300/3079], Loss: 0.0208\n",
            "Epoch [6/10], Step [2400/3079], Loss: 0.0929\n",
            "Epoch [6/10], Step [2500/3079], Loss: 0.1021\n",
            "Epoch [6/10], Step [2600/3079], Loss: 0.1092\n",
            "Epoch [6/10], Step [2700/3079], Loss: 0.0349\n",
            "Epoch [6/10], Step [2800/3079], Loss: 0.1393\n",
            "Epoch [6/10], Step [2900/3079], Loss: 0.2005\n",
            "Epoch [6/10], Step [3000/3079], Loss: 0.0596\n"
          ]
        },
        {
          "metadata": {
            "tags": null
          },
          "name": "stderr",
          "output_type": "stream",
          "text": [
            "2023-12-08 23:56:28,186 - root - INFO - Accuracy: 96.41%\n",
            "2023-12-08 23:56:28,187 - root - INFO - Precision: 0.9616\n",
            "2023-12-08 23:56:28,188 - root - INFO - Recall: 0.9641\n",
            "2023-12-08 23:56:28,189 - root - INFO - F1 Score: 0.9610\n"
          ]
        },
        {
          "metadata": {
            "tags": null
          },
          "name": "stdout",
          "output_type": "stream",
          "text": [
            "Epoch [7/10], Step [100/3079], Loss: 0.1609\n",
            "Epoch [7/10], Step [200/3079], Loss: 0.3960\n",
            "Epoch [7/10], Step [300/3079], Loss: 0.2289\n",
            "Epoch [7/10], Step [400/3079], Loss: 0.1773\n",
            "Epoch [7/10], Step [500/3079], Loss: 0.0370\n",
            "Epoch [7/10], Step [600/3079], Loss: 0.0735\n",
            "Epoch [7/10], Step [700/3079], Loss: 0.0078\n",
            "Epoch [7/10], Step [800/3079], Loss: 0.1000\n",
            "Epoch [7/10], Step [900/3079], Loss: 0.2088\n",
            "Epoch [7/10], Step [1000/3079], Loss: 0.0335\n",
            "Epoch [7/10], Step [1100/3079], Loss: 0.0662\n",
            "Epoch [7/10], Step [1200/3079], Loss: 0.0528\n",
            "Epoch [7/10], Step [1300/3079], Loss: 0.0513\n",
            "Epoch [7/10], Step [1400/3079], Loss: 0.2212\n",
            "Epoch [7/10], Step [1500/3079], Loss: 0.1562\n",
            "Epoch [7/10], Step [1600/3079], Loss: 0.2908\n",
            "Epoch [7/10], Step [1700/3079], Loss: 0.0783\n",
            "Epoch [7/10], Step [1800/3079], Loss: 0.1074\n",
            "Epoch [7/10], Step [1900/3079], Loss: 0.1036\n",
            "Epoch [7/10], Step [2000/3079], Loss: 0.2645\n",
            "Epoch [7/10], Step [2100/3079], Loss: 0.4097\n",
            "Epoch [7/10], Step [2200/3079], Loss: 0.0661\n",
            "Epoch [7/10], Step [2300/3079], Loss: 0.4040\n",
            "Epoch [7/10], Step [2400/3079], Loss: 0.1720\n",
            "Epoch [7/10], Step [2500/3079], Loss: 0.0191\n",
            "Epoch [7/10], Step [2600/3079], Loss: 0.0123\n",
            "Epoch [7/10], Step [2700/3079], Loss: 0.2603\n",
            "Epoch [7/10], Step [2800/3079], Loss: 0.0215\n",
            "Epoch [7/10], Step [2900/3079], Loss: 0.0140\n",
            "Epoch [7/10], Step [3000/3079], Loss: 0.0177\n"
          ]
        },
        {
          "metadata": {
            "tags": null
          },
          "name": "stderr",
          "output_type": "stream",
          "text": [
            "2023-12-08 23:56:42,694 - root - INFO - Accuracy: 96.74%\n",
            "2023-12-08 23:56:42,695 - root - INFO - Precision: 0.9672\n",
            "2023-12-08 23:56:42,696 - root - INFO - Recall: 0.9674\n",
            "2023-12-08 23:56:42,697 - root - INFO - F1 Score: 0.9664\n"
          ]
        },
        {
          "metadata": {
            "tags": null
          },
          "name": "stdout",
          "output_type": "stream",
          "text": [
            "Epoch [8/10], Step [100/3079], Loss: 0.0232\n",
            "Epoch [8/10], Step [200/3079], Loss: 0.1318\n",
            "Epoch [8/10], Step [300/3079], Loss: 0.0419\n",
            "Epoch [8/10], Step [400/3079], Loss: 0.0527\n",
            "Epoch [8/10], Step [500/3079], Loss: 0.0602\n",
            "Epoch [8/10], Step [600/3079], Loss: 0.0589\n",
            "Epoch [8/10], Step [700/3079], Loss: 0.0283\n",
            "Epoch [8/10], Step [800/3079], Loss: 0.1490\n",
            "Epoch [8/10], Step [900/3079], Loss: 0.0266\n",
            "Epoch [8/10], Step [1000/3079], Loss: 0.1317\n",
            "Epoch [8/10], Step [1100/3079], Loss: 0.1016\n",
            "Epoch [8/10], Step [1200/3079], Loss: 0.0656\n",
            "Epoch [8/10], Step [1300/3079], Loss: 0.2220\n",
            "Epoch [8/10], Step [1400/3079], Loss: 0.0071\n",
            "Epoch [8/10], Step [1500/3079], Loss: 0.3229\n",
            "Epoch [8/10], Step [1600/3079], Loss: 0.0259\n",
            "Epoch [8/10], Step [1700/3079], Loss: 0.0348\n",
            "Epoch [8/10], Step [1800/3079], Loss: 0.0450\n",
            "Epoch [8/10], Step [1900/3079], Loss: 0.0181\n",
            "Epoch [8/10], Step [2000/3079], Loss: 0.0234\n",
            "Epoch [8/10], Step [2100/3079], Loss: 0.1269\n",
            "Epoch [8/10], Step [2200/3079], Loss: 0.0893\n",
            "Epoch [8/10], Step [2300/3079], Loss: 0.0982\n",
            "Epoch [8/10], Step [2400/3079], Loss: 0.2023\n",
            "Epoch [8/10], Step [2500/3079], Loss: 0.0334\n",
            "Epoch [8/10], Step [2600/3079], Loss: 0.0190\n",
            "Epoch [8/10], Step [2700/3079], Loss: 0.1072\n",
            "Epoch [8/10], Step [2800/3079], Loss: 0.0401\n",
            "Epoch [8/10], Step [2900/3079], Loss: 0.1047\n",
            "Epoch [8/10], Step [3000/3079], Loss: 0.0212\n"
          ]
        },
        {
          "metadata": {
            "tags": null
          },
          "name": "stderr",
          "output_type": "stream",
          "text": [
            "2023-12-08 23:56:57,123 - root - INFO - Accuracy: 97.30%\n",
            "2023-12-08 23:56:57,124 - root - INFO - Precision: 0.9720\n",
            "2023-12-08 23:56:57,125 - root - INFO - Recall: 0.9730\n",
            "2023-12-08 23:56:57,126 - root - INFO - F1 Score: 0.9722\n"
          ]
        },
        {
          "metadata": {
            "tags": null
          },
          "name": "stdout",
          "output_type": "stream",
          "text": [
            "Epoch [9/10], Step [100/3079], Loss: 0.0507\n",
            "Epoch [9/10], Step [200/3079], Loss: 0.0109\n",
            "Epoch [9/10], Step [300/3079], Loss: 0.2340\n",
            "Epoch [9/10], Step [400/3079], Loss: 0.0885\n",
            "Epoch [9/10], Step [500/3079], Loss: 0.0416\n",
            "Epoch [9/10], Step [600/3079], Loss: 0.1273\n",
            "Epoch [9/10], Step [700/3079], Loss: 0.0495\n",
            "Epoch [9/10], Step [800/3079], Loss: 0.1004\n",
            "Epoch [9/10], Step [900/3079], Loss: 0.0325\n",
            "Epoch [9/10], Step [1000/3079], Loss: 0.0093\n",
            "Epoch [9/10], Step [1100/3079], Loss: 0.1660\n",
            "Epoch [9/10], Step [1200/3079], Loss: 0.0260\n",
            "Epoch [9/10], Step [1300/3079], Loss: 0.0633\n",
            "Epoch [9/10], Step [1400/3079], Loss: 0.0970\n",
            "Epoch [9/10], Step [1500/3079], Loss: 0.0557\n",
            "Epoch [9/10], Step [1600/3079], Loss: 0.0307\n",
            "Epoch [9/10], Step [1700/3079], Loss: 0.1597\n",
            "Epoch [9/10], Step [1800/3079], Loss: 0.3522\n",
            "Epoch [9/10], Step [1900/3079], Loss: 0.1830\n",
            "Epoch [9/10], Step [2000/3079], Loss: 0.1299\n",
            "Epoch [9/10], Step [2100/3079], Loss: 0.0279\n",
            "Epoch [9/10], Step [2200/3079], Loss: 0.0618\n",
            "Epoch [9/10], Step [2300/3079], Loss: 0.1562\n",
            "Epoch [9/10], Step [2400/3079], Loss: 0.0925\n",
            "Epoch [9/10], Step [2500/3079], Loss: 0.0692\n",
            "Epoch [9/10], Step [2600/3079], Loss: 0.0155\n",
            "Epoch [9/10], Step [2700/3079], Loss: 0.0153\n",
            "Epoch [9/10], Step [2800/3079], Loss: 0.2030\n",
            "Epoch [9/10], Step [2900/3079], Loss: 0.0151\n",
            "Epoch [9/10], Step [3000/3079], Loss: 0.0224\n"
          ]
        },
        {
          "metadata": {
            "tags": null
          },
          "name": "stderr",
          "output_type": "stream",
          "text": [
            "2023-12-08 23:57:11,555 - root - INFO - Accuracy: 97.28%\n",
            "2023-12-08 23:57:11,556 - root - INFO - Precision: 0.9719\n",
            "2023-12-08 23:57:11,557 - root - INFO - Recall: 0.9728\n",
            "2023-12-08 23:57:11,558 - root - INFO - F1 Score: 0.9719\n"
          ]
        },
        {
          "metadata": {
            "tags": null
          },
          "name": "stdout",
          "output_type": "stream",
          "text": [
            "Epoch [10/10], Step [100/3079], Loss: 0.0167\n",
            "Epoch [10/10], Step [200/3079], Loss: 0.0378\n",
            "Epoch [10/10], Step [300/3079], Loss: 0.0527\n",
            "Epoch [10/10], Step [400/3079], Loss: 0.2239\n",
            "Epoch [10/10], Step [500/3079], Loss: 0.0310\n",
            "Epoch [10/10], Step [600/3079], Loss: 0.1825\n",
            "Epoch [10/10], Step [700/3079], Loss: 0.0811\n",
            "Epoch [10/10], Step [800/3079], Loss: 0.0304\n",
            "Epoch [10/10], Step [900/3079], Loss: 0.3063\n",
            "Epoch [10/10], Step [1000/3079], Loss: 0.0092\n",
            "Epoch [10/10], Step [1100/3079], Loss: 0.0875\n",
            "Epoch [10/10], Step [1200/3079], Loss: 0.0798\n",
            "Epoch [10/10], Step [1300/3079], Loss: 0.2496\n",
            "Epoch [10/10], Step [1400/3079], Loss: 0.1691\n",
            "Epoch [10/10], Step [1500/3079], Loss: 0.0148\n",
            "Epoch [10/10], Step [1600/3079], Loss: 0.1669\n",
            "Epoch [10/10], Step [1700/3079], Loss: 0.0250\n",
            "Epoch [10/10], Step [1800/3079], Loss: 0.0693\n",
            "Epoch [10/10], Step [1900/3079], Loss: 0.1728\n",
            "Epoch [10/10], Step [2000/3079], Loss: 0.0470\n",
            "Epoch [10/10], Step [2100/3079], Loss: 0.0046\n",
            "Epoch [10/10], Step [2200/3079], Loss: 0.0739\n",
            "Epoch [10/10], Step [2300/3079], Loss: 0.0999\n",
            "Epoch [10/10], Step [2400/3079], Loss: 0.0607\n",
            "Epoch [10/10], Step [2500/3079], Loss: 0.2181\n",
            "Epoch [10/10], Step [2600/3079], Loss: 0.0726\n",
            "Epoch [10/10], Step [2700/3079], Loss: 0.1488\n",
            "Epoch [10/10], Step [2800/3079], Loss: 0.0176\n",
            "Epoch [10/10], Step [2900/3079], Loss: 0.2445\n",
            "Epoch [10/10], Step [3000/3079], Loss: 0.0247\n"
          ]
        },
        {
          "metadata": {
            "tags": null
          },
          "name": "stderr",
          "output_type": "stream",
          "text": [
            "2023-12-08 23:57:25,821 - root - INFO - Accuracy: 97.72%\n",
            "2023-12-08 23:57:25,822 - root - INFO - Precision: 0.9767\n",
            "2023-12-08 23:57:25,823 - root - INFO - Recall: 0.9772\n",
            "2023-12-08 23:57:25,824 - root - INFO - F1 Score: 0.9761\n"
          ]
        },
        {
          "metadata": {
            "tags": null
          },
          "name": "stdout",
          "output_type": "stream",
          "text": [
            "FOLD 7\n",
            "--------------------------------\n",
            "LSTM(\n",
            "  (lstm): LSTM(1, 128, num_layers=2, batch_first=True)\n",
            "  (fc): Linear(in_features=128, out_features=5, bias=True)\n",
            ")\n",
            "Epoch [1/10], Step [100/3079], Loss: 0.3516\n",
            "Epoch [1/10], Step [200/3079], Loss: 0.4710\n",
            "Epoch [1/10], Step [300/3079], Loss: 0.8480\n",
            "Epoch [1/10], Step [400/3079], Loss: 0.9623\n",
            "Epoch [1/10], Step [500/3079], Loss: 0.9025\n",
            "Epoch [1/10], Step [600/3079], Loss: 0.7976\n",
            "Epoch [1/10], Step [700/3079], Loss: 1.0050\n",
            "Epoch [1/10], Step [800/3079], Loss: 0.2751\n",
            "Epoch [1/10], Step [900/3079], Loss: 0.7670\n",
            "Epoch [1/10], Step [1000/3079], Loss: 0.7571\n",
            "Epoch [1/10], Step [1100/3079], Loss: 0.5392\n",
            "Epoch [1/10], Step [1200/3079], Loss: 0.3437\n",
            "Epoch [1/10], Step [1300/3079], Loss: 0.6857\n",
            "Epoch [1/10], Step [1400/3079], Loss: 0.5842\n",
            "Epoch [1/10], Step [1500/3079], Loss: 0.3982\n",
            "Epoch [1/10], Step [1600/3079], Loss: 0.4554\n",
            "Epoch [1/10], Step [1700/3079], Loss: 0.5426\n",
            "Epoch [1/10], Step [1800/3079], Loss: 0.7285\n",
            "Epoch [1/10], Step [1900/3079], Loss: 0.6795\n",
            "Epoch [1/10], Step [2000/3079], Loss: 0.6233\n",
            "Epoch [1/10], Step [2100/3079], Loss: 0.8871\n",
            "Epoch [1/10], Step [2200/3079], Loss: 0.3734\n",
            "Epoch [1/10], Step [2300/3079], Loss: 0.4590\n",
            "Epoch [1/10], Step [2400/3079], Loss: 0.5548\n",
            "Epoch [1/10], Step [2500/3079], Loss: 0.5313\n",
            "Epoch [1/10], Step [2600/3079], Loss: 0.5071\n",
            "Epoch [1/10], Step [2700/3079], Loss: 0.6381\n",
            "Epoch [1/10], Step [2800/3079], Loss: 0.1659\n",
            "Epoch [1/10], Step [2900/3079], Loss: 0.3764\n",
            "Epoch [1/10], Step [3000/3079], Loss: 0.6372\n"
          ]
        },
        {
          "metadata": {
            "tags": null
          },
          "name": "stderr",
          "output_type": "stream",
          "text": [
            "/usr/local/lib/python3.10/dist-packages/sklearn/metrics/_classification.py:1344: UndefinedMetricWarning: Precision is ill-defined and being set to 0.0 in labels with no predicted samples. Use `zero_division` parameter to control this behavior.\n",
            "  _warn_prf(average, modifier, msg_start, len(result))\n",
            "2023-12-08 23:57:40,248 - root - INFO - Accuracy: 82.78%\n",
            "2023-12-08 23:57:40,249 - root - INFO - Precision: 0.6852\n",
            "2023-12-08 23:57:40,250 - root - INFO - Recall: 0.8278\n",
            "2023-12-08 23:57:40,252 - root - INFO - F1 Score: 0.7498\n"
          ]
        },
        {
          "metadata": {
            "tags": null
          },
          "name": "stdout",
          "output_type": "stream",
          "text": [
            "Epoch [2/10], Step [100/3079], Loss: 0.5297\n",
            "Epoch [2/10], Step [200/3079], Loss: 0.4373\n",
            "Epoch [2/10], Step [300/3079], Loss: 0.7451\n",
            "Epoch [2/10], Step [400/3079], Loss: 0.5676\n",
            "Epoch [2/10], Step [500/3079], Loss: 0.8407\n",
            "Epoch [2/10], Step [600/3079], Loss: 0.6619\n",
            "Epoch [2/10], Step [700/3079], Loss: 0.5406\n",
            "Epoch [2/10], Step [800/3079], Loss: 0.3656\n",
            "Epoch [2/10], Step [900/3079], Loss: 0.3208\n",
            "Epoch [2/10], Step [1000/3079], Loss: 0.7012\n",
            "Epoch [2/10], Step [1100/3079], Loss: 0.6427\n",
            "Epoch [2/10], Step [1200/3079], Loss: 0.2305\n",
            "Epoch [2/10], Step [1300/3079], Loss: 0.2624\n",
            "Epoch [2/10], Step [1400/3079], Loss: 0.2858\n",
            "Epoch [2/10], Step [1500/3079], Loss: 0.1639\n",
            "Epoch [2/10], Step [1600/3079], Loss: 0.2903\n",
            "Epoch [2/10], Step [1700/3079], Loss: 0.2016\n",
            "Epoch [2/10], Step [1800/3079], Loss: 0.4323\n",
            "Epoch [2/10], Step [1900/3079], Loss: 0.4121\n",
            "Epoch [2/10], Step [2000/3079], Loss: 0.4190\n",
            "Epoch [2/10], Step [2100/3079], Loss: 0.0765\n",
            "Epoch [2/10], Step [2200/3079], Loss: 0.3417\n",
            "Epoch [2/10], Step [2300/3079], Loss: 0.2092\n",
            "Epoch [2/10], Step [2400/3079], Loss: 0.4222\n",
            "Epoch [2/10], Step [2500/3079], Loss: 0.2783\n",
            "Epoch [2/10], Step [2600/3079], Loss: 0.1222\n",
            "Epoch [2/10], Step [2700/3079], Loss: 0.1588\n",
            "Epoch [2/10], Step [2800/3079], Loss: 0.3372\n",
            "Epoch [2/10], Step [2900/3079], Loss: 0.4882\n",
            "Epoch [2/10], Step [3000/3079], Loss: 0.4820\n"
          ]
        },
        {
          "metadata": {
            "tags": null
          },
          "name": "stderr",
          "output_type": "stream",
          "text": [
            "/usr/local/lib/python3.10/dist-packages/sklearn/metrics/_classification.py:1344: UndefinedMetricWarning: Precision is ill-defined and being set to 0.0 in labels with no predicted samples. Use `zero_division` parameter to control this behavior.\n",
            "  _warn_prf(average, modifier, msg_start, len(result))\n",
            "2023-12-08 23:57:54,760 - root - INFO - Accuracy: 92.42%\n",
            "2023-12-08 23:57:54,761 - root - INFO - Precision: 0.9095\n",
            "2023-12-08 23:57:54,762 - root - INFO - Recall: 0.9242\n",
            "2023-12-08 23:57:54,763 - root - INFO - F1 Score: 0.9118\n"
          ]
        },
        {
          "metadata": {
            "tags": null
          },
          "name": "stdout",
          "output_type": "stream",
          "text": [
            "Epoch [3/10], Step [100/3079], Loss: 0.3813\n",
            "Epoch [3/10], Step [200/3079], Loss: 0.0422\n",
            "Epoch [3/10], Step [300/3079], Loss: 0.1338\n",
            "Epoch [3/10], Step [400/3079], Loss: 0.2479\n",
            "Epoch [3/10], Step [500/3079], Loss: 0.2237\n",
            "Epoch [3/10], Step [600/3079], Loss: 0.6529\n",
            "Epoch [3/10], Step [700/3079], Loss: 0.5331\n",
            "Epoch [3/10], Step [800/3079], Loss: 0.4895\n",
            "Epoch [3/10], Step [900/3079], Loss: 0.3350\n",
            "Epoch [3/10], Step [1000/3079], Loss: 0.5889\n",
            "Epoch [3/10], Step [1100/3079], Loss: 0.4459\n",
            "Epoch [3/10], Step [1200/3079], Loss: 0.0651\n",
            "Epoch [3/10], Step [1300/3079], Loss: 0.4139\n",
            "Epoch [3/10], Step [1400/3079], Loss: 0.4097\n",
            "Epoch [3/10], Step [1500/3079], Loss: 0.1909\n",
            "Epoch [3/10], Step [1600/3079], Loss: 0.2433\n",
            "Epoch [3/10], Step [1700/3079], Loss: 0.1121\n",
            "Epoch [3/10], Step [1800/3079], Loss: 0.0983\n",
            "Epoch [3/10], Step [1900/3079], Loss: 0.3311\n",
            "Epoch [3/10], Step [2000/3079], Loss: 0.0855\n",
            "Epoch [3/10], Step [2100/3079], Loss: 0.1197\n",
            "Epoch [3/10], Step [2200/3079], Loss: 0.4142\n",
            "Epoch [3/10], Step [2300/3079], Loss: 0.4586\n",
            "Epoch [3/10], Step [2400/3079], Loss: 0.1438\n",
            "Epoch [3/10], Step [2500/3079], Loss: 0.1694\n",
            "Epoch [3/10], Step [2600/3079], Loss: 0.2343\n",
            "Epoch [3/10], Step [2700/3079], Loss: 0.2123\n",
            "Epoch [3/10], Step [2800/3079], Loss: 0.1313\n",
            "Epoch [3/10], Step [2900/3079], Loss: 0.3078\n",
            "Epoch [3/10], Step [3000/3079], Loss: 0.3565\n"
          ]
        },
        {
          "metadata": {
            "tags": null
          },
          "name": "stderr",
          "output_type": "stream",
          "text": [
            "/usr/local/lib/python3.10/dist-packages/sklearn/metrics/_classification.py:1344: UndefinedMetricWarning: Precision is ill-defined and being set to 0.0 in labels with no predicted samples. Use `zero_division` parameter to control this behavior.\n",
            "  _warn_prf(average, modifier, msg_start, len(result))\n",
            "2023-12-08 23:58:09,342 - root - INFO - Accuracy: 94.65%\n",
            "2023-12-08 23:58:09,343 - root - INFO - Precision: 0.9357\n",
            "2023-12-08 23:58:09,345 - root - INFO - Recall: 0.9465\n",
            "2023-12-08 23:58:09,346 - root - INFO - F1 Score: 0.9364\n"
          ]
        },
        {
          "metadata": {
            "tags": null
          },
          "name": "stdout",
          "output_type": "stream",
          "text": [
            "Epoch [4/10], Step [100/3079], Loss: 0.1577\n",
            "Epoch [4/10], Step [200/3079], Loss: 0.4355\n",
            "Epoch [4/10], Step [300/3079], Loss: 0.1355\n",
            "Epoch [4/10], Step [400/3079], Loss: 0.2764\n",
            "Epoch [4/10], Step [500/3079], Loss: 0.0348\n",
            "Epoch [4/10], Step [600/3079], Loss: 0.1315\n",
            "Epoch [4/10], Step [700/3079], Loss: 0.2197\n",
            "Epoch [4/10], Step [800/3079], Loss: 0.1046\n",
            "Epoch [4/10], Step [900/3079], Loss: 0.0863\n",
            "Epoch [4/10], Step [1000/3079], Loss: 0.3187\n",
            "Epoch [4/10], Step [1100/3079], Loss: 0.2051\n",
            "Epoch [4/10], Step [1200/3079], Loss: 0.0681\n",
            "Epoch [4/10], Step [1300/3079], Loss: 0.0342\n",
            "Epoch [4/10], Step [1400/3079], Loss: 0.0619\n",
            "Epoch [4/10], Step [1500/3079], Loss: 0.2490\n",
            "Epoch [4/10], Step [1600/3079], Loss: 0.2080\n",
            "Epoch [4/10], Step [1700/3079], Loss: 0.0377\n",
            "Epoch [4/10], Step [1800/3079], Loss: 0.2152\n",
            "Epoch [4/10], Step [1900/3079], Loss: 0.2457\n",
            "Epoch [4/10], Step [2000/3079], Loss: 0.0193\n",
            "Epoch [4/10], Step [2100/3079], Loss: 0.0330\n",
            "Epoch [4/10], Step [2200/3079], Loss: 0.2099\n",
            "Epoch [4/10], Step [2300/3079], Loss: 0.1564\n",
            "Epoch [4/10], Step [2400/3079], Loss: 0.0747\n",
            "Epoch [4/10], Step [2500/3079], Loss: 0.2536\n",
            "Epoch [4/10], Step [2600/3079], Loss: 0.1423\n",
            "Epoch [4/10], Step [2700/3079], Loss: 0.1288\n",
            "Epoch [4/10], Step [2800/3079], Loss: 0.0778\n",
            "Epoch [4/10], Step [2900/3079], Loss: 0.2395\n",
            "Epoch [4/10], Step [3000/3079], Loss: 0.1072\n"
          ]
        },
        {
          "metadata": {
            "tags": null
          },
          "name": "stderr",
          "output_type": "stream",
          "text": [
            "2023-12-08 23:58:23,897 - root - INFO - Accuracy: 95.79%\n",
            "2023-12-08 23:58:23,898 - root - INFO - Precision: 0.9563\n",
            "2023-12-08 23:58:23,899 - root - INFO - Recall: 0.9579\n",
            "2023-12-08 23:58:23,899 - root - INFO - F1 Score: 0.9537\n"
          ]
        },
        {
          "metadata": {
            "tags": null
          },
          "name": "stdout",
          "output_type": "stream",
          "text": [
            "Epoch [5/10], Step [100/3079], Loss: 0.0469\n",
            "Epoch [5/10], Step [200/3079], Loss: 0.2971\n",
            "Epoch [5/10], Step [300/3079], Loss: 0.1735\n",
            "Epoch [5/10], Step [400/3079], Loss: 0.1940\n",
            "Epoch [5/10], Step [500/3079], Loss: 0.1275\n",
            "Epoch [5/10], Step [600/3079], Loss: 0.1188\n",
            "Epoch [5/10], Step [700/3079], Loss: 0.0145\n",
            "Epoch [5/10], Step [800/3079], Loss: 0.0502\n",
            "Epoch [5/10], Step [900/3079], Loss: 0.2859\n",
            "Epoch [5/10], Step [1000/3079], Loss: 0.1409\n",
            "Epoch [5/10], Step [1100/3079], Loss: 0.1019\n",
            "Epoch [5/10], Step [1200/3079], Loss: 0.1431\n",
            "Epoch [5/10], Step [1300/3079], Loss: 0.1802\n",
            "Epoch [5/10], Step [1400/3079], Loss: 0.0353\n",
            "Epoch [5/10], Step [1500/3079], Loss: 0.1225\n",
            "Epoch [5/10], Step [1600/3079], Loss: 0.0722\n",
            "Epoch [5/10], Step [1700/3079], Loss: 0.2264\n",
            "Epoch [5/10], Step [1800/3079], Loss: 0.2217\n",
            "Epoch [5/10], Step [1900/3079], Loss: 0.4048\n",
            "Epoch [5/10], Step [2000/3079], Loss: 0.0277\n",
            "Epoch [5/10], Step [2100/3079], Loss: 0.1682\n",
            "Epoch [5/10], Step [2200/3079], Loss: 0.2202\n",
            "Epoch [5/10], Step [2300/3079], Loss: 0.0672\n",
            "Epoch [5/10], Step [2400/3079], Loss: 0.1445\n",
            "Epoch [5/10], Step [2500/3079], Loss: 0.0892\n",
            "Epoch [5/10], Step [2600/3079], Loss: 0.0971\n",
            "Epoch [5/10], Step [2700/3079], Loss: 0.0927\n",
            "Epoch [5/10], Step [2800/3079], Loss: 0.0441\n",
            "Epoch [5/10], Step [2900/3079], Loss: 0.0240\n",
            "Epoch [5/10], Step [3000/3079], Loss: 0.1645\n"
          ]
        },
        {
          "metadata": {
            "tags": null
          },
          "name": "stderr",
          "output_type": "stream",
          "text": [
            "2023-12-08 23:58:38,405 - root - INFO - Accuracy: 96.36%\n",
            "2023-12-08 23:58:38,406 - root - INFO - Precision: 0.9620\n",
            "2023-12-08 23:58:38,406 - root - INFO - Recall: 0.9636\n",
            "2023-12-08 23:58:38,407 - root - INFO - F1 Score: 0.9621\n"
          ]
        },
        {
          "metadata": {
            "tags": null
          },
          "name": "stdout",
          "output_type": "stream",
          "text": [
            "Epoch [6/10], Step [100/3079], Loss: 0.3107\n",
            "Epoch [6/10], Step [200/3079], Loss: 0.0281\n",
            "Epoch [6/10], Step [300/3079], Loss: 0.1279\n",
            "Epoch [6/10], Step [400/3079], Loss: 0.0093\n",
            "Epoch [6/10], Step [500/3079], Loss: 0.0815\n",
            "Epoch [6/10], Step [600/3079], Loss: 0.0247\n",
            "Epoch [6/10], Step [700/3079], Loss: 0.0182\n",
            "Epoch [6/10], Step [800/3079], Loss: 0.0970\n",
            "Epoch [6/10], Step [900/3079], Loss: 0.0182\n",
            "Epoch [6/10], Step [1000/3079], Loss: 0.2076\n",
            "Epoch [6/10], Step [1100/3079], Loss: 0.2640\n",
            "Epoch [6/10], Step [1200/3079], Loss: 0.0315\n",
            "Epoch [6/10], Step [1300/3079], Loss: 0.1853\n",
            "Epoch [6/10], Step [1400/3079], Loss: 0.1643\n",
            "Epoch [6/10], Step [1500/3079], Loss: 0.0194\n",
            "Epoch [6/10], Step [1600/3079], Loss: 0.0864\n",
            "Epoch [6/10], Step [1700/3079], Loss: 0.0178\n",
            "Epoch [6/10], Step [1800/3079], Loss: 0.0583\n",
            "Epoch [6/10], Step [1900/3079], Loss: 0.0888\n",
            "Epoch [6/10], Step [2000/3079], Loss: 0.1766\n",
            "Epoch [6/10], Step [2100/3079], Loss: 0.0084\n",
            "Epoch [6/10], Step [2200/3079], Loss: 0.0555\n",
            "Epoch [6/10], Step [2300/3079], Loss: 0.0275\n",
            "Epoch [6/10], Step [2400/3079], Loss: 0.1370\n",
            "Epoch [6/10], Step [2500/3079], Loss: 0.0700\n",
            "Epoch [6/10], Step [2600/3079], Loss: 0.0342\n",
            "Epoch [6/10], Step [2700/3079], Loss: 0.0954\n",
            "Epoch [6/10], Step [2800/3079], Loss: 0.1077\n",
            "Epoch [6/10], Step [2900/3079], Loss: 0.0548\n",
            "Epoch [6/10], Step [3000/3079], Loss: 0.0237\n"
          ]
        },
        {
          "metadata": {
            "tags": null
          },
          "name": "stderr",
          "output_type": "stream",
          "text": [
            "2023-12-08 23:58:52,882 - root - INFO - Accuracy: 96.51%\n",
            "2023-12-08 23:58:52,883 - root - INFO - Precision: 0.9652\n",
            "2023-12-08 23:58:52,884 - root - INFO - Recall: 0.9651\n",
            "2023-12-08 23:58:52,884 - root - INFO - F1 Score: 0.9648\n"
          ]
        },
        {
          "metadata": {
            "tags": null
          },
          "name": "stdout",
          "output_type": "stream",
          "text": [
            "Epoch [7/10], Step [100/3079], Loss: 0.0275\n",
            "Epoch [7/10], Step [200/3079], Loss: 0.2199\n",
            "Epoch [7/10], Step [300/3079], Loss: 0.0137\n",
            "Epoch [7/10], Step [400/3079], Loss: 0.1658\n",
            "Epoch [7/10], Step [500/3079], Loss: 0.4074\n",
            "Epoch [7/10], Step [600/3079], Loss: 0.0351\n",
            "Epoch [7/10], Step [700/3079], Loss: 0.2160\n",
            "Epoch [7/10], Step [800/3079], Loss: 0.2126\n",
            "Epoch [7/10], Step [900/3079], Loss: 0.0602\n",
            "Epoch [7/10], Step [1000/3079], Loss: 0.0822\n",
            "Epoch [7/10], Step [1100/3079], Loss: 0.1020\n",
            "Epoch [7/10], Step [1200/3079], Loss: 0.0570\n",
            "Epoch [7/10], Step [1300/3079], Loss: 0.0599\n",
            "Epoch [7/10], Step [1400/3079], Loss: 0.0593\n",
            "Epoch [7/10], Step [1500/3079], Loss: 0.2432\n",
            "Epoch [7/10], Step [1600/3079], Loss: 0.2787\n",
            "Epoch [7/10], Step [1700/3079], Loss: 0.0492\n",
            "Epoch [7/10], Step [1800/3079], Loss: 0.0166\n",
            "Epoch [7/10], Step [1900/3079], Loss: 0.0250\n",
            "Epoch [7/10], Step [2000/3079], Loss: 0.1985\n",
            "Epoch [7/10], Step [2100/3079], Loss: 0.1604\n",
            "Epoch [7/10], Step [2200/3079], Loss: 0.0508\n",
            "Epoch [7/10], Step [2300/3079], Loss: 0.0274\n",
            "Epoch [7/10], Step [2400/3079], Loss: 0.0966\n",
            "Epoch [7/10], Step [2500/3079], Loss: 0.0228\n",
            "Epoch [7/10], Step [2600/3079], Loss: 0.0733\n",
            "Epoch [7/10], Step [2700/3079], Loss: 0.0162\n",
            "Epoch [7/10], Step [2800/3079], Loss: 0.2369\n",
            "Epoch [7/10], Step [2900/3079], Loss: 0.2505\n",
            "Epoch [7/10], Step [3000/3079], Loss: 0.0859\n"
          ]
        },
        {
          "metadata": {
            "tags": null
          },
          "name": "stderr",
          "output_type": "stream",
          "text": [
            "2023-12-08 23:59:07,310 - root - INFO - Accuracy: 96.03%\n",
            "2023-12-08 23:59:07,311 - root - INFO - Precision: 0.9588\n",
            "2023-12-08 23:59:07,312 - root - INFO - Recall: 0.9603\n",
            "2023-12-08 23:59:07,313 - root - INFO - F1 Score: 0.9572\n"
          ]
        },
        {
          "metadata": {
            "tags": null
          },
          "name": "stdout",
          "output_type": "stream",
          "text": [
            "Epoch [8/10], Step [100/3079], Loss: 0.0105\n",
            "Epoch [8/10], Step [200/3079], Loss: 0.1078\n",
            "Epoch [8/10], Step [300/3079], Loss: 0.0112\n",
            "Epoch [8/10], Step [400/3079], Loss: 0.0276\n",
            "Epoch [8/10], Step [500/3079], Loss: 0.0219\n",
            "Epoch [8/10], Step [600/3079], Loss: 0.0159\n",
            "Epoch [8/10], Step [700/3079], Loss: 0.0090\n",
            "Epoch [8/10], Step [800/3079], Loss: 0.0087\n",
            "Epoch [8/10], Step [900/3079], Loss: 0.1639\n",
            "Epoch [8/10], Step [1000/3079], Loss: 0.2562\n",
            "Epoch [8/10], Step [1100/3079], Loss: 0.1995\n",
            "Epoch [8/10], Step [1200/3079], Loss: 0.0161\n",
            "Epoch [8/10], Step [1300/3079], Loss: 0.0312\n",
            "Epoch [8/10], Step [1400/3079], Loss: 0.1107\n",
            "Epoch [8/10], Step [1500/3079], Loss: 0.0108\n",
            "Epoch [8/10], Step [1600/3079], Loss: 0.0466\n",
            "Epoch [8/10], Step [1700/3079], Loss: 0.0418\n",
            "Epoch [8/10], Step [1800/3079], Loss: 0.0095\n",
            "Epoch [8/10], Step [1900/3079], Loss: 0.1926\n",
            "Epoch [8/10], Step [2000/3079], Loss: 0.4907\n",
            "Epoch [8/10], Step [2100/3079], Loss: 0.2217\n",
            "Epoch [8/10], Step [2200/3079], Loss: 0.3064\n",
            "Epoch [8/10], Step [2300/3079], Loss: 0.1883\n",
            "Epoch [8/10], Step [2400/3079], Loss: 0.2662\n",
            "Epoch [8/10], Step [2500/3079], Loss: 0.0379\n",
            "Epoch [8/10], Step [2600/3079], Loss: 0.0235\n",
            "Epoch [8/10], Step [2700/3079], Loss: 0.0818\n",
            "Epoch [8/10], Step [2800/3079], Loss: 0.1420\n",
            "Epoch [8/10], Step [2900/3079], Loss: 0.2275\n",
            "Epoch [8/10], Step [3000/3079], Loss: 0.2773\n"
          ]
        },
        {
          "metadata": {
            "tags": null
          },
          "name": "stderr",
          "output_type": "stream",
          "text": [
            "2023-12-08 23:59:21,703 - root - INFO - Accuracy: 97.49%\n",
            "2023-12-08 23:59:21,704 - root - INFO - Precision: 0.9743\n",
            "2023-12-08 23:59:21,705 - root - INFO - Recall: 0.9749\n",
            "2023-12-08 23:59:21,705 - root - INFO - F1 Score: 0.9732\n"
          ]
        },
        {
          "metadata": {
            "tags": null
          },
          "name": "stdout",
          "output_type": "stream",
          "text": [
            "Epoch [9/10], Step [100/3079], Loss: 0.0204\n",
            "Epoch [9/10], Step [200/3079], Loss: 0.2993\n",
            "Epoch [9/10], Step [300/3079], Loss: 0.1551\n",
            "Epoch [9/10], Step [400/3079], Loss: 0.0085\n",
            "Epoch [9/10], Step [500/3079], Loss: 0.0383\n",
            "Epoch [9/10], Step [600/3079], Loss: 0.1994\n",
            "Epoch [9/10], Step [700/3079], Loss: 0.0419\n",
            "Epoch [9/10], Step [800/3079], Loss: 0.0186\n",
            "Epoch [9/10], Step [900/3079], Loss: 0.0383\n",
            "Epoch [9/10], Step [1000/3079], Loss: 0.0186\n",
            "Epoch [9/10], Step [1100/3079], Loss: 0.2271\n",
            "Epoch [9/10], Step [1200/3079], Loss: 0.0736\n",
            "Epoch [9/10], Step [1300/3079], Loss: 0.1133\n",
            "Epoch [9/10], Step [1400/3079], Loss: 0.0544\n",
            "Epoch [9/10], Step [1500/3079], Loss: 0.0093\n",
            "Epoch [9/10], Step [1600/3079], Loss: 0.0145\n",
            "Epoch [9/10], Step [1700/3079], Loss: 0.1305\n",
            "Epoch [9/10], Step [1800/3079], Loss: 0.0836\n",
            "Epoch [9/10], Step [1900/3079], Loss: 0.0072\n",
            "Epoch [9/10], Step [2000/3079], Loss: 0.0274\n",
            "Epoch [9/10], Step [2100/3079], Loss: 0.0954\n",
            "Epoch [9/10], Step [2200/3079], Loss: 0.0265\n",
            "Epoch [9/10], Step [2300/3079], Loss: 0.0716\n",
            "Epoch [9/10], Step [2400/3079], Loss: 0.0197\n",
            "Epoch [9/10], Step [2500/3079], Loss: 0.0752\n",
            "Epoch [9/10], Step [2600/3079], Loss: 0.0295\n",
            "Epoch [9/10], Step [2700/3079], Loss: 0.0435\n",
            "Epoch [9/10], Step [2800/3079], Loss: 0.0093\n",
            "Epoch [9/10], Step [2900/3079], Loss: 0.1069\n",
            "Epoch [9/10], Step [3000/3079], Loss: 0.2605\n"
          ]
        },
        {
          "metadata": {
            "tags": null
          },
          "name": "stderr",
          "output_type": "stream",
          "text": [
            "2023-12-08 23:59:36,087 - root - INFO - Accuracy: 97.78%\n",
            "2023-12-08 23:59:36,088 - root - INFO - Precision: 0.9771\n",
            "2023-12-08 23:59:36,089 - root - INFO - Recall: 0.9778\n",
            "2023-12-08 23:59:36,090 - root - INFO - F1 Score: 0.9765\n"
          ]
        },
        {
          "metadata": {
            "tags": null
          },
          "name": "stdout",
          "output_type": "stream",
          "text": [
            "Epoch [10/10], Step [100/3079], Loss: 0.1969\n",
            "Epoch [10/10], Step [200/3079], Loss: 0.0264\n",
            "Epoch [10/10], Step [300/3079], Loss: 0.1402\n",
            "Epoch [10/10], Step [400/3079], Loss: 0.2285\n",
            "Epoch [10/10], Step [500/3079], Loss: 0.0247\n",
            "Epoch [10/10], Step [600/3079], Loss: 0.0114\n",
            "Epoch [10/10], Step [700/3079], Loss: 0.3349\n",
            "Epoch [10/10], Step [800/3079], Loss: 0.0143\n",
            "Epoch [10/10], Step [900/3079], Loss: 0.0140\n",
            "Epoch [10/10], Step [1000/3079], Loss: 0.2951\n",
            "Epoch [10/10], Step [1100/3079], Loss: 0.1282\n",
            "Epoch [10/10], Step [1200/3079], Loss: 0.0674\n",
            "Epoch [10/10], Step [1300/3079], Loss: 0.3465\n",
            "Epoch [10/10], Step [1400/3079], Loss: 0.0720\n",
            "Epoch [10/10], Step [1500/3079], Loss: 0.0701\n",
            "Epoch [10/10], Step [1600/3079], Loss: 0.0441\n",
            "Epoch [10/10], Step [1700/3079], Loss: 0.0127\n",
            "Epoch [10/10], Step [1800/3079], Loss: 0.1257\n",
            "Epoch [10/10], Step [1900/3079], Loss: 0.0251\n",
            "Epoch [10/10], Step [2000/3079], Loss: 0.0083\n",
            "Epoch [10/10], Step [2100/3079], Loss: 0.0121\n",
            "Epoch [10/10], Step [2200/3079], Loss: 0.0362\n",
            "Epoch [10/10], Step [2300/3079], Loss: 0.1770\n",
            "Epoch [10/10], Step [2400/3079], Loss: 0.0274\n",
            "Epoch [10/10], Step [2500/3079], Loss: 0.0702\n",
            "Epoch [10/10], Step [2600/3079], Loss: 0.1438\n",
            "Epoch [10/10], Step [2700/3079], Loss: 0.0092\n",
            "Epoch [10/10], Step [2800/3079], Loss: 0.0147\n",
            "Epoch [10/10], Step [2900/3079], Loss: 0.0121\n",
            "Epoch [10/10], Step [3000/3079], Loss: 0.0228\n"
          ]
        },
        {
          "metadata": {
            "tags": null
          },
          "name": "stderr",
          "output_type": "stream",
          "text": [
            "2023-12-08 23:59:50,459 - root - INFO - Accuracy: 97.84%\n",
            "2023-12-08 23:59:50,460 - root - INFO - Precision: 0.9777\n",
            "2023-12-08 23:59:50,461 - root - INFO - Recall: 0.9784\n",
            "2023-12-08 23:59:50,462 - root - INFO - F1 Score: 0.9775\n"
          ]
        },
        {
          "metadata": {
            "tags": null
          },
          "name": "stdout",
          "output_type": "stream",
          "text": [
            "FOLD 8\n",
            "--------------------------------\n",
            "LSTM(\n",
            "  (lstm): LSTM(1, 128, num_layers=2, batch_first=True)\n",
            "  (fc): Linear(in_features=128, out_features=5, bias=True)\n",
            ")\n",
            "Epoch [1/10], Step [100/3079], Loss: 0.5557\n",
            "Epoch [1/10], Step [200/3079], Loss: 0.3430\n",
            "Epoch [1/10], Step [300/3079], Loss: 0.6267\n",
            "Epoch [1/10], Step [400/3079], Loss: 0.4892\n",
            "Epoch [1/10], Step [500/3079], Loss: 1.0807\n",
            "Epoch [1/10], Step [600/3079], Loss: 0.7035\n",
            "Epoch [1/10], Step [700/3079], Loss: 0.7942\n",
            "Epoch [1/10], Step [800/3079], Loss: 0.6345\n",
            "Epoch [1/10], Step [900/3079], Loss: 0.5284\n",
            "Epoch [1/10], Step [1000/3079], Loss: 0.5263\n",
            "Epoch [1/10], Step [1100/3079], Loss: 0.8393\n",
            "Epoch [1/10], Step [1200/3079], Loss: 0.6519\n",
            "Epoch [1/10], Step [1300/3079], Loss: 0.4685\n",
            "Epoch [1/10], Step [1400/3079], Loss: 0.5652\n",
            "Epoch [1/10], Step [1500/3079], Loss: 0.5232\n",
            "Epoch [1/10], Step [1600/3079], Loss: 0.8539\n",
            "Epoch [1/10], Step [1700/3079], Loss: 0.5922\n",
            "Epoch [1/10], Step [1800/3079], Loss: 0.6748\n",
            "Epoch [1/10], Step [1900/3079], Loss: 0.3318\n",
            "Epoch [1/10], Step [2000/3079], Loss: 0.3968\n",
            "Epoch [1/10], Step [2100/3079], Loss: 0.2573\n",
            "Epoch [1/10], Step [2200/3079], Loss: 0.9134\n",
            "Epoch [1/10], Step [2300/3079], Loss: 0.4662\n",
            "Epoch [1/10], Step [2400/3079], Loss: 0.7317\n",
            "Epoch [1/10], Step [2500/3079], Loss: 0.5430\n",
            "Epoch [1/10], Step [2600/3079], Loss: 0.3400\n",
            "Epoch [1/10], Step [2700/3079], Loss: 0.5341\n",
            "Epoch [1/10], Step [2800/3079], Loss: 0.5566\n",
            "Epoch [1/10], Step [2900/3079], Loss: 0.8188\n",
            "Epoch [1/10], Step [3000/3079], Loss: 0.8656\n"
          ]
        },
        {
          "metadata": {
            "tags": null
          },
          "name": "stderr",
          "output_type": "stream",
          "text": [
            "/usr/local/lib/python3.10/dist-packages/sklearn/metrics/_classification.py:1344: UndefinedMetricWarning: Precision is ill-defined and being set to 0.0 in labels with no predicted samples. Use `zero_division` parameter to control this behavior.\n",
            "  _warn_prf(average, modifier, msg_start, len(result))\n",
            "2023-12-09 00:00:04,578 - root - INFO - Accuracy: 82.79%\n",
            "2023-12-09 00:00:04,579 - root - INFO - Precision: 0.6976\n",
            "2023-12-09 00:00:04,580 - root - INFO - Recall: 0.8279\n",
            "2023-12-09 00:00:04,581 - root - INFO - F1 Score: 0.7550\n"
          ]
        },
        {
          "metadata": {
            "tags": null
          },
          "name": "stdout",
          "output_type": "stream",
          "text": [
            "Epoch [2/10], Step [100/3079], Loss: 0.5865\n",
            "Epoch [2/10], Step [200/3079], Loss: 0.4518\n",
            "Epoch [2/10], Step [300/3079], Loss: 0.6699\n",
            "Epoch [2/10], Step [400/3079], Loss: 0.6230\n",
            "Epoch [2/10], Step [500/3079], Loss: 0.5048\n",
            "Epoch [2/10], Step [600/3079], Loss: 0.4348\n",
            "Epoch [2/10], Step [700/3079], Loss: 0.5168\n",
            "Epoch [2/10], Step [800/3079], Loss: 0.5555\n",
            "Epoch [2/10], Step [900/3079], Loss: 0.6384\n",
            "Epoch [2/10], Step [1000/3079], Loss: 0.4220\n",
            "Epoch [2/10], Step [1100/3079], Loss: 0.6130\n",
            "Epoch [2/10], Step [1200/3079], Loss: 0.6129\n",
            "Epoch [2/10], Step [1300/3079], Loss: 0.6372\n",
            "Epoch [2/10], Step [1400/3079], Loss: 0.4162\n",
            "Epoch [2/10], Step [1500/3079], Loss: 0.1492\n",
            "Epoch [2/10], Step [1600/3079], Loss: 0.3991\n",
            "Epoch [2/10], Step [1700/3079], Loss: 0.3821\n",
            "Epoch [2/10], Step [1800/3079], Loss: 0.1270\n",
            "Epoch [2/10], Step [1900/3079], Loss: 0.4079\n",
            "Epoch [2/10], Step [2000/3079], Loss: 0.4081\n",
            "Epoch [2/10], Step [2100/3079], Loss: 0.0976\n",
            "Epoch [2/10], Step [2200/3079], Loss: 0.2526\n",
            "Epoch [2/10], Step [2300/3079], Loss: 0.1115\n",
            "Epoch [2/10], Step [2400/3079], Loss: 0.2926\n",
            "Epoch [2/10], Step [2500/3079], Loss: 0.1842\n",
            "Epoch [2/10], Step [2600/3079], Loss: 0.3873\n",
            "Epoch [2/10], Step [2700/3079], Loss: 0.1000\n",
            "Epoch [2/10], Step [2800/3079], Loss: 0.3332\n",
            "Epoch [2/10], Step [2900/3079], Loss: 0.5170\n",
            "Epoch [2/10], Step [3000/3079], Loss: 0.1105\n"
          ]
        },
        {
          "metadata": {
            "tags": null
          },
          "name": "stderr",
          "output_type": "stream",
          "text": [
            "/usr/local/lib/python3.10/dist-packages/sklearn/metrics/_classification.py:1344: UndefinedMetricWarning: Precision is ill-defined and being set to 0.0 in labels with no predicted samples. Use `zero_division` parameter to control this behavior.\n",
            "  _warn_prf(average, modifier, msg_start, len(result))\n",
            "2023-12-09 00:00:18,949 - root - INFO - Accuracy: 93.25%\n",
            "2023-12-09 00:00:18,950 - root - INFO - Precision: 0.9233\n",
            "2023-12-09 00:00:18,950 - root - INFO - Recall: 0.9325\n",
            "2023-12-09 00:00:18,951 - root - INFO - F1 Score: 0.9189\n"
          ]
        },
        {
          "metadata": {
            "tags": null
          },
          "name": "stdout",
          "output_type": "stream",
          "text": [
            "Epoch [3/10], Step [100/3079], Loss: 0.2364\n",
            "Epoch [3/10], Step [200/3079], Loss: 0.2723\n",
            "Epoch [3/10], Step [300/3079], Loss: 0.2944\n",
            "Epoch [3/10], Step [400/3079], Loss: 0.1712\n",
            "Epoch [3/10], Step [500/3079], Loss: 0.1912\n",
            "Epoch [3/10], Step [600/3079], Loss: 0.2583\n",
            "Epoch [3/10], Step [700/3079], Loss: 0.0713\n",
            "Epoch [3/10], Step [800/3079], Loss: 0.4396\n",
            "Epoch [3/10], Step [900/3079], Loss: 0.0935\n",
            "Epoch [3/10], Step [1000/3079], Loss: 0.3167\n",
            "Epoch [3/10], Step [1100/3079], Loss: 0.3112\n",
            "Epoch [3/10], Step [1200/3079], Loss: 0.3029\n",
            "Epoch [3/10], Step [1300/3079], Loss: 0.2922\n",
            "Epoch [3/10], Step [1400/3079], Loss: 0.1310\n",
            "Epoch [3/10], Step [1500/3079], Loss: 0.2528\n",
            "Epoch [3/10], Step [1600/3079], Loss: 0.1152\n",
            "Epoch [3/10], Step [1700/3079], Loss: 0.4486\n",
            "Epoch [3/10], Step [1800/3079], Loss: 0.2413\n",
            "Epoch [3/10], Step [1900/3079], Loss: 0.0825\n",
            "Epoch [3/10], Step [2000/3079], Loss: 0.0879\n",
            "Epoch [3/10], Step [2100/3079], Loss: 0.0639\n",
            "Epoch [3/10], Step [2200/3079], Loss: 0.0271\n",
            "Epoch [3/10], Step [2300/3079], Loss: 0.0727\n",
            "Epoch [3/10], Step [2400/3079], Loss: 0.0367\n",
            "Epoch [3/10], Step [2500/3079], Loss: 0.1592\n",
            "Epoch [3/10], Step [2600/3079], Loss: 0.0739\n",
            "Epoch [3/10], Step [2700/3079], Loss: 0.0815\n",
            "Epoch [3/10], Step [2800/3079], Loss: 0.3821\n",
            "Epoch [3/10], Step [2900/3079], Loss: 0.3419\n",
            "Epoch [3/10], Step [3000/3079], Loss: 0.0197\n"
          ]
        },
        {
          "metadata": {
            "tags": null
          },
          "name": "stderr",
          "output_type": "stream",
          "text": [
            "/usr/local/lib/python3.10/dist-packages/sklearn/metrics/_classification.py:1344: UndefinedMetricWarning: Precision is ill-defined and being set to 0.0 in labels with no predicted samples. Use `zero_division` parameter to control this behavior.\n",
            "  _warn_prf(average, modifier, msg_start, len(result))\n",
            "2023-12-09 00:00:33,297 - root - INFO - Accuracy: 95.46%\n",
            "2023-12-09 00:00:33,298 - root - INFO - Precision: 0.9476\n",
            "2023-12-09 00:00:33,299 - root - INFO - Recall: 0.9546\n",
            "2023-12-09 00:00:33,300 - root - INFO - F1 Score: 0.9508\n"
          ]
        },
        {
          "metadata": {
            "tags": null
          },
          "name": "stdout",
          "output_type": "stream",
          "text": [
            "Epoch [4/10], Step [100/3079], Loss: 0.1231\n",
            "Epoch [4/10], Step [200/3079], Loss: 0.0841\n",
            "Epoch [4/10], Step [300/3079], Loss: 0.1273\n",
            "Epoch [4/10], Step [400/3079], Loss: 0.1351\n",
            "Epoch [4/10], Step [500/3079], Loss: 0.0669\n",
            "Epoch [4/10], Step [600/3079], Loss: 0.0349\n",
            "Epoch [4/10], Step [700/3079], Loss: 0.0528\n",
            "Epoch [4/10], Step [800/3079], Loss: 0.0865\n",
            "Epoch [4/10], Step [900/3079], Loss: 0.0435\n",
            "Epoch [4/10], Step [1000/3079], Loss: 0.0611\n",
            "Epoch [4/10], Step [1100/3079], Loss: 0.1409\n",
            "Epoch [4/10], Step [1200/3079], Loss: 0.2140\n",
            "Epoch [4/10], Step [1300/3079], Loss: 0.1849\n",
            "Epoch [4/10], Step [1400/3079], Loss: 0.0302\n",
            "Epoch [4/10], Step [1500/3079], Loss: 0.0784\n",
            "Epoch [4/10], Step [1600/3079], Loss: 0.0698\n",
            "Epoch [4/10], Step [1700/3079], Loss: 0.0294\n",
            "Epoch [4/10], Step [1800/3079], Loss: 0.0831\n",
            "Epoch [4/10], Step [1900/3079], Loss: 0.1656\n",
            "Epoch [4/10], Step [2000/3079], Loss: 0.0555\n",
            "Epoch [4/10], Step [2100/3079], Loss: 0.1305\n",
            "Epoch [4/10], Step [2200/3079], Loss: 0.0887\n",
            "Epoch [4/10], Step [2300/3079], Loss: 0.2216\n",
            "Epoch [4/10], Step [2400/3079], Loss: 0.0193\n",
            "Epoch [4/10], Step [2500/3079], Loss: 0.0315\n",
            "Epoch [4/10], Step [2600/3079], Loss: 0.0396\n",
            "Epoch [4/10], Step [2700/3079], Loss: 0.2336\n",
            "Epoch [4/10], Step [2800/3079], Loss: 0.1206\n",
            "Epoch [4/10], Step [2900/3079], Loss: 0.1714\n",
            "Epoch [4/10], Step [3000/3079], Loss: 0.1575\n"
          ]
        },
        {
          "metadata": {
            "tags": null
          },
          "name": "stderr",
          "output_type": "stream",
          "text": [
            "2023-12-09 00:00:47,628 - root - INFO - Accuracy: 96.25%\n",
            "2023-12-09 00:00:47,629 - root - INFO - Precision: 0.9591\n",
            "2023-12-09 00:00:47,630 - root - INFO - Recall: 0.9625\n",
            "2023-12-09 00:00:47,631 - root - INFO - F1 Score: 0.9601\n"
          ]
        },
        {
          "metadata": {
            "tags": null
          },
          "name": "stdout",
          "output_type": "stream",
          "text": [
            "Epoch [5/10], Step [100/3079], Loss: 0.0377\n",
            "Epoch [5/10], Step [200/3079], Loss: 0.0503\n",
            "Epoch [5/10], Step [300/3079], Loss: 0.0710\n",
            "Epoch [5/10], Step [400/3079], Loss: 0.2047\n",
            "Epoch [5/10], Step [500/3079], Loss: 0.0817\n",
            "Epoch [5/10], Step [600/3079], Loss: 0.0259\n",
            "Epoch [5/10], Step [700/3079], Loss: 0.2465\n",
            "Epoch [5/10], Step [800/3079], Loss: 0.1436\n",
            "Epoch [5/10], Step [900/3079], Loss: 0.2810\n",
            "Epoch [5/10], Step [1000/3079], Loss: 0.1683\n",
            "Epoch [5/10], Step [1100/3079], Loss: 0.2356\n",
            "Epoch [5/10], Step [1200/3079], Loss: 0.0936\n",
            "Epoch [5/10], Step [1300/3079], Loss: 0.1646\n",
            "Epoch [5/10], Step [1400/3079], Loss: 0.3171\n",
            "Epoch [5/10], Step [1500/3079], Loss: 0.2084\n",
            "Epoch [5/10], Step [1600/3079], Loss: 0.1903\n",
            "Epoch [5/10], Step [1700/3079], Loss: 0.0506\n",
            "Epoch [5/10], Step [1800/3079], Loss: 0.1106\n",
            "Epoch [5/10], Step [1900/3079], Loss: 0.0385\n",
            "Epoch [5/10], Step [2000/3079], Loss: 0.1167\n",
            "Epoch [5/10], Step [2100/3079], Loss: 0.0622\n",
            "Epoch [5/10], Step [2200/3079], Loss: 0.0634\n",
            "Epoch [5/10], Step [2300/3079], Loss: 0.0949\n",
            "Epoch [5/10], Step [2400/3079], Loss: 0.1033\n",
            "Epoch [5/10], Step [2500/3079], Loss: 0.1989\n",
            "Epoch [5/10], Step [2600/3079], Loss: 0.0348\n",
            "Epoch [5/10], Step [2700/3079], Loss: 0.0578\n",
            "Epoch [5/10], Step [2800/3079], Loss: 0.1030\n",
            "Epoch [5/10], Step [2900/3079], Loss: 0.3961\n",
            "Epoch [5/10], Step [3000/3079], Loss: 0.0119\n"
          ]
        },
        {
          "metadata": {
            "tags": null
          },
          "name": "stderr",
          "output_type": "stream",
          "text": [
            "2023-12-09 00:01:01,946 - root - INFO - Accuracy: 97.13%\n",
            "2023-12-09 00:01:01,947 - root - INFO - Precision: 0.9705\n",
            "2023-12-09 00:01:01,948 - root - INFO - Recall: 0.9713\n",
            "2023-12-09 00:01:01,949 - root - INFO - F1 Score: 0.9699\n"
          ]
        },
        {
          "metadata": {
            "tags": null
          },
          "name": "stdout",
          "output_type": "stream",
          "text": [
            "Epoch [6/10], Step [100/3079], Loss: 0.6178\n",
            "Epoch [6/10], Step [200/3079], Loss: 0.1585\n",
            "Epoch [6/10], Step [300/3079], Loss: 0.0384\n",
            "Epoch [6/10], Step [400/3079], Loss: 0.0195\n",
            "Epoch [6/10], Step [500/3079], Loss: 0.0114\n",
            "Epoch [6/10], Step [600/3079], Loss: 0.1422\n",
            "Epoch [6/10], Step [700/3079], Loss: 0.0153\n",
            "Epoch [6/10], Step [800/3079], Loss: 0.0160\n",
            "Epoch [6/10], Step [900/3079], Loss: 0.2852\n",
            "Epoch [6/10], Step [1000/3079], Loss: 0.1492\n",
            "Epoch [6/10], Step [1100/3079], Loss: 0.0717\n",
            "Epoch [6/10], Step [1200/3079], Loss: 0.0342\n",
            "Epoch [6/10], Step [1300/3079], Loss: 0.1874\n",
            "Epoch [6/10], Step [1400/3079], Loss: 0.1517\n",
            "Epoch [6/10], Step [1500/3079], Loss: 0.2161\n",
            "Epoch [6/10], Step [1600/3079], Loss: 0.2316\n",
            "Epoch [6/10], Step [1700/3079], Loss: 0.0143\n",
            "Epoch [6/10], Step [1800/3079], Loss: 0.0344\n",
            "Epoch [6/10], Step [1900/3079], Loss: 0.0402\n",
            "Epoch [6/10], Step [2000/3079], Loss: 0.0346\n",
            "Epoch [6/10], Step [2100/3079], Loss: 0.1846\n",
            "Epoch [6/10], Step [2200/3079], Loss: 0.0186\n",
            "Epoch [6/10], Step [2300/3079], Loss: 0.0346\n",
            "Epoch [6/10], Step [2400/3079], Loss: 0.3689\n",
            "Epoch [6/10], Step [2500/3079], Loss: 0.1284\n",
            "Epoch [6/10], Step [2600/3079], Loss: 0.0240\n",
            "Epoch [6/10], Step [2700/3079], Loss: 0.0151\n",
            "Epoch [6/10], Step [2800/3079], Loss: 0.0465\n",
            "Epoch [6/10], Step [2900/3079], Loss: 0.0086\n",
            "Epoch [6/10], Step [3000/3079], Loss: 0.0158\n"
          ]
        },
        {
          "metadata": {
            "tags": null
          },
          "name": "stderr",
          "output_type": "stream",
          "text": [
            "2023-12-09 00:01:16,292 - root - INFO - Accuracy: 97.51%\n",
            "2023-12-09 00:01:16,294 - root - INFO - Precision: 0.9745\n",
            "2023-12-09 00:01:16,294 - root - INFO - Recall: 0.9751\n",
            "2023-12-09 00:01:16,295 - root - INFO - F1 Score: 0.9735\n"
          ]
        },
        {
          "metadata": {
            "tags": null
          },
          "name": "stdout",
          "output_type": "stream",
          "text": [
            "Epoch [7/10], Step [100/3079], Loss: 0.0155\n",
            "Epoch [7/10], Step [200/3079], Loss: 0.0202\n",
            "Epoch [7/10], Step [300/3079], Loss: 0.0214\n",
            "Epoch [7/10], Step [400/3079], Loss: 0.1531\n",
            "Epoch [7/10], Step [500/3079], Loss: 0.2486\n",
            "Epoch [7/10], Step [600/3079], Loss: 0.1323\n",
            "Epoch [7/10], Step [700/3079], Loss: 0.2310\n",
            "Epoch [7/10], Step [800/3079], Loss: 0.0653\n",
            "Epoch [7/10], Step [900/3079], Loss: 0.1506\n",
            "Epoch [7/10], Step [1000/3079], Loss: 0.1583\n",
            "Epoch [7/10], Step [1100/3079], Loss: 0.0799\n",
            "Epoch [7/10], Step [1200/3079], Loss: 0.0879\n",
            "Epoch [7/10], Step [1300/3079], Loss: 0.0245\n",
            "Epoch [7/10], Step [1400/3079], Loss: 0.1731\n",
            "Epoch [7/10], Step [1500/3079], Loss: 0.0188\n",
            "Epoch [7/10], Step [1600/3079], Loss: 0.0657\n",
            "Epoch [7/10], Step [1700/3079], Loss: 0.1737\n",
            "Epoch [7/10], Step [1800/3079], Loss: 0.0066\n",
            "Epoch [7/10], Step [1900/3079], Loss: 0.0542\n",
            "Epoch [7/10], Step [2000/3079], Loss: 0.1057\n",
            "Epoch [7/10], Step [2100/3079], Loss: 0.0259\n",
            "Epoch [7/10], Step [2200/3079], Loss: 0.0182\n",
            "Epoch [7/10], Step [2300/3079], Loss: 0.0757\n",
            "Epoch [7/10], Step [2400/3079], Loss: 0.1785\n",
            "Epoch [7/10], Step [2500/3079], Loss: 0.3365\n",
            "Epoch [7/10], Step [2600/3079], Loss: 0.1072\n",
            "Epoch [7/10], Step [2700/3079], Loss: 0.0160\n",
            "Epoch [7/10], Step [2800/3079], Loss: 0.1666\n",
            "Epoch [7/10], Step [2900/3079], Loss: 0.3223\n",
            "Epoch [7/10], Step [3000/3079], Loss: 0.1342\n"
          ]
        },
        {
          "metadata": {
            "tags": null
          },
          "name": "stderr",
          "output_type": "stream",
          "text": [
            "2023-12-09 00:01:30,552 - root - INFO - Accuracy: 97.58%\n",
            "2023-12-09 00:01:30,553 - root - INFO - Precision: 0.9750\n",
            "2023-12-09 00:01:30,554 - root - INFO - Recall: 0.9758\n",
            "2023-12-09 00:01:30,555 - root - INFO - F1 Score: 0.9744\n"
          ]
        },
        {
          "metadata": {
            "tags": null
          },
          "name": "stdout",
          "output_type": "stream",
          "text": [
            "Epoch [8/10], Step [100/3079], Loss: 0.1336\n",
            "Epoch [8/10], Step [200/3079], Loss: 0.0875\n",
            "Epoch [8/10], Step [300/3079], Loss: 0.1774\n",
            "Epoch [8/10], Step [400/3079], Loss: 0.0181\n",
            "Epoch [8/10], Step [500/3079], Loss: 0.0999\n",
            "Epoch [8/10], Step [600/3079], Loss: 0.1849\n",
            "Epoch [8/10], Step [700/3079], Loss: 0.0127\n",
            "Epoch [8/10], Step [800/3079], Loss: 0.0843\n",
            "Epoch [8/10], Step [900/3079], Loss: 0.0257\n",
            "Epoch [8/10], Step [1000/3079], Loss: 0.0083\n",
            "Epoch [8/10], Step [1100/3079], Loss: 0.0396\n",
            "Epoch [8/10], Step [1200/3079], Loss: 0.0364\n",
            "Epoch [8/10], Step [1300/3079], Loss: 0.0593\n",
            "Epoch [8/10], Step [1400/3079], Loss: 0.0104\n",
            "Epoch [8/10], Step [1500/3079], Loss: 0.0202\n",
            "Epoch [8/10], Step [1600/3079], Loss: 0.0952\n",
            "Epoch [8/10], Step [1700/3079], Loss: 0.0143\n",
            "Epoch [8/10], Step [1800/3079], Loss: 0.1195\n",
            "Epoch [8/10], Step [1900/3079], Loss: 0.1329\n",
            "Epoch [8/10], Step [2000/3079], Loss: 0.0756\n",
            "Epoch [8/10], Step [2100/3079], Loss: 0.0612\n",
            "Epoch [8/10], Step [2200/3079], Loss: 0.0460\n",
            "Epoch [8/10], Step [2300/3079], Loss: 0.3363\n",
            "Epoch [8/10], Step [2400/3079], Loss: 0.1134\n",
            "Epoch [8/10], Step [2500/3079], Loss: 0.3253\n",
            "Epoch [8/10], Step [2600/3079], Loss: 0.0168\n",
            "Epoch [8/10], Step [2700/3079], Loss: 0.1411\n",
            "Epoch [8/10], Step [2800/3079], Loss: 0.0702\n",
            "Epoch [8/10], Step [2900/3079], Loss: 0.0477\n",
            "Epoch [8/10], Step [3000/3079], Loss: 0.0118\n"
          ]
        },
        {
          "metadata": {
            "tags": null
          },
          "name": "stderr",
          "output_type": "stream",
          "text": [
            "2023-12-09 00:01:44,901 - root - INFO - Accuracy: 97.74%\n",
            "2023-12-09 00:01:44,903 - root - INFO - Precision: 0.9767\n",
            "2023-12-09 00:01:44,904 - root - INFO - Recall: 0.9774\n",
            "2023-12-09 00:01:44,905 - root - INFO - F1 Score: 0.9761\n"
          ]
        },
        {
          "metadata": {
            "tags": null
          },
          "name": "stdout",
          "output_type": "stream",
          "text": [
            "Epoch [9/10], Step [100/3079], Loss: 0.2281\n",
            "Epoch [9/10], Step [200/3079], Loss: 0.1109\n",
            "Epoch [9/10], Step [300/3079], Loss: 0.0071\n",
            "Epoch [9/10], Step [400/3079], Loss: 0.1253\n",
            "Epoch [9/10], Step [500/3079], Loss: 0.1758\n",
            "Epoch [9/10], Step [600/3079], Loss: 0.1091\n",
            "Epoch [9/10], Step [700/3079], Loss: 0.0127\n",
            "Epoch [9/10], Step [800/3079], Loss: 0.1461\n",
            "Epoch [9/10], Step [900/3079], Loss: 0.0214\n",
            "Epoch [9/10], Step [1000/3079], Loss: 0.0139\n",
            "Epoch [9/10], Step [1100/3079], Loss: 0.0374\n",
            "Epoch [9/10], Step [1200/3079], Loss: 0.0371\n",
            "Epoch [9/10], Step [1300/3079], Loss: 0.0228\n",
            "Epoch [9/10], Step [1400/3079], Loss: 0.1352\n",
            "Epoch [9/10], Step [1500/3079], Loss: 0.0453\n",
            "Epoch [9/10], Step [1600/3079], Loss: 0.2415\n",
            "Epoch [9/10], Step [1700/3079], Loss: 0.2294\n",
            "Epoch [9/10], Step [1800/3079], Loss: 0.0275\n",
            "Epoch [9/10], Step [1900/3079], Loss: 0.3506\n",
            "Epoch [9/10], Step [2000/3079], Loss: 0.2079\n",
            "Epoch [9/10], Step [2100/3079], Loss: 0.1271\n",
            "Epoch [9/10], Step [2200/3079], Loss: 0.2155\n",
            "Epoch [9/10], Step [2300/3079], Loss: 0.0894\n",
            "Epoch [9/10], Step [2400/3079], Loss: 0.0428\n",
            "Epoch [9/10], Step [2500/3079], Loss: 0.0121\n",
            "Epoch [9/10], Step [2600/3079], Loss: 0.1618\n",
            "Epoch [9/10], Step [2700/3079], Loss: 0.2449\n",
            "Epoch [9/10], Step [2800/3079], Loss: 0.0183\n",
            "Epoch [9/10], Step [2900/3079], Loss: 0.0212\n",
            "Epoch [9/10], Step [3000/3079], Loss: 0.0108\n"
          ]
        },
        {
          "metadata": {
            "tags": null
          },
          "name": "stderr",
          "output_type": "stream",
          "text": [
            "2023-12-09 00:01:59,225 - root - INFO - Accuracy: 97.39%\n",
            "2023-12-09 00:01:59,226 - root - INFO - Precision: 0.9735\n",
            "2023-12-09 00:01:59,226 - root - INFO - Recall: 0.9739\n",
            "2023-12-09 00:01:59,227 - root - INFO - F1 Score: 0.9733\n"
          ]
        },
        {
          "metadata": {
            "tags": null
          },
          "name": "stdout",
          "output_type": "stream",
          "text": [
            "Epoch [10/10], Step [100/3079], Loss: 0.0091\n",
            "Epoch [10/10], Step [200/3079], Loss: 0.1435\n",
            "Epoch [10/10], Step [300/3079], Loss: 0.0224\n",
            "Epoch [10/10], Step [400/3079], Loss: 0.0560\n",
            "Epoch [10/10], Step [500/3079], Loss: 0.2399\n",
            "Epoch [10/10], Step [600/3079], Loss: 0.2145\n",
            "Epoch [10/10], Step [700/3079], Loss: 0.0675\n",
            "Epoch [10/10], Step [800/3079], Loss: 0.0075\n",
            "Epoch [10/10], Step [900/3079], Loss: 0.0146\n",
            "Epoch [10/10], Step [1000/3079], Loss: 0.3555\n",
            "Epoch [10/10], Step [1100/3079], Loss: 0.0578\n",
            "Epoch [10/10], Step [1200/3079], Loss: 0.0034\n",
            "Epoch [10/10], Step [1300/3079], Loss: 0.0389\n",
            "Epoch [10/10], Step [1400/3079], Loss: 0.0346\n",
            "Epoch [10/10], Step [1500/3079], Loss: 0.0127\n",
            "Epoch [10/10], Step [1600/3079], Loss: 0.0314\n",
            "Epoch [10/10], Step [1700/3079], Loss: 0.1475\n",
            "Epoch [10/10], Step [1800/3079], Loss: 0.0253\n",
            "Epoch [10/10], Step [1900/3079], Loss: 0.0500\n",
            "Epoch [10/10], Step [2000/3079], Loss: 0.0197\n",
            "Epoch [10/10], Step [2100/3079], Loss: 0.1827\n",
            "Epoch [10/10], Step [2200/3079], Loss: 0.0384\n",
            "Epoch [10/10], Step [2300/3079], Loss: 0.0745\n",
            "Epoch [10/10], Step [2400/3079], Loss: 0.0894\n",
            "Epoch [10/10], Step [2500/3079], Loss: 0.0962\n",
            "Epoch [10/10], Step [2600/3079], Loss: 0.0249\n",
            "Epoch [10/10], Step [2700/3079], Loss: 0.1438\n",
            "Epoch [10/10], Step [2800/3079], Loss: 0.1198\n",
            "Epoch [10/10], Step [2900/3079], Loss: 0.0104\n",
            "Epoch [10/10], Step [3000/3079], Loss: 0.1683\n"
          ]
        },
        {
          "metadata": {
            "tags": null
          },
          "name": "stderr",
          "output_type": "stream",
          "text": [
            "2023-12-09 00:02:13,398 - root - INFO - Accuracy: 97.69%\n",
            "2023-12-09 00:02:13,400 - root - INFO - Precision: 0.9763\n",
            "2023-12-09 00:02:13,400 - root - INFO - Recall: 0.9769\n",
            "2023-12-09 00:02:13,401 - root - INFO - F1 Score: 0.9759\n"
          ]
        },
        {
          "metadata": {
            "tags": null
          },
          "name": "stdout",
          "output_type": "stream",
          "text": [
            "FOLD 9\n",
            "--------------------------------\n",
            "LSTM(\n",
            "  (lstm): LSTM(1, 128, num_layers=2, batch_first=True)\n",
            "  (fc): Linear(in_features=128, out_features=5, bias=True)\n",
            ")\n",
            "Epoch [1/10], Step [100/3079], Loss: 0.6468\n",
            "Epoch [1/10], Step [200/3079], Loss: 0.8421\n",
            "Epoch [1/10], Step [300/3079], Loss: 0.4981\n",
            "Epoch [1/10], Step [400/3079], Loss: 0.4127\n",
            "Epoch [1/10], Step [500/3079], Loss: 0.7137\n",
            "Epoch [1/10], Step [600/3079], Loss: 0.5446\n",
            "Epoch [1/10], Step [700/3079], Loss: 0.5785\n",
            "Epoch [1/10], Step [800/3079], Loss: 0.4791\n",
            "Epoch [1/10], Step [900/3079], Loss: 0.7426\n",
            "Epoch [1/10], Step [1000/3079], Loss: 0.6312\n",
            "Epoch [1/10], Step [1100/3079], Loss: 0.6628\n",
            "Epoch [1/10], Step [1200/3079], Loss: 0.4667\n",
            "Epoch [1/10], Step [1300/3079], Loss: 0.5276\n",
            "Epoch [1/10], Step [1400/3079], Loss: 0.5258\n",
            "Epoch [1/10], Step [1500/3079], Loss: 0.2913\n",
            "Epoch [1/10], Step [1600/3079], Loss: 0.4924\n",
            "Epoch [1/10], Step [1700/3079], Loss: 0.5477\n",
            "Epoch [1/10], Step [1800/3079], Loss: 0.5334\n",
            "Epoch [1/10], Step [1900/3079], Loss: 0.4566\n",
            "Epoch [1/10], Step [2000/3079], Loss: 0.2481\n",
            "Epoch [1/10], Step [2100/3079], Loss: 0.3872\n",
            "Epoch [1/10], Step [2200/3079], Loss: 0.4010\n",
            "Epoch [1/10], Step [2300/3079], Loss: 0.4844\n",
            "Epoch [1/10], Step [2400/3079], Loss: 0.2007\n",
            "Epoch [1/10], Step [2500/3079], Loss: 0.2695\n",
            "Epoch [1/10], Step [2600/3079], Loss: 0.2465\n",
            "Epoch [1/10], Step [2700/3079], Loss: 0.6760\n",
            "Epoch [1/10], Step [2800/3079], Loss: 0.3173\n",
            "Epoch [1/10], Step [2900/3079], Loss: 0.1949\n",
            "Epoch [1/10], Step [3000/3079], Loss: 0.2182\n"
          ]
        },
        {
          "metadata": {
            "tags": null
          },
          "name": "stderr",
          "output_type": "stream",
          "text": [
            "/usr/local/lib/python3.10/dist-packages/sklearn/metrics/_classification.py:1344: UndefinedMetricWarning: Precision is ill-defined and being set to 0.0 in labels with no predicted samples. Use `zero_division` parameter to control this behavior.\n",
            "  _warn_prf(average, modifier, msg_start, len(result))\n",
            "2023-12-09 00:02:27,759 - root - INFO - Accuracy: 89.99%\n",
            "2023-12-09 00:02:27,760 - root - INFO - Precision: 0.8679\n",
            "2023-12-09 00:02:27,761 - root - INFO - Recall: 0.8999\n",
            "2023-12-09 00:02:27,762 - root - INFO - F1 Score: 0.8828\n"
          ]
        },
        {
          "metadata": {
            "tags": null
          },
          "name": "stdout",
          "output_type": "stream",
          "text": [
            "Epoch [2/10], Step [100/3079], Loss: 0.4987\n",
            "Epoch [2/10], Step [200/3079], Loss: 0.2040\n",
            "Epoch [2/10], Step [300/3079], Loss: 0.3526\n",
            "Epoch [2/10], Step [400/3079], Loss: 0.4601\n",
            "Epoch [2/10], Step [500/3079], Loss: 0.2198\n",
            "Epoch [2/10], Step [600/3079], Loss: 0.2025\n",
            "Epoch [2/10], Step [700/3079], Loss: 0.0971\n",
            "Epoch [2/10], Step [800/3079], Loss: 0.2675\n",
            "Epoch [2/10], Step [900/3079], Loss: 0.1715\n",
            "Epoch [2/10], Step [1000/3079], Loss: 0.2826\n",
            "Epoch [2/10], Step [1100/3079], Loss: 0.4572\n",
            "Epoch [2/10], Step [1200/3079], Loss: 0.1617\n",
            "Epoch [2/10], Step [1300/3079], Loss: 0.3847\n",
            "Epoch [2/10], Step [1400/3079], Loss: 0.2272\n",
            "Epoch [2/10], Step [1500/3079], Loss: 0.2573\n",
            "Epoch [2/10], Step [1600/3079], Loss: 0.2341\n",
            "Epoch [2/10], Step [1700/3079], Loss: 0.4097\n",
            "Epoch [2/10], Step [1800/3079], Loss: 0.3587\n",
            "Epoch [2/10], Step [1900/3079], Loss: 0.2147\n",
            "Epoch [2/10], Step [2000/3079], Loss: 0.3099\n",
            "Epoch [2/10], Step [2100/3079], Loss: 0.2691\n",
            "Epoch [2/10], Step [2200/3079], Loss: 0.4500\n",
            "Epoch [2/10], Step [2300/3079], Loss: 0.2683\n",
            "Epoch [2/10], Step [2400/3079], Loss: 0.2114\n",
            "Epoch [2/10], Step [2500/3079], Loss: 0.2662\n",
            "Epoch [2/10], Step [2600/3079], Loss: 0.3546\n",
            "Epoch [2/10], Step [2700/3079], Loss: 0.1987\n",
            "Epoch [2/10], Step [2800/3079], Loss: 0.7930\n",
            "Epoch [2/10], Step [2900/3079], Loss: 0.4363\n",
            "Epoch [2/10], Step [3000/3079], Loss: 0.0661\n"
          ]
        },
        {
          "metadata": {
            "tags": null
          },
          "name": "stderr",
          "output_type": "stream",
          "text": [
            "/usr/local/lib/python3.10/dist-packages/sklearn/metrics/_classification.py:1344: UndefinedMetricWarning: Precision is ill-defined and being set to 0.0 in labels with no predicted samples. Use `zero_division` parameter to control this behavior.\n",
            "  _warn_prf(average, modifier, msg_start, len(result))\n",
            "2023-12-09 00:02:42,123 - root - INFO - Accuracy: 92.38%\n",
            "2023-12-09 00:02:42,124 - root - INFO - Precision: 0.8919\n",
            "2023-12-09 00:02:42,125 - root - INFO - Recall: 0.9238\n",
            "2023-12-09 00:02:42,126 - root - INFO - F1 Score: 0.9068\n"
          ]
        },
        {
          "metadata": {
            "tags": null
          },
          "name": "stdout",
          "output_type": "stream",
          "text": [
            "Epoch [3/10], Step [100/3079], Loss: 0.3410\n",
            "Epoch [3/10], Step [200/3079], Loss: 0.1915\n",
            "Epoch [3/10], Step [300/3079], Loss: 0.1123\n",
            "Epoch [3/10], Step [400/3079], Loss: 0.2041\n",
            "Epoch [3/10], Step [500/3079], Loss: 0.0578\n",
            "Epoch [3/10], Step [600/3079], Loss: 0.0992\n",
            "Epoch [3/10], Step [700/3079], Loss: 0.1795\n",
            "Epoch [3/10], Step [800/3079], Loss: 0.2267\n",
            "Epoch [3/10], Step [900/3079], Loss: 0.2576\n",
            "Epoch [3/10], Step [1000/3079], Loss: 0.2230\n",
            "Epoch [3/10], Step [1100/3079], Loss: 0.3135\n",
            "Epoch [3/10], Step [1200/3079], Loss: 0.3475\n",
            "Epoch [3/10], Step [1300/3079], Loss: 0.1821\n",
            "Epoch [3/10], Step [1400/3079], Loss: 0.1642\n",
            "Epoch [3/10], Step [1500/3079], Loss: 0.0434\n",
            "Epoch [3/10], Step [1600/3079], Loss: 0.0987\n",
            "Epoch [3/10], Step [1700/3079], Loss: 0.2010\n",
            "Epoch [3/10], Step [1800/3079], Loss: 0.3995\n",
            "Epoch [3/10], Step [1900/3079], Loss: 0.3455\n",
            "Epoch [3/10], Step [2000/3079], Loss: 0.2506\n",
            "Epoch [3/10], Step [2100/3079], Loss: 0.0852\n",
            "Epoch [3/10], Step [2200/3079], Loss: 0.0388\n",
            "Epoch [3/10], Step [2300/3079], Loss: 0.1554\n",
            "Epoch [3/10], Step [2400/3079], Loss: 0.1116\n",
            "Epoch [3/10], Step [2500/3079], Loss: 0.2132\n",
            "Epoch [3/10], Step [2600/3079], Loss: 0.4869\n",
            "Epoch [3/10], Step [2700/3079], Loss: 0.2108\n",
            "Epoch [3/10], Step [2800/3079], Loss: 0.1270\n",
            "Epoch [3/10], Step [2900/3079], Loss: 0.3694\n",
            "Epoch [3/10], Step [3000/3079], Loss: 0.1269\n"
          ]
        },
        {
          "metadata": {
            "tags": null
          },
          "name": "stderr",
          "output_type": "stream",
          "text": [
            "/usr/local/lib/python3.10/dist-packages/sklearn/metrics/_classification.py:1344: UndefinedMetricWarning: Precision is ill-defined and being set to 0.0 in labels with no predicted samples. Use `zero_division` parameter to control this behavior.\n",
            "  _warn_prf(average, modifier, msg_start, len(result))\n",
            "2023-12-09 00:02:56,488 - root - INFO - Accuracy: 93.59%\n",
            "2023-12-09 00:02:56,489 - root - INFO - Precision: 0.9221\n",
            "2023-12-09 00:02:56,491 - root - INFO - Recall: 0.9359\n",
            "2023-12-09 00:02:56,492 - root - INFO - F1 Score: 0.9228\n"
          ]
        },
        {
          "metadata": {
            "tags": null
          },
          "name": "stdout",
          "output_type": "stream",
          "text": [
            "Epoch [4/10], Step [100/3079], Loss: 0.2115\n",
            "Epoch [4/10], Step [200/3079], Loss: 0.3738\n",
            "Epoch [4/10], Step [300/3079], Loss: 0.2320\n",
            "Epoch [4/10], Step [400/3079], Loss: 0.1476\n",
            "Epoch [4/10], Step [500/3079], Loss: 0.2849\n",
            "Epoch [4/10], Step [600/3079], Loss: 0.1446\n",
            "Epoch [4/10], Step [700/3079], Loss: 0.1164\n",
            "Epoch [4/10], Step [800/3079], Loss: 0.2685\n",
            "Epoch [4/10], Step [900/3079], Loss: 0.2091\n",
            "Epoch [4/10], Step [1000/3079], Loss: 0.0478\n",
            "Epoch [4/10], Step [1100/3079], Loss: 0.1308\n",
            "Epoch [4/10], Step [1200/3079], Loss: 0.2114\n",
            "Epoch [4/10], Step [1300/3079], Loss: 0.1313\n",
            "Epoch [4/10], Step [1400/3079], Loss: 0.3988\n",
            "Epoch [4/10], Step [1500/3079], Loss: 0.0200\n",
            "Epoch [4/10], Step [1600/3079], Loss: 0.1198\n",
            "Epoch [4/10], Step [1700/3079], Loss: 0.2473\n",
            "Epoch [4/10], Step [1800/3079], Loss: 0.3002\n",
            "Epoch [4/10], Step [1900/3079], Loss: 0.5589\n",
            "Epoch [4/10], Step [2000/3079], Loss: 0.2164\n",
            "Epoch [4/10], Step [2100/3079], Loss: 0.2127\n",
            "Epoch [4/10], Step [2200/3079], Loss: 0.0972\n",
            "Epoch [4/10], Step [2300/3079], Loss: 0.3325\n",
            "Epoch [4/10], Step [2400/3079], Loss: 0.1877\n",
            "Epoch [4/10], Step [2500/3079], Loss: 0.1174\n",
            "Epoch [4/10], Step [2600/3079], Loss: 0.0903\n",
            "Epoch [4/10], Step [2700/3079], Loss: 0.2930\n",
            "Epoch [4/10], Step [2800/3079], Loss: 0.0603\n",
            "Epoch [4/10], Step [2900/3079], Loss: 0.1638\n",
            "Epoch [4/10], Step [3000/3079], Loss: 0.0387\n"
          ]
        },
        {
          "metadata": {
            "tags": null
          },
          "name": "stderr",
          "output_type": "stream",
          "text": [
            "2023-12-09 00:03:10,796 - root - INFO - Accuracy: 95.23%\n",
            "2023-12-09 00:03:10,798 - root - INFO - Precision: 0.9455\n",
            "2023-12-09 00:03:10,798 - root - INFO - Recall: 0.9523\n",
            "2023-12-09 00:03:10,799 - root - INFO - F1 Score: 0.9463\n"
          ]
        },
        {
          "metadata": {
            "tags": null
          },
          "name": "stdout",
          "output_type": "stream",
          "text": [
            "Epoch [5/10], Step [100/3079], Loss: 0.1600\n",
            "Epoch [5/10], Step [200/3079], Loss: 0.3033\n",
            "Epoch [5/10], Step [300/3079], Loss: 0.3765\n",
            "Epoch [5/10], Step [400/3079], Loss: 0.1335\n",
            "Epoch [5/10], Step [500/3079], Loss: 0.3769\n",
            "Epoch [5/10], Step [600/3079], Loss: 0.2319\n",
            "Epoch [5/10], Step [700/3079], Loss: 0.4265\n",
            "Epoch [5/10], Step [800/3079], Loss: 0.1790\n",
            "Epoch [5/10], Step [900/3079], Loss: 0.3064\n",
            "Epoch [5/10], Step [1000/3079], Loss: 0.1671\n",
            "Epoch [5/10], Step [1100/3079], Loss: 0.0401\n",
            "Epoch [5/10], Step [1200/3079], Loss: 0.0652\n",
            "Epoch [5/10], Step [1300/3079], Loss: 0.0667\n",
            "Epoch [5/10], Step [1400/3079], Loss: 0.2547\n",
            "Epoch [5/10], Step [1500/3079], Loss: 0.1385\n",
            "Epoch [5/10], Step [1600/3079], Loss: 0.0732\n",
            "Epoch [5/10], Step [1700/3079], Loss: 0.1401\n",
            "Epoch [5/10], Step [1800/3079], Loss: 0.1185\n",
            "Epoch [5/10], Step [1900/3079], Loss: 0.1734\n",
            "Epoch [5/10], Step [2000/3079], Loss: 0.1155\n",
            "Epoch [5/10], Step [2100/3079], Loss: 0.1214\n",
            "Epoch [5/10], Step [2200/3079], Loss: 0.2719\n",
            "Epoch [5/10], Step [2300/3079], Loss: 0.0727\n",
            "Epoch [5/10], Step [2400/3079], Loss: 0.4882\n",
            "Epoch [5/10], Step [2500/3079], Loss: 0.0343\n",
            "Epoch [5/10], Step [2600/3079], Loss: 0.2712\n",
            "Epoch [5/10], Step [2700/3079], Loss: 0.2006\n",
            "Epoch [5/10], Step [2800/3079], Loss: 0.1580\n",
            "Epoch [5/10], Step [2900/3079], Loss: 0.2128\n",
            "Epoch [5/10], Step [3000/3079], Loss: 0.0221\n"
          ]
        },
        {
          "metadata": {
            "tags": null
          },
          "name": "stderr",
          "output_type": "stream",
          "text": [
            "2023-12-09 00:03:25,133 - root - INFO - Accuracy: 96.03%\n",
            "2023-12-09 00:03:25,134 - root - INFO - Precision: 0.9587\n",
            "2023-12-09 00:03:25,135 - root - INFO - Recall: 0.9603\n",
            "2023-12-09 00:03:25,136 - root - INFO - F1 Score: 0.9555\n"
          ]
        },
        {
          "metadata": {
            "tags": null
          },
          "name": "stdout",
          "output_type": "stream",
          "text": [
            "Epoch [6/10], Step [100/3079], Loss: 0.2087\n",
            "Epoch [6/10], Step [200/3079], Loss: 0.0381\n",
            "Epoch [6/10], Step [300/3079], Loss: 0.2304\n",
            "Epoch [6/10], Step [400/3079], Loss: 0.2943\n",
            "Epoch [6/10], Step [500/3079], Loss: 0.0253\n",
            "Epoch [6/10], Step [600/3079], Loss: 0.3453\n",
            "Epoch [6/10], Step [700/3079], Loss: 0.0444\n",
            "Epoch [6/10], Step [800/3079], Loss: 0.0219\n",
            "Epoch [6/10], Step [900/3079], Loss: 0.1399\n",
            "Epoch [6/10], Step [1000/3079], Loss: 0.0637\n",
            "Epoch [6/10], Step [1100/3079], Loss: 0.0776\n",
            "Epoch [6/10], Step [1200/3079], Loss: 0.0425\n",
            "Epoch [6/10], Step [1300/3079], Loss: 0.1318\n",
            "Epoch [6/10], Step [1400/3079], Loss: 0.1438\n",
            "Epoch [6/10], Step [1500/3079], Loss: 0.0332\n",
            "Epoch [6/10], Step [1600/3079], Loss: 0.2976\n",
            "Epoch [6/10], Step [1700/3079], Loss: 0.2123\n",
            "Epoch [6/10], Step [1800/3079], Loss: 0.0492\n",
            "Epoch [6/10], Step [1900/3079], Loss: 0.0958\n",
            "Epoch [6/10], Step [2000/3079], Loss: 0.0423\n",
            "Epoch [6/10], Step [2100/3079], Loss: 0.5563\n",
            "Epoch [6/10], Step [2200/3079], Loss: 0.0729\n",
            "Epoch [6/10], Step [2300/3079], Loss: 0.0667\n",
            "Epoch [6/10], Step [2400/3079], Loss: 0.0881\n",
            "Epoch [6/10], Step [2500/3079], Loss: 0.1641\n",
            "Epoch [6/10], Step [2600/3079], Loss: 0.1474\n",
            "Epoch [6/10], Step [2700/3079], Loss: 0.0359\n",
            "Epoch [6/10], Step [2800/3079], Loss: 0.1486\n",
            "Epoch [6/10], Step [2900/3079], Loss: 0.0560\n",
            "Epoch [6/10], Step [3000/3079], Loss: 0.1784\n"
          ]
        },
        {
          "metadata": {
            "tags": null
          },
          "name": "stderr",
          "output_type": "stream",
          "text": [
            "2023-12-09 00:03:39,470 - root - INFO - Accuracy: 97.09%\n",
            "2023-12-09 00:03:39,471 - root - INFO - Precision: 0.9701\n",
            "2023-12-09 00:03:39,472 - root - INFO - Recall: 0.9709\n",
            "2023-12-09 00:03:39,473 - root - INFO - F1 Score: 0.9688\n"
          ]
        },
        {
          "metadata": {
            "tags": null
          },
          "name": "stdout",
          "output_type": "stream",
          "text": [
            "Epoch [7/10], Step [100/3079], Loss: 0.0388\n",
            "Epoch [7/10], Step [200/3079], Loss: 0.0629\n",
            "Epoch [7/10], Step [300/3079], Loss: 0.0597\n",
            "Epoch [7/10], Step [400/3079], Loss: 0.2610\n",
            "Epoch [7/10], Step [500/3079], Loss: 0.1288\n",
            "Epoch [7/10], Step [600/3079], Loss: 0.0992\n",
            "Epoch [7/10], Step [700/3079], Loss: 0.0266\n",
            "Epoch [7/10], Step [800/3079], Loss: 0.0910\n",
            "Epoch [7/10], Step [900/3079], Loss: 0.2180\n",
            "Epoch [7/10], Step [1000/3079], Loss: 0.1861\n",
            "Epoch [7/10], Step [1100/3079], Loss: 0.0153\n",
            "Epoch [7/10], Step [1200/3079], Loss: 0.2954\n",
            "Epoch [7/10], Step [1300/3079], Loss: 0.0512\n",
            "Epoch [7/10], Step [1400/3079], Loss: 0.1793\n",
            "Epoch [7/10], Step [1500/3079], Loss: 0.3542\n",
            "Epoch [7/10], Step [1600/3079], Loss: 0.0116\n",
            "Epoch [7/10], Step [1700/3079], Loss: 0.0388\n",
            "Epoch [7/10], Step [1800/3079], Loss: 0.0489\n",
            "Epoch [7/10], Step [1900/3079], Loss: 0.0721\n",
            "Epoch [7/10], Step [2000/3079], Loss: 0.1088\n",
            "Epoch [7/10], Step [2100/3079], Loss: 0.0968\n",
            "Epoch [7/10], Step [2200/3079], Loss: 0.1688\n",
            "Epoch [7/10], Step [2300/3079], Loss: 0.3039\n",
            "Epoch [7/10], Step [2400/3079], Loss: 0.1262\n",
            "Epoch [7/10], Step [2500/3079], Loss: 0.0227\n",
            "Epoch [7/10], Step [2600/3079], Loss: 0.0606\n",
            "Epoch [7/10], Step [2700/3079], Loss: 0.1015\n",
            "Epoch [7/10], Step [2800/3079], Loss: 0.0557\n",
            "Epoch [7/10], Step [2900/3079], Loss: 0.0683\n",
            "Epoch [7/10], Step [3000/3079], Loss: 0.0384\n"
          ]
        },
        {
          "metadata": {
            "tags": null
          },
          "name": "stderr",
          "output_type": "stream",
          "text": [
            "2023-12-09 00:03:53,771 - root - INFO - Accuracy: 97.59%\n",
            "2023-12-09 00:03:53,772 - root - INFO - Precision: 0.9750\n",
            "2023-12-09 00:03:53,774 - root - INFO - Recall: 0.9759\n",
            "2023-12-09 00:03:53,775 - root - INFO - F1 Score: 0.9743\n"
          ]
        },
        {
          "metadata": {
            "tags": null
          },
          "name": "stdout",
          "output_type": "stream",
          "text": [
            "Epoch [8/10], Step [100/3079], Loss: 0.0733\n",
            "Epoch [8/10], Step [200/3079], Loss: 0.0714\n",
            "Epoch [8/10], Step [300/3079], Loss: 0.0127\n",
            "Epoch [8/10], Step [400/3079], Loss: 0.0977\n",
            "Epoch [8/10], Step [500/3079], Loss: 0.0366\n",
            "Epoch [8/10], Step [600/3079], Loss: 0.0192\n",
            "Epoch [8/10], Step [700/3079], Loss: 0.0220\n",
            "Epoch [8/10], Step [800/3079], Loss: 0.0426\n",
            "Epoch [8/10], Step [900/3079], Loss: 0.2512\n",
            "Epoch [8/10], Step [1000/3079], Loss: 0.0159\n",
            "Epoch [8/10], Step [1100/3079], Loss: 0.0476\n",
            "Epoch [8/10], Step [1200/3079], Loss: 0.0418\n",
            "Epoch [8/10], Step [1300/3079], Loss: 0.0365\n",
            "Epoch [8/10], Step [1400/3079], Loss: 0.0309\n",
            "Epoch [8/10], Step [1500/3079], Loss: 0.3564\n",
            "Epoch [8/10], Step [1600/3079], Loss: 0.0102\n",
            "Epoch [8/10], Step [1700/3079], Loss: 0.2326\n",
            "Epoch [8/10], Step [1800/3079], Loss: 0.0390\n",
            "Epoch [8/10], Step [1900/3079], Loss: 0.0445\n",
            "Epoch [8/10], Step [2000/3079], Loss: 0.0730\n",
            "Epoch [8/10], Step [2100/3079], Loss: 0.0499\n",
            "Epoch [8/10], Step [2200/3079], Loss: 0.0109\n",
            "Epoch [8/10], Step [2300/3079], Loss: 0.2110\n",
            "Epoch [8/10], Step [2400/3079], Loss: 0.0127\n",
            "Epoch [8/10], Step [2500/3079], Loss: 0.0783\n",
            "Epoch [8/10], Step [2600/3079], Loss: 0.0252\n",
            "Epoch [8/10], Step [2700/3079], Loss: 0.1456\n",
            "Epoch [8/10], Step [2800/3079], Loss: 0.0696\n",
            "Epoch [8/10], Step [2900/3079], Loss: 0.0119\n",
            "Epoch [8/10], Step [3000/3079], Loss: 0.1412\n"
          ]
        },
        {
          "metadata": {
            "tags": null
          },
          "name": "stderr",
          "output_type": "stream",
          "text": [
            "2023-12-09 00:04:08,070 - root - INFO - Accuracy: 97.40%\n",
            "2023-12-09 00:04:08,072 - root - INFO - Precision: 0.9730\n",
            "2023-12-09 00:04:08,073 - root - INFO - Recall: 0.9740\n",
            "2023-12-09 00:04:08,073 - root - INFO - F1 Score: 0.9726\n"
          ]
        },
        {
          "output_type": "stream",
          "name": "stdout",
          "text": [
            "Epoch [9/10], Step [100/3079], Loss: 0.3721\n",
            "Epoch [9/10], Step [200/3079], Loss: 0.0274\n",
            "Epoch [9/10], Step [300/3079], Loss: 0.0114\n",
            "Epoch [9/10], Step [400/3079], Loss: 0.3047\n",
            "Epoch [9/10], Step [500/3079], Loss: 0.1048\n",
            "Epoch [9/10], Step [600/3079], Loss: 0.2080\n",
            "Epoch [9/10], Step [700/3079], Loss: 0.0455\n",
            "Epoch [9/10], Step [800/3079], Loss: 0.0109\n",
            "Epoch [9/10], Step [900/3079], Loss: 0.0344\n",
            "Epoch [9/10], Step [1000/3079], Loss: 0.2130\n",
            "Epoch [9/10], Step [1100/3079], Loss: 0.0229\n",
            "Epoch [9/10], Step [1200/3079], Loss: 0.0192\n",
            "Epoch [9/10], Step [1300/3079], Loss: 0.0326\n",
            "Epoch [9/10], Step [1400/3079], Loss: 0.0181\n",
            "Epoch [9/10], Step [1500/3079], Loss: 0.0324\n",
            "Epoch [9/10], Step [1600/3079], Loss: 0.2108\n",
            "Epoch [9/10], Step [1700/3079], Loss: 0.0642\n",
            "Epoch [9/10], Step [1800/3079], Loss: 0.0342\n",
            "Epoch [9/10], Step [1900/3079], Loss: 0.0683\n",
            "Epoch [9/10], Step [2000/3079], Loss: 0.1342\n",
            "Epoch [9/10], Step [2100/3079], Loss: 0.0524\n",
            "Epoch [9/10], Step [2200/3079], Loss: 0.0674\n",
            "Epoch [9/10], Step [2300/3079], Loss: 0.1067\n",
            "Epoch [9/10], Step [2400/3079], Loss: 0.0261\n",
            "Epoch [9/10], Step [2500/3079], Loss: 0.0695\n",
            "Epoch [9/10], Step [2600/3079], Loss: 0.1109\n",
            "Epoch [9/10], Step [2700/3079], Loss: 0.0588\n",
            "Epoch [9/10], Step [2800/3079], Loss: 0.0390\n",
            "Epoch [9/10], Step [2900/3079], Loss: 0.2245\n",
            "Epoch [9/10], Step [3000/3079], Loss: 0.0986\n"
          ]
        },
        {
          "output_type": "stream",
          "name": "stderr",
          "text": [
            "2023-12-09 00:04:22,225 - root - INFO - Accuracy: 97.72%\n",
            "2023-12-09 00:04:22,226 - root - INFO - Precision: 0.9767\n",
            "2023-12-09 00:04:22,227 - root - INFO - Recall: 0.9772\n",
            "2023-12-09 00:04:22,227 - root - INFO - F1 Score: 0.9759\n"
          ]
        },
        {
          "output_type": "stream",
          "name": "stdout",
          "text": [
            "Epoch [10/10], Step [100/3079], Loss: 0.1331\n",
            "Epoch [10/10], Step [200/3079], Loss: 0.0963\n",
            "Epoch [10/10], Step [300/3079], Loss: 0.0996\n",
            "Epoch [10/10], Step [400/3079], Loss: 0.0485\n",
            "Epoch [10/10], Step [500/3079], Loss: 0.1517\n",
            "Epoch [10/10], Step [600/3079], Loss: 0.0780\n",
            "Epoch [10/10], Step [700/3079], Loss: 0.0172\n",
            "Epoch [10/10], Step [800/3079], Loss: 0.0427\n",
            "Epoch [10/10], Step [900/3079], Loss: 0.0206\n",
            "Epoch [10/10], Step [1000/3079], Loss: 0.2128\n",
            "Epoch [10/10], Step [1100/3079], Loss: 0.2107\n",
            "Epoch [10/10], Step [1200/3079], Loss: 0.0242\n",
            "Epoch [10/10], Step [1300/3079], Loss: 0.0351\n",
            "Epoch [10/10], Step [1400/3079], Loss: 0.2124\n",
            "Epoch [10/10], Step [1500/3079], Loss: 0.0150\n",
            "Epoch [10/10], Step [1600/3079], Loss: 0.0141\n",
            "Epoch [10/10], Step [1700/3079], Loss: 0.0276\n",
            "Epoch [10/10], Step [1800/3079], Loss: 0.0173\n",
            "Epoch [10/10], Step [1900/3079], Loss: 0.0381\n",
            "Epoch [10/10], Step [2000/3079], Loss: 0.0251\n",
            "Epoch [10/10], Step [2100/3079], Loss: 0.1498\n",
            "Epoch [10/10], Step [2200/3079], Loss: 0.0123\n",
            "Epoch [10/10], Step [2300/3079], Loss: 0.0626\n",
            "Epoch [10/10], Step [2400/3079], Loss: 0.1678\n",
            "Epoch [10/10], Step [2500/3079], Loss: 0.0671\n",
            "Epoch [10/10], Step [2600/3079], Loss: 0.1188\n",
            "Epoch [10/10], Step [2700/3079], Loss: 0.2180\n",
            "Epoch [10/10], Step [2800/3079], Loss: 0.0159\n",
            "Epoch [10/10], Step [2900/3079], Loss: 0.0073\n",
            "Epoch [10/10], Step [3000/3079], Loss: 0.0787\n"
          ]
        },
        {
          "output_type": "stream",
          "name": "stderr",
          "text": [
            "2023-12-09 00:04:36,584 - root - INFO - Accuracy: 97.97%\n",
            "2023-12-09 00:04:36,586 - root - INFO - Precision: 0.9790\n",
            "2023-12-09 00:04:36,587 - root - INFO - Recall: 0.9797\n",
            "2023-12-09 00:04:36,587 - root - INFO - F1 Score: 0.9786\n"
          ]
        },
        {
          "output_type": "stream",
          "name": "stdout",
          "text": [
            "Epoch 1 - Avg Accuracy: 0.8594558701936048, Avg Precision: 0.7822349434479006, Avg Recall: 0.8594558701936048, Avg F1 Score: 0.8100216980213879, Avg Loss: 0.5856198624691122\n",
            "Epoch 2 - Avg Accuracy: 0.9095268015048662, Avg Precision: 0.8921057762134558, Avg Recall: 0.9095268015048662, Avg F1 Score: 0.8930016374682079, Avg Loss: 0.42360692178118475\n",
            "Epoch 3 - Avg Accuracy: 0.9371565354350165, Avg Precision: 0.9230090159048894, Avg Recall: 0.9371565354350165, Avg F1 Score: 0.9269019556747757, Avg Loss: 0.27785477037476536\n",
            "Epoch 4 - Avg Accuracy: 0.9462021397524571, Avg Precision: 0.9416453362858821, Avg Recall: 0.9462021397524571, Avg F1 Score: 0.9396772799634586, Avg Loss: 0.2192424548442768\n",
            "Epoch 5 - Avg Accuracy: 0.9553298682073311, Avg Precision: 0.9527590709664342, Avg Recall: 0.9553298682073311, Avg F1 Score: 0.9505554735133203, Avg Loss: 0.1790908930177875\n",
            "Epoch 6 - Avg Accuracy: 0.9602546841731252, Avg Precision: 0.9577759585399406, Avg Recall: 0.9602546841731252, Avg F1 Score: 0.9572619992840448, Avg Loss: 0.15203267921917152\n",
            "Epoch 7 - Avg Accuracy: 0.9646220127418058, Avg Precision: 0.9631893555150206, Avg Recall: 0.9646220127418058, Avg F1 Score: 0.9610411778441049, Avg Loss: 0.13633054958802526\n",
            "Epoch 8 - Avg Accuracy: 0.9683864714989087, Avg Precision: 0.9664670375905144, Avg Recall: 0.9683864714989087, Avg F1 Score: 0.9655759310662742, Avg Loss: 0.12507036203631486\n",
            "Epoch 9 - Avg Accuracy: 0.970012806590101, Avg Precision: 0.9685823955459135, Avg Recall: 0.970012806590101, Avg F1 Score: 0.9683478866764068, Avg Loss: 0.10895110581989106\n",
            "Epoch 10 - Avg Accuracy: 0.972772153397236, Avg Precision: 0.9712585972178711, Avg Recall: 0.972772153397236, Avg F1 Score: 0.9704364000705595, Avg Loss: 0.10052026262233556\n"
          ]
        }
      ],
      "source": [
        "epoch_acc, epoch_prc, epoch_rec, epoch_f1, epoch_losses = [], [], [], [], []\n",
        "\n",
        "for fold, (train_ids, test_ids) in enumerate(kfold.split(dataset, dataset_y)):\n",
        "    print(f\"FOLD {fold}\")\n",
        "    print(\"--------------------------------\")\n",
        "\n",
        "    # store metrics of each fold\n",
        "    accuracies, precisions, recalls, f1_scores, losses = [], [], [], [], []\n",
        "\n",
        "    # split data\n",
        "    train_subsampler = torch.utils.data.SubsetRandomSampler(train_ids)\n",
        "    test_subsampler = torch.utils.data.SubsetRandomSampler(test_ids)\n",
        "\n",
        "    # data loaders for training and testing data in this fold\n",
        "    train_loader = DataLoader(dataset, batch_size=batch_size, sampler=train_subsampler)\n",
        "    test_loader = DataLoader(dataset, batch_size=batch_size, sampler=test_subsampler)\n",
        "\n",
        "    # set parameters\n",
        "    input_dim = 1         # ECG data is univariate, so the input dimension is 1\n",
        "    hidden_dim = 128\n",
        "    num_layers = 2\n",
        "    num_classes = 5\n",
        "\n",
        "    # initialize model for this fold\n",
        "    model = LSTM(input_dim, hidden_dim, num_layers, num_classes)\n",
        "    model.to(device)\n",
        "    print(model)\n",
        "\n",
        "    # loss function and optimizer\n",
        "    criterion = nn.CrossEntropyLoss()\n",
        "    optimizer = optim.Adam(model.parameters(), lr=0.001)\n",
        "\n",
        "\n",
        "    # train\n",
        "    for epoch in range(num_epochs):\n",
        "        model.train()\n",
        "        batch_losses = []\n",
        "\n",
        "        for i, (inputs, labels) in enumerate(train_loader):\n",
        "            inputs, labels = inputs.to(device), labels.to(device)\n",
        "\n",
        "            optimizer.zero_grad()\n",
        "            outputs = model(inputs)\n",
        "            loss = criterion(outputs, labels)\n",
        "            loss.backward()\n",
        "            optimizer.step()\n",
        "\n",
        "            batch_losses.append(loss.item())\n",
        "\n",
        "            if (i+1) % 100 == 0:\n",
        "                print(f\"Epoch [{epoch+1}/{num_epochs}], Step [{i+1}/{len(train_loader)}], Loss: {loss.item():.4f}\")\n",
        "\n",
        "        # store metrics\n",
        "        accuracy, precision, recall, f1, _, _ = evaluate(model, test_loader)\n",
        "        accuracies.append(accuracy)\n",
        "        precisions.append(precision)\n",
        "        recalls.append(recall)\n",
        "        f1_scores.append(f1)\n",
        "\n",
        "        # Accumulate metrics for each epoch across folds\n",
        "        if fold == 0:\n",
        "            # Initialize lists in the first fold\n",
        "            epoch_acc.append(accuracy)\n",
        "            epoch_prc.append(precision)\n",
        "            epoch_rec.append(recall)\n",
        "            epoch_f1.append(f1)\n",
        "            epoch_losses.append(batch_losses)\n",
        "        else:\n",
        "            # Add to existing totals for subsequent folds\n",
        "            epoch_acc[epoch] += accuracy\n",
        "            epoch_prc[epoch] += precision\n",
        "            epoch_rec[epoch] += recall\n",
        "            epoch_f1[epoch] += f1\n",
        "            epoch_losses[epoch].extend(batch_losses)\n",
        "\n",
        "# Average metrics across all folds for each epoch\n",
        "epoch_acc = [x / k_folds for x in epoch_acc]\n",
        "epoch_prc = [x / k_folds for x in epoch_prc]\n",
        "epoch_rec = [x / k_folds for x in epoch_rec]\n",
        "epoch_f1 = [x / k_folds for x in epoch_f1]\n",
        "epoch_losses = [sum(x) / len(x) for x in epoch_losses]\n",
        "\n",
        "# Print average metrics for each epoch\n",
        "for epoch in range(num_epochs):\n",
        "    print(f\"Epoch {epoch+1} - Avg Accuracy: {epoch_acc[epoch]}, Avg Precision: {epoch_prc[epoch]}, Avg Recall: {epoch_rec[epoch]}, Avg F1 Score: {epoch_f1[epoch]}, Avg Loss: {epoch_losses[epoch]}\")"
      ]
    },
    {
      "cell_type": "code",
      "source": [
        "plot_metrics(epoch_acc, epoch_prc, epoch_rec, epoch_f1, epoch_losses, \"lstm_metrics\")"
      ],
      "metadata": {
        "colab": {
          "base_uri": "https://localhost:8080/",
          "height": 591
        },
        "id": "VXusDnvnU43W",
        "outputId": "8e74b0b0-43c8-46ae-b5e2-87d4ddbfe75e"
      },
      "execution_count": 11,
      "outputs": [
        {
          "output_type": "display_data",
          "data": {
            "text/plain": [
              "<Figure size 1200x800 with 2 Axes>"
            ],
            "image/png": "[encoded data removed]"
          },
          "metadata": {}
        }
      ]
    },
    {
      "cell_type": "markdown",
      "metadata": {
        "id": "8H-W0Bxa4MQD"
      },
      "source": [
        "# LSTM with Attention Experiment\n",
        "### Description\n",
        "Use the ECG dataset and stratified k-fold cross validation to train the LSTM+Attention model and evaluate its performance.\n",
        "\n",
        "### Steps\n",
        "1. set up the LSTM+Attention model\n",
        "1. train the LSTM+Attention model\n",
        "1. evaluate performance with accuracy, F1 score, precision, recall"
      ]
    },
    {
      "cell_type": "code",
      "execution_count": 12,
      "metadata": {
        "colab": {
          "base_uri": "https://localhost:8080/"
        },
        "outputId": "f5092834-a8db-4a31-b424-3810996f34c1",
        "id": "_9e2679hkkpI"
      },
      "outputs": [
        {
          "output_type": "stream",
          "name": "stdout",
          "text": [
            "FOLD 0\n",
            "--------------------------------\n",
            "AttentionLSTM(\n",
            "  (lstm): LSTM(1, 128, num_layers=2, batch_first=True)\n",
            "  (attention): SelfAttention(\n",
            "    (query): Linear(in_features=128, out_features=128, bias=True)\n",
            "    (key): Linear(in_features=128, out_features=128, bias=True)\n",
            "    (value): Linear(in_features=128, out_features=128, bias=True)\n",
            "  )\n",
            "  (fc): Linear(in_features=128, out_features=5, bias=True)\n",
            ")\n",
            "Epoch [1/10], Step [100/3079], Loss: 0.5263\n",
            "Epoch [1/10], Step [200/3079], Loss: 0.7729\n",
            "Epoch [1/10], Step [300/3079], Loss: 0.7220\n",
            "Epoch [1/10], Step [400/3079], Loss: 0.7636\n",
            "Epoch [1/10], Step [500/3079], Loss: 0.3893\n",
            "Epoch [1/10], Step [600/3079], Loss: 0.6928\n",
            "Epoch [1/10], Step [700/3079], Loss: 0.3682\n",
            "Epoch [1/10], Step [800/3079], Loss: 0.1864\n",
            "Epoch [1/10], Step [900/3079], Loss: 0.5627\n",
            "Epoch [1/10], Step [1000/3079], Loss: 0.2310\n",
            "Epoch [1/10], Step [1100/3079], Loss: 0.3327\n",
            "Epoch [1/10], Step [1200/3079], Loss: 0.4685\n",
            "Epoch [1/10], Step [1300/3079], Loss: 0.4952\n",
            "Epoch [1/10], Step [1400/3079], Loss: 0.3998\n",
            "Epoch [1/10], Step [1500/3079], Loss: 0.3509\n",
            "Epoch [1/10], Step [1600/3079], Loss: 0.3196\n",
            "Epoch [1/10], Step [1700/3079], Loss: 0.3491\n",
            "Epoch [1/10], Step [1800/3079], Loss: 0.1720\n",
            "Epoch [1/10], Step [1900/3079], Loss: 0.2693\n",
            "Epoch [1/10], Step [2000/3079], Loss: 0.5252\n",
            "Epoch [1/10], Step [2100/3079], Loss: 0.0115\n",
            "Epoch [1/10], Step [2200/3079], Loss: 0.4424\n",
            "Epoch [1/10], Step [2300/3079], Loss: 0.2371\n",
            "Epoch [1/10], Step [2400/3079], Loss: 0.4046\n",
            "Epoch [1/10], Step [2500/3079], Loss: 0.6562\n",
            "Epoch [1/10], Step [2600/3079], Loss: 0.4546\n",
            "Epoch [1/10], Step [2700/3079], Loss: 0.5819\n",
            "Epoch [1/10], Step [2800/3079], Loss: 0.1651\n",
            "Epoch [1/10], Step [2900/3079], Loss: 0.1040\n",
            "Epoch [1/10], Step [3000/3079], Loss: 0.6193\n"
          ]
        },
        {
          "output_type": "stream",
          "name": "stderr",
          "text": [
            "/usr/local/lib/python3.10/dist-packages/sklearn/metrics/_classification.py:1344: UndefinedMetricWarning: Precision is ill-defined and being set to 0.0 in labels with no predicted samples. Use `zero_division` parameter to control this behavior.\n",
            "  _warn_prf(average, modifier, msg_start, len(result))\n",
            "2023-12-09 00:04:54,019 - root - INFO - Accuracy: 92.77%\n",
            "2023-12-09 00:04:54,020 - root - INFO - Precision: 0.9142\n",
            "2023-12-09 00:04:54,021 - root - INFO - Recall: 0.9277\n",
            "2023-12-09 00:04:54,021 - root - INFO - F1 Score: 0.9107\n"
          ]
        },
        {
          "output_type": "stream",
          "name": "stdout",
          "text": [
            "Epoch [2/10], Step [100/3079], Loss: 0.3746\n",
            "Epoch [2/10], Step [200/3079], Loss: 0.4507\n",
            "Epoch [2/10], Step [300/3079], Loss: 0.2913\n",
            "Epoch [2/10], Step [400/3079], Loss: 0.4420\n",
            "Epoch [2/10], Step [500/3079], Loss: 0.2992\n",
            "Epoch [2/10], Step [600/3079], Loss: 0.2682\n",
            "Epoch [2/10], Step [700/3079], Loss: 0.0577\n",
            "Epoch [2/10], Step [800/3079], Loss: 0.2171\n",
            "Epoch [2/10], Step [900/3079], Loss: 0.5250\n",
            "Epoch [2/10], Step [1000/3079], Loss: 0.4448\n",
            "Epoch [2/10], Step [1100/3079], Loss: 0.2304\n",
            "Epoch [2/10], Step [1200/3079], Loss: 0.2948\n",
            "Epoch [2/10], Step [1300/3079], Loss: 0.2963\n",
            "Epoch [2/10], Step [1400/3079], Loss: 0.2578\n",
            "Epoch [2/10], Step [1500/3079], Loss: 0.2142\n",
            "Epoch [2/10], Step [1600/3079], Loss: 0.2146\n",
            "Epoch [2/10], Step [1700/3079], Loss: 0.0905\n",
            "Epoch [2/10], Step [1800/3079], Loss: 0.1752\n",
            "Epoch [2/10], Step [1900/3079], Loss: 0.4979\n",
            "Epoch [2/10], Step [2000/3079], Loss: 0.0632\n",
            "Epoch [2/10], Step [2100/3079], Loss: 0.3912\n",
            "Epoch [2/10], Step [2200/3079], Loss: 0.2600\n",
            "Epoch [2/10], Step [2300/3079], Loss: 0.2072\n",
            "Epoch [2/10], Step [2400/3079], Loss: 0.0239\n",
            "Epoch [2/10], Step [2500/3079], Loss: 0.2562\n",
            "Epoch [2/10], Step [2600/3079], Loss: 0.2352\n",
            "Epoch [2/10], Step [2700/3079], Loss: 0.2840\n",
            "Epoch [2/10], Step [2800/3079], Loss: 0.2464\n",
            "Epoch [2/10], Step [2900/3079], Loss: 0.0475\n",
            "Epoch [2/10], Step [3000/3079], Loss: 0.3590\n"
          ]
        },
        {
          "output_type": "stream",
          "name": "stderr",
          "text": [
            "/usr/local/lib/python3.10/dist-packages/sklearn/metrics/_classification.py:1344: UndefinedMetricWarning: Precision is ill-defined and being set to 0.0 in labels with no predicted samples. Use `zero_division` parameter to control this behavior.\n",
            "  _warn_prf(average, modifier, msg_start, len(result))\n",
            "2023-12-09 00:05:10,729 - root - INFO - Accuracy: 94.93%\n",
            "2023-12-09 00:05:10,730 - root - INFO - Precision: 0.9410\n",
            "2023-12-09 00:05:10,731 - root - INFO - Recall: 0.9493\n",
            "2023-12-09 00:05:10,732 - root - INFO - F1 Score: 0.9439\n"
          ]
        },
        {
          "output_type": "stream",
          "name": "stdout",
          "text": [
            "Epoch [3/10], Step [100/3079], Loss: 0.0603\n",
            "Epoch [3/10], Step [200/3079], Loss: 0.1139\n",
            "Epoch [3/10], Step [300/3079], Loss: 0.1095\n",
            "Epoch [3/10], Step [400/3079], Loss: 0.0905\n",
            "Epoch [3/10], Step [500/3079], Loss: 0.4485\n",
            "Epoch [3/10], Step [600/3079], Loss: 0.0865\n",
            "Epoch [3/10], Step [700/3079], Loss: 0.1017\n",
            "Epoch [3/10], Step [800/3079], Loss: 0.2802\n",
            "Epoch [3/10], Step [900/3079], Loss: 0.0430\n",
            "Epoch [3/10], Step [1000/3079], Loss: 0.2619\n",
            "Epoch [3/10], Step [1100/3079], Loss: 0.0865\n",
            "Epoch [3/10], Step [1200/3079], Loss: 0.1087\n",
            "Epoch [3/10], Step [1300/3079], Loss: 0.2105\n",
            "Epoch [3/10], Step [1400/3079], Loss: 0.1475\n",
            "Epoch [3/10], Step [1500/3079], Loss: 0.0280\n",
            "Epoch [3/10], Step [1600/3079], Loss: 0.0758\n",
            "Epoch [3/10], Step [1700/3079], Loss: 0.0473\n",
            "Epoch [3/10], Step [1800/3079], Loss: 0.1673\n",
            "Epoch [3/10], Step [1900/3079], Loss: 0.2153\n",
            "Epoch [3/10], Step [2000/3079], Loss: 0.0264\n",
            "Epoch [3/10], Step [2100/3079], Loss: 0.3533\n",
            "Epoch [3/10], Step [2200/3079], Loss: 0.1155\n",
            "Epoch [3/10], Step [2300/3079], Loss: 0.0906\n",
            "Epoch [3/10], Step [2400/3079], Loss: 0.3934\n",
            "Epoch [3/10], Step [2500/3079], Loss: 0.2164\n",
            "Epoch [3/10], Step [2600/3079], Loss: 0.1928\n",
            "Epoch [3/10], Step [2700/3079], Loss: 0.0393\n",
            "Epoch [3/10], Step [2800/3079], Loss: 0.2825\n",
            "Epoch [3/10], Step [2900/3079], Loss: 0.2839\n",
            "Epoch [3/10], Step [3000/3079], Loss: 0.0817\n"
          ]
        },
        {
          "output_type": "stream",
          "name": "stderr",
          "text": [
            "2023-12-09 00:05:27,444 - root - INFO - Accuracy: 96.02%\n",
            "2023-12-09 00:05:27,445 - root - INFO - Precision: 0.9591\n",
            "2023-12-09 00:05:27,446 - root - INFO - Recall: 0.9602\n",
            "2023-12-09 00:05:27,447 - root - INFO - F1 Score: 0.9554\n"
          ]
        },
        {
          "output_type": "stream",
          "name": "stdout",
          "text": [
            "Epoch [4/10], Step [100/3079], Loss: 0.0928\n",
            "Epoch [4/10], Step [200/3079], Loss: 0.3080\n",
            "Epoch [4/10], Step [300/3079], Loss: 0.1800\n",
            "Epoch [4/10], Step [400/3079], Loss: 0.4368\n",
            "Epoch [4/10], Step [500/3079], Loss: 0.0643\n",
            "Epoch [4/10], Step [600/3079], Loss: 0.0353\n",
            "Epoch [4/10], Step [700/3079], Loss: 0.0272\n",
            "Epoch [4/10], Step [800/3079], Loss: 0.1582\n",
            "Epoch [4/10], Step [900/3079], Loss: 0.2657\n",
            "Epoch [4/10], Step [1000/3079], Loss: 0.4838\n",
            "Epoch [4/10], Step [1100/3079], Loss: 0.1670\n",
            "Epoch [4/10], Step [1200/3079], Loss: 0.1961\n",
            "Epoch [4/10], Step [1300/3079], Loss: 0.3513\n",
            "Epoch [4/10], Step [1400/3079], Loss: 0.0944\n",
            "Epoch [4/10], Step [1500/3079], Loss: 0.1715\n",
            "Epoch [4/10], Step [1600/3079], Loss: 0.0861\n",
            "Epoch [4/10], Step [1700/3079], Loss: 0.0922\n",
            "Epoch [4/10], Step [1800/3079], Loss: 0.1928\n",
            "Epoch [4/10], Step [1900/3079], Loss: 0.0981\n",
            "Epoch [4/10], Step [2000/3079], Loss: 0.1426\n",
            "Epoch [4/10], Step [2100/3079], Loss: 0.0193\n",
            "Epoch [4/10], Step [2200/3079], Loss: 0.0594\n",
            "Epoch [4/10], Step [2300/3079], Loss: 0.1324\n",
            "Epoch [4/10], Step [2400/3079], Loss: 0.3460\n",
            "Epoch [4/10], Step [2500/3079], Loss: 0.1303\n",
            "Epoch [4/10], Step [2600/3079], Loss: 0.0809\n",
            "Epoch [4/10], Step [2700/3079], Loss: 0.2471\n",
            "Epoch [4/10], Step [2800/3079], Loss: 0.0844\n",
            "Epoch [4/10], Step [2900/3079], Loss: 0.0908\n",
            "Epoch [4/10], Step [3000/3079], Loss: 0.1313\n"
          ]
        },
        {
          "output_type": "stream",
          "name": "stderr",
          "text": [
            "2023-12-09 00:05:44,149 - root - INFO - Accuracy: 96.90%\n",
            "2023-12-09 00:05:44,150 - root - INFO - Precision: 0.9682\n",
            "2023-12-09 00:05:44,151 - root - INFO - Recall: 0.9690\n",
            "2023-12-09 00:05:44,153 - root - INFO - F1 Score: 0.9676\n"
          ]
        },
        {
          "output_type": "stream",
          "name": "stdout",
          "text": [
            "Epoch [5/10], Step [100/3079], Loss: 0.2096\n",
            "Epoch [5/10], Step [200/3079], Loss: 0.0347\n",
            "Epoch [5/10], Step [300/3079], Loss: 0.1059\n",
            "Epoch [5/10], Step [400/3079], Loss: 0.0869\n",
            "Epoch [5/10], Step [500/3079], Loss: 0.1710\n",
            "Epoch [5/10], Step [600/3079], Loss: 0.1394\n",
            "Epoch [5/10], Step [700/3079], Loss: 0.0676\n",
            "Epoch [5/10], Step [800/3079], Loss: 0.1262\n",
            "Epoch [5/10], Step [900/3079], Loss: 0.0952\n",
            "Epoch [5/10], Step [1000/3079], Loss: 0.0288\n",
            "Epoch [5/10], Step [1100/3079], Loss: 0.1078\n",
            "Epoch [5/10], Step [1200/3079], Loss: 0.0454\n",
            "Epoch [5/10], Step [1300/3079], Loss: 0.0880\n",
            "Epoch [5/10], Step [1400/3079], Loss: 0.0046\n",
            "Epoch [5/10], Step [1500/3079], Loss: 0.1196\n",
            "Epoch [5/10], Step [1600/3079], Loss: 0.2611\n",
            "Epoch [5/10], Step [1700/3079], Loss: 0.0785\n",
            "Epoch [5/10], Step [1800/3079], Loss: 0.1303\n",
            "Epoch [5/10], Step [1900/3079], Loss: 0.2872\n",
            "Epoch [5/10], Step [2000/3079], Loss: 0.0537\n",
            "Epoch [5/10], Step [2100/3079], Loss: 0.1219\n",
            "Epoch [5/10], Step [2200/3079], Loss: 0.0065\n",
            "Epoch [5/10], Step [2300/3079], Loss: 0.0766\n",
            "Epoch [5/10], Step [2400/3079], Loss: 0.2333\n",
            "Epoch [5/10], Step [2500/3079], Loss: 0.0850\n",
            "Epoch [5/10], Step [2600/3079], Loss: 0.2633\n",
            "Epoch [5/10], Step [2700/3079], Loss: 0.0921\n",
            "Epoch [5/10], Step [2800/3079], Loss: 0.0307\n",
            "Epoch [5/10], Step [2900/3079], Loss: 0.0512\n",
            "Epoch [5/10], Step [3000/3079], Loss: 0.1395\n"
          ]
        },
        {
          "output_type": "stream",
          "name": "stderr",
          "text": [
            "2023-12-09 00:06:00,830 - root - INFO - Accuracy: 97.17%\n",
            "2023-12-09 00:06:00,831 - root - INFO - Precision: 0.9702\n",
            "2023-12-09 00:06:00,832 - root - INFO - Recall: 0.9717\n",
            "2023-12-09 00:06:00,833 - root - INFO - F1 Score: 0.9700\n"
          ]
        },
        {
          "output_type": "stream",
          "name": "stdout",
          "text": [
            "Epoch [6/10], Step [100/3079], Loss: 0.0261\n",
            "Epoch [6/10], Step [200/3079], Loss: 0.0648\n",
            "Epoch [6/10], Step [300/3079], Loss: 0.1215\n",
            "Epoch [6/10], Step [400/3079], Loss: 0.1798\n",
            "Epoch [6/10], Step [500/3079], Loss: 0.0431\n",
            "Epoch [6/10], Step [600/3079], Loss: 0.0871\n",
            "Epoch [6/10], Step [700/3079], Loss: 0.0503\n",
            "Epoch [6/10], Step [800/3079], Loss: 0.1272\n",
            "Epoch [6/10], Step [900/3079], Loss: 0.0404\n",
            "Epoch [6/10], Step [1000/3079], Loss: 0.0492\n",
            "Epoch [6/10], Step [1100/3079], Loss: 0.0943\n",
            "Epoch [6/10], Step [1200/3079], Loss: 0.1548\n",
            "Epoch [6/10], Step [1300/3079], Loss: 0.1996\n",
            "Epoch [6/10], Step [1400/3079], Loss: 0.0795\n",
            "Epoch [6/10], Step [1500/3079], Loss: 0.0399\n",
            "Epoch [6/10], Step [1600/3079], Loss: 0.0303\n",
            "Epoch [6/10], Step [1700/3079], Loss: 0.0246\n",
            "Epoch [6/10], Step [1800/3079], Loss: 0.0204\n",
            "Epoch [6/10], Step [1900/3079], Loss: 0.1649\n",
            "Epoch [6/10], Step [2000/3079], Loss: 0.0412\n",
            "Epoch [6/10], Step [2100/3079], Loss: 0.1984\n",
            "Epoch [6/10], Step [2200/3079], Loss: 0.2954\n",
            "Epoch [6/10], Step [2300/3079], Loss: 0.0136\n",
            "Epoch [6/10], Step [2400/3079], Loss: 0.0145\n",
            "Epoch [6/10], Step [2500/3079], Loss: 0.0264\n",
            "Epoch [6/10], Step [2600/3079], Loss: 0.0332\n",
            "Epoch [6/10], Step [2700/3079], Loss: 0.1507\n",
            "Epoch [6/10], Step [2800/3079], Loss: 0.0173\n",
            "Epoch [6/10], Step [2900/3079], Loss: 0.2079\n",
            "Epoch [6/10], Step [3000/3079], Loss: 0.0419\n"
          ]
        },
        {
          "output_type": "stream",
          "name": "stderr",
          "text": [
            "2023-12-09 00:06:17,572 - root - INFO - Accuracy: 97.37%\n",
            "2023-12-09 00:06:17,574 - root - INFO - Precision: 0.9732\n",
            "2023-12-09 00:06:17,574 - root - INFO - Recall: 0.9737\n",
            "2023-12-09 00:06:17,575 - root - INFO - F1 Score: 0.9729\n"
          ]
        },
        {
          "output_type": "stream",
          "name": "stdout",
          "text": [
            "Epoch [7/10], Step [100/3079], Loss: 0.1731\n",
            "Epoch [7/10], Step [200/3079], Loss: 0.0049\n",
            "Epoch [7/10], Step [300/3079], Loss: 0.0425\n",
            "Epoch [7/10], Step [400/3079], Loss: 0.0356\n",
            "Epoch [7/10], Step [500/3079], Loss: 0.0913\n",
            "Epoch [7/10], Step [600/3079], Loss: 0.2390\n",
            "Epoch [7/10], Step [700/3079], Loss: 0.0088\n",
            "Epoch [7/10], Step [800/3079], Loss: 0.2231\n",
            "Epoch [7/10], Step [900/3079], Loss: 0.1576\n",
            "Epoch [7/10], Step [1000/3079], Loss: 0.0315\n",
            "Epoch [7/10], Step [1100/3079], Loss: 0.0356\n",
            "Epoch [7/10], Step [1200/3079], Loss: 0.0317\n",
            "Epoch [7/10], Step [1300/3079], Loss: 0.0873\n",
            "Epoch [7/10], Step [1400/3079], Loss: 0.0926\n",
            "Epoch [7/10], Step [1500/3079], Loss: 0.0164\n",
            "Epoch [7/10], Step [1600/3079], Loss: 0.0094\n",
            "Epoch [7/10], Step [1700/3079], Loss: 0.0853\n",
            "Epoch [7/10], Step [1800/3079], Loss: 0.1870\n",
            "Epoch [7/10], Step [1900/3079], Loss: 0.2432\n",
            "Epoch [7/10], Step [2000/3079], Loss: 0.0101\n",
            "Epoch [7/10], Step [2100/3079], Loss: 0.0096\n",
            "Epoch [7/10], Step [2200/3079], Loss: 0.0988\n",
            "Epoch [7/10], Step [2300/3079], Loss: 0.0118\n",
            "Epoch [7/10], Step [2400/3079], Loss: 0.0323\n",
            "Epoch [7/10], Step [2500/3079], Loss: 0.0356\n",
            "Epoch [7/10], Step [2600/3079], Loss: 0.2378\n",
            "Epoch [7/10], Step [2700/3079], Loss: 0.0231\n",
            "Epoch [7/10], Step [2800/3079], Loss: 0.0266\n",
            "Epoch [7/10], Step [2900/3079], Loss: 0.0196\n",
            "Epoch [7/10], Step [3000/3079], Loss: 0.0501\n"
          ]
        },
        {
          "output_type": "stream",
          "name": "stderr",
          "text": [
            "2023-12-09 00:06:34,324 - root - INFO - Accuracy: 97.99%\n",
            "2023-12-09 00:06:34,325 - root - INFO - Precision: 0.9797\n",
            "2023-12-09 00:06:34,326 - root - INFO - Recall: 0.9799\n",
            "2023-12-09 00:06:34,327 - root - INFO - F1 Score: 0.9786\n"
          ]
        },
        {
          "output_type": "stream",
          "name": "stdout",
          "text": [
            "Epoch [8/10], Step [100/3079], Loss: 0.0323\n",
            "Epoch [8/10], Step [200/3079], Loss: 0.1039\n",
            "Epoch [8/10], Step [300/3079], Loss: 0.0197\n",
            "Epoch [8/10], Step [400/3079], Loss: 0.0074\n",
            "Epoch [8/10], Step [500/3079], Loss: 0.1447\n",
            "Epoch [8/10], Step [600/3079], Loss: 0.0219\n",
            "Epoch [8/10], Step [700/3079], Loss: 0.1926\n",
            "Epoch [8/10], Step [800/3079], Loss: 0.0447\n",
            "Epoch [8/10], Step [900/3079], Loss: 0.0025\n",
            "Epoch [8/10], Step [1000/3079], Loss: 0.0035\n",
            "Epoch [8/10], Step [1100/3079], Loss: 0.0118\n",
            "Epoch [8/10], Step [1200/3079], Loss: 0.0617\n",
            "Epoch [8/10], Step [1300/3079], Loss: 0.0764\n",
            "Epoch [8/10], Step [1400/3079], Loss: 0.0080\n",
            "Epoch [8/10], Step [1500/3079], Loss: 0.1524\n",
            "Epoch [8/10], Step [1600/3079], Loss: 0.3235\n",
            "Epoch [8/10], Step [1700/3079], Loss: 0.1144\n",
            "Epoch [8/10], Step [1800/3079], Loss: 0.0138\n",
            "Epoch [8/10], Step [1900/3079], Loss: 0.0328\n",
            "Epoch [8/10], Step [2000/3079], Loss: 0.0313\n",
            "Epoch [8/10], Step [2100/3079], Loss: 0.0386\n",
            "Epoch [8/10], Step [2200/3079], Loss: 0.2672\n",
            "Epoch [8/10], Step [2300/3079], Loss: 0.0188\n",
            "Epoch [8/10], Step [2400/3079], Loss: 0.0702\n",
            "Epoch [8/10], Step [2500/3079], Loss: 0.0245\n",
            "Epoch [8/10], Step [2600/3079], Loss: 0.0093\n",
            "Epoch [8/10], Step [2700/3079], Loss: 0.0144\n",
            "Epoch [8/10], Step [2800/3079], Loss: 0.0076\n",
            "Epoch [8/10], Step [2900/3079], Loss: 0.0148\n",
            "Epoch [8/10], Step [3000/3079], Loss: 0.0705\n"
          ]
        },
        {
          "output_type": "stream",
          "name": "stderr",
          "text": [
            "2023-12-09 00:06:50,860 - root - INFO - Accuracy: 97.57%\n",
            "2023-12-09 00:06:50,861 - root - INFO - Precision: 0.9755\n",
            "2023-12-09 00:06:50,862 - root - INFO - Recall: 0.9757\n",
            "2023-12-09 00:06:50,863 - root - INFO - F1 Score: 0.9746\n"
          ]
        },
        {
          "output_type": "stream",
          "name": "stdout",
          "text": [
            "Epoch [9/10], Step [100/3079], Loss: 0.0383\n",
            "Epoch [9/10], Step [200/3079], Loss: 0.0098\n",
            "Epoch [9/10], Step [300/3079], Loss: 0.0092\n",
            "Epoch [9/10], Step [400/3079], Loss: 0.0866\n",
            "Epoch [9/10], Step [500/3079], Loss: 0.2812\n",
            "Epoch [9/10], Step [600/3079], Loss: 0.3815\n",
            "Epoch [9/10], Step [700/3079], Loss: 0.0533\n",
            "Epoch [9/10], Step [800/3079], Loss: 0.0057\n",
            "Epoch [9/10], Step [900/3079], Loss: 0.0210\n",
            "Epoch [9/10], Step [1000/3079], Loss: 0.1161\n",
            "Epoch [9/10], Step [1100/3079], Loss: 0.1855\n",
            "Epoch [9/10], Step [1200/3079], Loss: 0.0028\n",
            "Epoch [9/10], Step [1300/3079], Loss: 0.0483\n",
            "Epoch [9/10], Step [1400/3079], Loss: 0.2202\n",
            "Epoch [9/10], Step [1500/3079], Loss: 0.0128\n",
            "Epoch [9/10], Step [1600/3079], Loss: 0.0620\n",
            "Epoch [9/10], Step [1700/3079], Loss: 0.0455\n",
            "Epoch [9/10], Step [1800/3079], Loss: 0.0192\n",
            "Epoch [9/10], Step [1900/3079], Loss: 0.2994\n",
            "Epoch [9/10], Step [2000/3079], Loss: 0.2219\n",
            "Epoch [9/10], Step [2100/3079], Loss: 0.1676\n",
            "Epoch [9/10], Step [2200/3079], Loss: 0.0410\n",
            "Epoch [9/10], Step [2300/3079], Loss: 0.1651\n",
            "Epoch [9/10], Step [2400/3079], Loss: 0.1291\n",
            "Epoch [9/10], Step [2500/3079], Loss: 0.4393\n",
            "Epoch [9/10], Step [2600/3079], Loss: 0.0717\n",
            "Epoch [9/10], Step [2700/3079], Loss: 0.0120\n",
            "Epoch [9/10], Step [2800/3079], Loss: 0.1046\n",
            "Epoch [9/10], Step [2900/3079], Loss: 0.0056\n",
            "Epoch [9/10], Step [3000/3079], Loss: 0.0175\n"
          ]
        },
        {
          "output_type": "stream",
          "name": "stderr",
          "text": [
            "2023-12-09 00:07:07,493 - root - INFO - Accuracy: 97.42%\n",
            "2023-12-09 00:07:07,494 - root - INFO - Precision: 0.9747\n",
            "2023-12-09 00:07:07,495 - root - INFO - Recall: 0.9742\n",
            "2023-12-09 00:07:07,496 - root - INFO - F1 Score: 0.9730\n"
          ]
        },
        {
          "output_type": "stream",
          "name": "stdout",
          "text": [
            "Epoch [10/10], Step [100/3079], Loss: 0.0964\n",
            "Epoch [10/10], Step [200/3079], Loss: 0.0172\n",
            "Epoch [10/10], Step [300/3079], Loss: 0.0859\n",
            "Epoch [10/10], Step [400/3079], Loss: 0.0011\n",
            "Epoch [10/10], Step [500/3079], Loss: 0.0127\n",
            "Epoch [10/10], Step [600/3079], Loss: 0.1536\n",
            "Epoch [10/10], Step [700/3079], Loss: 0.1415\n",
            "Epoch [10/10], Step [800/3079], Loss: 0.0786\n",
            "Epoch [10/10], Step [900/3079], Loss: 0.0221\n",
            "Epoch [10/10], Step [1000/3079], Loss: 0.0133\n",
            "Epoch [10/10], Step [1100/3079], Loss: 0.0396\n",
            "Epoch [10/10], Step [1200/3079], Loss: 0.0952\n",
            "Epoch [10/10], Step [1300/3079], Loss: 0.0136\n",
            "Epoch [10/10], Step [1400/3079], Loss: 0.0162\n",
            "Epoch [10/10], Step [1500/3079], Loss: 0.0288\n",
            "Epoch [10/10], Step [1600/3079], Loss: 0.0312\n",
            "Epoch [10/10], Step [1700/3079], Loss: 0.2160\n",
            "Epoch [10/10], Step [1800/3079], Loss: 0.1937\n",
            "Epoch [10/10], Step [1900/3079], Loss: 0.1088\n",
            "Epoch [10/10], Step [2000/3079], Loss: 0.0065\n",
            "Epoch [10/10], Step [2100/3079], Loss: 0.0142\n",
            "Epoch [10/10], Step [2200/3079], Loss: 0.2574\n",
            "Epoch [10/10], Step [2300/3079], Loss: 0.0694\n",
            "Epoch [10/10], Step [2400/3079], Loss: 0.0668\n",
            "Epoch [10/10], Step [2500/3079], Loss: 0.0033\n",
            "Epoch [10/10], Step [2600/3079], Loss: 0.2126\n",
            "Epoch [10/10], Step [2700/3079], Loss: 0.0038\n",
            "Epoch [10/10], Step [2800/3079], Loss: 0.1225\n",
            "Epoch [10/10], Step [2900/3079], Loss: 0.0126\n",
            "Epoch [10/10], Step [3000/3079], Loss: 0.0094\n"
          ]
        },
        {
          "output_type": "stream",
          "name": "stderr",
          "text": [
            "2023-12-09 00:07:24,114 - root - INFO - Accuracy: 97.63%\n",
            "2023-12-09 00:07:24,116 - root - INFO - Precision: 0.9767\n",
            "2023-12-09 00:07:24,116 - root - INFO - Recall: 0.9763\n",
            "2023-12-09 00:07:24,117 - root - INFO - F1 Score: 0.9750\n"
          ]
        },
        {
          "output_type": "stream",
          "name": "stdout",
          "text": [
            "FOLD 1\n",
            "--------------------------------\n",
            "AttentionLSTM(\n",
            "  (lstm): LSTM(1, 128, num_layers=2, batch_first=True)\n",
            "  (attention): SelfAttention(\n",
            "    (query): Linear(in_features=128, out_features=128, bias=True)\n",
            "    (key): Linear(in_features=128, out_features=128, bias=True)\n",
            "    (value): Linear(in_features=128, out_features=128, bias=True)\n",
            "  )\n",
            "  (fc): Linear(in_features=128, out_features=5, bias=True)\n",
            ")\n",
            "Epoch [1/10], Step [100/3079], Loss: 0.8364\n",
            "Epoch [1/10], Step [200/3079], Loss: 0.7051\n",
            "Epoch [1/10], Step [300/3079], Loss: 0.5107\n",
            "Epoch [1/10], Step [400/3079], Loss: 0.7949\n",
            "Epoch [1/10], Step [500/3079], Loss: 0.4158\n",
            "Epoch [1/10], Step [600/3079], Loss: 0.4679\n",
            "Epoch [1/10], Step [700/3079], Loss: 0.4089\n",
            "Epoch [1/10], Step [800/3079], Loss: 0.8244\n",
            "Epoch [1/10], Step [900/3079], Loss: 0.6881\n",
            "Epoch [1/10], Step [1000/3079], Loss: 0.4716\n",
            "Epoch [1/10], Step [1100/3079], Loss: 0.6479\n",
            "Epoch [1/10], Step [1200/3079], Loss: 0.7135\n",
            "Epoch [1/10], Step [1300/3079], Loss: 0.4637\n",
            "Epoch [1/10], Step [1400/3079], Loss: 0.6478\n",
            "Epoch [1/10], Step [1500/3079], Loss: 0.2282\n",
            "Epoch [1/10], Step [1600/3079], Loss: 0.5136\n",
            "Epoch [1/10], Step [1700/3079], Loss: 0.3191\n",
            "Epoch [1/10], Step [1800/3079], Loss: 0.4911\n",
            "Epoch [1/10], Step [1900/3079], Loss: 0.3041\n",
            "Epoch [1/10], Step [2000/3079], Loss: 0.2502\n",
            "Epoch [1/10], Step [2100/3079], Loss: 0.2248\n",
            "Epoch [1/10], Step [2200/3079], Loss: 0.2547\n",
            "Epoch [1/10], Step [2300/3079], Loss: 0.2280\n",
            "Epoch [1/10], Step [2400/3079], Loss: 0.3348\n",
            "Epoch [1/10], Step [2500/3079], Loss: 0.3655\n",
            "Epoch [1/10], Step [2600/3079], Loss: 0.2630\n",
            "Epoch [1/10], Step [2700/3079], Loss: 0.3391\n",
            "Epoch [1/10], Step [2800/3079], Loss: 0.3346\n",
            "Epoch [1/10], Step [2900/3079], Loss: 0.3341\n",
            "Epoch [1/10], Step [3000/3079], Loss: 0.3478\n"
          ]
        },
        {
          "output_type": "stream",
          "name": "stderr",
          "text": [
            "/usr/local/lib/python3.10/dist-packages/sklearn/metrics/_classification.py:1344: UndefinedMetricWarning: Precision is ill-defined and being set to 0.0 in labels with no predicted samples. Use `zero_division` parameter to control this behavior.\n",
            "  _warn_prf(average, modifier, msg_start, len(result))\n",
            "2023-12-09 00:07:40,593 - root - INFO - Accuracy: 91.27%\n",
            "2023-12-09 00:07:40,594 - root - INFO - Precision: 0.9022\n",
            "2023-12-09 00:07:40,595 - root - INFO - Recall: 0.9127\n",
            "2023-12-09 00:07:40,596 - root - INFO - F1 Score: 0.8964\n"
          ]
        },
        {
          "output_type": "stream",
          "name": "stdout",
          "text": [
            "Epoch [2/10], Step [100/3079], Loss: 0.3256\n",
            "Epoch [2/10], Step [200/3079], Loss: 0.3813\n",
            "Epoch [2/10], Step [300/3079], Loss: 0.2962\n",
            "Epoch [2/10], Step [400/3079], Loss: 0.1232\n",
            "Epoch [2/10], Step [500/3079], Loss: 0.2212\n",
            "Epoch [2/10], Step [600/3079], Loss: 0.6080\n",
            "Epoch [2/10], Step [700/3079], Loss: 0.3893\n",
            "Epoch [2/10], Step [800/3079], Loss: 0.2271\n",
            "Epoch [2/10], Step [900/3079], Loss: 0.2009\n",
            "Epoch [2/10], Step [1000/3079], Loss: 0.3585\n",
            "Epoch [2/10], Step [1100/3079], Loss: 0.3424\n",
            "Epoch [2/10], Step [1200/3079], Loss: 0.1266\n",
            "Epoch [2/10], Step [1300/3079], Loss: 0.1183\n",
            "Epoch [2/10], Step [1400/3079], Loss: 0.0682\n",
            "Epoch [2/10], Step [1500/3079], Loss: 0.2665\n",
            "Epoch [2/10], Step [1600/3079], Loss: 0.0345\n",
            "Epoch [2/10], Step [1700/3079], Loss: 0.2373\n",
            "Epoch [2/10], Step [1800/3079], Loss: 0.1029\n",
            "Epoch [2/10], Step [1900/3079], Loss: 0.0681\n",
            "Epoch [2/10], Step [2000/3079], Loss: 0.0268\n",
            "Epoch [2/10], Step [2100/3079], Loss: 0.1393\n",
            "Epoch [2/10], Step [2200/3079], Loss: 0.4025\n",
            "Epoch [2/10], Step [2300/3079], Loss: 0.4299\n",
            "Epoch [2/10], Step [2400/3079], Loss: 0.0906\n",
            "Epoch [2/10], Step [2500/3079], Loss: 0.2286\n",
            "Epoch [2/10], Step [2600/3079], Loss: 0.1190\n",
            "Epoch [2/10], Step [2700/3079], Loss: 0.1108\n",
            "Epoch [2/10], Step [2800/3079], Loss: 0.8676\n",
            "Epoch [2/10], Step [2900/3079], Loss: 0.1167\n",
            "Epoch [2/10], Step [3000/3079], Loss: 0.1209\n"
          ]
        },
        {
          "output_type": "stream",
          "name": "stderr",
          "text": [
            "2023-12-09 00:07:57,123 - root - INFO - Accuracy: 93.61%\n",
            "2023-12-09 00:07:57,124 - root - INFO - Precision: 0.9342\n",
            "2023-12-09 00:07:57,125 - root - INFO - Recall: 0.9361\n",
            "2023-12-09 00:07:57,126 - root - INFO - F1 Score: 0.9239\n"
          ]
        },
        {
          "output_type": "stream",
          "name": "stdout",
          "text": [
            "Epoch [3/10], Step [100/3079], Loss: 0.5035\n",
            "Epoch [3/10], Step [200/3079], Loss: 0.2231\n",
            "Epoch [3/10], Step [300/3079], Loss: 0.2705\n",
            "Epoch [3/10], Step [400/3079], Loss: 0.0439\n",
            "Epoch [3/10], Step [500/3079], Loss: 0.2821\n",
            "Epoch [3/10], Step [600/3079], Loss: 0.0383\n",
            "Epoch [3/10], Step [700/3079], Loss: 0.1671\n",
            "Epoch [3/10], Step [800/3079], Loss: 0.3237\n",
            "Epoch [3/10], Step [900/3079], Loss: 0.3221\n",
            "Epoch [3/10], Step [1000/3079], Loss: 0.0638\n",
            "Epoch [3/10], Step [1100/3079], Loss: 0.1653\n",
            "Epoch [3/10], Step [1200/3079], Loss: 0.0607\n",
            "Epoch [3/10], Step [1300/3079], Loss: 0.0710\n",
            "Epoch [3/10], Step [1400/3079], Loss: 0.1827\n",
            "Epoch [3/10], Step [1500/3079], Loss: 0.0237\n",
            "Epoch [3/10], Step [1600/3079], Loss: 0.3266\n",
            "Epoch [3/10], Step [1700/3079], Loss: 0.1178\n",
            "Epoch [3/10], Step [1800/3079], Loss: 0.2838\n",
            "Epoch [3/10], Step [1900/3079], Loss: 0.3038\n",
            "Epoch [3/10], Step [2000/3079], Loss: 0.0641\n",
            "Epoch [3/10], Step [2100/3079], Loss: 0.0504\n",
            "Epoch [3/10], Step [2200/3079], Loss: 0.5502\n",
            "Epoch [3/10], Step [2300/3079], Loss: 0.0265\n",
            "Epoch [3/10], Step [2400/3079], Loss: 0.2335\n",
            "Epoch [3/10], Step [2500/3079], Loss: 0.0616\n",
            "Epoch [3/10], Step [2600/3079], Loss: 0.3471\n",
            "Epoch [3/10], Step [2700/3079], Loss: 0.0394\n",
            "Epoch [3/10], Step [2800/3079], Loss: 0.1709\n",
            "Epoch [3/10], Step [2900/3079], Loss: 0.2230\n",
            "Epoch [3/10], Step [3000/3079], Loss: 0.1074\n"
          ]
        },
        {
          "output_type": "stream",
          "name": "stderr",
          "text": [
            "2023-12-09 00:08:13,710 - root - INFO - Accuracy: 96.05%\n",
            "2023-12-09 00:08:13,711 - root - INFO - Precision: 0.9592\n",
            "2023-12-09 00:08:13,713 - root - INFO - Recall: 0.9605\n",
            "2023-12-09 00:08:13,714 - root - INFO - F1 Score: 0.9594\n"
          ]
        },
        {
          "output_type": "stream",
          "name": "stdout",
          "text": [
            "Epoch [4/10], Step [100/3079], Loss: 0.1270\n",
            "Epoch [4/10], Step [200/3079], Loss: 0.0808\n",
            "Epoch [4/10], Step [300/3079], Loss: 0.0389\n",
            "Epoch [4/10], Step [400/3079], Loss: 0.0638\n",
            "Epoch [4/10], Step [500/3079], Loss: 0.1859\n",
            "Epoch [4/10], Step [600/3079], Loss: 0.2407\n",
            "Epoch [4/10], Step [700/3079], Loss: 0.1867\n",
            "Epoch [4/10], Step [800/3079], Loss: 0.0140\n",
            "Epoch [4/10], Step [900/3079], Loss: 0.2669\n",
            "Epoch [4/10], Step [1000/3079], Loss: 0.1040\n",
            "Epoch [4/10], Step [1100/3079], Loss: 0.1541\n",
            "Epoch [4/10], Step [1200/3079], Loss: 0.1908\n",
            "Epoch [4/10], Step [1300/3079], Loss: 0.1398\n",
            "Epoch [4/10], Step [1400/3079], Loss: 0.0391\n",
            "Epoch [4/10], Step [1500/3079], Loss: 0.0196\n",
            "Epoch [4/10], Step [1600/3079], Loss: 0.1228\n",
            "Epoch [4/10], Step [1700/3079], Loss: 0.0856\n",
            "Epoch [4/10], Step [1800/3079], Loss: 0.0701\n",
            "Epoch [4/10], Step [1900/3079], Loss: 0.1222\n",
            "Epoch [4/10], Step [2000/3079], Loss: 0.0822\n",
            "Epoch [4/10], Step [2100/3079], Loss: 0.0302\n",
            "Epoch [4/10], Step [2200/3079], Loss: 0.1305\n",
            "Epoch [4/10], Step [2300/3079], Loss: 0.1500\n",
            "Epoch [4/10], Step [2400/3079], Loss: 0.1611\n",
            "Epoch [4/10], Step [2500/3079], Loss: 0.0157\n",
            "Epoch [4/10], Step [2600/3079], Loss: 0.0696\n",
            "Epoch [4/10], Step [2700/3079], Loss: 0.0959\n",
            "Epoch [4/10], Step [2800/3079], Loss: 0.1477\n",
            "Epoch [4/10], Step [2900/3079], Loss: 0.0500\n",
            "Epoch [4/10], Step [3000/3079], Loss: 0.1542\n"
          ]
        },
        {
          "output_type": "stream",
          "name": "stderr",
          "text": [
            "2023-12-09 00:08:30,294 - root - INFO - Accuracy: 96.45%\n",
            "2023-12-09 00:08:30,296 - root - INFO - Precision: 0.9640\n",
            "2023-12-09 00:08:30,297 - root - INFO - Recall: 0.9645\n",
            "2023-12-09 00:08:30,298 - root - INFO - F1 Score: 0.9600\n"
          ]
        },
        {
          "output_type": "stream",
          "name": "stdout",
          "text": [
            "Epoch [5/10], Step [100/3079], Loss: 0.0331\n",
            "Epoch [5/10], Step [200/3079], Loss: 0.1332\n",
            "Epoch [5/10], Step [300/3079], Loss: 0.2526\n",
            "Epoch [5/10], Step [400/3079], Loss: 0.1323\n",
            "Epoch [5/10], Step [500/3079], Loss: 0.0163\n",
            "Epoch [5/10], Step [600/3079], Loss: 0.2575\n",
            "Epoch [5/10], Step [700/3079], Loss: 0.1226\n",
            "Epoch [5/10], Step [800/3079], Loss: 0.1183\n",
            "Epoch [5/10], Step [900/3079], Loss: 0.2718\n",
            "Epoch [5/10], Step [1000/3079], Loss: 0.1681\n",
            "Epoch [5/10], Step [1100/3079], Loss: 0.1730\n",
            "Epoch [5/10], Step [1200/3079], Loss: 0.2645\n",
            "Epoch [5/10], Step [1300/3079], Loss: 0.0939\n",
            "Epoch [5/10], Step [1400/3079], Loss: 0.0308\n",
            "Epoch [5/10], Step [1500/3079], Loss: 0.0414\n",
            "Epoch [5/10], Step [1600/3079], Loss: 0.0649\n",
            "Epoch [5/10], Step [1700/3079], Loss: 0.0542\n",
            "Epoch [5/10], Step [1800/3079], Loss: 0.0113\n",
            "Epoch [5/10], Step [1900/3079], Loss: 0.1758\n",
            "Epoch [5/10], Step [2000/3079], Loss: 0.1199\n",
            "Epoch [5/10], Step [2100/3079], Loss: 0.2451\n",
            "Epoch [5/10], Step [2200/3079], Loss: 0.1804\n",
            "Epoch [5/10], Step [2300/3079], Loss: 0.0071\n",
            "Epoch [5/10], Step [2400/3079], Loss: 0.0242\n",
            "Epoch [5/10], Step [2500/3079], Loss: 0.2195\n",
            "Epoch [5/10], Step [2600/3079], Loss: 0.0865\n",
            "Epoch [5/10], Step [2700/3079], Loss: 0.0431\n",
            "Epoch [5/10], Step [2800/3079], Loss: 0.0903\n",
            "Epoch [5/10], Step [2900/3079], Loss: 0.0345\n",
            "Epoch [5/10], Step [3000/3079], Loss: 0.0214\n"
          ]
        },
        {
          "output_type": "stream",
          "name": "stderr",
          "text": [
            "2023-12-09 00:08:46,888 - root - INFO - Accuracy: 96.79%\n",
            "2023-12-09 00:08:46,889 - root - INFO - Precision: 0.9672\n",
            "2023-12-09 00:08:46,890 - root - INFO - Recall: 0.9679\n",
            "2023-12-09 00:08:46,891 - root - INFO - F1 Score: 0.9650\n"
          ]
        },
        {
          "output_type": "stream",
          "name": "stdout",
          "text": [
            "Epoch [6/10], Step [100/3079], Loss: 0.1144\n",
            "Epoch [6/10], Step [200/3079], Loss: 0.1209\n",
            "Epoch [6/10], Step [300/3079], Loss: 0.0570\n",
            "Epoch [6/10], Step [400/3079], Loss: 0.0276\n",
            "Epoch [6/10], Step [500/3079], Loss: 0.0027\n",
            "Epoch [6/10], Step [600/3079], Loss: 0.3225\n",
            "Epoch [6/10], Step [700/3079], Loss: 0.0524\n",
            "Epoch [6/10], Step [800/3079], Loss: 0.0971\n",
            "Epoch [6/10], Step [900/3079], Loss: 0.0220\n",
            "Epoch [6/10], Step [1000/3079], Loss: 0.1749\n",
            "Epoch [6/10], Step [1100/3079], Loss: 0.0079\n",
            "Epoch [6/10], Step [1200/3079], Loss: 0.0506\n",
            "Epoch [6/10], Step [1300/3079], Loss: 0.0226\n",
            "Epoch [6/10], Step [1400/3079], Loss: 0.2133\n",
            "Epoch [6/10], Step [1500/3079], Loss: 0.1413\n",
            "Epoch [6/10], Step [1600/3079], Loss: 0.2427\n",
            "Epoch [6/10], Step [1700/3079], Loss: 0.0349\n",
            "Epoch [6/10], Step [1800/3079], Loss: 0.0689\n",
            "Epoch [6/10], Step [1900/3079], Loss: 0.0557\n",
            "Epoch [6/10], Step [2000/3079], Loss: 0.0090\n",
            "Epoch [6/10], Step [2100/3079], Loss: 0.0778\n",
            "Epoch [6/10], Step [2200/3079], Loss: 0.3368\n",
            "Epoch [6/10], Step [2300/3079], Loss: 0.1866\n",
            "Epoch [6/10], Step [2400/3079], Loss: 0.0242\n",
            "Epoch [6/10], Step [2500/3079], Loss: 0.1266\n",
            "Epoch [6/10], Step [2600/3079], Loss: 0.2470\n",
            "Epoch [6/10], Step [2700/3079], Loss: 0.0354\n",
            "Epoch [6/10], Step [2800/3079], Loss: 0.3867\n",
            "Epoch [6/10], Step [2900/3079], Loss: 0.1907\n",
            "Epoch [6/10], Step [3000/3079], Loss: 0.2339\n"
          ]
        },
        {
          "output_type": "stream",
          "name": "stderr",
          "text": [
            "2023-12-09 00:09:03,488 - root - INFO - Accuracy: 97.86%\n",
            "2023-12-09 00:09:03,489 - root - INFO - Precision: 0.9783\n",
            "2023-12-09 00:09:03,490 - root - INFO - Recall: 0.9786\n",
            "2023-12-09 00:09:03,491 - root - INFO - F1 Score: 0.9773\n"
          ]
        },
        {
          "output_type": "stream",
          "name": "stdout",
          "text": [
            "Epoch [7/10], Step [100/3079], Loss: 0.0037\n",
            "Epoch [7/10], Step [200/3079], Loss: 0.0094\n",
            "Epoch [7/10], Step [300/3079], Loss: 0.0236\n",
            "Epoch [7/10], Step [400/3079], Loss: 0.0271\n",
            "Epoch [7/10], Step [500/3079], Loss: 0.1155\n",
            "Epoch [7/10], Step [600/3079], Loss: 0.1332\n",
            "Epoch [7/10], Step [700/3079], Loss: 0.0196\n",
            "Epoch [7/10], Step [800/3079], Loss: 0.0138\n",
            "Epoch [7/10], Step [900/3079], Loss: 0.0645\n",
            "Epoch [7/10], Step [1000/3079], Loss: 0.0951\n",
            "Epoch [7/10], Step [1100/3079], Loss: 0.0166\n",
            "Epoch [7/10], Step [1200/3079], Loss: 0.0099\n",
            "Epoch [7/10], Step [1300/3079], Loss: 0.1161\n",
            "Epoch [7/10], Step [1400/3079], Loss: 0.2766\n",
            "Epoch [7/10], Step [1500/3079], Loss: 0.0062\n",
            "Epoch [7/10], Step [1600/3079], Loss: 0.1375\n",
            "Epoch [7/10], Step [1700/3079], Loss: 0.0080\n",
            "Epoch [7/10], Step [1800/3079], Loss: 0.0652\n",
            "Epoch [7/10], Step [1900/3079], Loss: 0.0047\n",
            "Epoch [7/10], Step [2000/3079], Loss: 0.0279\n",
            "Epoch [7/10], Step [2100/3079], Loss: 0.0239\n",
            "Epoch [7/10], Step [2200/3079], Loss: 0.0636\n",
            "Epoch [7/10], Step [2300/3079], Loss: 0.0248\n",
            "Epoch [7/10], Step [2400/3079], Loss: 0.0125\n",
            "Epoch [7/10], Step [2500/3079], Loss: 0.1904\n",
            "Epoch [7/10], Step [2600/3079], Loss: 0.0956\n",
            "Epoch [7/10], Step [2700/3079], Loss: 0.1797\n",
            "Epoch [7/10], Step [2800/3079], Loss: 0.1503\n",
            "Epoch [7/10], Step [2900/3079], Loss: 0.0335\n",
            "Epoch [7/10], Step [3000/3079], Loss: 0.0064\n"
          ]
        },
        {
          "output_type": "stream",
          "name": "stderr",
          "text": [
            "2023-12-09 00:09:20,115 - root - INFO - Accuracy: 97.22%\n",
            "2023-12-09 00:09:20,117 - root - INFO - Precision: 0.9719\n",
            "2023-12-09 00:09:20,117 - root - INFO - Recall: 0.9722\n",
            "2023-12-09 00:09:20,118 - root - INFO - F1 Score: 0.9719\n"
          ]
        },
        {
          "output_type": "stream",
          "name": "stdout",
          "text": [
            "Epoch [8/10], Step [100/3079], Loss: 0.1640\n",
            "Epoch [8/10], Step [200/3079], Loss: 0.0110\n",
            "Epoch [8/10], Step [300/3079], Loss: 0.0058\n",
            "Epoch [8/10], Step [400/3079], Loss: 0.0176\n",
            "Epoch [8/10], Step [500/3079], Loss: 0.3754\n",
            "Epoch [8/10], Step [600/3079], Loss: 0.0110\n",
            "Epoch [8/10], Step [700/3079], Loss: 0.0695\n",
            "Epoch [8/10], Step [800/3079], Loss: 0.0259\n",
            "Epoch [8/10], Step [900/3079], Loss: 0.0332\n",
            "Epoch [8/10], Step [1000/3079], Loss: 0.1252\n",
            "Epoch [8/10], Step [1100/3079], Loss: 0.0170\n",
            "Epoch [8/10], Step [1200/3079], Loss: 0.2433\n",
            "Epoch [8/10], Step [1300/3079], Loss: 0.1702\n",
            "Epoch [8/10], Step [1400/3079], Loss: 0.0052\n",
            "Epoch [8/10], Step [1500/3079], Loss: 0.0885\n",
            "Epoch [8/10], Step [1600/3079], Loss: 0.0370\n",
            "Epoch [8/10], Step [1700/3079], Loss: 0.0288\n",
            "Epoch [8/10], Step [1800/3079], Loss: 0.0266\n",
            "Epoch [8/10], Step [1900/3079], Loss: 0.0109\n",
            "Epoch [8/10], Step [2000/3079], Loss: 0.0725\n",
            "Epoch [8/10], Step [2100/3079], Loss: 0.0224\n",
            "Epoch [8/10], Step [2200/3079], Loss: 0.0038\n",
            "Epoch [8/10], Step [2300/3079], Loss: 0.2182\n",
            "Epoch [8/10], Step [2400/3079], Loss: 0.1098\n",
            "Epoch [8/10], Step [2500/3079], Loss: 0.0342\n",
            "Epoch [8/10], Step [2600/3079], Loss: 0.0661\n",
            "Epoch [8/10], Step [2700/3079], Loss: 0.1753\n",
            "Epoch [8/10], Step [2800/3079], Loss: 0.3258\n",
            "Epoch [8/10], Step [2900/3079], Loss: 0.0216\n",
            "Epoch [8/10], Step [3000/3079], Loss: 0.0040\n"
          ]
        },
        {
          "output_type": "stream",
          "name": "stderr",
          "text": [
            "2023-12-09 00:09:36,561 - root - INFO - Accuracy: 97.73%\n",
            "2023-12-09 00:09:36,562 - root - INFO - Precision: 0.9774\n",
            "2023-12-09 00:09:36,563 - root - INFO - Recall: 0.9773\n",
            "2023-12-09 00:09:36,564 - root - INFO - F1 Score: 0.9769\n"
          ]
        },
        {
          "output_type": "stream",
          "name": "stdout",
          "text": [
            "Epoch [9/10], Step [100/3079], Loss: 0.2524\n",
            "Epoch [9/10], Step [200/3079], Loss: 0.0275\n",
            "Epoch [9/10], Step [300/3079], Loss: 0.1205\n",
            "Epoch [9/10], Step [400/3079], Loss: 0.0095\n",
            "Epoch [9/10], Step [500/3079], Loss: 0.0159\n",
            "Epoch [9/10], Step [600/3079], Loss: 0.0099\n",
            "Epoch [9/10], Step [700/3079], Loss: 0.0891\n",
            "Epoch [9/10], Step [800/3079], Loss: 0.0099\n",
            "Epoch [9/10], Step [900/3079], Loss: 0.0243\n",
            "Epoch [9/10], Step [1000/3079], Loss: 0.0679\n",
            "Epoch [9/10], Step [1100/3079], Loss: 0.1057\n",
            "Epoch [9/10], Step [1200/3079], Loss: 0.0655\n",
            "Epoch [9/10], Step [1300/3079], Loss: 0.1283\n",
            "Epoch [9/10], Step [1400/3079], Loss: 0.0210\n",
            "Epoch [9/10], Step [1500/3079], Loss: 0.1322\n",
            "Epoch [9/10], Step [1600/3079], Loss: 0.0312\n",
            "Epoch [9/10], Step [1700/3079], Loss: 0.1102\n",
            "Epoch [9/10], Step [1800/3079], Loss: 0.0148\n",
            "Epoch [9/10], Step [1900/3079], Loss: 0.0115\n",
            "Epoch [9/10], Step [2000/3079], Loss: 0.0017\n",
            "Epoch [9/10], Step [2100/3079], Loss: 0.0963\n",
            "Epoch [9/10], Step [2200/3079], Loss: 0.2084\n",
            "Epoch [9/10], Step [2300/3079], Loss: 0.0193\n",
            "Epoch [9/10], Step [2400/3079], Loss: 0.0719\n",
            "Epoch [9/10], Step [2500/3079], Loss: 0.0196\n",
            "Epoch [9/10], Step [2600/3079], Loss: 0.0096\n",
            "Epoch [9/10], Step [2700/3079], Loss: 0.0976\n",
            "Epoch [9/10], Step [2800/3079], Loss: 0.0049\n",
            "Epoch [9/10], Step [2900/3079], Loss: 0.0053\n",
            "Epoch [9/10], Step [3000/3079], Loss: 0.1448\n"
          ]
        },
        {
          "output_type": "stream",
          "name": "stderr",
          "text": [
            "2023-12-09 00:09:53,146 - root - INFO - Accuracy: 97.82%\n",
            "2023-12-09 00:09:53,147 - root - INFO - Precision: 0.9778\n",
            "2023-12-09 00:09:53,148 - root - INFO - Recall: 0.9782\n",
            "2023-12-09 00:09:53,151 - root - INFO - F1 Score: 0.9776\n"
          ]
        },
        {
          "output_type": "stream",
          "name": "stdout",
          "text": [
            "Epoch [10/10], Step [100/3079], Loss: 0.1866\n",
            "Epoch [10/10], Step [200/3079], Loss: 0.0072\n",
            "Epoch [10/10], Step [300/3079], Loss: 0.0091\n",
            "Epoch [10/10], Step [400/3079], Loss: 0.0737\n",
            "Epoch [10/10], Step [500/3079], Loss: 0.0414\n",
            "Epoch [10/10], Step [600/3079], Loss: 0.0552\n",
            "Epoch [10/10], Step [700/3079], Loss: 0.1432\n",
            "Epoch [10/10], Step [800/3079], Loss: 0.0189\n",
            "Epoch [10/10], Step [900/3079], Loss: 0.1092\n",
            "Epoch [10/10], Step [1000/3079], Loss: 0.0761\n",
            "Epoch [10/10], Step [1100/3079], Loss: 0.1452\n",
            "Epoch [10/10], Step [1200/3079], Loss: 0.0293\n",
            "Epoch [10/10], Step [1300/3079], Loss: 0.1324\n",
            "Epoch [10/10], Step [1400/3079], Loss: 0.0363\n",
            "Epoch [10/10], Step [1500/3079], Loss: 0.2066\n",
            "Epoch [10/10], Step [1600/3079], Loss: 0.2899\n",
            "Epoch [10/10], Step [1700/3079], Loss: 0.0486\n",
            "Epoch [10/10], Step [1800/3079], Loss: 0.0663\n",
            "Epoch [10/10], Step [1900/3079], Loss: 0.1948\n",
            "Epoch [10/10], Step [2000/3079], Loss: 0.0029\n",
            "Epoch [10/10], Step [2100/3079], Loss: 0.0394\n",
            "Epoch [10/10], Step [2200/3079], Loss: 0.0094\n",
            "Epoch [10/10], Step [2300/3079], Loss: 0.1871\n",
            "Epoch [10/10], Step [2400/3079], Loss: 0.0408\n",
            "Epoch [10/10], Step [2500/3079], Loss: 0.0206\n",
            "Epoch [10/10], Step [2600/3079], Loss: 0.2933\n",
            "Epoch [10/10], Step [2700/3079], Loss: 0.0076\n",
            "Epoch [10/10], Step [2800/3079], Loss: 0.2345\n",
            "Epoch [10/10], Step [2900/3079], Loss: 0.0042\n",
            "Epoch [10/10], Step [3000/3079], Loss: 0.1684\n"
          ]
        },
        {
          "output_type": "stream",
          "name": "stderr",
          "text": [
            "2023-12-09 00:10:09,792 - root - INFO - Accuracy: 97.75%\n",
            "2023-12-09 00:10:09,793 - root - INFO - Precision: 0.9775\n",
            "2023-12-09 00:10:09,794 - root - INFO - Recall: 0.9775\n",
            "2023-12-09 00:10:09,794 - root - INFO - F1 Score: 0.9769\n"
          ]
        },
        {
          "output_type": "stream",
          "name": "stdout",
          "text": [
            "FOLD 2\n",
            "--------------------------------\n",
            "AttentionLSTM(\n",
            "  (lstm): LSTM(1, 128, num_layers=2, batch_first=True)\n",
            "  (attention): SelfAttention(\n",
            "    (query): Linear(in_features=128, out_features=128, bias=True)\n",
            "    (key): Linear(in_features=128, out_features=128, bias=True)\n",
            "    (value): Linear(in_features=128, out_features=128, bias=True)\n",
            "  )\n",
            "  (fc): Linear(in_features=128, out_features=5, bias=True)\n",
            ")\n",
            "Epoch [1/10], Step [100/3079], Loss: 0.7178\n",
            "Epoch [1/10], Step [200/3079], Loss: 0.5819\n",
            "Epoch [1/10], Step [300/3079], Loss: 0.5072\n",
            "Epoch [1/10], Step [400/3079], Loss: 0.6595\n",
            "Epoch [1/10], Step [500/3079], Loss: 0.5950\n",
            "Epoch [1/10], Step [600/3079], Loss: 0.4879\n",
            "Epoch [1/10], Step [700/3079], Loss: 0.4085\n",
            "Epoch [1/10], Step [800/3079], Loss: 0.5711\n",
            "Epoch [1/10], Step [900/3079], Loss: 0.3968\n",
            "Epoch [1/10], Step [1000/3079], Loss: 0.3723\n",
            "Epoch [1/10], Step [1100/3079], Loss: 0.4287\n",
            "Epoch [1/10], Step [1200/3079], Loss: 0.2328\n",
            "Epoch [1/10], Step [1300/3079], Loss: 0.3846\n",
            "Epoch [1/10], Step [1400/3079], Loss: 0.2018\n",
            "Epoch [1/10], Step [1500/3079], Loss: 0.7290\n",
            "Epoch [1/10], Step [1600/3079], Loss: 0.2206\n",
            "Epoch [1/10], Step [1700/3079], Loss: 0.1007\n",
            "Epoch [1/10], Step [1800/3079], Loss: 0.3026\n",
            "Epoch [1/10], Step [1900/3079], Loss: 0.5280\n",
            "Epoch [1/10], Step [2000/3079], Loss: 0.4349\n",
            "Epoch [1/10], Step [2100/3079], Loss: 0.2367\n",
            "Epoch [1/10], Step [2200/3079], Loss: 0.3351\n",
            "Epoch [1/10], Step [2300/3079], Loss: 0.3034\n",
            "Epoch [1/10], Step [2400/3079], Loss: 0.4907\n",
            "Epoch [1/10], Step [2500/3079], Loss: 0.4363\n",
            "Epoch [1/10], Step [2600/3079], Loss: 0.3291\n",
            "Epoch [1/10], Step [2700/3079], Loss: 0.5434\n",
            "Epoch [1/10], Step [2800/3079], Loss: 0.5186\n",
            "Epoch [1/10], Step [2900/3079], Loss: 0.2503\n",
            "Epoch [1/10], Step [3000/3079], Loss: 0.0761\n"
          ]
        },
        {
          "output_type": "stream",
          "name": "stderr",
          "text": [
            "2023-12-09 00:10:26,298 - root - INFO - Accuracy: 93.69%\n",
            "2023-12-09 00:10:26,299 - root - INFO - Precision: 0.9307\n",
            "2023-12-09 00:10:26,300 - root - INFO - Recall: 0.9369\n",
            "2023-12-09 00:10:26,301 - root - INFO - F1 Score: 0.9282\n"
          ]
        },
        {
          "output_type": "stream",
          "name": "stdout",
          "text": [
            "Epoch [2/10], Step [100/3079], Loss: 0.5665\n",
            "Epoch [2/10], Step [200/3079], Loss: 0.1729\n",
            "Epoch [2/10], Step [300/3079], Loss: 0.0294\n",
            "Epoch [2/10], Step [400/3079], Loss: 0.1240\n",
            "Epoch [2/10], Step [500/3079], Loss: 0.0565\n",
            "Epoch [2/10], Step [600/3079], Loss: 0.1302\n",
            "Epoch [2/10], Step [700/3079], Loss: 0.1428\n",
            "Epoch [2/10], Step [800/3079], Loss: 0.2831\n",
            "Epoch [2/10], Step [900/3079], Loss: 0.1354\n",
            "Epoch [2/10], Step [1000/3079], Loss: 0.4648\n",
            "Epoch [2/10], Step [1100/3079], Loss: 0.2539\n",
            "Epoch [2/10], Step [1200/3079], Loss: 0.3742\n",
            "Epoch [2/10], Step [1300/3079], Loss: 0.1874\n",
            "Epoch [2/10], Step [1400/3079], Loss: 0.3027\n",
            "Epoch [2/10], Step [1500/3079], Loss: 0.1087\n",
            "Epoch [2/10], Step [1600/3079], Loss: 0.3322\n",
            "Epoch [2/10], Step [1700/3079], Loss: 0.2094\n",
            "Epoch [2/10], Step [1800/3079], Loss: 0.1513\n",
            "Epoch [2/10], Step [1900/3079], Loss: 0.1522\n",
            "Epoch [2/10], Step [2000/3079], Loss: 0.0315\n",
            "Epoch [2/10], Step [2100/3079], Loss: 0.0710\n",
            "Epoch [2/10], Step [2200/3079], Loss: 0.0969\n",
            "Epoch [2/10], Step [2300/3079], Loss: 0.2728\n",
            "Epoch [2/10], Step [2400/3079], Loss: 0.0737\n",
            "Epoch [2/10], Step [2500/3079], Loss: 0.0780\n",
            "Epoch [2/10], Step [2600/3079], Loss: 0.1949\n",
            "Epoch [2/10], Step [2700/3079], Loss: 0.1092\n",
            "Epoch [2/10], Step [2800/3079], Loss: 0.0584\n",
            "Epoch [2/10], Step [2900/3079], Loss: 0.1998\n",
            "Epoch [2/10], Step [3000/3079], Loss: 0.0679\n"
          ]
        },
        {
          "output_type": "stream",
          "name": "stderr",
          "text": [
            "2023-12-09 00:10:42,894 - root - INFO - Accuracy: 94.59%\n",
            "2023-12-09 00:10:42,895 - root - INFO - Precision: 0.9440\n",
            "2023-12-09 00:10:42,896 - root - INFO - Recall: 0.9459\n",
            "2023-12-09 00:10:42,897 - root - INFO - F1 Score: 0.9370\n"
          ]
        },
        {
          "output_type": "stream",
          "name": "stdout",
          "text": [
            "Epoch [3/10], Step [100/3079], Loss: 0.0726\n",
            "Epoch [3/10], Step [200/3079], Loss: 0.1938\n",
            "Epoch [3/10], Step [300/3079], Loss: 0.0382\n",
            "Epoch [3/10], Step [400/3079], Loss: 0.1298\n",
            "Epoch [3/10], Step [500/3079], Loss: 0.1170\n",
            "Epoch [3/10], Step [600/3079], Loss: 0.2589\n",
            "Epoch [3/10], Step [700/3079], Loss: 0.1653\n",
            "Epoch [3/10], Step [800/3079], Loss: 0.1618\n",
            "Epoch [3/10], Step [900/3079], Loss: 0.0296\n",
            "Epoch [3/10], Step [1000/3079], Loss: 0.1475\n",
            "Epoch [3/10], Step [1100/3079], Loss: 0.2177\n",
            "Epoch [3/10], Step [1200/3079], Loss: 0.1992\n",
            "Epoch [3/10], Step [1300/3079], Loss: 0.4907\n",
            "Epoch [3/10], Step [1400/3079], Loss: 0.0370\n",
            "Epoch [3/10], Step [1500/3079], Loss: 0.0947\n",
            "Epoch [3/10], Step [1600/3079], Loss: 0.0377\n",
            "Epoch [3/10], Step [1700/3079], Loss: 0.0471\n",
            "Epoch [3/10], Step [1800/3079], Loss: 0.0276\n",
            "Epoch [3/10], Step [1900/3079], Loss: 0.2846\n",
            "Epoch [3/10], Step [2000/3079], Loss: 0.1497\n",
            "Epoch [3/10], Step [2100/3079], Loss: 0.3705\n",
            "Epoch [3/10], Step [2200/3079], Loss: 0.1891\n",
            "Epoch [3/10], Step [2300/3079], Loss: 0.0277\n",
            "Epoch [3/10], Step [2400/3079], Loss: 0.2216\n",
            "Epoch [3/10], Step [2500/3079], Loss: 0.0701\n",
            "Epoch [3/10], Step [2600/3079], Loss: 0.2004\n",
            "Epoch [3/10], Step [2700/3079], Loss: 0.0548\n",
            "Epoch [3/10], Step [2800/3079], Loss: 0.1051\n",
            "Epoch [3/10], Step [2900/3079], Loss: 0.0200\n",
            "Epoch [3/10], Step [3000/3079], Loss: 0.0738\n"
          ]
        },
        {
          "output_type": "stream",
          "name": "stderr",
          "text": [
            "2023-12-09 00:10:59,453 - root - INFO - Accuracy: 96.46%\n",
            "2023-12-09 00:10:59,454 - root - INFO - Precision: 0.9630\n",
            "2023-12-09 00:10:59,455 - root - INFO - Recall: 0.9646\n",
            "2023-12-09 00:10:59,456 - root - INFO - F1 Score: 0.9620\n"
          ]
        },
        {
          "output_type": "stream",
          "name": "stdout",
          "text": [
            "Epoch [4/10], Step [100/3079], Loss: 0.4524\n",
            "Epoch [4/10], Step [200/3079], Loss: 0.1568\n",
            "Epoch [4/10], Step [300/3079], Loss: 0.0598\n",
            "Epoch [4/10], Step [400/3079], Loss: 0.0851\n",
            "Epoch [4/10], Step [500/3079], Loss: 0.2747\n",
            "Epoch [4/10], Step [600/3079], Loss: 0.0357\n",
            "Epoch [4/10], Step [700/3079], Loss: 0.0294\n",
            "Epoch [4/10], Step [800/3079], Loss: 0.0423\n",
            "Epoch [4/10], Step [900/3079], Loss: 0.0268\n",
            "Epoch [4/10], Step [1000/3079], Loss: 0.0290\n",
            "Epoch [4/10], Step [1100/3079], Loss: 0.0810\n",
            "Epoch [4/10], Step [1200/3079], Loss: 0.0336\n",
            "Epoch [4/10], Step [1300/3079], Loss: 0.1391\n",
            "Epoch [4/10], Step [1400/3079], Loss: 0.1168\n",
            "Epoch [4/10], Step [1500/3079], Loss: 0.0233\n",
            "Epoch [4/10], Step [1600/3079], Loss: 0.0097\n",
            "Epoch [4/10], Step [1700/3079], Loss: 0.0142\n",
            "Epoch [4/10], Step [1800/3079], Loss: 0.0692\n",
            "Epoch [4/10], Step [1900/3079], Loss: 0.0324\n",
            "Epoch [4/10], Step [2000/3079], Loss: 0.0401\n",
            "Epoch [4/10], Step [2100/3079], Loss: 0.1009\n",
            "Epoch [4/10], Step [2200/3079], Loss: 0.1628\n",
            "Epoch [4/10], Step [2300/3079], Loss: 0.0792\n",
            "Epoch [4/10], Step [2400/3079], Loss: 0.0128\n",
            "Epoch [4/10], Step [2500/3079], Loss: 0.1763\n",
            "Epoch [4/10], Step [2600/3079], Loss: 0.0092\n",
            "Epoch [4/10], Step [2700/3079], Loss: 0.1596\n",
            "Epoch [4/10], Step [2800/3079], Loss: 0.3815\n",
            "Epoch [4/10], Step [2900/3079], Loss: 0.0582\n",
            "Epoch [4/10], Step [3000/3079], Loss: 0.2667\n"
          ]
        },
        {
          "output_type": "stream",
          "name": "stderr",
          "text": [
            "2023-12-09 00:11:16,064 - root - INFO - Accuracy: 96.96%\n",
            "2023-12-09 00:11:16,065 - root - INFO - Precision: 0.9684\n",
            "2023-12-09 00:11:16,066 - root - INFO - Recall: 0.9696\n",
            "2023-12-09 00:11:16,067 - root - INFO - F1 Score: 0.9676\n"
          ]
        },
        {
          "output_type": "stream",
          "name": "stdout",
          "text": [
            "Epoch [5/10], Step [100/3079], Loss: 0.1310\n",
            "Epoch [5/10], Step [200/3079], Loss: 0.1454\n",
            "Epoch [5/10], Step [300/3079], Loss: 0.0808\n",
            "Epoch [5/10], Step [400/3079], Loss: 0.0102\n",
            "Epoch [5/10], Step [500/3079], Loss: 0.0233\n",
            "Epoch [5/10], Step [600/3079], Loss: 0.0970\n",
            "Epoch [5/10], Step [700/3079], Loss: 0.0716\n",
            "Epoch [5/10], Step [800/3079], Loss: 0.0133\n",
            "Epoch [5/10], Step [900/3079], Loss: 0.1250\n",
            "Epoch [5/10], Step [1000/3079], Loss: 0.0781\n",
            "Epoch [5/10], Step [1100/3079], Loss: 0.0172\n",
            "Epoch [5/10], Step [1200/3079], Loss: 0.0633\n",
            "Epoch [5/10], Step [1300/3079], Loss: 0.0724\n",
            "Epoch [5/10], Step [1400/3079], Loss: 0.3359\n",
            "Epoch [5/10], Step [1500/3079], Loss: 0.0504\n",
            "Epoch [5/10], Step [1600/3079], Loss: 0.0316\n",
            "Epoch [5/10], Step [1700/3079], Loss: 0.0971\n",
            "Epoch [5/10], Step [1800/3079], Loss: 0.0169\n",
            "Epoch [5/10], Step [1900/3079], Loss: 0.0622\n",
            "Epoch [5/10], Step [2000/3079], Loss: 0.0903\n",
            "Epoch [5/10], Step [2100/3079], Loss: 0.0220\n",
            "Epoch [5/10], Step [2200/3079], Loss: 0.1770\n",
            "Epoch [5/10], Step [2300/3079], Loss: 0.2793\n",
            "Epoch [5/10], Step [2400/3079], Loss: 0.0379\n",
            "Epoch [5/10], Step [2500/3079], Loss: 0.2244\n",
            "Epoch [5/10], Step [2600/3079], Loss: 0.0532\n",
            "Epoch [5/10], Step [2700/3079], Loss: 0.0813\n",
            "Epoch [5/10], Step [2800/3079], Loss: 0.4134\n",
            "Epoch [5/10], Step [2900/3079], Loss: 0.1446\n",
            "Epoch [5/10], Step [3000/3079], Loss: 0.1422\n"
          ]
        },
        {
          "output_type": "stream",
          "name": "stderr",
          "text": [
            "2023-12-09 00:11:32,679 - root - INFO - Accuracy: 96.77%\n",
            "2023-12-09 00:11:32,680 - root - INFO - Precision: 0.9681\n",
            "2023-12-09 00:11:32,681 - root - INFO - Recall: 0.9677\n",
            "2023-12-09 00:11:32,682 - root - INFO - F1 Score: 0.9663\n"
          ]
        },
        {
          "output_type": "stream",
          "name": "stdout",
          "text": [
            "Epoch [6/10], Step [100/3079], Loss: 0.0084\n",
            "Epoch [6/10], Step [200/3079], Loss: 0.0248\n",
            "Epoch [6/10], Step [300/3079], Loss: 0.2047\n",
            "Epoch [6/10], Step [400/3079], Loss: 0.0217\n",
            "Epoch [6/10], Step [500/3079], Loss: 0.0099\n",
            "Epoch [6/10], Step [600/3079], Loss: 0.1938\n",
            "Epoch [6/10], Step [700/3079], Loss: 0.1062\n",
            "Epoch [6/10], Step [800/3079], Loss: 0.0310\n",
            "Epoch [6/10], Step [900/3079], Loss: 0.1316\n",
            "Epoch [6/10], Step [1000/3079], Loss: 0.0509\n",
            "Epoch [6/10], Step [1100/3079], Loss: 0.1881\n",
            "Epoch [6/10], Step [1200/3079], Loss: 0.3119\n",
            "Epoch [6/10], Step [1300/3079], Loss: 0.1811\n",
            "Epoch [6/10], Step [1400/3079], Loss: 0.0699\n",
            "Epoch [6/10], Step [1500/3079], Loss: 0.0817\n",
            "Epoch [6/10], Step [1600/3079], Loss: 0.0916\n",
            "Epoch [6/10], Step [1700/3079], Loss: 0.0212\n",
            "Epoch [6/10], Step [1800/3079], Loss: 0.0445\n",
            "Epoch [6/10], Step [1900/3079], Loss: 0.0140\n",
            "Epoch [6/10], Step [2000/3079], Loss: 0.0214\n",
            "Epoch [6/10], Step [2100/3079], Loss: 0.1803\n",
            "Epoch [6/10], Step [2200/3079], Loss: 0.0272\n",
            "Epoch [6/10], Step [2300/3079], Loss: 0.0191\n",
            "Epoch [6/10], Step [2400/3079], Loss: 0.3104\n",
            "Epoch [6/10], Step [2500/3079], Loss: 0.0902\n",
            "Epoch [6/10], Step [2600/3079], Loss: 0.0097\n",
            "Epoch [6/10], Step [2700/3079], Loss: 0.0066\n",
            "Epoch [6/10], Step [2800/3079], Loss: 0.1607\n",
            "Epoch [6/10], Step [2900/3079], Loss: 0.1385\n",
            "Epoch [6/10], Step [3000/3079], Loss: 0.2321\n"
          ]
        },
        {
          "output_type": "stream",
          "name": "stderr",
          "text": [
            "2023-12-09 00:11:49,286 - root - INFO - Accuracy: 97.13%\n",
            "2023-12-09 00:11:49,287 - root - INFO - Precision: 0.9706\n",
            "2023-12-09 00:11:49,288 - root - INFO - Recall: 0.9713\n",
            "2023-12-09 00:11:49,289 - root - INFO - F1 Score: 0.9691\n"
          ]
        },
        {
          "output_type": "stream",
          "name": "stdout",
          "text": [
            "Epoch [7/10], Step [100/3079], Loss: 0.1932\n",
            "Epoch [7/10], Step [200/3079], Loss: 0.0660\n",
            "Epoch [7/10], Step [300/3079], Loss: 0.1085\n",
            "Epoch [7/10], Step [400/3079], Loss: 0.0953\n",
            "Epoch [7/10], Step [500/3079], Loss: 0.0418\n",
            "Epoch [7/10], Step [600/3079], Loss: 0.1355\n",
            "Epoch [7/10], Step [700/3079], Loss: 0.1179\n",
            "Epoch [7/10], Step [800/3079], Loss: 0.1330\n",
            "Epoch [7/10], Step [900/3079], Loss: 0.0149\n",
            "Epoch [7/10], Step [1000/3079], Loss: 0.1609\n",
            "Epoch [7/10], Step [1100/3079], Loss: 0.2014\n",
            "Epoch [7/10], Step [1200/3079], Loss: 0.0144\n",
            "Epoch [7/10], Step [1300/3079], Loss: 0.2166\n",
            "Epoch [7/10], Step [1400/3079], Loss: 0.1666\n",
            "Epoch [7/10], Step [1500/3079], Loss: 0.0050\n",
            "Epoch [7/10], Step [1600/3079], Loss: 0.0186\n",
            "Epoch [7/10], Step [1700/3079], Loss: 0.0150\n",
            "Epoch [7/10], Step [1800/3079], Loss: 0.0468\n",
            "Epoch [7/10], Step [1900/3079], Loss: 0.0403\n",
            "Epoch [7/10], Step [2000/3079], Loss: 0.0181\n",
            "Epoch [7/10], Step [2100/3079], Loss: 0.0429\n",
            "Epoch [7/10], Step [2200/3079], Loss: 0.1914\n",
            "Epoch [7/10], Step [2300/3079], Loss: 0.0359\n",
            "Epoch [7/10], Step [2400/3079], Loss: 0.0787\n",
            "Epoch [7/10], Step [2500/3079], Loss: 0.3156\n",
            "Epoch [7/10], Step [2600/3079], Loss: 0.0181\n",
            "Epoch [7/10], Step [2700/3079], Loss: 0.0831\n",
            "Epoch [7/10], Step [2800/3079], Loss: 0.1068\n",
            "Epoch [7/10], Step [2900/3079], Loss: 0.0131\n",
            "Epoch [7/10], Step [3000/3079], Loss: 0.1548\n"
          ]
        },
        {
          "output_type": "stream",
          "name": "stderr",
          "text": [
            "2023-12-09 00:12:05,879 - root - INFO - Accuracy: 97.57%\n",
            "2023-12-09 00:12:05,880 - root - INFO - Precision: 0.9748\n",
            "2023-12-09 00:12:05,881 - root - INFO - Recall: 0.9757\n",
            "2023-12-09 00:12:05,882 - root - INFO - F1 Score: 0.9748\n"
          ]
        },
        {
          "output_type": "stream",
          "name": "stdout",
          "text": [
            "Epoch [8/10], Step [100/3079], Loss: 0.3061\n",
            "Epoch [8/10], Step [200/3079], Loss: 0.0243\n",
            "Epoch [8/10], Step [300/3079], Loss: 0.0528\n",
            "Epoch [8/10], Step [400/3079], Loss: 0.0497\n",
            "Epoch [8/10], Step [500/3079], Loss: 0.1036\n",
            "Epoch [8/10], Step [600/3079], Loss: 0.0700\n",
            "Epoch [8/10], Step [700/3079], Loss: 0.0240\n",
            "Epoch [8/10], Step [800/3079], Loss: 0.0069\n",
            "Epoch [8/10], Step [900/3079], Loss: 0.0042\n",
            "Epoch [8/10], Step [1000/3079], Loss: 0.0651\n",
            "Epoch [8/10], Step [1100/3079], Loss: 0.0065\n",
            "Epoch [8/10], Step [1200/3079], Loss: 0.0080\n",
            "Epoch [8/10], Step [1300/3079], Loss: 0.0020\n",
            "Epoch [8/10], Step [1400/3079], Loss: 0.0065\n",
            "Epoch [8/10], Step [1500/3079], Loss: 0.1685\n",
            "Epoch [8/10], Step [1600/3079], Loss: 0.0203\n",
            "Epoch [8/10], Step [1700/3079], Loss: 0.0167\n",
            "Epoch [8/10], Step [1800/3079], Loss: 0.0159\n",
            "Epoch [8/10], Step [1900/3079], Loss: 0.0990\n",
            "Epoch [8/10], Step [2000/3079], Loss: 0.1682\n",
            "Epoch [8/10], Step [2100/3079], Loss: 0.0015\n",
            "Epoch [8/10], Step [2200/3079], Loss: 0.0150\n",
            "Epoch [8/10], Step [2300/3079], Loss: 0.0098\n",
            "Epoch [8/10], Step [2400/3079], Loss: 0.0244\n",
            "Epoch [8/10], Step [2500/3079], Loss: 0.0951\n",
            "Epoch [8/10], Step [2600/3079], Loss: 0.0730\n",
            "Epoch [8/10], Step [2700/3079], Loss: 0.0236\n",
            "Epoch [8/10], Step [2800/3079], Loss: 0.4075\n",
            "Epoch [8/10], Step [2900/3079], Loss: 0.0638\n",
            "Epoch [8/10], Step [3000/3079], Loss: 0.0361\n"
          ]
        },
        {
          "output_type": "stream",
          "name": "stderr",
          "text": [
            "2023-12-09 00:12:22,485 - root - INFO - Accuracy: 97.61%\n",
            "2023-12-09 00:12:22,486 - root - INFO - Precision: 0.9755\n",
            "2023-12-09 00:12:22,487 - root - INFO - Recall: 0.9761\n",
            "2023-12-09 00:12:22,488 - root - INFO - F1 Score: 0.9751\n"
          ]
        },
        {
          "output_type": "stream",
          "name": "stdout",
          "text": [
            "Epoch [9/10], Step [100/3079], Loss: 0.1318\n",
            "Epoch [9/10], Step [200/3079], Loss: 0.1754\n",
            "Epoch [9/10], Step [300/3079], Loss: 0.0520\n",
            "Epoch [9/10], Step [400/3079], Loss: 0.5330\n",
            "Epoch [9/10], Step [500/3079], Loss: 0.1288\n",
            "Epoch [9/10], Step [600/3079], Loss: 0.0114\n",
            "Epoch [9/10], Step [700/3079], Loss: 0.0772\n",
            "Epoch [9/10], Step [800/3079], Loss: 0.0034\n",
            "Epoch [9/10], Step [900/3079], Loss: 0.0209\n",
            "Epoch [9/10], Step [1000/3079], Loss: 0.0577\n",
            "Epoch [9/10], Step [1100/3079], Loss: 0.0102\n",
            "Epoch [9/10], Step [1200/3079], Loss: 0.0184\n",
            "Epoch [9/10], Step [1300/3079], Loss: 0.3996\n",
            "Epoch [9/10], Step [1400/3079], Loss: 0.0061\n",
            "Epoch [9/10], Step [1500/3079], Loss: 0.0843\n",
            "Epoch [9/10], Step [1600/3079], Loss: 0.0117\n",
            "Epoch [9/10], Step [1700/3079], Loss: 0.0816\n",
            "Epoch [9/10], Step [1800/3079], Loss: 0.1794\n",
            "Epoch [9/10], Step [1900/3079], Loss: 0.0075\n",
            "Epoch [9/10], Step [2000/3079], Loss: 0.0090\n",
            "Epoch [9/10], Step [2100/3079], Loss: 0.0953\n",
            "Epoch [9/10], Step [2200/3079], Loss: 0.0309\n",
            "Epoch [9/10], Step [2300/3079], Loss: 0.0092\n",
            "Epoch [9/10], Step [2400/3079], Loss: 0.3676\n",
            "Epoch [9/10], Step [2500/3079], Loss: 0.0645\n",
            "Epoch [9/10], Step [2600/3079], Loss: 0.0426\n",
            "Epoch [9/10], Step [2700/3079], Loss: 0.0076\n",
            "Epoch [9/10], Step [2800/3079], Loss: 0.0245\n",
            "Epoch [9/10], Step [2900/3079], Loss: 0.0076\n",
            "Epoch [9/10], Step [3000/3079], Loss: 0.4867\n"
          ]
        },
        {
          "output_type": "stream",
          "name": "stderr",
          "text": [
            "2023-12-09 00:12:38,920 - root - INFO - Accuracy: 97.76%\n",
            "2023-12-09 00:12:38,921 - root - INFO - Precision: 0.9773\n",
            "2023-12-09 00:12:38,922 - root - INFO - Recall: 0.9776\n",
            "2023-12-09 00:12:38,923 - root - INFO - F1 Score: 0.9763\n"
          ]
        },
        {
          "output_type": "stream",
          "name": "stdout",
          "text": [
            "Epoch [10/10], Step [100/3079], Loss: 0.0073\n",
            "Epoch [10/10], Step [200/3079], Loss: 0.0575\n",
            "Epoch [10/10], Step [300/3079], Loss: 0.0204\n",
            "Epoch [10/10], Step [400/3079], Loss: 0.0171\n",
            "Epoch [10/10], Step [500/3079], Loss: 0.1967\n",
            "Epoch [10/10], Step [600/3079], Loss: 0.0065\n",
            "Epoch [10/10], Step [700/3079], Loss: 0.0461\n",
            "Epoch [10/10], Step [800/3079], Loss: 0.0019\n",
            "Epoch [10/10], Step [900/3079], Loss: 0.1782\n",
            "Epoch [10/10], Step [1000/3079], Loss: 0.0263\n",
            "Epoch [10/10], Step [1100/3079], Loss: 0.0300\n",
            "Epoch [10/10], Step [1200/3079], Loss: 0.0023\n",
            "Epoch [10/10], Step [1300/3079], Loss: 0.0440\n",
            "Epoch [10/10], Step [1400/3079], Loss: 0.2197\n",
            "Epoch [10/10], Step [1500/3079], Loss: 0.0465\n",
            "Epoch [10/10], Step [1600/3079], Loss: 0.0360\n",
            "Epoch [10/10], Step [1700/3079], Loss: 0.0159\n",
            "Epoch [10/10], Step [1800/3079], Loss: 0.0053\n",
            "Epoch [10/10], Step [1900/3079], Loss: 0.0005\n",
            "Epoch [10/10], Step [2000/3079], Loss: 0.0216\n",
            "Epoch [10/10], Step [2100/3079], Loss: 0.0251\n",
            "Epoch [10/10], Step [2200/3079], Loss: 0.1128\n",
            "Epoch [10/10], Step [2300/3079], Loss: 0.1308\n",
            "Epoch [10/10], Step [2400/3079], Loss: 0.0246\n",
            "Epoch [10/10], Step [2500/3079], Loss: 0.0037\n",
            "Epoch [10/10], Step [2600/3079], Loss: 0.0606\n",
            "Epoch [10/10], Step [2700/3079], Loss: 0.1333\n",
            "Epoch [10/10], Step [2800/3079], Loss: 0.0054\n",
            "Epoch [10/10], Step [2900/3079], Loss: 0.0012\n",
            "Epoch [10/10], Step [3000/3079], Loss: 0.0234\n"
          ]
        },
        {
          "output_type": "stream",
          "name": "stderr",
          "text": [
            "2023-12-09 00:12:55,522 - root - INFO - Accuracy: 98.02%\n",
            "2023-12-09 00:12:55,524 - root - INFO - Precision: 0.9796\n",
            "2023-12-09 00:12:55,525 - root - INFO - Recall: 0.9802\n",
            "2023-12-09 00:12:55,526 - root - INFO - F1 Score: 0.9790\n"
          ]
        },
        {
          "output_type": "stream",
          "name": "stdout",
          "text": [
            "FOLD 3\n",
            "--------------------------------\n",
            "AttentionLSTM(\n",
            "  (lstm): LSTM(1, 128, num_layers=2, batch_first=True)\n",
            "  (attention): SelfAttention(\n",
            "    (query): Linear(in_features=128, out_features=128, bias=True)\n",
            "    (key): Linear(in_features=128, out_features=128, bias=True)\n",
            "    (value): Linear(in_features=128, out_features=128, bias=True)\n",
            "  )\n",
            "  (fc): Linear(in_features=128, out_features=5, bias=True)\n",
            ")\n",
            "Epoch [1/10], Step [100/3079], Loss: 0.5091\n",
            "Epoch [1/10], Step [200/3079], Loss: 0.6044\n",
            "Epoch [1/10], Step [300/3079], Loss: 0.7571\n",
            "Epoch [1/10], Step [400/3079], Loss: 0.3789\n",
            "Epoch [1/10], Step [500/3079], Loss: 0.4761\n",
            "Epoch [1/10], Step [600/3079], Loss: 0.6895\n",
            "Epoch [1/10], Step [700/3079], Loss: 0.6764\n",
            "Epoch [1/10], Step [800/3079], Loss: 0.5182\n",
            "Epoch [1/10], Step [900/3079], Loss: 0.9034\n",
            "Epoch [1/10], Step [1000/3079], Loss: 0.5991\n",
            "Epoch [1/10], Step [1100/3079], Loss: 0.4544\n",
            "Epoch [1/10], Step [1200/3079], Loss: 0.1927\n",
            "Epoch [1/10], Step [1300/3079], Loss: 0.5031\n",
            "Epoch [1/10], Step [1400/3079], Loss: 0.6119\n",
            "Epoch [1/10], Step [1500/3079], Loss: 0.4130\n",
            "Epoch [1/10], Step [1600/3079], Loss: 0.6636\n",
            "Epoch [1/10], Step [1700/3079], Loss: 0.6790\n",
            "Epoch [1/10], Step [1800/3079], Loss: 0.4120\n",
            "Epoch [1/10], Step [1900/3079], Loss: 0.0984\n",
            "Epoch [1/10], Step [2000/3079], Loss: 0.4729\n",
            "Epoch [1/10], Step [2100/3079], Loss: 0.0924\n",
            "Epoch [1/10], Step [2200/3079], Loss: 0.5524\n",
            "Epoch [1/10], Step [2300/3079], Loss: 0.2763\n",
            "Epoch [1/10], Step [2400/3079], Loss: 0.8245\n",
            "Epoch [1/10], Step [2500/3079], Loss: 0.4784\n",
            "Epoch [1/10], Step [2600/3079], Loss: 0.3592\n",
            "Epoch [1/10], Step [2700/3079], Loss: 0.2908\n",
            "Epoch [1/10], Step [2800/3079], Loss: 0.2070\n",
            "Epoch [1/10], Step [2900/3079], Loss: 0.2788\n",
            "Epoch [1/10], Step [3000/3079], Loss: 0.5952\n"
          ]
        },
        {
          "output_type": "stream",
          "name": "stderr",
          "text": [
            "/usr/local/lib/python3.10/dist-packages/sklearn/metrics/_classification.py:1344: UndefinedMetricWarning: Precision is ill-defined and being set to 0.0 in labels with no predicted samples. Use `zero_division` parameter to control this behavior.\n",
            "  _warn_prf(average, modifier, msg_start, len(result))\n",
            "2023-12-09 00:13:11,988 - root - INFO - Accuracy: 91.06%\n",
            "2023-12-09 00:13:11,989 - root - INFO - Precision: 0.9086\n",
            "2023-12-09 00:13:11,990 - root - INFO - Recall: 0.9106\n",
            "2023-12-09 00:13:11,991 - root - INFO - F1 Score: 0.8880\n"
          ]
        },
        {
          "output_type": "stream",
          "name": "stdout",
          "text": [
            "Epoch [2/10], Step [100/3079], Loss: 0.5429\n",
            "Epoch [2/10], Step [200/3079], Loss: 0.2745\n",
            "Epoch [2/10], Step [300/3079], Loss: 0.0492\n",
            "Epoch [2/10], Step [400/3079], Loss: 0.3791\n",
            "Epoch [2/10], Step [500/3079], Loss: 0.3302\n",
            "Epoch [2/10], Step [600/3079], Loss: 0.6276\n",
            "Epoch [2/10], Step [700/3079], Loss: 0.1377\n",
            "Epoch [2/10], Step [800/3079], Loss: 0.2751\n",
            "Epoch [2/10], Step [900/3079], Loss: 0.4388\n",
            "Epoch [2/10], Step [1000/3079], Loss: 0.1817\n",
            "Epoch [2/10], Step [1100/3079], Loss: 0.1485\n",
            "Epoch [2/10], Step [1200/3079], Loss: 0.1493\n",
            "Epoch [2/10], Step [1300/3079], Loss: 0.2276\n",
            "Epoch [2/10], Step [1400/3079], Loss: 0.2282\n",
            "Epoch [2/10], Step [1500/3079], Loss: 0.1008\n",
            "Epoch [2/10], Step [1600/3079], Loss: 0.0862\n",
            "Epoch [2/10], Step [1700/3079], Loss: 0.1721\n",
            "Epoch [2/10], Step [1800/3079], Loss: 0.2072\n",
            "Epoch [2/10], Step [1900/3079], Loss: 0.2635\n",
            "Epoch [2/10], Step [2000/3079], Loss: 0.3859\n",
            "Epoch [2/10], Step [2100/3079], Loss: 0.2991\n",
            "Epoch [2/10], Step [2200/3079], Loss: 0.0750\n",
            "Epoch [2/10], Step [2300/3079], Loss: 0.2846\n",
            "Epoch [2/10], Step [2400/3079], Loss: 0.0938\n",
            "Epoch [2/10], Step [2500/3079], Loss: 0.0753\n",
            "Epoch [2/10], Step [2600/3079], Loss: 0.0947\n",
            "Epoch [2/10], Step [2700/3079], Loss: 0.2181\n",
            "Epoch [2/10], Step [2800/3079], Loss: 0.1270\n",
            "Epoch [2/10], Step [2900/3079], Loss: 0.4688\n",
            "Epoch [2/10], Step [3000/3079], Loss: 0.1189\n"
          ]
        },
        {
          "output_type": "stream",
          "name": "stderr",
          "text": [
            "/usr/local/lib/python3.10/dist-packages/sklearn/metrics/_classification.py:1344: UndefinedMetricWarning: Precision is ill-defined and being set to 0.0 in labels with no predicted samples. Use `zero_division` parameter to control this behavior.\n",
            "  _warn_prf(average, modifier, msg_start, len(result))\n",
            "2023-12-09 00:13:28,556 - root - INFO - Accuracy: 94.76%\n",
            "2023-12-09 00:13:28,557 - root - INFO - Precision: 0.9399\n",
            "2023-12-09 00:13:28,558 - root - INFO - Recall: 0.9476\n",
            "2023-12-09 00:13:28,559 - root - INFO - F1 Score: 0.9417\n"
          ]
        },
        {
          "output_type": "stream",
          "name": "stdout",
          "text": [
            "Epoch [3/10], Step [100/3079], Loss: 0.1728\n",
            "Epoch [3/10], Step [200/3079], Loss: 0.2866\n",
            "Epoch [3/10], Step [300/3079], Loss: 0.1003\n",
            "Epoch [3/10], Step [400/3079], Loss: 0.0257\n",
            "Epoch [3/10], Step [500/3079], Loss: 0.3535\n",
            "Epoch [3/10], Step [600/3079], Loss: 0.5512\n",
            "Epoch [3/10], Step [700/3079], Loss: 0.1308\n",
            "Epoch [3/10], Step [800/3079], Loss: 0.4079\n",
            "Epoch [3/10], Step [900/3079], Loss: 0.2261\n",
            "Epoch [3/10], Step [1000/3079], Loss: 0.0162\n",
            "Epoch [3/10], Step [1100/3079], Loss: 0.0574\n",
            "Epoch [3/10], Step [1200/3079], Loss: 0.2080\n",
            "Epoch [3/10], Step [1300/3079], Loss: 0.0886\n",
            "Epoch [3/10], Step [1400/3079], Loss: 0.1484\n",
            "Epoch [3/10], Step [1500/3079], Loss: 0.0527\n",
            "Epoch [3/10], Step [1600/3079], Loss: 0.4310\n",
            "Epoch [3/10], Step [1700/3079], Loss: 0.0557\n",
            "Epoch [3/10], Step [1800/3079], Loss: 0.1291\n",
            "Epoch [3/10], Step [1900/3079], Loss: 0.0883\n",
            "Epoch [3/10], Step [2000/3079], Loss: 0.1162\n",
            "Epoch [3/10], Step [2100/3079], Loss: 0.0776\n",
            "Epoch [3/10], Step [2200/3079], Loss: 0.2996\n",
            "Epoch [3/10], Step [2300/3079], Loss: 0.3671\n",
            "Epoch [3/10], Step [2400/3079], Loss: 0.1372\n",
            "Epoch [3/10], Step [2500/3079], Loss: 0.0386\n",
            "Epoch [3/10], Step [2600/3079], Loss: 0.0964\n",
            "Epoch [3/10], Step [2700/3079], Loss: 0.0800\n",
            "Epoch [3/10], Step [2800/3079], Loss: 0.0115\n",
            "Epoch [3/10], Step [2900/3079], Loss: 0.1738\n",
            "Epoch [3/10], Step [3000/3079], Loss: 0.0727\n"
          ]
        },
        {
          "output_type": "stream",
          "name": "stderr",
          "text": [
            "2023-12-09 00:13:45,141 - root - INFO - Accuracy: 94.72%\n",
            "2023-12-09 00:13:45,143 - root - INFO - Precision: 0.9477\n",
            "2023-12-09 00:13:45,143 - root - INFO - Recall: 0.9472\n",
            "2023-12-09 00:13:45,144 - root - INFO - F1 Score: 0.9411\n"
          ]
        },
        {
          "output_type": "stream",
          "name": "stdout",
          "text": [
            "Epoch [4/10], Step [100/3079], Loss: 0.1839\n",
            "Epoch [4/10], Step [200/3079], Loss: 0.1450\n",
            "Epoch [4/10], Step [300/3079], Loss: 0.0363\n",
            "Epoch [4/10], Step [400/3079], Loss: 0.2105\n",
            "Epoch [4/10], Step [500/3079], Loss: 0.1904\n",
            "Epoch [4/10], Step [600/3079], Loss: 0.0984\n",
            "Epoch [4/10], Step [700/3079], Loss: 0.0481\n",
            "Epoch [4/10], Step [800/3079], Loss: 0.1750\n",
            "Epoch [4/10], Step [900/3079], Loss: 0.1098\n",
            "Epoch [4/10], Step [1000/3079], Loss: 0.0542\n",
            "Epoch [4/10], Step [1100/3079], Loss: 0.2271\n",
            "Epoch [4/10], Step [1200/3079], Loss: 0.1225\n",
            "Epoch [4/10], Step [1300/3079], Loss: 0.0462\n",
            "Epoch [4/10], Step [1400/3079], Loss: 0.1247\n",
            "Epoch [4/10], Step [1500/3079], Loss: 0.0376\n",
            "Epoch [4/10], Step [1600/3079], Loss: 0.4369\n",
            "Epoch [4/10], Step [1700/3079], Loss: 0.0840\n",
            "Epoch [4/10], Step [1800/3079], Loss: 0.1546\n",
            "Epoch [4/10], Step [1900/3079], Loss: 0.0765\n",
            "Epoch [4/10], Step [2000/3079], Loss: 0.1467\n",
            "Epoch [4/10], Step [2100/3079], Loss: 0.1867\n",
            "Epoch [4/10], Step [2200/3079], Loss: 0.0402\n",
            "Epoch [4/10], Step [2300/3079], Loss: 0.0046\n",
            "Epoch [4/10], Step [2400/3079], Loss: 0.3404\n",
            "Epoch [4/10], Step [2500/3079], Loss: 0.1645\n",
            "Epoch [4/10], Step [2600/3079], Loss: 0.3722\n",
            "Epoch [4/10], Step [2700/3079], Loss: 0.2156\n",
            "Epoch [4/10], Step [2800/3079], Loss: 0.0448\n",
            "Epoch [4/10], Step [2900/3079], Loss: 0.0273\n",
            "Epoch [4/10], Step [3000/3079], Loss: 0.1908\n"
          ]
        },
        {
          "output_type": "stream",
          "name": "stderr",
          "text": [
            "2023-12-09 00:14:01,712 - root - INFO - Accuracy: 96.69%\n",
            "2023-12-09 00:14:01,713 - root - INFO - Precision: 0.9654\n",
            "2023-12-09 00:14:01,714 - root - INFO - Recall: 0.9669\n",
            "2023-12-09 00:14:01,715 - root - INFO - F1 Score: 0.9656\n"
          ]
        },
        {
          "output_type": "stream",
          "name": "stdout",
          "text": [
            "Epoch [5/10], Step [100/3079], Loss: 0.1511\n",
            "Epoch [5/10], Step [200/3079], Loss: 0.0430\n",
            "Epoch [5/10], Step [300/3079], Loss: 0.0815\n",
            "Epoch [5/10], Step [400/3079], Loss: 0.0853\n",
            "Epoch [5/10], Step [500/3079], Loss: 0.3134\n",
            "Epoch [5/10], Step [600/3079], Loss: 0.1977\n",
            "Epoch [5/10], Step [700/3079], Loss: 0.1330\n",
            "Epoch [5/10], Step [800/3079], Loss: 0.1098\n",
            "Epoch [5/10], Step [900/3079], Loss: 0.2541\n",
            "Epoch [5/10], Step [1000/3079], Loss: 0.0094\n",
            "Epoch [5/10], Step [1100/3079], Loss: 0.0293\n",
            "Epoch [5/10], Step [1200/3079], Loss: 0.0607\n",
            "Epoch [5/10], Step [1300/3079], Loss: 0.0057\n",
            "Epoch [5/10], Step [1400/3079], Loss: 0.0474\n",
            "Epoch [5/10], Step [1500/3079], Loss: 0.0774\n",
            "Epoch [5/10], Step [1600/3079], Loss: 0.1559\n",
            "Epoch [5/10], Step [1700/3079], Loss: 0.0976\n",
            "Epoch [5/10], Step [1800/3079], Loss: 0.3681\n",
            "Epoch [5/10], Step [1900/3079], Loss: 0.0803\n",
            "Epoch [5/10], Step [2000/3079], Loss: 0.0829\n",
            "Epoch [5/10], Step [2100/3079], Loss: 0.0198\n",
            "Epoch [5/10], Step [2200/3079], Loss: 0.5702\n",
            "Epoch [5/10], Step [2300/3079], Loss: 0.2023\n",
            "Epoch [5/10], Step [2400/3079], Loss: 0.0466\n",
            "Epoch [5/10], Step [2500/3079], Loss: 0.0109\n",
            "Epoch [5/10], Step [2600/3079], Loss: 0.0566\n",
            "Epoch [5/10], Step [2700/3079], Loss: 0.0694\n",
            "Epoch [5/10], Step [2800/3079], Loss: 0.0578\n",
            "Epoch [5/10], Step [2900/3079], Loss: 0.3491\n",
            "Epoch [5/10], Step [3000/3079], Loss: 0.2602\n"
          ]
        },
        {
          "output_type": "stream",
          "name": "stderr",
          "text": [
            "2023-12-09 00:14:18,266 - root - INFO - Accuracy: 96.25%\n",
            "2023-12-09 00:14:18,267 - root - INFO - Precision: 0.9626\n",
            "2023-12-09 00:14:18,268 - root - INFO - Recall: 0.9625\n",
            "2023-12-09 00:14:18,269 - root - INFO - F1 Score: 0.9621\n"
          ]
        },
        {
          "output_type": "stream",
          "name": "stdout",
          "text": [
            "Epoch [6/10], Step [100/3079], Loss: 0.1680\n",
            "Epoch [6/10], Step [200/3079], Loss: 0.0331\n",
            "Epoch [6/10], Step [300/3079], Loss: 0.0873\n",
            "Epoch [6/10], Step [400/3079], Loss: 0.0458\n",
            "Epoch [6/10], Step [500/3079], Loss: 0.0544\n",
            "Epoch [6/10], Step [600/3079], Loss: 0.1679\n",
            "Epoch [6/10], Step [700/3079], Loss: 0.1528\n",
            "Epoch [6/10], Step [800/3079], Loss: 0.3783\n",
            "Epoch [6/10], Step [900/3079], Loss: 0.1648\n",
            "Epoch [6/10], Step [1000/3079], Loss: 0.1435\n",
            "Epoch [6/10], Step [1100/3079], Loss: 0.0232\n",
            "Epoch [6/10], Step [1200/3079], Loss: 0.1845\n",
            "Epoch [6/10], Step [1300/3079], Loss: 0.0694\n",
            "Epoch [6/10], Step [1400/3079], Loss: 0.0397\n",
            "Epoch [6/10], Step [1500/3079], Loss: 0.0930\n",
            "Epoch [6/10], Step [1600/3079], Loss: 0.1515\n",
            "Epoch [6/10], Step [1700/3079], Loss: 0.0162\n",
            "Epoch [6/10], Step [1800/3079], Loss: 0.1199\n",
            "Epoch [6/10], Step [1900/3079], Loss: 0.1036\n",
            "Epoch [6/10], Step [2000/3079], Loss: 0.0643\n",
            "Epoch [6/10], Step [2100/3079], Loss: 0.1317\n",
            "Epoch [6/10], Step [2200/3079], Loss: 0.0103\n",
            "Epoch [6/10], Step [2300/3079], Loss: 0.0267\n",
            "Epoch [6/10], Step [2400/3079], Loss: 0.0175\n",
            "Epoch [6/10], Step [2500/3079], Loss: 0.2455\n",
            "Epoch [6/10], Step [2600/3079], Loss: 0.0535\n",
            "Epoch [6/10], Step [2700/3079], Loss: 0.0705\n",
            "Epoch [6/10], Step [2800/3079], Loss: 0.0128\n",
            "Epoch [6/10], Step [2900/3079], Loss: 0.0055\n",
            "Epoch [6/10], Step [3000/3079], Loss: 0.3566\n"
          ]
        },
        {
          "output_type": "stream",
          "name": "stderr",
          "text": [
            "2023-12-09 00:14:34,696 - root - INFO - Accuracy: 97.10%\n",
            "2023-12-09 00:14:34,697 - root - INFO - Precision: 0.9703\n",
            "2023-12-09 00:14:34,697 - root - INFO - Recall: 0.9710\n",
            "2023-12-09 00:14:34,698 - root - INFO - F1 Score: 0.9703\n"
          ]
        },
        {
          "output_type": "stream",
          "name": "stdout",
          "text": [
            "Epoch [7/10], Step [100/3079], Loss: 0.3102\n",
            "Epoch [7/10], Step [200/3079], Loss: 0.0329\n",
            "Epoch [7/10], Step [300/3079], Loss: 0.1627\n",
            "Epoch [7/10], Step [400/3079], Loss: 0.0054\n",
            "Epoch [7/10], Step [500/3079], Loss: 0.0718\n",
            "Epoch [7/10], Step [600/3079], Loss: 0.0343\n",
            "Epoch [7/10], Step [700/3079], Loss: 0.1068\n",
            "Epoch [7/10], Step [800/3079], Loss: 0.0899\n",
            "Epoch [7/10], Step [900/3079], Loss: 0.1237\n",
            "Epoch [7/10], Step [1000/3079], Loss: 0.2577\n",
            "Epoch [7/10], Step [1100/3079], Loss: 0.1358\n",
            "Epoch [7/10], Step [1200/3079], Loss: 0.1796\n",
            "Epoch [7/10], Step [1300/3079], Loss: 0.1777\n",
            "Epoch [7/10], Step [1400/3079], Loss: 0.0331\n",
            "Epoch [7/10], Step [1500/3079], Loss: 0.1120\n",
            "Epoch [7/10], Step [1600/3079], Loss: 0.0478\n",
            "Epoch [7/10], Step [1700/3079], Loss: 0.0404\n",
            "Epoch [7/10], Step [1800/3079], Loss: 0.0190\n",
            "Epoch [7/10], Step [1900/3079], Loss: 0.2568\n",
            "Epoch [7/10], Step [2000/3079], Loss: 0.1502\n",
            "Epoch [7/10], Step [2100/3079], Loss: 0.3250\n",
            "Epoch [7/10], Step [2200/3079], Loss: 0.1309\n",
            "Epoch [7/10], Step [2300/3079], Loss: 0.0672\n",
            "Epoch [7/10], Step [2400/3079], Loss: 0.0402\n",
            "Epoch [7/10], Step [2500/3079], Loss: 0.1480\n",
            "Epoch [7/10], Step [2600/3079], Loss: 0.4158\n",
            "Epoch [7/10], Step [2700/3079], Loss: 0.0505\n",
            "Epoch [7/10], Step [2800/3079], Loss: 0.0205\n",
            "Epoch [7/10], Step [2900/3079], Loss: 0.2026\n",
            "Epoch [7/10], Step [3000/3079], Loss: 0.0786\n"
          ]
        },
        {
          "output_type": "stream",
          "name": "stderr",
          "text": [
            "2023-12-09 00:14:51,298 - root - INFO - Accuracy: 97.53%\n",
            "2023-12-09 00:14:51,299 - root - INFO - Precision: 0.9748\n",
            "2023-12-09 00:14:51,300 - root - INFO - Recall: 0.9753\n",
            "2023-12-09 00:14:51,301 - root - INFO - F1 Score: 0.9746\n"
          ]
        },
        {
          "output_type": "stream",
          "name": "stdout",
          "text": [
            "Epoch [8/10], Step [100/3079], Loss: 0.0351\n",
            "Epoch [8/10], Step [200/3079], Loss: 0.0095\n",
            "Epoch [8/10], Step [300/3079], Loss: 0.0089\n",
            "Epoch [8/10], Step [400/3079], Loss: 0.0091\n",
            "Epoch [8/10], Step [500/3079], Loss: 0.0635\n",
            "Epoch [8/10], Step [600/3079], Loss: 0.1444\n",
            "Epoch [8/10], Step [700/3079], Loss: 0.1178\n",
            "Epoch [8/10], Step [800/3079], Loss: 0.1915\n",
            "Epoch [8/10], Step [900/3079], Loss: 0.0992\n",
            "Epoch [8/10], Step [1000/3079], Loss: 0.0036\n",
            "Epoch [8/10], Step [1100/3079], Loss: 0.0790\n",
            "Epoch [8/10], Step [1200/3079], Loss: 0.1723\n",
            "Epoch [8/10], Step [1300/3079], Loss: 0.0182\n",
            "Epoch [8/10], Step [1400/3079], Loss: 0.0130\n",
            "Epoch [8/10], Step [1500/3079], Loss: 0.1851\n",
            "Epoch [8/10], Step [1600/3079], Loss: 0.0367\n",
            "Epoch [8/10], Step [1700/3079], Loss: 0.1423\n",
            "Epoch [8/10], Step [1800/3079], Loss: 0.0335\n",
            "Epoch [8/10], Step [1900/3079], Loss: 0.0323\n",
            "Epoch [8/10], Step [2000/3079], Loss: 0.1628\n",
            "Epoch [8/10], Step [2100/3079], Loss: 0.1006\n",
            "Epoch [8/10], Step [2200/3079], Loss: 0.1546\n",
            "Epoch [8/10], Step [2300/3079], Loss: 0.1322\n",
            "Epoch [8/10], Step [2400/3079], Loss: 0.1333\n",
            "Epoch [8/10], Step [2500/3079], Loss: 0.0327\n",
            "Epoch [8/10], Step [2600/3079], Loss: 0.3075\n",
            "Epoch [8/10], Step [2700/3079], Loss: 0.0253\n",
            "Epoch [8/10], Step [2800/3079], Loss: 0.0036\n",
            "Epoch [8/10], Step [2900/3079], Loss: 0.2171\n",
            "Epoch [8/10], Step [3000/3079], Loss: 0.0034\n"
          ]
        },
        {
          "output_type": "stream",
          "name": "stderr",
          "text": [
            "2023-12-09 00:15:07,891 - root - INFO - Accuracy: 97.45%\n",
            "2023-12-09 00:15:07,892 - root - INFO - Precision: 0.9738\n",
            "2023-12-09 00:15:07,893 - root - INFO - Recall: 0.9745\n",
            "2023-12-09 00:15:07,894 - root - INFO - F1 Score: 0.9739\n"
          ]
        },
        {
          "output_type": "stream",
          "name": "stdout",
          "text": [
            "Epoch [9/10], Step [100/3079], Loss: 0.3792\n",
            "Epoch [9/10], Step [200/3079], Loss: 0.0412\n",
            "Epoch [9/10], Step [300/3079], Loss: 0.0825\n",
            "Epoch [9/10], Step [400/3079], Loss: 0.0292\n",
            "Epoch [9/10], Step [500/3079], Loss: 0.0092\n",
            "Epoch [9/10], Step [600/3079], Loss: 0.2436\n",
            "Epoch [9/10], Step [700/3079], Loss: 0.0394\n",
            "Epoch [9/10], Step [800/3079], Loss: 0.0990\n",
            "Epoch [9/10], Step [900/3079], Loss: 0.0699\n",
            "Epoch [9/10], Step [1000/3079], Loss: 0.0135\n",
            "Epoch [9/10], Step [1100/3079], Loss: 0.1240\n",
            "Epoch [9/10], Step [1200/3079], Loss: 0.0071\n",
            "Epoch [9/10], Step [1300/3079], Loss: 0.0192\n",
            "Epoch [9/10], Step [1400/3079], Loss: 0.0149\n",
            "Epoch [9/10], Step [1500/3079], Loss: 0.0788\n",
            "Epoch [9/10], Step [1600/3079], Loss: 0.0218\n",
            "Epoch [9/10], Step [1700/3079], Loss: 0.0813\n",
            "Epoch [9/10], Step [1800/3079], Loss: 0.1505\n",
            "Epoch [9/10], Step [1900/3079], Loss: 0.0377\n",
            "Epoch [9/10], Step [2000/3079], Loss: 0.0345\n",
            "Epoch [9/10], Step [2100/3079], Loss: 0.0142\n",
            "Epoch [9/10], Step [2200/3079], Loss: 0.0677\n",
            "Epoch [9/10], Step [2300/3079], Loss: 0.0306\n",
            "Epoch [9/10], Step [2400/3079], Loss: 0.0431\n",
            "Epoch [9/10], Step [2500/3079], Loss: 0.0513\n",
            "Epoch [9/10], Step [2600/3079], Loss: 0.0222\n",
            "Epoch [9/10], Step [2700/3079], Loss: 0.0463\n",
            "Epoch [9/10], Step [2800/3079], Loss: 0.0745\n",
            "Epoch [9/10], Step [2900/3079], Loss: 0.0408\n",
            "Epoch [9/10], Step [3000/3079], Loss: 0.2666\n"
          ]
        },
        {
          "output_type": "stream",
          "name": "stderr",
          "text": [
            "2023-12-09 00:15:24,462 - root - INFO - Accuracy: 97.83%\n",
            "2023-12-09 00:15:24,463 - root - INFO - Precision: 0.9781\n",
            "2023-12-09 00:15:24,464 - root - INFO - Recall: 0.9783\n",
            "2023-12-09 00:15:24,465 - root - INFO - F1 Score: 0.9777\n"
          ]
        },
        {
          "output_type": "stream",
          "name": "stdout",
          "text": [
            "Epoch [10/10], Step [100/3079], Loss: 0.0358\n",
            "Epoch [10/10], Step [200/3079], Loss: 0.0883\n",
            "Epoch [10/10], Step [300/3079], Loss: 0.0150\n",
            "Epoch [10/10], Step [400/3079], Loss: 0.4307\n",
            "Epoch [10/10], Step [500/3079], Loss: 0.0027\n",
            "Epoch [10/10], Step [600/3079], Loss: 0.0180\n",
            "Epoch [10/10], Step [700/3079], Loss: 0.0097\n",
            "Epoch [10/10], Step [800/3079], Loss: 0.0298\n",
            "Epoch [10/10], Step [900/3079], Loss: 0.3908\n",
            "Epoch [10/10], Step [1000/3079], Loss: 0.0599\n",
            "Epoch [10/10], Step [1100/3079], Loss: 0.1722\n",
            "Epoch [10/10], Step [1200/3079], Loss: 0.0027\n",
            "Epoch [10/10], Step [1300/3079], Loss: 0.1356\n",
            "Epoch [10/10], Step [1400/3079], Loss: 0.0456\n",
            "Epoch [10/10], Step [1500/3079], Loss: 0.0187\n",
            "Epoch [10/10], Step [1600/3079], Loss: 0.1889\n",
            "Epoch [10/10], Step [1700/3079], Loss: 0.0078\n",
            "Epoch [10/10], Step [1800/3079], Loss: 0.0528\n",
            "Epoch [10/10], Step [1900/3079], Loss: 0.1464\n",
            "Epoch [10/10], Step [2000/3079], Loss: 0.2850\n",
            "Epoch [10/10], Step [2100/3079], Loss: 0.0074\n",
            "Epoch [10/10], Step [2200/3079], Loss: 0.0093\n",
            "Epoch [10/10], Step [2300/3079], Loss: 0.0263\n",
            "Epoch [10/10], Step [2400/3079], Loss: 0.0218\n",
            "Epoch [10/10], Step [2500/3079], Loss: 0.0112\n",
            "Epoch [10/10], Step [2600/3079], Loss: 0.0288\n",
            "Epoch [10/10], Step [2700/3079], Loss: 0.0321\n",
            "Epoch [10/10], Step [2800/3079], Loss: 0.1035\n",
            "Epoch [10/10], Step [2900/3079], Loss: 0.0211\n",
            "Epoch [10/10], Step [3000/3079], Loss: 0.0983\n"
          ]
        },
        {
          "output_type": "stream",
          "name": "stderr",
          "text": [
            "2023-12-09 00:15:41,051 - root - INFO - Accuracy: 97.45%\n",
            "2023-12-09 00:15:41,052 - root - INFO - Precision: 0.9748\n",
            "2023-12-09 00:15:41,053 - root - INFO - Recall: 0.9745\n",
            "2023-12-09 00:15:41,054 - root - INFO - F1 Score: 0.9725\n"
          ]
        },
        {
          "output_type": "stream",
          "name": "stdout",
          "text": [
            "FOLD 4\n",
            "--------------------------------\n",
            "AttentionLSTM(\n",
            "  (lstm): LSTM(1, 128, num_layers=2, batch_first=True)\n",
            "  (attention): SelfAttention(\n",
            "    (query): Linear(in_features=128, out_features=128, bias=True)\n",
            "    (key): Linear(in_features=128, out_features=128, bias=True)\n",
            "    (value): Linear(in_features=128, out_features=128, bias=True)\n",
            "  )\n",
            "  (fc): Linear(in_features=128, out_features=5, bias=True)\n",
            ")\n",
            "Epoch [1/10], Step [100/3079], Loss: 0.8324\n",
            "Epoch [1/10], Step [200/3079], Loss: 0.5970\n",
            "Epoch [1/10], Step [300/3079], Loss: 0.6081\n",
            "Epoch [1/10], Step [400/3079], Loss: 0.7253\n",
            "Epoch [1/10], Step [500/3079], Loss: 0.8095\n",
            "Epoch [1/10], Step [600/3079], Loss: 0.8477\n",
            "Epoch [1/10], Step [700/3079], Loss: 0.7408\n",
            "Epoch [1/10], Step [800/3079], Loss: 1.1588\n",
            "Epoch [1/10], Step [900/3079], Loss: 0.5630\n",
            "Epoch [1/10], Step [1000/3079], Loss: 0.6297\n",
            "Epoch [1/10], Step [1100/3079], Loss: 0.5819\n",
            "Epoch [1/10], Step [1200/3079], Loss: 0.2777\n",
            "Epoch [1/10], Step [1300/3079], Loss: 0.3799\n",
            "Epoch [1/10], Step [1400/3079], Loss: 0.3790\n",
            "Epoch [1/10], Step [1500/3079], Loss: 0.3029\n",
            "Epoch [1/10], Step [1600/3079], Loss: 0.6558\n",
            "Epoch [1/10], Step [1700/3079], Loss: 0.4685\n",
            "Epoch [1/10], Step [1800/3079], Loss: 0.5378\n",
            "Epoch [1/10], Step [1900/3079], Loss: 0.2220\n",
            "Epoch [1/10], Step [2000/3079], Loss: 0.3274\n",
            "Epoch [1/10], Step [2100/3079], Loss: 0.2850\n",
            "Epoch [1/10], Step [2200/3079], Loss: 0.4791\n",
            "Epoch [1/10], Step [2300/3079], Loss: 0.5772\n",
            "Epoch [1/10], Step [2400/3079], Loss: 0.3423\n",
            "Epoch [1/10], Step [2500/3079], Loss: 0.2126\n",
            "Epoch [1/10], Step [2600/3079], Loss: 0.4056\n",
            "Epoch [1/10], Step [2700/3079], Loss: 0.3714\n",
            "Epoch [1/10], Step [2800/3079], Loss: 0.5942\n",
            "Epoch [1/10], Step [2900/3079], Loss: 0.3122\n",
            "Epoch [1/10], Step [3000/3079], Loss: 0.1773\n"
          ]
        },
        {
          "output_type": "stream",
          "name": "stderr",
          "text": [
            "/usr/local/lib/python3.10/dist-packages/sklearn/metrics/_classification.py:1344: UndefinedMetricWarning: Precision is ill-defined and being set to 0.0 in labels with no predicted samples. Use `zero_division` parameter to control this behavior.\n",
            "  _warn_prf(average, modifier, msg_start, len(result))\n",
            "2023-12-09 00:15:57,533 - root - INFO - Accuracy: 91.91%\n",
            "2023-12-09 00:15:57,534 - root - INFO - Precision: 0.9058\n",
            "2023-12-09 00:15:57,535 - root - INFO - Recall: 0.9191\n",
            "2023-12-09 00:15:57,536 - root - INFO - F1 Score: 0.9038\n"
          ]
        },
        {
          "output_type": "stream",
          "name": "stdout",
          "text": [
            "Epoch [2/10], Step [100/3079], Loss: 0.4372\n",
            "Epoch [2/10], Step [200/3079], Loss: 0.4440\n",
            "Epoch [2/10], Step [300/3079], Loss: 0.4282\n",
            "Epoch [2/10], Step [400/3079], Loss: 0.0994\n",
            "Epoch [2/10], Step [500/3079], Loss: 0.2609\n",
            "Epoch [2/10], Step [600/3079], Loss: 0.1078\n",
            "Epoch [2/10], Step [700/3079], Loss: 0.1624\n",
            "Epoch [2/10], Step [800/3079], Loss: 0.3213\n",
            "Epoch [2/10], Step [900/3079], Loss: 0.5570\n",
            "Epoch [2/10], Step [1000/3079], Loss: 0.0452\n",
            "Epoch [2/10], Step [1100/3079], Loss: 0.4190\n",
            "Epoch [2/10], Step [1200/3079], Loss: 0.3646\n",
            "Epoch [2/10], Step [1300/3079], Loss: 0.1114\n",
            "Epoch [2/10], Step [1400/3079], Loss: 0.4442\n",
            "Epoch [2/10], Step [1500/3079], Loss: 0.2287\n",
            "Epoch [2/10], Step [1600/3079], Loss: 0.1267\n",
            "Epoch [2/10], Step [1700/3079], Loss: 0.3470\n",
            "Epoch [2/10], Step [1800/3079], Loss: 0.0503\n",
            "Epoch [2/10], Step [1900/3079], Loss: 0.0146\n",
            "Epoch [2/10], Step [2000/3079], Loss: 0.1880\n",
            "Epoch [2/10], Step [2100/3079], Loss: 0.1129\n",
            "Epoch [2/10], Step [2200/3079], Loss: 0.0450\n",
            "Epoch [2/10], Step [2300/3079], Loss: 0.1689\n",
            "Epoch [2/10], Step [2400/3079], Loss: 0.3148\n",
            "Epoch [2/10], Step [2500/3079], Loss: 0.4496\n",
            "Epoch [2/10], Step [2600/3079], Loss: 0.0315\n",
            "Epoch [2/10], Step [2700/3079], Loss: 0.0307\n",
            "Epoch [2/10], Step [2800/3079], Loss: 0.1634\n",
            "Epoch [2/10], Step [2900/3079], Loss: 0.2750\n",
            "Epoch [2/10], Step [3000/3079], Loss: 0.0165\n"
          ]
        },
        {
          "output_type": "stream",
          "name": "stderr",
          "text": [
            "2023-12-09 00:16:14,146 - root - INFO - Accuracy: 94.91%\n",
            "2023-12-09 00:16:14,147 - root - INFO - Precision: 0.9471\n",
            "2023-12-09 00:16:14,148 - root - INFO - Recall: 0.9491\n",
            "2023-12-09 00:16:14,149 - root - INFO - F1 Score: 0.9446\n"
          ]
        },
        {
          "output_type": "stream",
          "name": "stdout",
          "text": [
            "Epoch [3/10], Step [100/3079], Loss: 0.2164\n",
            "Epoch [3/10], Step [200/3079], Loss: 0.0496\n",
            "Epoch [3/10], Step [300/3079], Loss: 0.4554\n",
            "Epoch [3/10], Step [400/3079], Loss: 0.0683\n",
            "Epoch [3/10], Step [500/3079], Loss: 0.0789\n",
            "Epoch [3/10], Step [600/3079], Loss: 0.4113\n",
            "Epoch [3/10], Step [700/3079], Loss: 0.0291\n",
            "Epoch [3/10], Step [800/3079], Loss: 0.0545\n",
            "Epoch [3/10], Step [900/3079], Loss: 0.0534\n",
            "Epoch [3/10], Step [1000/3079], Loss: 0.0393\n",
            "Epoch [3/10], Step [1100/3079], Loss: 0.2196\n",
            "Epoch [3/10], Step [1200/3079], Loss: 0.1103\n",
            "Epoch [3/10], Step [1300/3079], Loss: 0.1384\n",
            "Epoch [3/10], Step [1400/3079], Loss: 0.0767\n",
            "Epoch [3/10], Step [1500/3079], Loss: 0.1034\n",
            "Epoch [3/10], Step [1600/3079], Loss: 0.0325\n",
            "Epoch [3/10], Step [1700/3079], Loss: 0.0983\n",
            "Epoch [3/10], Step [1800/3079], Loss: 0.0462\n",
            "Epoch [3/10], Step [1900/3079], Loss: 0.2570\n",
            "Epoch [3/10], Step [2000/3079], Loss: 0.0397\n",
            "Epoch [3/10], Step [2100/3079], Loss: 0.2105\n",
            "Epoch [3/10], Step [2200/3079], Loss: 0.2744\n",
            "Epoch [3/10], Step [2300/3079], Loss: 0.0189\n",
            "Epoch [3/10], Step [2400/3079], Loss: 0.1785\n",
            "Epoch [3/10], Step [2500/3079], Loss: 0.1536\n",
            "Epoch [3/10], Step [2600/3079], Loss: 0.0415\n",
            "Epoch [3/10], Step [2700/3079], Loss: 0.1090\n",
            "Epoch [3/10], Step [2800/3079], Loss: 0.0193\n",
            "Epoch [3/10], Step [2900/3079], Loss: 0.1180\n",
            "Epoch [3/10], Step [3000/3079], Loss: 0.1823\n"
          ]
        },
        {
          "output_type": "stream",
          "name": "stderr",
          "text": [
            "2023-12-09 00:16:30,738 - root - INFO - Accuracy: 96.42%\n",
            "2023-12-09 00:16:30,739 - root - INFO - Precision: 0.9628\n",
            "2023-12-09 00:16:30,741 - root - INFO - Recall: 0.9642\n",
            "2023-12-09 00:16:30,741 - root - INFO - F1 Score: 0.9624\n"
          ]
        },
        {
          "output_type": "stream",
          "name": "stdout",
          "text": [
            "Epoch [4/10], Step [100/3079], Loss: 0.1831\n",
            "Epoch [4/10], Step [200/3079], Loss: 0.3375\n",
            "Epoch [4/10], Step [300/3079], Loss: 0.0239\n",
            "Epoch [4/10], Step [400/3079], Loss: 0.0812\n",
            "Epoch [4/10], Step [500/3079], Loss: 0.3332\n",
            "Epoch [4/10], Step [600/3079], Loss: 0.1666\n",
            "Epoch [4/10], Step [700/3079], Loss: 0.1688\n",
            "Epoch [4/10], Step [800/3079], Loss: 0.1090\n",
            "Epoch [4/10], Step [900/3079], Loss: 0.0417\n",
            "Epoch [4/10], Step [1000/3079], Loss: 0.2454\n",
            "Epoch [4/10], Step [1100/3079], Loss: 0.3141\n",
            "Epoch [4/10], Step [1200/3079], Loss: 0.0168\n",
            "Epoch [4/10], Step [1300/3079], Loss: 0.0231\n",
            "Epoch [4/10], Step [1400/3079], Loss: 0.0781\n",
            "Epoch [4/10], Step [1500/3079], Loss: 0.2216\n",
            "Epoch [4/10], Step [1600/3079], Loss: 0.1386\n",
            "Epoch [4/10], Step [1700/3079], Loss: 0.0896\n",
            "Epoch [4/10], Step [1800/3079], Loss: 0.1419\n",
            "Epoch [4/10], Step [1900/3079], Loss: 0.2585\n",
            "Epoch [4/10], Step [2000/3079], Loss: 0.3139\n",
            "Epoch [4/10], Step [2100/3079], Loss: 0.0404\n",
            "Epoch [4/10], Step [2200/3079], Loss: 0.0179\n",
            "Epoch [4/10], Step [2300/3079], Loss: 0.1114\n",
            "Epoch [4/10], Step [2400/3079], Loss: 0.1871\n",
            "Epoch [4/10], Step [2500/3079], Loss: 0.0990\n",
            "Epoch [4/10], Step [2600/3079], Loss: 0.0413\n",
            "Epoch [4/10], Step [2700/3079], Loss: 0.1570\n",
            "Epoch [4/10], Step [2800/3079], Loss: 0.0207\n",
            "Epoch [4/10], Step [2900/3079], Loss: 0.0137\n",
            "Epoch [4/10], Step [3000/3079], Loss: 0.0861\n"
          ]
        },
        {
          "output_type": "stream",
          "name": "stderr",
          "text": [
            "2023-12-09 00:16:47,357 - root - INFO - Accuracy: 96.76%\n",
            "2023-12-09 00:16:47,358 - root - INFO - Precision: 0.9673\n",
            "2023-12-09 00:16:47,359 - root - INFO - Recall: 0.9676\n",
            "2023-12-09 00:16:47,360 - root - INFO - F1 Score: 0.9670\n"
          ]
        },
        {
          "output_type": "stream",
          "name": "stdout",
          "text": [
            "Epoch [5/10], Step [100/3079], Loss: 0.3766\n",
            "Epoch [5/10], Step [200/3079], Loss: 0.0635\n",
            "Epoch [5/10], Step [300/3079], Loss: 0.0341\n",
            "Epoch [5/10], Step [400/3079], Loss: 0.2052\n",
            "Epoch [5/10], Step [500/3079], Loss: 0.6214\n",
            "Epoch [5/10], Step [600/3079], Loss: 0.0295\n",
            "Epoch [5/10], Step [700/3079], Loss: 0.0469\n",
            "Epoch [5/10], Step [800/3079], Loss: 0.0109\n",
            "Epoch [5/10], Step [900/3079], Loss: 0.0292\n",
            "Epoch [5/10], Step [1000/3079], Loss: 0.0066\n",
            "Epoch [5/10], Step [1100/3079], Loss: 0.0314\n",
            "Epoch [5/10], Step [1200/3079], Loss: 0.1466\n",
            "Epoch [5/10], Step [1300/3079], Loss: 0.0886\n",
            "Epoch [5/10], Step [1400/3079], Loss: 0.0175\n",
            "Epoch [5/10], Step [1500/3079], Loss: 0.0713\n",
            "Epoch [5/10], Step [1600/3079], Loss: 0.0336\n",
            "Epoch [5/10], Step [1700/3079], Loss: 0.0588\n",
            "Epoch [5/10], Step [1800/3079], Loss: 0.0060\n",
            "Epoch [5/10], Step [1900/3079], Loss: 0.0599\n",
            "Epoch [5/10], Step [2000/3079], Loss: 0.0123\n",
            "Epoch [5/10], Step [2100/3079], Loss: 0.1857\n",
            "Epoch [5/10], Step [2200/3079], Loss: 0.1598\n",
            "Epoch [5/10], Step [2300/3079], Loss: 0.3638\n",
            "Epoch [5/10], Step [2400/3079], Loss: 0.0876\n",
            "Epoch [5/10], Step [2500/3079], Loss: 0.0245\n",
            "Epoch [5/10], Step [2600/3079], Loss: 0.0229\n",
            "Epoch [5/10], Step [2700/3079], Loss: 0.3980\n",
            "Epoch [5/10], Step [2800/3079], Loss: 0.0393\n",
            "Epoch [5/10], Step [2900/3079], Loss: 0.1454\n",
            "Epoch [5/10], Step [3000/3079], Loss: 0.0527\n"
          ]
        },
        {
          "output_type": "stream",
          "name": "stderr",
          "text": [
            "2023-12-09 00:17:03,793 - root - INFO - Accuracy: 97.28%\n",
            "2023-12-09 00:17:03,794 - root - INFO - Precision: 0.9718\n",
            "2023-12-09 00:17:03,795 - root - INFO - Recall: 0.9728\n",
            "2023-12-09 00:17:03,796 - root - INFO - F1 Score: 0.9718\n"
          ]
        },
        {
          "output_type": "stream",
          "name": "stdout",
          "text": [
            "Epoch [6/10], Step [100/3079], Loss: 0.0202\n",
            "Epoch [6/10], Step [200/3079], Loss: 0.0424\n",
            "Epoch [6/10], Step [300/3079], Loss: 0.0253\n",
            "Epoch [6/10], Step [400/3079], Loss: 0.0554\n",
            "Epoch [6/10], Step [500/3079], Loss: 0.2663\n",
            "Epoch [6/10], Step [600/3079], Loss: 0.0034\n",
            "Epoch [6/10], Step [700/3079], Loss: 0.0691\n",
            "Epoch [6/10], Step [800/3079], Loss: 0.0079\n",
            "Epoch [6/10], Step [900/3079], Loss: 0.0115\n",
            "Epoch [6/10], Step [1000/3079], Loss: 0.0638\n",
            "Epoch [6/10], Step [1100/3079], Loss: 0.1176\n",
            "Epoch [6/10], Step [1200/3079], Loss: 0.0056\n",
            "Epoch [6/10], Step [1300/3079], Loss: 0.0588\n",
            "Epoch [6/10], Step [1400/3079], Loss: 0.0555\n",
            "Epoch [6/10], Step [1500/3079], Loss: 0.0573\n",
            "Epoch [6/10], Step [1600/3079], Loss: 0.1091\n",
            "Epoch [6/10], Step [1700/3079], Loss: 0.0143\n",
            "Epoch [6/10], Step [1800/3079], Loss: 0.1048\n",
            "Epoch [6/10], Step [1900/3079], Loss: 0.0179\n",
            "Epoch [6/10], Step [2000/3079], Loss: 0.1228\n",
            "Epoch [6/10], Step [2100/3079], Loss: 0.1680\n",
            "Epoch [6/10], Step [2200/3079], Loss: 0.0447\n",
            "Epoch [6/10], Step [2300/3079], Loss: 0.0380\n",
            "Epoch [6/10], Step [2400/3079], Loss: 0.0958\n",
            "Epoch [6/10], Step [2500/3079], Loss: 0.0218\n",
            "Epoch [6/10], Step [2600/3079], Loss: 0.0077\n",
            "Epoch [6/10], Step [2700/3079], Loss: 0.0174\n",
            "Epoch [6/10], Step [2800/3079], Loss: 0.2658\n",
            "Epoch [6/10], Step [2900/3079], Loss: 0.0233\n",
            "Epoch [6/10], Step [3000/3079], Loss: 0.0101\n"
          ]
        },
        {
          "output_type": "stream",
          "name": "stderr",
          "text": [
            "2023-12-09 00:17:20,403 - root - INFO - Accuracy: 97.63%\n",
            "2023-12-09 00:17:20,405 - root - INFO - Precision: 0.9752\n",
            "2023-12-09 00:17:20,406 - root - INFO - Recall: 0.9763\n",
            "2023-12-09 00:17:20,407 - root - INFO - F1 Score: 0.9750\n"
          ]
        },
        {
          "output_type": "stream",
          "name": "stdout",
          "text": [
            "Epoch [7/10], Step [100/3079], Loss: 0.0458\n",
            "Epoch [7/10], Step [200/3079], Loss: 0.0842\n",
            "Epoch [7/10], Step [300/3079], Loss: 0.1432\n",
            "Epoch [7/10], Step [400/3079], Loss: 0.0734\n",
            "Epoch [7/10], Step [500/3079], Loss: 0.3209\n",
            "Epoch [7/10], Step [600/3079], Loss: 0.1160\n",
            "Epoch [7/10], Step [700/3079], Loss: 0.0279\n",
            "Epoch [7/10], Step [800/3079], Loss: 0.1134\n",
            "Epoch [7/10], Step [900/3079], Loss: 0.0071\n",
            "Epoch [7/10], Step [1000/3079], Loss: 0.1707\n",
            "Epoch [7/10], Step [1100/3079], Loss: 0.0433\n",
            "Epoch [7/10], Step [1200/3079], Loss: 0.1168\n",
            "Epoch [7/10], Step [1300/3079], Loss: 0.2140\n",
            "Epoch [7/10], Step [1400/3079], Loss: 0.0635\n",
            "Epoch [7/10], Step [1500/3079], Loss: 0.1036\n",
            "Epoch [7/10], Step [1600/3079], Loss: 0.1829\n",
            "Epoch [7/10], Step [1700/3079], Loss: 0.1325\n",
            "Epoch [7/10], Step [1800/3079], Loss: 0.2202\n",
            "Epoch [7/10], Step [1900/3079], Loss: 0.0558\n",
            "Epoch [7/10], Step [2000/3079], Loss: 0.0166\n",
            "Epoch [7/10], Step [2100/3079], Loss: 0.2068\n",
            "Epoch [7/10], Step [2200/3079], Loss: 0.0068\n",
            "Epoch [7/10], Step [2300/3079], Loss: 0.0066\n",
            "Epoch [7/10], Step [2400/3079], Loss: 0.0441\n",
            "Epoch [7/10], Step [2500/3079], Loss: 0.0079\n",
            "Epoch [7/10], Step [2600/3079], Loss: 0.0220\n",
            "Epoch [7/10], Step [2700/3079], Loss: 0.0189\n",
            "Epoch [7/10], Step [2800/3079], Loss: 0.1109\n",
            "Epoch [7/10], Step [2900/3079], Loss: 0.0586\n",
            "Epoch [7/10], Step [3000/3079], Loss: 0.6202\n"
          ]
        },
        {
          "output_type": "stream",
          "name": "stderr",
          "text": [
            "2023-12-09 00:17:37,011 - root - INFO - Accuracy: 97.34%\n",
            "2023-12-09 00:17:37,013 - root - INFO - Precision: 0.9727\n",
            "2023-12-09 00:17:37,015 - root - INFO - Recall: 0.9734\n",
            "2023-12-09 00:17:37,016 - root - INFO - F1 Score: 0.9721\n"
          ]
        },
        {
          "output_type": "stream",
          "name": "stdout",
          "text": [
            "Epoch [8/10], Step [100/3079], Loss: 0.0257\n",
            "Epoch [8/10], Step [200/3079], Loss: 0.0093\n",
            "Epoch [8/10], Step [300/3079], Loss: 0.0057\n",
            "Epoch [8/10], Step [400/3079], Loss: 0.0081\n",
            "Epoch [8/10], Step [500/3079], Loss: 0.0765\n",
            "Epoch [8/10], Step [600/3079], Loss: 0.0422\n",
            "Epoch [8/10], Step [700/3079], Loss: 0.0085\n",
            "Epoch [8/10], Step [800/3079], Loss: 0.0264\n",
            "Epoch [8/10], Step [900/3079], Loss: 0.0087\n",
            "Epoch [8/10], Step [1000/3079], Loss: 0.4164\n",
            "Epoch [8/10], Step [1100/3079], Loss: 0.1078\n",
            "Epoch [8/10], Step [1200/3079], Loss: 0.0051\n",
            "Epoch [8/10], Step [1300/3079], Loss: 0.0290\n",
            "Epoch [8/10], Step [1400/3079], Loss: 0.1249\n",
            "Epoch [8/10], Step [1500/3079], Loss: 0.0417\n",
            "Epoch [8/10], Step [1600/3079], Loss: 0.0739\n",
            "Epoch [8/10], Step [1700/3079], Loss: 0.1024\n",
            "Epoch [8/10], Step [1800/3079], Loss: 0.2385\n",
            "Epoch [8/10], Step [1900/3079], Loss: 0.0378\n",
            "Epoch [8/10], Step [2000/3079], Loss: 0.0145\n",
            "Epoch [8/10], Step [2100/3079], Loss: 0.0087\n",
            "Epoch [8/10], Step [2200/3079], Loss: 0.1094\n",
            "Epoch [8/10], Step [2300/3079], Loss: 0.0866\n",
            "Epoch [8/10], Step [2400/3079], Loss: 0.4006\n",
            "Epoch [8/10], Step [2500/3079], Loss: 0.0037\n",
            "Epoch [8/10], Step [2600/3079], Loss: 0.1560\n",
            "Epoch [8/10], Step [2700/3079], Loss: 0.1489\n",
            "Epoch [8/10], Step [2800/3079], Loss: 0.0118\n",
            "Epoch [8/10], Step [2900/3079], Loss: 0.0947\n",
            "Epoch [8/10], Step [3000/3079], Loss: 0.0145\n"
          ]
        },
        {
          "output_type": "stream",
          "name": "stderr",
          "text": [
            "2023-12-09 00:17:53,645 - root - INFO - Accuracy: 97.98%\n",
            "2023-12-09 00:17:53,646 - root - INFO - Precision: 0.9794\n",
            "2023-12-09 00:17:53,647 - root - INFO - Recall: 0.9798\n",
            "2023-12-09 00:17:53,648 - root - INFO - F1 Score: 0.9787\n"
          ]
        },
        {
          "output_type": "stream",
          "name": "stdout",
          "text": [
            "Epoch [9/10], Step [100/3079], Loss: 0.0343\n",
            "Epoch [9/10], Step [200/3079], Loss: 0.1804\n",
            "Epoch [9/10], Step [300/3079], Loss: 0.0024\n",
            "Epoch [9/10], Step [400/3079], Loss: 0.0042\n",
            "Epoch [9/10], Step [500/3079], Loss: 0.0228\n",
            "Epoch [9/10], Step [600/3079], Loss: 0.1451\n",
            "Epoch [9/10], Step [700/3079], Loss: 0.0077\n",
            "Epoch [9/10], Step [800/3079], Loss: 0.0885\n",
            "Epoch [9/10], Step [900/3079], Loss: 0.0459\n",
            "Epoch [9/10], Step [1000/3079], Loss: 0.0164\n",
            "Epoch [9/10], Step [1100/3079], Loss: 0.0069\n",
            "Epoch [9/10], Step [1200/3079], Loss: 0.2549\n",
            "Epoch [9/10], Step [1300/3079], Loss: 0.0256\n",
            "Epoch [9/10], Step [1400/3079], Loss: 0.0595\n",
            "Epoch [9/10], Step [1500/3079], Loss: 0.2360\n",
            "Epoch [9/10], Step [1600/3079], Loss: 0.2046\n",
            "Epoch [9/10], Step [1700/3079], Loss: 0.0035\n",
            "Epoch [9/10], Step [1800/3079], Loss: 0.0527\n",
            "Epoch [9/10], Step [1900/3079], Loss: 0.0395\n",
            "Epoch [9/10], Step [2000/3079], Loss: 0.0908\n",
            "Epoch [9/10], Step [2100/3079], Loss: 0.1471\n",
            "Epoch [9/10], Step [2200/3079], Loss: 0.0036\n",
            "Epoch [9/10], Step [2300/3079], Loss: 0.0047\n",
            "Epoch [9/10], Step [2400/3079], Loss: 0.1224\n",
            "Epoch [9/10], Step [2500/3079], Loss: 0.0619\n",
            "Epoch [9/10], Step [2600/3079], Loss: 0.0044\n",
            "Epoch [9/10], Step [2700/3079], Loss: 0.0911\n",
            "Epoch [9/10], Step [2800/3079], Loss: 0.0483\n",
            "Epoch [9/10], Step [2900/3079], Loss: 0.0392\n",
            "Epoch [9/10], Step [3000/3079], Loss: 0.0779\n"
          ]
        },
        {
          "output_type": "stream",
          "name": "stderr",
          "text": [
            "2023-12-09 00:18:10,268 - root - INFO - Accuracy: 97.93%\n",
            "2023-12-09 00:18:10,269 - root - INFO - Precision: 0.9785\n",
            "2023-12-09 00:18:10,270 - root - INFO - Recall: 0.9793\n",
            "2023-12-09 00:18:10,273 - root - INFO - F1 Score: 0.9785\n"
          ]
        },
        {
          "output_type": "stream",
          "name": "stdout",
          "text": [
            "Epoch [10/10], Step [100/3079], Loss: 0.2121\n",
            "Epoch [10/10], Step [200/3079], Loss: 0.0030\n",
            "Epoch [10/10], Step [300/3079], Loss: 0.0044\n",
            "Epoch [10/10], Step [400/3079], Loss: 0.1462\n",
            "Epoch [10/10], Step [500/3079], Loss: 0.0093\n",
            "Epoch [10/10], Step [600/3079], Loss: 0.0862\n",
            "Epoch [10/10], Step [700/3079], Loss: 0.0043\n",
            "Epoch [10/10], Step [800/3079], Loss: 0.0802\n",
            "Epoch [10/10], Step [900/3079], Loss: 0.0064\n",
            "Epoch [10/10], Step [1000/3079], Loss: 0.0244\n",
            "Epoch [10/10], Step [1100/3079], Loss: 0.0193\n",
            "Epoch [10/10], Step [1200/3079], Loss: 0.0221\n",
            "Epoch [10/10], Step [1300/3079], Loss: 0.2349\n",
            "Epoch [10/10], Step [1400/3079], Loss: 0.0206\n",
            "Epoch [10/10], Step [1500/3079], Loss: 0.1651\n",
            "Epoch [10/10], Step [1600/3079], Loss: 0.1304\n",
            "Epoch [10/10], Step [1700/3079], Loss: 0.0184\n",
            "Epoch [10/10], Step [1800/3079], Loss: 0.0365\n",
            "Epoch [10/10], Step [1900/3079], Loss: 0.1545\n",
            "Epoch [10/10], Step [2000/3079], Loss: 0.1970\n",
            "Epoch [10/10], Step [2100/3079], Loss: 0.0174\n",
            "Epoch [10/10], Step [2200/3079], Loss: 0.1850\n",
            "Epoch [10/10], Step [2300/3079], Loss: 0.0280\n",
            "Epoch [10/10], Step [2400/3079], Loss: 0.0028\n",
            "Epoch [10/10], Step [2500/3079], Loss: 0.0260\n",
            "Epoch [10/10], Step [2600/3079], Loss: 0.1082\n",
            "Epoch [10/10], Step [2700/3079], Loss: 0.0278\n",
            "Epoch [10/10], Step [2800/3079], Loss: 0.0037\n",
            "Epoch [10/10], Step [2900/3079], Loss: 0.0307\n",
            "Epoch [10/10], Step [3000/3079], Loss: 0.0055\n"
          ]
        },
        {
          "output_type": "stream",
          "name": "stderr",
          "text": [
            "2023-12-09 00:18:26,903 - root - INFO - Accuracy: 97.69%\n",
            "2023-12-09 00:18:26,904 - root - INFO - Precision: 0.9765\n",
            "2023-12-09 00:18:26,905 - root - INFO - Recall: 0.9769\n",
            "2023-12-09 00:18:26,906 - root - INFO - F1 Score: 0.9753\n"
          ]
        },
        {
          "output_type": "stream",
          "name": "stdout",
          "text": [
            "FOLD 5\n",
            "--------------------------------\n",
            "AttentionLSTM(\n",
            "  (lstm): LSTM(1, 128, num_layers=2, batch_first=True)\n",
            "  (attention): SelfAttention(\n",
            "    (query): Linear(in_features=128, out_features=128, bias=True)\n",
            "    (key): Linear(in_features=128, out_features=128, bias=True)\n",
            "    (value): Linear(in_features=128, out_features=128, bias=True)\n",
            "  )\n",
            "  (fc): Linear(in_features=128, out_features=5, bias=True)\n",
            ")\n",
            "Epoch [1/10], Step [100/3079], Loss: 0.6977\n",
            "Epoch [1/10], Step [200/3079], Loss: 0.7380\n",
            "Epoch [1/10], Step [300/3079], Loss: 0.4190\n",
            "Epoch [1/10], Step [400/3079], Loss: 0.5839\n",
            "Epoch [1/10], Step [500/3079], Loss: 0.6407\n",
            "Epoch [1/10], Step [600/3079], Loss: 1.0645\n",
            "Epoch [1/10], Step [700/3079], Loss: 0.6067\n",
            "Epoch [1/10], Step [800/3079], Loss: 1.1859\n",
            "Epoch [1/10], Step [900/3079], Loss: 0.4417\n",
            "Epoch [1/10], Step [1000/3079], Loss: 0.5397\n",
            "Epoch [1/10], Step [1100/3079], Loss: 0.3430\n",
            "Epoch [1/10], Step [1200/3079], Loss: 0.3540\n",
            "Epoch [1/10], Step [1300/3079], Loss: 0.3051\n",
            "Epoch [1/10], Step [1400/3079], Loss: 0.0948\n",
            "Epoch [1/10], Step [1500/3079], Loss: 0.5212\n",
            "Epoch [1/10], Step [1600/3079], Loss: 0.1089\n",
            "Epoch [1/10], Step [1700/3079], Loss: 0.7591\n",
            "Epoch [1/10], Step [1800/3079], Loss: 0.2954\n",
            "Epoch [1/10], Step [1900/3079], Loss: 0.5038\n",
            "Epoch [1/10], Step [2000/3079], Loss: 0.3471\n",
            "Epoch [1/10], Step [2100/3079], Loss: 0.1664\n",
            "Epoch [1/10], Step [2200/3079], Loss: 0.7371\n",
            "Epoch [1/10], Step [2300/3079], Loss: 0.4452\n",
            "Epoch [1/10], Step [2400/3079], Loss: 0.1442\n",
            "Epoch [1/10], Step [2500/3079], Loss: 0.3226\n",
            "Epoch [1/10], Step [2600/3079], Loss: 0.1354\n",
            "Epoch [1/10], Step [2700/3079], Loss: 0.1827\n",
            "Epoch [1/10], Step [2800/3079], Loss: 0.2178\n",
            "Epoch [1/10], Step [2900/3079], Loss: 0.2702\n",
            "Epoch [1/10], Step [3000/3079], Loss: 0.1818\n"
          ]
        },
        {
          "output_type": "stream",
          "name": "stderr",
          "text": [
            "/usr/local/lib/python3.10/dist-packages/sklearn/metrics/_classification.py:1344: UndefinedMetricWarning: Precision is ill-defined and being set to 0.0 in labels with no predicted samples. Use `zero_division` parameter to control this behavior.\n",
            "  _warn_prf(average, modifier, msg_start, len(result))\n",
            "2023-12-09 00:18:43,267 - root - INFO - Accuracy: 91.68%\n",
            "2023-12-09 00:18:43,268 - root - INFO - Precision: 0.8834\n",
            "2023-12-09 00:18:43,269 - root - INFO - Recall: 0.9168\n",
            "2023-12-09 00:18:43,270 - root - INFO - F1 Score: 0.8978\n"
          ]
        },
        {
          "output_type": "stream",
          "name": "stdout",
          "text": [
            "Epoch [2/10], Step [100/3079], Loss: 0.1253\n",
            "Epoch [2/10], Step [200/3079], Loss: 0.1976\n",
            "Epoch [2/10], Step [300/3079], Loss: 0.4548\n",
            "Epoch [2/10], Step [400/3079], Loss: 0.3437\n",
            "Epoch [2/10], Step [500/3079], Loss: 0.3779\n",
            "Epoch [2/10], Step [600/3079], Loss: 0.1379\n",
            "Epoch [2/10], Step [700/3079], Loss: 0.2177\n",
            "Epoch [2/10], Step [800/3079], Loss: 0.1893\n",
            "Epoch [2/10], Step [900/3079], Loss: 0.0685\n",
            "Epoch [2/10], Step [1000/3079], Loss: 0.1772\n",
            "Epoch [2/10], Step [1100/3079], Loss: 0.1586\n",
            "Epoch [2/10], Step [1200/3079], Loss: 0.0103\n",
            "Epoch [2/10], Step [1300/3079], Loss: 0.2004\n",
            "Epoch [2/10], Step [1400/3079], Loss: 0.1101\n",
            "Epoch [2/10], Step [1500/3079], Loss: 0.1825\n",
            "Epoch [2/10], Step [1600/3079], Loss: 0.2873\n",
            "Epoch [2/10], Step [1700/3079], Loss: 0.2103\n",
            "Epoch [2/10], Step [1800/3079], Loss: 0.1823\n",
            "Epoch [2/10], Step [1900/3079], Loss: 0.2679\n",
            "Epoch [2/10], Step [2000/3079], Loss: 0.2693\n",
            "Epoch [2/10], Step [2100/3079], Loss: 0.0202\n",
            "Epoch [2/10], Step [2200/3079], Loss: 0.1505\n",
            "Epoch [2/10], Step [2300/3079], Loss: 0.1534\n",
            "Epoch [2/10], Step [2400/3079], Loss: 0.0527\n",
            "Epoch [2/10], Step [2500/3079], Loss: 0.2425\n",
            "Epoch [2/10], Step [2600/3079], Loss: 0.0623\n",
            "Epoch [2/10], Step [2700/3079], Loss: 0.0464\n",
            "Epoch [2/10], Step [2800/3079], Loss: 0.0621\n",
            "Epoch [2/10], Step [2900/3079], Loss: 0.1972\n",
            "Epoch [2/10], Step [3000/3079], Loss: 0.0728\n"
          ]
        },
        {
          "output_type": "stream",
          "name": "stderr",
          "text": [
            "2023-12-09 00:18:59,847 - root - INFO - Accuracy: 94.81%\n",
            "2023-12-09 00:18:59,849 - root - INFO - Precision: 0.9468\n",
            "2023-12-09 00:18:59,850 - root - INFO - Recall: 0.9481\n",
            "2023-12-09 00:18:59,851 - root - INFO - F1 Score: 0.9412\n"
          ]
        },
        {
          "output_type": "stream",
          "name": "stdout",
          "text": [
            "Epoch [3/10], Step [100/3079], Loss: 0.3013\n",
            "Epoch [3/10], Step [200/3079], Loss: 0.1079\n",
            "Epoch [3/10], Step [300/3079], Loss: 0.1785\n",
            "Epoch [3/10], Step [400/3079], Loss: 0.1105\n",
            "Epoch [3/10], Step [500/3079], Loss: 0.0439\n",
            "Epoch [3/10], Step [600/3079], Loss: 0.2235\n",
            "Epoch [3/10], Step [700/3079], Loss: 0.1736\n",
            "Epoch [3/10], Step [800/3079], Loss: 0.3602\n",
            "Epoch [3/10], Step [900/3079], Loss: 0.1024\n",
            "Epoch [3/10], Step [1000/3079], Loss: 0.0917\n",
            "Epoch [3/10], Step [1100/3079], Loss: 0.0509\n",
            "Epoch [3/10], Step [1200/3079], Loss: 0.0071\n",
            "Epoch [3/10], Step [1300/3079], Loss: 0.0911\n",
            "Epoch [3/10], Step [1400/3079], Loss: 0.1014\n",
            "Epoch [3/10], Step [1500/3079], Loss: 0.2429\n",
            "Epoch [3/10], Step [1600/3079], Loss: 0.1632\n",
            "Epoch [3/10], Step [1700/3079], Loss: 0.0091\n",
            "Epoch [3/10], Step [1800/3079], Loss: 0.0296\n",
            "Epoch [3/10], Step [1900/3079], Loss: 0.0237\n",
            "Epoch [3/10], Step [2000/3079], Loss: 0.0922\n",
            "Epoch [3/10], Step [2100/3079], Loss: 0.1398\n",
            "Epoch [3/10], Step [2200/3079], Loss: 0.0385\n",
            "Epoch [3/10], Step [2300/3079], Loss: 0.1342\n",
            "Epoch [3/10], Step [2400/3079], Loss: 0.1277\n",
            "Epoch [3/10], Step [2500/3079], Loss: 0.1518\n",
            "Epoch [3/10], Step [2600/3079], Loss: 0.3419\n",
            "Epoch [3/10], Step [2700/3079], Loss: 0.1369\n",
            "Epoch [3/10], Step [2800/3079], Loss: 0.0942\n",
            "Epoch [3/10], Step [2900/3079], Loss: 0.0833\n",
            "Epoch [3/10], Step [3000/3079], Loss: 0.0401\n"
          ]
        },
        {
          "output_type": "stream",
          "name": "stderr",
          "text": [
            "2023-12-09 00:19:16,434 - root - INFO - Accuracy: 95.71%\n",
            "2023-12-09 00:19:16,435 - root - INFO - Precision: 0.9574\n",
            "2023-12-09 00:19:16,436 - root - INFO - Recall: 0.9571\n",
            "2023-12-09 00:19:16,437 - root - INFO - F1 Score: 0.9524\n"
          ]
        },
        {
          "output_type": "stream",
          "name": "stdout",
          "text": [
            "Epoch [4/10], Step [100/3079], Loss: 0.4070\n",
            "Epoch [4/10], Step [200/3079], Loss: 0.0238\n",
            "Epoch [4/10], Step [300/3079], Loss: 0.0145\n",
            "Epoch [4/10], Step [400/3079], Loss: 0.1003\n",
            "Epoch [4/10], Step [500/3079], Loss: 0.1770\n",
            "Epoch [4/10], Step [600/3079], Loss: 0.0642\n",
            "Epoch [4/10], Step [700/3079], Loss: 0.0709\n",
            "Epoch [4/10], Step [800/3079], Loss: 0.1639\n",
            "Epoch [4/10], Step [900/3079], Loss: 0.2971\n",
            "Epoch [4/10], Step [1000/3079], Loss: 0.2713\n",
            "Epoch [4/10], Step [1100/3079], Loss: 0.1065\n",
            "Epoch [4/10], Step [1200/3079], Loss: 0.3907\n",
            "Epoch [4/10], Step [1300/3079], Loss: 0.0596\n",
            "Epoch [4/10], Step [1400/3079], Loss: 0.0989\n",
            "Epoch [4/10], Step [1500/3079], Loss: 0.0943\n",
            "Epoch [4/10], Step [1600/3079], Loss: 0.1294\n",
            "Epoch [4/10], Step [1700/3079], Loss: 0.1879\n",
            "Epoch [4/10], Step [1800/3079], Loss: 0.0169\n",
            "Epoch [4/10], Step [1900/3079], Loss: 0.0590\n",
            "Epoch [4/10], Step [2000/3079], Loss: 0.0358\n",
            "Epoch [4/10], Step [2100/3079], Loss: 0.2783\n",
            "Epoch [4/10], Step [2200/3079], Loss: 0.1749\n",
            "Epoch [4/10], Step [2300/3079], Loss: 0.2587\n",
            "Epoch [4/10], Step [2400/3079], Loss: 0.0794\n",
            "Epoch [4/10], Step [2500/3079], Loss: 0.1758\n",
            "Epoch [4/10], Step [2600/3079], Loss: 0.0444\n",
            "Epoch [4/10], Step [2700/3079], Loss: 0.0767\n",
            "Epoch [4/10], Step [2800/3079], Loss: 0.1854\n",
            "Epoch [4/10], Step [2900/3079], Loss: 0.0162\n",
            "Epoch [4/10], Step [3000/3079], Loss: 0.0770\n"
          ]
        },
        {
          "output_type": "stream",
          "name": "stderr",
          "text": [
            "2023-12-09 00:19:33,038 - root - INFO - Accuracy: 96.73%\n",
            "2023-12-09 00:19:33,040 - root - INFO - Precision: 0.9663\n",
            "2023-12-09 00:19:33,040 - root - INFO - Recall: 0.9673\n",
            "2023-12-09 00:19:33,041 - root - INFO - F1 Score: 0.9663\n"
          ]
        },
        {
          "output_type": "stream",
          "name": "stdout",
          "text": [
            "Epoch [5/10], Step [100/3079], Loss: 0.3458\n",
            "Epoch [5/10], Step [200/3079], Loss: 0.0984\n",
            "Epoch [5/10], Step [300/3079], Loss: 0.0523\n",
            "Epoch [5/10], Step [400/3079], Loss: 0.0929\n",
            "Epoch [5/10], Step [500/3079], Loss: 0.2849\n",
            "Epoch [5/10], Step [600/3079], Loss: 0.0479\n",
            "Epoch [5/10], Step [700/3079], Loss: 0.0977\n",
            "Epoch [5/10], Step [800/3079], Loss: 0.0702\n",
            "Epoch [5/10], Step [900/3079], Loss: 0.0285\n",
            "Epoch [5/10], Step [1000/3079], Loss: 0.0710\n",
            "Epoch [5/10], Step [1100/3079], Loss: 0.1524\n",
            "Epoch [5/10], Step [1200/3079], Loss: 0.0827\n",
            "Epoch [5/10], Step [1300/3079], Loss: 0.0796\n",
            "Epoch [5/10], Step [1400/3079], Loss: 0.3782\n",
            "Epoch [5/10], Step [1500/3079], Loss: 0.1008\n",
            "Epoch [5/10], Step [1600/3079], Loss: 0.0436\n",
            "Epoch [5/10], Step [1700/3079], Loss: 0.0135\n",
            "Epoch [5/10], Step [1800/3079], Loss: 0.0306\n",
            "Epoch [5/10], Step [1900/3079], Loss: 0.0465\n",
            "Epoch [5/10], Step [2000/3079], Loss: 0.0487\n",
            "Epoch [5/10], Step [2100/3079], Loss: 0.0270\n",
            "Epoch [5/10], Step [2200/3079], Loss: 0.0943\n",
            "Epoch [5/10], Step [2300/3079], Loss: 0.2153\n",
            "Epoch [5/10], Step [2400/3079], Loss: 0.1016\n",
            "Epoch [5/10], Step [2500/3079], Loss: 0.0671\n",
            "Epoch [5/10], Step [2600/3079], Loss: 0.0744\n",
            "Epoch [5/10], Step [2700/3079], Loss: 0.0261\n",
            "Epoch [5/10], Step [2800/3079], Loss: 0.0866\n",
            "Epoch [5/10], Step [2900/3079], Loss: 0.1041\n",
            "Epoch [5/10], Step [3000/3079], Loss: 0.2700\n"
          ]
        },
        {
          "output_type": "stream",
          "name": "stderr",
          "text": [
            "2023-12-09 00:19:49,674 - root - INFO - Accuracy: 97.11%\n",
            "2023-12-09 00:19:49,675 - root - INFO - Precision: 0.9710\n",
            "2023-12-09 00:19:49,676 - root - INFO - Recall: 0.9711\n",
            "2023-12-09 00:19:49,677 - root - INFO - F1 Score: 0.9700\n"
          ]
        },
        {
          "output_type": "stream",
          "name": "stdout",
          "text": [
            "Epoch [6/10], Step [100/3079], Loss: 0.0527\n",
            "Epoch [6/10], Step [200/3079], Loss: 0.0321\n",
            "Epoch [6/10], Step [300/3079], Loss: 0.0124\n",
            "Epoch [6/10], Step [400/3079], Loss: 0.1338\n",
            "Epoch [6/10], Step [500/3079], Loss: 0.0399\n",
            "Epoch [6/10], Step [600/3079], Loss: 0.0953\n",
            "Epoch [6/10], Step [700/3079], Loss: 0.0302\n",
            "Epoch [6/10], Step [800/3079], Loss: 0.0486\n",
            "Epoch [6/10], Step [900/3079], Loss: 0.0827\n",
            "Epoch [6/10], Step [1000/3079], Loss: 0.0131\n",
            "Epoch [6/10], Step [1100/3079], Loss: 0.1797\n",
            "Epoch [6/10], Step [1200/3079], Loss: 0.0908\n",
            "Epoch [6/10], Step [1300/3079], Loss: 0.1579\n",
            "Epoch [6/10], Step [1400/3079], Loss: 0.1014\n",
            "Epoch [6/10], Step [1500/3079], Loss: 0.0462\n",
            "Epoch [6/10], Step [1600/3079], Loss: 0.0760\n",
            "Epoch [6/10], Step [1700/3079], Loss: 0.0404\n",
            "Epoch [6/10], Step [1800/3079], Loss: 0.0666\n",
            "Epoch [6/10], Step [1900/3079], Loss: 0.2213\n",
            "Epoch [6/10], Step [2000/3079], Loss: 0.3510\n",
            "Epoch [6/10], Step [2100/3079], Loss: 0.0769\n",
            "Epoch [6/10], Step [2200/3079], Loss: 0.1828\n",
            "Epoch [6/10], Step [2300/3079], Loss: 0.2162\n",
            "Epoch [6/10], Step [2400/3079], Loss: 0.1363\n",
            "Epoch [6/10], Step [2500/3079], Loss: 0.1225\n",
            "Epoch [6/10], Step [2600/3079], Loss: 0.2433\n",
            "Epoch [6/10], Step [2700/3079], Loss: 0.0746\n",
            "Epoch [6/10], Step [2800/3079], Loss: 0.1111\n",
            "Epoch [6/10], Step [2900/3079], Loss: 0.0800\n",
            "Epoch [6/10], Step [3000/3079], Loss: 0.0476\n"
          ]
        },
        {
          "output_type": "stream",
          "name": "stderr",
          "text": [
            "2023-12-09 00:20:06,338 - root - INFO - Accuracy: 96.85%\n",
            "2023-12-09 00:20:06,339 - root - INFO - Precision: 0.9677\n",
            "2023-12-09 00:20:06,340 - root - INFO - Recall: 0.9685\n",
            "2023-12-09 00:20:06,341 - root - INFO - F1 Score: 0.9666\n"
          ]
        },
        {
          "output_type": "stream",
          "name": "stdout",
          "text": [
            "Epoch [7/10], Step [100/3079], Loss: 0.1610\n",
            "Epoch [7/10], Step [200/3079], Loss: 0.0091\n",
            "Epoch [7/10], Step [300/3079], Loss: 0.1173\n",
            "Epoch [7/10], Step [400/3079], Loss: 0.0805\n",
            "Epoch [7/10], Step [500/3079], Loss: 0.1467\n",
            "Epoch [7/10], Step [600/3079], Loss: 0.1772\n",
            "Epoch [7/10], Step [700/3079], Loss: 0.0759\n",
            "Epoch [7/10], Step [800/3079], Loss: 0.0222\n",
            "Epoch [7/10], Step [900/3079], Loss: 0.0852\n",
            "Epoch [7/10], Step [1000/3079], Loss: 0.2728\n",
            "Epoch [7/10], Step [1100/3079], Loss: 0.2927\n",
            "Epoch [7/10], Step [1200/3079], Loss: 0.1533\n",
            "Epoch [7/10], Step [1300/3079], Loss: 0.0268\n",
            "Epoch [7/10], Step [1400/3079], Loss: 0.0819\n",
            "Epoch [7/10], Step [1500/3079], Loss: 0.0231\n",
            "Epoch [7/10], Step [1600/3079], Loss: 0.1025\n",
            "Epoch [7/10], Step [1700/3079], Loss: 0.2102\n",
            "Epoch [7/10], Step [1800/3079], Loss: 0.0122\n",
            "Epoch [7/10], Step [1900/3079], Loss: 0.1568\n",
            "Epoch [7/10], Step [2000/3079], Loss: 0.0202\n",
            "Epoch [7/10], Step [2100/3079], Loss: 0.0625\n",
            "Epoch [7/10], Step [2200/3079], Loss: 0.0036\n",
            "Epoch [7/10], Step [2300/3079], Loss: 0.0168\n",
            "Epoch [7/10], Step [2400/3079], Loss: 0.1474\n",
            "Epoch [7/10], Step [2500/3079], Loss: 0.0229\n",
            "Epoch [7/10], Step [2600/3079], Loss: 0.0321\n",
            "Epoch [7/10], Step [2700/3079], Loss: 0.0133\n",
            "Epoch [7/10], Step [2800/3079], Loss: 0.1478\n",
            "Epoch [7/10], Step [2900/3079], Loss: 0.0473\n",
            "Epoch [7/10], Step [3000/3079], Loss: 0.0151\n"
          ]
        },
        {
          "output_type": "stream",
          "name": "stderr",
          "text": [
            "2023-12-09 00:20:23,712 - root - INFO - Accuracy: 97.16%\n",
            "2023-12-09 00:20:23,713 - root - INFO - Precision: 0.9722\n",
            "2023-12-09 00:20:23,714 - root - INFO - Recall: 0.9716\n",
            "2023-12-09 00:20:23,715 - root - INFO - F1 Score: 0.9715\n"
          ]
        },
        {
          "output_type": "stream",
          "name": "stdout",
          "text": [
            "Epoch [8/10], Step [100/3079], Loss: 0.0101\n",
            "Epoch [8/10], Step [200/3079], Loss: 0.0375\n",
            "Epoch [8/10], Step [300/3079], Loss: 0.0829\n",
            "Epoch [8/10], Step [400/3079], Loss: 0.0677\n",
            "Epoch [8/10], Step [500/3079], Loss: 0.0218\n",
            "Epoch [8/10], Step [600/3079], Loss: 0.0088\n",
            "Epoch [8/10], Step [700/3079], Loss: 0.1370\n",
            "Epoch [8/10], Step [800/3079], Loss: 0.0101\n",
            "Epoch [8/10], Step [900/3079], Loss: 0.0613\n",
            "Epoch [8/10], Step [1000/3079], Loss: 0.0097\n",
            "Epoch [8/10], Step [1100/3079], Loss: 0.0691\n",
            "Epoch [8/10], Step [1200/3079], Loss: 0.1995\n",
            "Epoch [8/10], Step [1300/3079], Loss: 0.0672\n",
            "Epoch [8/10], Step [1400/3079], Loss: 0.3373\n",
            "Epoch [8/10], Step [1500/3079], Loss: 0.0240\n",
            "Epoch [8/10], Step [1600/3079], Loss: 0.0259\n",
            "Epoch [8/10], Step [1700/3079], Loss: 0.1195\n",
            "Epoch [8/10], Step [1800/3079], Loss: 0.0097\n",
            "Epoch [8/10], Step [1900/3079], Loss: 0.0178\n",
            "Epoch [8/10], Step [2000/3079], Loss: 0.0302\n",
            "Epoch [8/10], Step [2100/3079], Loss: 0.0059\n",
            "Epoch [8/10], Step [2200/3079], Loss: 0.0542\n",
            "Epoch [8/10], Step [2300/3079], Loss: 0.0076\n",
            "Epoch [8/10], Step [2400/3079], Loss: 0.0605\n",
            "Epoch [8/10], Step [2500/3079], Loss: 0.0210\n",
            "Epoch [8/10], Step [2600/3079], Loss: 0.0481\n",
            "Epoch [8/10], Step [2700/3079], Loss: 0.0539\n",
            "Epoch [8/10], Step [2800/3079], Loss: 0.0203\n",
            "Epoch [8/10], Step [2900/3079], Loss: 0.0286\n",
            "Epoch [8/10], Step [3000/3079], Loss: 0.0893\n"
          ]
        },
        {
          "output_type": "stream",
          "name": "stderr",
          "text": [
            "2023-12-09 00:20:40,503 - root - INFO - Accuracy: 97.60%\n",
            "2023-12-09 00:20:40,504 - root - INFO - Precision: 0.9758\n",
            "2023-12-09 00:20:40,505 - root - INFO - Recall: 0.9760\n",
            "2023-12-09 00:20:40,506 - root - INFO - F1 Score: 0.9752\n"
          ]
        },
        {
          "output_type": "stream",
          "name": "stdout",
          "text": [
            "Epoch [9/10], Step [100/3079], Loss: 0.1783\n",
            "Epoch [9/10], Step [200/3079], Loss: 0.0415\n",
            "Epoch [9/10], Step [300/3079], Loss: 0.2404\n",
            "Epoch [9/10], Step [400/3079], Loss: 0.1189\n",
            "Epoch [9/10], Step [500/3079], Loss: 0.0466\n",
            "Epoch [9/10], Step [600/3079], Loss: 0.0802\n",
            "Epoch [9/10], Step [700/3079], Loss: 0.0650\n",
            "Epoch [9/10], Step [800/3079], Loss: 0.0568\n",
            "Epoch [9/10], Step [900/3079], Loss: 0.0247\n",
            "Epoch [9/10], Step [1000/3079], Loss: 0.0482\n",
            "Epoch [9/10], Step [1100/3079], Loss: 0.1315\n",
            "Epoch [9/10], Step [1200/3079], Loss: 0.0750\n",
            "Epoch [9/10], Step [1300/3079], Loss: 0.1208\n",
            "Epoch [9/10], Step [1400/3079], Loss: 0.0030\n",
            "Epoch [9/10], Step [1500/3079], Loss: 0.0223\n",
            "Epoch [9/10], Step [1600/3079], Loss: 0.0160\n",
            "Epoch [9/10], Step [1700/3079], Loss: 0.1427\n",
            "Epoch [9/10], Step [1800/3079], Loss: 0.1825\n",
            "Epoch [9/10], Step [1900/3079], Loss: 0.0161\n",
            "Epoch [9/10], Step [2000/3079], Loss: 0.0274\n",
            "Epoch [9/10], Step [2100/3079], Loss: 0.0120\n",
            "Epoch [9/10], Step [2200/3079], Loss: 0.0096\n",
            "Epoch [9/10], Step [2300/3079], Loss: 0.0199\n",
            "Epoch [9/10], Step [2400/3079], Loss: 0.0975\n",
            "Epoch [9/10], Step [2500/3079], Loss: 0.0041\n",
            "Epoch [9/10], Step [2600/3079], Loss: 0.0487\n",
            "Epoch [9/10], Step [2700/3079], Loss: 0.1693\n",
            "Epoch [9/10], Step [2800/3079], Loss: 0.0592\n",
            "Epoch [9/10], Step [2900/3079], Loss: 0.0450\n",
            "Epoch [9/10], Step [3000/3079], Loss: 0.0857\n"
          ]
        },
        {
          "output_type": "stream",
          "name": "stderr",
          "text": [
            "2023-12-09 00:20:57,140 - root - INFO - Accuracy: 97.65%\n",
            "2023-12-09 00:20:57,141 - root - INFO - Precision: 0.9764\n",
            "2023-12-09 00:20:57,142 - root - INFO - Recall: 0.9765\n",
            "2023-12-09 00:20:57,143 - root - INFO - F1 Score: 0.9753\n"
          ]
        },
        {
          "output_type": "stream",
          "name": "stdout",
          "text": [
            "Epoch [10/10], Step [100/3079], Loss: 0.0503\n",
            "Epoch [10/10], Step [200/3079], Loss: 0.0637\n",
            "Epoch [10/10], Step [300/3079], Loss: 0.0301\n",
            "Epoch [10/10], Step [400/3079], Loss: 0.0098\n",
            "Epoch [10/10], Step [500/3079], Loss: 0.0493\n",
            "Epoch [10/10], Step [600/3079], Loss: 0.1583\n",
            "Epoch [10/10], Step [700/3079], Loss: 0.1291\n",
            "Epoch [10/10], Step [800/3079], Loss: 0.1921\n",
            "Epoch [10/10], Step [900/3079], Loss: 0.0256\n",
            "Epoch [10/10], Step [1000/3079], Loss: 0.0390\n",
            "Epoch [10/10], Step [1100/3079], Loss: 0.0134\n",
            "Epoch [10/10], Step [1200/3079], Loss: 0.0468\n",
            "Epoch [10/10], Step [1300/3079], Loss: 0.0876\n",
            "Epoch [10/10], Step [1400/3079], Loss: 0.0067\n",
            "Epoch [10/10], Step [1500/3079], Loss: 0.0129\n",
            "Epoch [10/10], Step [1600/3079], Loss: 0.2773\n",
            "Epoch [10/10], Step [1700/3079], Loss: 0.0386\n",
            "Epoch [10/10], Step [1800/3079], Loss: 0.0426\n",
            "Epoch [10/10], Step [1900/3079], Loss: 0.0100\n",
            "Epoch [10/10], Step [2000/3079], Loss: 0.0446\n",
            "Epoch [10/10], Step [2100/3079], Loss: 0.0106\n",
            "Epoch [10/10], Step [2200/3079], Loss: 0.0139\n",
            "Epoch [10/10], Step [2300/3079], Loss: 0.0797\n",
            "Epoch [10/10], Step [2400/3079], Loss: 0.0081\n",
            "Epoch [10/10], Step [2500/3079], Loss: 0.0671\n",
            "Epoch [10/10], Step [2600/3079], Loss: 0.0182\n",
            "Epoch [10/10], Step [2700/3079], Loss: 0.0058\n",
            "Epoch [10/10], Step [2800/3079], Loss: 0.0254\n",
            "Epoch [10/10], Step [2900/3079], Loss: 0.0812\n",
            "Epoch [10/10], Step [3000/3079], Loss: 0.1282\n"
          ]
        },
        {
          "output_type": "stream",
          "name": "stderr",
          "text": [
            "2023-12-09 00:21:13,783 - root - INFO - Accuracy: 97.81%\n",
            "2023-12-09 00:21:13,784 - root - INFO - Precision: 0.9775\n",
            "2023-12-09 00:21:13,785 - root - INFO - Recall: 0.9781\n",
            "2023-12-09 00:21:13,786 - root - INFO - F1 Score: 0.9774\n"
          ]
        },
        {
          "output_type": "stream",
          "name": "stdout",
          "text": [
            "FOLD 6\n",
            "--------------------------------\n",
            "AttentionLSTM(\n",
            "  (lstm): LSTM(1, 128, num_layers=2, batch_first=True)\n",
            "  (attention): SelfAttention(\n",
            "    (query): Linear(in_features=128, out_features=128, bias=True)\n",
            "    (key): Linear(in_features=128, out_features=128, bias=True)\n",
            "    (value): Linear(in_features=128, out_features=128, bias=True)\n",
            "  )\n",
            "  (fc): Linear(in_features=128, out_features=5, bias=True)\n",
            ")\n",
            "Epoch [1/10], Step [100/3079], Loss: 0.9122\n",
            "Epoch [1/10], Step [200/3079], Loss: 0.5249\n",
            "Epoch [1/10], Step [300/3079], Loss: 0.9056\n",
            "Epoch [1/10], Step [400/3079], Loss: 0.5025\n",
            "Epoch [1/10], Step [500/3079], Loss: 0.5042\n",
            "Epoch [1/10], Step [600/3079], Loss: 0.3769\n",
            "Epoch [1/10], Step [700/3079], Loss: 0.5658\n",
            "Epoch [1/10], Step [800/3079], Loss: 0.7001\n",
            "Epoch [1/10], Step [900/3079], Loss: 0.6288\n",
            "Epoch [1/10], Step [1000/3079], Loss: 0.5354\n",
            "Epoch [1/10], Step [1100/3079], Loss: 0.4310\n",
            "Epoch [1/10], Step [1200/3079], Loss: 0.2927\n",
            "Epoch [1/10], Step [1300/3079], Loss: 0.5252\n",
            "Epoch [1/10], Step [1400/3079], Loss: 0.3166\n",
            "Epoch [1/10], Step [1500/3079], Loss: 0.2701\n",
            "Epoch [1/10], Step [1600/3079], Loss: 0.1556\n",
            "Epoch [1/10], Step [1700/3079], Loss: 0.3431\n",
            "Epoch [1/10], Step [1800/3079], Loss: 0.1220\n",
            "Epoch [1/10], Step [1900/3079], Loss: 0.2116\n",
            "Epoch [1/10], Step [2000/3079], Loss: 0.5032\n",
            "Epoch [1/10], Step [2100/3079], Loss: 0.0535\n",
            "Epoch [1/10], Step [2200/3079], Loss: 0.1957\n",
            "Epoch [1/10], Step [2300/3079], Loss: 0.6774\n",
            "Epoch [1/10], Step [2400/3079], Loss: 0.4934\n",
            "Epoch [1/10], Step [2500/3079], Loss: 0.1889\n",
            "Epoch [1/10], Step [2600/3079], Loss: 0.3092\n",
            "Epoch [1/10], Step [2700/3079], Loss: 0.1044\n",
            "Epoch [1/10], Step [2800/3079], Loss: 0.1623\n",
            "Epoch [1/10], Step [2900/3079], Loss: 0.4528\n",
            "Epoch [1/10], Step [3000/3079], Loss: 0.0473\n"
          ]
        },
        {
          "output_type": "stream",
          "name": "stderr",
          "text": [
            "2023-12-09 00:21:30,265 - root - INFO - Accuracy: 93.10%\n",
            "2023-12-09 00:21:30,266 - root - INFO - Precision: 0.9239\n",
            "2023-12-09 00:21:30,267 - root - INFO - Recall: 0.9310\n",
            "2023-12-09 00:21:30,268 - root - INFO - F1 Score: 0.9201\n"
          ]
        },
        {
          "output_type": "stream",
          "name": "stdout",
          "text": [
            "Epoch [2/10], Step [100/3079], Loss: 0.0923\n",
            "Epoch [2/10], Step [200/3079], Loss: 0.2066\n",
            "Epoch [2/10], Step [300/3079], Loss: 0.0203\n",
            "Epoch [2/10], Step [400/3079], Loss: 0.1955\n",
            "Epoch [2/10], Step [500/3079], Loss: 0.0722\n",
            "Epoch [2/10], Step [600/3079], Loss: 0.4782\n",
            "Epoch [2/10], Step [700/3079], Loss: 0.0681\n",
            "Epoch [2/10], Step [800/3079], Loss: 0.3298\n",
            "Epoch [2/10], Step [900/3079], Loss: 0.2837\n",
            "Epoch [2/10], Step [1000/3079], Loss: 0.3802\n",
            "Epoch [2/10], Step [1100/3079], Loss: 0.1485\n",
            "Epoch [2/10], Step [1200/3079], Loss: 0.0889\n",
            "Epoch [2/10], Step [1300/3079], Loss: 0.1735\n",
            "Epoch [2/10], Step [1400/3079], Loss: 0.2053\n",
            "Epoch [2/10], Step [1500/3079], Loss: 0.1139\n",
            "Epoch [2/10], Step [1600/3079], Loss: 0.1199\n",
            "Epoch [2/10], Step [1700/3079], Loss: 0.2790\n",
            "Epoch [2/10], Step [1800/3079], Loss: 0.2712\n",
            "Epoch [2/10], Step [1900/3079], Loss: 0.1485\n",
            "Epoch [2/10], Step [2000/3079], Loss: 0.2378\n",
            "Epoch [2/10], Step [2100/3079], Loss: 0.0758\n",
            "Epoch [2/10], Step [2200/3079], Loss: 0.2897\n",
            "Epoch [2/10], Step [2300/3079], Loss: 0.3976\n",
            "Epoch [2/10], Step [2400/3079], Loss: 0.2102\n",
            "Epoch [2/10], Step [2500/3079], Loss: 0.2718\n",
            "Epoch [2/10], Step [2600/3079], Loss: 0.2110\n",
            "Epoch [2/10], Step [2700/3079], Loss: 0.1850\n",
            "Epoch [2/10], Step [2800/3079], Loss: 0.4386\n",
            "Epoch [2/10], Step [2900/3079], Loss: 0.0571\n",
            "Epoch [2/10], Step [3000/3079], Loss: 0.2959\n"
          ]
        },
        {
          "output_type": "stream",
          "name": "stderr",
          "text": [
            "2023-12-09 00:21:46,857 - root - INFO - Accuracy: 93.79%\n",
            "2023-12-09 00:21:46,859 - root - INFO - Precision: 0.9335\n",
            "2023-12-09 00:21:46,860 - root - INFO - Recall: 0.9379\n",
            "2023-12-09 00:21:46,861 - root - INFO - F1 Score: 0.9289\n"
          ]
        },
        {
          "output_type": "stream",
          "name": "stdout",
          "text": [
            "Epoch [3/10], Step [100/3079], Loss: 0.4342\n",
            "Epoch [3/10], Step [200/3079], Loss: 0.1242\n",
            "Epoch [3/10], Step [300/3079], Loss: 0.0979\n",
            "Epoch [3/10], Step [400/3079], Loss: 0.3247\n",
            "Epoch [3/10], Step [500/3079], Loss: 0.1219\n",
            "Epoch [3/10], Step [600/3079], Loss: 0.0433\n",
            "Epoch [3/10], Step [700/3079], Loss: 0.0548\n",
            "Epoch [3/10], Step [800/3079], Loss: 0.0459\n",
            "Epoch [3/10], Step [900/3079], Loss: 0.0857\n",
            "Epoch [3/10], Step [1000/3079], Loss: 0.3158\n",
            "Epoch [3/10], Step [1100/3079], Loss: 0.1642\n",
            "Epoch [3/10], Step [1200/3079], Loss: 0.0818\n",
            "Epoch [3/10], Step [1300/3079], Loss: 0.2554\n",
            "Epoch [3/10], Step [1400/3079], Loss: 0.1683\n",
            "Epoch [3/10], Step [1500/3079], Loss: 0.2713\n",
            "Epoch [3/10], Step [1600/3079], Loss: 0.3146\n",
            "Epoch [3/10], Step [1700/3079], Loss: 0.3248\n",
            "Epoch [3/10], Step [1800/3079], Loss: 0.2715\n",
            "Epoch [3/10], Step [1900/3079], Loss: 0.3061\n",
            "Epoch [3/10], Step [2000/3079], Loss: 0.1644\n",
            "Epoch [3/10], Step [2100/3079], Loss: 0.2495\n",
            "Epoch [3/10], Step [2200/3079], Loss: 0.1003\n",
            "Epoch [3/10], Step [2300/3079], Loss: 0.0754\n",
            "Epoch [3/10], Step [2400/3079], Loss: 0.0382\n",
            "Epoch [3/10], Step [2500/3079], Loss: 0.0535\n",
            "Epoch [3/10], Step [2600/3079], Loss: 0.0550\n",
            "Epoch [3/10], Step [2700/3079], Loss: 0.2105\n",
            "Epoch [3/10], Step [2800/3079], Loss: 0.0531\n",
            "Epoch [3/10], Step [2900/3079], Loss: 0.0242\n",
            "Epoch [3/10], Step [3000/3079], Loss: 0.2002\n"
          ]
        },
        {
          "output_type": "stream",
          "name": "stderr",
          "text": [
            "2023-12-09 00:22:03,504 - root - INFO - Accuracy: 95.74%\n",
            "2023-12-09 00:22:03,505 - root - INFO - Precision: 0.9551\n",
            "2023-12-09 00:22:03,506 - root - INFO - Recall: 0.9574\n",
            "2023-12-09 00:22:03,507 - root - INFO - F1 Score: 0.9521\n"
          ]
        },
        {
          "output_type": "stream",
          "name": "stdout",
          "text": [
            "Epoch [4/10], Step [100/3079], Loss: 0.2107\n",
            "Epoch [4/10], Step [200/3079], Loss: 0.2088\n",
            "Epoch [4/10], Step [300/3079], Loss: 0.0188\n",
            "Epoch [4/10], Step [400/3079], Loss: 0.2635\n",
            "Epoch [4/10], Step [500/3079], Loss: 0.0608\n",
            "Epoch [4/10], Step [600/3079], Loss: 0.0255\n",
            "Epoch [4/10], Step [700/3079], Loss: 0.0710\n",
            "Epoch [4/10], Step [800/3079], Loss: 0.0749\n",
            "Epoch [4/10], Step [900/3079], Loss: 0.0473\n",
            "Epoch [4/10], Step [1000/3079], Loss: 0.0805\n",
            "Epoch [4/10], Step [1100/3079], Loss: 0.0790\n",
            "Epoch [4/10], Step [1200/3079], Loss: 0.1462\n",
            "Epoch [4/10], Step [1300/3079], Loss: 0.0951\n",
            "Epoch [4/10], Step [1400/3079], Loss: 0.2922\n",
            "Epoch [4/10], Step [1500/3079], Loss: 0.0871\n",
            "Epoch [4/10], Step [1600/3079], Loss: 0.0257\n",
            "Epoch [4/10], Step [1700/3079], Loss: 0.0644\n",
            "Epoch [4/10], Step [1800/3079], Loss: 0.1142\n",
            "Epoch [4/10], Step [1900/3079], Loss: 0.0912\n",
            "Epoch [4/10], Step [2000/3079], Loss: 0.4295\n",
            "Epoch [4/10], Step [2100/3079], Loss: 0.0646\n",
            "Epoch [4/10], Step [2200/3079], Loss: 0.0963\n",
            "Epoch [4/10], Step [2300/3079], Loss: 0.0231\n",
            "Epoch [4/10], Step [2400/3079], Loss: 0.0333\n",
            "Epoch [4/10], Step [2500/3079], Loss: 0.0401\n",
            "Epoch [4/10], Step [2600/3079], Loss: 0.1043\n",
            "Epoch [4/10], Step [2700/3079], Loss: 0.0062\n",
            "Epoch [4/10], Step [2800/3079], Loss: 0.0493\n",
            "Epoch [4/10], Step [2900/3079], Loss: 0.1589\n",
            "Epoch [4/10], Step [3000/3079], Loss: 0.0766\n"
          ]
        },
        {
          "output_type": "stream",
          "name": "stderr",
          "text": [
            "2023-12-09 00:22:20,229 - root - INFO - Accuracy: 96.80%\n",
            "2023-12-09 00:22:20,230 - root - INFO - Precision: 0.9674\n",
            "2023-12-09 00:22:20,231 - root - INFO - Recall: 0.9680\n",
            "2023-12-09 00:22:20,231 - root - INFO - F1 Score: 0.9658\n"
          ]
        },
        {
          "output_type": "stream",
          "name": "stdout",
          "text": [
            "Epoch [5/10], Step [100/3079], Loss: 0.0877\n",
            "Epoch [5/10], Step [200/3079], Loss: 0.0592\n",
            "Epoch [5/10], Step [300/3079], Loss: 0.0171\n",
            "Epoch [5/10], Step [400/3079], Loss: 0.0900\n",
            "Epoch [5/10], Step [500/3079], Loss: 0.0318\n",
            "Epoch [5/10], Step [600/3079], Loss: 0.0166\n",
            "Epoch [5/10], Step [700/3079], Loss: 0.0215\n",
            "Epoch [5/10], Step [800/3079], Loss: 0.0223\n",
            "Epoch [5/10], Step [900/3079], Loss: 0.0102\n",
            "Epoch [5/10], Step [1000/3079], Loss: 0.0631\n",
            "Epoch [5/10], Step [1100/3079], Loss: 0.0888\n",
            "Epoch [5/10], Step [1200/3079], Loss: 0.2749\n",
            "Epoch [5/10], Step [1300/3079], Loss: 0.2890\n",
            "Epoch [5/10], Step [1400/3079], Loss: 0.0119\n",
            "Epoch [5/10], Step [1500/3079], Loss: 0.0844\n",
            "Epoch [5/10], Step [1600/3079], Loss: 0.0050\n",
            "Epoch [5/10], Step [1700/3079], Loss: 0.0269\n",
            "Epoch [5/10], Step [1800/3079], Loss: 0.0439\n",
            "Epoch [5/10], Step [1900/3079], Loss: 0.1316\n",
            "Epoch [5/10], Step [2000/3079], Loss: 0.1294\n",
            "Epoch [5/10], Step [2100/3079], Loss: 0.0169\n",
            "Epoch [5/10], Step [2200/3079], Loss: 0.0117\n",
            "Epoch [5/10], Step [2300/3079], Loss: 0.0487\n",
            "Epoch [5/10], Step [2400/3079], Loss: 0.0338\n",
            "Epoch [5/10], Step [2500/3079], Loss: 0.2531\n",
            "Epoch [5/10], Step [2600/3079], Loss: 0.2849\n",
            "Epoch [5/10], Step [2700/3079], Loss: 0.1045\n",
            "Epoch [5/10], Step [2800/3079], Loss: 0.0928\n",
            "Epoch [5/10], Step [2900/3079], Loss: 0.1089\n",
            "Epoch [5/10], Step [3000/3079], Loss: 0.0259\n"
          ]
        },
        {
          "output_type": "stream",
          "name": "stderr",
          "text": [
            "2023-12-09 00:22:37,037 - root - INFO - Accuracy: 96.86%\n",
            "2023-12-09 00:22:37,039 - root - INFO - Precision: 0.9673\n",
            "2023-12-09 00:22:37,039 - root - INFO - Recall: 0.9686\n",
            "2023-12-09 00:22:37,041 - root - INFO - F1 Score: 0.9669\n"
          ]
        },
        {
          "output_type": "stream",
          "name": "stdout",
          "text": [
            "Epoch [6/10], Step [100/3079], Loss: 0.1262\n",
            "Epoch [6/10], Step [200/3079], Loss: 0.0174\n",
            "Epoch [6/10], Step [300/3079], Loss: 0.0900\n",
            "Epoch [6/10], Step [400/3079], Loss: 0.1869\n",
            "Epoch [6/10], Step [500/3079], Loss: 0.0271\n",
            "Epoch [6/10], Step [600/3079], Loss: 0.0184\n",
            "Epoch [6/10], Step [700/3079], Loss: 0.0643\n",
            "Epoch [6/10], Step [800/3079], Loss: 0.0744\n",
            "Epoch [6/10], Step [900/3079], Loss: 0.0697\n",
            "Epoch [6/10], Step [1000/3079], Loss: 0.3685\n",
            "Epoch [6/10], Step [1100/3079], Loss: 0.1006\n",
            "Epoch [6/10], Step [1200/3079], Loss: 0.0350\n",
            "Epoch [6/10], Step [1300/3079], Loss: 0.0924\n",
            "Epoch [6/10], Step [1400/3079], Loss: 0.0200\n",
            "Epoch [6/10], Step [1500/3079], Loss: 0.1415\n",
            "Epoch [6/10], Step [1600/3079], Loss: 0.0362\n",
            "Epoch [6/10], Step [1700/3079], Loss: 0.3816\n",
            "Epoch [6/10], Step [1800/3079], Loss: 0.0356\n",
            "Epoch [6/10], Step [1900/3079], Loss: 0.0163\n",
            "Epoch [6/10], Step [2000/3079], Loss: 0.1716\n",
            "Epoch [6/10], Step [2100/3079], Loss: 0.0774\n",
            "Epoch [6/10], Step [2200/3079], Loss: 0.0280\n",
            "Epoch [6/10], Step [2300/3079], Loss: 0.2798\n",
            "Epoch [6/10], Step [2400/3079], Loss: 0.0780\n",
            "Epoch [6/10], Step [2500/3079], Loss: 0.2517\n",
            "Epoch [6/10], Step [2600/3079], Loss: 0.0697\n",
            "Epoch [6/10], Step [2700/3079], Loss: 0.0121\n",
            "Epoch [6/10], Step [2800/3079], Loss: 0.0348\n",
            "Epoch [6/10], Step [2900/3079], Loss: 0.0520\n",
            "Epoch [6/10], Step [3000/3079], Loss: 0.2034\n"
          ]
        },
        {
          "output_type": "stream",
          "name": "stderr",
          "text": [
            "2023-12-09 00:22:53,761 - root - INFO - Accuracy: 97.30%\n",
            "2023-12-09 00:22:53,762 - root - INFO - Precision: 0.9724\n",
            "2023-12-09 00:22:53,763 - root - INFO - Recall: 0.9730\n",
            "2023-12-09 00:22:53,764 - root - INFO - F1 Score: 0.9719\n"
          ]
        },
        {
          "output_type": "stream",
          "name": "stdout",
          "text": [
            "Epoch [7/10], Step [100/3079], Loss: 0.2462\n",
            "Epoch [7/10], Step [200/3079], Loss: 0.1789\n",
            "Epoch [7/10], Step [300/3079], Loss: 0.0123\n",
            "Epoch [7/10], Step [400/3079], Loss: 0.1633\n",
            "Epoch [7/10], Step [500/3079], Loss: 0.1317\n",
            "Epoch [7/10], Step [600/3079], Loss: 0.0198\n",
            "Epoch [7/10], Step [700/3079], Loss: 0.1459\n",
            "Epoch [7/10], Step [800/3079], Loss: 0.1613\n",
            "Epoch [7/10], Step [900/3079], Loss: 0.0148\n",
            "Epoch [7/10], Step [1000/3079], Loss: 0.0187\n",
            "Epoch [7/10], Step [1100/3079], Loss: 0.0100\n",
            "Epoch [7/10], Step [1200/3079], Loss: 0.0399\n",
            "Epoch [7/10], Step [1300/3079], Loss: 0.0202\n",
            "Epoch [7/10], Step [1400/3079], Loss: 0.0074\n",
            "Epoch [7/10], Step [1500/3079], Loss: 0.2152\n",
            "Epoch [7/10], Step [1600/3079], Loss: 0.0366\n",
            "Epoch [7/10], Step [1700/3079], Loss: 0.0163\n",
            "Epoch [7/10], Step [1800/3079], Loss: 0.0281\n",
            "Epoch [7/10], Step [1900/3079], Loss: 0.0115\n",
            "Epoch [7/10], Step [2000/3079], Loss: 0.0185\n",
            "Epoch [7/10], Step [2100/3079], Loss: 0.1391\n",
            "Epoch [7/10], Step [2200/3079], Loss: 0.0048\n",
            "Epoch [7/10], Step [2300/3079], Loss: 0.0409\n",
            "Epoch [7/10], Step [2400/3079], Loss: 0.2032\n",
            "Epoch [7/10], Step [2500/3079], Loss: 0.0250\n",
            "Epoch [7/10], Step [2600/3079], Loss: 0.1207\n",
            "Epoch [7/10], Step [2700/3079], Loss: 0.0157\n",
            "Epoch [7/10], Step [2800/3079], Loss: 0.0624\n",
            "Epoch [7/10], Step [2900/3079], Loss: 0.0316\n",
            "Epoch [7/10], Step [3000/3079], Loss: 0.0359\n"
          ]
        },
        {
          "output_type": "stream",
          "name": "stderr",
          "text": [
            "2023-12-09 00:23:10,443 - root - INFO - Accuracy: 97.56%\n",
            "2023-12-09 00:23:10,445 - root - INFO - Precision: 0.9751\n",
            "2023-12-09 00:23:10,446 - root - INFO - Recall: 0.9756\n",
            "2023-12-09 00:23:10,448 - root - INFO - F1 Score: 0.9752\n"
          ]
        },
        {
          "output_type": "stream",
          "name": "stdout",
          "text": [
            "Epoch [8/10], Step [100/3079], Loss: 0.0369\n",
            "Epoch [8/10], Step [200/3079], Loss: 0.0768\n",
            "Epoch [8/10], Step [300/3079], Loss: 0.0538\n",
            "Epoch [8/10], Step [400/3079], Loss: 0.1087\n",
            "Epoch [8/10], Step [500/3079], Loss: 0.0147\n",
            "Epoch [8/10], Step [600/3079], Loss: 0.2402\n",
            "Epoch [8/10], Step [700/3079], Loss: 0.1544\n",
            "Epoch [8/10], Step [800/3079], Loss: 0.2686\n",
            "Epoch [8/10], Step [900/3079], Loss: 0.0285\n",
            "Epoch [8/10], Step [1000/3079], Loss: 0.2903\n",
            "Epoch [8/10], Step [1100/3079], Loss: 0.0814\n",
            "Epoch [8/10], Step [1200/3079], Loss: 0.1625\n",
            "Epoch [8/10], Step [1300/3079], Loss: 0.0188\n",
            "Epoch [8/10], Step [1400/3079], Loss: 0.4930\n",
            "Epoch [8/10], Step [1500/3079], Loss: 0.0197\n",
            "Epoch [8/10], Step [1600/3079], Loss: 0.0400\n",
            "Epoch [8/10], Step [1700/3079], Loss: 0.0606\n",
            "Epoch [8/10], Step [1800/3079], Loss: 0.0614\n",
            "Epoch [8/10], Step [1900/3079], Loss: 0.1197\n",
            "Epoch [8/10], Step [2000/3079], Loss: 0.0429\n",
            "Epoch [8/10], Step [2100/3079], Loss: 0.1464\n",
            "Epoch [8/10], Step [2200/3079], Loss: 0.0212\n",
            "Epoch [8/10], Step [2300/3079], Loss: 0.0052\n",
            "Epoch [8/10], Step [2400/3079], Loss: 0.0185\n",
            "Epoch [8/10], Step [2500/3079], Loss: 0.0057\n",
            "Epoch [8/10], Step [2600/3079], Loss: 0.1447\n",
            "Epoch [8/10], Step [2700/3079], Loss: 0.0154\n",
            "Epoch [8/10], Step [2800/3079], Loss: 0.0693\n",
            "Epoch [8/10], Step [2900/3079], Loss: 0.0031\n",
            "Epoch [8/10], Step [3000/3079], Loss: 0.0118\n"
          ]
        },
        {
          "output_type": "stream",
          "name": "stderr",
          "text": [
            "2023-12-09 00:23:27,084 - root - INFO - Accuracy: 97.57%\n",
            "2023-12-09 00:23:27,086 - root - INFO - Precision: 0.9748\n",
            "2023-12-09 00:23:27,086 - root - INFO - Recall: 0.9757\n",
            "2023-12-09 00:23:27,088 - root - INFO - F1 Score: 0.9750\n"
          ]
        },
        {
          "output_type": "stream",
          "name": "stdout",
          "text": [
            "Epoch [9/10], Step [100/3079], Loss: 0.1231\n",
            "Epoch [9/10], Step [200/3079], Loss: 0.0071\n",
            "Epoch [9/10], Step [300/3079], Loss: 0.0059\n",
            "Epoch [9/10], Step [400/3079], Loss: 0.0130\n",
            "Epoch [9/10], Step [500/3079], Loss: 0.1829\n",
            "Epoch [9/10], Step [600/3079], Loss: 0.0160\n",
            "Epoch [9/10], Step [700/3079], Loss: 0.1970\n",
            "Epoch [9/10], Step [800/3079], Loss: 0.0123\n",
            "Epoch [9/10], Step [900/3079], Loss: 0.1122\n",
            "Epoch [9/10], Step [1000/3079], Loss: 0.0223\n",
            "Epoch [9/10], Step [1100/3079], Loss: 0.0556\n",
            "Epoch [9/10], Step [1200/3079], Loss: 0.2916\n",
            "Epoch [9/10], Step [1300/3079], Loss: 0.0273\n",
            "Epoch [9/10], Step [1400/3079], Loss: 0.0356\n",
            "Epoch [9/10], Step [1500/3079], Loss: 0.1304\n",
            "Epoch [9/10], Step [1600/3079], Loss: 0.0109\n",
            "Epoch [9/10], Step [1700/3079], Loss: 0.0027\n",
            "Epoch [9/10], Step [1800/3079], Loss: 0.1708\n",
            "Epoch [9/10], Step [1900/3079], Loss: 0.2121\n",
            "Epoch [9/10], Step [2000/3079], Loss: 0.1937\n",
            "Epoch [9/10], Step [2100/3079], Loss: 0.0043\n",
            "Epoch [9/10], Step [2200/3079], Loss: 0.0113\n",
            "Epoch [9/10], Step [2300/3079], Loss: 0.1086\n",
            "Epoch [9/10], Step [2400/3079], Loss: 0.1542\n",
            "Epoch [9/10], Step [2500/3079], Loss: 0.0424\n",
            "Epoch [9/10], Step [2600/3079], Loss: 0.0587\n",
            "Epoch [9/10], Step [2700/3079], Loss: 0.2333\n",
            "Epoch [9/10], Step [2800/3079], Loss: 0.0581\n",
            "Epoch [9/10], Step [2900/3079], Loss: 0.0836\n",
            "Epoch [9/10], Step [3000/3079], Loss: 0.2381\n"
          ]
        },
        {
          "output_type": "stream",
          "name": "stderr",
          "text": [
            "2023-12-09 00:23:43,593 - root - INFO - Accuracy: 97.65%\n",
            "2023-12-09 00:23:43,595 - root - INFO - Precision: 0.9758\n",
            "2023-12-09 00:23:43,595 - root - INFO - Recall: 0.9765\n",
            "2023-12-09 00:23:43,596 - root - INFO - F1 Score: 0.9754\n"
          ]
        },
        {
          "output_type": "stream",
          "name": "stdout",
          "text": [
            "Epoch [10/10], Step [100/3079], Loss: 0.2899\n",
            "Epoch [10/10], Step [200/3079], Loss: 0.0375\n",
            "Epoch [10/10], Step [300/3079], Loss: 0.0192\n",
            "Epoch [10/10], Step [400/3079], Loss: 0.0124\n",
            "Epoch [10/10], Step [500/3079], Loss: 0.0062\n",
            "Epoch [10/10], Step [600/3079], Loss: 0.0551\n",
            "Epoch [10/10], Step [700/3079], Loss: 0.1230\n",
            "Epoch [10/10], Step [800/3079], Loss: 0.0183\n",
            "Epoch [10/10], Step [900/3079], Loss: 0.0049\n",
            "Epoch [10/10], Step [1000/3079], Loss: 0.0912\n",
            "Epoch [10/10], Step [1100/3079], Loss: 0.0776\n",
            "Epoch [10/10], Step [1200/3079], Loss: 0.0061\n",
            "Epoch [10/10], Step [1300/3079], Loss: 0.0080\n",
            "Epoch [10/10], Step [1400/3079], Loss: 0.1894\n",
            "Epoch [10/10], Step [1500/3079], Loss: 0.4447\n",
            "Epoch [10/10], Step [1600/3079], Loss: 0.0877\n",
            "Epoch [10/10], Step [1700/3079], Loss: 0.4237\n",
            "Epoch [10/10], Step [1800/3079], Loss: 0.0029\n",
            "Epoch [10/10], Step [1900/3079], Loss: 0.0176\n",
            "Epoch [10/10], Step [2000/3079], Loss: 0.0590\n",
            "Epoch [10/10], Step [2100/3079], Loss: 0.0585\n",
            "Epoch [10/10], Step [2200/3079], Loss: 0.1360\n",
            "Epoch [10/10], Step [2300/3079], Loss: 0.3115\n",
            "Epoch [10/10], Step [2400/3079], Loss: 0.0066\n",
            "Epoch [10/10], Step [2500/3079], Loss: 0.0804\n",
            "Epoch [10/10], Step [2600/3079], Loss: 0.0044\n",
            "Epoch [10/10], Step [2700/3079], Loss: 0.0392\n",
            "Epoch [10/10], Step [2800/3079], Loss: 0.2096\n",
            "Epoch [10/10], Step [2900/3079], Loss: 0.0100\n",
            "Epoch [10/10], Step [3000/3079], Loss: 0.1555\n"
          ]
        },
        {
          "output_type": "stream",
          "name": "stderr",
          "text": [
            "2023-12-09 00:24:00,335 - root - INFO - Accuracy: 97.78%\n",
            "2023-12-09 00:24:00,336 - root - INFO - Precision: 0.9772\n",
            "2023-12-09 00:24:00,337 - root - INFO - Recall: 0.9778\n",
            "2023-12-09 00:24:00,338 - root - INFO - F1 Score: 0.9771\n"
          ]
        },
        {
          "output_type": "stream",
          "name": "stdout",
          "text": [
            "FOLD 7\n",
            "--------------------------------\n",
            "AttentionLSTM(\n",
            "  (lstm): LSTM(1, 128, num_layers=2, batch_first=True)\n",
            "  (attention): SelfAttention(\n",
            "    (query): Linear(in_features=128, out_features=128, bias=True)\n",
            "    (key): Linear(in_features=128, out_features=128, bias=True)\n",
            "    (value): Linear(in_features=128, out_features=128, bias=True)\n",
            "  )\n",
            "  (fc): Linear(in_features=128, out_features=5, bias=True)\n",
            ")\n",
            "Epoch [1/10], Step [100/3079], Loss: 0.6591\n",
            "Epoch [1/10], Step [200/3079], Loss: 0.6818\n",
            "Epoch [1/10], Step [300/3079], Loss: 0.2700\n",
            "Epoch [1/10], Step [400/3079], Loss: 0.2841\n",
            "Epoch [1/10], Step [500/3079], Loss: 0.6619\n",
            "Epoch [1/10], Step [600/3079], Loss: 0.8284\n",
            "Epoch [1/10], Step [700/3079], Loss: 0.4481\n",
            "Epoch [1/10], Step [800/3079], Loss: 0.5713\n",
            "Epoch [1/10], Step [900/3079], Loss: 0.6951\n",
            "Epoch [1/10], Step [1000/3079], Loss: 0.3640\n",
            "Epoch [1/10], Step [1100/3079], Loss: 0.5655\n",
            "Epoch [1/10], Step [1200/3079], Loss: 0.2110\n",
            "Epoch [1/10], Step [1300/3079], Loss: 0.1627\n",
            "Epoch [1/10], Step [1400/3079], Loss: 0.3878\n",
            "Epoch [1/10], Step [1500/3079], Loss: 0.3005\n",
            "Epoch [1/10], Step [1600/3079], Loss: 0.2788\n",
            "Epoch [1/10], Step [1700/3079], Loss: 0.4873\n",
            "Epoch [1/10], Step [1800/3079], Loss: 0.3970\n",
            "Epoch [1/10], Step [1900/3079], Loss: 0.2819\n",
            "Epoch [1/10], Step [2000/3079], Loss: 0.6420\n",
            "Epoch [1/10], Step [2100/3079], Loss: 0.2372\n",
            "Epoch [1/10], Step [2200/3079], Loss: 0.1512\n",
            "Epoch [1/10], Step [2300/3079], Loss: 0.6125\n",
            "Epoch [1/10], Step [2400/3079], Loss: 0.1988\n",
            "Epoch [1/10], Step [2500/3079], Loss: 0.1621\n",
            "Epoch [1/10], Step [2600/3079], Loss: 0.5567\n",
            "Epoch [1/10], Step [2700/3079], Loss: 0.1609\n",
            "Epoch [1/10], Step [2800/3079], Loss: 0.2907\n",
            "Epoch [1/10], Step [2900/3079], Loss: 0.2713\n",
            "Epoch [1/10], Step [3000/3079], Loss: 0.2185\n"
          ]
        },
        {
          "output_type": "stream",
          "name": "stderr",
          "text": [
            "/usr/local/lib/python3.10/dist-packages/sklearn/metrics/_classification.py:1344: UndefinedMetricWarning: Precision is ill-defined and being set to 0.0 in labels with no predicted samples. Use `zero_division` parameter to control this behavior.\n",
            "  _warn_prf(average, modifier, msg_start, len(result))\n",
            "2023-12-09 00:24:16,936 - root - INFO - Accuracy: 91.88%\n",
            "2023-12-09 00:24:16,937 - root - INFO - Precision: 0.9133\n",
            "2023-12-09 00:24:16,938 - root - INFO - Recall: 0.9188\n",
            "2023-12-09 00:24:16,939 - root - INFO - F1 Score: 0.9076\n"
          ]
        },
        {
          "output_type": "stream",
          "name": "stdout",
          "text": [
            "Epoch [2/10], Step [100/3079], Loss: 0.4183\n",
            "Epoch [2/10], Step [200/3079], Loss: 0.4399\n",
            "Epoch [2/10], Step [300/3079], Loss: 0.2481\n",
            "Epoch [2/10], Step [400/3079], Loss: 0.1296\n",
            "Epoch [2/10], Step [500/3079], Loss: 0.0915\n",
            "Epoch [2/10], Step [600/3079], Loss: 0.1968\n",
            "Epoch [2/10], Step [700/3079], Loss: 0.1877\n",
            "Epoch [2/10], Step [800/3079], Loss: 0.0396\n",
            "Epoch [2/10], Step [900/3079], Loss: 0.0761\n",
            "Epoch [2/10], Step [1000/3079], Loss: 0.1758\n",
            "Epoch [2/10], Step [1100/3079], Loss: 0.1971\n",
            "Epoch [2/10], Step [1200/3079], Loss: 0.0360\n",
            "Epoch [2/10], Step [1300/3079], Loss: 0.0965\n",
            "Epoch [2/10], Step [1400/3079], Loss: 0.1014\n",
            "Epoch [2/10], Step [1500/3079], Loss: 0.5831\n",
            "Epoch [2/10], Step [1600/3079], Loss: 0.1032\n",
            "Epoch [2/10], Step [1700/3079], Loss: 0.1582\n",
            "Epoch [2/10], Step [1800/3079], Loss: 0.0768\n",
            "Epoch [2/10], Step [1900/3079], Loss: 0.3725\n",
            "Epoch [2/10], Step [2000/3079], Loss: 0.0658\n",
            "Epoch [2/10], Step [2100/3079], Loss: 0.0788\n",
            "Epoch [2/10], Step [2200/3079], Loss: 0.0940\n",
            "Epoch [2/10], Step [2300/3079], Loss: 0.1724\n",
            "Epoch [2/10], Step [2400/3079], Loss: 0.0846\n",
            "Epoch [2/10], Step [2500/3079], Loss: 0.1115\n",
            "Epoch [2/10], Step [2600/3079], Loss: 0.0596\n",
            "Epoch [2/10], Step [2700/3079], Loss: 0.1017\n",
            "Epoch [2/10], Step [2800/3079], Loss: 0.3300\n",
            "Epoch [2/10], Step [2900/3079], Loss: 0.2654\n",
            "Epoch [2/10], Step [3000/3079], Loss: 0.6638\n"
          ]
        },
        {
          "output_type": "stream",
          "name": "stderr",
          "text": [
            "2023-12-09 00:24:33,595 - root - INFO - Accuracy: 94.83%\n",
            "2023-12-09 00:24:33,596 - root - INFO - Precision: 0.9466\n",
            "2023-12-09 00:24:33,597 - root - INFO - Recall: 0.9483\n",
            "2023-12-09 00:24:33,598 - root - INFO - F1 Score: 0.9380\n"
          ]
        },
        {
          "output_type": "stream",
          "name": "stdout",
          "text": [
            "Epoch [3/10], Step [100/3079], Loss: 0.1442\n",
            "Epoch [3/10], Step [200/3079], Loss: 0.0628\n",
            "Epoch [3/10], Step [300/3079], Loss: 0.2990\n",
            "Epoch [3/10], Step [400/3079], Loss: 0.2138\n",
            "Epoch [3/10], Step [500/3079], Loss: 0.0626\n",
            "Epoch [3/10], Step [600/3079], Loss: 0.1397\n",
            "Epoch [3/10], Step [700/3079], Loss: 0.1159\n",
            "Epoch [3/10], Step [800/3079], Loss: 0.1972\n",
            "Epoch [3/10], Step [900/3079], Loss: 0.2409\n",
            "Epoch [3/10], Step [1000/3079], Loss: 0.5572\n",
            "Epoch [3/10], Step [1100/3079], Loss: 0.1053\n",
            "Epoch [3/10], Step [1200/3079], Loss: 0.1718\n",
            "Epoch [3/10], Step [1300/3079], Loss: 0.0462\n",
            "Epoch [3/10], Step [1400/3079], Loss: 0.2660\n",
            "Epoch [3/10], Step [1500/3079], Loss: 0.0124\n",
            "Epoch [3/10], Step [1600/3079], Loss: 0.4423\n",
            "Epoch [3/10], Step [1700/3079], Loss: 0.1472\n",
            "Epoch [3/10], Step [1800/3079], Loss: 0.0311\n",
            "Epoch [3/10], Step [1900/3079], Loss: 0.0519\n",
            "Epoch [3/10], Step [2000/3079], Loss: 0.3269\n",
            "Epoch [3/10], Step [2100/3079], Loss: 0.0506\n",
            "Epoch [3/10], Step [2200/3079], Loss: 0.2969\n",
            "Epoch [3/10], Step [2300/3079], Loss: 0.0969\n",
            "Epoch [3/10], Step [2400/3079], Loss: 0.2564\n",
            "Epoch [3/10], Step [2500/3079], Loss: 0.0214\n",
            "Epoch [3/10], Step [2600/3079], Loss: 0.1671\n",
            "Epoch [3/10], Step [2700/3079], Loss: 0.0547\n",
            "Epoch [3/10], Step [2800/3079], Loss: 0.1708\n",
            "Epoch [3/10], Step [2900/3079], Loss: 0.2318\n",
            "Epoch [3/10], Step [3000/3079], Loss: 0.0934\n"
          ]
        },
        {
          "output_type": "stream",
          "name": "stderr",
          "text": [
            "2023-12-09 00:24:50,240 - root - INFO - Accuracy: 96.35%\n",
            "2023-12-09 00:24:50,241 - root - INFO - Precision: 0.9621\n",
            "2023-12-09 00:24:50,242 - root - INFO - Recall: 0.9635\n",
            "2023-12-09 00:24:50,243 - root - INFO - F1 Score: 0.9615\n"
          ]
        },
        {
          "output_type": "stream",
          "name": "stdout",
          "text": [
            "Epoch [4/10], Step [100/3079], Loss: 0.0357\n",
            "Epoch [4/10], Step [200/3079], Loss: 0.0738\n",
            "Epoch [4/10], Step [300/3079], Loss: 0.0666\n",
            "Epoch [4/10], Step [400/3079], Loss: 0.0210\n",
            "Epoch [4/10], Step [500/3079], Loss: 0.0617\n",
            "Epoch [4/10], Step [600/3079], Loss: 0.0220\n",
            "Epoch [4/10], Step [700/3079], Loss: 0.1364\n",
            "Epoch [4/10], Step [800/3079], Loss: 0.0377\n",
            "Epoch [4/10], Step [900/3079], Loss: 0.1180\n",
            "Epoch [4/10], Step [1000/3079], Loss: 0.0156\n",
            "Epoch [4/10], Step [1100/3079], Loss: 0.0422\n",
            "Epoch [4/10], Step [1200/3079], Loss: 0.2555\n",
            "Epoch [4/10], Step [1300/3079], Loss: 0.0710\n",
            "Epoch [4/10], Step [1400/3079], Loss: 0.1682\n",
            "Epoch [4/10], Step [1500/3079], Loss: 0.0342\n",
            "Epoch [4/10], Step [1600/3079], Loss: 0.0790\n",
            "Epoch [4/10], Step [1700/3079], Loss: 0.0593\n",
            "Epoch [4/10], Step [1800/3079], Loss: 0.0430\n",
            "Epoch [4/10], Step [1900/3079], Loss: 0.3274\n",
            "Epoch [4/10], Step [2000/3079], Loss: 0.1097\n",
            "Epoch [4/10], Step [2100/3079], Loss: 0.1652\n",
            "Epoch [4/10], Step [2200/3079], Loss: 0.0769\n",
            "Epoch [4/10], Step [2300/3079], Loss: 0.1223\n",
            "Epoch [4/10], Step [2400/3079], Loss: 0.1291\n",
            "Epoch [4/10], Step [2500/3079], Loss: 0.5254\n",
            "Epoch [4/10], Step [2600/3079], Loss: 0.2215\n",
            "Epoch [4/10], Step [2700/3079], Loss: 0.0061\n",
            "Epoch [4/10], Step [2800/3079], Loss: 0.1694\n",
            "Epoch [4/10], Step [2900/3079], Loss: 0.1130\n",
            "Epoch [4/10], Step [3000/3079], Loss: 0.0203\n"
          ]
        },
        {
          "output_type": "stream",
          "name": "stderr",
          "text": [
            "2023-12-09 00:25:06,940 - root - INFO - Accuracy: 96.76%\n",
            "2023-12-09 00:25:06,941 - root - INFO - Precision: 0.9667\n",
            "2023-12-09 00:25:06,942 - root - INFO - Recall: 0.9676\n",
            "2023-12-09 00:25:06,943 - root - INFO - F1 Score: 0.9647\n"
          ]
        },
        {
          "output_type": "stream",
          "name": "stdout",
          "text": [
            "Epoch [5/10], Step [100/3079], Loss: 0.1665\n",
            "Epoch [5/10], Step [200/3079], Loss: 0.0513\n",
            "Epoch [5/10], Step [300/3079], Loss: 0.0790\n",
            "Epoch [5/10], Step [400/3079], Loss: 0.0322\n",
            "Epoch [5/10], Step [500/3079], Loss: 0.3195\n",
            "Epoch [5/10], Step [600/3079], Loss: 0.1227\n",
            "Epoch [5/10], Step [700/3079], Loss: 0.1549\n",
            "Epoch [5/10], Step [800/3079], Loss: 0.0591\n",
            "Epoch [5/10], Step [900/3079], Loss: 0.0294\n",
            "Epoch [5/10], Step [1000/3079], Loss: 0.0563\n",
            "Epoch [5/10], Step [1100/3079], Loss: 0.0225\n",
            "Epoch [5/10], Step [1200/3079], Loss: 0.0422\n",
            "Epoch [5/10], Step [1300/3079], Loss: 0.0163\n",
            "Epoch [5/10], Step [1400/3079], Loss: 0.0150\n",
            "Epoch [5/10], Step [1500/3079], Loss: 0.1729\n",
            "Epoch [5/10], Step [1600/3079], Loss: 0.0203\n",
            "Epoch [5/10], Step [1700/3079], Loss: 0.0417\n",
            "Epoch [5/10], Step [1800/3079], Loss: 0.0459\n",
            "Epoch [5/10], Step [1900/3079], Loss: 0.1310\n",
            "Epoch [5/10], Step [2000/3079], Loss: 0.1283\n",
            "Epoch [5/10], Step [2100/3079], Loss: 0.2580\n",
            "Epoch [5/10], Step [2200/3079], Loss: 0.0135\n",
            "Epoch [5/10], Step [2300/3079], Loss: 0.1419\n",
            "Epoch [5/10], Step [2400/3079], Loss: 0.0412\n",
            "Epoch [5/10], Step [2500/3079], Loss: 0.0278\n",
            "Epoch [5/10], Step [2600/3079], Loss: 0.2257\n",
            "Epoch [5/10], Step [2700/3079], Loss: 0.2050\n",
            "Epoch [5/10], Step [2800/3079], Loss: 0.2479\n",
            "Epoch [5/10], Step [2900/3079], Loss: 0.1132\n",
            "Epoch [5/10], Step [3000/3079], Loss: 0.0244\n"
          ]
        },
        {
          "output_type": "stream",
          "name": "stderr",
          "text": [
            "2023-12-09 00:25:23,685 - root - INFO - Accuracy: 97.30%\n",
            "2023-12-09 00:25:23,686 - root - INFO - Precision: 0.9724\n",
            "2023-12-09 00:25:23,688 - root - INFO - Recall: 0.9730\n",
            "2023-12-09 00:25:23,689 - root - INFO - F1 Score: 0.9716\n"
          ]
        },
        {
          "output_type": "stream",
          "name": "stdout",
          "text": [
            "Epoch [6/10], Step [100/3079], Loss: 0.1927\n",
            "Epoch [6/10], Step [200/3079], Loss: 0.0431\n",
            "Epoch [6/10], Step [300/3079], Loss: 0.1100\n",
            "Epoch [6/10], Step [400/3079], Loss: 0.0222\n",
            "Epoch [6/10], Step [500/3079], Loss: 0.0292\n",
            "Epoch [6/10], Step [600/3079], Loss: 0.0135\n",
            "Epoch [6/10], Step [700/3079], Loss: 0.0026\n",
            "Epoch [6/10], Step [800/3079], Loss: 0.2199\n",
            "Epoch [6/10], Step [900/3079], Loss: 0.0573\n",
            "Epoch [6/10], Step [1000/3079], Loss: 0.1901\n",
            "Epoch [6/10], Step [1100/3079], Loss: 0.0706\n",
            "Epoch [6/10], Step [1200/3079], Loss: 0.0161\n",
            "Epoch [6/10], Step [1300/3079], Loss: 0.2733\n",
            "Epoch [6/10], Step [1400/3079], Loss: 0.0429\n",
            "Epoch [6/10], Step [1500/3079], Loss: 0.0306\n",
            "Epoch [6/10], Step [1600/3079], Loss: 0.2517\n",
            "Epoch [6/10], Step [1700/3079], Loss: 0.2956\n",
            "Epoch [6/10], Step [1800/3079], Loss: 0.0070\n",
            "Epoch [6/10], Step [1900/3079], Loss: 0.1138\n",
            "Epoch [6/10], Step [2000/3079], Loss: 0.1093\n",
            "Epoch [6/10], Step [2100/3079], Loss: 0.0128\n",
            "Epoch [6/10], Step [2200/3079], Loss: 0.0249\n",
            "Epoch [6/10], Step [2300/3079], Loss: 0.0199\n",
            "Epoch [6/10], Step [2400/3079], Loss: 0.0872\n",
            "Epoch [6/10], Step [2500/3079], Loss: 0.0072\n",
            "Epoch [6/10], Step [2600/3079], Loss: 0.2313\n",
            "Epoch [6/10], Step [2700/3079], Loss: 0.0259\n",
            "Epoch [6/10], Step [2800/3079], Loss: 0.0429\n",
            "Epoch [6/10], Step [2900/3079], Loss: 0.0972\n",
            "Epoch [6/10], Step [3000/3079], Loss: 0.0237\n"
          ]
        },
        {
          "output_type": "stream",
          "name": "stderr",
          "text": [
            "2023-12-09 00:25:40,243 - root - INFO - Accuracy: 97.25%\n",
            "2023-12-09 00:25:40,244 - root - INFO - Precision: 0.9716\n",
            "2023-12-09 00:25:40,244 - root - INFO - Recall: 0.9725\n",
            "2023-12-09 00:25:40,245 - root - INFO - F1 Score: 0.9705\n"
          ]
        },
        {
          "output_type": "stream",
          "name": "stdout",
          "text": [
            "Epoch [7/10], Step [100/3079], Loss: 0.1749\n",
            "Epoch [7/10], Step [200/3079], Loss: 0.0906\n",
            "Epoch [7/10], Step [300/3079], Loss: 0.0351\n",
            "Epoch [7/10], Step [400/3079], Loss: 0.0419\n",
            "Epoch [7/10], Step [500/3079], Loss: 0.6529\n",
            "Epoch [7/10], Step [600/3079], Loss: 0.0994\n",
            "Epoch [7/10], Step [700/3079], Loss: 0.0228\n",
            "Epoch [7/10], Step [800/3079], Loss: 0.0844\n",
            "Epoch [7/10], Step [900/3079], Loss: 0.1438\n",
            "Epoch [7/10], Step [1000/3079], Loss: 0.0284\n",
            "Epoch [7/10], Step [1100/3079], Loss: 0.0268\n",
            "Epoch [7/10], Step [1200/3079], Loss: 0.1555\n",
            "Epoch [7/10], Step [1300/3079], Loss: 0.0552\n",
            "Epoch [7/10], Step [1400/3079], Loss: 0.0284\n",
            "Epoch [7/10], Step [1500/3079], Loss: 0.0459\n",
            "Epoch [7/10], Step [1600/3079], Loss: 0.2237\n",
            "Epoch [7/10], Step [1700/3079], Loss: 0.0378\n",
            "Epoch [7/10], Step [1800/3079], Loss: 0.0268\n",
            "Epoch [7/10], Step [1900/3079], Loss: 0.0317\n",
            "Epoch [7/10], Step [2000/3079], Loss: 0.0374\n",
            "Epoch [7/10], Step [2100/3079], Loss: 0.0330\n",
            "Epoch [7/10], Step [2200/3079], Loss: 0.0344\n",
            "Epoch [7/10], Step [2300/3079], Loss: 0.0406\n",
            "Epoch [7/10], Step [2400/3079], Loss: 0.0644\n",
            "Epoch [7/10], Step [2500/3079], Loss: 0.1385\n",
            "Epoch [7/10], Step [2600/3079], Loss: 0.0055\n",
            "Epoch [7/10], Step [2700/3079], Loss: 0.1287\n",
            "Epoch [7/10], Step [2800/3079], Loss: 0.4326\n",
            "Epoch [7/10], Step [2900/3079], Loss: 0.3862\n",
            "Epoch [7/10], Step [3000/3079], Loss: 0.0232\n"
          ]
        },
        {
          "output_type": "stream",
          "name": "stderr",
          "text": [
            "2023-12-09 00:25:56,981 - root - INFO - Accuracy: 97.53%\n",
            "2023-12-09 00:25:56,982 - root - INFO - Precision: 0.9746\n",
            "2023-12-09 00:25:56,983 - root - INFO - Recall: 0.9753\n",
            "2023-12-09 00:25:56,984 - root - INFO - F1 Score: 0.9743\n"
          ]
        },
        {
          "output_type": "stream",
          "name": "stdout",
          "text": [
            "Epoch [8/10], Step [100/3079], Loss: 0.0091\n",
            "Epoch [8/10], Step [200/3079], Loss: 0.0127\n",
            "Epoch [8/10], Step [300/3079], Loss: 0.0864\n",
            "Epoch [8/10], Step [400/3079], Loss: 0.0940\n",
            "Epoch [8/10], Step [500/3079], Loss: 0.0065\n",
            "Epoch [8/10], Step [600/3079], Loss: 0.0439\n",
            "Epoch [8/10], Step [700/3079], Loss: 0.0168\n",
            "Epoch [8/10], Step [800/3079], Loss: 0.0400\n",
            "Epoch [8/10], Step [900/3079], Loss: 0.0115\n",
            "Epoch [8/10], Step [1000/3079], Loss: 0.1191\n",
            "Epoch [8/10], Step [1100/3079], Loss: 0.0607\n",
            "Epoch [8/10], Step [1200/3079], Loss: 0.0154\n",
            "Epoch [8/10], Step [1300/3079], Loss: 0.0155\n",
            "Epoch [8/10], Step [1400/3079], Loss: 0.4173\n",
            "Epoch [8/10], Step [1500/3079], Loss: 0.0182\n",
            "Epoch [8/10], Step [1600/3079], Loss: 0.0134\n",
            "Epoch [8/10], Step [1700/3079], Loss: 0.0273\n",
            "Epoch [8/10], Step [1800/3079], Loss: 0.0565\n",
            "Epoch [8/10], Step [1900/3079], Loss: 0.2248\n",
            "Epoch [8/10], Step [2000/3079], Loss: 0.0036\n",
            "Epoch [8/10], Step [2100/3079], Loss: 0.0163\n",
            "Epoch [8/10], Step [2200/3079], Loss: 0.0267\n",
            "Epoch [8/10], Step [2300/3079], Loss: 0.1021\n",
            "Epoch [8/10], Step [2400/3079], Loss: 0.0294\n",
            "Epoch [8/10], Step [2500/3079], Loss: 0.0570\n",
            "Epoch [8/10], Step [2600/3079], Loss: 0.0763\n",
            "Epoch [8/10], Step [2700/3079], Loss: 0.0489\n",
            "Epoch [8/10], Step [2800/3079], Loss: 0.0084\n",
            "Epoch [8/10], Step [2900/3079], Loss: 0.0574\n",
            "Epoch [8/10], Step [3000/3079], Loss: 0.0077\n"
          ]
        },
        {
          "output_type": "stream",
          "name": "stderr",
          "text": [
            "2023-12-09 00:26:13,668 - root - INFO - Accuracy: 97.73%\n",
            "2023-12-09 00:26:13,669 - root - INFO - Precision: 0.9766\n",
            "2023-12-09 00:26:13,670 - root - INFO - Recall: 0.9773\n",
            "2023-12-09 00:26:13,671 - root - INFO - F1 Score: 0.9759\n"
          ]
        },
        {
          "output_type": "stream",
          "name": "stdout",
          "text": [
            "Epoch [9/10], Step [100/3079], Loss: 0.0847\n",
            "Epoch [9/10], Step [200/3079], Loss: 0.3480\n",
            "Epoch [9/10], Step [300/3079], Loss: 0.1298\n",
            "Epoch [9/10], Step [400/3079], Loss: 0.1147\n",
            "Epoch [9/10], Step [500/3079], Loss: 0.1852\n",
            "Epoch [9/10], Step [600/3079], Loss: 0.0801\n",
            "Epoch [9/10], Step [700/3079], Loss: 0.0089\n",
            "Epoch [9/10], Step [800/3079], Loss: 0.0672\n",
            "Epoch [9/10], Step [900/3079], Loss: 0.0139\n",
            "Epoch [9/10], Step [1000/3079], Loss: 0.0369\n",
            "Epoch [9/10], Step [1100/3079], Loss: 0.1828\n",
            "Epoch [9/10], Step [1200/3079], Loss: 0.2672\n",
            "Epoch [9/10], Step [1300/3079], Loss: 0.3184\n",
            "Epoch [9/10], Step [1400/3079], Loss: 0.0249\n",
            "Epoch [9/10], Step [1500/3079], Loss: 0.1949\n",
            "Epoch [9/10], Step [1600/3079], Loss: 0.1062\n",
            "Epoch [9/10], Step [1700/3079], Loss: 0.1628\n",
            "Epoch [9/10], Step [1800/3079], Loss: 0.0032\n",
            "Epoch [9/10], Step [1900/3079], Loss: 0.0172\n",
            "Epoch [9/10], Step [2000/3079], Loss: 0.0073\n",
            "Epoch [9/10], Step [2100/3079], Loss: 0.1399\n",
            "Epoch [9/10], Step [2200/3079], Loss: 0.0100\n",
            "Epoch [9/10], Step [2300/3079], Loss: 0.1335\n",
            "Epoch [9/10], Step [2400/3079], Loss: 0.1176\n",
            "Epoch [9/10], Step [2500/3079], Loss: 0.0192\n",
            "Epoch [9/10], Step [2600/3079], Loss: 0.1961\n",
            "Epoch [9/10], Step [2700/3079], Loss: 0.0061\n",
            "Epoch [9/10], Step [2800/3079], Loss: 0.0096\n",
            "Epoch [9/10], Step [2900/3079], Loss: 0.0072\n",
            "Epoch [9/10], Step [3000/3079], Loss: 0.2153\n"
          ]
        },
        {
          "output_type": "stream",
          "name": "stderr",
          "text": [
            "2023-12-09 00:26:30,349 - root - INFO - Accuracy: 97.84%\n",
            "2023-12-09 00:26:30,350 - root - INFO - Precision: 0.9779\n",
            "2023-12-09 00:26:30,351 - root - INFO - Recall: 0.9784\n",
            "2023-12-09 00:26:30,352 - root - INFO - F1 Score: 0.9778\n"
          ]
        },
        {
          "output_type": "stream",
          "name": "stdout",
          "text": [
            "Epoch [10/10], Step [100/3079], Loss: 0.0085\n",
            "Epoch [10/10], Step [200/3079], Loss: 0.1381\n",
            "Epoch [10/10], Step [300/3079], Loss: 0.1460\n",
            "Epoch [10/10], Step [400/3079], Loss: 0.0060\n",
            "Epoch [10/10], Step [500/3079], Loss: 0.0288\n",
            "Epoch [10/10], Step [600/3079], Loss: 0.0047\n",
            "Epoch [10/10], Step [700/3079], Loss: 0.0203\n",
            "Epoch [10/10], Step [800/3079], Loss: 0.0273\n",
            "Epoch [10/10], Step [900/3079], Loss: 0.0184\n",
            "Epoch [10/10], Step [1000/3079], Loss: 0.1366\n",
            "Epoch [10/10], Step [1100/3079], Loss: 0.0315\n",
            "Epoch [10/10], Step [1200/3079], Loss: 0.0530\n",
            "Epoch [10/10], Step [1300/3079], Loss: 0.0150\n",
            "Epoch [10/10], Step [1400/3079], Loss: 0.0774\n",
            "Epoch [10/10], Step [1500/3079], Loss: 0.0678\n",
            "Epoch [10/10], Step [1600/3079], Loss: 0.0309\n",
            "Epoch [10/10], Step [1700/3079], Loss: 0.2708\n",
            "Epoch [10/10], Step [1800/3079], Loss: 0.1625\n",
            "Epoch [10/10], Step [1900/3079], Loss: 0.0051\n",
            "Epoch [10/10], Step [2000/3079], Loss: 0.0773\n",
            "Epoch [10/10], Step [2100/3079], Loss: 0.2909\n",
            "Epoch [10/10], Step [2200/3079], Loss: 0.0163\n",
            "Epoch [10/10], Step [2300/3079], Loss: 0.0559\n",
            "Epoch [10/10], Step [2400/3079], Loss: 0.1107\n",
            "Epoch [10/10], Step [2500/3079], Loss: 0.1620\n",
            "Epoch [10/10], Step [2600/3079], Loss: 0.0146\n",
            "Epoch [10/10], Step [2700/3079], Loss: 0.0347\n",
            "Epoch [10/10], Step [2800/3079], Loss: 0.0417\n",
            "Epoch [10/10], Step [2900/3079], Loss: 0.0284\n",
            "Epoch [10/10], Step [3000/3079], Loss: 0.0306\n"
          ]
        },
        {
          "output_type": "stream",
          "name": "stderr",
          "text": [
            "2023-12-09 00:26:47,066 - root - INFO - Accuracy: 97.76%\n",
            "2023-12-09 00:26:47,067 - root - INFO - Precision: 0.9772\n",
            "2023-12-09 00:26:47,068 - root - INFO - Recall: 0.9776\n",
            "2023-12-09 00:26:47,070 - root - INFO - F1 Score: 0.9771\n"
          ]
        },
        {
          "output_type": "stream",
          "name": "stdout",
          "text": [
            "FOLD 8\n",
            "--------------------------------\n",
            "AttentionLSTM(\n",
            "  (lstm): LSTM(1, 128, num_layers=2, batch_first=True)\n",
            "  (attention): SelfAttention(\n",
            "    (query): Linear(in_features=128, out_features=128, bias=True)\n",
            "    (key): Linear(in_features=128, out_features=128, bias=True)\n",
            "    (value): Linear(in_features=128, out_features=128, bias=True)\n",
            "  )\n",
            "  (fc): Linear(in_features=128, out_features=5, bias=True)\n",
            ")\n",
            "Epoch [1/10], Step [100/3079], Loss: 0.5645\n",
            "Epoch [1/10], Step [200/3079], Loss: 0.7376\n",
            "Epoch [1/10], Step [300/3079], Loss: 0.7058\n",
            "Epoch [1/10], Step [400/3079], Loss: 0.7950\n",
            "Epoch [1/10], Step [500/3079], Loss: 0.4502\n",
            "Epoch [1/10], Step [600/3079], Loss: 0.3511\n",
            "Epoch [1/10], Step [700/3079], Loss: 0.6146\n",
            "Epoch [1/10], Step [800/3079], Loss: 0.1913\n",
            "Epoch [1/10], Step [900/3079], Loss: 0.6552\n",
            "Epoch [1/10], Step [1000/3079], Loss: 0.3977\n",
            "Epoch [1/10], Step [1100/3079], Loss: 0.2385\n",
            "Epoch [1/10], Step [1200/3079], Loss: 0.6691\n",
            "Epoch [1/10], Step [1300/3079], Loss: 0.3262\n",
            "Epoch [1/10], Step [1400/3079], Loss: 0.4943\n",
            "Epoch [1/10], Step [1500/3079], Loss: 0.3035\n",
            "Epoch [1/10], Step [1600/3079], Loss: 0.4189\n",
            "Epoch [1/10], Step [1700/3079], Loss: 0.3186\n",
            "Epoch [1/10], Step [1800/3079], Loss: 0.2481\n",
            "Epoch [1/10], Step [1900/3079], Loss: 0.7196\n",
            "Epoch [1/10], Step [2000/3079], Loss: 0.0869\n",
            "Epoch [1/10], Step [2100/3079], Loss: 0.3659\n",
            "Epoch [1/10], Step [2200/3079], Loss: 0.6033\n",
            "Epoch [1/10], Step [2300/3079], Loss: 0.1782\n",
            "Epoch [1/10], Step [2400/3079], Loss: 0.1694\n",
            "Epoch [1/10], Step [2500/3079], Loss: 0.3095\n",
            "Epoch [1/10], Step [2600/3079], Loss: 0.5805\n",
            "Epoch [1/10], Step [2700/3079], Loss: 0.2720\n",
            "Epoch [1/10], Step [2800/3079], Loss: 0.1097\n",
            "Epoch [1/10], Step [2900/3079], Loss: 0.4407\n",
            "Epoch [1/10], Step [3000/3079], Loss: 0.5222\n"
          ]
        },
        {
          "output_type": "stream",
          "name": "stderr",
          "text": [
            "/usr/local/lib/python3.10/dist-packages/sklearn/metrics/_classification.py:1344: UndefinedMetricWarning: Precision is ill-defined and being set to 0.0 in labels with no predicted samples. Use `zero_division` parameter to control this behavior.\n",
            "  _warn_prf(average, modifier, msg_start, len(result))\n",
            "2023-12-09 00:27:03,698 - root - INFO - Accuracy: 91.54%\n",
            "2023-12-09 00:27:03,699 - root - INFO - Precision: 0.9017\n",
            "2023-12-09 00:27:03,701 - root - INFO - Recall: 0.9154\n",
            "2023-12-09 00:27:03,701 - root - INFO - F1 Score: 0.8996\n"
          ]
        },
        {
          "output_type": "stream",
          "name": "stdout",
          "text": [
            "Epoch [2/10], Step [100/3079], Loss: 0.2963\n",
            "Epoch [2/10], Step [200/3079], Loss: 0.4041\n",
            "Epoch [2/10], Step [300/3079], Loss: 0.2828\n",
            "Epoch [2/10], Step [400/3079], Loss: 0.3152\n",
            "Epoch [2/10], Step [500/3079], Loss: 0.1932\n",
            "Epoch [2/10], Step [600/3079], Loss: 0.4846\n",
            "Epoch [2/10], Step [700/3079], Loss: 0.1339\n",
            "Epoch [2/10], Step [800/3079], Loss: 0.1816\n",
            "Epoch [2/10], Step [900/3079], Loss: 0.1477\n",
            "Epoch [2/10], Step [1000/3079], Loss: 0.5840\n",
            "Epoch [2/10], Step [1100/3079], Loss: 0.3285\n",
            "Epoch [2/10], Step [1200/3079], Loss: 0.4071\n",
            "Epoch [2/10], Step [1300/3079], Loss: 0.2523\n",
            "Epoch [2/10], Step [1400/3079], Loss: 0.1119\n",
            "Epoch [2/10], Step [1500/3079], Loss: 0.1017\n",
            "Epoch [2/10], Step [1600/3079], Loss: 0.0731\n",
            "Epoch [2/10], Step [1700/3079], Loss: 0.3222\n",
            "Epoch [2/10], Step [1800/3079], Loss: 0.0244\n",
            "Epoch [2/10], Step [1900/3079], Loss: 0.4547\n",
            "Epoch [2/10], Step [2000/3079], Loss: 0.5060\n",
            "Epoch [2/10], Step [2100/3079], Loss: 0.0842\n",
            "Epoch [2/10], Step [2200/3079], Loss: 0.3702\n",
            "Epoch [2/10], Step [2300/3079], Loss: 0.6421\n",
            "Epoch [2/10], Step [2400/3079], Loss: 0.3912\n",
            "Epoch [2/10], Step [2500/3079], Loss: 0.0639\n",
            "Epoch [2/10], Step [2600/3079], Loss: 0.5053\n",
            "Epoch [2/10], Step [2700/3079], Loss: 0.1393\n",
            "Epoch [2/10], Step [2800/3079], Loss: 0.0878\n",
            "Epoch [2/10], Step [2900/3079], Loss: 0.1588\n",
            "Epoch [2/10], Step [3000/3079], Loss: 0.3414\n"
          ]
        },
        {
          "output_type": "stream",
          "name": "stderr",
          "text": [
            "2023-12-09 00:27:20,398 - root - INFO - Accuracy: 94.61%\n",
            "2023-12-09 00:27:20,400 - root - INFO - Precision: 0.9437\n",
            "2023-12-09 00:27:20,401 - root - INFO - Recall: 0.9461\n",
            "2023-12-09 00:27:20,402 - root - INFO - F1 Score: 0.9396\n"
          ]
        },
        {
          "output_type": "stream",
          "name": "stdout",
          "text": [
            "Epoch [3/10], Step [100/3079], Loss: 0.1486\n",
            "Epoch [3/10], Step [200/3079], Loss: 0.2521\n",
            "Epoch [3/10], Step [300/3079], Loss: 0.1480\n",
            "Epoch [3/10], Step [400/3079], Loss: 0.3882\n",
            "Epoch [3/10], Step [500/3079], Loss: 0.0990\n",
            "Epoch [3/10], Step [600/3079], Loss: 0.0977\n",
            "Epoch [3/10], Step [700/3079], Loss: 0.2022\n",
            "Epoch [3/10], Step [800/3079], Loss: 0.3176\n",
            "Epoch [3/10], Step [900/3079], Loss: 0.1161\n",
            "Epoch [3/10], Step [1000/3079], Loss: 0.2331\n",
            "Epoch [3/10], Step [1100/3079], Loss: 0.1854\n",
            "Epoch [3/10], Step [1200/3079], Loss: 0.4036\n",
            "Epoch [3/10], Step [1300/3079], Loss: 0.0452\n",
            "Epoch [3/10], Step [1400/3079], Loss: 0.2320\n",
            "Epoch [3/10], Step [1500/3079], Loss: 0.6490\n",
            "Epoch [3/10], Step [1600/3079], Loss: 0.0909\n",
            "Epoch [3/10], Step [1700/3079], Loss: 0.1782\n",
            "Epoch [3/10], Step [1800/3079], Loss: 0.1673\n",
            "Epoch [3/10], Step [1900/3079], Loss: 0.1299\n",
            "Epoch [3/10], Step [2000/3079], Loss: 0.3726\n",
            "Epoch [3/10], Step [2100/3079], Loss: 0.1715\n",
            "Epoch [3/10], Step [2200/3079], Loss: 0.0157\n",
            "Epoch [3/10], Step [2300/3079], Loss: 0.1048\n",
            "Epoch [3/10], Step [2400/3079], Loss: 0.3918\n",
            "Epoch [3/10], Step [2500/3079], Loss: 0.2556\n",
            "Epoch [3/10], Step [2600/3079], Loss: 0.0679\n",
            "Epoch [3/10], Step [2700/3079], Loss: 0.1456\n",
            "Epoch [3/10], Step [2800/3079], Loss: 0.2410\n",
            "Epoch [3/10], Step [2900/3079], Loss: 0.1355\n",
            "Epoch [3/10], Step [3000/3079], Loss: 0.0631\n"
          ]
        },
        {
          "output_type": "stream",
          "name": "stderr",
          "text": [
            "2023-12-09 00:27:37,111 - root - INFO - Accuracy: 95.16%\n",
            "2023-12-09 00:27:37,112 - root - INFO - Precision: 0.9512\n",
            "2023-12-09 00:27:37,113 - root - INFO - Recall: 0.9516\n",
            "2023-12-09 00:27:37,114 - root - INFO - F1 Score: 0.9482\n"
          ]
        },
        {
          "output_type": "stream",
          "name": "stdout",
          "text": [
            "Epoch [4/10], Step [100/3079], Loss: 0.0119\n",
            "Epoch [4/10], Step [200/3079], Loss: 0.1901\n",
            "Epoch [4/10], Step [300/3079], Loss: 0.3039\n",
            "Epoch [4/10], Step [400/3079], Loss: 0.1063\n",
            "Epoch [4/10], Step [500/3079], Loss: 0.2652\n",
            "Epoch [4/10], Step [600/3079], Loss: 0.0717\n",
            "Epoch [4/10], Step [700/3079], Loss: 0.2535\n",
            "Epoch [4/10], Step [800/3079], Loss: 0.0741\n",
            "Epoch [4/10], Step [900/3079], Loss: 0.1712\n",
            "Epoch [4/10], Step [1000/3079], Loss: 0.0237\n",
            "Epoch [4/10], Step [1100/3079], Loss: 0.5234\n",
            "Epoch [4/10], Step [1200/3079], Loss: 0.2035\n",
            "Epoch [4/10], Step [1300/3079], Loss: 0.1276\n",
            "Epoch [4/10], Step [1400/3079], Loss: 0.0212\n",
            "Epoch [4/10], Step [1500/3079], Loss: 0.1764\n",
            "Epoch [4/10], Step [1600/3079], Loss: 0.0373\n",
            "Epoch [4/10], Step [1700/3079], Loss: 0.1753\n",
            "Epoch [4/10], Step [1800/3079], Loss: 0.2336\n",
            "Epoch [4/10], Step [1900/3079], Loss: 0.2755\n",
            "Epoch [4/10], Step [2000/3079], Loss: 0.1990\n",
            "Epoch [4/10], Step [2100/3079], Loss: 0.1355\n",
            "Epoch [4/10], Step [2200/3079], Loss: 0.2973\n",
            "Epoch [4/10], Step [2300/3079], Loss: 0.1596\n",
            "Epoch [4/10], Step [2400/3079], Loss: 0.0195\n",
            "Epoch [4/10], Step [2500/3079], Loss: 0.0611\n",
            "Epoch [4/10], Step [2600/3079], Loss: 0.2435\n",
            "Epoch [4/10], Step [2700/3079], Loss: 0.2400\n",
            "Epoch [4/10], Step [2800/3079], Loss: 0.0131\n",
            "Epoch [4/10], Step [2900/3079], Loss: 0.0286\n",
            "Epoch [4/10], Step [3000/3079], Loss: 0.0476\n"
          ]
        },
        {
          "output_type": "stream",
          "name": "stderr",
          "text": [
            "2023-12-09 00:27:53,764 - root - INFO - Accuracy: 96.18%\n",
            "2023-12-09 00:27:53,765 - root - INFO - Precision: 0.9621\n",
            "2023-12-09 00:27:53,766 - root - INFO - Recall: 0.9618\n",
            "2023-12-09 00:27:53,767 - root - INFO - F1 Score: 0.9546\n"
          ]
        },
        {
          "output_type": "stream",
          "name": "stdout",
          "text": [
            "Epoch [5/10], Step [100/3079], Loss: 0.0506\n",
            "Epoch [5/10], Step [200/3079], Loss: 0.0289\n",
            "Epoch [5/10], Step [300/3079], Loss: 0.1395\n",
            "Epoch [5/10], Step [400/3079], Loss: 0.0291\n",
            "Epoch [5/10], Step [500/3079], Loss: 0.0477\n",
            "Epoch [5/10], Step [600/3079], Loss: 0.0266\n",
            "Epoch [5/10], Step [700/3079], Loss: 0.1235\n",
            "Epoch [5/10], Step [800/3079], Loss: 0.1040\n",
            "Epoch [5/10], Step [900/3079], Loss: 0.2938\n",
            "Epoch [5/10], Step [1000/3079], Loss: 0.1341\n",
            "Epoch [5/10], Step [1100/3079], Loss: 0.1284\n",
            "Epoch [5/10], Step [1200/3079], Loss: 0.0221\n",
            "Epoch [5/10], Step [1300/3079], Loss: 0.1271\n",
            "Epoch [5/10], Step [1400/3079], Loss: 0.1106\n",
            "Epoch [5/10], Step [1500/3079], Loss: 0.0160\n",
            "Epoch [5/10], Step [1600/3079], Loss: 0.1024\n",
            "Epoch [5/10], Step [1700/3079], Loss: 0.0768\n",
            "Epoch [5/10], Step [1800/3079], Loss: 0.1192\n",
            "Epoch [5/10], Step [1900/3079], Loss: 0.0250\n",
            "Epoch [5/10], Step [2000/3079], Loss: 0.1940\n",
            "Epoch [5/10], Step [2100/3079], Loss: 0.1225\n",
            "Epoch [5/10], Step [2200/3079], Loss: 0.0423\n",
            "Epoch [5/10], Step [2300/3079], Loss: 0.2614\n",
            "Epoch [5/10], Step [2400/3079], Loss: 0.1925\n",
            "Epoch [5/10], Step [2500/3079], Loss: 0.0609\n",
            "Epoch [5/10], Step [2600/3079], Loss: 0.1676\n",
            "Epoch [5/10], Step [2700/3079], Loss: 0.2526\n",
            "Epoch [5/10], Step [2800/3079], Loss: 0.0185\n",
            "Epoch [5/10], Step [2900/3079], Loss: 0.0875\n",
            "Epoch [5/10], Step [3000/3079], Loss: 0.2038\n"
          ]
        },
        {
          "output_type": "stream",
          "name": "stderr",
          "text": [
            "2023-12-09 00:28:10,254 - root - INFO - Accuracy: 97.16%\n",
            "2023-12-09 00:28:10,255 - root - INFO - Precision: 0.9711\n",
            "2023-12-09 00:28:10,256 - root - INFO - Recall: 0.9716\n",
            "2023-12-09 00:28:10,257 - root - INFO - F1 Score: 0.9712\n"
          ]
        },
        {
          "output_type": "stream",
          "name": "stdout",
          "text": [
            "Epoch [6/10], Step [100/3079], Loss: 0.1648\n",
            "Epoch [6/10], Step [200/3079], Loss: 0.1537\n",
            "Epoch [6/10], Step [300/3079], Loss: 0.0145\n",
            "Epoch [6/10], Step [400/3079], Loss: 0.1535\n",
            "Epoch [6/10], Step [500/3079], Loss: 0.1724\n",
            "Epoch [6/10], Step [600/3079], Loss: 0.1679\n",
            "Epoch [6/10], Step [700/3079], Loss: 0.1719\n",
            "Epoch [6/10], Step [800/3079], Loss: 0.1580\n",
            "Epoch [6/10], Step [900/3079], Loss: 0.0093\n",
            "Epoch [6/10], Step [1000/3079], Loss: 0.0443\n",
            "Epoch [6/10], Step [1100/3079], Loss: 0.0117\n",
            "Epoch [6/10], Step [1200/3079], Loss: 0.0623\n",
            "Epoch [6/10], Step [1300/3079], Loss: 0.0221\n",
            "Epoch [6/10], Step [1400/3079], Loss: 0.1445\n",
            "Epoch [6/10], Step [1500/3079], Loss: 0.0777\n",
            "Epoch [6/10], Step [1600/3079], Loss: 0.1650\n",
            "Epoch [6/10], Step [1700/3079], Loss: 0.0034\n",
            "Epoch [6/10], Step [1800/3079], Loss: 0.0409\n",
            "Epoch [6/10], Step [1900/3079], Loss: 0.1849\n",
            "Epoch [6/10], Step [2000/3079], Loss: 0.2143\n",
            "Epoch [6/10], Step [2100/3079], Loss: 0.0492\n",
            "Epoch [6/10], Step [2200/3079], Loss: 0.0519\n",
            "Epoch [6/10], Step [2300/3079], Loss: 0.0148\n",
            "Epoch [6/10], Step [2400/3079], Loss: 0.0162\n",
            "Epoch [6/10], Step [2500/3079], Loss: 0.0218\n",
            "Epoch [6/10], Step [2600/3079], Loss: 0.0436\n",
            "Epoch [6/10], Step [2700/3079], Loss: 0.1165\n",
            "Epoch [6/10], Step [2800/3079], Loss: 0.0424\n",
            "Epoch [6/10], Step [2900/3079], Loss: 0.0320\n",
            "Epoch [6/10], Step [3000/3079], Loss: 0.3871\n"
          ]
        },
        {
          "output_type": "stream",
          "name": "stderr",
          "text": [
            "2023-12-09 00:28:26,970 - root - INFO - Accuracy: 97.45%\n",
            "2023-12-09 00:28:26,971 - root - INFO - Precision: 0.9738\n",
            "2023-12-09 00:28:26,972 - root - INFO - Recall: 0.9745\n",
            "2023-12-09 00:28:26,972 - root - INFO - F1 Score: 0.9731\n"
          ]
        },
        {
          "output_type": "stream",
          "name": "stdout",
          "text": [
            "Epoch [7/10], Step [100/3079], Loss: 0.0453\n",
            "Epoch [7/10], Step [200/3079], Loss: 0.0311\n",
            "Epoch [7/10], Step [300/3079], Loss: 0.2790\n",
            "Epoch [7/10], Step [400/3079], Loss: 0.0634\n",
            "Epoch [7/10], Step [500/3079], Loss: 0.0628\n",
            "Epoch [7/10], Step [600/3079], Loss: 0.0696\n",
            "Epoch [7/10], Step [700/3079], Loss: 0.4337\n",
            "Epoch [7/10], Step [800/3079], Loss: 0.1161\n",
            "Epoch [7/10], Step [900/3079], Loss: 0.0182\n",
            "Epoch [7/10], Step [1000/3079], Loss: 0.0286\n",
            "Epoch [7/10], Step [1100/3079], Loss: 0.0394\n",
            "Epoch [7/10], Step [1200/3079], Loss: 0.0317\n",
            "Epoch [7/10], Step [1300/3079], Loss: 0.0276\n",
            "Epoch [7/10], Step [1400/3079], Loss: 0.1515\n",
            "Epoch [7/10], Step [1500/3079], Loss: 0.4454\n",
            "Epoch [7/10], Step [1600/3079], Loss: 0.0340\n",
            "Epoch [7/10], Step [1700/3079], Loss: 0.0524\n",
            "Epoch [7/10], Step [1800/3079], Loss: 0.0084\n",
            "Epoch [7/10], Step [1900/3079], Loss: 0.0847\n",
            "Epoch [7/10], Step [2000/3079], Loss: 0.1168\n",
            "Epoch [7/10], Step [2100/3079], Loss: 0.0486\n",
            "Epoch [7/10], Step [2200/3079], Loss: 0.1055\n",
            "Epoch [7/10], Step [2300/3079], Loss: 0.0044\n",
            "Epoch [7/10], Step [2400/3079], Loss: 0.0409\n",
            "Epoch [7/10], Step [2500/3079], Loss: 0.0068\n",
            "Epoch [7/10], Step [2600/3079], Loss: 0.0464\n",
            "Epoch [7/10], Step [2700/3079], Loss: 0.3414\n",
            "Epoch [7/10], Step [2800/3079], Loss: 0.0817\n",
            "Epoch [7/10], Step [2900/3079], Loss: 0.0235\n",
            "Epoch [7/10], Step [3000/3079], Loss: 0.0363\n"
          ]
        },
        {
          "output_type": "stream",
          "name": "stderr",
          "text": [
            "2023-12-09 00:28:43,665 - root - INFO - Accuracy: 97.53%\n",
            "2023-12-09 00:28:43,667 - root - INFO - Precision: 0.9755\n",
            "2023-12-09 00:28:43,668 - root - INFO - Recall: 0.9753\n",
            "2023-12-09 00:28:43,672 - root - INFO - F1 Score: 0.9731\n"
          ]
        },
        {
          "output_type": "stream",
          "name": "stdout",
          "text": [
            "Epoch [8/10], Step [100/3079], Loss: 0.1437\n",
            "Epoch [8/10], Step [200/3079], Loss: 0.1169\n",
            "Epoch [8/10], Step [300/3079], Loss: 0.1473\n",
            "Epoch [8/10], Step [400/3079], Loss: 0.0559\n",
            "Epoch [8/10], Step [500/3079], Loss: 0.1471\n",
            "Epoch [8/10], Step [600/3079], Loss: 0.0282\n",
            "Epoch [8/10], Step [700/3079], Loss: 0.0884\n",
            "Epoch [8/10], Step [800/3079], Loss: 0.0314\n",
            "Epoch [8/10], Step [900/3079], Loss: 0.0689\n",
            "Epoch [8/10], Step [1000/3079], Loss: 0.0422\n",
            "Epoch [8/10], Step [1100/3079], Loss: 0.0503\n",
            "Epoch [8/10], Step [1200/3079], Loss: 0.1758\n",
            "Epoch [8/10], Step [1300/3079], Loss: 0.1242\n",
            "Epoch [8/10], Step [1400/3079], Loss: 0.3378\n",
            "Epoch [8/10], Step [1500/3079], Loss: 0.1231\n",
            "Epoch [8/10], Step [1600/3079], Loss: 0.2265\n",
            "Epoch [8/10], Step [1700/3079], Loss: 0.0400\n",
            "Epoch [8/10], Step [1800/3079], Loss: 0.0791\n",
            "Epoch [8/10], Step [1900/3079], Loss: 0.0946\n",
            "Epoch [8/10], Step [2000/3079], Loss: 0.0643\n",
            "Epoch [8/10], Step [2100/3079], Loss: 0.0548\n",
            "Epoch [8/10], Step [2200/3079], Loss: 0.0362\n",
            "Epoch [8/10], Step [2300/3079], Loss: 0.0273\n",
            "Epoch [8/10], Step [2400/3079], Loss: 0.0173\n",
            "Epoch [8/10], Step [2500/3079], Loss: 0.2134\n",
            "Epoch [8/10], Step [2600/3079], Loss: 0.0087\n",
            "Epoch [8/10], Step [2700/3079], Loss: 0.0393\n",
            "Epoch [8/10], Step [2800/3079], Loss: 0.0911\n",
            "Epoch [8/10], Step [2900/3079], Loss: 0.0182\n",
            "Epoch [8/10], Step [3000/3079], Loss: 0.0743\n"
          ]
        },
        {
          "output_type": "stream",
          "name": "stderr",
          "text": [
            "2023-12-09 00:29:00,327 - root - INFO - Accuracy: 97.83%\n",
            "2023-12-09 00:29:00,329 - root - INFO - Precision: 0.9782\n",
            "2023-12-09 00:29:00,329 - root - INFO - Recall: 0.9783\n",
            "2023-12-09 00:29:00,331 - root - INFO - F1 Score: 0.9767\n"
          ]
        },
        {
          "output_type": "stream",
          "name": "stdout",
          "text": [
            "Epoch [9/10], Step [100/3079], Loss: 0.3047\n",
            "Epoch [9/10], Step [200/3079], Loss: 0.3035\n",
            "Epoch [9/10], Step [300/3079], Loss: 0.1850\n",
            "Epoch [9/10], Step [400/3079], Loss: 0.0515\n",
            "Epoch [9/10], Step [500/3079], Loss: 0.2659\n",
            "Epoch [9/10], Step [600/3079], Loss: 0.0069\n",
            "Epoch [9/10], Step [700/3079], Loss: 0.1416\n",
            "Epoch [9/10], Step [800/3079], Loss: 0.0158\n",
            "Epoch [9/10], Step [900/3079], Loss: 0.0072\n",
            "Epoch [9/10], Step [1000/3079], Loss: 0.0322\n",
            "Epoch [9/10], Step [1100/3079], Loss: 0.0548\n",
            "Epoch [9/10], Step [1200/3079], Loss: 0.5847\n",
            "Epoch [9/10], Step [1300/3079], Loss: 0.0595\n",
            "Epoch [9/10], Step [1400/3079], Loss: 0.0266\n",
            "Epoch [9/10], Step [1500/3079], Loss: 0.0628\n",
            "Epoch [9/10], Step [1600/3079], Loss: 0.1717\n",
            "Epoch [9/10], Step [1700/3079], Loss: 0.1527\n",
            "Epoch [9/10], Step [1800/3079], Loss: 0.0015\n",
            "Epoch [9/10], Step [1900/3079], Loss: 0.0063\n",
            "Epoch [9/10], Step [2000/3079], Loss: 0.0072\n",
            "Epoch [9/10], Step [2100/3079], Loss: 0.0467\n",
            "Epoch [9/10], Step [2200/3079], Loss: 0.0229\n",
            "Epoch [9/10], Step [2300/3079], Loss: 0.0109\n",
            "Epoch [9/10], Step [2400/3079], Loss: 0.0175\n",
            "Epoch [9/10], Step [2500/3079], Loss: 0.0881\n",
            "Epoch [9/10], Step [2600/3079], Loss: 0.2580\n",
            "Epoch [9/10], Step [2700/3079], Loss: 0.0075\n",
            "Epoch [9/10], Step [2800/3079], Loss: 0.0073\n",
            "Epoch [9/10], Step [2900/3079], Loss: 0.1708\n",
            "Epoch [9/10], Step [3000/3079], Loss: 0.0192\n"
          ]
        },
        {
          "output_type": "stream",
          "name": "stderr",
          "text": [
            "2023-12-09 00:29:17,011 - root - INFO - Accuracy: 97.53%\n",
            "2023-12-09 00:29:17,012 - root - INFO - Precision: 0.9748\n",
            "2023-12-09 00:29:17,013 - root - INFO - Recall: 0.9753\n",
            "2023-12-09 00:29:17,014 - root - INFO - F1 Score: 0.9731\n"
          ]
        },
        {
          "output_type": "stream",
          "name": "stdout",
          "text": [
            "Epoch [10/10], Step [100/3079], Loss: 0.0069\n",
            "Epoch [10/10], Step [200/3079], Loss: 0.1059\n",
            "Epoch [10/10], Step [300/3079], Loss: 0.0096\n",
            "Epoch [10/10], Step [400/3079], Loss: 0.0192\n",
            "Epoch [10/10], Step [500/3079], Loss: 0.1929\n",
            "Epoch [10/10], Step [600/3079], Loss: 0.0122\n",
            "Epoch [10/10], Step [700/3079], Loss: 0.0156\n",
            "Epoch [10/10], Step [800/3079], Loss: 0.2311\n",
            "Epoch [10/10], Step [900/3079], Loss: 0.1615\n",
            "Epoch [10/10], Step [1000/3079], Loss: 0.0098\n",
            "Epoch [10/10], Step [1100/3079], Loss: 0.2136\n",
            "Epoch [10/10], Step [1200/3079], Loss: 0.0257\n",
            "Epoch [10/10], Step [1300/3079], Loss: 0.0074\n",
            "Epoch [10/10], Step [1400/3079], Loss: 0.1689\n",
            "Epoch [10/10], Step [1500/3079], Loss: 0.0194\n",
            "Epoch [10/10], Step [1600/3079], Loss: 0.1202\n",
            "Epoch [10/10], Step [1700/3079], Loss: 0.0049\n",
            "Epoch [10/10], Step [1800/3079], Loss: 0.2803\n",
            "Epoch [10/10], Step [1900/3079], Loss: 0.0089\n",
            "Epoch [10/10], Step [2000/3079], Loss: 0.0080\n",
            "Epoch [10/10], Step [2100/3079], Loss: 0.0176\n",
            "Epoch [10/10], Step [2200/3079], Loss: 0.0538\n",
            "Epoch [10/10], Step [2300/3079], Loss: 0.0477\n",
            "Epoch [10/10], Step [2400/3079], Loss: 0.0069\n",
            "Epoch [10/10], Step [2500/3079], Loss: 0.0883\n",
            "Epoch [10/10], Step [2600/3079], Loss: 0.0947\n",
            "Epoch [10/10], Step [2700/3079], Loss: 0.0098\n",
            "Epoch [10/10], Step [2800/3079], Loss: 0.0698\n",
            "Epoch [10/10], Step [2900/3079], Loss: 0.0529\n",
            "Epoch [10/10], Step [3000/3079], Loss: 0.0072\n"
          ]
        },
        {
          "output_type": "stream",
          "name": "stderr",
          "text": [
            "2023-12-09 00:29:33,729 - root - INFO - Accuracy: 98.11%\n",
            "2023-12-09 00:29:33,730 - root - INFO - Precision: 0.9806\n",
            "2023-12-09 00:29:33,732 - root - INFO - Recall: 0.9811\n",
            "2023-12-09 00:29:33,733 - root - INFO - F1 Score: 0.9806\n"
          ]
        },
        {
          "output_type": "stream",
          "name": "stdout",
          "text": [
            "FOLD 9\n",
            "--------------------------------\n",
            "AttentionLSTM(\n",
            "  (lstm): LSTM(1, 128, num_layers=2, batch_first=True)\n",
            "  (attention): SelfAttention(\n",
            "    (query): Linear(in_features=128, out_features=128, bias=True)\n",
            "    (key): Linear(in_features=128, out_features=128, bias=True)\n",
            "    (value): Linear(in_features=128, out_features=128, bias=True)\n",
            "  )\n",
            "  (fc): Linear(in_features=128, out_features=5, bias=True)\n",
            ")\n",
            "Epoch [1/10], Step [100/3079], Loss: 0.7808\n",
            "Epoch [1/10], Step [200/3079], Loss: 0.8948\n",
            "Epoch [1/10], Step [300/3079], Loss: 0.3399\n",
            "Epoch [1/10], Step [400/3079], Loss: 0.6714\n",
            "Epoch [1/10], Step [500/3079], Loss: 1.0670\n",
            "Epoch [1/10], Step [600/3079], Loss: 0.2983\n",
            "Epoch [1/10], Step [700/3079], Loss: 0.5101\n",
            "Epoch [1/10], Step [800/3079], Loss: 0.8651\n",
            "Epoch [1/10], Step [900/3079], Loss: 0.4338\n",
            "Epoch [1/10], Step [1000/3079], Loss: 0.7021\n",
            "Epoch [1/10], Step [1100/3079], Loss: 0.4011\n",
            "Epoch [1/10], Step [1200/3079], Loss: 0.4222\n",
            "Epoch [1/10], Step [1300/3079], Loss: 0.1608\n",
            "Epoch [1/10], Step [1400/3079], Loss: 0.2815\n",
            "Epoch [1/10], Step [1500/3079], Loss: 0.2415\n",
            "Epoch [1/10], Step [1600/3079], Loss: 0.1562\n",
            "Epoch [1/10], Step [1700/3079], Loss: 0.4026\n",
            "Epoch [1/10], Step [1800/3079], Loss: 0.5675\n",
            "Epoch [1/10], Step [1900/3079], Loss: 0.1733\n",
            "Epoch [1/10], Step [2000/3079], Loss: 0.2466\n",
            "Epoch [1/10], Step [2100/3079], Loss: 0.1393\n",
            "Epoch [1/10], Step [2200/3079], Loss: 0.3066\n",
            "Epoch [1/10], Step [2300/3079], Loss: 0.3828\n",
            "Epoch [1/10], Step [2400/3079], Loss: 0.5417\n",
            "Epoch [1/10], Step [2500/3079], Loss: 0.1510\n",
            "Epoch [1/10], Step [2600/3079], Loss: 0.1481\n",
            "Epoch [1/10], Step [2700/3079], Loss: 0.3009\n",
            "Epoch [1/10], Step [2800/3079], Loss: 0.5293\n",
            "Epoch [1/10], Step [2900/3079], Loss: 0.2569\n",
            "Epoch [1/10], Step [3000/3079], Loss: 0.1830\n"
          ]
        },
        {
          "output_type": "stream",
          "name": "stderr",
          "text": [
            "2023-12-09 00:29:50,163 - root - INFO - Accuracy: 92.43%\n",
            "2023-12-09 00:29:50,164 - root - INFO - Precision: 0.9170\n",
            "2023-12-09 00:29:50,165 - root - INFO - Recall: 0.9243\n",
            "2023-12-09 00:29:50,166 - root - INFO - F1 Score: 0.9076\n"
          ]
        },
        {
          "output_type": "stream",
          "name": "stdout",
          "text": [
            "Epoch [2/10], Step [100/3079], Loss: 0.2165\n",
            "Epoch [2/10], Step [200/3079], Loss: 0.2583\n",
            "Epoch [2/10], Step [300/3079], Loss: 0.0978\n",
            "Epoch [2/10], Step [400/3079], Loss: 0.7429\n",
            "Epoch [2/10], Step [500/3079], Loss: 0.2294\n",
            "Epoch [2/10], Step [600/3079], Loss: 0.3452\n",
            "Epoch [2/10], Step [700/3079], Loss: 0.3993\n",
            "Epoch [2/10], Step [800/3079], Loss: 0.2082\n",
            "Epoch [2/10], Step [900/3079], Loss: 0.5159\n",
            "Epoch [2/10], Step [1000/3079], Loss: 0.2493\n",
            "Epoch [2/10], Step [1100/3079], Loss: 0.4189\n",
            "Epoch [2/10], Step [1200/3079], Loss: 0.1001\n",
            "Epoch [2/10], Step [1300/3079], Loss: 0.0351\n",
            "Epoch [2/10], Step [1400/3079], Loss: 0.3205\n",
            "Epoch [2/10], Step [1500/3079], Loss: 0.1987\n",
            "Epoch [2/10], Step [1600/3079], Loss: 0.1826\n",
            "Epoch [2/10], Step [1700/3079], Loss: 0.2146\n",
            "Epoch [2/10], Step [1800/3079], Loss: 0.1952\n",
            "Epoch [2/10], Step [1900/3079], Loss: 0.1332\n",
            "Epoch [2/10], Step [2000/3079], Loss: 0.3055\n",
            "Epoch [2/10], Step [2100/3079], Loss: 0.4108\n",
            "Epoch [2/10], Step [2200/3079], Loss: 0.2841\n",
            "Epoch [2/10], Step [2300/3079], Loss: 0.2655\n",
            "Epoch [2/10], Step [2400/3079], Loss: 0.3206\n",
            "Epoch [2/10], Step [2500/3079], Loss: 0.0871\n",
            "Epoch [2/10], Step [2600/3079], Loss: 0.0873\n",
            "Epoch [2/10], Step [2700/3079], Loss: 0.1478\n",
            "Epoch [2/10], Step [2800/3079], Loss: 0.0444\n",
            "Epoch [2/10], Step [2900/3079], Loss: 0.0637\n",
            "Epoch [2/10], Step [3000/3079], Loss: 0.3156\n"
          ]
        },
        {
          "output_type": "stream",
          "name": "stderr",
          "text": [
            "2023-12-09 00:30:06,794 - root - INFO - Accuracy: 94.54%\n",
            "2023-12-09 00:30:06,795 - root - INFO - Precision: 0.9432\n",
            "2023-12-09 00:30:06,796 - root - INFO - Recall: 0.9454\n",
            "2023-12-09 00:30:06,797 - root - INFO - F1 Score: 0.9402\n"
          ]
        },
        {
          "output_type": "stream",
          "name": "stdout",
          "text": [
            "Epoch [3/10], Step [100/3079], Loss: 0.0720\n",
            "Epoch [3/10], Step [200/3079], Loss: 0.1302\n",
            "Epoch [3/10], Step [300/3079], Loss: 0.3203\n",
            "Epoch [3/10], Step [400/3079], Loss: 0.1297\n",
            "Epoch [3/10], Step [500/3079], Loss: 0.2873\n",
            "Epoch [3/10], Step [600/3079], Loss: 0.3005\n",
            "Epoch [3/10], Step [700/3079], Loss: 0.1665\n",
            "Epoch [3/10], Step [800/3079], Loss: 0.0577\n",
            "Epoch [3/10], Step [900/3079], Loss: 0.2735\n",
            "Epoch [3/10], Step [1000/3079], Loss: 0.2499\n",
            "Epoch [3/10], Step [1100/3079], Loss: 0.0803\n",
            "Epoch [3/10], Step [1200/3079], Loss: 0.1399\n",
            "Epoch [3/10], Step [1300/3079], Loss: 0.1086\n",
            "Epoch [3/10], Step [1400/3079], Loss: 0.3299\n",
            "Epoch [3/10], Step [1500/3079], Loss: 0.0772\n",
            "Epoch [3/10], Step [1600/3079], Loss: 0.4772\n",
            "Epoch [3/10], Step [1700/3079], Loss: 0.1679\n",
            "Epoch [3/10], Step [1800/3079], Loss: 0.0892\n",
            "Epoch [3/10], Step [1900/3079], Loss: 0.0457\n",
            "Epoch [3/10], Step [2000/3079], Loss: 0.0852\n",
            "Epoch [3/10], Step [2100/3079], Loss: 0.1307\n",
            "Epoch [3/10], Step [2200/3079], Loss: 0.4907\n",
            "Epoch [3/10], Step [2300/3079], Loss: 0.1443\n",
            "Epoch [3/10], Step [2400/3079], Loss: 0.0618\n",
            "Epoch [3/10], Step [2500/3079], Loss: 0.2790\n",
            "Epoch [3/10], Step [2600/3079], Loss: 0.1736\n",
            "Epoch [3/10], Step [2700/3079], Loss: 0.2707\n",
            "Epoch [3/10], Step [2800/3079], Loss: 0.2534\n",
            "Epoch [3/10], Step [2900/3079], Loss: 0.0404\n",
            "Epoch [3/10], Step [3000/3079], Loss: 0.4420\n"
          ]
        },
        {
          "output_type": "stream",
          "name": "stderr",
          "text": [
            "2023-12-09 00:30:23,477 - root - INFO - Accuracy: 95.91%\n",
            "2023-12-09 00:30:23,479 - root - INFO - Precision: 0.9580\n",
            "2023-12-09 00:30:23,480 - root - INFO - Recall: 0.9591\n",
            "2023-12-09 00:30:23,481 - root - INFO - F1 Score: 0.9556\n"
          ]
        },
        {
          "output_type": "stream",
          "name": "stdout",
          "text": [
            "Epoch [4/10], Step [100/3079], Loss: 0.4211\n",
            "Epoch [4/10], Step [200/3079], Loss: 0.1145\n",
            "Epoch [4/10], Step [300/3079], Loss: 0.0182\n",
            "Epoch [4/10], Step [400/3079], Loss: 0.1627\n",
            "Epoch [4/10], Step [500/3079], Loss: 0.2337\n",
            "Epoch [4/10], Step [600/3079], Loss: 0.0405\n",
            "Epoch [4/10], Step [700/3079], Loss: 0.3896\n",
            "Epoch [4/10], Step [800/3079], Loss: 0.1052\n",
            "Epoch [4/10], Step [900/3079], Loss: 0.0369\n",
            "Epoch [4/10], Step [1000/3079], Loss: 0.0690\n",
            "Epoch [4/10], Step [1100/3079], Loss: 0.4844\n",
            "Epoch [4/10], Step [1200/3079], Loss: 0.0281\n",
            "Epoch [4/10], Step [1300/3079], Loss: 0.3928\n",
            "Epoch [4/10], Step [1400/3079], Loss: 0.2374\n",
            "Epoch [4/10], Step [1500/3079], Loss: 0.0467\n",
            "Epoch [4/10], Step [1600/3079], Loss: 0.0394\n",
            "Epoch [4/10], Step [1700/3079], Loss: 0.1218\n",
            "Epoch [4/10], Step [1800/3079], Loss: 0.0478\n",
            "Epoch [4/10], Step [1900/3079], Loss: 0.1692\n",
            "Epoch [4/10], Step [2000/3079], Loss: 0.0347\n",
            "Epoch [4/10], Step [2100/3079], Loss: 0.1363\n",
            "Epoch [4/10], Step [2200/3079], Loss: 0.1752\n",
            "Epoch [4/10], Step [2300/3079], Loss: 0.3170\n",
            "Epoch [4/10], Step [2400/3079], Loss: 0.1389\n",
            "Epoch [4/10], Step [2500/3079], Loss: 0.5125\n",
            "Epoch [4/10], Step [2600/3079], Loss: 0.0341\n",
            "Epoch [4/10], Step [2700/3079], Loss: 0.0365\n",
            "Epoch [4/10], Step [2800/3079], Loss: 0.0384\n",
            "Epoch [4/10], Step [2900/3079], Loss: 0.0412\n",
            "Epoch [4/10], Step [3000/3079], Loss: 0.0327\n"
          ]
        },
        {
          "output_type": "stream",
          "name": "stderr",
          "text": [
            "2023-12-09 00:30:40,163 - root - INFO - Accuracy: 97.16%\n",
            "2023-12-09 00:30:40,164 - root - INFO - Precision: 0.9716\n",
            "2023-12-09 00:30:40,165 - root - INFO - Recall: 0.9716\n",
            "2023-12-09 00:30:40,166 - root - INFO - F1 Score: 0.9705\n"
          ]
        },
        {
          "output_type": "stream",
          "name": "stdout",
          "text": [
            "Epoch [5/10], Step [100/3079], Loss: 0.0142\n",
            "Epoch [5/10], Step [200/3079], Loss: 0.0588\n",
            "Epoch [5/10], Step [300/3079], Loss: 0.2803\n",
            "Epoch [5/10], Step [400/3079], Loss: 0.1042\n",
            "Epoch [5/10], Step [500/3079], Loss: 0.1526\n",
            "Epoch [5/10], Step [600/3079], Loss: 0.1081\n",
            "Epoch [5/10], Step [700/3079], Loss: 0.1462\n",
            "Epoch [5/10], Step [800/3079], Loss: 0.1113\n",
            "Epoch [5/10], Step [900/3079], Loss: 0.0163\n",
            "Epoch [5/10], Step [1000/3079], Loss: 0.2984\n",
            "Epoch [5/10], Step [1100/3079], Loss: 0.0681\n",
            "Epoch [5/10], Step [1200/3079], Loss: 0.2477\n",
            "Epoch [5/10], Step [1300/3079], Loss: 0.1601\n",
            "Epoch [5/10], Step [1400/3079], Loss: 0.0157\n",
            "Epoch [5/10], Step [1500/3079], Loss: 0.1163\n",
            "Epoch [5/10], Step [1600/3079], Loss: 0.0428\n",
            "Epoch [5/10], Step [1700/3079], Loss: 0.1781\n",
            "Epoch [5/10], Step [1800/3079], Loss: 0.0356\n",
            "Epoch [5/10], Step [1900/3079], Loss: 0.0216\n",
            "Epoch [5/10], Step [2000/3079], Loss: 0.0280\n",
            "Epoch [5/10], Step [2100/3079], Loss: 0.2159\n",
            "Epoch [5/10], Step [2200/3079], Loss: 0.0468\n",
            "Epoch [5/10], Step [2300/3079], Loss: 0.0113\n",
            "Epoch [5/10], Step [2400/3079], Loss: 0.0961\n",
            "Epoch [5/10], Step [2500/3079], Loss: 0.0686\n",
            "Epoch [5/10], Step [2600/3079], Loss: 0.0376\n",
            "Epoch [5/10], Step [2700/3079], Loss: 0.0348\n",
            "Epoch [5/10], Step [2800/3079], Loss: 0.0210\n",
            "Epoch [5/10], Step [2900/3079], Loss: 0.0971\n",
            "Epoch [5/10], Step [3000/3079], Loss: 0.0267\n"
          ]
        },
        {
          "output_type": "stream",
          "name": "stderr",
          "text": [
            "2023-12-09 00:30:56,784 - root - INFO - Accuracy: 97.30%\n",
            "2023-12-09 00:30:56,785 - root - INFO - Precision: 0.9732\n",
            "2023-12-09 00:30:56,786 - root - INFO - Recall: 0.9730\n",
            "2023-12-09 00:30:56,787 - root - INFO - F1 Score: 0.9713\n"
          ]
        },
        {
          "output_type": "stream",
          "name": "stdout",
          "text": [
            "Epoch [6/10], Step [100/3079], Loss: 0.1961\n",
            "Epoch [6/10], Step [200/3079], Loss: 0.0191\n",
            "Epoch [6/10], Step [300/3079], Loss: 0.0238\n",
            "Epoch [6/10], Step [400/3079], Loss: 0.0922\n",
            "Epoch [6/10], Step [500/3079], Loss: 0.1220\n",
            "Epoch [6/10], Step [600/3079], Loss: 0.1432\n",
            "Epoch [6/10], Step [700/3079], Loss: 0.0549\n",
            "Epoch [6/10], Step [800/3079], Loss: 0.0456\n",
            "Epoch [6/10], Step [900/3079], Loss: 0.0901\n",
            "Epoch [6/10], Step [1000/3079], Loss: 0.0107\n",
            "Epoch [6/10], Step [1100/3079], Loss: 0.0415\n",
            "Epoch [6/10], Step [1200/3079], Loss: 0.0235\n",
            "Epoch [6/10], Step [1300/3079], Loss: 0.0304\n",
            "Epoch [6/10], Step [1400/3079], Loss: 0.1531\n",
            "Epoch [6/10], Step [1500/3079], Loss: 0.1431\n",
            "Epoch [6/10], Step [1600/3079], Loss: 0.1137\n",
            "Epoch [6/10], Step [1700/3079], Loss: 0.2000\n",
            "Epoch [6/10], Step [1800/3079], Loss: 0.0167\n",
            "Epoch [6/10], Step [1900/3079], Loss: 0.0102\n",
            "Epoch [6/10], Step [2000/3079], Loss: 0.1781\n",
            "Epoch [6/10], Step [2100/3079], Loss: 0.0563\n",
            "Epoch [6/10], Step [2200/3079], Loss: 0.1161\n",
            "Epoch [6/10], Step [2300/3079], Loss: 0.0858\n",
            "Epoch [6/10], Step [2400/3079], Loss: 0.1070\n",
            "Epoch [6/10], Step [2500/3079], Loss: 0.0882\n",
            "Epoch [6/10], Step [2600/3079], Loss: 0.0194\n",
            "Epoch [6/10], Step [2700/3079], Loss: 0.3453\n",
            "Epoch [6/10], Step [2800/3079], Loss: 0.0311\n",
            "Epoch [6/10], Step [2900/3079], Loss: 0.1178\n",
            "Epoch [6/10], Step [3000/3079], Loss: 0.0195\n"
          ]
        },
        {
          "output_type": "stream",
          "name": "stderr",
          "text": [
            "2023-12-09 00:31:13,432 - root - INFO - Accuracy: 97.51%\n",
            "2023-12-09 00:31:13,433 - root - INFO - Precision: 0.9744\n",
            "2023-12-09 00:31:13,435 - root - INFO - Recall: 0.9751\n",
            "2023-12-09 00:31:13,436 - root - INFO - F1 Score: 0.9739\n"
          ]
        },
        {
          "output_type": "stream",
          "name": "stdout",
          "text": [
            "Epoch [7/10], Step [100/3079], Loss: 0.0330\n",
            "Epoch [7/10], Step [200/3079], Loss: 0.0986\n",
            "Epoch [7/10], Step [300/3079], Loss: 0.0096\n",
            "Epoch [7/10], Step [400/3079], Loss: 0.1310\n",
            "Epoch [7/10], Step [500/3079], Loss: 0.1120\n",
            "Epoch [7/10], Step [600/3079], Loss: 0.0071\n",
            "Epoch [7/10], Step [700/3079], Loss: 0.0996\n",
            "Epoch [7/10], Step [800/3079], Loss: 0.0333\n",
            "Epoch [7/10], Step [900/3079], Loss: 0.0601\n",
            "Epoch [7/10], Step [1000/3079], Loss: 0.1883\n",
            "Epoch [7/10], Step [1100/3079], Loss: 0.0943\n",
            "Epoch [7/10], Step [1200/3079], Loss: 0.0117\n",
            "Epoch [7/10], Step [1300/3079], Loss: 0.2089\n",
            "Epoch [7/10], Step [1400/3079], Loss: 0.0321\n",
            "Epoch [7/10], Step [1500/3079], Loss: 0.0847\n",
            "Epoch [7/10], Step [1600/3079], Loss: 0.0094\n",
            "Epoch [7/10], Step [1700/3079], Loss: 0.0208\n",
            "Epoch [7/10], Step [1800/3079], Loss: 0.0437\n",
            "Epoch [7/10], Step [1900/3079], Loss: 0.0193\n",
            "Epoch [7/10], Step [2000/3079], Loss: 0.0092\n",
            "Epoch [7/10], Step [2100/3079], Loss: 0.0121\n",
            "Epoch [7/10], Step [2200/3079], Loss: 0.0918\n",
            "Epoch [7/10], Step [2300/3079], Loss: 0.1323\n",
            "Epoch [7/10], Step [2400/3079], Loss: 0.0485\n",
            "Epoch [7/10], Step [2500/3079], Loss: 0.0756\n",
            "Epoch [7/10], Step [2600/3079], Loss: 0.2592\n",
            "Epoch [7/10], Step [2700/3079], Loss: 0.0038\n",
            "Epoch [7/10], Step [2800/3079], Loss: 0.0842\n",
            "Epoch [7/10], Step [2900/3079], Loss: 0.0163\n",
            "Epoch [7/10], Step [3000/3079], Loss: 0.0076\n"
          ]
        },
        {
          "output_type": "stream",
          "name": "stderr",
          "text": [
            "2023-12-09 00:31:30,331 - root - INFO - Accuracy: 97.79%\n",
            "2023-12-09 00:31:30,332 - root - INFO - Precision: 0.9773\n",
            "2023-12-09 00:31:30,333 - root - INFO - Recall: 0.9779\n",
            "2023-12-09 00:31:30,335 - root - INFO - F1 Score: 0.9768\n"
          ]
        },
        {
          "output_type": "stream",
          "name": "stdout",
          "text": [
            "Epoch [8/10], Step [100/3079], Loss: 0.0042\n",
            "Epoch [8/10], Step [200/3079], Loss: 0.0196\n",
            "Epoch [8/10], Step [300/3079], Loss: 0.0345\n",
            "Epoch [8/10], Step [400/3079], Loss: 0.3071\n",
            "Epoch [8/10], Step [500/3079], Loss: 0.2628\n",
            "Epoch [8/10], Step [600/3079], Loss: 0.0248\n",
            "Epoch [8/10], Step [700/3079], Loss: 0.0079\n",
            "Epoch [8/10], Step [800/3079], Loss: 0.1378\n",
            "Epoch [8/10], Step [900/3079], Loss: 0.1710\n",
            "Epoch [8/10], Step [1000/3079], Loss: 0.0353\n",
            "Epoch [8/10], Step [1100/3079], Loss: 0.0304\n",
            "Epoch [8/10], Step [1200/3079], Loss: 0.0108\n",
            "Epoch [8/10], Step [1300/3079], Loss: 0.0185\n",
            "Epoch [8/10], Step [1400/3079], Loss: 0.1595\n",
            "Epoch [8/10], Step [1500/3079], Loss: 0.3411\n",
            "Epoch [8/10], Step [1600/3079], Loss: 0.0015\n",
            "Epoch [8/10], Step [1700/3079], Loss: 0.0071\n",
            "Epoch [8/10], Step [1800/3079], Loss: 0.0082\n",
            "Epoch [8/10], Step [1900/3079], Loss: 0.2314\n",
            "Epoch [8/10], Step [2000/3079], Loss: 0.1465\n",
            "Epoch [8/10], Step [2100/3079], Loss: 0.0615\n",
            "Epoch [8/10], Step [2200/3079], Loss: 0.1942\n",
            "Epoch [8/10], Step [2300/3079], Loss: 0.4471\n",
            "Epoch [8/10], Step [2400/3079], Loss: 0.0033\n",
            "Epoch [8/10], Step [2500/3079], Loss: 0.2316\n",
            "Epoch [8/10], Step [2600/3079], Loss: 0.0525\n",
            "Epoch [8/10], Step [2700/3079], Loss: 0.0114\n",
            "Epoch [8/10], Step [2800/3079], Loss: 0.0057\n",
            "Epoch [8/10], Step [2900/3079], Loss: 0.1034\n",
            "Epoch [8/10], Step [3000/3079], Loss: 0.0731\n"
          ]
        },
        {
          "output_type": "stream",
          "name": "stderr",
          "text": [
            "2023-12-09 00:31:47,392 - root - INFO - Accuracy: 97.76%\n",
            "2023-12-09 00:31:47,394 - root - INFO - Precision: 0.9771\n",
            "2023-12-09 00:31:47,395 - root - INFO - Recall: 0.9776\n",
            "2023-12-09 00:31:47,396 - root - INFO - F1 Score: 0.9767\n"
          ]
        },
        {
          "output_type": "stream",
          "name": "stdout",
          "text": [
            "Epoch [9/10], Step [100/3079], Loss: 0.1590\n",
            "Epoch [9/10], Step [200/3079], Loss: 0.0406\n",
            "Epoch [9/10], Step [300/3079], Loss: 0.0326\n",
            "Epoch [9/10], Step [400/3079], Loss: 0.0096\n",
            "Epoch [9/10], Step [500/3079], Loss: 0.0019\n",
            "Epoch [9/10], Step [600/3079], Loss: 0.1240\n",
            "Epoch [9/10], Step [700/3079], Loss: 0.0170\n",
            "Epoch [9/10], Step [800/3079], Loss: 0.0097\n",
            "Epoch [9/10], Step [900/3079], Loss: 0.0084\n",
            "Epoch [9/10], Step [1000/3079], Loss: 0.1999\n",
            "Epoch [9/10], Step [1100/3079], Loss: 0.1435\n",
            "Epoch [9/10], Step [1200/3079], Loss: 0.1749\n",
            "Epoch [9/10], Step [1300/3079], Loss: 0.0636\n",
            "Epoch [9/10], Step [1400/3079], Loss: 0.3290\n",
            "Epoch [9/10], Step [1500/3079], Loss: 0.0144\n",
            "Epoch [9/10], Step [1600/3079], Loss: 0.0466\n",
            "Epoch [9/10], Step [1700/3079], Loss: 0.0177\n",
            "Epoch [9/10], Step [1800/3079], Loss: 0.0451\n",
            "Epoch [9/10], Step [1900/3079], Loss: 0.0315\n",
            "Epoch [9/10], Step [2000/3079], Loss: 0.0160\n",
            "Epoch [9/10], Step [2100/3079], Loss: 0.0374\n",
            "Epoch [9/10], Step [2200/3079], Loss: 0.0257\n",
            "Epoch [9/10], Step [2300/3079], Loss: 0.0411\n",
            "Epoch [9/10], Step [2400/3079], Loss: 0.0190\n",
            "Epoch [9/10], Step [2500/3079], Loss: 0.0072\n",
            "Epoch [9/10], Step [2600/3079], Loss: 0.4108\n",
            "Epoch [9/10], Step [2700/3079], Loss: 0.0106\n",
            "Epoch [9/10], Step [2800/3079], Loss: 0.0829\n",
            "Epoch [9/10], Step [2900/3079], Loss: 0.0377\n",
            "Epoch [9/10], Step [3000/3079], Loss: 0.0103\n"
          ]
        },
        {
          "output_type": "stream",
          "name": "stderr",
          "text": [
            "2023-12-09 00:32:03,996 - root - INFO - Accuracy: 96.80%\n",
            "2023-12-09 00:32:03,997 - root - INFO - Precision: 0.9723\n",
            "2023-12-09 00:32:03,998 - root - INFO - Recall: 0.9680\n",
            "2023-12-09 00:32:03,999 - root - INFO - F1 Score: 0.9697\n"
          ]
        },
        {
          "output_type": "stream",
          "name": "stdout",
          "text": [
            "Epoch [10/10], Step [100/3079], Loss: 0.0060\n",
            "Epoch [10/10], Step [200/3079], Loss: 0.0102\n",
            "Epoch [10/10], Step [300/3079], Loss: 0.2836\n",
            "Epoch [10/10], Step [400/3079], Loss: 0.1460\n",
            "Epoch [10/10], Step [500/3079], Loss: 0.1538\n",
            "Epoch [10/10], Step [600/3079], Loss: 0.0298\n",
            "Epoch [10/10], Step [700/3079], Loss: 0.2920\n",
            "Epoch [10/10], Step [800/3079], Loss: 0.0579\n",
            "Epoch [10/10], Step [900/3079], Loss: 0.1515\n",
            "Epoch [10/10], Step [1000/3079], Loss: 0.0053\n",
            "Epoch [10/10], Step [1100/3079], Loss: 0.1382\n",
            "Epoch [10/10], Step [1200/3079], Loss: 0.0045\n",
            "Epoch [10/10], Step [1300/3079], Loss: 0.2790\n",
            "Epoch [10/10], Step [1400/3079], Loss: 0.0178\n",
            "Epoch [10/10], Step [1500/3079], Loss: 0.1644\n",
            "Epoch [10/10], Step [1600/3079], Loss: 0.0098\n",
            "Epoch [10/10], Step [1700/3079], Loss: 0.0066\n",
            "Epoch [10/10], Step [1800/3079], Loss: 0.0020\n",
            "Epoch [10/10], Step [1900/3079], Loss: 0.0122\n",
            "Epoch [10/10], Step [2000/3079], Loss: 0.1992\n",
            "Epoch [10/10], Step [2100/3079], Loss: 0.0673\n",
            "Epoch [10/10], Step [2200/3079], Loss: 0.0332\n",
            "Epoch [10/10], Step [2300/3079], Loss: 0.0279\n",
            "Epoch [10/10], Step [2400/3079], Loss: 0.0450\n",
            "Epoch [10/10], Step [2500/3079], Loss: 0.0235\n",
            "Epoch [10/10], Step [2600/3079], Loss: 0.0785\n",
            "Epoch [10/10], Step [2700/3079], Loss: 0.0350\n",
            "Epoch [10/10], Step [2800/3079], Loss: 0.0053\n",
            "Epoch [10/10], Step [2900/3079], Loss: 0.0212\n",
            "Epoch [10/10], Step [3000/3079], Loss: 0.0420\n"
          ]
        },
        {
          "output_type": "stream",
          "name": "stderr",
          "text": [
            "2023-12-09 00:32:20,743 - root - INFO - Accuracy: 97.91%\n",
            "2023-12-09 00:32:20,744 - root - INFO - Precision: 0.9784\n",
            "2023-12-09 00:32:20,745 - root - INFO - Recall: 0.9791\n",
            "2023-12-09 00:32:20,746 - root - INFO - F1 Score: 0.9781\n"
          ]
        },
        {
          "output_type": "stream",
          "name": "stdout",
          "text": [
            "Epoch 1 - Avg Accuracy: 0.9213219681942407, Avg Precision: 0.9100878350593196, Avg Recall: 0.9213219681942407, Avg F1 Score: 0.9060029926124693, Avg Loss: 0.45596818526881316\n",
            "Epoch 2 - Avg Accuracy: 0.9453702841025968, Avg Precision: 0.9420001692799742, Avg Recall: 0.9453702841025968, Avg F1 Score: 0.9378894906971833, Avg Loss: 0.2366306575990747\n",
            "Epoch 3 - Avg Accuracy: 0.9585366066443328, Avg Precision: 0.9575515956472994, Avg Recall: 0.9585366066443328, Avg F1 Score: 0.9550077219687267, Avg Loss: 0.16685302269014524\n",
            "Epoch 4 - Avg Accuracy: 0.967381169203273, Avg Precision: 0.9667418483227088, Avg Recall: 0.967381169203273, Avg F1 Score: 0.964964315433717, Avg Loss: 0.13250749065469575\n",
            "Epoch 5 - Avg Accuracy: 0.9699943923164467, Avg Precision: 0.9694976018722322, Avg Recall: 0.9699943923164467, Avg F1 Score: 0.9686293574011021, Avg Loss: 0.11269809157599989\n",
            "Epoch 6 - Avg Accuracy: 0.9734572416842319, Avg Precision: 0.9727560371581501, Avg Recall: 0.9734572416842319, Avg F1 Score: 0.9720610895814122, Avg Loss: 0.10012812373371971\n",
            "Epoch 7 - Avg Accuracy: 0.9752298231922504, Avg Precision: 0.9748588155457438, Avg Recall: 0.9752298231922504, Avg F1 Score: 0.9742775814874047, Avg Loss: 0.0911352456459772\n",
            "Epoch 8 - Avg Accuracy: 0.9768287702133742, Avg Precision: 0.9764202959363761, Avg Recall: 0.9768287702133742, Avg F1 Score: 0.9758775878242341, Avg Loss: 0.08433021168297221\n",
            "Epoch 9 - Avg Accuracy: 0.9762439314795668, Avg Precision: 0.9763560592251693, Avg Recall: 0.9762439314795668, Avg F1 Score: 0.9754460698663326, Avg Loss: 0.07822082131867794\n",
            "Epoch 10 - Avg Accuracy: 0.9779069490194194, Avg Precision: 0.9776014836848269, Avg Recall: 0.9779069490194194, Avg F1 Score: 0.9769088823098373, Avg Loss: 0.07412597334907188\n"
          ]
        }
      ],
      "source": [
        "epoch_acc, epoch_prc, epoch_rec, epoch_f1, epoch_losses = [], [], [], [], []\n",
        "\n",
        "for fold, (train_ids, test_ids) in enumerate(kfold.split(dataset, dataset_y)):\n",
        "    print(f\"FOLD {fold}\")\n",
        "    print(\"--------------------------------\")\n",
        "\n",
        "    # store metrics of each fold\n",
        "    accuracies, precisions, recalls, f1_scores, losses = [], [], [], [], []\n",
        "\n",
        "    # split data\n",
        "    train_subsampler = torch.utils.data.SubsetRandomSampler(train_ids)\n",
        "    test_subsampler = torch.utils.data.SubsetRandomSampler(test_ids)\n",
        "\n",
        "    # data loaders for training and testing data in this fold\n",
        "    train_loader = DataLoader(dataset, batch_size=batch_size, sampler=train_subsampler)\n",
        "    test_loader = DataLoader(dataset, batch_size=batch_size, sampler=test_subsampler)\n",
        "\n",
        "    # set parameters\n",
        "    input_dim = 1         # ECG data is univariate, so the input dimension is 1\n",
        "    hidden_dim = 128\n",
        "    num_layers = 2\n",
        "    num_classes = 5\n",
        "\n",
        "    # initialize model for this fold\n",
        "    model = AttentionLSTM(input_dim, hidden_dim, num_layers, num_classes)\n",
        "    model.to(device)\n",
        "    print(model)\n",
        "\n",
        "    # loss function and optimizer\n",
        "    criterion = nn.CrossEntropyLoss()\n",
        "    optimizer = optim.Adam(model.parameters(), lr=0.001)\n",
        "\n",
        "\n",
        "    # train\n",
        "    for epoch in range(num_epochs):\n",
        "        model.train()\n",
        "        batch_losses = []\n",
        "\n",
        "        for i, (inputs, labels) in enumerate(train_loader):\n",
        "            inputs, labels = inputs.to(device), labels.to(device)\n",
        "\n",
        "            optimizer.zero_grad()\n",
        "            outputs = model(inputs)\n",
        "            loss = criterion(outputs, labels)\n",
        "            loss.backward()\n",
        "            optimizer.step()\n",
        "\n",
        "            batch_losses.append(loss.item())\n",
        "\n",
        "            if (i+1) % 100 == 0:\n",
        "                print(f\"Epoch [{epoch+1}/{num_epochs}], Step [{i+1}/{len(train_loader)}], Loss: {loss.item():.4f}\")\n",
        "\n",
        "        # store metrics\n",
        "        accuracy, precision, recall, f1, _, _ = evaluate(model, test_loader)\n",
        "        accuracies.append(accuracy)\n",
        "        precisions.append(precision)\n",
        "        recalls.append(recall)\n",
        "        f1_scores.append(f1)\n",
        "\n",
        "        # Accumulate metrics for each epoch across folds\n",
        "        if fold == 0:\n",
        "            # Initialize lists in the first fold\n",
        "            epoch_acc.append(accuracy)\n",
        "            epoch_prc.append(precision)\n",
        "            epoch_rec.append(recall)\n",
        "            epoch_f1.append(f1)\n",
        "            epoch_losses.append(batch_losses)\n",
        "        else:\n",
        "            # Add to existing totals for subsequent folds\n",
        "            epoch_acc[epoch] += accuracy\n",
        "            epoch_prc[epoch] += precision\n",
        "            epoch_rec[epoch] += recall\n",
        "            epoch_f1[epoch] += f1\n",
        "            epoch_losses[epoch].extend(batch_losses)\n",
        "\n",
        "# Average metrics across all folds for each epoch\n",
        "epoch_acc = [x / k_folds for x in epoch_acc]\n",
        "epoch_prc = [x / k_folds for x in epoch_prc]\n",
        "epoch_rec = [x / k_folds for x in epoch_rec]\n",
        "epoch_f1 = [x / k_folds for x in epoch_f1]\n",
        "epoch_losses = [sum(x) / len(x) for x in epoch_losses]\n",
        "\n",
        "# Print average metrics for each epoch\n",
        "for epoch in range(num_epochs):\n",
        "    print(f\"Epoch {epoch+1} - Avg Accuracy: {epoch_acc[epoch]}, Avg Precision: {epoch_prc[epoch]}, Avg Recall: {epoch_rec[epoch]}, Avg F1 Score: {epoch_f1[epoch]}, Avg Loss: {epoch_losses[epoch]}\")"
      ]
    },
    {
      "cell_type": "code",
      "source": [
        "plot_metrics(epoch_acc, epoch_prc, epoch_rec, epoch_f1, epoch_losses, \"attention_lstm_metrics\")"
      ],
      "metadata": {
        "id": "AYp8-gXBdqMh"
      },
      "execution_count": null,
      "outputs": []
    },
    {
      "cell_type": "code",
      "source": [
        "import os\n",
        "import zipfile\n",
        "from google.colab import files\n",
        "\n",
        "exclude_dirs = {\n",
        "    \"/content/.config\",\n",
        "    \"/content/tsc_attention\",\n",
        "    \"/content/.config\",\n",
        "    \"/content/.ipynb_checkpoints\",\n",
        "    \"/content/sample_data\",\n",
        "}\n",
        "exclude_files = {\n",
        "    \"heartbeat.zip\",\n",
        "    \"kaggle.json\",\n",
        "    \"mitbih_test.csv\",\n",
        "    \"mitbih_train.csv\",\n",
        "    \"ptbdb_abnormal.csv\",\n",
        "    \"ptbdb_normal.csv\",\n",
        "    \"tsc_lstm_skf.zip\",\n",
        "}\n",
        "\n",
        "zip_filename = \"/content/tsc_lstm_skf.zip\"\n",
        "with zipfile.ZipFile(zip_filename, \"w\") as zipf:\n",
        "    for root, dirs, files_ in os.walk(\"/content\"):\n",
        "        dirs[:] = [d for d in dirs if os.path.join(root, d) not in exclude_dirs]\n",
        "\n",
        "        for file in files_:\n",
        "            if file not in exclude_files:\n",
        "                print(file)\n",
        "                file_path = os.path.join(root, file)\n",
        "                zipf.write(file_path)\n",
        "\n",
        "files.download(zip_filename)"
      ],
      "metadata": {
        "colab": {
          "base_uri": "https://localhost:8080/",
          "height": 88
        },
        "id": "AglkvU3SCwvm",
        "outputId": "b83b2bed-768e-4ad6-f4b6-822ef30a002e"
      },
      "execution_count": 14,
      "outputs": [
        {
          "metadata": {
            "tags": null
          },
          "name": "stdout",
          "output_type": "stream",
          "text": [
            "lstm_metrics.png\n",
            "attention_lstm_metrics.png\n"
          ]
        },
        {
          "data": {
            "application/javascript": [
              "\n",
              "    async function download(id, filename, size) {\n",
              "      if (!google.colab.kernel.accessAllowed) {\n",
              "        return;\n",
              "      }\n",
              "      const div = document.createElement('div');\n",
              "      const label = document.createElement('label');\n",
              "      label.textContent = `Downloading \"${filename}\": `;\n",
              "      div.appendChild(label);\n",
              "      const progress = document.createElement('progress');\n",
              "      progress.max = size;\n",
              "      div.appendChild(progress);\n",
              "      document.body.appendChild(div);\n",
              "\n",
              "      const buffers = [];\n",
              "      let downloaded = 0;\n",
              "\n",
              "      const channel = await google.colab.kernel.comms.open(id);\n",
              "      // Send a message to notify the kernel that we're ready.\n",
              "      channel.send({})\n",
              "\n",
              "      for await (const message of channel.messages) {\n",
              "        // Send a message to notify the kernel that we're ready.\n",
              "        channel.send({})\n",
              "        if (message.buffers) {\n",
              "          for (const buffer of message.buffers) {\n",
              "            buffers.push(buffer);\n",
              "            downloaded += buffer.byteLength;\n",
              "            progress.value = downloaded;\n",
              "          }\n",
              "        }\n",
              "      }\n",
              "      const blob = new Blob(buffers, {type: 'application/binary'});\n",
              "      const a = document.createElement('a');\n",
              "      a.href = window.URL.createObjectURL(blob);\n",
              "      a.download = filename;\n",
              "      div.appendChild(a);\n",
              "      a.click();\n",
              "      div.remove();\n",
              "    }\n",
              "  "
            ],
            "text/plain": [
              "<IPython.core.display.Javascript object>"
            ]
          },
          "metadata": {},
          "output_type": "display_data"
        },
        {
          "data": {
            "application/javascript": [
              "download(\"download_6bd06863-5568-4db0-b687-dd458dba63ac\", \"tsc_lstm_skf.zip\", 135101)"
            ],
            "text/plain": [
              "<IPython.core.display.Javascript object>"
            ]
          },
          "metadata": {},
          "output_type": "display_data"
        },
        {
          "output_type": "stream",
          "name": "stdout",
          "text": [
            "lstm_metrics.png\n",
            "attention_lstm_metrics.png\n"
          ]
        },
        {
          "output_type": "display_data",
          "data": {
            "text/plain": [
              "<IPython.core.display.Javascript object>"
            ],
            "application/javascript": [
              "\n",
              "    async function download(id, filename, size) {\n",
              "      if (!google.colab.kernel.accessAllowed) {\n",
              "        return;\n",
              "      }\n",
              "      const div = document.createElement('div');\n",
              "      const label = document.createElement('label');\n",
              "      label.textContent = `Downloading \"${filename}\": `;\n",
              "      div.appendChild(label);\n",
              "      const progress = document.createElement('progress');\n",
              "      progress.max = size;\n",
              "      div.appendChild(progress);\n",
              "      document.body.appendChild(div);\n",
              "\n",
              "      const buffers = [];\n",
              "      let downloaded = 0;\n",
              "\n",
              "      const channel = await google.colab.kernel.comms.open(id);\n",
              "      // Send a message to notify the kernel that we're ready.\n",
              "      channel.send({})\n",
              "\n",
              "      for await (const message of channel.messages) {\n",
              "        // Send a message to notify the kernel that we're ready.\n",
              "        channel.send({})\n",
              "        if (message.buffers) {\n",
              "          for (const buffer of message.buffers) {\n",
              "            buffers.push(buffer);\n",
              "            downloaded += buffer.byteLength;\n",
              "            progress.value = downloaded;\n",
              "          }\n",
              "        }\n",
              "      }\n",
              "      const blob = new Blob(buffers, {type: 'application/binary'});\n",
              "      const a = document.createElement('a');\n",
              "      a.href = window.URL.createObjectURL(blob);\n",
              "      a.download = filename;\n",
              "      div.appendChild(a);\n",
              "      a.click();\n",
              "      div.remove();\n",
              "    }\n",
              "  "
            ]
          },
          "metadata": {}
        },
        {
          "output_type": "display_data",
          "data": {
            "text/plain": [
              "<IPython.core.display.Javascript object>"
            ],
            "application/javascript": [
              "download(\"download_6bd06863-5568-4db0-b687-dd458dba63ac\", \"tsc_lstm_skf.zip\", 135101)"
            ]
          },
          "metadata": {}
        }
      ]
    }
  ],
  "metadata": {
    "accelerator": "GPU",
    "colab": {
      "machine_shape": "hm",
      "provenance": [],
      "gpuType": "V100"
    },
    "kernelspec": {
      "display_name": "Python 3",
      "name": "python3"
    },
    "language_info": {
      "name": "python"
    }
  },
  "nbformat": 4,
  "nbformat_minor": 0
}